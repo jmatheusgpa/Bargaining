{
 "cells": [
  {
   "cell_type": "markdown",
   "metadata": {},
   "source": [
    "## Solução para o jogo\n",
    "\n",
    "Modelo de Dou et al., 2020.\n",
    "\n"
   ]
  },
  {
   "cell_type": "code",
   "execution_count": 79,
   "metadata": {},
   "outputs": [],
   "source": [
    "#para mostrar todos os resultados e não apenas o último\n",
    "from IPython.core.interactiveshell import InteractiveShell\n",
    "\n",
    "InteractiveShell.ast_node_interactivity = \"all\""
   ]
  },
  {
   "cell_type": "code",
   "execution_count": 80,
   "metadata": {},
   "outputs": [],
   "source": [
    "#libraries\n",
    "import numpy as np\n",
    "from numba import jit, jitclass, njit, float64,  int32, char #para otimizar as funções\n",
    "import numba as nb\n",
    "import matplotlib as mpl\n",
    "import matplotlib.pyplot as plt\n",
    "%matplotlib inline\n",
    "import quantecon as qe\n",
    "from scipy.stats import beta\n",
    "\n",
    "from random import uniform #para a draw da uniforme(0,1)\n",
    "import math\n",
    "\n",
    "import time #tempo de computação\n"
   ]
  },
  {
   "cell_type": "code",
   "execution_count": 81,
   "metadata": {},
   "outputs": [],
   "source": [
    "#abre o site\n",
    "import webbrowser\n",
    "\n",
    "# webbrowser.open('https://www.labri.fr/perso/nrougier/from-python-to-numpy/')"
   ]
  },
  {
   "cell_type": "markdown",
   "metadata": {},
   "source": [
    "### Passo 0: definindo comandos do latex para facilitar a escrita\n",
    "\n",
    "Aqui também podemos descrever as funções do jogo\n",
    "\n",
    "$%conjunto de informações de s em t$\n",
    "$\\newcommand{\\Is}[1]{\\theta_{s{#1}}, l_{s{#1}}, l_{j{#1}}}$\n",
    "$%macros para facilitar a escrita de funções valor$\n",
    "\n",
    "\n",
    "$%conjunto de informações de j em t$\n",
    "$\\newcommand{\\Ij}[1]{\\theta_{j{#1}}, l_{s{#1}}, l_{j{#1}}}$\n",
    "\n",
    "$%função valor de s em t$\n",
    "$\\newcommand{\\Ws}[1]{ W_{s{#1}} ( \\Is{{#1}}) }$\n",
    "\n",
    "$%função valor de j em t$\n",
    "$\\newcommand{\\Wj}[1]{ W_{j{#1}} ( \\Ij{{#1}}) }$\n",
    "\n",
    "$%operador esperança de s em t. 2 argumentos: o primeiro é o período e o segundo é o termo que ela tira a esperança$\n",
    "\n",
    "$\\newcommand{\\Es}[2]{\\mathbb{E_{#1}^{s} \\big[ {#2}  \\mid ( \\Is{#1} )    \\big] }}$\n",
    "\n",
    "$%minúsculo não mostra o conjunto de informação$\n",
    "$\\newcommand{\\es}[2]{\\mathbb{E_{#1}^{s} \\big[ {#2}  \\big] }}$\n",
    "\n",
    "$%minúsculo não mostra o conjunto de informação$\n",
    "$%final b de big para aumentar os parênteses$\n",
    "$\\newcommand{\\esb}[2]{\\mathbb{E_{#1}^{s} \\bigg[ {#2}  \\bigg] }}$\n",
    "\n",
    "$%operador esperança de j em t. 2 argumentos: o primeiro é o período e o segundo é o termo que ela tira a esperança$\n",
    "\n",
    "$\\newcommand{\\Ej}[2]{\\mathbb{E_{#1}^{j} \\big[ {#2}  \\mid ( \\Ij{#1} )    \\big] }}$\n",
    "\n",
    "$%minúsculo não mostra o conjunto de informação$\n",
    "$\\newcommand{\\ej}[2]{\\mathbb{E_{#1}^{j} \\big[ {#2}  \\big] }}$\n",
    "\n",
    "$%minúsculo não mostra o conjunto de informação$\n",
    "$%final b para aumentar os parênteses$\n",
    "$\\newcommand{\\ejb}[2]{\\mathbb{E_{#1}^{j} \\bigg[ {#2}  \\bigg] }}$\n",
    "\n",
    "\n",
    "$%comando para usar o máximo com chaves grandes$\n",
    "$\\newcommand{\\maximo}[1]{\\max \\bigg\\{ #1 \\bigg\\}}$\n"
   ]
  },
  {
   "cell_type": "code",
   "execution_count": 82,
   "metadata": {},
   "outputs": [],
   "source": [
    "#parâmetros do jogo, apenas para ilustração a princípio\n",
    "#coloquei os mesmos parãmetros dos autores (Tabela 4). No caso dos dados, usei as médias (Panel B)\n",
    "\n",
    "\n",
    "\n",
    "\n",
    "\n",
    "μ = 4.566 #número de meses entre períodos, não entendi onde entra ainda\n",
    "# ρ = 0.884 # (1 - ρ) é a taxa de depreciação da empresa a cada período\n",
    "ρ = 0.5 #testando nova taxa de depreciação\n",
    "β = 9.84 #usamos aqui a distribuição Uniforme, depois vamos mudar isto\n",
    "c0 = 0.044 #custo fixo de ir para a corte\n",
    "c1 = 0.015 #custo variável de ir para a corte\n",
    "\n",
    "\n",
    "θ_s0 = 0.28 #habilidade inicial de s\n",
    "θ_j0 = 0.36 #habilidade inicial de j\n",
    "\n",
    "λj = 0.346 #probabilidade de j propor a cada turno. Não precisaremos estimar, isso virá dos dados"
   ]
  },
  {
   "cell_type": "code",
   "execution_count": 83,
   "metadata": {},
   "outputs": [],
   "source": [
    "#informações que virão dos dados\n",
    "\n",
    "#valores médios de L, Dj e Ds. Arredondei para duas casas decimais ao simular o modelo\n",
    "# 0.2493718592964824\n",
    "# 0.35113065326633164\n",
    "# 0.27701005025125625\n",
    "\n",
    "\n",
    "\n",
    "\n",
    "\n",
    "Vmax = 1\n",
    "L = 0.25\n",
    "\n",
    "#valores da dívida de cada jogador (virá dos dados, aqui é exemplo):\n",
    "Ds = 0.28\n",
    "Dj = 0.35\n"
   ]
  },
  {
   "cell_type": "markdown",
   "metadata": {},
   "source": [
    "### Passo 1: número máximo de turnos\n",
    "\n",
    "Calculado com base nos parâmetros\n",
    "\n",
    "\n",
    "t é tal que\n",
    "\n",
    "$$ \\rho^{t-1} V_{max} = L$$\n",
    "\n",
    "\n",
    "$$ t = \\frac{log(L) - log(V_{max})} {log(\\rho)} +1 $$"
   ]
  },
  {
   "cell_type": "code",
   "execution_count": 84,
   "metadata": {},
   "outputs": [],
   "source": [
    "#função para calcular o máximo de turnos do jogo\n",
    "def maximo_de_turnos(ρ, Vmax, L):\n",
    "    \n",
    "    T = (math.log(L) - math.log(Vmax))/math.log(ρ) + 1\n",
    "    \n",
    "    #arredonda para baixo porque queremos o último período no qual o valor de continuação é maior ou igual ao de liquidação\n",
    "    T = math.floor(T)\n",
    "        \n",
    "    return T\n",
    "\n",
    "T = maximo_de_turnos(ρ, Vmax, L)"
   ]
  },
  {
   "cell_type": "code",
   "execution_count": 85,
   "metadata": {},
   "outputs": [
    {
     "data": {
      "text/plain": [
       "3"
      ]
     },
     "execution_count": 85,
     "metadata": {},
     "output_type": "execute_result"
    }
   ],
   "source": [
    "T"
   ]
  },
  {
   "cell_type": "code",
   "execution_count": 86,
   "metadata": {},
   "outputs": [],
   "source": [
    "#valor máximo de reorganização da firma a cada período\n",
    "\n",
    "\n",
    "#sequência de valores da firma para cada período\n",
    "#tem que deixar como dtype = np.float para pegar valores decimais\n",
    "\n",
    "def Vt(Vmax, T, ρ):\n",
    "    \n",
    "    \n",
    "\n",
    "    V = np.empty(T, dtype=np.float64)\n",
    "\n",
    "    for t in range(T):\n",
    "        \n",
    "        #no período t = 0, ela é o Vmax. E no período t = 1, também, pois não depreciou ainda\n",
    "\n",
    "        if(t == 0):\n",
    "            V[t] = Vmax\n",
    "\n",
    "        else:\n",
    "            V[t] = ρ**(t-1) * Vmax\n",
    "            \n",
    "    return V\n",
    "\n",
    "V = Vt(Vmax, T, ρ)"
   ]
  },
  {
   "cell_type": "code",
   "execution_count": 87,
   "metadata": {},
   "outputs": [],
   "source": [
    "#slots para cada habilidade\n",
    "grid_size = 100\n",
    "\n",
    "θlow = 0.01 \n",
    "θhigh = 1\n",
    "\n",
    "\n",
    "#08/10: não deu certo usar essas duas casas decimais. Vou deixar com np.linspace e a função find() usando searchsorted tá ok\n",
    "\n",
    "\n",
    "#lista com todos os valores possíveis de habilidades \n",
    "θvals = np.linspace(θlow, θhigh, grid_size, dtype = np.float64)\n",
    "\n",
    "#a vantagem de colocar os dados assim é que se eu quiser teta_s = 0.115, basta procurar θs_vals[114]\n",
    "θs_vals = np.copy(θvals) \n",
    "θj_vals  = np.copy(θvals)\n",
    "\n",
    "#vetores dos lower bounds são similares aos das habilidades\n",
    "ℓs_vals = np.copy(θs_vals)\n",
    "ℓj_vals = np.copy(θj_vals)\n",
    "\n",
    "\n",
    "#teste\n",
    "# θs_vals[99 - 1]\n",
    "\n",
    "\n",
    "#checando o tamanho\n",
    "# len(θj_vals)"
   ]
  },
  {
   "cell_type": "code",
   "execution_count": 88,
   "metadata": {},
   "outputs": [
    {
     "data": {
      "text/plain": [
       "array([0.01, 0.02, 0.03, 0.04, 0.05, 0.06, 0.07, 0.08, 0.09, 0.1 , 0.11,\n",
       "       0.12, 0.13, 0.14, 0.15, 0.16, 0.17, 0.18, 0.19, 0.2 , 0.21, 0.22,\n",
       "       0.23, 0.24, 0.25, 0.26, 0.27, 0.28, 0.29, 0.3 , 0.31, 0.32, 0.33,\n",
       "       0.34, 0.35, 0.36, 0.37, 0.38, 0.39, 0.4 , 0.41, 0.42, 0.43, 0.44,\n",
       "       0.45, 0.46, 0.47, 0.48, 0.49, 0.5 , 0.51, 0.52, 0.53, 0.54, 0.55,\n",
       "       0.56, 0.57, 0.58, 0.59, 0.6 , 0.61, 0.62, 0.63, 0.64, 0.65, 0.66,\n",
       "       0.67, 0.68, 0.69, 0.7 , 0.71, 0.72, 0.73, 0.74, 0.75, 0.76, 0.77,\n",
       "       0.78, 0.79, 0.8 , 0.81, 0.82, 0.83, 0.84, 0.85, 0.86, 0.87, 0.88,\n",
       "       0.89, 0.9 , 0.91, 0.92, 0.93, 0.94, 0.95, 0.96, 0.97, 0.98, 0.99,\n",
       "       1.  ])"
      ]
     },
     "execution_count": 88,
     "metadata": {},
     "output_type": "execute_result"
    }
   ],
   "source": [
    "θvals"
   ]
  },
  {
   "cell_type": "code",
   "execution_count": 89,
   "metadata": {},
   "outputs": [],
   "source": [
    "#valor de liquidação\n",
    "\n",
    "\n",
    "#a dívida total é sempre a soma das dívidas\n",
    "D = Ds + Dj\n",
    "\n",
    "#o custo total é uma função do tempo\n",
    "\n",
    "@njit\n",
    "def C_func(t):\n",
    "    if(t == 0):\n",
    "        return 0\n",
    "    else:\n",
    "        Ct = c0 * D + c1 * t * D\n",
    "\n",
    "        return Ct\n",
    "\n",
    "#e os valores de liquidação também são função do tempo\n",
    "\n",
    "#versão vetorizada\n",
    "def Ct(T):\n",
    "    \n",
    "    C = np.empty(T, dtype=np.float)\n",
    "\n",
    "    for t in range(T):\n",
    "        \n",
    "        #no período t = 0, o custo é zero\n",
    "\n",
    "        if(t == 0):\n",
    "            C[0] = 0\n",
    "\n",
    "        else:\n",
    "            C[t] = c0 * D + c1 * t * D\n",
    "            \n",
    "    return C\n",
    "\n",
    "#C é um vetor de mesma dimensão do número de turnos\n",
    "C = Ct(T)\n",
    "\n",
    "\n",
    "\n",
    "    \n",
    "#test\n",
    "# C(1)"
   ]
  },
  {
   "cell_type": "code",
   "execution_count": 90,
   "metadata": {},
   "outputs": [],
   "source": [
    "#valores de liquidação\n",
    "@njit\n",
    "def s_L(t):\n",
    "    \n",
    "    Ls = min(L - C_func(t), Ds)\n",
    "    \n",
    "    return Ls\n",
    "\n",
    "@njit\n",
    "def j_L(t):\n",
    "    \n",
    "    Lj = min(L - C_func(t) - s_L(t), Dj)\n",
    "    \n",
    "    return Lj\n",
    "\n",
    "#teste \n",
    "# s_L(0)\n",
    "# j_L(0)"
   ]
  },
  {
   "cell_type": "code",
   "execution_count": 91,
   "metadata": {},
   "outputs": [
    {
     "data": {
      "text/plain": [
       "array([ 0,  1,  2,  3,  4,  5,  6,  7,  8,  9, 10, 11, 12, 13, 14, 15, 16,\n",
       "       17, 18, 19, 20, 21, 22, 23, 24, 25, 26, 27, 28, 29, 30, 31, 32, 33,\n",
       "       34, 35, 36, 37, 38, 39, 40, 41, 42, 43, 44, 45, 46, 47, 48, 49, 50,\n",
       "       51, 52, 53, 54, 55, 56, 57, 58, 59, 60, 61, 62, 63, 64, 65, 66, 67,\n",
       "       68, 69, 70, 71, 72, 73, 74, 75, 76, 77, 78, 79, 80, 81, 82, 83, 84,\n",
       "       85, 86, 87, 88, 89, 90, 91, 92, 93, 94, 95, 96, 97, 98, 99],\n",
       "      dtype=int64)"
      ]
     },
     "execution_count": 91,
     "metadata": {},
     "output_type": "execute_result"
    },
    {
     "data": {
      "text/plain": [
       "(array([], dtype=int64),)"
      ]
     },
     "execution_count": 91,
     "metadata": {},
     "output_type": "execute_result"
    },
    {
     "data": {
      "text/plain": [
       "array([0.07, 0.08, 0.09, 0.1 , 0.11, 0.12, 0.13, 0.14, 0.15, 0.16, 0.17,\n",
       "       0.18, 0.19, 0.2 , 0.21, 0.22, 0.23, 0.24, 0.25, 0.26, 0.27, 0.28,\n",
       "       0.29, 0.3 , 0.31, 0.32, 0.33, 0.34, 0.35, 0.36, 0.37, 0.38, 0.39,\n",
       "       0.4 , 0.41, 0.42, 0.43, 0.44, 0.45, 0.46, 0.47, 0.48, 0.49, 0.5 ,\n",
       "       0.51, 0.52, 0.53, 0.54, 0.55, 0.56, 0.57, 0.58, 0.59, 0.6 , 0.61,\n",
       "       0.62, 0.63, 0.64, 0.65, 0.66, 0.67, 0.68, 0.69, 0.7 , 0.71, 0.72,\n",
       "       0.73, 0.74, 0.75, 0.76, 0.77, 0.78, 0.79, 0.8 , 0.81, 0.82, 0.83,\n",
       "       0.84, 0.85, 0.86, 0.87, 0.88, 0.89, 0.9 , 0.91, 0.92, 0.93, 0.94,\n",
       "       0.95, 0.96, 0.97, 0.98, 0.99, 1.  ])"
      ]
     },
     "execution_count": 91,
     "metadata": {},
     "output_type": "execute_result"
    }
   ],
   "source": [
    "\n",
    "@njit\n",
    "def find(y):\n",
    "    #mapeia o índice de cada valor y em θvals\n",
    "    return np.searchsorted(θvals, y)\n",
    "\n",
    "\n",
    "\n",
    "find(θvals)\n",
    "\n",
    "#checando se temos valores repetidos\n",
    "count = np.bincount(find(θvals))\n",
    "np.where(count > 1)\n",
    "\n",
    "\n",
    "#ele retorna 7 quando procuramos 0.07, mas retorna 6 quando procuramos 0.069999, que é θvals[6]. Então tudo bem\n",
    "θvals[find(0.0699):]\n",
    "\n",
    "\n",
    "#versão anterior\n",
    "# @njit\n",
    "# def vfind(y):\n",
    "#     return np.subtract(np.multiply(grid_size, y), 1).astype(np.int16)\n",
    "# #testando\n",
    "# vfind(θvals)\n",
    "\n",
    "# #testando se temos algum valor repetido\n",
    "\n",
    "def findv1(y):\n",
    "    return int(100*y - 1)\n",
    "\n",
    "\n",
    "# count = np.bincount(vfind(θvals))\n",
    "# np.where(count > 1)\n",
    "\n"
   ]
  },
  {
   "cell_type": "markdown",
   "metadata": {},
   "source": [
    "#### Passo 3: fazer o cálculo das funções valor em T-1, T-2, ..., 1."
   ]
  },
  {
   "cell_type": "markdown",
   "metadata": {},
   "source": [
    "### Função para tirar um draw da distribuição Beta\n",
    "\n",
    "\n",
    "Vamos usar o método da amostragem da inversa da CDF (https://en.wikipedia.org/wiki/Inverse_transform_sampling_method). Outra referência que usei foi: https://blogs.sas.com/content/iml/2013/07/22/the-inverse-cdf-method.html#:~:text=The%20exponential%20distribution%20has%20probability,log(1%E2%80%93u).\n",
    "\n",
    "A CDF da Beta é \n",
    "\n",
    "$$ F_{\\beta} ( \\theta_{t+1} \\mid \\theta_{t} ) = 1 - \\frac{ (1 - \\theta_{t+1})^\\beta}{ (1 - \\theta_{t})^\\beta }, \\, \\, \\theta_{t} \\leq \\theta_{t+1} \\leq 1, \\, \\beta \\geq 1$$\n",
    "\n",
    "Para invertê-la, basta procurarmos o valor de x tal que $F(x) = u$, onde u é uma retirada da distribuição Uniforme(0,1).\n",
    "\n",
    "Fazendo os cálculos, esse valor de x é (ou $\\theta_{t+1}$, no caso)\n",
    "\n",
    "\n",
    "$$ \\theta_{t+1} =  1 - exp \\bigg\\{ \\frac{1}{\\beta} \\big[  log (1 - u) + \\beta * log(1 - \\theta_{t}) \\big] \\bigg\\} $$\n"
   ]
  },
  {
   "cell_type": "code",
   "execution_count": 13,
   "metadata": {
    "scrolled": true
   },
   "outputs": [],
   "source": [
    "#código para tirar draw da distribuição beta, já vetorizado\n",
    "\n",
    "\n",
    "def draw_beta(info_hoje, ndraws):\n",
    "    \n",
    "    u = np.random.uniform(0,1, size = ndraws)\n",
    "    \n",
    "    one = np.ones(u.size)\n",
    "    \n",
    "    if(info_hoje == 1):\n",
    "        return one\n",
    "    \n",
    "    else:\n",
    "        x = np.array(one - np.exp((one/β) * (np.log(one-u) + β*np.log(one-info_hoje)) ), dtype = np.float64)\n",
    "        \n",
    "\n",
    "        return x\n",
    "\n",
    "\n",
    "#teste\n",
    "# draw_beta(0.5,1000)\n",
    "\n",
    "\n"
   ]
  },
  {
   "cell_type": "code",
   "execution_count": 14,
   "metadata": {
    "scrolled": true
   },
   "outputs": [],
   "source": [
    "# binning dos draws\n",
    "\n",
    "#bin vetorizado, para o qual eu quero mudar\n",
    "def bin_vetorizado(info_hoje, ndraws):\n",
    "\n",
    "    \n",
    "    draws = draw_beta(info_hoje, ndraws)\n",
    "    \n",
    "    #θhigh + 2 * θlow serve para que o último bin contenha apenas valores maiores ou iguais a 1\n",
    "    binning = np.arange(θlow, θhigh + 2 * θlow, step = θlow)\n",
    "        \n",
    "\n",
    "    resultado = np.histogram(a = draws, bins = binning)\n",
    "\n",
    "    return np.array(np.divide(resultado[0],ndraws), dtype = np.float64)\n",
    "\n",
    "\n",
    "#teste\n",
    "# bin_vetorizado(0.99, 10000)\n",
    "\n",
    "\n",
    "\n"
   ]
  },
  {
   "cell_type": "code",
   "execution_count": 15,
   "metadata": {},
   "outputs": [],
   "source": [
    "#vamos gerar uma matriz com 100 linhas e 100 colunas\n",
    "#cada coluna vai representar as probabilidades de teta_amanhã dado teta hoje\n",
    "#a linha 1 significa que teta_hoje é 0.01\n",
    "#assim, a linha 0 tem as probabilidades de teta_amanhã dado que teta_hoje é 0.01\n",
    "\n",
    "#probability mass function\n",
    "pmf = np.zeros((grid_size,grid_size))\n",
    "\n",
    "#exemplo para ilustrar\n",
    "# pmf[0,] = bin(θj_vals[0], β, 1000)\n",
    "\n",
    "\n",
    "#populando a pmf:\n",
    "\n",
    "for t in range(len(θj_vals)):\n",
    "    \n",
    "    pmf[t,:] = bin_vetorizado(θj_vals[t], int(10e5))\n",
    "\n"
   ]
  },
  {
   "cell_type": "code",
   "execution_count": 16,
   "metadata": {},
   "outputs": [
    {
     "data": {
      "text/plain": [
       "[<matplotlib.lines.Line2D at 0x1dd7c3fe848>]"
      ]
     },
     "execution_count": 16,
     "metadata": {},
     "output_type": "execute_result"
    },
    {
     "data": {
      "text/plain": [
       "array([0.0000e+00, 9.5885e-02, 8.7593e-02, 7.9762e-02, 7.2914e-02,\n",
       "       6.6136e-02, 6.0065e-02, 5.4539e-02, 4.9612e-02, 4.4899e-02,\n",
       "       4.0699e-02, 3.7018e-02, 3.3495e-02, 3.0356e-02, 2.7294e-02,\n",
       "       2.4332e-02, 2.1898e-02, 1.9695e-02, 1.7828e-02, 1.5950e-02,\n",
       "       1.4305e-02, 1.2447e-02, 1.1327e-02, 1.0195e-02, 8.9950e-03,\n",
       "       7.9130e-03, 6.8780e-03, 6.2480e-03, 5.4230e-03, 4.8990e-03,\n",
       "       4.2010e-03, 3.6390e-03, 3.2010e-03, 2.8510e-03, 2.4390e-03,\n",
       "       2.1490e-03, 1.9180e-03, 1.6600e-03, 1.4250e-03, 1.1890e-03,\n",
       "       1.0910e-03, 9.1500e-04, 7.9900e-04, 6.0700e-04, 5.6000e-04,\n",
       "       5.0000e-04, 3.8900e-04, 3.3000e-04, 2.4600e-04, 2.3100e-04,\n",
       "       1.7900e-04, 1.6400e-04, 1.2100e-04, 9.8000e-05, 9.8000e-05,\n",
       "       7.7000e-05, 7.0000e-05, 6.0000e-05, 4.9000e-05, 3.8000e-05,\n",
       "       2.5000e-05, 2.1000e-05, 1.3000e-05, 1.2000e-05, 1.4000e-05,\n",
       "       8.0000e-06, 2.0000e-06, 5.0000e-06, 1.0000e-06, 2.0000e-06,\n",
       "       2.0000e-06, 1.0000e-06, 0.0000e+00, 0.0000e+00, 0.0000e+00,\n",
       "       0.0000e+00, 0.0000e+00, 0.0000e+00, 0.0000e+00, 0.0000e+00,\n",
       "       0.0000e+00, 0.0000e+00, 0.0000e+00, 0.0000e+00, 0.0000e+00,\n",
       "       0.0000e+00, 0.0000e+00, 0.0000e+00, 0.0000e+00, 0.0000e+00,\n",
       "       0.0000e+00, 0.0000e+00, 0.0000e+00, 0.0000e+00, 0.0000e+00,\n",
       "       0.0000e+00, 0.0000e+00, 0.0000e+00, 0.0000e+00, 0.0000e+00])"
      ]
     },
     "execution_count": 16,
     "metadata": {},
     "output_type": "execute_result"
    },
    {
     "data": {
      "image/png": "[encoded data removed]",
      "text/plain": [
       "<Figure size 432x288 with 1 Axes>"
      ]
     },
     "metadata": {
      "needs_background": "light"
     },
     "output_type": "display_data"
    }
   ],
   "source": [
    "#testes na pmf\n",
    "\n",
    "#testando em quais linhas ela não soma 1\n",
    "# for i in range(len(θvals)):\n",
    "#     sum(pmf[i,:])\n",
    "    \n",
    "#a pmf ainda tem alguns casos de ter valores iguais a zero e depois valores positivos. Mas é um erro na sexta casa decimal\n",
    "#acredito que não irá interferir significativamente nos resultados\n",
    "plt.plot(pmf[1,:])\n",
    "\n",
    "pmf[1,:]"
   ]
  },
  {
   "cell_type": "markdown",
   "metadata": {},
   "source": [
    "$Prob(\\theta_{s,t+1} \\mid \\ell_{s,t}) = Prob(\\theta_{s,t} \\mid \\ell_{s,t}) \\otimes Prob(\\theta_{s,t+1} \\mid \\theta_{s,t}) $ \n",
    "\n",
    "onde $\\otimes$ é produto de kronecker\n",
    "\n",
    "$Prob(\\theta_{s,t} \\mid \\ell_{s,t})$ equivale a pegar uma linha da pmf correspondente à $\\ell_{s,t}$\n",
    "\n",
    "$Prob(\\theta_{s,t+1} \\mid \\theta_{s,t}) $ para sabermos essas probabilidades, pegamos a coluna da pmf correspondente à $\\theta_{s,t+1}$\n",
    "\n",
    "Intuição: $\\theta_{s,t}$ é o 'theta_amanha' de $\\ell{s,t}$, então pegamos todas as colunas.\n",
    "\n",
    "Como saberemos todos os possíveis $\\theta_{s,t}$, as probabilidades de $\\theta_{s,t+1}$ dado isso serão as todas as linhas correspondentes à coluna de $\\theta_{s,t+1}$"
   ]
  },
  {
   "cell_type": "code",
   "execution_count": 17,
   "metadata": {},
   "outputs": [],
   "source": [
    "#precisamos de uma pmf para quando temos lkt e queremos saber θk,t+1\n",
    "#chamaremos de pmf2\n",
    "\n",
    "pmf2 = np.zeros((grid_size, grid_size))\n",
    "\n",
    "for i in range(len(θj_vals)):\n",
    "    for j in range(len(θj_vals)):\n",
    "        pmf2[i, j] = np.sum(pmf[i, :] * pmf[:, j])\n",
    "        \n",
    "\n",
    "        \n"
   ]
  },
  {
   "cell_type": "markdown",
   "metadata": {},
   "source": [
    "### Vetorizando o código\n",
    "\n",
    "Vamos fazer a integral vetorizando. Integrais da página 13 do apêndice online, equações (17) e (18)."
   ]
  },
  {
   "cell_type": "code",
   "execution_count": 92,
   "metadata": {
    "scrolled": true
   },
   "outputs": [],
   "source": [
    "#vetor Ut+1(θt+1)\n",
    "#vetor que fala o tamanho da torta a ser repartida no início do período t dada a habilidade do jogador naquele período\n",
    "Ut = np.zeros((grid_size, T))\n",
    "\n",
    "\n",
    "#[:, None] é para ajustar as dimensões dos vetores, bem como np.transpose\n",
    "Ut[:,:] = np.transpose(θs_vals * V[:, None] - C[:, None])\n",
    "\n",
    "\n",
    "\n",
    "#qual o tamanho máximo da torta se theta = 0.9 e t = 1?\n",
    "# theta = 0.9\n",
    "# t = 1\n",
    "\n",
    "# # Ut[find(theta),(t-1)]\n",
    "\n",
    "# #checando:\n",
    "# # V[(t-1)] * theta - C[(t-1)]\n",
    "\n",
    "# #e se eu quiser todos os possíveis valores da torta para t = 2?\n",
    "# t = 2\n",
    "\n",
    "#tem que usar (t-1) porque é um vetor no python.\n",
    "# Ut[:,(t-1)]\n",
    "\n",
    "\n",
    "\n",
    "# type(Ut)\n"
   ]
  },
  {
   "cell_type": "markdown",
   "metadata": {},
   "source": [
    "### Valor presente de propor um plano de reorganização\n",
    "\n",
    "Encontra-se na página 12 do apêndice online de Dou et al. (2020). \n",
    "\n",
    "\n",
    "\n",
    "\n",
    "$$ \\es{t}{ \\widetilde{M}_{s,t+1}(P_{s,t}) } = E_1 + E_2$$\n",
    "\n",
    "Onde:\n",
    "\n",
    "$$ E_1 = \\int [U_{t+1}(\\theta_{s,t+1}) - P_{s,t}] \\mathbb{1}\\{W_{j, t+1}(\\theta_{j, t+1}, c_{j,t}, \\theta_{s,t}, ) \\leq P_{s,t}\\} x \\partial F_\\beta(\\theta_{s,t+1} \\mid \\theta_{s,t}) \\partial F_\\beta(\\theta_{j,t} \\mid \\ell_{j,t}) \\otimes \\partial  F_\\beta(\\theta_{j,t+1} \\mid \\theta_{j,t})$$\n",
    "\n",
    "\n",
    "\n",
    "\n",
    "$$ E_2 = \\int W_{s,t+1} (\\theta_{s,t+1}, \\theta_{s,t}, c_{j,t}) \\mathbb{1}\\{W_{j, t+1}(\\theta_{j, t+1}, c_{j,t}, \\theta_{s,t}) > P_{s,t}\\} x \\partial F_\\beta(\\theta_{s,t+1} \\mid \\theta_{s,t}) \\partial F_\\beta(\\theta_{j,t} \\mid \\ell_{j,t}) \\otimes \\partial  F_\\beta(\\theta_{j,t+1} \\mid \\theta_{j,t})$$\n",
    "\n",
    "\n",
    "Obs: $\\otimes$ representa o produto elemento a elemento (Kronecker) e $c_{j,t}$ é o cutoff de screening associado à proposta de pagamentos feita. A ordem dos conjuntos de informação dentro do valor de continuação está diferente do paper, sendo aqui $W_{k,t+1}(\\theta_{k,t+1}, \\ell_{k,t+1}, \\ell_{m,t+1})$.\n",
    "\n",
    "A equação $E_1$ representa o que acontece quando j aceita a proposta de pagamento $P_{s,t}$ e $E_2$ representa o que acontece quando j a rejeita.\n",
    "\n",
    "#### Ilustração da integração numérica\n",
    "\n",
    "Para visualizar a integração numérica, considere o seguinte exemplo:\n",
    "\n",
    "1. $\\theta_{s,t+1} \\in \\{s_1, s_2\\}$\n",
    "2. $\\theta_{j,t+1} \\in \\{j_1, j_2, j_3\\}$\n",
    "3. $P_{s,t} \\in \\{p_1, p_2\\}$ \n",
    "\n",
    "Para um $\\theta_{s,t}$ e um $\\ell_{j,t}$ fixos, todas as funções de $E_1$ serão funções apenas de $ (\\theta_{s,t+1}, \\theta_{j,t+1} , P_{s,t})$\n",
    "\n",
    "Queremos calcular:\n",
    "\n",
    "Para $p_1$:\n",
    "\n",
    "$pr(s_1) * [ U_{t+1}(s_1) - p_1] * \\mathbb{1}\\{W_{j,t+1}(j_1,p_1) \\leq p_1\\} * pr(j_1)\\\\ \n",
    "+ pr(s_1) * [ U_{t+1}(s_1) - p_1] * \\mathbb{1}\\{W_{j,t+1}(j_2,p_1) \\leq p_1\\} * pr(j_2)\\\\\n",
    "+ pr(s_1) * [ U_{t+1}(s_1) - p_1] * \\mathbb{1}\\{W_{j,t+1}(j_3,p_1) \\leq p_1\\} * pr(j_3)\\\\\n",
    "+ pr(s_2) * [ U_{t+1}(s_2) - p_1] * \\mathbb{1}\\{W_{j,t+1}(j_1,p_1) \\leq p_1\\} * pr(j_1)\\\\\n",
    "+ pr(s_2) * [ U_{t+1}(s_2) - p_1] * \\mathbb{1}\\{W_{j,t+1}(j_2,p_1) \\leq p_1\\} * pr(j_2)\\\\ \n",
    "+ pr(s_2) * [ U_{t+1}(s_2) - p_1] * \\mathbb{1}\\{W_{j,t+1}(j_3,p_1) \\leq p_1\\} * pr(j_3)$\n",
    "\n",
    "E o análogo para $p_2$:\n",
    "\n",
    "$pr(s_1) * [ U_{t+1}(s_1) - p_2] * \\mathbb{1}\\{W_{j,t+1}(j_1,p_2) \\leq p_2\\} * pr(j_1)\\\\ \n",
    "+ pr(s_1) * [ U_{t+1}(s_1) - p_2] * \\mathbb{1}\\{W_{j,t+1}(j_2,p_2) \\leq p_2\\} * pr(j_2)\\\\\n",
    "+ pr(s_1) * [ U_{t+1}(s_1) - p_2] * \\mathbb{1}\\{W_{j,t+1}(j_3,p_2) \\leq p_2\\} * pr(j_3)\\\\\n",
    "+ pr(s_2) * [ U_{t+1}(s_2) - p_2] * \\mathbb{1}\\{W_{j,t+1}(j_1,p_2) \\leq p_2\\} * pr(j_1)\\\\\n",
    "+ pr(s_2) * [ U_{t+1}(s_2) - p_2] * \\mathbb{1}\\{W_{j,t+1}(j_2,p_2) \\leq p_2\\} * pr(j_2)\\\\ \n",
    "+ pr(s_2) * [ U_{t+1}(s_2) - p_2] * \\mathbb{1}\\{W_{j,t+1}(j_3,p_2) \\leq p_2\\} * pr(j_3)$\n",
    "\n",
    "\n",
    "\n",
    "Em formato matricial:\n",
    "\n",
    "Temos uma preparação dos dados, que é multiplicar pela probabilidade de $\\theta_{k, t+1}$ ocorrer, $k \\in \\{s, t \\}$\n",
    "\n",
    "$$ \\begin{bmatrix} U_{t+1}(s_1) - p_1 & U_{t+1}(s_2) - p_1 \\\\ U_{t+1}(s_1) - p_2 & U_{t+1}(s_2) - p_2 \\end{bmatrix} \\otimes \\begin{bmatrix} pr(s_1) & pr(s_2) \\end{bmatrix} = pE1_{2x2}$$\n",
    "\n",
    "Obs: em nosso código, fizemos essa operação usando produto de kronecker porque isso facilitará ao trabalhar com arrays 3D. O numpy faz operações em broadcast, então ele compatibiliza automaticamente as dimensões dos vetores.\n",
    "\n",
    "Abreviando as funções como seus argumentos (Ex: $U_{t+1}(s_1) - p_2$ se tornará $(s_1, p_2)$) e somando ao longo das linhas, temos:\n",
    "\n",
    "\n",
    "$$pE1_{1x2} = \\begin{bmatrix} (s_1, p_1) + (s_2,p_1) & (s_1,p_2) + (s_2,p_2) \\end{bmatrix}$$\n",
    "\n",
    "Enquanto isso, em relação aos valores de continuação de j, obtemos:\n",
    "\n",
    "$$indE1_{3x2} = \\begin{bmatrix} (j_1, p_1) & (j_1, p_2) \\\\ (j_2, p_1) & (j_2,p_2) \\\\ (j_3, p_1) & (j_3,p_2)  \\end{bmatrix}$$\n",
    "\n",
    "\n",
    "Multiplicando o array payoff_E1 elemento a elemento pelo array ind_E1, obtemos:\n",
    "\n",
    "$$ E_1 := pE1_{1x2} \\otimes indE1_{3x2} $$\n",
    "\n",
    "\n",
    "$$ E_1 = \\begin{bmatrix} ((s_1, p_1) + (s_2,p_1))*(j_1, p_1) & ((s_1,p_2) + (s_2,p_2)) * (j_1, p_2) \\\\\n",
    "((s_1, p_1) + (s_2,p_1)) * (j_2, p_1) & ((s_1,p_2) + (s_2,p_2)) * (j_2,p_2)  \\\\ \n",
    "((s_1, p_1) + (s_2,p_1)) * (j_3, p_1) & ((s_1,p_2) + (s_2,p_2)) * (j_3,p_2)\\end{bmatrix} $$\n",
    "\n",
    "\n",
    "Procedemos de maneira similar para calcular $E_2$. Assim, somando as matrizes $E_1$ e $E_2$, cada coluna da matriz resultante dá o payoff esperado de uma proposta de pagamentos. A proposta de pagamentos ótima é dada pela coluna cuja soma dos elementos é o maior valor possível.\n"
   ]
  },
  {
   "cell_type": "markdown",
   "metadata": {},
   "source": [
    "\n",
    "Algoritmo para achar o pagamento ótimo:\n",
    "\n",
    "1. Dada a habilidade de k, calculamos a torta avaliada no valor esperado da habilidade de k no próximo período\n",
    "2. Criamos 99 propostas de pagamentos, cada uma delas representando uma divisão de 1% a mais da torta\n",
    "3. Para cada uma dessas 99 propostas de pagamentos, calculamos o cutoff de screening\n",
    "4. Vemos quais são os casos onde o valor de continuação do oponente m é menor que a proposta de pagamento, já considerando o update provido pelo cutoff\n",
    "5. Calculamos qual o valor esperado associado a cada uma das propostas de pagamento. Escolhemos aquela que tem o maior valor esperado."
   ]
  },
  {
   "cell_type": "markdown",
   "metadata": {},
   "source": [
    "### Cálculo do cutoff"
   ]
  },
  {
   "cell_type": "markdown",
   "metadata": {},
   "source": [
    "Estamos com problema na parte da função cutoff. Vamos tentar vetorizar primeiro a função cutoff. E, para isso, vamos construi-la em formato de loops."
   ]
  },
  {
   "cell_type": "markdown",
   "metadata": {},
   "source": [
    "Como calcular o cutoff de screening?\n",
    "\n",
    "No último parágrafo da página 57 do artigo (versão de julho de 2020), os autores dizem que:\n",
    "\n",
    "$\\ell_{j, t+1} = \\max(\\theta_{j,t}^*, \\ell_{j,t})$, onde $\\theta_{j,t}^*$ é o cutoff screening, determinado por:\n",
    "\n",
    "$$ P_{s,t} = W_{j,t+1} (\\theta_{j,t}^*, \\ell_{j,t+1} = \\theta_{j,t}^*, \\ell_{s,t+1} = \\theta_{s,t}) $$\n",
    "\n",
    "\n",
    "Segue o raciocínio: se j aceita a proposta, o payoff dele é $P_{s,t}$. Se j rejeita a proposta, o payoff dele é $W_{j,t+1} (\\theta_{j,t+1}, \\ell_{j,t+1} = \\theta_{j,t}^*, \\ell_{s,t+1} = \\theta_{s,t})$ para a habilidade verdadeira $\\theta_{j,t+1}$ e o cutoff de screening $\\theta_{j,t}^*$. Intuitivamente, sabemos que $W_{j,t+1}(.)$ é crescente na habilidade verdadeira (dados os lower bounds fixos). Logo, deve valer a igualdade acima para que $\\theta_{j,t}^*$ seja de fato um cutoff de screening.\n",
    "\n",
    "Nós usamos a notação $c_{j,t} = \\max(\\theta_{j,t}^*, \\ell_{j,t})$\n",
    "\n",
    "Como encontrar isso na forma matricial?\n",
    "\n",
    "1. Dado $\\theta_{s,t}$ fixo,  $W_{j,t+1} (\\theta_{j,t}^*, \\ell_{j,t+1} = \\theta_{j,t}^*, \\ell_{s,t+1} = \\theta_{s,t}) $ é um array com 100 elementos. Podemos interpretar isso como todos os elementos da diagonal principal de uma matriz 100x100 onde temos as combinações de $\\theta_{j,t+1}$ e $\\ell_{j,t+1}$ para um valor fixo de  $\\ell_{s,t+1} =\\theta_{s,t}$.\n",
    "\n",
    "2. Note que os 100 elementos acima não necessariamente precisam ser crescentes. Apesar de $W_{j,t+1}(.)$ ser crescente em sua habilidade verdadeira para dados lower bounds fixos, o array acima varia simultaneamente a habilidade verdadeira de j e o lower bound de j, logo o efeito desse aumento é incerto.\n",
    "\n",
    "3. Procuramos o primeiro elemento do array acima cujo valor seja maior ou igual à $P_{s,t}$. Isso porque queremos saber qual o menor valor de habilidade verdadeira que o adversário deve ter para que compense rejeitar o pagamento. \n",
    "\n"
   ]
  },
  {
   "cell_type": "markdown",
   "metadata": {},
   "source": [
    "### Valor presente de responder a um plano de reorganização\n",
    "\n",
    "Encontra-se na página 13 do apêndice online de Dou et al. (2020). \n",
    "\n",
    "\n",
    "\n",
    "\n",
    "$$ \\es{t}{ \\max\\limits_{a_{s,t+1} \\in \\{0,1\\} } \\widetilde{A}_{s,t+1}(a_{s,t+1}) \\mid \\theta_{j,t} \\geq \\phi_{j,t} } = A_1 + A_2$$\n",
    "\n",
    "Obs: troquei a notação original, $\\zeta_{s, t+1}$ por $a_{s, t+1}$\n",
    "\n",
    "Onde:\n",
    "\n",
    "$$ A_1 = \\int P_{j,t}^*(\\theta_{j,t}, \\ell_{s,t}) \\mathbb{1}\\{W_{s, t+1}(\\theta_{s, t+1}, c_{s,t}, \\theta_{j,t}) \\leq P_{j,t}^*(\\theta_{j,t}, \\ell_{s,t}) \\} x \\partial F_\\beta(\\theta_{s,t+1} \\mid \\theta_{s,t}) \\partial F_\\beta(\\theta_{j,t} \\mid \\ell_{j,t} \\vee \\phi_{j,t}) $$\n",
    "\n",
    "Onde $\\phi_{j,t}$ é o *threshold* de reorganização, o valor mínimo de $\\theta_{j,t}$ para o qual compensa reorganizar a firma (reorganizar a firma dá um payoff maior que liquidá-la naquele período), dado $\\ell_{s,t}$.\n",
    "\n",
    "\n",
    "$$ A_2 = \\int W_{s, t+1}(\\theta_{s, t+1}, c_{s,t}, \\theta_{j,t}) \\mathbb{1}\\{W_{s, t+1}(\\theta_{s, t+1}, c_{s,t}, \\theta_{j,t}) > P_{j,t}^*(\\theta_{j,t}, \\ell_{s,t}) \\} x \\partial F_\\beta(\\theta_{s,t+1} \\mid \\theta_{s,t}) \\partial F_\\beta(\\theta_{j,t} \\mid \\ell_{j,t} \\vee \\phi_{j,t}) $$\n",
    "\n",
    "\n",
    "O valor esperado de $\\max\\limits_{a_{s, t+1} \\in \\{0,1\\} } \\widetilde{A}_{s,t+1}(a_{s,t+1})$ representa o valor esperado de responder à uma proposta de reorganização feita pelo adversário. Ela já assume que s se comportará otimamente, donde s aceita todas as ofertas superiores ao seu valor de continuação no período seguinte e rejeita as demais. \n",
    "\n",
    "Note que há um *screening* feito por s. Se j está propondo reorganizar, significa que a habilidade de j é no mínimo o *threshold* de reorganização $\\phi_{j,t}$. Este é calculado de maneira simples. Todas as propostas de pagamentos ótimas são de conhecimento comum. Então s observa o menor valor de $\\theta_{j,t}$ para o qual fazer a proposta de reorganização $P_{j,t}^*(\\theta_{j,t}, \\ell_{s,t})$ dê a j um payoff esperado maior que o de liquidar a firma naquele período. O *lower bound* da habilidade de j no período seguinte, $\\ell_{j,t+1}$ será o máximo entre $\\phi_{j,t}$ e $\\ell_{j,t}$. Por isso que nos argumentos das funções nós temos a seguinte expressão: $\\phi_{j,t} \\vee \\ell_{j,t}$. Caso não exista $\\theta_{j,t}$ para o qual compense reorganizar a firma, j simplesmente usa $\\ell_{j,t+1} = \\ell_{j,t}$\n",
    "\n",
    "\n",
    "#### Ilustração da integração numérica\n",
    "\n",
    "\n",
    "Para visualizar a integração numérica, considere o seguinte exemplo:\n",
    "\n",
    "1. $\\theta_{s,t+1} \\in \\{s_1, s_2\\}$\n",
    "2. $\\theta_{j,t} \\in \\{j_1, j_2, j_3\\}$\n",
    "3. $P_{j,t}^*(\\theta_{j,t}, \\ell_{s,t}) \\in \\{p_{j1}, p_{j2}, p_{j3}\\}$ \n",
    "\n",
    "##### $A_1$\n",
    "Para um $\\ell_{s,t}$ e um $\\ell_{j,t}$ fixos, todas as funções de $A_1$ serão funções apenas de $ (\\theta_{s,t+1}, \\theta_{j,t})$. Cada proposta ótima de pagamento será função de um valor possível de $\\theta_{j,t}$, por isso as descrevemos como $\\{p_{j1}, p_{j2}, p_{j3}\\}$\n",
    "\n",
    "Queremos calcular:\n",
    "\n",
    "Para $p_{j1}$:\n",
    "\n",
    "$pr(j_1) * [ p_{j1}] * \\mathbb{1}\\{W_{s, t+1}(s_1, p_{j1}, j_1) \\leq p_{j1}\\} * pr(s_1)\\\\ \n",
    "+ pr(j_1) * [ p_{j1}] * \\mathbb{1}\\{W_{j,t+1}(s_2, p_{j1}, j_1) \\leq p_{j1}\\} * pr(s_2)\n",
    "$\n",
    "\n",
    "Note que podemos colocar $pr(j_1) * [ p_{j1}]$ em evidência:\n",
    "\n",
    "$ ( pr(j_1) * [ p_{j1}] )* \\bigg(   \\mathbb{1}\\{W_{s, t+1}(s_1, p_{j1}, j_1) \\leq p_{j1}\\} * pr(s_1) +  \\mathbb{1}\\{W_{j,t+1}(s_2, p_{j1}, j_1) \\leq p_{j1}\\} * pr(s_2) \\bigg) $\n",
    "\n",
    "\n",
    "E o análogo para $p_{j2}$ e $p_{j3}$:\n",
    "\n",
    "$pr(j_2) * [ p_{j2}] * \\mathbb{1}\\{W_{s, t+1}(s_1, p_{j2}, j_2) \\leq p_{j2}\\} * pr(s_1)\\\\ \n",
    "+ pr(j_2) * [ p_{j2}] * \\mathbb{1}\\{W_{j,t+1}(s_2, p_{j2}, j_2) \\leq p_{j2}\\} * pr(s_2)\\\\\n",
    "+ pr(j_3) * [ p_{j3}] * \\mathbb{1}\\{W_{s, t+1}(s_1, p_{j3}, j_3) \\leq p_{j}\\} * pr(s_1)\\\\ \n",
    "+ pr(j_3) * [ p_{j3}] * \\mathbb{1}\\{W_{j,t+1}(s_2, p_{j3}, j_3) \\leq p_{j3}\\} * pr(s_2)\n",
    "$\n",
    "\n",
    "\n",
    "\n",
    "Em formato matricial:\n",
    "\n",
    "Temos uma preparação dos dados, que é multiplicar pela probabilidade de $\\theta_{k, t+1}$ ocorrer, $k \\in \\{s, t \\}$\n",
    "\n",
    "$$ \\begin{bmatrix} \\mathbb{1}\\{W_{s, t+1}(s_1, p_{j1}, j_1) \\leq p_{j1}\\} & \\mathbb{1}\\{W_{s, t+1}(s_2, p_{j1}, j_1) \\leq p_{j1}\\} \\\\ \n",
    "\\mathbb{1}\\{W_{s, t+1}(s_1, p_{j2}, j_2) \\leq p_{j2}\\} & \\mathbb{1}\\{W_{s, t+1}(s_2, p_{j2}, j_2) \\leq p_{j2}\\} \\\\\n",
    "\\mathbb{1}\\{W_{s, t+1}(s_1, p_{j3}, j_3) \\leq p_{j3}\\} & \\mathbb{1}\\{W_{s, t+1}(s_2, p_{j3}, j_3) \\leq p_{j3}\\}\\end{bmatrix} \\otimes \\begin{bmatrix} pr(s_1) & pr(s_2) \\end{bmatrix} = indA1_{3x2}$$\n",
    "\n",
    "\n",
    "\n",
    "\n",
    "Obs: em nosso código, fizemos essa operação usando produto de kronecker porque isso facilitará ao trabalhar com arrays 3D. O numpy faz operações em broadcast, então ele compatibiliza automaticamente as dimensões dos vetores.\n",
    "\n",
    "\n",
    "Abreviando as funções como seus argumentos (Ex: $\\mathbb{1}\\{W_{s, t+1}(s_1, p_{j1}, j_1) \\leq p_{j1}\\} * pr(s_1)$ se tornará $(s_1, j1)$), temos:\n",
    "\n",
    "\n",
    "$$indA1_{3x2} = \\begin{bmatrix} (s_1, j_1) & (s_2,j_1) \\\\\n",
    "(s_1,j_2) & (s_2,j_2) \\\\\n",
    "(s_1, j_3) & (s_2, j_3) \\end{bmatrix}$$\n",
    "\n",
    "Fazendo procedimento análogo para os possíveis valores de j:\n",
    "\n",
    "\n",
    "$$pA1_{3x1} = \\begin{bmatrix} p_{j1} \\\\ \n",
    "p_{j2} \\\\\n",
    "p_{j3} \\end{bmatrix} \\otimes \\begin{bmatrix} pr(j_1) \\\\\n",
    "pr(j_2) \\\\\n",
    "pr(j_3) \\end{bmatrix} = \\begin{bmatrix} j_1 \\\\\n",
    "j_2 \\\\\n",
    "j_3 \\end{bmatrix}$$\n",
    "\n",
    "\n",
    "Vamos multiplicar as duas matrizes (elemento a elemento):\n",
    "\n",
    "$$ indA1_{3x2} \\otimes pA1_{3x1} = \\begin{bmatrix} (s_1, j_1)j_1 & (s_2,j_1)j_1 \\\\\n",
    "(s_1,j_2)j_2 & (s_2,j_2)j_2 \\\\\n",
    "(s_1, j_3)j_3 & (s_2, j_3)j_3 \\end{bmatrix} := A_1$$\n",
    "\n",
    "A soma dos valores de cada linha de $A_1$ dá o valor esperado de s receber um pagamento ótimo específico de j (Ex: linha 1 corresponde ao payoff esperado de receber $p_{j1}$. E a soma de todos os elementos de $A_1$ dá a o payoff esperado de responder a uma proposta de reorganização feita por j.\n",
    "\n",
    "\n",
    "##### $A_2$\n",
    "\n",
    "Procedendo de maneira similar, podemos fazer o cálculo de todos os elementos de $A_2$. Seguem os passos principais:\n",
    "\n",
    "\n",
    "Valor esperado associado a $p_{j1}$:\n",
    "\n",
    "$pr(j_1) * W_{s, t+1}(s_1, p_{j1}, j_1) * \\mathbb{1}\\{W_{s, t+1}(s_1, p_{j1}, j_1) > p_{j1}\\} * pr(s_1)\\\\ \n",
    "+ pr(j_1) * W_{j,t+1}(s_2, p_{j1}, j_1) * \\mathbb{1}\\{W_{j,t+1}(s_2, p_{j1}, j_1) > p_{j1}\\} * pr(s_2)\n",
    "$\n",
    "\n",
    "Repare que neste caso não conseguimos colocar algum termo em evidência.\n",
    "\n",
    "Matriz ind_A2\n",
    "\n",
    "\n",
    "$$ \\begin{bmatrix} \\mathbb{1}\\{W_{s, t+1}(s_1, p_{j1}, j_1) > p_{j1}\\} & \\mathbb{1}\\{W_{s, t+1}(s_2, p_{j1}, j_1) > p_{j1}\\} \\\\ \n",
    "\\mathbb{1}\\{W_{s, t+1}(s_1, p_{j2}, j_2) > p_{j2}\\} & \\mathbb{1}\\{W_{s, t+1}(s_2, p_{j2}, j_2) > p_{j2}\\} \\\\\n",
    "\\mathbb{1}\\{W_{s, t+1}(s_1, p_{j3}, j_3) > p_{j3}\\} & \\mathbb{1}\\{W_{s, t+1}(s_2, p_{j3}, j_3) > p_{j3}\\}\\end{bmatrix} \\otimes \\begin{bmatrix} pr(s_1) & pr(s_2) \\end{bmatrix} = indA2_{3x2}$$\n",
    "\n",
    "Abreviando a notação:\n",
    "\n",
    "$$ indA2_{3x2}  = \\begin{bmatrix} (s_1, j_1) & (s_2, j_1) \\\\\n",
    "(s_1, j_2) & (s_2, j_2) \\\\\n",
    "(s_1, j_3) & (s_2, j_3) \\end{bmatrix} $$\n",
    "\n",
    "Matriz payoff_A2. \n",
    "\n",
    "Aqui cada par ($\\theta_{s,t+1},\\theta_{j,t}$) gera um payoff distinto, por isso as dimensões são diferentes do caso $A_1$\n",
    "\n",
    "$$ pA2_{3x2} = \\begin{bmatrix} W_{s, t+1}(s_1, p_{j1}, j_1) & W_{s, t+1}(s_2, p_{j1}, j_1) \\\\ \n",
    "W_{s, t+1}(s_1, p_{j2}, j_2) & W_{s, t+1}(s_2, p_{j2}, j_2) \\\\\n",
    "W_{s, t+1}(s_1, p_{j3}, j_3) & W_{s, t+1}(s_2, p_{j3}, j_3) \\end{bmatrix} \n",
    "\\otimes \\begin{bmatrix} pr(j_1) \\\\\n",
    "pr(j_2) \\\\\n",
    "pr(j_3) \\end{bmatrix}  = \\begin{bmatrix} (s_1, j_1) & (s_2, j_1) \\\\\n",
    "(s_1, j_2) & (s_2, j_2) \\\\\n",
    "(s_1, j_3) & (s_2, j_3) \\end{bmatrix}$$\n",
    "\n",
    "Multiplicando as matrizes elemento a elemento:\n",
    "\n",
    "$$ indA2_{3x2} \\otimes pA2_{3x2} = \\begin{bmatrix} (s_1, j_1)(s_1, j_1) & (s_2, j_1)(s_2, j_1) \\\\\n",
    "(s_1, j_2)(s_1, j_2) & (s_2, j_2)(s_2, j_2) \\\\\n",
    "(s_1, j_3)(s_1, j_3) & (s_2, j_3)(s_2, j_3) \\end{bmatrix}$$\n",
    "\n",
    "Cada linha de $A_2$ corresponde ao payoff esperado de receber uma proposta de pagamento inferior ao valor de continuação de s. Se somarmos todos os elementos de $A_2$, obteremos o payoff esperado de todos os casos nos quais o valor de continuação de s é maior que as respectivas propostas de pagamentos\n"
   ]
  },
  {
   "cell_type": "markdown",
   "metadata": {},
   "source": [
    "#### Nova função para calcular a proposta ótima de pagamentos\n",
    "\n",
    "Vamos escrever uma nova para ver se ela faz sentido. \n",
    "\n",
    "Nosso função faz com que o proponente escolha a proposta de pagamento que lhe dê maior payoff esperado dentre 99 propostas de pagamento possíveis. Essas propostas são 99 fatias da torta do período seguinte avaliada na habilidade esperada do proponente. Ou seja, ela não considera quais são os valores de continuação do adversário.\n",
    "\n",
    "Vamos supor propostas de pagamentos mais espertas. Vamos supor que o conjunto de propostas de pagamentos possíveis é formado por duas partes: primeiro por todos os valores possíveis de continuação do adversário no período seguinte, dado que $\\ell_{k,t+1} = \\theta_{k,t}$ e $\\ell_{m,t+1} = \\ell_{m,t}$. Este primeiro conjunto trata de quando a proposta de pagamento não permite que fazer screening no adversário (daí que $\\ell_{m,t+1} = \\ell_{m,t}$, ao invés de ser o cutoff). E para considerar os casos com o cutoff, a segunda parte do conjunto de propostas possíveis é formado por todos os valores de continuação do adversário nos quais a habilidade verdadeira dele e o lower bound dele são iguais no período seguinte.\n",
    "\n",
    "Com isso, o conjunto de propostas de pagamentos fica mais intuitivo: só faz sentido o proponente escolher dentre os possíveis valores de continuação do adversário dele porque o adversário sempre aceita propostas de pagamentos que são iguais ou maiores aos seus valores de continuação.\n",
    "\n"
   ]
  },
  {
   "cell_type": "markdown",
   "metadata": {},
   "source": [
    "## Funções para calcular os valores de continuação dos jogadores"
   ]
  },
  {
   "cell_type": "code",
   "execution_count": 93,
   "metadata": {},
   "outputs": [],
   "source": [
    "#arrays de s\n",
    "s_W = np.zeros((grid_size, grid_size, grid_size, T), dtype = np.float64)\n",
    "\n",
    "#4 é o número de resultados no output de Pst\n",
    "Pst_array = np.zeros((grid_size, grid_size, T, 4), dtype = np.float64)\n",
    "\n",
    "#array para guardar os thresholds do adversário\n",
    "Threshold_j = np.zeros((grid_size, grid_size, T, 2), dtype = np.float64)\n",
    "\n",
    "\n"
   ]
  },
  {
   "cell_type": "code",
   "execution_count": 94,
   "metadata": {},
   "outputs": [],
   "source": [
    "#arrays de j\n",
    "j_W = np.zeros((grid_size, grid_size, grid_size, T), dtype = np.float64)\n",
    "\n",
    "#4 é o número de resultados no output de Pjt\n",
    "Pjt_array = np.zeros((grid_size, grid_size, T, 4), dtype = np.float64)\n",
    "\n",
    "#array para guardar os thresholds do adversário\n",
    "Threshold_s = np.zeros((grid_size, grid_size, T, 2), dtype = np.float64)\n"
   ]
  },
  {
   "cell_type": "code",
   "execution_count": 95,
   "metadata": {},
   "outputs": [],
   "source": [
    "#funções genéricas\n",
    "#k é o índice do próprio credor, m é o índice do credor adversário\n",
    "\n",
    "#grid_size = 100 #já foi definido anteriormente\n",
    "\n",
    "@njit\n",
    "def cutoff_m(Pkt, ℓkt_next, ℓmt, t, m_W):\n",
    "    \n",
    "    #screening cutoff for the opponent's hability associated with the proposal Pkt\n",
    "    i = 0\n",
    "    cmt = θvals[i]\n",
    "\n",
    "    while (Pkt > m_W[find(cmt), find(cmt), find(ℓkt_next), t] and cmt < θhigh):\n",
    "        i += 1\n",
    "        cmt = θvals[i]\n",
    "\n",
    "    if(cmt >= θhigh):\n",
    "        cmt = θhigh\n",
    "    else:\n",
    "        cmt = max(cmt, ℓmt)\n",
    "        \n",
    "    #returns the index of the cutoff\n",
    "    return find(cmt)\n",
    "\n",
    "    \n",
    "#optimal payment offer\n",
    "def Pkt(θkt, ℓmt, t, k_W, m_W):\n",
    "\n",
    "    #vector of possible proposals\n",
    "    Pkt_vector = np.empty(θvals[find(ℓmt):].size * 2)\n",
    "\n",
    "    #todos os valores de continuação quando cutoff não faz update\n",
    "    #primeira metade de Pkt_vector\n",
    "    Pkt_vector[:int(Pkt_vector.size/2)] = m_W[find(ℓmt):, find(ℓmt), find(θkt), t]\n",
    "\n",
    "    #segunda metade do vetor\n",
    "    diagonal = np.arange(find(ℓmt), grid_size) \n",
    "    Pkt_vector[int(Pkt_vector.size/2):] = m_W[diagonal, diagonal, find(θkt), t]\n",
    "\n",
    "\n",
    "    #associated cutoffs\n",
    "    cutoffs = np.empty(Pkt_vector.shape, dtype = np.int16)\n",
    "\n",
    "    for i, pkt in enumerate(Pkt_vector):\n",
    "        cutoffs[i] = cutoff_m(pkt, θkt, ℓmt, t, m_W)\n",
    "\n",
    "\n",
    "    #cálculo de E1####\n",
    "\n",
    "    pE1 = np.array(Ut[None, :,t] - Pkt_vector[:, None], dtype = np.float64)\n",
    "    pE1 = np.multiply(pmf[None, find(θkt), :], pE1)\n",
    "    pE1 = np.sum(pE1, axis = 1)\n",
    "\n",
    "    #igual a 1 se o valor de continuação for menor que a proposta de pagamento\n",
    "    ind_E1 = np.where(m_W[:, cutoffs, find(θkt), t].T <= Pkt_vector[:,None] , 1, 0)\n",
    "    ind_E2 = np.where(ind_E1 == 1, 0, 1)\n",
    "\n",
    "    #ponderando pelas probabilidades\n",
    "    ind_E1 = np.multiply(pmf2[None, find(ℓmt), :], ind_E1)\n",
    "    ind_E2 = np.multiply(pmf2[None, find(ℓmt), :], ind_E2)\n",
    "\n",
    "\n",
    "\n",
    "\n",
    "    E1 = np.multiply(pE1[:, None], ind_E1)\n",
    "    E1 = np.sum(E1, axis = 1)#ok, somar no axis = 1 preserva o formato de 1 proposta de pagamento por linha\n",
    "\n",
    "\n",
    "    #cálculo de E2####\n",
    "\n",
    "    pE2 = k_W[:, find(θkt), cutoffs, t].T\n",
    "    pE2 = np.multiply(pmf[None, find(θkt), :], pE2)\n",
    "    pE2 = np.sum(pE2, axis = 1)\n",
    "\n",
    "\n",
    "    #ponderando ind_E2 pelas probabilidades\n",
    "\n",
    "\n",
    "    E2 = np.multiply(pE2[:,None], ind_E2)\n",
    "    E2 = np.sum(E2, axis = 1)\n",
    "\n",
    "    #matriz dos payoffs####\n",
    "    matrix_payoff = E1 + E2\n",
    "\n",
    "    payoff = np.max(matrix_payoff)\n",
    "    index = np.argmax(matrix_payoff)\n",
    "\n",
    "    pagamento = Pkt_vector[index]\n",
    "\n",
    "    return pagamento, cutoffs[index], payoff, θkt\n",
    "    \n",
    "    \n",
    "    \n",
    "#optimal proposal\n",
    "@njit\n",
    "def propose(θkt, ℓkt, ℓmt, t, Pkt_array, k_L, k_W):   \n",
    "    #payoff is the max between reorganizing, waiting or liquidating\n",
    "    #estou incomodado com esse índices esquisitos no código.\n",
    "    \n",
    "    \n",
    "    #payoff from proposing a reorganization plan\n",
    "    reorg_payoff = Pkt_array[find(θkt), find(ℓmt), t][2]\n",
    "    \n",
    "    #the waiting payoff is the expected continuation value\n",
    "    waiting_payoff = np.sum(np.multiply(pmf[find(θkt), :], k_W[:, find(θkt), find(ℓmt), t]))\n",
    "    \n",
    "    #the liquidation payoff is k_L(t)\n",
    "    liq_payoff = k_L(t)\n",
    "    \n",
    "    #comparing payoffs. returns 0 if liquidation, 1 if reorg, 2 if waiting\n",
    "    payoff_max = max(liq_payoff, reorg_payoff, waiting_payoff)\n",
    "    \n",
    "    if(payoff_max == liq_payoff):\n",
    "        policy = 0.0\n",
    "    else:\n",
    "        if(payoff_max == reorg_payoff):\n",
    "            policy = 1.0\n",
    "            \n",
    "        else:\n",
    "            if(payoff_max == waiting_payoff):\n",
    "                policy = 2.0\n",
    "    \n",
    "        \n",
    "    #returns the payoff and the optimal policy\n",
    "    return payoff_max, policy\n",
    "\n",
    "\n",
    "\n",
    "#calculate the thresholds\n",
    "#refazendo a função threshold adicionando mais uma rektrição na hora de buscar threshold\n",
    "\n",
    "#agora o pagamento deve ser maior que zero para eu caçar um threshold\n",
    "@njit\n",
    "def threshold(ℓmt, ℓkt, t, Pmt_array, m_L, m_W):\n",
    "\n",
    "    #avoiding division by zero in the CDF of θ\n",
    "    if(ℓmt == 1):\n",
    "\n",
    "        if(propose(ℓmt, θlow, ℓkt, t, Pmt_array, m_L, m_W)[1] == 1.0):\n",
    "            Prob_mt = 0\n",
    "        else:\n",
    "            Prob_mt = 1\n",
    "\n",
    "    else:\n",
    "        #o threshold de reorganização é o menor valor de θmt que faz o payoff de reorganização > liquidação\n",
    "        #precisamos calcular o threshold de reorganização do adversário\n",
    "\n",
    "        i = 0\n",
    "        flag = 0\n",
    "        #usei θlow para lower bound de s porque não importa o lower bound quando ele propõe\n",
    "        while (propose(θvals[i], θlow, ℓkt, t, Pmt_array, m_L, m_W)[1] != 1.0 and flag < grid_size-1):\n",
    "            i += 1\n",
    "            flag += 1\n",
    "\n",
    "\n",
    "        #significa que o loop parou porque chegou no limite, logo não há habilidade que compense reorganizar\n",
    "        if( flag == (grid_size - 1)):\n",
    "            Prob_mt = 1\n",
    "\n",
    "        #quando há habilidade que compense reorganizar\n",
    "        else:\n",
    "            ϕmt = θvals[i]\n",
    "\n",
    "            if(ϕmt > ℓmt):\n",
    "\n",
    "\n",
    "                #the probability of liquidation will be the CDF(ϕmt|ℓmt)\n",
    "                #this is the probability that θmt < ϕmt, given ℓmt\n",
    "                Prob_mt = 1 - ((1-ϕmt)**β)/((1 - ℓmt)**β)\n",
    "\n",
    "\n",
    "                #update na informação do lower bound do adversário\n",
    "                ℓmt = max(ℓmt, ϕmt)\n",
    "            else:\n",
    "                Prob_mt = 0\n",
    "\n",
    "    return np.array([ℓmt, Prob_mt], dtype = np.float64)\n",
    "\n",
    "\n",
    "        \n",
    "#expected payoff of answering a reorganization proposal\n",
    "def respond_reorg(θkt, ℓkt, ℓmt, t, Pmt_array, m_L,k_W, Threshold_m, m_W):\n",
    "    \n",
    "#     ℓmt, Prob_mt = Threshold_m[find(ℓmt), find(ℓkt), t, :]\n",
    "\n",
    "    ℓmt, Prob_mt = threshold(ℓmt, ℓkt, t, Pmt_array, m_L, m_W)\n",
    "    \n",
    "    #precisamos dos pagamentos e dos cutoffs associados\n",
    "    Pmt_vector = Pmt_array[find(ℓmt):, find(ℓkt), t, 0]\n",
    "    cutoffs = Pmt_array[find(ℓmt):, find(ℓkt), t, 1].astype(np.int8)\n",
    "\n",
    "    #criando os arrays para A1 e A2\n",
    "    A1 = np.zeros(Pmt_vector.shape)\n",
    "    A2 = np.zeros(Pmt_vector.shape)\n",
    "\n",
    "    #calculando A1\n",
    "\n",
    "    #matriz de payoffs são os pagamentos, já ponderados pelas suas probabilidades\n",
    "    payoff_A1 = Pmt_vector\n",
    "\n",
    "    payoff_A1 = np.multiply(pmf[find(ℓmt),find(ℓmt):], payoff_A1)\n",
    "\n",
    "    #matriz indicando onde esses payoffs são maiores que o valor de continuação de s\n",
    "    #usando transposta para ele ficar com θmt nas linhas e θs,t+1 nas colunas\n",
    "\n",
    "    ind_A1 = np.where(k_W[find(θkt):, cutoffs, np.arange(find(ℓmt), 100, step = 1), t].T <= Pmt_vector[:,None], 1, 0 )\n",
    "    \n",
    "    #se fizermos np.where, ele vai comparar linha a linha? Pelo tekte que fiz, sim\n",
    "    #tekte:\n",
    "    # a = np.array([[2,2],[3,3], [4,4]])\n",
    "    # b = np.array([[1], [3], [3]])\n",
    "    # np.where(a <= b, 1, 0)\n",
    "\n",
    "    #ind_A2 é o opokto de ind_A1\n",
    "    ind_A2 = np.where(ind_A1 == 0, 1, 0 )\n",
    "\n",
    "\n",
    "    #ponderando ind_A1 pelas probabilidades\n",
    "    ind_A1 = np.multiply(pmf[None, find(θkt), find(θkt):], ind_A1)\n",
    "\n",
    "    #ponderando ind_A2 pelas probabilidades\n",
    "    ind_A2 = np.multiply(pmf[None, find(θkt), find(θkt):], ind_A2)\n",
    "\n",
    "\n",
    "    A1 = np.multiply(payoff_A1[:,None], ind_A1)\n",
    "\n",
    "\n",
    "    #cálculo de A2\n",
    "\n",
    "\n",
    "    payoff_A2 = k_W[find(θkt):, cutoffs, np.arange(find(ℓmt), grid_size, step = 1), t].T\n",
    "    payoff_A2 = np.multiply(pmf[find(ℓmt), find(ℓmt):, None], payoff_A2)\n",
    "\n",
    "    A2 = np.multiply(payoff_A2, ind_A2)\n",
    "\n",
    "    payoff = np.sum(A1) + np.sum(A2)\n",
    "    \n",
    "    #returns the expected value of answering a reorganization proposal and the probability of liquidation\n",
    "    return payoff * (1-Prob_mt), Prob_mt\n",
    "\n",
    "\n",
    "    #por que algumas entradas de A1 são zero se o valor de continuação de j é zero para o período T?\n",
    "    #algumas entradas de A1 podem ser zero se a chance de um valor θs,t dado ℓkt for zero.\n",
    "    #significa que s não faria aquele pagamento porque não tem chance de a habilidade dele aumentar tanto\n",
    "\n",
    "#expected payoff of answering a liquidation proposal\n",
    "def respond_liq(θkt, ℓkt, ℓmt, t, k_L, m_L):\n",
    "\n",
    "    #max between the liquidation payoff and the expected payoff of reorganizing and paying Lm(t)            \n",
    "\n",
    "    #matricial product because we want to multiply and sum all the arguments\n",
    "    expec_reorg = np.dot(pmf[find(θkt), :], Ut[:, t] - m_L(t))\n",
    "\n",
    "    return max(k_L(t), expec_reorg)\n",
    "        \n",
    "def respond(θkt, ℓkt, ℓmt, t, Pmt_array, k_L,  m_L, k_W, Threshold_m, m_W):\n",
    "    expec_payoff_reorg, Prob_mt = respond_reorg(θkt, ℓkt, ℓmt, t, Pmt_array, m_L, k_W, Threshold_m, m_W)\n",
    "\n",
    "    kt_respond = Prob_mt * respond_liq(θkt, ℓkt, ℓmt, t, k_L, m_L) + expec_payoff_reorg\n",
    "\n",
    "    return kt_respond\n"
   ]
  },
  {
   "cell_type": "code",
   "execution_count": 96,
   "metadata": {},
   "outputs": [],
   "source": [
    "#funções de s baseado nas funções genéricas\n",
    "\n",
    "def Pst(θst, ℓjt, t):\n",
    "    return Pkt(θst, ℓjt, t, s_W, j_W)\n",
    "\n",
    "def s_propose(θst, ℓst, ℓjt, t):\n",
    "    return propose(θst, ℓst, ℓjt, t, Pst_array, s_L, s_W)\n",
    "\n",
    "def threshold_j(ℓjt, ℓst, t):\n",
    "    return threshold(ℓjt, ℓst, t, Pjt_array, j_L, j_W)\n",
    "\n",
    "def s_respond_reorg(θst, ℓst, ℓjt, t):\n",
    "    return respond_reorg(θst, ℓst, ℓjt, t, Pjt_array, j_L, s_W, Threshold_j, j_W)\n",
    "\n",
    "\n",
    "def s_respond_liq(θst, ℓst, ℓjt, t):\n",
    "    return respond_liq(θst, ℓst, ℓjt, t, s_L, j_L)\n",
    "\n",
    "    \n",
    "def s_respond(θst, ℓst, ℓjt, t):\n",
    "    return respond(θst, ℓst, ℓjt, t, Pjt_array, s_L,  j_L, s_W, Threshold_j, j_W)\n",
    "    \n",
    "    \n"
   ]
  },
  {
   "cell_type": "code",
   "execution_count": 97,
   "metadata": {},
   "outputs": [],
   "source": [
    "#funções de j baseado nas funções genéricas\n",
    "\n",
    "def Pjt(θjt, ℓst, t):\n",
    "    return Pkt(θjt, ℓst, t, j_W, s_W)\n",
    "\n",
    "def j_propose(θjt, ℓjt, ℓst, t):\n",
    "    return propose(θjt, ℓjt, ℓst, t, Pjt_array, j_L, j_W)\n",
    "\n",
    "def threshold_s(ℓst, ℓjt, t):\n",
    "    return threshold(ℓst, ℓjt, t, Pst_array, s_L, s_W)\n",
    "\n",
    "def j_respond_reorg(θjt, ℓjt, ℓst, t):\n",
    "    return respond_reorg(θjt, ℓjt, ℓst, t, Pst_array, s_L, j_W, Threshold_s, s_W)\n",
    "\n",
    "\n",
    "def j_respond_liq(θjt, ℓjt, ℓst, t):\n",
    "    return respond_liq(θjt, ℓjt, ℓst, t, j_L, s_L)\n",
    "\n",
    "    \n",
    "def j_respond(θjt, ℓjt, ℓst, t):\n",
    "    return respond(θjt, ℓjt, ℓst, t, Pst_array, j_L,  s_L, j_W, Threshold_s, s_W)\n",
    "    \n",
    "    \n"
   ]
  },
  {
   "cell_type": "markdown",
   "metadata": {},
   "source": [
    "### 1,2,3, testando"
   ]
  },
  {
   "cell_type": "code",
   "execution_count": 98,
   "metadata": {},
   "outputs": [
    {
     "name": "stdout",
     "output_type": "stream",
     "text": [
      "tempo total para popular o período 2 : 10.03125\n"
     ]
    }
   ],
   "source": [
    "s_W[..., (T-1)] = s_L(T)\n",
    "j_W[..., (T-1)] = j_L(T)\n",
    "\n",
    "\n",
    "\n",
    "\n",
    "t = (T-1)\n",
    "\n",
    "\n",
    "start = time.process_time()\n",
    "    \n",
    "    \n",
    "\n",
    "for θs in θs_vals:\n",
    "    for ℓj in ℓj_vals:\n",
    "            Pst_array[find(θs), find(ℓj), t, :] = Pst(θs, ℓj, t)\n",
    "            Pjt_array[find(θs), find(ℓj), t, :] = Pjt(θs, ℓj, t)\n",
    "            Threshold_s[find(θs), find(ℓj), t, :] = threshold_s(θs, ℓj, t)\n",
    "            Threshold_j[find(θs), find(ℓj), t, :] = threshold_j(θs, ℓj, t)\n",
    "            \n",
    "\n",
    "duração = time.process_time() - start\n",
    "\n",
    "\n",
    "\n",
    "print(\"tempo total para popular o período\", t, \":\",time.process_time() - start)\n",
    "\n"
   ]
  },
  {
   "cell_type": "code",
   "execution_count": 101,
   "metadata": {},
   "outputs": [
    {
     "data": {
      "text/plain": [
       "(0.224045815, 1.0)"
      ]
     },
     "execution_count": 101,
     "metadata": {},
     "output_type": "execute_result"
    },
    {
     "data": {
      "text/plain": [
       "array([0.44      , 0.97009356])"
      ]
     },
     "execution_count": 101,
     "metadata": {},
     "output_type": "execute_result"
    },
    {
     "data": {
      "text/plain": [
       "array([0.2, 1. ])"
      ]
     },
     "execution_count": 101,
     "metadata": {},
     "output_type": "execute_result"
    },
    {
     "data": {
      "text/plain": [
       "(0.005799755844271269, 0.970093560334805)"
      ]
     },
     "execution_count": 101,
     "metadata": {},
     "output_type": "execute_result"
    },
    {
     "data": {
      "text/plain": [
       "0.22404581499999998"
      ]
     },
     "execution_count": 101,
     "metadata": {},
     "output_type": "execute_result"
    },
    {
     "data": {
      "text/plain": [
       "0.19393"
      ]
     },
     "execution_count": 101,
     "metadata": {},
     "output_type": "execute_result"
    },
    {
     "data": {
      "text/plain": [
       "0.22314515819573433"
      ]
     },
     "execution_count": 101,
     "metadata": {},
     "output_type": "execute_result"
    }
   ],
   "source": [
    "#testando funções de s\n",
    "\n",
    "t = T-1\n",
    "\n",
    "θkt, ℓkt, ℓmt = 0.5, 0.3, 0.2\n",
    "\n",
    "#ok\n",
    "s_propose(θkt, ℓkt, ℓmt, t)\n",
    "\n",
    "\n",
    "threshold_j(ℓmt, ℓkt, t)\n",
    "Threshold_j[find(ℓmt), find(ℓkt), t,:]\n",
    "\n",
    "#ok\n",
    "s_respond_reorg(θkt, ℓkt, ℓmt, t)\n",
    "\n",
    "#ok, e nesse caso s prefere liquidar a firma mesmo\n",
    "s_respond_liq(θkt, ℓkt, ℓmt, t)\n",
    "s_L(3)\n",
    "\n",
    "\n",
    "#ok\n",
    "s_respond(θkt, ℓkt, ℓmt, t)\n",
    "\n",
    "\n"
   ]
  },
  {
   "cell_type": "code",
   "execution_count": 104,
   "metadata": {},
   "outputs": [
    {
     "data": {
      "text/plain": [
       "(0.030115815000000025, 1.0)"
      ]
     },
     "execution_count": 104,
     "metadata": {},
     "output_type": "execute_result"
    },
    {
     "data": {
      "text/plain": [
       "array([0.46      , 0.97909024])"
      ]
     },
     "execution_count": 104,
     "metadata": {},
     "output_type": "execute_result"
    },
    {
     "data": {
      "text/plain": [
       "array([0.2, 1. ])"
      ]
     },
     "execution_count": 104,
     "metadata": {},
     "output_type": "execute_result"
    },
    {
     "data": {
      "text/plain": [
       "(0.0, 0.9790902363121293)"
      ]
     },
     "execution_count": 104,
     "metadata": {},
     "output_type": "execute_result"
    },
    {
     "data": {
      "text/plain": [
       "0.02066581500000001"
      ]
     },
     "execution_count": 104,
     "metadata": {},
     "output_type": "execute_result"
    },
    {
     "data": {
      "text/plain": [
       "0.0"
      ]
     },
     "execution_count": 104,
     "metadata": {},
     "output_type": "execute_result"
    },
    {
     "data": {
      "text/plain": [
       "0.020233697691932756"
      ]
     },
     "execution_count": 104,
     "metadata": {},
     "output_type": "execute_result"
    },
    {
     "data": {
      "text/plain": [
       "(0.19393, 19, 0.030115815000000025, 0.5)"
      ]
     },
     "execution_count": 104,
     "metadata": {},
     "output_type": "execute_result"
    }
   ],
   "source": [
    "#testando funções de j\n",
    "\n",
    "t = T-1\n",
    "\n",
    "θkt, ℓkt, ℓmt = 0.5, 0.3, 0.2\n",
    "\n",
    "#ok\n",
    "j_propose(θkt, ℓkt, ℓmt, t)\n",
    "\n",
    "threshold_s(ℓmt, ℓkt, t)\n",
    "Threshold_s[find(ℓmt), find(ℓkt), t,:]\n",
    "\n",
    "#ok\n",
    "j_respond_reorg(θkt, ℓkt, ℓmt, t)\n",
    "\n",
    "#ok, e nesse caso s prefere liquidar a firma mesmo\n",
    "j_respond_liq(θkt, ℓkt, ℓmt, t)\n",
    "j_L(1)\n",
    "\n",
    "\n",
    "#ok\n",
    "j_respond(θkt, ℓkt, ℓmt, t)\n",
    "\n",
    "Pjt(θkt, ℓmt, t)"
   ]
  },
  {
   "cell_type": "code",
   "execution_count": null,
   "metadata": {},
   "outputs": [],
   "source": [
    "#testando tempo de s\n",
    "\n",
    "%timeit s_propose(θkt, ℓkt, ℓmt, t)[0]\n",
    "\n",
    "\n",
    "%timeit s_respond_reorg(θkt, ℓkt, ℓmt, t)\n",
    "\n",
    "\n",
    "%timeit s_respond_liq(θkt, ℓkt, ℓmt, t)\n",
    "\n",
    "\n",
    "%timeit s_respond(θkt, ℓkt, ℓmt, t)"
   ]
  },
  {
   "cell_type": "code",
   "execution_count": null,
   "metadata": {},
   "outputs": [],
   "source": [
    "#testando tempo de j\n",
    "\n",
    "%timeit j_propose(θkt, ℓkt, ℓmt, t)[0]\n",
    "\n",
    "\n",
    "%timeit j_respond_reorg(θkt, ℓkt, ℓmt, t)\n",
    "\n",
    "\n",
    "%timeit j_respond_liq(θkt, ℓkt, ℓmt, t)\n",
    "\n",
    "\n",
    "%timeit j_respond(θkt, ℓkt, ℓmt, t)\n",
    "\n",
    "#j_respond e j_respond_reorg estão muito mais rápidos que as respectivas funções de s. Por quê? \n",
    "#Não consegui identificar. Meu chute é que tem alguma condição if que vai em uma e não em outra\n",
    "\n",
    "#tentei consertar  r_respond usando um vetor e não rolou"
   ]
  },
  {
   "cell_type": "markdown",
   "metadata": {},
   "source": [
    "### Passo 4: populando os arrays\n",
    "\n",
    "Vamos relembrar a notação de matriz\n",
    "\n",
    "\n",
    "\n"
   ]
  },
  {
   "cell_type": "markdown",
   "metadata": {},
   "source": [
    "#### Como é a notação dessa matriz, na prática?\n",
    "\n",
    "\n",
    "$ W_{st} (\\Is{t})   =$ s_W[ $\\theta_{st}, l_{st}, l_{jt}, t$] \n",
    "\n",
    "Exemplo: \n",
    "\n",
    "Ws_array[ $0.5, 0.3,  0.2, 14$] = $(1-\\lambda_j) *$ s_propose(0.5, 0.3,0.2, 15) + $\\lambda_j * $s_respond(0.5, 0.3,0.2, 15)\n",
    "\n",
    "* t = 15 em s_W porque a entrada 14 do array se refere ao período 15\n",
    "\n"
   ]
  },
  {
   "cell_type": "markdown",
   "metadata": {},
   "source": [
    "Loop para popular as matrizes das funções valor no penúltimo período.\n",
    "\n",
    "É um ensaio antes de rodar o jogo inteiro"
   ]
  },
  {
   "cell_type": "markdown",
   "metadata": {},
   "source": [
    "#populando o penúltimo período\n",
    "\n",
    "t = (T-1)\n",
    "\n",
    "\n",
    "start = time.process_time()\n",
    "\n",
    "\n",
    "    \n",
    "for θs in θs_vals:\n",
    "    for ℓj in ℓj_vals:\n",
    "            Pst_array[find(θs), find(ℓj), (t-1), :] = Pst(θs, ℓj, t)\n",
    "            Pjt_array[find(θs), find(ℓj), (t-1), :] = Pjt(θs, ℓj, t)\n",
    "            Threshold_j[find(θs), find(ℓj), (t-1), :] = threshold_j(θs, ℓj, t)\n",
    "            Threshold_s[find(θs), find(ℓj), (t-1), :] = threshold_s(θs, ℓj, t)\n",
    "print(\"tempo total para preparar o terreno do período\", t, \":\", time.process_time() - start)\n",
    "    \n",
    "\n",
    "for θs in θs_vals:\n",
    "    for ℓs in ℓs_vals:\n",
    "        for ℓj in ℓj_vals:\n",
    "            s_W[find(θs), find(ℓs), find(ℓj), (t-1)] = (1-λj) * s_propose(θs, ℓs, ℓj, t)[0] + (λj) * s_respond(θs, ℓs, ℓj, t)\n",
    "            j_W[find(θs), find(ℓs), find(ℓj), (t-1)] = (λj) * j_propose(θs, ℓs, ℓj, t)[0] + (1-λj) * j_respond(θs, ℓs, ℓj, t)\n",
    "\n",
    "\n",
    "duração = time.process_time() - start\n",
    "\n",
    "\n",
    "\n",
    "print(\"tempo total para popular o período\", t, \":\",time.process_time() - start)\n"
   ]
  },
  {
   "cell_type": "markdown",
   "metadata": {},
   "source": [
    "Checando se o penúltimo período neste caso é igual ao penúltimo período calculado no dia 11/10, que é o equilíbrio de referência calculado usando outro notebook"
   ]
  },
  {
   "cell_type": "code",
   "execution_count": null,
   "metadata": {},
   "outputs": [],
   "source": [
    "# import os.path\n",
    "\n",
    "# date_check = '11_10'\n",
    "\n",
    "\n",
    "# s_Wcheck = np.load(os.path.join('Ws_array_'+date_check+'.npy'))\n",
    "# j_Wcheck = np.load(os.path.join('Wj_array_'+date_check+'.npy'))\n"
   ]
  },
  {
   "cell_type": "code",
   "execution_count": 105,
   "metadata": {
    "scrolled": false
   },
   "outputs": [
    {
     "name": "stdout",
     "output_type": "stream",
     "text": [
      "tempo total para preparar o terreno do período 2 : 8.34375\n",
      "tempo total para popular o período 2 : 352.046875\n",
      "tempo total para preparar o terreno do período 1 : 13.28125\n",
      "tempo total para popular o período 1 : 346.875\n"
     ]
    }
   ],
   "source": [
    "#populating the matrices\n",
    "\n",
    "s_W[..., (T-1)] = s_L(T)\n",
    "j_W[..., (T-1)] = j_L(T)\n",
    "\n",
    "\n",
    "tempo_total = []\n",
    "\n",
    "\n",
    "#preciso que o Pst_array tenha o valor de Pst(t=0), com esse loop não está funcionando.\n",
    "\n",
    "\n",
    "#range para ir do t= T até o t = 1\n",
    "#só preciso dos valores das matrizes em t=1 porque elas serão usadas para calcular o valor esperado\n",
    "for t in range(T-1, 0, -1):\n",
    "    start = time.process_time()\n",
    "    \n",
    "    \n",
    "\n",
    "    for i, θs in enumerate(θs_vals):\n",
    "        for j, ℓj in enumerate(ℓj_vals):\n",
    "            Pst_array[i, j, t, :] = Pst(θs, ℓj, t)\n",
    "            Pjt_array[i, j, t, :] = Pjt(θs, ℓj, t)\n",
    "            Threshold_j[i, j, t, :] = threshold_j(θs, ℓj, t)\n",
    "            Threshold_s[i, j, t, :] = threshold_s(θs, ℓj, t)\n",
    "    print(\"tempo total para preparar o terreno do período\", t, \":\", time.process_time() - start)\n",
    "    \n",
    "\n",
    "    for i, θk in enumerate(θs_vals):\n",
    "        for j, ℓk in enumerate(ℓs_vals):\n",
    "            for k, ℓm in enumerate(ℓj_vals):\n",
    "                s_W[i, j, k, (t-1)] = (1-λj) * s_propose(θk, ℓk, ℓm, t)[0] + (λj) * s_respond(θk, ℓk, ℓm, t)\n",
    "                j_W[i, j, k, (t-1)] = (λj) * j_propose(θk, ℓk, ℓm, t)[0] + (1-λj) * j_respond(θk, ℓk, ℓm, t)\n",
    "\n",
    "\n",
    "\n",
    "    duração = time.process_time() - start\n",
    "    tempo_total.append(duração)\n",
    "\n",
    "\n",
    "\n",
    "    print(\"tempo total para popular o período\", t, \":\",time.process_time() - start)"
   ]
  },
  {
   "cell_type": "markdown",
   "metadata": {},
   "source": [
    "Para mostrar que precisamos preparar o terreno em t = 0"
   ]
  },
  {
   "cell_type": "code",
   "execution_count": 106,
   "metadata": {},
   "outputs": [
    {
     "data": {
      "text/plain": [
       "array([0., 0., 0., 0.])"
      ]
     },
     "execution_count": 106,
     "metadata": {},
     "output_type": "execute_result"
    },
    {
     "data": {
      "text/plain": [
       "(0.04340792305, 70, 0.45607091627064145, 0.5)"
      ]
     },
     "execution_count": 106,
     "metadata": {},
     "output_type": "execute_result"
    },
    {
     "data": {
      "text/plain": [
       "(0.11415140902232265, 51, 0.4164788333176241, 0.5)"
      ]
     },
     "execution_count": 106,
     "metadata": {},
     "output_type": "execute_result"
    }
   ],
   "source": [
    "Pst_array[find(0.5), find(0.5), 0]\n",
    "\n",
    "\n",
    "Pst(0.5, 0.5, 1)\n",
    "\n",
    "Pst(0.5, 0.5, 0)\n",
    "\n"
   ]
  },
  {
   "cell_type": "code",
   "execution_count": 107,
   "metadata": {},
   "outputs": [],
   "source": [
    "#passo adicional de preparar o terreno em t = 0 \n",
    "\n",
    "t = 0 \n",
    "    \n",
    "for θs in θs_vals:\n",
    "    for ℓj in ℓj_vals:\n",
    "        Pst_array[find(θs), find(ℓj), t, :] = Pst(θs, ℓj, t)\n",
    "        Pjt_array[find(θs), find(ℓj), t, :] = Pjt(θs, ℓj, t)\n",
    "        Threshold_j[find(θs), find(ℓj), t, :] = threshold_j(θs, ℓj, t)\n",
    "        Threshold_s[find(θs), find(ℓj), t, :] = threshold_s(θs, ℓj, t)"
   ]
  },
  {
   "cell_type": "code",
   "execution_count": 108,
   "metadata": {},
   "outputs": [
    {
     "data": {
      "text/plain": [
       "array([ 0.11415141, 51.        ,  0.41647883,  0.5       ])"
      ]
     },
     "execution_count": 108,
     "metadata": {},
     "output_type": "execute_result"
    },
    {
     "data": {
      "text/plain": [
       "(0.04340792305, 70, 0.45607091627064145, 0.5)"
      ]
     },
     "execution_count": 108,
     "metadata": {},
     "output_type": "execute_result"
    },
    {
     "data": {
      "text/plain": [
       "(0.11415140902232265, 51, 0.4164788333176241, 0.5)"
      ]
     },
     "execution_count": 108,
     "metadata": {},
     "output_type": "execute_result"
    }
   ],
   "source": [
    "Pst_array[find(0.5), find(0.5), 0]\n",
    "\n",
    "Pst(0.5, 0.5, 1) \n",
    "\n",
    "\n",
    "Pst(0.5, 0.5, 0)\n"
   ]
  },
  {
   "cell_type": "code",
   "execution_count": null,
   "metadata": {},
   "outputs": [],
   "source": [
    "#quanto tempo demora para rodar o jogo com todas as casas decimais em todos os turnos?\n",
    "\n",
    "\n",
    "sum(tempo_total)/60\n",
    "\n",
    "\n",
    "#22/09 demorou 39.42 minutos\n"
   ]
  },
  {
   "cell_type": "code",
   "execution_count": null,
   "metadata": {
    "scrolled": true
   },
   "outputs": [],
   "source": [
    "#testando se threshold tá ok\n",
    "#threshold não está ok\n",
    "\n",
    "\n",
    "t = 2\n",
    "\n",
    "θkt, ℓkt, ℓmt = 0.7, 0.6, 0.02\n",
    "\n",
    "#ok\n",
    "\n",
    "threshold_j(ℓmt, ℓkt, t)\n",
    "Threshold_j[find(ℓmt), find(ℓkt), t,:]\n",
    "\n",
    "\n",
    "threshold_s(ℓmt, ℓkt, t)\n",
    "Threshold_s[find(ℓmt), find(ℓkt), t,:]"
   ]
  },
  {
   "cell_type": "code",
   "execution_count": null,
   "metadata": {},
   "outputs": [],
   "source": [
    "#testando se Pkt está ok\n",
    "\n",
    "t = 8\n",
    "\n",
    "θkt, ℓkt, ℓmt = 0.5, 0.3, 0.2\n",
    "\n",
    "\n",
    "Pst(θkt, ℓmt, t) \n",
    "type(Pst_array[find(θkt), find(ℓmt), t][1])\n",
    "\n",
    "Pjt(θkt, ℓmt, t) \n",
    "Pjt_array[find(θkt), find(ℓmt), t]\n",
    "\n",
    "\n"
   ]
  },
  {
   "cell_type": "markdown",
   "metadata": {},
   "source": [
    "##### Salvando os arquivos com os arrays\n",
    "\n",
    "Só para não ter que ficar gerando os dados toda vez"
   ]
  },
  {
   "cell_type": "code",
   "execution_count": 109,
   "metadata": {},
   "outputs": [],
   "source": [
    "#salvando os arrays para poder trabalhar só na parte da negociação depois\n",
    "\n",
    "import os.path\n",
    "date = '15_10'\n",
    "\n",
    "np.savetxt(os.path.join('tempo_total_'+date+'.txt'), tempo_total)\n",
    "np.save(os.path.join('Ws_array_'+date), s_W)\n",
    "np.save(os.path.join('Wj_array_'+date), j_W)\n",
    "np.save(os.path.join('Pst_array_'+date), Pst_array)\n",
    "np.save(os.path.join('Pjt_array_'+date), Pjt_array)\n",
    "np.save(os.path.join('Tj_'+date), Threshold_j)\n",
    "np.save(os.path.join('Ts_'+date), Threshold_s)\n",
    "\n",
    "\n",
    "\n",
    "\n",
    "\n",
    "# np.savetxt('Wj_array.npy', Wj_array)\n",
    "\n",
    "#curioso que eu salvei array pela última vez no dia 21/08, há um mês"
   ]
  },
  {
   "cell_type": "code",
   "execution_count": null,
   "metadata": {},
   "outputs": [],
   "source": [
    "#comando para carregar a base\n",
    "#aqui tem o final .npy\n",
    "\n",
    "\n",
    "# import os.path\n",
    "\n",
    "# def load_data(date):\n",
    "    \n",
    "#     #date format: day_month (ex: 23_09)\n",
    "\n",
    "#     s_W = np.load(os.path.join('Ws_array_'+date+'.npy'))\n",
    "#     j_W = np.load(os.path.join('Wj_array_'+date+'.npy'))\n",
    "#     Pst_array = np.load(os.path.join('Pst_array_'+date+'.npy'))\n",
    "#     Pjt_array = np.load(os.path.join('Pjt_array_'+date+'.npy'))\n",
    "#     Threshold_j = np.load(os.path.join('Tj_'+date+'.npy'))\n",
    "#     Threshold_s = np.load(os.path.join('Ts_'+date+'.npy'))\n",
    "    \n",
    "#     return print('data loaded from '+date)\n",
    "\n",
    "# #versões \n",
    "# #1) 23_09\n",
    "# #2) 29_09\n",
    "# # j_W = np.load(Wj_array_29_09.npy)\n",
    "\n",
    "# type(os.path.join('Wj_array_29_09.npy'))\n",
    "\n",
    "\n",
    "# date = '29_09'\n",
    "# os.path.join('Wj_array_'+date+'.npy')\n",
    "# print('Wj_array_29_09.npy')\n",
    "\n",
    "# load_data('23_09')\n",
    "#=============================\n",
    "# import os.path\n",
    "\n",
    "# date = '14_10'\n",
    "\n",
    "\n",
    "# s_W = np.load(os.path.join('Ws_array_'+date+'.npy'))\n",
    "# j_W = np.load(os.path.join('Wj_array_'+date+'.npy'))\n",
    "# Pst_array = np.load(os.path.join('Pst_array_'+date+'.npy'))\n",
    "# Pjt_array = np.load(os.path.join('Pjt_array_'+date+'.npy'))\n",
    "# Threshold_j = np.load(os.path.join('Tj_'+date+'.npy'))\n",
    "# Threshold_s = np.load(os.path.join('Ts_'+date+'.npy'))"
   ]
  },
  {
   "cell_type": "code",
   "execution_count": null,
   "metadata": {},
   "outputs": [],
   "source": [
    "#testando se o python tem memória para criar 272x2 arrays com tamanho igual ao desse jogo\n",
    "\n",
    "# teste_W = np.zeros((grid_size, grid_size, grid_size, T, 272*2))\n",
    "\n",
    "\n",
    "#conclusão: não consegue alocar memória para 272*2 arrays contendo zeros."
   ]
  },
  {
   "cell_type": "markdown",
   "metadata": {},
   "source": [
    "### Debugando Pkt"
   ]
  },
  {
   "cell_type": "code",
   "execution_count": null,
   "metadata": {},
   "outputs": [],
   "source": [
    "#debugando a função Pkt. Vamos olhar pela ótica de s, então é Pst\n",
    "\n",
    "\n",
    "# def Pkt(θkt, ℓmt, t, k_W, m_W):\n",
    "θst, ℓjt, t = 0.73, 0.5, 0\n",
    "    \n",
    "θkt, ℓmt, t, k_W, m_W = θst, ℓjt, t, s_W, j_W\n",
    "    \n",
    "    \n",
    "#vector of possible proposals\n",
    "Pkt_vector = np.empty(θvals[find(ℓmt):].size * 2)\n",
    "\n",
    "#todos os valores de continuação quando cutoff não faz update\n",
    "#primeira metade de Pkt_vector\n",
    "Pkt_vector[:int(Pkt_vector.size/2)] = m_W[find(ℓmt):, find(ℓmt), find(θkt), t]\n",
    "\n",
    "    \n",
    "#testando se o tamanho está ok\n",
    "Pkt_vector.size == θvals[find(ℓjt):].size * 2\n"
   ]
  },
  {
   "cell_type": "code",
   "execution_count": null,
   "metadata": {},
   "outputs": [],
   "source": [
    "\n",
    "Pkt_vector\n",
    "\n",
    "j_W[find(ℓmt):, find(ℓmt), find(θkt), t]\n",
    "#ok, essa parte do vetor está ok"
   ]
  },
  {
   "cell_type": "code",
   "execution_count": null,
   "metadata": {},
   "outputs": [],
   "source": [
    "diagonal = np.arange(find(ℓmt), grid_size)\n",
    "diagonal\n",
    "\n",
    "\n",
    "Pkt_vector[int(Pkt_vector.size/2):] = m_W[diagonal, diagonal, find(θkt), t]"
   ]
  },
  {
   "cell_type": "code",
   "execution_count": null,
   "metadata": {},
   "outputs": [],
   "source": [
    "m_W[diagonal, diagonal, find(θkt), t]\n",
    "\n",
    "Pkt_vector[int(Pkt_vector.size/2):]"
   ]
  },
  {
   "cell_type": "code",
   "execution_count": null,
   "metadata": {},
   "outputs": [],
   "source": [
    "#gráfico das duas matrizes\n",
    "plt.plot(m_W[diagonal, diagonal, find(θkt), t], marker = 'o')\n",
    "plt.plot(j_W[find(ℓmt):, find(ℓmt), find(θkt), t])"
   ]
  },
  {
   "cell_type": "code",
   "execution_count": null,
   "metadata": {},
   "outputs": [],
   "source": [
    "#associated cutoffs\n",
    "cutoffs = np.empty(Pkt_vector.shape, dtype = np.int16)\n",
    "\n",
    "for i, pkt in enumerate(Pkt_vector):\n",
    "    cutoffs[i] = cutoff_m(pkt, θkt, ℓmt, t, m_W)\n",
    "    \n",
    "cutoffs[51:]\n",
    "cutoffs[:51]\n",
    "    "
   ]
  },
  {
   "cell_type": "code",
   "execution_count": null,
   "metadata": {},
   "outputs": [],
   "source": [
    "#analisando a função indicadora\n",
    "\n",
    "m_W[:, cutoffs, find(θkt), t].shape\n",
    "\n",
    "Pkt_vector.shape\n"
   ]
  },
  {
   "cell_type": "code",
   "execution_count": null,
   "metadata": {},
   "outputs": [],
   "source": [
    "#indicator function\n",
    "#ind_E1 é igual a 1 se pkt for maior ou igual ao valor de continuação do adversário\n",
    "ind_E1 = np.where(m_W[:, cutoffs, find(θkt), t] <= Pkt_vector , 1, 0)\n",
    "\n",
    "\n",
    "ind_E1.shape\n",
    "\n",
    "#cada linha de ind_E1 corresponde a um possível valor de θj,t+1\n",
    "#cada coluna de ind_E1 corresponde a um diferente valor de pkt\n",
    "\n",
    "#ind_E2 é o oposto de ind_E1\n",
    "ind_E2 = np.where(ind_E1 == 0, 1, 0)"
   ]
  },
  {
   "cell_type": "code",
   "execution_count": null,
   "metadata": {},
   "outputs": [],
   "source": [
    "#testando indicadora alternativa\n",
    "\n",
    "ind_E1alt = np.where(m_W[:, cutoffs, find(θkt), t].T <= Pkt_vector[:,None] , 1, 0)\n",
    "ind_E2alt = np.where(ind_E1alt == 1, 0, 1)\n",
    "ind_E1alt.shape\n",
    "\n",
    "#ok, ind_E1 e indE1_alt diferem. Vamos ver qual é qual\n",
    "ind_E1alt[0]\n",
    "ind_E1[0]"
   ]
  },
  {
   "cell_type": "code",
   "execution_count": null,
   "metadata": {},
   "outputs": [],
   "source": [
    "#checando se  a ind_E1 está correta. Vou ver os valores de continuação de j e checar se são menores que o pagamento\n",
    "\n",
    "m_W[:, cutoffs, find(θkt), t][:,0] <= Pkt_vector[0]\n",
    "\n"
   ]
  },
  {
   "cell_type": "markdown",
   "metadata": {},
   "source": [
    "Ok, achei um erro na ind_E1. Vamos ver o restante do código"
   ]
  },
  {
   "cell_type": "code",
   "execution_count": null,
   "metadata": {},
   "outputs": [],
   "source": [
    "#procurando erro no payoff\n",
    "Ut[None, :,t].shape\n",
    "\n",
    "Pkt_vector[:, None].shape\n"
   ]
  },
  {
   "cell_type": "code",
   "execution_count": null,
   "metadata": {},
   "outputs": [],
   "source": [
    "\n",
    "#cálculo do E1 ####\n",
    "payoff_E1 = np.array(Ut[:,t, None] - Pkt_vector[None, :], dtype = np.float64)\n",
    "\n",
    "#queremos multiplicar cada combinação de s1p1, s2p1,... por cada coluna de ind_E1\n",
    "payoff_E1 = np.sum(payoff_E1, axis = 0)\n",
    "\n",
    "Ut[1,0] - Pkt_vector[0]\n",
    "\n"
   ]
  },
  {
   "cell_type": "code",
   "execution_count": null,
   "metadata": {},
   "outputs": [],
   "source": [
    "#vamos mudar o payoff para compatibilizar dimensões\n",
    "\n",
    "pE1 = np.array(Ut[None, :,t] - Pkt_vector[:, None], dtype = np.float64)\n",
    "\n",
    "pE1.shape\n",
    "\n",
    "\n",
    "\n",
    "pE1[0,0] == Ut[0,0] - Pkt_vector[0]\n",
    "\n",
    "pE1[0,1] == Ut[1,0] - Pkt_vector[0]"
   ]
  },
  {
   "cell_type": "code",
   "execution_count": null,
   "metadata": {},
   "outputs": [],
   "source": [
    "np.sum(pE1, axis = 1)"
   ]
  },
  {
   "cell_type": "code",
   "execution_count": null,
   "metadata": {},
   "outputs": [],
   "source": [
    "#seguindo com a nova solução\n",
    "\n",
    "pE1 = np.sum(pE1, axis = 1) #agora soma nas colunas, pois quero preservar as linhas"
   ]
  },
  {
   "cell_type": "code",
   "execution_count": null,
   "metadata": {},
   "outputs": [],
   "source": [
    "#ponderando ind_E1alt pelas probabilidades\n",
    "\n",
    "ind_E1alt.shape\n",
    "#cada coluna de ind_E1 corresponde a uma habilidade do adversário\n",
    "\n",
    "#ponderando ind_E1 pelas probabilidades\n",
    "#prob(θj,t+1 |ℓj,t)\n",
    "\n",
    "ind_E1alt = np.multiply(pmf2[None, find(ℓmt), :], ind_E1alt)\n",
    "\n",
    "ind_E1alt.shape"
   ]
  },
  {
   "cell_type": "code",
   "execution_count": null,
   "metadata": {},
   "outputs": [],
   "source": [
    "#agora o payoff de E1\n",
    "\n",
    "\n",
    "pE1.shape\n",
    "\n",
    "ind_E1alt.shape\n",
    "\n",
    "E1alt = np.multiply(pE1[:, None], ind_E1alt)\n",
    "E1alt.shape\n",
    "\n",
    "E1alt = np.sum(E1alt, axis = 1)#ok, somar no axis = 1 preserva o formato de 1 proposta de pagamento por linha\n",
    "E1alt.shape\n",
    "\n",
    "\n",
    "E1 = np.multiply(payoff_E1[None,:], ind_E1)\n",
    "E1 = np.sum(E1, axis = 0)\n",
    "E1.shape #curioso que E1 também tem shape (102,)...\n",
    "\n",
    "\n"
   ]
  },
  {
   "cell_type": "code",
   "execution_count": null,
   "metadata": {},
   "outputs": [],
   "source": [
    "#checando se a alternativa é igual ao original: não é\n",
    "E1[0] == E1alt[0]\n",
    "\n",
    "\n",
    "E1.all == E1alt.all"
   ]
  },
  {
   "cell_type": "code",
   "execution_count": null,
   "metadata": {},
   "outputs": [],
   "source": [
    "\n",
    "#cálculo de E2 ####\n",
    "#valor de continuação de s caso j não aceite a sua propokta de pagamento\n",
    "payoff_E2 = k_W[:, find(θkt), cutoffs, t]\n",
    "\n",
    "#prob(θs,t+1 |θs,t)\n",
    "payoff_E2 = np.multiply(pmf[find(θkt), :, None], payoff_E2)\n"
   ]
  },
  {
   "cell_type": "code",
   "execution_count": null,
   "metadata": {},
   "outputs": [],
   "source": [
    "#fazendo calculo alternativo de E2\n",
    "\n",
    "payoff_E2.shape\n",
    "\n",
    "pE2 = k_W[:, find(θkt), cutoffs, t].T\n",
    "pE2.shape\n",
    "\n",
    "\n",
    "pE2 = np.multiply(pmf[None, find(θkt), :], pE2)"
   ]
  },
  {
   "cell_type": "code",
   "execution_count": null,
   "metadata": {},
   "outputs": [],
   "source": [
    "\n",
    "#prob(θj,t+1 |ℓj,t)\n",
    "ind_E2 = np.multiply(pmf2[find(ℓmt), :, None], ind_E2)\n",
    "\n",
    "payoff_E2 = np.sum(payoff_E2, axis = 0)\n",
    "\n",
    "E2 = np.multiply(payoff_E2[None,:], ind_E2)\n",
    "E2 = np.sum(E2, axis = 0)"
   ]
  },
  {
   "cell_type": "code",
   "execution_count": null,
   "metadata": {},
   "outputs": [],
   "source": [
    "#cálculo alternativo\n",
    "\n",
    "ind_E2alt.shape\n",
    "pE2.shape\n",
    "\n",
    "pE2 = np.sum(pE2, axis = 1)\n",
    "\n"
   ]
  },
  {
   "cell_type": "code",
   "execution_count": null,
   "metadata": {},
   "outputs": [],
   "source": [
    "pE2.shape"
   ]
  },
  {
   "cell_type": "code",
   "execution_count": null,
   "metadata": {},
   "outputs": [],
   "source": [
    "E2alt = np.multiply(pE2[:,None], ind_E2alt)"
   ]
  },
  {
   "cell_type": "code",
   "execution_count": null,
   "metadata": {},
   "outputs": [],
   "source": [
    "E2alt.shape"
   ]
  },
  {
   "cell_type": "code",
   "execution_count": null,
   "metadata": {},
   "outputs": [],
   "source": [
    "E2alt = np.sum(E2alt, axis = 1)"
   ]
  },
  {
   "cell_type": "code",
   "execution_count": null,
   "metadata": {},
   "outputs": [],
   "source": [
    "E2alt.shape"
   ]
  },
  {
   "cell_type": "code",
   "execution_count": null,
   "metadata": {},
   "outputs": [],
   "source": [
    "#agora somando E1 + E2 e vendo qual pagamento dá maior payoff\n",
    "\n",
    "# #calculados E1 e E2, vemos qual propokta de pagamento dá a maior soma entre eles\n",
    "matrix_payoff = E1 + E2\n",
    "\n",
    "payoff = np.max(matrix_payoff)\n",
    "index = np.argmax(matrix_payoff)\n",
    "\n",
    "pagamento = Pkt_vector[index]\n",
    "\n",
    "pagamento, cutoffs[index], payoff, θkt"
   ]
  },
  {
   "cell_type": "code",
   "execution_count": null,
   "metadata": {},
   "outputs": [],
   "source": [
    "#payoff alternativo\n",
    "\n",
    "matrix_payoffalt = E1alt + E2alt\n",
    "\n",
    "payoffalt = np.max(matrix_payoffalt)\n",
    "\n",
    "\n",
    "indexalt = np.argmax(matrix_payoffalt)\n",
    "\n",
    "pagamentoalt = Pkt_vector[indexalt]\n",
    "\n",
    "\n",
    "pagamentoalt, cutoffs[indexalt], payoffalt, θkt"
   ]
  },
  {
   "cell_type": "code",
   "execution_count": null,
   "metadata": {},
   "outputs": [],
   "source": [
    "Pst(θkt, ℓjt, t)"
   ]
  },
  {
   "cell_type": "code",
   "execution_count": null,
   "metadata": {},
   "outputs": [],
   "source": [
    "#reescrevendo tudo de novo\n",
    "\n",
    "\n",
    "θst, ℓjt, t = 0.73, 0.5, 0\n",
    "    \n",
    "θkt, ℓmt, t, k_W, m_W = θst, ℓjt, t, s_W, j_W\n",
    "    \n",
    "    \n",
    "#vector of possible proposals\n",
    "Pkt_vector = np.empty(θvals[find(ℓmt):].size * 2)\n",
    "\n",
    "#todos os valores de continuação quando cutoff não faz update\n",
    "#primeira metade de Pkt_vector\n",
    "Pkt_vector[:int(Pkt_vector.size/2)] = m_W[find(ℓmt):, find(ℓmt), find(θkt), t]\n",
    "\n",
    "#segunda metade do vetor    \n",
    "Pkt_vector[int(Pkt_vector.size/2):] = m_W[diagonal, diagonal, find(θkt), t]\n",
    "\n",
    "\n",
    "#associated cutoffs\n",
    "cutoffs = np.empty(Pkt_vector.shape, dtype = np.int16)\n",
    "\n",
    "for i, pkt in enumerate(Pkt_vector):\n",
    "    cutoffs[i] = cutoff_m(pkt, θkt, ℓmt, t, m_W)\n",
    "    \n",
    "\n",
    "#cálculo de E1####\n",
    "\n",
    "pE1 = np.array(Ut[None, :,t] - Pkt_vector[:, None], dtype = np.float64)\n",
    "pE1 = np.multiply(pmf[None, find(θkt), :], pE1)\n",
    "pE1 = np.sum(pE1, axis = 1)\n",
    "\n",
    "#igual a 1 se o valor de continuação for menor que a proposta de pagamento\n",
    "ind_E1 = np.where(m_W[:, cutoffs, find(θkt), t].T <= Pkt_vector[:,None] , 1, 0)\n",
    "ind_E2 = np.where(ind_E1 == 1, 0, 1)\n",
    "\n",
    "#ponderando pelas probabilidades\n",
    "ind_E1 = np.multiply(pmf2[None, find(ℓmt), :], ind_E1)\n",
    "ind_E2 = np.multiply(pmf2[None, find(ℓmt), :], ind_E2)\n",
    "\n",
    "\n",
    "\n",
    "\n",
    "E1 = np.multiply(pE1[:, None], ind_E1)\n",
    "E1 = np.sum(E1, axis = 1)#ok, somar no axis = 1 preserva o formato de 1 proposta de pagamento por linha\n",
    "\n",
    "\n",
    "#cálculo de E2####\n",
    "\n",
    "pE2 = k_W[:, find(θkt), cutoffs, t].T\n",
    "pE2 = np.multiply(pmf[None, find(θkt), :], pE2)\n",
    "pE2 = np.sum(pE2, axis = 1)\n",
    "\n",
    "\n",
    "#ponderando ind_E2 pelas probabilidades\n",
    "\n",
    "\n",
    "E2 = np.multiply(pE2[:,None], ind_E2)\n",
    "E2 = np.sum(E2, axis = 1)\n",
    "\n",
    "#matriz dos payoffs####\n",
    "matrix_payoff = E1 + E2\n",
    "\n",
    "payoff = np.max(matrix_payoff)\n",
    "index = np.argmax(matrix_payoff)\n",
    "\n",
    "pagamento = Pkt_vector[index]\n",
    "\n",
    "pagamento, cutoffs[index], payoff, θkt\n",
    "\n",
    "index\n",
    "matrix_payoff\n"
   ]
  },
  {
   "cell_type": "code",
   "execution_count": null,
   "metadata": {},
   "outputs": [],
   "source": [
    "#testando a nova função\n",
    "def Pst2(θst, ℓjt, t):\n",
    "    \n",
    "    θkt, ℓmt, t, k_W, m_W = θst, ℓjt, t, s_W, j_W\n",
    "\n",
    "\n",
    "    #vector of possible proposals\n",
    "    Pkt_vector = np.empty(θvals[find(ℓmt):].size * 2)\n",
    "\n",
    "    #todos os valores de continuação quando cutoff não faz update\n",
    "    #primeira metade de Pkt_vector\n",
    "    Pkt_vector[:int(Pkt_vector.size/2)] = m_W[find(ℓmt):, find(ℓmt), find(θkt), t]\n",
    "\n",
    "    #segunda metade do vetor\n",
    "    diagonal = np.arange(find(ℓmt), grid_size)\n",
    "    Pkt_vector[int(Pkt_vector.size/2):] = m_W[diagonal, diagonal, find(θkt), t]\n",
    "\n",
    "\n",
    "    #associated cutoffs\n",
    "    cutoffs = np.empty(Pkt_vector.shape, dtype = np.int16)\n",
    "\n",
    "    for i, pkt in enumerate(Pkt_vector):\n",
    "        cutoffs[i] = cutoff_m(pkt, θkt, ℓmt, t, m_W)\n",
    "\n",
    "\n",
    "    #cálculo de E1####\n",
    "\n",
    "    pE1 = np.array(Ut[None, :,t] - Pkt_vector[:, None], dtype = np.float64)\n",
    "    pE1 = np.multiply(pmf[None, find(θkt), :], pE1)\n",
    "    pE1 = np.sum(pE1, axis = 1)\n",
    "\n",
    "    #igual a 1 se o valor de continuação for menor que a proposta de pagamento\n",
    "    ind_E1 = np.where(m_W[:, cutoffs, find(θkt), t].T <= Pkt_vector[:,None] , 1, 0)\n",
    "    ind_E2 = np.where(ind_E1 == 1, 0, 1)\n",
    "\n",
    "    #ponderando pelas probabilidades\n",
    "    ind_E1 = np.multiply(pmf2[None, find(ℓmt), :], ind_E1)\n",
    "    ind_E2 = np.multiply(pmf2[None, find(ℓmt), :], ind_E2)\n",
    "\n",
    "\n",
    "\n",
    "\n",
    "    E1 = np.multiply(pE1[:, None], ind_E1)\n",
    "    E1 = np.sum(E1, axis = 1)#ok, somar no axis = 1 preserva o formato de 1 proposta de pagamento por linha\n",
    "\n",
    "\n",
    "    #cálculo de E2####\n",
    "\n",
    "    pE2 = k_W[:, find(θkt), cutoffs, t].T\n",
    "    pE2 = np.multiply(pmf[None, find(θkt), :], pE2)\n",
    "    pE2 = np.sum(pE2, axis = 1)\n",
    "\n",
    "\n",
    "    #ponderando ind_E2 pelas probabilidades\n",
    "\n",
    "\n",
    "    E2 = np.multiply(pE2[:,None], ind_E2)\n",
    "    E2 = np.sum(E2, axis = 1)\n",
    "\n",
    "    #matriz dos payoffs####\n",
    "    matrix_payoff = E1 + E2\n",
    "\n",
    "    payoff = np.max(matrix_payoff)\n",
    "    index = np.argmax(matrix_payoff)\n",
    "\n",
    "    pagamento = Pkt_vector[index]\n",
    "\n",
    "    return pagamento, cutoffs[index], payoff, θkt\n",
    "\n",
    "\n",
    "θst, ℓjt, t = 0.73, 0.5, 0\n",
    "Pst2(θst, ℓjt, t)\n",
    "Pst(θst, ℓjt, t)"
   ]
  },
  {
   "cell_type": "code",
   "execution_count": null,
   "metadata": {},
   "outputs": [],
   "source": [
    "i = 72\n",
    "Pst(θvals[i], ℓmt,t)\n",
    "    \n",
    "Pst2(θvals[i], ℓmt,t)"
   ]
  },
  {
   "cell_type": "code",
   "execution_count": null,
   "metadata": {},
   "outputs": [],
   "source": [
    "#comparando output com a função anterior\n",
    "#checando valores estranhos na função\n",
    "θkt, ℓkt, ℓmt, t = 0.7, 0.5, 0.5, 0\n",
    "\n",
    "pst = np.empty(len(range(find(0.6), find(0.8))))\n",
    "\n",
    "pst2 = np.empty(len(range(find(0.6), find(0.8))))\n",
    "\n",
    "t = 0\n",
    "\n",
    "for i,j  in enumerate(range(find(0.6), find(0.8))):\n",
    "    pst[i] = Pst(θvals[i], ℓmt,t)[3]\n",
    "    pst2[i] = Pst2(θvals[i], ℓmt,t)[3]\n",
    "\n",
    "    "
   ]
  },
  {
   "cell_type": "code",
   "execution_count": null,
   "metadata": {},
   "outputs": [],
   "source": [
    "pst - pst2\n"
   ]
  },
  {
   "cell_type": "code",
   "execution_count": null,
   "metadata": {},
   "outputs": [],
   "source": [
    "t = 0\n",
    "for i,j  in enumerate(range(find(0.6), find(0.8))):\n",
    "    Pst2(θvals[i], ℓmt,t)"
   ]
  },
  {
   "cell_type": "markdown",
   "metadata": {},
   "source": [
    "### Fim do debugando Pkt"
   ]
  },
  {
   "cell_type": "markdown",
   "metadata": {},
   "source": [
    "### Check-up gráfico das funções\n",
    "\n",
    "Os gráficos das propostas devem ser monótonos.\n",
    "\n",
    "O valor esperado das funções valor deve ser algo contínuo para uma habilidade $\\theta_{t}$ crescente"
   ]
  },
  {
   "cell_type": "code",
   "execution_count": 111,
   "metadata": {},
   "outputs": [],
   "source": [
    "#gráfico das funções\n",
    "\n",
    "def graf_func(θ_vector, t, creditor,  function, ℓkt, ℓmt):\n",
    "    #true hability increases while lower bounds stay at 0.5\n",
    "    #t is also endogenous \n",
    "    \n",
    "    fig, ax = plt.subplots()\n",
    "\n",
    "    #size of X axis\n",
    "    X = θ_vector\n",
    "\n",
    "\n",
    "    #storing the function vals in t\n",
    "    graf_vals = []\n",
    "\n",
    "    for θt in θ_vector:\n",
    "        function_val = function(θt, ℓkt, ℓmt, t)\n",
    "        \n",
    "        #for when we use the propose method, which returns a vector\n",
    "        if(np.isscalar(function_val) == False):\n",
    "            function_val = function_val[0]\n",
    "            \n",
    "\n",
    "        graf_vals.append(function_val)\n",
    "        \n",
    "        \n",
    "#     label_val = repr(function)\n",
    "    title_val = print(function, 'ℓkt = ', ℓkt, 'ℓmt = ', ℓmt)\n",
    "\n",
    "    ax.plot(X, graf_vals, '-k', linewidth = 3, alpha = 0.8)\n",
    "\n",
    "\n",
    "    # ax.yaxis.tick_right()\n",
    "    # ax.yaxis.set_ticks_position('both')\n",
    "\n",
    "    #para mostrar ticks dos dois lados do eixo y\n",
    "\n",
    "\n",
    "\n",
    "    plt.xlabel(\"θt\")\n",
    "    plt.ylabel(\"Value of the function\")\n",
    "\n",
    "    ax.set_title(title_val)\n",
    "\n",
    "    #achei melhor no upper right\n",
    "    ax.legend(loc = 'upper center')\n",
    "    plt.show()\n",
    "    "
   ]
  },
  {
   "cell_type": "code",
   "execution_count": 115,
   "metadata": {},
   "outputs": [
    {
     "name": "stderr",
     "output_type": "stream",
     "text": [
      "No handles with labels found to put in legend.\n"
     ]
    },
    {
     "name": "stdout",
     "output_type": "stream",
     "text": [
      "<function s_propose at 0x000001DD7C3CEF78> ℓkt =  0.5 ℓmt =  0.5\n"
     ]
    },
    {
     "data": {
      "image/png": "[encoded data removed]",
      "text/plain": [
       "<Figure size 432x288 with 1 Axes>"
      ]
     },
     "metadata": {
      "needs_background": "light"
     },
     "output_type": "display_data"
    },
    {
     "name": "stdout",
     "output_type": "stream",
     "text": [
      "<function s_respond at 0x000001DD014341F8> ℓkt =  0.3 ℓmt =  0.5\n"
     ]
    },
    {
     "name": "stderr",
     "output_type": "stream",
     "text": [
      "No handles with labels found to put in legend.\n"
     ]
    },
    {
     "data": {
      "image/png": "[encoded data removed]",
      "text/plain": [
       "<Figure size 432x288 with 1 Axes>"
      ]
     },
     "metadata": {
      "needs_background": "light"
     },
     "output_type": "display_data"
    }
   ],
   "source": [
    "graf_func(θs_vals, 0, 's', s_propose, ℓkt = 0.5, ℓmt = 0.5)\n",
    "graf_func(θs_vals, 0 , 's', s_respond, ℓkt = 0.3, ℓmt = 0.5)\n",
    "\n",
    "#repare que a função s_propose tem uma descontinuidade quando θkt = ℓmt = 0.5. Não entendi bem o motivo disso. \n",
    "\n",
    "\n",
    "#a função \n",
    "\n"
   ]
  },
  {
   "cell_type": "code",
   "execution_count": 116,
   "metadata": {},
   "outputs": [
    {
     "name": "stderr",
     "output_type": "stream",
     "text": [
      "No handles with labels found to put in legend.\n"
     ]
    },
    {
     "name": "stdout",
     "output_type": "stream",
     "text": [
      "<function s_propose at 0x000001DD7C3CEF78> ℓkt =  0.3 ℓmt =  0.9\n"
     ]
    },
    {
     "data": {
      "image/png": "[encoded data removed]",
      "text/plain": [
       "<Figure size 432x288 with 1 Axes>"
      ]
     },
     "metadata": {
      "needs_background": "light"
     },
     "output_type": "display_data"
    },
    {
     "name": "stderr",
     "output_type": "stream",
     "text": [
      "No handles with labels found to put in legend.\n"
     ]
    },
    {
     "name": "stdout",
     "output_type": "stream",
     "text": [
      "<function s_respond at 0x000001DD014341F8> ℓkt =  0.3 ℓmt =  0.9\n"
     ]
    },
    {
     "data": {
      "image/png": "[encoded data removed]",
      "text/plain": [
       "<Figure size 432x288 with 1 Axes>"
      ]
     },
     "metadata": {
      "needs_background": "light"
     },
     "output_type": "display_data"
    }
   ],
   "source": [
    "graf_func(θs_vals, 0, 's', s_propose, ℓkt = 0.3, ℓmt = 0.9)\n",
    "graf_func(θs_vals, 0, 's', s_respond, ℓkt = 0.3, ℓmt = 0.9)\n",
    "\n",
    "#quando ℓmt = 0.9, a função fica mais estranha."
   ]
  },
  {
   "cell_type": "code",
   "execution_count": 117,
   "metadata": {},
   "outputs": [
    {
     "name": "stderr",
     "output_type": "stream",
     "text": [
      "No handles with labels found to put in legend.\n"
     ]
    },
    {
     "data": {
      "image/png": "[encoded data removed]",
      "text/plain": [
       "<Figure size 432x288 with 1 Axes>"
      ]
     },
     "metadata": {
      "needs_background": "light"
     },
     "output_type": "display_data"
    },
    {
     "name": "stderr",
     "output_type": "stream",
     "text": [
      "No handles with labels found to put in legend.\n"
     ]
    },
    {
     "data": {
      "image/png": "[encoded data removed]",
      "text/plain": [
       "<Figure size 432x288 with 1 Axes>"
      ]
     },
     "metadata": {
      "needs_background": "light"
     },
     "output_type": "display_data"
    }
   ],
   "source": [
    "#gráfico da função valor\n",
    "\n",
    "def graf_func_value(k_array, ℓkt, ℓmt, t):\n",
    "    #t starts at t=1\n",
    "    \n",
    "    fig, ax = plt.subplots()\n",
    "\n",
    "    #size of X axis\n",
    "    X = θs_vals\n",
    "\n",
    "\n",
    "    #storing the function vals in t\n",
    "    graf_vals = k_array[:, find(ℓkt), find(ℓmt), (t-1)]\n",
    "\n",
    "\n",
    "    ax.plot(X, graf_vals, '-k', linewidth = 3, alpha = 0.8)\n",
    "    \n",
    "#     name = str(k_array)\n",
    "#     title_val = print(name, 'ℓkt = ', ℓkt, 'ℓmt = ', ℓmt, 'period = ', t)\n",
    "\n",
    "\n",
    "    # ax.yaxis.tick_right()\n",
    "    # ax.yaxis.set_ticks_position('both')\n",
    "\n",
    "    #para mostrar ticks dos dois lados do eixo y\n",
    "\n",
    "\n",
    "\n",
    "    plt.xlabel(\"θt\")\n",
    "    plt.ylabel(\"Value of the function\")\n",
    "\n",
    "\n",
    "    #achei melhor no upper right\n",
    "    ax.legend(loc = 'upper center')\n",
    "    plt.show()\n",
    "    \n",
    "graf_func_value(s_W, ℓkt = 0.01, ℓmt = 0.02, t = 1)\n",
    "\n",
    "graf_func_value(j_W, ℓkt = 0.01, ℓmt = 0.02, t = 1)\n",
    "#o valor de continuação tem uma queda quando θkt == ℓkt. Deve ser por causa dos cálculos de valor esperado."
   ]
  },
  {
   "cell_type": "code",
   "execution_count": 119,
   "metadata": {},
   "outputs": [],
   "source": [
    "#gráfico das propostas\n",
    "\n",
    "def graf_proposal(function, function_name, t, xlabel, ylabel):\n",
    "    \n",
    "\n",
    "    grid_graf = len(θs_vals)\n",
    "\n",
    "    graf = np.empty((grid_graf, grid_graf))\n",
    "\n",
    "    for i, θs in enumerate(θs_vals):\n",
    "        for j, lj in enumerate(lj_vals):\n",
    "            graf[i,j] = function(θs, θs, lj, t)[1]\n",
    "\n",
    "\n",
    "    fig, ax = plt.subplots()\n",
    "\n",
    "    cs1 = ax.contourf(θs_vals, lj_vals, graf.T, alpha=0.75)\n",
    "    # ctr1 = ax.contour(θs_vals, lj_vals, graf1.T)\n",
    "    # plt.clabel(ctr1, inline=1, fontsize=13)\n",
    "    plt.colorbar(cs1, ax = ax)\n",
    "\n",
    "    ax.set_title('Function ' + function_name +   ' in period ' + str(t) )\n",
    "    ax.set_xlabel(xlabel, fontsize=16)\n",
    "    ax.set_ylabel(ylabel, fontsize=16)\n",
    "\n",
    "    ax.ticklabel_format(useOffset=False)\n",
    "\n",
    "\n",
    "    plt.show()"
   ]
  },
  {
   "cell_type": "code",
   "execution_count": 122,
   "metadata": {},
   "outputs": [
    {
     "data": {
      "image/png": "[encoded data removed]",
      "text/plain": [
       "<Figure size 432x288 with 2 Axes>"
      ]
     },
     "metadata": {
      "needs_background": "light"
     },
     "output_type": "display_data"
    },
    {
     "data": {
      "image/png": "[encoded data removed]",
      "text/plain": [
       "<Figure size 432x288 with 2 Axes>"
      ]
     },
     "metadata": {
      "needs_background": "light"
     },
     "output_type": "display_data"
    },
    {
     "data": {
      "image/png": "[encoded data removed]",
      "text/plain": [
       "<Figure size 432x288 with 2 Axes>"
      ]
     },
     "metadata": {
      "needs_background": "light"
     },
     "output_type": "display_data"
    },
    {
     "data": {
      "image/png": "[encoded data removed]",
      "text/plain": [
       "<Figure size 432x288 with 2 Axes>"
      ]
     },
     "metadata": {
      "needs_background": "light"
     },
     "output_type": "display_data"
    }
   ],
   "source": [
    "graf_proposal(s_propose,'s.propose', 0, 'θs', 'ℓj')\n",
    "\n",
    "graf_proposal(s_propose,'s.propose', 1, 'θs', 'ℓj')\n",
    "\n",
    "graf_proposal(j_propose, 'j.propose', 0, 'θj', 'ℓs')\n",
    "graf_proposal(j_propose, 'j.propose', 1, 'θj', 'ℓs')\n",
    "\n",
    "\n"
   ]
  },
  {
   "cell_type": "markdown",
   "metadata": {},
   "source": [
    "# Passo 5: resolvendo a negociação entre os credores\n",
    "\n",
    "Aqui vamos resolver o jogo de fato.\n",
    "\n",
    "Etapas:\n",
    "\n",
    "1. Os dois credores recebem suas habilidades, que são informação privada\n",
    "2. Um credor é sorteado para propor o que fazer com a firma\n",
    "3. Há uma atualização nos lower bounds das habilidades para o próximo período\n",
    "4. Usando os lower bounds do próximo período, o credor propositor faz uma oferta baseado no valor de continuação esperado para o próximo período (o dele próprio e o do adversário)\n",
    "5. Há uma atualização das habilidades verdadeiras para o próximo período, que são informação privada\n",
    "6. O credor respondente olha a sua habilidade para o próximo período, os lower bounds do próximo período, calcula seu valor de continuação do próximo período e dá uma resposta.\n",
    "4. O jogo acaba quando os dois concordam quanto ao que fazer com a firma\n",
    "\n",
    "\n",
    "O resultado final é um vetor contendo 3 coisas:\n",
    "1. O quanto cada credor recebeu - ainda precisaremos de mais cálculos para obter a taxa de recuperação de crédito (o quanto cada credor recebeu em relação ao que ele tinha de crédito)\n",
    "2. Em qual turno a negociação acabou\n",
    "3. O que decidiram fazer com a firma (reorganizar ou liquidar)\n",
    "\n"
   ]
  },
  {
   "cell_type": "markdown",
   "metadata": {},
   "source": [
    "#### Barganha completa: com s ou j propondo"
   ]
  },
  {
   "cell_type": "code",
   "execution_count": null,
   "metadata": {},
   "outputs": [],
   "source": [
    "#loop while resultado[3] diferente de t, continua\n",
    "\n",
    "\n",
    "\n",
    "#parâmetros iniciais\n",
    "t = 0\n",
    "\n",
    "θst = θ_s0\n",
    "θjt = θ_j0\n",
    "\n",
    "#assumindo que lower bounds nos períodos iniciais são as próprias habilidades iniciais\n",
    "lst = θ_s0\n",
    "ljt = θ_j0\n",
    "\n",
    "\n",
    "#vetor com payoff de s, payoff de j, destino da firma e período\n",
    "#destino da firma é 0 (liquidou) ou 1 (reorganizou)\n",
    "resultado = np.zeros(4)\n",
    "\n",
    "\n",
    "#loop roda enquanto não encerrarem o jogo\n",
    "#o payoff dos jogadores só é gravado no resultado o jogo acaba. \n",
    "#Então o loop vai rodar até que o payoff seja diferente do valor inicial, que é zero\n",
    "while(resultado[0] == 0):\n",
    "    \n",
    "\n",
    "\n",
    "\n",
    "\n",
    "    #sorteio do jogador proponente\n",
    "\n",
    "    u = uniform(0, 1)\n",
    "\n",
    "    if(u < λj):\n",
    "        propositor = 'j'\n",
    "\n",
    "    else:\n",
    "        propositor = 's'\n",
    "\n",
    "\n",
    "\n",
    "    if(propositor == 's'):\n",
    "        \n",
    "\n",
    "\n",
    "\n",
    "        # se s é chamado a propor ####\n",
    "\n",
    "        #proposta\n",
    "        # 0 é liquidar\n",
    "        # 1 é reorganizar\n",
    "        # 2 é esperar\n",
    "\n",
    "        proposta = St(θst, lst, ljt, t)[1]\n",
    "\n",
    "        payoff_s = St(θst, lst, ljt, t)[0]\n",
    "\n",
    "        #update dos lower bounds\n",
    "        ls_next = St(θst, lst, ljt, t)[2]\n",
    "\n",
    "        #lj_next não pode alterar caso a proposta seja de espera, pois não há cutoff\n",
    "        lj_next = St(θst, lst, ljt, t)[3]\n",
    "\n",
    "\n",
    "        #jeito resumido\n",
    "        # [payoff_s, proposta, ls_next, lj_next] = St(θst, lst, ljt, 0)[1:]\n",
    "\n",
    "        #update das habilidades à tarde\n",
    "        θs_next = round(draw_beta(θst), 2)\n",
    "        θj_next = round(draw_beta(θjt), 2)\n",
    "\n",
    "\n",
    "\n",
    "        if(proposta == 0):\n",
    "\n",
    "            #o que j faz se s propor liquidar?\n",
    "            #j olha sua habilidade e os lower bounds do próximo período e calcula o valor de continuação\n",
    "            #aqui ele olha o valor de continuação dele de fato, sem ser valor esperado. Então a função é diferente de j_liq\n",
    "\n",
    "            jt_liq_valor = [Lj(t), V[t] * θj_next - Ls(t) ]\n",
    "\n",
    "            resposta = np.argmax(jt_liq_valor)\n",
    "\n",
    "            payoff_j = jt_liq_valor[resposta]\n",
    "\n",
    "\n",
    "            if(resposta == 0):\n",
    "                #j concorda em liquidar\n",
    "                #payoffs são os de liquidação\n",
    "\n",
    "                resultado[0] = payoff_s\n",
    "                resultado[1] = payoff_j\n",
    "                resultado[2] = 0 #0 é caso liquide\n",
    "                resultado[3] = t\n",
    "\n",
    "\n",
    "            if(resposta == 1):\n",
    "                #j prefere reorganizar\n",
    "                #payoff de s é liq, payoff de j é de reorganização\n",
    "\n",
    "                resultado[0] = payoff_s\n",
    "                resultado[1] = payoff_j\n",
    "                resultado[2] = 1 #1 é caso reorganize\n",
    "                resultado[3] = t \n",
    "\n",
    "            #em qualquer cenário, quando o oponente propôe liquidar o jogo acaba. Por isso sempre temos resultado[3] = t\n",
    "\n",
    "        if(proposta == 1):\n",
    "            #o que j faz se s propor reorganizar?\n",
    "\n",
    "            #a proposta de pagamento de s é o valor esperado da função valor de j, com base nas informações que s tem hoje\n",
    "            Pst = Ewj(expec_beta(lj_next), ls_next, lj_next, t+1)\n",
    "\n",
    "            jt_reorg_valor = [Pst, Ewj(θj_next, ls_next, lj_next, t+1)]\n",
    "\n",
    "            resposta = np.argmax(jt_reorg_valor)\n",
    "\n",
    "            payoff_j = jt_reorg_valor[resposta]\n",
    "\n",
    "\n",
    "\n",
    "            if(resposta == 0):\n",
    "                #j concorda com a proposta de pagamento\n",
    "\n",
    "                resultado[0] = payoff_s\n",
    "                resultado[1] = payoff_j\n",
    "                resultado[2] = 1 #0 é caso liquide\n",
    "                resultado[3] = t\n",
    "\n",
    "\n",
    "            if(resposta == 1):\n",
    "                #j recusa a proposta de pagamento\n",
    "                #jogo vai para o próximo período\n",
    "                #vai para o próximo período\n",
    "\n",
    "                t += 1\n",
    "\n",
    "                #update das informações\n",
    "                θst = θs_next\n",
    "                θjt = θj_next\n",
    "                lst = ls_next\n",
    "                ljt = lj_next\n",
    "\n",
    "\n",
    "        if(proposta == 2):\n",
    "            #o que acontece se s propor esperar?\n",
    "            #vai para o próximo período\n",
    "\n",
    "            t += 1\n",
    "\n",
    "            #update das informações\n",
    "            θst = θs_next\n",
    "            θjt = θj_next\n",
    "            lst = ls_next\n",
    "            #ljt não sofre alteração na proposta de esperar\n",
    "\n",
    "\n",
    "    #============================================================================\n",
    "    else: #caso quem proponha seja j\n",
    "\n",
    "\n",
    "        # se j é chamado a propor ####\n",
    "\n",
    "        #proposta\n",
    "        # 0 é liquidar\n",
    "        # 1 é reorganizar\n",
    "        # 2 é esperar\n",
    "\n",
    "        proposta = Jt(θst, lst, ljt, t)[1]\n",
    "\n",
    "        payoff_j = Jt(θst, lst, ljt, t)[0]\n",
    "\n",
    "        #update dos lower bounds\n",
    "        ls_next = Jt(θst, lst, ljt, t)[2]\n",
    "\n",
    "        #ls_next não pode alterar caso a proposta seja de espera, pois não há cutoff\n",
    "        lj_next = Jt(θst, lst, ljt, t)[3]\n",
    "\n",
    "\n",
    "        #jeito resumido\n",
    "\n",
    "\n",
    "        #update das habilidades à tarde\n",
    "        θs_next = round(draw_beta(θst), 2)\n",
    "        θj_next = round(draw_beta(θjt), 2)\n",
    "\n",
    "\n",
    "\n",
    "        if(proposta == 0):\n",
    "\n",
    "            #o que j faz se s propor liquidar?\n",
    "            #j olha sua habilidade e os lower bounds do próximo período e calcula o valor de continuação\n",
    "            #aqui ele olha o valor de continuação dele de fato, sem ser valor esperado. Então a função é diferente de j_liq\n",
    "\n",
    "            st_liq_valor = [Ls(t), V[t] * θs_next - Lj(t) ]\n",
    "\n",
    "            resposta = np.argmax(st_liq_valor)\n",
    "\n",
    "            payoff_s = st_liq_valor[resposta]\n",
    "\n",
    "\n",
    "            if(resposta == 0):\n",
    "                #j concorda em liquidar\n",
    "                #payoffs são os de liquidação\n",
    "\n",
    "                resultado[0] = payoff_s\n",
    "                resultado[1] = payoff_j\n",
    "                resultado[2] = 0 #0 é caso liquide\n",
    "                resultado[3] = t\n",
    "\n",
    "\n",
    "            if(resposta == 1):\n",
    "                #j prefere reorganizar\n",
    "                #payoff de s é liq, payoff de j é de reorganização\n",
    "\n",
    "                resultado[0] = payoff_s\n",
    "                resultado[1] = payoff_j\n",
    "                resultado[2] = 1 #1 é caso reorganize\n",
    "                resultado[3] = t \n",
    "\n",
    "            #em qualquer cenário, quando o oponente propôe liquidar o jogo acaba. Por isso sempre temos resultado[3] = t\n",
    "\n",
    "        if(proposta == 1):\n",
    "            #o que s faz se j propor reorganizar?\n",
    "\n",
    "            Pjt = Ews(expec_beta(ls_next), ls_next, lj_next, t+1)\n",
    "\n",
    "            st_reorg_valor = [Pjt, Ews(θs_next, ls_next, lj_next, t+1)]\n",
    "\n",
    "            resposta = np.argmax(st_reorg_valor)\n",
    "\n",
    "            payoff_s = st_reorg_valor[resposta]\n",
    "\n",
    "\n",
    "\n",
    "            if(resposta == 0):\n",
    "                #s concorda com a proposta de pagamento\n",
    "\n",
    "                resultado[0] = payoff_s\n",
    "                resultado[1] = payoff_j\n",
    "                resultado[2] = 1 #0 é caso liquide\n",
    "                resultado[3] = t\n",
    "\n",
    "\n",
    "            if(resposta == 1):\n",
    "                #s recusa a proposta de pagamento\n",
    "                #jogo vai para o próximo período\n",
    "\n",
    "                t += 1\n",
    "\n",
    "                #update das informações\n",
    "                θst = θs_next\n",
    "                θjt = θj_next\n",
    "                lst = ls_next\n",
    "                ljt = lj_next\n",
    "\n",
    "\n",
    "        if(proposta == 2):\n",
    "            #o que acontece se s propor esperar?\n",
    "            #vai para o próximo período\n",
    "\n",
    "            t += 1\n",
    "\n",
    "            #update das informações\n",
    "            θst = θs_next\n",
    "            θjt = θj_next\n",
    "            ljt = lj_next\n",
    "            #lst não sofre alteração na proposta de esperar\n"
   ]
  },
  {
   "cell_type": "code",
   "execution_count": null,
   "metadata": {},
   "outputs": [],
   "source": [
    "θst\n",
    "θjt\n",
    "\n",
    "resultado\n",
    "\n",
    "proposta\n",
    "\n",
    "t\n",
    "propositor\n",
    "\n",
    "#agora falta fazer a média dos valores de negociação para colocar como um momento\n",
    "\n"
   ]
  },
  {
   "cell_type": "markdown",
   "metadata": {},
   "source": [
    "# Próximos passos\n",
    "\n",
    "\n",
    "\n",
    "* HIGIENIZAR O CÓDIGO, DEIXAR ORGANIZADO!\n",
    "\n",
    "\n",
    "* ~debugar o que acontece quando t = 14~\n",
    "    * bug na função pmf, e acho que vem da função bins() também\n",
    "\n",
    "\n",
    "* ~criar função de esperança baseada na função beta~\n",
    "    * expec_beta(info_hoje) retorna o valor esperado de teta amanhã\n",
    "\n",
    "\n",
    "\n",
    "\n",
    "* ~discretizar a beta para obter a esperança das funções valor no período seguinte~\n",
    "\n",
    "\n",
    "\n",
    "* ~fazer Js_val~\n",
    "\n",
    "* ~guardar resultados de Js_val e Ws_val do último período numa  matriz 4D~\n",
    "\n",
    "* ~pensar numa função Js_next para achar o valor de Js no próximo período baseado nos parâmetros deste período~\n",
    "    * regra para atualização de lst\n",
    "    * regra para atualização de ljt\n",
    "    * expectativa da habilidade no período seguinte\n",
    "\n",
    "* ~pensar na forma recursiva do jogo~\n",
    "    * acho que as funções probabilidade também têm que considerar o update do lower bound, pois elas fazem parte do cenário onde o jogador não propõe\n",
    "\n",
    "\n",
    "* checar todas as funções de cálculo do jogo (Passo 3)\n",
    "\n",
    "\n",
    "* considerar a estrutura de negociação do jogo\n",
    "\n",
    "* aumentar a precisão das estimativas do jogo\n",
    "    * algoritmo para cálculo do cutoff pode ter mais casas decimais\n",
    "    \n",
    "    \n",
    " * fazer uma estrutura mais enxuta, com uma função que tome como argumento se é s ou j. Ao invés de criar St, Jt, st, jt...\n",
    "    \n",
    "\n",
    "\n",
    "* passos finais\n",
    "    * replicar os gráficos do artigo de referência\n"
   ]
  },
  {
   "cell_type": "markdown",
   "metadata": {},
   "source": [
    "### Conferir novamente\n",
    "\n",
    "1. ~Se preciso usar ls_next e lj_next nas funções Prob_s e Prob_j~ \n",
    "   * conferi e precisa sim, já arrumei\n",
    "\n",
    "2. Se o valor esperado da função para calcular os thresholds cst e cjt estão corretos\n",
    "\n",
    "3. A função pmf não está somando um, tem que verificar onde está o erro\n",
    "\n"
   ]
  },
  {
   "cell_type": "code",
   "execution_count": null,
   "metadata": {},
   "outputs": [],
   "source": []
  }
 ],
 "metadata": {
  "kernelspec": {
   "display_name": "Python 3",
   "language": "python",
   "name": "python3"
  },
  "language_info": {
   "codemirror_mode": {
    "name": "ipython",
    "version": 3
   },
   "file_extension": ".py",
   "mimetype": "text/x-python",
   "name": "python",
   "nbconvert_exporter": "python",
   "pygments_lexer": "ipython3",
   "version": "3.7.6"
  }
 },
 "nbformat": 4,
 "nbformat_minor": 4
}
