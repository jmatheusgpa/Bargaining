{
 "cells": [
  {
   "cell_type": "markdown",
   "metadata": {},
   "source": [
    "## Solução para o jogo\n",
    "\n",
    "Modelo de Dou et al., 2020.\n",
    "\n"
   ]
  },
  {
   "cell_type": "code",
   "execution_count": 1,
   "metadata": {},
   "outputs": [],
   "source": [
    "#para mostrar todos os resultados e não apenas o último\n",
    "from IPython.core.interactiveshell import InteractiveShell\n",
    "\n",
    "InteractiveShell.ast_node_interactivity = \"all\""
   ]
  },
  {
   "cell_type": "code",
   "execution_count": 2,
   "metadata": {},
   "outputs": [],
   "source": [
    "#libraries\n",
    "import numpy as np\n",
    "from numba import jit, jitclass, njit, float64,  int32, char #para otimizar as funções\n",
    "import numba as nb\n",
    "import matplotlib as mpl\n",
    "import matplotlib.pyplot as plt\n",
    "%matplotlib inline\n",
    "import quantecon as qe\n",
    "from scipy.stats import beta\n",
    "\n",
    "from random import uniform #para a draw da uniforme(0,1)\n",
    "import math\n",
    "\n",
    "import time #tempo de computação\n"
   ]
  },
  {
   "cell_type": "code",
   "execution_count": 3,
   "metadata": {},
   "outputs": [],
   "source": [
    "#abre o site\n",
    "import webbrowser\n",
    "\n",
    "# webbrowser.open('https://www.labri.fr/perso/nrougier/from-python-to-numpy/')"
   ]
  },
  {
   "cell_type": "markdown",
   "metadata": {},
   "source": [
    "### Passo 0: definindo comandos do latex para facilitar a escrita\n",
    "\n",
    "Aqui também podemos descrever as funções do jogo\n",
    "\n",
    "$%conjunto de informações de s em t$\n",
    "$\\newcommand{\\Is}[1]{\\theta_{s{#1}}, l_{s{#1}}, l_{j{#1}}}$\n",
    "$%macros para facilitar a escrita de funções valor$\n",
    "\n",
    "\n",
    "$%conjunto de informações de j em t$\n",
    "$\\newcommand{\\Ij}[1]{\\theta_{j{#1}}, l_{s{#1}}, l_{j{#1}}}$\n",
    "\n",
    "$%função valor de s em t$\n",
    "$\\newcommand{\\Ws}[1]{ W_{s{#1}} ( \\Is{{#1}}) }$\n",
    "\n",
    "$%função valor de j em t$\n",
    "$\\newcommand{\\Wj}[1]{ W_{j{#1}} ( \\Ij{{#1}}) }$\n",
    "\n",
    "$%operador esperança de s em t. 2 argumentos: o primeiro é o período e o segundo é o termo que ela tira a esperança$\n",
    "\n",
    "$\\newcommand{\\Es}[2]{\\mathbb{E_{#1}^{s} \\big[ {#2}  \\mid ( \\Is{#1} )    \\big] }}$\n",
    "\n",
    "$%minúsculo não mostra o conjunto de informação$\n",
    "$\\newcommand{\\es}[2]{\\mathbb{E_{#1}^{s} \\big[ {#2}  \\big] }}$\n",
    "\n",
    "$%minúsculo não mostra o conjunto de informação$\n",
    "$%final b de big para aumentar os parênteses$\n",
    "$\\newcommand{\\esb}[2]{\\mathbb{E_{#1}^{s} \\bigg[ {#2}  \\bigg] }}$\n",
    "\n",
    "$%operador esperança de j em t. 2 argumentos: o primeiro é o período e o segundo é o termo que ela tira a esperança$\n",
    "\n",
    "$\\newcommand{\\Ej}[2]{\\mathbb{E_{#1}^{j} \\big[ {#2}  \\mid ( \\Ij{#1} )    \\big] }}$\n",
    "\n",
    "$%minúsculo não mostra o conjunto de informação$\n",
    "$\\newcommand{\\ej}[2]{\\mathbb{E_{#1}^{j} \\big[ {#2}  \\big] }}$\n",
    "\n",
    "$%minúsculo não mostra o conjunto de informação$\n",
    "$%final b para aumentar os parênteses$\n",
    "$\\newcommand{\\ejb}[2]{\\mathbb{E_{#1}^{j} \\bigg[ {#2}  \\bigg] }}$\n",
    "\n",
    "\n",
    "$%comando para usar o máximo com chaves grandes$\n",
    "$\\newcommand{\\maximo}[1]{\\max \\bigg\\{ #1 \\bigg\\}}$\n"
   ]
  },
  {
   "cell_type": "code",
   "execution_count": 4,
   "metadata": {},
   "outputs": [],
   "source": [
    "#parâmetros do jogo, apenas para ilustração a princípio\n",
    "#coloquei os mesmos parãmetros dos autores (Tabela 4). No caso dos dados, usei as médias (Panel B)\n",
    "\n",
    "\n",
    "\n",
    "\n",
    "\n",
    "μ = 4.566 #número de meses entre períodos, não entendi onde entra ainda\n",
    "ρ = 0.884 # (1 - ρ) é a taxa de depreciação da empresa a cada período\n",
    "β = 9.84 #usamos aqui a distribuição Uniforme, depois vamos mudar isto\n",
    "c0 = 0.044 #custo fixo de ir para a corte\n",
    "c1 = 0.015 #custo variável de ir para a corte\n",
    "\n",
    "\n",
    "θ_s0 = 0.28 #habilidade inicial de s\n",
    "θ_j0 = 0.36 #habilidade inicial de j"
   ]
  },
  {
   "cell_type": "code",
   "execution_count": 5,
   "metadata": {},
   "outputs": [],
   "source": [
    "#informações que virão dos dados\n",
    "\n",
    "#valores médios de L, Dj e Ds. Arredondei para duas casas decimais ao simular o modelo\n",
    "# 0.2493718592964824\n",
    "# 0.35113065326633164\n",
    "# 0.27701005025125625\n",
    "\n",
    "\n",
    "\n",
    "λj = 0.346 #probabilidade de j propor a cada turno. Não precisaremos estimar, isso virá dos dados\n",
    "\n",
    "Vmax = 1\n",
    "L = 0.25\n",
    "# L_s = 10\n",
    "# L_j = 10\n",
    "\n",
    "#valores da dívida de cada jogador (virá dos dados, aqui é exemplo):\n",
    "Dj = 0.35\n",
    "Ds = 0.28"
   ]
  },
  {
   "cell_type": "markdown",
   "metadata": {},
   "source": [
    "### Passo 1: número máximo de turnos\n",
    "\n",
    "Calculado com base nos parâmetros\n",
    "\n",
    "\n",
    "t é tal que\n",
    "\n",
    "$$ \\rho^{t-1} V_{max} = L$$\n",
    "\n",
    "\n",
    "$$ t = \\frac{log(L) - log(V_{max})} {log(\\rho)} +1 $$"
   ]
  },
  {
   "cell_type": "code",
   "execution_count": 6,
   "metadata": {},
   "outputs": [],
   "source": [
    "#função para calcular o máximo de turnos do jogo\n",
    "def maximo_de_turnos(ρ, Vmax, L):\n",
    "    \n",
    "    T = (math.log(L) - math.log(Vmax))/math.log(ρ) + 1\n",
    "    \n",
    "    #arredonda para baixo porque queremos o último período no qual o valor de continuação é maior ou igual ao de liquidação\n",
    "    T = math.floor(T)\n",
    "        \n",
    "    return T\n",
    "    "
   ]
  },
  {
   "cell_type": "code",
   "execution_count": 7,
   "metadata": {},
   "outputs": [
    {
     "data": {
      "text/plain": [
       "12"
      ]
     },
     "execution_count": 7,
     "metadata": {},
     "output_type": "execute_result"
    }
   ],
   "source": [
    "T = maximo_de_turnos(ρ, Vmax, L)\n",
    "\n",
    "T"
   ]
  },
  {
   "cell_type": "code",
   "execution_count": 8,
   "metadata": {},
   "outputs": [],
   "source": [
    "#valor máximo de reorganização da firma a cada período\n",
    "\n",
    "\n",
    "#sequência de valores da firma para cada período\n",
    "#tem que deixar como dtype = np.float para pegar valores decimais\n",
    "\n",
    "def Vt(Vmax, T, ρ):\n",
    "    \n",
    "    \n",
    "\n",
    "    V = np.empty(T, dtype=np.float)\n",
    "\n",
    "    for t in range(T):\n",
    "        \n",
    "        #no período t = 0, ela é o Vmax. E no período t = 1, também, pois não depreciou ainda\n",
    "\n",
    "        if(t == 0):\n",
    "            V[t] = Vmax\n",
    "\n",
    "        else:\n",
    "            V[t] = ρ**(t-1) * Vmax\n",
    "            \n",
    "    return V\n",
    "\n",
    "V = Vt(Vmax, T, ρ)"
   ]
  },
  {
   "cell_type": "markdown",
   "metadata": {},
   "source": [
    "### Passo 2: Definir os arrays para guardar as funções valor de cada período\n",
    "\n",
    "São:\n",
    "\n",
    "* 100 slots para habilidade do jogador\n",
    "\n",
    "* 100 slots para o lower bound do adversário\n",
    "\n",
    "* 100 slots para o lower bound do próprio jogador no próximo período\n",
    "\n",
    "* 2 slots para dizer se o jogador está propondo ou não\n",
    "    \n",
    "* T slots para marcar o período da função valor\n",
    "\n"
   ]
  },
  {
   "cell_type": "code",
   "execution_count": 9,
   "metadata": {},
   "outputs": [],
   "source": [
    "#slots para cada habilidade\n",
    "grid_size = 100\n",
    "\n",
    "\n",
    "#a vantagem de colocar os dados assim é que se eu quiser teta_s = 0.115, basta procurar θs_vals[114]\n",
    "θs_vals = np.linspace(0.01, 1, grid_size) \n",
    "θj_vals  = np.linspace(0.01, 1, grid_size)  \n",
    "\n",
    "\n",
    "#vetores dos lower bounds são similares aos das habilidades\n",
    "ℓs_vals = θs_vals\n",
    "ℓj_vals = θj_vals\n",
    "\n",
    "\n",
    "#teste\n",
    "# θs_vals[99 - 1]\n",
    "\n",
    "\n",
    "#checando o tamanho\n",
    "# len(θj_vals)"
   ]
  },
  {
   "cell_type": "code",
   "execution_count": 10,
   "metadata": {},
   "outputs": [],
   "source": [
    "#valor de liquidação\n",
    "\n",
    "\n",
    "#a dívida total é sempre a soma das dívidas\n",
    "D = Ds + Dj\n",
    "\n",
    "#o custo total é uma função do tempo\n",
    "\n",
    "@njit\n",
    "def C_func(t):\n",
    "    if(t == 0):\n",
    "        return 0\n",
    "    else:\n",
    "        Ct = c0 * D + c1 * t * D\n",
    "\n",
    "        return Ct\n",
    "\n",
    "#e os valores de liquidação também são função do tempo\n",
    "\n",
    "#versão vetorizada\n",
    "def Ct(T):\n",
    "    \n",
    "    C = np.empty(T, dtype=np.float)\n",
    "\n",
    "    for t in range(T):\n",
    "        \n",
    "        #no período t = 0, o custo é zero\n",
    "\n",
    "        if(t == 0):\n",
    "            C[0] = 0\n",
    "\n",
    "        else:\n",
    "            C[t] = c0 * D + c1 * t * D\n",
    "            \n",
    "    return C\n",
    "\n",
    "#C é um vetor de mesma dimensão do número de turnos\n",
    "C = Ct(T)\n",
    "\n",
    "\n",
    "\n",
    "    \n",
    "#test\n",
    "# C(1)"
   ]
  },
  {
   "cell_type": "code",
   "execution_count": 11,
   "metadata": {},
   "outputs": [],
   "source": [
    "#valores de liquidação\n",
    "\n",
    "def Ls(t):\n",
    "    \n",
    "    Ls = min(L - C_func(t), Ds)\n",
    "    \n",
    "    return Ls\n",
    "\n",
    "\n",
    "def Lj(t):\n",
    "    \n",
    "    Lj = min(L - C_func(t) - Ls(t), Dj)\n",
    "    \n",
    "    return Lj"
   ]
  },
  {
   "cell_type": "code",
   "execution_count": 12,
   "metadata": {},
   "outputs": [
    {
     "data": {
      "text/plain": [
       "array([ 0,  1,  2,  3,  4,  5,  5,  7,  8,  9, 10, 11, 12, 13, 14, 15, 16,\n",
       "       17, 18, 19, 20, 21, 22, 23, 24, 25, 26, 27, 28, 29, 30, 31, 32, 33,\n",
       "       34, 35, 36, 37, 38, 39, 40, 41, 42, 43, 44, 45, 46, 47, 48, 49, 50,\n",
       "       51, 52, 53, 54, 55, 56, 57, 58, 59, 60, 61, 62, 63, 64, 65, 66, 67,\n",
       "       68, 69, 70, 71, 72, 73, 74, 75, 76, 77, 78, 79, 80, 81, 82, 83, 84,\n",
       "       85, 86, 87, 88, 89, 90, 91, 92, 93, 94, 95, 96, 97, 98, 99],\n",
       "      dtype=int16)"
      ]
     },
     "execution_count": 12,
     "metadata": {},
     "output_type": "execute_result"
    }
   ],
   "source": [
    "#funções para achar os valores nas matrizes\n",
    "@njit\n",
    "def find(y):\n",
    "    \n",
    "    x = 100*y - 1\n",
    "    \n",
    "    #transformando em int para usar como índice nas matrizes\n",
    "    x = int(x)\n",
    "    \n",
    "    return x\n",
    "\n",
    "#test\n",
    "# find(0.9)\n",
    "\n",
    "#versão vetorizada\n",
    "def vfind(y):\n",
    "    return np.array(100*y -1).astype(np.int16)\n",
    "\n",
    "#testando\n",
    "vfind(θs_vals)"
   ]
  },
  {
   "cell_type": "markdown",
   "metadata": {},
   "source": [
    "#### Passo 3: fazer o cálculo das funções valor em T-1, T-2, ..., 1."
   ]
  },
  {
   "cell_type": "markdown",
   "metadata": {},
   "source": [
    "### Função para tirar um draw da distribuição Beta\n",
    "\n",
    "\n",
    "Vamos usar o método da amostragem da inversa da CDF (https://en.wikipedia.org/wiki/Inverse_transform_sampling_method). Outra referência que usei foi: https://blogs.sas.com/content/iml/2013/07/22/the-inverse-cdf-method.html#:~:text=The%20exponential%20distribution%20has%20probability,log(1%E2%80%93u).\n",
    "\n",
    "A CDF da Beta é \n",
    "\n",
    "$$ F_{\\beta} ( \\theta_{t+1} \\mid \\theta_{t} ) = 1 - \\frac{ (1 - \\theta_{t+1})^\\beta}{ (1 - \\theta_{t})^\\beta }, \\, \\, \\theta_{t} \\leq \\theta_{t+1} \\leq 1, \\, \\beta \\geq 1$$\n",
    "\n",
    "Para invertê-la, basta procurarmos o valor de x tal que $F(x) = u$, onde u é uma retirada da distribuição Uniforme(0,1).\n",
    "\n",
    "Fazendo os cálculos, esse valor de x é (ou $\\theta_{t+1}$, no caso)\n",
    "\n",
    "\n",
    "$$ \\theta_{t+1} =  1 - exp \\bigg\\{ \\frac{1}{\\beta} \\big[  log (1 - u) + \\beta * log(1 - \\theta_{t}) \\big] \\bigg\\} $$\n"
   ]
  },
  {
   "cell_type": "code",
   "execution_count": 13,
   "metadata": {
    "scrolled": true
   },
   "outputs": [],
   "source": [
    "#código para tirar draw da distribuição beta\n",
    "@njit\n",
    "def draw_beta(info_hoje):\n",
    "    \n",
    "    \n",
    "    #se for igual a 1, retorna 1. Não usei a fórmula da inversa CDF porque teríamos log (0)\n",
    "    if(info_hoje == 1):\n",
    "        return 1\n",
    "    else:\n",
    "    \n",
    "        u = uniform(0, 1)\n",
    "        x = 1 - math.exp( (1/β) * (math.log(1-u) + β*math.log(1-info_hoje)) )\n",
    "\n",
    "        return x\n",
    "\n",
    "\n",
    "\n",
    "\n",
    "# testando\n",
    "\n",
    "# draw_beta(0.5)\n",
    "\n",
    "\n",
    "\n",
    "# #teste com draw da função UNIFORME\n",
    "# def draw_beta(info_hoje):\n",
    "#     u = uniform(info_hoje, 1)\n",
    "#     return u\n",
    "\n",
    "\n",
    "# # testando\n",
    "# draw_beta(0.99)"
   ]
  },
  {
   "cell_type": "markdown",
   "metadata": {},
   "source": [
    "### Função para tirar o valor esperado do teta amanhã, dada a informação hoje.\n",
    "\n",
    "Usamos a forma fechada, baseada na esperança de uma variável aleatória truncada: https://en.wikipedia.org/wiki/Truncated_distribution\n",
    "\n",
    "\n",
    "\n",
    "$$ \\mathbb{E} \\big[ X \\mid X > y \\big] =  \\frac{\\int_{y}^{\\infty}  x g(x) dx} {1 - F(y)} $$\n",
    "\n",
    "\n",
    "Onde:\n",
    "\n",
    "* $f(x)$ é a pdf da Beta, sem truncar. No caso, usamos a = 1 e b = $\\beta$\n",
    "* $ g(x) = f(x)$ sempre que $x > y$ e 0 caso contrário\n",
    "* $F(y)$ é a CDF da Beta, sem truncar, avaliada em y\n",
    "\n",
    "\n",
    "Em nosso caso, y será a informação que temos hoje para formar a expectativa sobre a habilidade amanhã. Na prática, y será ou a habilidade do credor no período atual $\\theta_{k,t}, k \\in \\{s,j\\}$ ou o lower bound da habilidade do credor adversário no período atual $l_{k,t}$.\n",
    "\n",
    "Ilustraremos a fórmula usando $l_{t}$:\n",
    "\n",
    "<!-- \n",
    "$$ \\mathbb{E} \\big[ \\theta_{t+1} \\mid \\theta_{t+1} > l_t \\big] =  \\frac{ l_t (1 - l_t)^\\beta + \\frac{(1-l_t)^{\\beta+1} }{(\\beta+1)} } {1 - (1 - l_t)^\\beta} $$ -->\n",
    "\n",
    "\n",
    "\n",
    "$$ \\mathbb{E} \\big[ \\theta_{t+1} \\mid \\theta_{t+1} > l_t \\big] =  \\frac{ l_t (1 - l_t)^\\beta + (1-l_t)^{\\beta+1}(\\beta+1)^{-1} } {(1 - l_t)^{\\beta} } $$\n",
    "\n"
   ]
  },
  {
   "cell_type": "code",
   "execution_count": 14,
   "metadata": {},
   "outputs": [],
   "source": [
    "@njit\n",
    "def expec_beta(info_hoje):\n",
    "    \n",
    "    #retorna 1 se a info_hoje for 1. A CDF não suporta 1\n",
    "    if info_hoje == 1:\n",
    "        return 1\n",
    "    else:\n",
    "        num = info_hoje * (1 - info_hoje)**β + ((1-info_hoje)**(β+1))/(β+1)\n",
    "\n",
    "        denom = (1-info_hoje)**(β)\n",
    "\n",
    "        return round(num/denom,2)\n",
    "    \n",
    "\n",
    "# testando, com beta = 1 e lt = 0.5, deve achar 0.75\n",
    "\n",
    "\n",
    "# expec_beta(0.5)\n",
    "\n",
    "\n",
    "# #para os outros valores, não pode ser superior a 1. E tem que ser crescente\n",
    "# expec_beta(0.3)\n",
    "\n",
    "# expec_beta(0.99)\n",
    "# expec_beta(1)"
   ]
  },
  {
   "cell_type": "code",
   "execution_count": 15,
   "metadata": {},
   "outputs": [],
   "source": [
    "#binning da pdf beta\n",
    "#discretização da variável.\n",
    "\n",
    "#ALTERNATIVA: dividir o range em 100 espaços iguais, cada espaço é um bin\n",
    "\n",
    "#gerando 1000 draws\n",
    "\n",
    "def bin(info_hoje, ndraws):\n",
    "    \n",
    "    beta_vals = []\n",
    "\n",
    "    for k in range(ndraws):\n",
    "        beta_amanha = draw_beta(info_hoje)\n",
    "\n",
    "        beta_vals.append(beta_amanha)\n",
    "    \n",
    "    #cria os bins e conta quantos valores estão dentro deles\n",
    "    teta_bins = np.zeros(len(θj_vals))  \n",
    "    \n",
    "    for t in range(len(teta_bins)):\n",
    "        \n",
    "        #ajustando os bins iniciais e final\n",
    "        if(t==0):\n",
    "            pre = 0\n",
    "        else:\n",
    "            pre = (θj_vals[t-1]+θj_vals[t])/2\n",
    "               \n",
    "        \n",
    "        if(t==len(teta_bins)-1):\n",
    "            pos = 1\n",
    "        else: \n",
    "            pos = (θj_vals[t]+θj_vals[t+1])/2\n",
    "        \n",
    "        \n",
    "        for b in beta_vals:\n",
    "            \n",
    "            if(b >= pre and b <= pos):\n",
    "                \n",
    "                teta_bins[t] += 1\n",
    "    \n",
    "    return teta_bins/ndraws\n",
    "        \n",
    "        \n",
    "        \n",
    "        \n",
    "#às vezes soma um pouco a mais que um (tipo a sétima casa decimal fica maior que zero, mas ok)\n",
    "# sum(bin(0.9,1000))\n",
    "\n",
    "\n"
   ]
  },
  {
   "cell_type": "code",
   "execution_count": 16,
   "metadata": {},
   "outputs": [],
   "source": [
    "#vamos gerar uma matriz com 100 linhas e 100 colunas\n",
    "#cada coluna vai representar as probabilidades de teta_amanhã dado teta hoje\n",
    "#a linha 1 significa que teta_hoje é 0.01\n",
    "#assim, a linha 0 tem as probabilidades de teta_amanhã dado que teta_hoje é 0.01\n",
    "\n",
    "\n",
    "\n",
    "\n",
    "#probability mass function\n",
    "pmf = np.zeros((grid_size,grid_size))\n",
    "\n",
    "#exemplo para ilustrar\n",
    "# pmf[0,] = bin(θj_vals[0], β, 1000)\n",
    "\n",
    "\n",
    "#populando a pmf:\n",
    "\n",
    "for t in range(len(θj_vals)):\n",
    "    \n",
    "    pmf[t,:] = bin(θj_vals[t], 10000)\n",
    "\n",
    "#quais as probabilidades de teta_amanhã se eu sei que teta_hoje = 0.5?\n",
    "\n",
    "# sum(pmf[53,:])"
   ]
  },
  {
   "cell_type": "markdown",
   "metadata": {},
   "source": [
    "$Prob(\\theta_{s,t+1} \\mid \\ell_{s,t}) = Prob(\\theta_{s,t} \\mid \\ell_{s,t}) x Prob(\\theta_{s,t+1} \\mid \\theta_{s,t}) $ \n",
    "\n",
    "onde x é produto de kronecker\n",
    "\n",
    "$Prob(\\theta_{s,t} \\mid \\ell_{s,t})$ equivale a pegar uma linha da pmf correspondente à $\\ell_{s,t}$\n",
    "\n",
    "$Prob(\\theta_{s,t+1} \\mid \\theta_{s,t}) $ para sabermos essas probabilidades, pegamos a coluna da pmf correspondente à $\\theta_{s,t+1}$\n",
    "\n",
    "Intuição: $\\theta_{s,t}$ é o 'theta_amanha' de $\\ell{s,t}$, então pegamos todas as colunas.\n",
    "\n",
    "Como saberemos todos os possíveis $\\theta_{s,t}$, as probabilidades de $\\theta_{s,t+1}$ dado isso serão as todas as linhas correspondentes à coluna de $\\theta_{s,t+1}$"
   ]
  },
  {
   "cell_type": "code",
   "execution_count": 17,
   "metadata": {},
   "outputs": [],
   "source": [
    "#precisamos de uma pmf para quando temos lst e queremos saber θs,t+1\n",
    "#chamaremos de pmf2\n",
    "\n",
    "\n",
    "pmf2 = np.zeros((grid_size, grid_size))\n",
    "\n",
    "for i in range(len(θj_vals)):\n",
    "    for j in range(len(θj_vals)):\n",
    "        pmf2[i, j] = np.sum(pmf[i, :] * pmf[:, j])\n",
    "        \n"
   ]
  },
  {
   "cell_type": "code",
   "execution_count": 18,
   "metadata": {},
   "outputs": [
    {
     "data": {
      "text/plain": [
       "0.015"
      ]
     },
     "execution_count": 18,
     "metadata": {},
     "output_type": "execute_result"
    },
    {
     "data": {
      "text/plain": [
       "0.14204567626897857"
      ]
     },
     "execution_count": 18,
     "metadata": {},
     "output_type": "execute_result"
    },
    {
     "data": {
      "text/plain": [
       "0.0997"
      ]
     },
     "execution_count": 18,
     "metadata": {},
     "output_type": "execute_result"
    },
    {
     "data": {
      "text/plain": [
       "0.009940089999999999"
      ]
     },
     "execution_count": 18,
     "metadata": {},
     "output_type": "execute_result"
    },
    {
     "data": {
      "text/plain": [
       "0.009940089999999999"
      ]
     },
     "execution_count": 18,
     "metadata": {},
     "output_type": "execute_result"
    },
    {
     "data": {
      "text/plain": [
       "array([9.970e-02, 1.801e-01, 1.411e-01, 1.211e-01, 9.790e-02, 7.620e-02,\n",
       "       6.350e-02, 5.070e-02, 3.820e-02, 3.210e-02, 2.490e-02, 1.810e-02,\n",
       "       1.490e-02, 1.090e-02, 8.500e-03, 5.600e-03, 5.300e-03, 3.200e-03,\n",
       "       1.500e-03, 2.000e-03, 1.300e-03, 1.300e-03, 5.000e-04, 4.000e-04,\n",
       "       1.000e-04, 5.000e-04, 2.000e-04, 0.000e+00, 1.000e-04, 1.000e-04,\n",
       "       0.000e+00, 0.000e+00, 0.000e+00, 0.000e+00, 0.000e+00, 0.000e+00,\n",
       "       0.000e+00, 0.000e+00, 0.000e+00, 0.000e+00, 0.000e+00, 0.000e+00,\n",
       "       0.000e+00, 0.000e+00, 0.000e+00, 0.000e+00])"
      ]
     },
     "execution_count": 18,
     "metadata": {},
     "output_type": "execute_result"
    },
    {
     "data": {
      "text/plain": [
       "array([9.940090e-03, 3.702856e-02, 6.319064e-02, 7.922288e-02,\n",
       "       8.646665e-02, 8.777781e-02, 8.610547e-02, 8.092886e-02,\n",
       "       7.462591e-02, 6.686537e-02, 5.953087e-02, 5.140542e-02,\n",
       "       4.337704e-02, 3.689575e-02, 3.023089e-02, 2.414350e-02,\n",
       "       1.987003e-02, 1.560977e-02, 1.177226e-02, 9.230820e-03,\n",
       "       7.267020e-03, 5.341980e-03, 4.043830e-03, 3.073930e-03,\n",
       "       1.927840e-03, 1.434750e-03, 9.649200e-04, 6.570600e-04,\n",
       "       3.909700e-04, 3.042900e-04, 1.866800e-04, 1.071900e-04,\n",
       "       4.145000e-05, 2.313000e-05, 9.250000e-06, 4.940000e-06,\n",
       "       1.380000e-06, 6.600000e-07, 1.200000e-07, 2.000000e-08,\n",
       "       0.000000e+00, 0.000000e+00, 0.000000e+00, 0.000000e+00,\n",
       "       0.000000e+00, 0.000000e+00])"
      ]
     },
     "execution_count": 18,
     "metadata": {},
     "output_type": "execute_result"
    }
   ],
   "source": [
    "t=0\n",
    "(θj_vals[t]+θj_vals[t+1])/2\n",
    "    \n",
    "draw_beta(0.01)\n",
    "\n",
    "\n",
    "pmf[54, 54]\n",
    "\n",
    "pmf[54, 54] * pmf[54, 54]\n",
    "\n",
    "pmf2[54,54]\n",
    "\n",
    "\n",
    "\n",
    "\n",
    "pmf[54, 54:]\n",
    "\n",
    "pmf2[54, 54:]"
   ]
  },
  {
   "cell_type": "code",
   "execution_count": 19,
   "metadata": {},
   "outputs": [
    {
     "data": {
      "text/plain": [
       "array([[4.820e-02, 9.220e-02, 8.430e-02, ..., 0.000e+00, 0.000e+00,\n",
       "        0.000e+00],\n",
       "       [0.000e+00, 4.570e-02, 9.510e-02, ..., 0.000e+00, 0.000e+00,\n",
       "        0.000e+00],\n",
       "       [0.000e+00, 0.000e+00, 4.710e-02, ..., 0.000e+00, 0.000e+00,\n",
       "        0.000e+00],\n",
       "       ...,\n",
       "       [0.000e+00, 0.000e+00, 0.000e+00, ..., 9.395e-01, 6.050e-02,\n",
       "        0.000e+00],\n",
       "       [0.000e+00, 0.000e+00, 0.000e+00, ..., 0.000e+00, 9.992e-01,\n",
       "        8.000e-04],\n",
       "       [0.000e+00, 0.000e+00, 0.000e+00, ..., 0.000e+00, 0.000e+00,\n",
       "        1.000e+00]])"
      ]
     },
     "execution_count": 19,
     "metadata": {},
     "output_type": "execute_result"
    },
    {
     "data": {
      "text/plain": [
       "array([0.0482, 0.0922, 0.0843, 0.0799, 0.0669, 0.0622, 0.0585, 0.0504,\n",
       "       0.046 , 0.0458, 0.0405, 0.0333, 0.0318, 0.0262, 0.0258, 0.0237,\n",
       "       0.0171, 0.0158, 0.0164, 0.0149, 0.0139, 0.0124, 0.0114, 0.0098,\n",
       "       0.0089, 0.008 , 0.0074, 0.0058, 0.0036, 0.006 , 0.0038, 0.0047,\n",
       "       0.0031, 0.0026, 0.0031, 0.002 , 0.0023, 0.0024, 0.0017, 0.001 ,\n",
       "       0.001 , 0.0009, 0.0011, 0.0006, 0.0006, 0.0002, 0.0003, 0.0002,\n",
       "       0.0001, 0.0002, 0.0003, 0.0001, 0.0001, 0.0002, 0.0001, 0.    ,\n",
       "       0.0001, 0.    , 0.    , 0.0001, 0.    , 0.    , 0.    , 0.    ,\n",
       "       0.    , 0.    , 0.    , 0.    , 0.    , 0.    , 0.    , 0.    ,\n",
       "       0.    , 0.    , 0.    , 0.    , 0.    , 0.    , 0.    , 0.    ,\n",
       "       0.    , 0.    , 0.    , 0.    , 0.    , 0.    , 0.    , 0.    ,\n",
       "       0.    , 0.    , 0.    , 0.    , 0.    , 0.    , 0.    , 0.    ,\n",
       "       0.    , 0.    , 0.    , 0.    ])"
      ]
     },
     "execution_count": 19,
     "metadata": {},
     "output_type": "execute_result"
    }
   ],
   "source": [
    "pmf\n",
    "\n",
    "pmf[0,:]"
   ]
  },
  {
   "cell_type": "markdown",
   "metadata": {},
   "source": [
    "### Como obter o valor esperado da função valor no período seguinte?\n",
    "\n",
    "Multiplicando a coluna correta de pmf pela coluna correta de Ws_array\n",
    "\n",
    "\n",
    "Agora que temos a pdf, podemos fazer assim:\n",
    "\n",
    "\n",
    "$$ \\es{t}{ \\Ws{t+1} } = \\sum_{\\theta_{t+1}=0.01}^{1.00} prob(\\Is{t+1}) * \\Ws{t+1}$$\n",
    "\n",
    "\n",
    "Na prática, já saberemos $l_{s,t+1}$ e $l_{j,t+1}$, então poderemos fixar esses valores\n",
    "\n",
    "\n",
    "$$ \\es{t}{ \\Ws{t+1} } = \\sum_{\\theta_{t+1}=0.01}^{1.00} prob(\\theta_{t+1}) * [ \\Ws{t+1} \\mid l_{s,t+1}, l_{j,t+1} ]$$\n",
    "\n",
    "\n",
    "Vamos fazer essa soma usando multiplicação de vetores:\n",
    "\n",
    "* aproveitaremos que dá pra saber os lower bounds do período seguinte a cada situação, então a única incerteza é sobre teta\n",
    "* multiplicaremos pmf (vetor linha)\n",
    "* pelo vetor coluna W correspondente\n",
    "\n",
    "\n",
    "Como achar a entrada correspondente na matriz?\n",
    "Por exemplo, achar qual entrada corresponde a lst =  0.58. Basta escrever 57 na entrada correspondente. Ou usar a função find(0.58).\n",
    "\n",
    "\n"
   ]
  },
  {
   "cell_type": "markdown",
   "metadata": {},
   "source": [
    "### Vetorizando tudo\n",
    "\n",
    "Vamos fazer a integral vetorizando. Integrais da página 13 do apêndice online, equações (17) e (18)."
   ]
  },
  {
   "cell_type": "code",
   "execution_count": 20,
   "metadata": {
    "scrolled": true
   },
   "outputs": [
    {
     "data": {
      "text/plain": [
       "0.9"
      ]
     },
     "execution_count": 20,
     "metadata": {},
     "output_type": "execute_result"
    },
    {
     "data": {
      "text/plain": [
       "0.9"
      ]
     },
     "execution_count": 20,
     "metadata": {},
     "output_type": "execute_result"
    },
    {
     "data": {
      "text/plain": [
       "array([-0.02717, -0.01717, -0.00717,  0.00283,  0.01283,  0.02283,\n",
       "        0.03283,  0.04283,  0.05283,  0.06283,  0.07283,  0.08283,\n",
       "        0.09283,  0.10283,  0.11283,  0.12283,  0.13283,  0.14283,\n",
       "        0.15283,  0.16283,  0.17283,  0.18283,  0.19283,  0.20283,\n",
       "        0.21283,  0.22283,  0.23283,  0.24283,  0.25283,  0.26283,\n",
       "        0.27283,  0.28283,  0.29283,  0.30283,  0.31283,  0.32283,\n",
       "        0.33283,  0.34283,  0.35283,  0.36283,  0.37283,  0.38283,\n",
       "        0.39283,  0.40283,  0.41283,  0.42283,  0.43283,  0.44283,\n",
       "        0.45283,  0.46283,  0.47283,  0.48283,  0.49283,  0.50283,\n",
       "        0.51283,  0.52283,  0.53283,  0.54283,  0.55283,  0.56283,\n",
       "        0.57283,  0.58283,  0.59283,  0.60283,  0.61283,  0.62283,\n",
       "        0.63283,  0.64283,  0.65283,  0.66283,  0.67283,  0.68283,\n",
       "        0.69283,  0.70283,  0.71283,  0.72283,  0.73283,  0.74283,\n",
       "        0.75283,  0.76283,  0.77283,  0.78283,  0.79283,  0.80283,\n",
       "        0.81283,  0.82283,  0.83283,  0.84283,  0.85283,  0.86283,\n",
       "        0.87283,  0.88283,  0.89283,  0.90283,  0.91283,  0.92283,\n",
       "        0.93283,  0.94283,  0.95283,  0.96283])"
      ]
     },
     "execution_count": 20,
     "metadata": {},
     "output_type": "execute_result"
    }
   ],
   "source": [
    "#vetor Ut+1(θt+1)\n",
    "#vetor que fala o tamanho da torta a ser repartida no início do período t dada a habilidade do jogador naquele período\n",
    "Ut = np.zeros((grid_size, T))\n",
    "\n",
    "\n",
    "#[:, None] é para ajustar as dimensões dos vetores, bem como np.transpose\n",
    "Ut[:,:] = np.transpose(θs_vals * V[:, None] - C[:, None])\n",
    "\n",
    "\n",
    "\n",
    "#qual o tamanho máximo da torta se theta = 0.9 e t = 1?\n",
    "theta = 0.9\n",
    "t = 1\n",
    "\n",
    "Ut[find(theta),(t-1)]\n",
    "\n",
    "#checando:\n",
    "V[(t-1)] * theta - C[(t-1)]\n",
    "\n",
    "#e se eu quiser todos os possíveis valores da torta para t = 2?\n",
    "t = 2\n",
    "\n",
    "#tem que usar (t-1) porque é um vetor no python.\n",
    "Ut[:,(t-1)]\n",
    "\n",
    "\n"
   ]
  },
  {
   "cell_type": "code",
   "execution_count": 21,
   "metadata": {},
   "outputs": [],
   "source": [
    "#vetor que traz os possíveis valores de continuação do adversário amanhã\n",
    "\n",
    "#montando os arrays fora de Class, só para facilitar\n",
    "#suponha que tenhamos os valores de continuação para todos os períodos e para todas as combinações de informações\n",
    "\n",
    "Ws_array = np.zeros((grid_size, grid_size, grid_size, T))\n",
    "Wj_array = np.zeros((grid_size, grid_size, grid_size, T))\n",
    "\n",
    "Ws_array[..., (T-1)] = Ls(T)\n",
    "Wj_array[..., (T-1)] = Lj(T)\n",
    "\n",
    "\n",
    "#aqui é como se já fizéssemos a soma do payoff de propor com o de responder, ponderando por λj"
   ]
  },
  {
   "cell_type": "code",
   "execution_count": 22,
   "metadata": {},
   "outputs": [],
   "source": [
    "\n",
    "#agora vamos à função cutoff\n",
    "\n",
    "#uma forma alternativa é procurar por Pkt no array do adversário\n",
    "def cutoff_j(Pkt, ℓkt_next, ℓmt, t):\n",
    "       \n",
    "        #screening cutoff associated with the proposal Pkt\n",
    "        cmt = ℓmt\n",
    "\n",
    "        #flag will stop the loop if it takes too long\n",
    "        flag = 1\n",
    "        tol = 0.01\n",
    "\n",
    "        while (Wj_array[find(cmt), find(cmt), find(ℓkt_next), t] - Pkt > tol and flag < grid_size and cmt < 1):\n",
    "            cmt = cmt + 0.01\n",
    "            flag = flag + 1\n",
    "            \n",
    "        return cmt\n",
    "\n",
    "\n",
    "#vetorizando a função. Isso só automatiza o for loop, não torna a função mais rápida.\n",
    "vcutoff_j = np.vectorize(cutoff_j)\n",
    "\n",
    "def cutoff_s(Pkt, ℓkt_next, ℓmt, t):\n",
    "       \n",
    "        #screening cutoff associated with the proposal Pkt\n",
    "        cmt = ℓmt\n",
    "\n",
    "        #flag will stop the loop if it takes too long\n",
    "        flag = 1\n",
    "        tol = 0.01\n",
    "\n",
    "        while (Ws_array[find(cmt), find(cmt), find(ℓkt_next), t] - Pkt > tol and flag < grid_size and cmt < 1):\n",
    "            cmt = cmt + 0.01\n",
    "            flag = flag + 1\n",
    "            \n",
    "        return cmt\n",
    "\n",
    "    \n",
    "#vetorizando a função. Isso só automatiza o for loop, não torna a função mais rápida.\n",
    "vcutoff_s = np.vectorize(cutoff_s)"
   ]
  },
  {
   "cell_type": "markdown",
   "metadata": {},
   "source": [
    "Explicar o que quero fazer\n",
    "\n",
    "\n",
    "$\\int_a^b f(x) = F(b) - F(a)$\n",
    "\n",
    "\n",
    "$$\\begin{bmatrix} 1 & 2 & 1 \\\\ 3 & 0 & 1 \\\\ 0 & 2 & 4 \\end{bmatrix}$$\n"
   ]
  },
  {
   "cell_type": "code",
   "execution_count": 23,
   "metadata": {},
   "outputs": [
    {
     "data": {
      "text/plain": [
       "array([-0.12875578, -0.12584156, -0.12292733, -0.12001311, -0.11709889,\n",
       "       -0.11418467, -0.11127045, -0.10835622, -0.105442  , -0.10252778,\n",
       "       -0.09961356, -0.09669933, -0.09378511, -0.09087089, -0.08795667,\n",
       "       -0.08504245, -0.08212822, -0.079214  , -0.07629978, -0.07338556,\n",
       "       -0.07047134, -0.06755711, -0.06464289, -0.06172867, -0.05881445,\n",
       "       -0.05590022, -0.052986  , -0.05007178, -0.04715756, -0.04424334,\n",
       "       -0.04132911, -0.03841489, -0.03550067, -0.03258645, -0.02967223,\n",
       "       -0.026758  , -0.02384378, -0.02092956, -0.01801534, -0.01510112,\n",
       "       -0.01218689, -0.00927267, -0.00635845, -0.00344423, -0.00053   ,\n",
       "        0.00238422,  0.00529844,  0.00821266,  0.01112688,  0.01404111,\n",
       "        0.01695533,  0.01986955,  0.02278377,  0.02569799,  0.02861222,\n",
       "        0.03152644,  0.03444066,  0.03735488,  0.04026911,  0.04318333,\n",
       "        0.04609755,  0.04901177,  0.05192599,  0.05484022,  0.05775444,\n",
       "        0.06066866,  0.06358288,  0.0664971 ,  0.06941133,  0.07232555,\n",
       "        0.07523977,  0.07815399,  0.08106821,  0.08398244,  0.08689666,\n",
       "        0.08981088,  0.0927251 ,  0.09563933,  0.09855355,  0.10146777,\n",
       "        0.10438199,  0.10729621,  0.11021044,  0.11312466,  0.11603888,\n",
       "        0.1189531 ,  0.12186732,  0.12478155,  0.12769577,  0.13060999,\n",
       "        0.13352421,  0.13643843,  0.13935266,  0.14226688,  0.1451811 ,\n",
       "        0.14809532,  0.15100955,  0.15392377,  0.15683799,  0.15975221])"
      ]
     },
     "execution_count": 23,
     "metadata": {},
     "output_type": "execute_result"
    },
    {
     "data": {
      "text/plain": [
       "0.11"
      ]
     },
     "execution_count": 23,
     "metadata": {},
     "output_type": "execute_result"
    },
    {
     "data": {
      "text/plain": [
       "array([0.1 , 0.11, 0.12, 0.13, 0.14, 0.15, 0.16, 0.16, 0.17, 0.18, 0.19,\n",
       "       0.2 , 0.21, 0.22, 0.23, 0.24, 0.25, 0.26, 0.26, 0.27, 0.28, 0.29,\n",
       "       0.3 , 0.31, 0.32, 0.33, 0.34, 0.35, 0.36, 0.36, 0.37, 0.38, 0.39,\n",
       "       0.4 , 0.41, 0.42, 0.43, 0.44, 0.45, 0.46, 0.46, 0.47, 0.48, 0.49,\n",
       "       0.5 , 0.51, 0.52, 0.53, 0.54, 0.55, 0.56, 0.56, 0.57, 0.58, 0.59,\n",
       "       0.6 , 0.61, 0.62, 0.63, 0.64, 0.65, 0.66, 0.66, 0.67, 0.68, 0.69,\n",
       "       0.7 , 0.71, 0.72, 0.73, 0.74, 0.75, 0.75, 0.76, 0.77, 0.78, 0.79,\n",
       "       0.8 , 0.81, 0.82, 0.83, 0.84, 0.85, 0.85, 0.86, 0.87, 0.88, 0.89,\n",
       "       0.9 , 0.91, 0.92, 0.93, 0.94, 0.95, 0.95, 0.96, 0.97, 0.98, 0.99,\n",
       "       1.  ])"
      ]
     },
     "execution_count": 23,
     "metadata": {},
     "output_type": "execute_result"
    },
    {
     "data": {
      "text/plain": [
       "array([ 9, 10, 11, 12, 13, 14, 15, 15, 16, 17, 18, 19, 20, 21, 22, 23, 24,\n",
       "       25, 25, 26, 27, 27, 29, 30, 31, 32, 33, 34, 35, 35, 36, 37, 38, 39,\n",
       "       40, 41, 42, 43, 44, 45, 45, 46, 47, 48, 49, 50, 51, 52, 53, 54, 55,\n",
       "       55, 55, 56, 58, 59, 60, 61, 62, 63, 64, 65, 65, 66, 67, 68, 69, 70,\n",
       "       71, 72, 73, 74, 74, 75, 76, 77, 78, 79, 80, 81, 82, 83, 84, 84, 85,\n",
       "       86, 87, 88, 89, 90, 91, 92, 93, 94, 94, 95, 96, 97, 98, 99],\n",
       "      dtype=int16)"
      ]
     },
     "execution_count": 23,
     "metadata": {},
     "output_type": "execute_result"
    },
    {
     "data": {
      "text/plain": [
       "array([-0.10252778, -0.09961356, -0.09669933, -0.09378511, -0.09087089,\n",
       "       -0.08795667, -0.08504245, -0.08504245, -0.08212822, -0.079214  ,\n",
       "       -0.07629978, -0.07338556, -0.07047134, -0.06755711, -0.06464289,\n",
       "       -0.06172867, -0.05881445, -0.05590022, -0.05590022, -0.052986  ,\n",
       "       -0.05007178, -0.05007178, -0.04424334, -0.04132911, -0.03841489,\n",
       "       -0.03550067, -0.03258645, -0.02967223, -0.026758  , -0.026758  ,\n",
       "       -0.02384378, -0.02092956, -0.01801534, -0.01510112, -0.01218689,\n",
       "       -0.00927267, -0.00635845, -0.00344423, -0.00053   ,  0.00238422,\n",
       "        0.00238422,  0.00529844,  0.00821266,  0.01112688,  0.01404111,\n",
       "        0.01695533,  0.01986955,  0.02278377,  0.02569799,  0.02861222,\n",
       "        0.03152644,  0.03152644,  0.03152644,  0.03444066,  0.04026911,\n",
       "        0.04318333,  0.04609755,  0.04901177,  0.05192599,  0.05484022,\n",
       "        0.05775444,  0.06066866,  0.06066866,  0.06358288,  0.0664971 ,\n",
       "        0.06941133,  0.07232555,  0.07523977,  0.07815399,  0.08106821,\n",
       "        0.08398244,  0.08689666,  0.08689666,  0.08981088,  0.0927251 ,\n",
       "        0.09563933,  0.09855355,  0.10146777,  0.10438199,  0.10729621,\n",
       "        0.11021044,  0.11312466,  0.11603888,  0.11603888,  0.1189531 ,\n",
       "        0.12186732,  0.12478155,  0.12769577,  0.13060999,  0.13352421,\n",
       "        0.13643843,  0.13935266,  0.14226688,  0.1451811 ,  0.1451811 ,\n",
       "        0.14809532,  0.15100955,  0.15392377,  0.15683799,  0.15975221])"
      ]
     },
     "execution_count": 23,
     "metadata": {},
     "output_type": "execute_result"
    },
    {
     "data": {
      "text/plain": [
       "(100, 99)"
      ]
     },
     "execution_count": 23,
     "metadata": {},
     "output_type": "execute_result"
    }
   ],
   "source": [
    "#função da proposta de pagamento ótima\n",
    "#resolve equações 17 e 18 da página 12 do apêndice\n",
    "t = T-1\n",
    "\n",
    "#todos os valores possíveis da torta para o período T-1\n",
    "Ut[:, t]\n",
    "\n",
    "#para cada θst, quero calcular o torta avaliada no valor esperado de θs,t+1 dado θst\n",
    "expec_beta(0.02)\n",
    "\n",
    "#vetorizando a função expec_beta do jeito conveniente\n",
    "vexpec = np.vectorize(expec_beta)\n",
    "vexpec(θs_vals)\n",
    "\n",
    "#ok, mas o array Ut não sabe ler diretamente os valores de θs,t+1. Precisamos associá-los a índices.\n",
    "#faremos isso com a função vfind()\n",
    "\n",
    "vfind(vexpec(θs_vals))\n",
    "\n",
    "#então, as tortas avaliadas nos valores esperados de θst em t são:\n",
    "Ut[vfind(vexpec(θs_vals)), t]\n",
    "\n",
    "#ok, dadas essas tortas, queremos gerar 99 propostas para cada uma delas. Cada proposta é um share de 1% a mais na torta\n",
    "\n",
    "\n",
    "\n",
    "share = np.arange(0.01, 1, step = 0.01)\n",
    "\n",
    "Pst = np.outer(Ut[vfind(vexpec(θs_vals)), t], share)\n",
    "\n",
    "Pst.shape\n",
    "\n"
   ]
  },
  {
   "cell_type": "code",
   "execution_count": 25,
   "metadata": {},
   "outputs": [
    {
     "data": {
      "text/plain": [
       "(100, 99)"
      ]
     },
     "execution_count": 25,
     "metadata": {},
     "output_type": "execute_result"
    },
    {
     "data": {
      "text/plain": [
       "(100, 100, 100)"
      ]
     },
     "execution_count": 25,
     "metadata": {},
     "output_type": "execute_result"
    },
    {
     "data": {
      "text/plain": [
       "(100, 100)"
      ]
     },
     "execution_count": 25,
     "metadata": {},
     "output_type": "execute_result"
    },
    {
     "data": {
      "text/plain": [
       "array([[0., 0., 0., ..., 0., 0., 0.],\n",
       "       [0., 0., 0., ..., 0., 0., 0.],\n",
       "       [0., 0., 0., ..., 0., 0., 0.],\n",
       "       ...,\n",
       "       [0., 0., 0., ..., 0., 0., 0.],\n",
       "       [0., 0., 0., ..., 0., 0., 0.],\n",
       "       [0., 0., 0., ..., 0., 0., 0.]])"
      ]
     },
     "execution_count": 25,
     "metadata": {},
     "output_type": "execute_result"
    },
    {
     "ename": "ValueError",
     "evalue": "could not broadcast input array from shape (100,100) into shape (100,100,100,99)",
     "output_type": "error",
     "traceback": [
      "\u001b[1;31m---------------------------------------------------------------------------\u001b[0m",
      "\u001b[1;31mValueError\u001b[0m                                Traceback (most recent call last)",
      "\u001b[1;32m<ipython-input-25-d5f58f26c8d5>\u001b[0m in \u001b[0;36m<module>\u001b[1;34m\u001b[0m\n\u001b[0;32m     32\u001b[0m \u001b[1;33m\u001b[0m\u001b[0m\n\u001b[0;32m     33\u001b[0m \u001b[0mJ\u001b[0m \u001b[1;33m=\u001b[0m \u001b[0mnp\u001b[0m\u001b[1;33m.\u001b[0m\u001b[0mempty\u001b[0m\u001b[1;33m(\u001b[0m\u001b[1;33m(\u001b[0m\u001b[0mgrid_size\u001b[0m\u001b[1;33m,\u001b[0m \u001b[0mgrid_size\u001b[0m\u001b[1;33m,\u001b[0m \u001b[0mgrid_size\u001b[0m\u001b[1;33m,\u001b[0m \u001b[1;36m99\u001b[0m\u001b[1;33m)\u001b[0m\u001b[1;33m)\u001b[0m\u001b[1;33m\u001b[0m\u001b[1;33m\u001b[0m\u001b[0m\n\u001b[1;32m---> 34\u001b[1;33m \u001b[0mJ\u001b[0m\u001b[1;33m[\u001b[0m\u001b[1;33m...\u001b[0m\u001b[1;33m]\u001b[0m \u001b[1;33m=\u001b[0m \u001b[0mnp\u001b[0m\u001b[1;33m.\u001b[0m\u001b[0mdiagonal\u001b[0m\u001b[1;33m(\u001b[0m\u001b[0mWj_array\u001b[0m\u001b[1;33m[\u001b[0m\u001b[1;33m:\u001b[0m\u001b[1;33m,\u001b[0m\u001b[1;33m:\u001b[0m\u001b[1;33m,\u001b[0m\u001b[1;33m:\u001b[0m\u001b[1;33m,\u001b[0m \u001b[0mt\u001b[0m\u001b[1;33m]\u001b[0m\u001b[1;33m,\u001b[0m \u001b[0maxis1\u001b[0m \u001b[1;33m=\u001b[0m \u001b[1;36m2\u001b[0m\u001b[1;33m)\u001b[0m\u001b[1;33m\u001b[0m\u001b[1;33m\u001b[0m\u001b[0m\n\u001b[0m\u001b[0;32m     35\u001b[0m \u001b[1;33m\u001b[0m\u001b[0m\n\u001b[0;32m     36\u001b[0m \u001b[1;33m\u001b[0m\u001b[0m\n",
      "\u001b[1;31mValueError\u001b[0m: could not broadcast input array from shape (100,100) into shape (100,100,100,99)"
     ]
    }
   ],
   "source": [
    "\n",
    "#cutoff vetorizado\n",
    "Pst.shape\n",
    "\n",
    "#ok, embora tenhamos 100x99 propostas de pagamentos, o cutoff também é função de ljt. \n",
    "#Então devemos adicionar a dimensão de ljt nesse cálculo\n",
    "\n",
    "#supondo notação (θkt, ℓkt, ℓmt) - IMPORTANTE ESSE DETALHE - , temos\n",
    "\n",
    "#cutoff necessita que a habilidade verdadeira e o lower bound dessa habilidade sejam iguais\n",
    "#então buscaremos uma \"diagonal\". \n",
    "#Como também vamos variar a dimensão de ℓmt, essa diagonal é obtida pelo axis1 = 0\n",
    "\n",
    "\n",
    "\n",
    "Wj_array[..., t].shape\n",
    "np.diagonal(Wj_array[:,:,:, t], axis1 = 0).shape\n",
    "\n",
    "#isso equivale a transformar o array 3d em um array 2d com a seguinte interpretação: \n",
    "#as linhas correspondem aos cutoffs associados e as colunas correspondem aos valores do propositor\n",
    "#se queremos, por exemplo, saber qual o valor da função avaliada no cutoff = 0.02 e θst = 0.01, precisamos buscar\n",
    "#Wj_diagonal[3, 2]\n",
    "\n",
    "#precisamos repetir esse array diagonal pelo tamanho do número de pagamentos\n",
    "\n",
    "\n",
    "np.diagonal(Wj_array[:,:,:, t], axis1 = 0)\n",
    "\n",
    "\n",
    "#precisamos fazer um broadcast desse array\n",
    "#para cada θst e ℓjt fixos, temos um vetor de dimensões θj,t+1 x pst, ou seja, 100 x 99\n",
    "#então para 100 θst e 100 ℓjt, teremos um vetor de dimensões θst x ℓjt x θj,t+1 x pst\n",
    "\n",
    "J = np.empty((grid_size, grid_size, grid_size, 99))\n",
    "J[...] = np.diagonal(Wj_array[:,:,:, t], axis1 = 2)\n",
    "\n",
    "\n",
    "\n",
    "\n",
    "\n",
    "#cada entrada dele é uma combinação de θst e ℓst. Para pegar as entradas onde θst = ℓst, usamos a diagonal principal\n",
    "\n",
    "# np.where(np.diagonal(Ws_array[:,:, 60, (T-1)]) - 1 > 0)\n",
    "\n"
   ]
  },
  {
   "cell_type": "code",
   "execution_count": 49,
   "metadata": {},
   "outputs": [
    {
     "data": {
      "text/plain": [
       "array([[[0, 1],\n",
       "        [2, 3]],\n",
       "\n",
       "       [[4, 5],\n",
       "        [6, 7]]])"
      ]
     },
     "execution_count": 49,
     "metadata": {},
     "output_type": "execute_result"
    },
    {
     "data": {
      "text/plain": [
       "array([[0, 3],\n",
       "       [4, 7]])"
      ]
     },
     "execution_count": 49,
     "metadata": {},
     "output_type": "execute_result"
    }
   ],
   "source": [
    "#testando essa diagonal para ver se estou certo\n",
    "a = np.arange(8).reshape(2,2,2)\n",
    "a\n",
    "\n",
    "#suponha que as dimensões são θkt, ℓkt, ℓmt, respectivamente\n",
    "#vamos pegar todos os valores de ℓmt\n",
    "#mas só queremos as entradas onde o índice(θkt) == índice(ℓkt)\n",
    "\n",
    "#pelo nosso exemplo, o resultado deve ser: [0,3], [4,7]\n",
    "np.diagonal(a, axis1= 2)\n",
    "\n",
    "#ou seja, precisamos usar axis1 = 2. O axis1 é o eixo que fica fixo enquanto pegamos as demais diagonais"
   ]
  },
  {
   "cell_type": "code",
   "execution_count": 70,
   "metadata": {},
   "outputs": [
    {
     "data": {
      "text/plain": [
       "array([[[ 0,  1,  2],\n",
       "        [ 3,  4,  5],\n",
       "        [ 6,  7,  8]],\n",
       "\n",
       "       [[ 9, 10, 11],\n",
       "        [12, 13, 14],\n",
       "        [15, 16, 17]],\n",
       "\n",
       "       [[18, 19, 20],\n",
       "        [21, 22, 23],\n",
       "        [24, 25, 26]]])"
      ]
     },
     "execution_count": 70,
     "metadata": {},
     "output_type": "execute_result"
    },
    {
     "data": {
      "text/plain": [
       "array([[ 0,  4,  8],\n",
       "       [ 9, 13, 17],\n",
       "       [18, 22, 26]])"
      ]
     },
     "execution_count": 70,
     "metadata": {},
     "output_type": "execute_result"
    }
   ],
   "source": [
    "#checando np.diagonal com mais calma\n",
    "d = np.arange(27).reshape(3,3,3)\n",
    "d\n",
    "\n",
    "np.diagonal(d, axis1 = 2)\n",
    "\n",
    "#parece que o raciocínio acima está certo. OK.\n",
    "\n"
   ]
  },
  {
   "cell_type": "code",
   "execution_count": 22,
   "metadata": {},
   "outputs": [
    {
     "data": {
      "text/plain": [
       "(100, 99)"
      ]
     },
     "execution_count": 22,
     "metadata": {},
     "output_type": "execute_result"
    },
    {
     "ename": "ValueError",
     "evalue": "operands could not be broadcast together with shapes (100,) (99,) ",
     "output_type": "error",
     "traceback": [
      "\u001b[1;31m---------------------------------------------------------------------------\u001b[0m",
      "\u001b[1;31mValueError\u001b[0m                                Traceback (most recent call last)",
      "\u001b[1;32m<ipython-input-22-edc4aab81526>\u001b[0m in \u001b[0;36m<module>\u001b[1;34m\u001b[0m\n\u001b[0;32m     41\u001b[0m \u001b[0mnp\u001b[0m\u001b[1;33m.\u001b[0m\u001b[0mwhere\u001b[0m\u001b[1;33m(\u001b[0m\u001b[0mWj_array\u001b[0m\u001b[1;33m[\u001b[0m\u001b[1;33m:\u001b[0m\u001b[1;33m,\u001b[0m \u001b[0mvfind\u001b[0m\u001b[1;33m(\u001b[0m\u001b[0mcutoffs\u001b[0m\u001b[1;33m)\u001b[0m\u001b[1;33m,\u001b[0m \u001b[0mfind\u001b[0m\u001b[1;33m(\u001b[0m\u001b[0mθst\u001b[0m\u001b[1;33m)\u001b[0m\u001b[1;33m,\u001b[0m \u001b[0mt\u001b[0m\u001b[1;33m]\u001b[0m \u001b[1;33m>\u001b[0m \u001b[0mPst_vector\u001b[0m \u001b[1;33m,\u001b[0m \u001b[1;36m0\u001b[0m\u001b[1;33m,\u001b[0m \u001b[1;36m1\u001b[0m\u001b[1;33m)\u001b[0m\u001b[1;33m.\u001b[0m\u001b[0mshape\u001b[0m\u001b[1;33m\u001b[0m\u001b[1;33m\u001b[0m\u001b[0m\n\u001b[0;32m     42\u001b[0m \u001b[1;33m\u001b[0m\u001b[0m\n\u001b[1;32m---> 43\u001b[1;33m \u001b[0mUt\u001b[0m\u001b[1;33m[\u001b[0m\u001b[1;33m:\u001b[0m\u001b[1;33m,\u001b[0m\u001b[0mt\u001b[0m\u001b[1;33m]\u001b[0m \u001b[1;33m-\u001b[0m \u001b[0mPst_vector\u001b[0m\u001b[1;33m\u001b[0m\u001b[1;33m\u001b[0m\u001b[0m\n\u001b[0m\u001b[0;32m     44\u001b[0m \u001b[1;33m\u001b[0m\u001b[0m\n\u001b[0;32m     45\u001b[0m \u001b[1;31m# #ind_E2 é oposto de E1: é igual a 1 quando pst for menor que valor de continuação do adversário\u001b[0m\u001b[1;33m\u001b[0m\u001b[1;33m\u001b[0m\u001b[1;33m\u001b[0m\u001b[0m\n",
      "\u001b[1;31mValueError\u001b[0m: operands could not be broadcast together with shapes (100,) (99,) "
     ]
    }
   ],
   "source": [
    "#vetorizando a função de pagamentos só na parte dos pagamentos\n",
    "\n",
    "\n",
    "share = np.arange(0.01, 1, step = 0.01)\n",
    "\n",
    "\n",
    "t = (T-1)\n",
    "θst = 0.5\n",
    "ℓjt = 0.3\n",
    "\n",
    "# def Pst(θst, ℓjt, t):\n",
    "#     breakpoint()\n",
    "\n",
    "    \n",
    "#vector of possible proposals\n",
    "#sharing the expected value pie, from 1% to 99% of the pie\n",
    "#share is a vector\n",
    "Pst_vector = Ut[find(expec_beta(θst)), t] * share\n",
    "\n",
    "#restrição para pagamento ser no mínimo igual a zero\n",
    "Pst_vector = np.where(Pst_vector < 0, 0, Pst_vector)\n",
    "\n",
    "#cutoffs associados\n",
    "cutoffs = vcutoff_j(Pst_vector, θst, ℓjt, t)\n",
    "\n",
    "#E1 do apêndice do artigo, página 12, equação 17\n",
    "E1 = np.zeros(len(Pst_vector))\n",
    "\n",
    "#E2 do apêndice do artigo, página 13, equação 18\n",
    "E2 = np.zeros(len(Pst_vector))\n",
    "\n",
    "#loop para popular a matriz com E1\n",
    "# for i, pst in enumerate(Pst_vector):\n",
    "\n",
    "#criando a função indicadora\n",
    "\n",
    "#ind_E1 é igual a 1 se pst for maior ou igual ao valor de continuação do adversário\n",
    "# ind_E1 = \n",
    "\n",
    "\n",
    "np.where(Wj_array[:, vfind(cutoffs), find(θst), t] > Pst_vector , 0, 1).shape\n",
    "\n",
    "Ut[:,t] - Pst_vector\n",
    "\n",
    "# #ind_E2 é oposto de E1: é igual a 1 quando pst for menor que valor de continuação do adversário\n",
    "# ind_E2 = np.where(ind_E1 == 1, 0, 1)\n",
    "\n",
    "# #tamanho do vetor com os possíveis valores de θj,t+1 são todos os valores maiores que ℓjt\n",
    "# len_j = len(ind_E1)\n",
    "\n",
    "# #analogamente, para θs,t+1\n",
    "# len_s = len(θs_vals[find(θst):])\n",
    "\n",
    "# #cálculo do E1 ####\n",
    "\n",
    "# #queremos um array de s que tenha número de linhas iguais ao número de possíveis valores de θs,t+1 \n",
    "# #e número de colunas igual ao número de possíveis valores de θj,t+1\n",
    "\n",
    "# S1 = np.repeat(Ut[find(θst):, t], len_j, axis = 0)\n",
    "# S1 = np.reshape(S1, (len_s, len_j))\n",
    "# S1 = S1 - pst\n",
    "\n",
    "\n",
    "# #ponderando pelas probabilidades\n",
    "# #prob(θs,t+1 |θs,t)\n",
    "# #checar se o broadcasting tá ok (se todos os elementos de cada linha são iguais)\n",
    "# Check_S1 = S1\n",
    "\n",
    "# S1 = pmf[find(θst), find(θst):, None]  * S1\n",
    "\n",
    "# #prob(θj,t+1 |ℓj,t)\n",
    "# ind_E1 = pmf[find(ℓjt), find(ℓjt):] * ind_E1\n",
    "\n",
    "# #multiplicação matricial\n",
    "# #acho que essa soma no final tá errada\n",
    "# E1[i] = np.sum(np.multiply(S1, ind_E1))\n",
    "\n",
    "# #cálculo do E2 ####\n",
    "# S2 = np.repeat(Ws_array[find(θst):, find(θst), find(cutoffs[i]), t], len_j, axis = 0)\n",
    "# S2 = np.reshape(S2, (len_s, len_j))\n",
    "\n",
    "\n",
    "# #multiplicando pelas probabilidades\n",
    "# #prob(θs,t+1 |θs,t)\n",
    "# #checar se o broadcasting tá ok (se todos os elementos de cada linha são iguais)\n",
    "# Check_S2 = S2\n",
    "\n",
    "# S2 = pmf[find(θst), find(θst):, None]  * S2\n",
    "\n",
    "# #prob(θj,t+1 |ℓj,t)\n",
    "# ind_E2 = pmf[find(ℓjt), find(ℓjt):] * ind_E2\n",
    "\n",
    "# #multiplicação matricial\n",
    "# #acho que essa soma no final tá errada\n",
    "# E2[i] = np.sum(np.multiply(S2, ind_E2))\n",
    "\n",
    "\n",
    "# #calculados E1 e E2, vemos qual proposta de pagamento dá a maior soma entre eles\n",
    "# matrix_payoff = E1 + E2\n",
    "\n",
    "# payoff = np.max(matrix_payoff)\n",
    "# index = np.argmax(matrix_payoff)\n",
    "\n",
    "# pagamento = Pst_vector[index]\n",
    "\n",
    "# #e a política ótima é propor reorganizar (1) se E1* > E2*, e propor esperar (2) caso contrário\n",
    "# if( E1[index] >= E2[index]):\n",
    "#     proposal = 1\n",
    "# else:\n",
    "#     proposal = 2\n",
    "\n",
    "# #retorna pagamento,cutoff associado,valor de E1 + E2 (payoff esperado), θst (ajuda no cálculo de A1)\n",
    "# return pagamento, cutoffs[index], matrix_payoff[index], θst, proposal\n",
    "    \n",
    "    \n",
    "#testando\n",
    "# Pst(0.5, 0.3, T-1)[2:5]\n"
   ]
  },
  {
   "cell_type": "code",
   "execution_count": 171,
   "metadata": {
    "scrolled": true
   },
   "outputs": [
    {
     "data": {
      "text/plain": [
       "array([-0.1290419 , -0.12612768, -0.12321346, -0.12029923, -0.11738501,\n",
       "       -0.11447079, -0.11155657, -0.10864235, -0.10572812, -0.1028139 ,\n",
       "       -0.09989968, -0.09698546, -0.09407123, -0.09115701, -0.08824279,\n",
       "       -0.08532857, -0.08241435, -0.07950012, -0.0765859 , -0.07367168,\n",
       "       -0.07075746, -0.06784324, -0.06492901, -0.06201479, -0.05910057,\n",
       "       -0.05618635, -0.05327212, -0.0503579 , -0.04744368, -0.04452946,\n",
       "       -0.04161524, -0.03870101, -0.03578679, -0.03287257, -0.02995835,\n",
       "       -0.02704413, -0.0241299 , -0.02121568, -0.01830146, -0.01538724,\n",
       "       -0.01247302, -0.00955879, -0.00664457, -0.00373035, -0.00081613,\n",
       "        0.0020981 ,  0.00501232,  0.00792654,  0.01084076,  0.01375498,\n",
       "        0.01666921,  0.01958343,  0.02249765,  0.02541187,  0.02832609,\n",
       "        0.03124032,  0.03415454,  0.03706876,  0.03998298,  0.0428972 ,\n",
       "        0.04581143,  0.04872565,  0.05163987,  0.05455409,  0.05746832,\n",
       "        0.06038254,  0.06329676,  0.06621098,  0.0691252 ,  0.07203943,\n",
       "        0.07495365,  0.07786787,  0.08078209,  0.08369631,  0.08661054,\n",
       "        0.08952476,  0.09243898,  0.0953532 ,  0.09826743,  0.10118165,\n",
       "        0.10409587,  0.10701009,  0.10992431,  0.11283854,  0.11575276,\n",
       "        0.11866698,  0.1215812 ,  0.12449542,  0.12740965,  0.13032387,\n",
       "        0.13323809,  0.13615231,  0.13906653,  0.14198076,  0.14489498,\n",
       "        0.1478092 ,  0.15072342,  0.15363765,  0.15655187,  0.15946609])"
      ]
     },
     "execution_count": 171,
     "metadata": {},
     "output_type": "execute_result"
    },
    {
     "data": {
      "text/plain": [
       "array([[-0.1290419 , -0.12932802, -0.12961414, ..., -0.15650963,\n",
       "        -0.15679575, -0.15708187],\n",
       "       [-0.1290419 , -0.12932802, -0.12961414, ..., -0.15650963,\n",
       "        -0.15679575, -0.15708187],\n",
       "       [-0.1290419 , -0.12932802, -0.12961414, ..., -0.15650963,\n",
       "        -0.15679575, -0.15708187],\n",
       "       ...,\n",
       "       [-0.1290419 , -0.12932802, -0.12961414, ..., -0.15650963,\n",
       "        -0.15679575, -0.15708187],\n",
       "       [-0.1290419 , -0.12932802, -0.12961414, ..., -0.15650963,\n",
       "        -0.15679575, -0.15708187],\n",
       "       [-0.1290419 , -0.12932802, -0.12961414, ..., -0.15650963,\n",
       "        -0.15679575, -0.15708187]])"
      ]
     },
     "execution_count": 171,
     "metadata": {},
     "output_type": "execute_result"
    },
    {
     "data": {
      "text/plain": [
       "array([-0.1290419 , -0.12612768, -0.12321346, -0.12029923, -0.11738501,\n",
       "       -0.11447079, -0.11155657, -0.10864235, -0.10572812, -0.1028139 ,\n",
       "       -0.09989968, -0.09698546, -0.09407123, -0.09115701, -0.08824279,\n",
       "       -0.08532857, -0.08241435, -0.07950012, -0.0765859 , -0.07367168,\n",
       "       -0.07075746, -0.06784324, -0.06492901, -0.06201479, -0.05910057,\n",
       "       -0.05618635, -0.05327212, -0.0503579 , -0.04744368, -0.04452946,\n",
       "       -0.04161524, -0.03870101, -0.03578679, -0.03287257, -0.02995835,\n",
       "       -0.02704413, -0.0241299 , -0.02121568, -0.01830146, -0.01538724,\n",
       "       -0.01247302, -0.00955879, -0.00664457, -0.00373035, -0.00081613,\n",
       "        0.0020981 ,  0.00501232,  0.00792654,  0.01084076,  0.01375498,\n",
       "        0.01666921,  0.01958343,  0.02249765,  0.02541187,  0.02832609,\n",
       "        0.03124032,  0.03415454,  0.03706876,  0.03998298,  0.0428972 ,\n",
       "        0.04581143,  0.04872565,  0.05163987,  0.05455409,  0.05746832,\n",
       "        0.06038254,  0.06329676,  0.06621098,  0.0691252 ,  0.07203943,\n",
       "        0.07495365,  0.07786787,  0.08078209,  0.08369631,  0.08661054,\n",
       "        0.08952476,  0.09243898,  0.0953532 ,  0.09826743,  0.10118165,\n",
       "        0.10409587,  0.10701009,  0.10992431,  0.11283854,  0.11575276,\n",
       "        0.11866698,  0.1215812 ,  0.12449542,  0.12740965,  0.13032387,\n",
       "        0.13323809,  0.13615231,  0.13906653,  0.14198076,  0.14489498,\n",
       "        0.1478092 ,  0.15072342,  0.15363765,  0.15655187,  0.15946609])"
      ]
     },
     "execution_count": 171,
     "metadata": {},
     "output_type": "execute_result"
    }
   ],
   "source": [
    "#vamos repetir os possíveis valores da torta 99 vezes \n",
    "#https://www.kite.com/python/answers/how-to-repeat-an-array-as-a-row-or-column-using-numpy-in-python#:~:text=transpose()%20to%20repeat%20an,times%20to%20repeat%20the%20array%20.\n",
    "\n",
    "np.transpose([Ut[:,t]] * 2).T[0] - Pst_vector[0]\n",
    "\n",
    "S = np.transpose([[Ut[:,t]] * 99])\n",
    "\n",
    "S = np.subtract(S, Pst_vector)\n",
    "\n",
    "S[0]\n",
    "\n",
    "\n",
    "Ut[:,t] - Pst_vector[0]\n"
   ]
  },
  {
   "cell_type": "code",
   "execution_count": 28,
   "metadata": {},
   "outputs": [
    {
     "data": {
      "text/plain": [
       "array([[-0.1290419 , -0.12612768, -0.12321346, ...,  0.15363765,\n",
       "         0.15655187,  0.15946609],\n",
       "       [-0.12932802, -0.1264138 , -0.12349958, ...,  0.15335152,\n",
       "         0.15626575,  0.15917997],\n",
       "       [-0.12961414, -0.12669992, -0.1237857 , ...,  0.1530654 ,\n",
       "         0.15597962,  0.15889385],\n",
       "       ...,\n",
       "       [-0.15650963, -0.15359541, -0.15068118, ...,  0.12616992,\n",
       "         0.12908414,  0.13199836],\n",
       "       [-0.15679575, -0.15388153, -0.15096731, ...,  0.1258838 ,\n",
       "         0.12879802,  0.13171224],\n",
       "       [-0.15708187, -0.15416765, -0.15125343, ...,  0.12559767,\n",
       "         0.1285119 ,  0.13142612]])"
      ]
     },
     "execution_count": 28,
     "metadata": {},
     "output_type": "execute_result"
    },
    {
     "data": {
      "text/plain": [
       "array([-0.1290419 , -0.12612768, -0.12321346, -0.12029923, -0.11738501,\n",
       "       -0.11447079, -0.11155657, -0.10864235, -0.10572812, -0.1028139 ,\n",
       "       -0.09989968, -0.09698546, -0.09407123, -0.09115701, -0.08824279,\n",
       "       -0.08532857, -0.08241435, -0.07950012, -0.0765859 , -0.07367168,\n",
       "       -0.07075746, -0.06784324, -0.06492901, -0.06201479, -0.05910057,\n",
       "       -0.05618635, -0.05327212, -0.0503579 , -0.04744368, -0.04452946,\n",
       "       -0.04161524, -0.03870101, -0.03578679, -0.03287257, -0.02995835,\n",
       "       -0.02704413, -0.0241299 , -0.02121568, -0.01830146, -0.01538724,\n",
       "       -0.01247302, -0.00955879, -0.00664457, -0.00373035, -0.00081613,\n",
       "        0.0020981 ,  0.00501232,  0.00792654,  0.01084076,  0.01375498,\n",
       "        0.01666921,  0.01958343,  0.02249765,  0.02541187,  0.02832609,\n",
       "        0.03124032,  0.03415454,  0.03706876,  0.03998298,  0.0428972 ,\n",
       "        0.04581143,  0.04872565,  0.05163987,  0.05455409,  0.05746832,\n",
       "        0.06038254,  0.06329676,  0.06621098,  0.0691252 ,  0.07203943,\n",
       "        0.07495365,  0.07786787,  0.08078209,  0.08369631,  0.08661054,\n",
       "        0.08952476,  0.09243898,  0.0953532 ,  0.09826743,  0.10118165,\n",
       "        0.10409587,  0.10701009,  0.10992431,  0.11283854,  0.11575276,\n",
       "        0.11866698,  0.1215812 ,  0.12449542,  0.12740965,  0.13032387,\n",
       "        0.13323809,  0.13615231,  0.13906653,  0.14198076,  0.14489498,\n",
       "        0.1478092 ,  0.15072342,  0.15363765,  0.15655187,  0.15946609])"
      ]
     },
     "execution_count": 28,
     "metadata": {},
     "output_type": "execute_result"
    },
    {
     "data": {
      "text/plain": [
       "True"
      ]
     },
     "execution_count": 28,
     "metadata": {},
     "output_type": "execute_result"
    }
   ],
   "source": [
    "#tentando com broadcasting natural do numpy\n",
    "\n",
    "#None cria um novo eixo para o array. No caso, ele passa a ser um vetor linha\n",
    "S = Ut[:, None, t] - Pst_vector\n",
    "\n",
    "S.T\n",
    "\n",
    "manual = Ut[:,t] - Pst_vector[0]\n",
    "manual\n",
    "\n",
    "#continuar daqui\n",
    "# webbrowser.open('https://www.sharpsightlabs.com/blog/numpy-axes-explained/#:~:text=NumPy%20array%20axes%20are%20numbered%20starting%20with%200&text=This%20is%20just%20like%20index,an%20index%20associated%20with%20them.')"
   ]
  },
  {
   "cell_type": "code",
   "execution_count": 60,
   "metadata": {},
   "outputs": [
    {
     "data": {
      "text/plain": [
       "array([[[ 0,  1,  2],\n",
       "        [ 3,  4,  5],\n",
       "        [ 6,  7,  8],\n",
       "        [ 9, 10, 11]],\n",
       "\n",
       "       [[12, 13, 14],\n",
       "        [15, 16, 17],\n",
       "        [18, 19, 20],\n",
       "        [21, 22, 23]],\n",
       "\n",
       "       [[24, 25, 26],\n",
       "        [27, 28, 29],\n",
       "        [30, 31, 32],\n",
       "        [33, 34, 35]]])"
      ]
     },
     "execution_count": 60,
     "metadata": {},
     "output_type": "execute_result"
    },
    {
     "data": {
      "text/plain": [
       "array([[36, 39, 42],\n",
       "       [45, 48, 51],\n",
       "       [54, 57, 60],\n",
       "       [63, 66, 69]])"
      ]
     },
     "execution_count": 60,
     "metadata": {},
     "output_type": "execute_result"
    },
    {
     "data": {
      "text/plain": [
       "array([[36, 39, 42],\n",
       "       [45, 48, 51],\n",
       "       [54, 57, 60],\n",
       "       [63, 66, 69]])"
      ]
     },
     "execution_count": 60,
     "metadata": {},
     "output_type": "execute_result"
    }
   ],
   "source": [
    "#tentando entender axis\n",
    "\n",
    "a = np.arange(36).reshape(3,4,3)\n",
    "a\n",
    "\n",
    "\n",
    "np.sum(a, axis = 0)\n",
    "\n",
    "a[0] + a[1] + a[2]\n",
    "\n",
    "\n",
    "\n"
   ]
  },
  {
   "cell_type": "code",
   "execution_count": 76,
   "metadata": {},
   "outputs": [
    {
     "data": {
      "text/plain": [
       "array([[[ 0,  1,  2],\n",
       "        [ 3,  4,  5],\n",
       "        [ 6,  7,  8],\n",
       "        [ 9, 10, 11]],\n",
       "\n",
       "       [[12, 13, 14],\n",
       "        [15, 16, 17],\n",
       "        [18, 19, 20],\n",
       "        [21, 22, 23]],\n",
       "\n",
       "       [[24, 25, 26],\n",
       "        [27, 28, 29],\n",
       "        [30, 31, 32],\n",
       "        [33, 34, 35]]])"
      ]
     },
     "execution_count": 76,
     "metadata": {},
     "output_type": "execute_result"
    },
    {
     "data": {
      "text/plain": [
       "array([[ 18,  22,  26],\n",
       "       [ 66,  70,  74],\n",
       "       [114, 118, 122]])"
      ]
     },
     "execution_count": 76,
     "metadata": {},
     "output_type": "execute_result"
    },
    {
     "data": {
      "text/plain": [
       "array([18, 22, 26])"
      ]
     },
     "execution_count": 76,
     "metadata": {},
     "output_type": "execute_result"
    },
    {
     "data": {
      "text/plain": [
       "array([18, 22, 26])"
      ]
     },
     "execution_count": 76,
     "metadata": {},
     "output_type": "execute_result"
    },
    {
     "data": {
      "text/plain": [
       "array([66, 70, 74])"
      ]
     },
     "execution_count": 76,
     "metadata": {},
     "output_type": "execute_result"
    },
    {
     "data": {
      "text/plain": [
       "array([114, 118, 122])"
      ]
     },
     "execution_count": 76,
     "metadata": {},
     "output_type": "execute_result"
    }
   ],
   "source": [
    "a\n",
    "np.sum(a, axis = 1)\n",
    "\n",
    "a[0][0] + a[0][1] + a[0][2] + a[0][3]\n",
    "\n",
    "\n",
    "sum(a[0][:])\n",
    "\n",
    "sum(a[1])\n",
    "\n",
    "\n",
    "sum(a[2])"
   ]
  },
  {
   "cell_type": "code",
   "execution_count": 70,
   "metadata": {},
   "outputs": [
    {
     "data": {
      "text/plain": [
       "array([[[ 0,  1,  2],\n",
       "        [ 3,  4,  5],\n",
       "        [ 6,  7,  8],\n",
       "        [ 9, 10, 11]],\n",
       "\n",
       "       [[12, 13, 14],\n",
       "        [15, 16, 17],\n",
       "        [18, 19, 20],\n",
       "        [21, 22, 23]],\n",
       "\n",
       "       [[24, 25, 26],\n",
       "        [27, 28, 29],\n",
       "        [30, 31, 32],\n",
       "        [33, 34, 35]]])"
      ]
     },
     "execution_count": 70,
     "metadata": {},
     "output_type": "execute_result"
    },
    {
     "data": {
      "text/plain": [
       "array([[  3,  12,  21,  30],\n",
       "       [ 39,  48,  57,  66],\n",
       "       [ 75,  84,  93, 102]])"
      ]
     },
     "execution_count": 70,
     "metadata": {},
     "output_type": "execute_result"
    },
    {
     "data": {
      "text/plain": [
       "array([18, 22, 26])"
      ]
     },
     "execution_count": 70,
     "metadata": {},
     "output_type": "execute_result"
    }
   ],
   "source": [
    "a\n",
    "\n",
    "np.sum(a, axis = 2)\n",
    "\n",
    "sum(a[0][:])\n"
   ]
  },
  {
   "cell_type": "code",
   "execution_count": 75,
   "metadata": {},
   "outputs": [
    {
     "data": {
      "text/plain": [
       "array([[[[  0,   1,   2,   3,   4],\n",
       "         [  5,   6,   7,   8,   9],\n",
       "         [ 10,  11,  12,  13,  14],\n",
       "         [ 15,  16,  17,  18,  19]],\n",
       "\n",
       "        [[ 20,  21,  22,  23,  24],\n",
       "         [ 25,  26,  27,  28,  29],\n",
       "         [ 30,  31,  32,  33,  34],\n",
       "         [ 35,  36,  37,  38,  39]],\n",
       "\n",
       "        [[ 40,  41,  42,  43,  44],\n",
       "         [ 45,  46,  47,  48,  49],\n",
       "         [ 50,  51,  52,  53,  54],\n",
       "         [ 55,  56,  57,  58,  59]]],\n",
       "\n",
       "\n",
       "       [[[ 60,  61,  62,  63,  64],\n",
       "         [ 65,  66,  67,  68,  69],\n",
       "         [ 70,  71,  72,  73,  74],\n",
       "         [ 75,  76,  77,  78,  79]],\n",
       "\n",
       "        [[ 80,  81,  82,  83,  84],\n",
       "         [ 85,  86,  87,  88,  89],\n",
       "         [ 90,  91,  92,  93,  94],\n",
       "         [ 95,  96,  97,  98,  99]],\n",
       "\n",
       "        [[100, 101, 102, 103, 104],\n",
       "         [105, 106, 107, 108, 109],\n",
       "         [110, 111, 112, 113, 114],\n",
       "         [115, 116, 117, 118, 119]]]])"
      ]
     },
     "execution_count": 75,
     "metadata": {},
     "output_type": "execute_result"
    },
    {
     "data": {
      "text/plain": [
       "array([[80, 81, 82, 83, 84],\n",
       "       [85, 86, 87, 88, 89],\n",
       "       [90, 91, 92, 93, 94],\n",
       "       [95, 96, 97, 98, 99]])"
      ]
     },
     "execution_count": 75,
     "metadata": {},
     "output_type": "execute_result"
    },
    {
     "data": {
      "text/plain": [
       "array([[80, 81, 82, 83, 84],\n",
       "       [85, 86, 87, 88, 89],\n",
       "       [90, 91, 92, 93, 94],\n",
       "       [95, 96, 97, 98, 99]])"
      ]
     },
     "execution_count": 75,
     "metadata": {},
     "output_type": "execute_result"
    }
   ],
   "source": [
    "#testando intuição com axes\n",
    "#o negócio é ler da esquerda para a direita até surgirem matrizes 2d\n",
    "arr = np.arange(120).reshape(2,3,4,5)\n",
    "\n",
    "arr\n",
    "\n",
    "arr[1][1]\n",
    "\n",
    "arr[1,1]"
   ]
  },
  {
   "cell_type": "code",
   "execution_count": null,
   "metadata": {},
   "outputs": [],
   "source": [
    "\n",
    "\n",
    "\n",
    "\n",
    "#função da proposta de pagamento ótima\n",
    "\n",
    "\n",
    "\n",
    "\n",
    "#grid for payments\n",
    "#fora da função para ocupar menos memória\n",
    "share = np.arange(0.01, 1, step = 0.01)\n",
    "\n",
    "\n",
    "def Pst(θst, ℓjt, t):\n",
    "#     breakpoint()\n",
    "\n",
    "    \n",
    "    #vector of possible proposals\n",
    "    #sharing the expected value pie, from 1% to 99% of the pie\n",
    "    #share is a vector\n",
    "    Pst_vector = Ut[find(expec_beta(θst)), t] * share\n",
    "    \n",
    "    #restrição para pagamento ser no mínimo igual a zero\n",
    "    Pst_vector = np.where(Pst_vector < 0, 0, Pst_vector)\n",
    "    \n",
    "    #cutoffs associados\n",
    "    cutoffs = vcutoff_j(Pst_vector, θst, ℓjt, t)\n",
    "    \n",
    "    #E1 do apêndice do artigo, página 12, equação 17\n",
    "    E1 = np.zeros(len(Pst_vector))\n",
    "    \n",
    "    #E2 do apêndice do artigo, página 13, equação 18\n",
    "    E2 = np.zeros(len(Pst_vector))\n",
    "    \n",
    "    #loop para popular a matriz com E1\n",
    "    for i, pst in enumerate(Pst_vector):\n",
    "        \n",
    "        #criando a função indicadora\n",
    "        \n",
    "        #ind_E1 é igual a 1 se pst for maior ou igual ao valor de continuação do adversário\n",
    "        ind_E1 = np.where(Wj_array[find(ℓjt):100, find(cutoffs[i]), find(θst), t] > pst , 0, 1)\n",
    "        \n",
    "        #ind_E2 é oposto de E1: é igual a 1 quando pst for menor que valor de continuação do adversário\n",
    "        ind_E2 = np.where(ind_E1 == 1, 0, 1)\n",
    "\n",
    "        #tamanho do vetor com os possíveis valores de θj,t+1 são todos os valores maiores que ℓjt\n",
    "        len_j = len(ind_E1)\n",
    "\n",
    "        #analogamente, para θs,t+1\n",
    "        len_s = len(θs_vals[find(θst):])\n",
    "        \n",
    "        #cálculo do E1 ####\n",
    "        \n",
    "        #queremos um array de s que tenha número de linhas iguais ao número de possíveis valores de θs,t+1 \n",
    "        #e número de colunas igual ao número de possíveis valores de θj,t+1\n",
    "\n",
    "        S1 = np.repeat(Ut[find(θst):, t], len_j, axis = 0)\n",
    "        S1 = np.reshape(S1, (len_s, len_j))\n",
    "        S1 = S1 - pst\n",
    "        \n",
    "        \n",
    "        #ponderando pelas probabilidades\n",
    "        #prob(θs,t+1 |θs,t)\n",
    "        #checar se o broadcasting tá ok (se todos os elementos de cada linha são iguais)\n",
    "        Check_S1 = S1\n",
    "        \n",
    "        S1 = pmf[find(θst), find(θst):, None]  * S1\n",
    "        \n",
    "        #prob(θj,t+1 |ℓj,t)\n",
    "        ind_E1 = pmf[find(ℓjt), find(ℓjt):] * ind_E1\n",
    "\n",
    "        #multiplicação matricial\n",
    "        #acho que essa soma no final tá errada\n",
    "        E1[i] = np.sum(np.multiply(S1, ind_E1))\n",
    "        \n",
    "        #cálculo do E2 ####\n",
    "        S2 = np.repeat(Ws_array[find(θst):, find(θst), find(cutoffs[i]), t], len_j, axis = 0)\n",
    "        S2 = np.reshape(S2, (len_s, len_j))\n",
    "        \n",
    "        \n",
    "        #multiplicando pelas probabilidades\n",
    "        #prob(θs,t+1 |θs,t)\n",
    "        #checar se o broadcasting tá ok (se todos os elementos de cada linha são iguais)\n",
    "        Check_S2 = S2\n",
    "        \n",
    "        S2 = pmf[find(θst), find(θst):, None]  * S2\n",
    "        \n",
    "        #prob(θj,t+1 |ℓj,t)\n",
    "        ind_E2 = pmf[find(ℓjt), find(ℓjt):] * ind_E2\n",
    "\n",
    "        #multiplicação matricial\n",
    "        #acho que essa soma no final tá errada\n",
    "        E2[i] = np.sum(np.multiply(S2, ind_E2))\n",
    "        \n",
    "    \n",
    "    #calculados E1 e E2, vemos qual proposta de pagamento dá a maior soma entre eles\n",
    "    matrix_payoff = E1 + E2\n",
    "    \n",
    "    payoff = np.max(matrix_payoff)\n",
    "    index = np.argmax(matrix_payoff)\n",
    "    \n",
    "    pagamento = Pst_vector[index]\n",
    "    \n",
    "    #e a política ótima é propor reorganizar (1) se E1* > E2*, e propor esperar (2) caso contrário\n",
    "    if( E1[index] >= E2[index]):\n",
    "        proposal = 1\n",
    "    else:\n",
    "        proposal = 2\n",
    "    \n",
    "    #retorna pagamento,cutoff associado,valor de E1 + E2 (payoff esperado), θst (ajuda no cálculo de A1)\n",
    "    return pagamento, cutoffs[index], matrix_payoff[index], θst, proposal\n",
    "    \n",
    "    \n",
    "#testando\n",
    "Pst(0.5, 0.3, T-1)[2:5]\n",
    "    \n",
    "Pst(0.6, 0.3, T-1)\n",
    "\n",
    "vPst = np.vectorize(Pst)\n",
    "vPst(θs_vals, 0.3, T-1)"
   ]
  },
  {
   "cell_type": "code",
   "execution_count": 42,
   "metadata": {},
   "outputs": [
    {
     "data": {
      "text/plain": [
       "100"
      ]
     },
     "execution_count": 42,
     "metadata": {},
     "output_type": "execute_result"
    },
    {
     "data": {
      "text/plain": [
       "array([1.035e-01, 1.819e-01, 1.424e-01, 1.231e-01, 9.500e-02, 7.470e-02,\n",
       "       6.340e-02, 4.960e-02, 3.700e-02, 3.000e-02, 2.560e-02, 1.920e-02,\n",
       "       1.500e-02, 9.500e-03, 8.700e-03, 5.500e-03, 3.400e-03, 4.000e-03,\n",
       "       2.800e-03, 1.900e-03, 1.100e-03, 1.200e-03, 6.000e-04, 2.000e-04,\n",
       "       4.000e-04, 0.000e+00, 2.000e-04, 1.000e-04, 0.000e+00, 0.000e+00,\n",
       "       0.000e+00, 0.000e+00, 0.000e+00, 0.000e+00, 0.000e+00, 0.000e+00,\n",
       "       0.000e+00, 0.000e+00, 0.000e+00, 0.000e+00, 0.000e+00, 0.000e+00,\n",
       "       0.000e+00, 0.000e+00, 0.000e+00, 0.000e+00])"
      ]
     },
     "execution_count": 42,
     "metadata": {},
     "output_type": "execute_result"
    }
   ],
   "source": [
    "len(θs_vals)\n",
    "\n",
    "pmf[54, 54:]"
   ]
  },
  {
   "cell_type": "code",
   "execution_count": 19,
   "metadata": {},
   "outputs": [
    {
     "ename": "NameError",
     "evalue": "name 'Ut' is not defined",
     "output_type": "error",
     "traceback": [
      "\u001b[1;31m---------------------------------------------------------------------------\u001b[0m",
      "\u001b[1;31mNameError\u001b[0m                                 Traceback (most recent call last)",
      "\u001b[1;32m<ipython-input-19-6f2a12d3033b>\u001b[0m in \u001b[0;36m<module>\u001b[1;34m\u001b[0m\n\u001b[0;32m     10\u001b[0m \u001b[1;31m#sharing the expected value pie, from 1% to 99% of the pie\u001b[0m\u001b[1;33m\u001b[0m\u001b[1;33m\u001b[0m\u001b[1;33m\u001b[0m\u001b[0m\n\u001b[0;32m     11\u001b[0m \u001b[1;31m#share is a vector\u001b[0m\u001b[1;33m\u001b[0m\u001b[1;33m\u001b[0m\u001b[1;33m\u001b[0m\u001b[0m\n\u001b[1;32m---> 12\u001b[1;33m \u001b[0mPst_vector\u001b[0m \u001b[1;33m=\u001b[0m \u001b[0mUt\u001b[0m\u001b[1;33m[\u001b[0m\u001b[0mfind\u001b[0m\u001b[1;33m(\u001b[0m\u001b[0mexpec_beta\u001b[0m\u001b[1;33m(\u001b[0m\u001b[0mθst\u001b[0m\u001b[1;33m)\u001b[0m\u001b[1;33m)\u001b[0m\u001b[1;33m,\u001b[0m \u001b[0mt\u001b[0m\u001b[1;33m]\u001b[0m \u001b[1;33m*\u001b[0m \u001b[0mshare\u001b[0m\u001b[1;33m\u001b[0m\u001b[1;33m\u001b[0m\u001b[0m\n\u001b[0m\u001b[0;32m     13\u001b[0m \u001b[1;33m\u001b[0m\u001b[0m\n\u001b[0;32m     14\u001b[0m \u001b[0mPst_vector\u001b[0m\u001b[1;33m\u001b[0m\u001b[1;33m\u001b[0m\u001b[0m\n",
      "\u001b[1;31mNameError\u001b[0m: name 'Ut' is not defined"
     ]
    }
   ],
   "source": [
    "#fazendo a versão vetorizada da função\n",
    "\n",
    "share = np.arange(0.01, 1, step = 0.01)\n",
    "\n",
    "# def Pst(θst, ℓjt, t):\n",
    "#     breakpoint()\n",
    "\n",
    "    \n",
    "#array of possible proposals\n",
    "#sharing the expected value pie, from 1% to 99% of the pie\n",
    "#share is a vector\n",
    "Pst_vector = Ut[find(expec_beta(θst)), t] * share\n",
    "\n",
    "Pst_vector\n"
   ]
  },
  {
   "cell_type": "code",
   "execution_count": 58,
   "metadata": {},
   "outputs": [
    {
     "data": {
      "text/plain": [
       "(0.13188909721952063, 1)"
      ]
     },
     "execution_count": 58,
     "metadata": {},
     "output_type": "execute_result"
    }
   ],
   "source": [
    "def St(θst, ℓst, ℓjt, t):\n",
    "    \n",
    "    \n",
    "    #payoff is the max between liquidating or reorganizing/waiting\n",
    "    #estou incomodado com esse índices esquisitos no código.\n",
    "    \n",
    "    payoff, θst, policy = Pst(θst, ℓjt, t)[2:5]\n",
    "    \n",
    "    if(payoff < Ls(t)):\n",
    "        payoff = Ls(t)\n",
    "        policy = 0\n",
    "\n",
    "    #returns the payoff and the optimal policy\n",
    "    return payoff, policy\n",
    "\n",
    "\n",
    "#testing\n",
    "θst, ℓst, ℓjt, t = 0.9, 0.3, 0.4, T-1\n",
    "\n",
    "St(θst, ℓst, ℓjt, t)"
   ]
  },
  {
   "cell_type": "markdown",
   "metadata": {},
   "source": [
    "Partes do código referentes à equações A1 e A2\n",
    "\n",
    "\n",
    "A1 e A2 são as equações 23 e 24 da página 13 do apêndice \n",
    "\n",
    "RD\n"
   ]
  },
  {
   "cell_type": "code",
   "execution_count": 28,
   "metadata": {},
   "outputs": [
    {
     "data": {
      "text/plain": [
       "(1.4627071506160104e-09, 0.9999988094992172)"
      ]
     },
     "execution_count": 28,
     "metadata": {},
     "output_type": "execute_result"
    }
   ],
   "source": [
    "#payoff esperado de responder a uma proposta de reorganização em t\n",
    "#payoff de A1 + A2\n",
    "\n",
    "def j_reorg(θjt, ℓjt, ℓst, t):\n",
    "    \n",
    "#     breakpoint()\n",
    "    \n",
    "\n",
    "    #precisamos de um vetor com as propostas de pagamento ótimas de s para cada combinação de θst e ℓjt\n",
    "    #o segundo argumento retornado por Pst é o valor do cutoff associado ao pagamento ótimo\n",
    "    #o terceiro elemento é o payoff esperado de s caso ele tenha aquela habilidade e veja esse ℓjt\n",
    "\n",
    "    Pmt_vector, cutoffs, payoff_s, θst_vector = vPst(θs_vals[find(ℓst):], ℓjt, t)[0:4]\n",
    "    len(Pmt_vector)\n",
    "\n",
    "    # Pmt_vector \n",
    "\n",
    "    # cutoffs\n",
    "    \n",
    "    #avoiding division by zero in the CDF of θ\n",
    "    if(ℓst == 1):\n",
    "        \n",
    "        if(payoff_s >= Ls(t)):\n",
    "            Prob_kt = 0\n",
    "        else:\n",
    "            Prob_kt = 1\n",
    "        \n",
    "    else:\n",
    "\n",
    "        #o threshold de reorganização é o menor valor de θst que faz o payoff de reorganização ser maior que o de liquidação\n",
    "\n",
    "\n",
    "        #precisamos calcular o threshold de reorganização do adversário\n",
    "\n",
    "        #achando vetor de payoff que é maior ou igual a Ls(t)\n",
    "        #isso retornará os índices de onde os elementos são maiores que Ls(t)\n",
    "        ϕst = np.where(payoff_s >= Ls(t))\n",
    "\n",
    "        #selecionando θst associado ao menor índice\n",
    "        ϕst = θst_vector[np.min(ϕst)]\n",
    "\n",
    "\n",
    "\n",
    "        #the probability of liquidation will be the CDF(ϕmt|ℓmt)\n",
    "        #this is the probability that θmt < ϕmt, given ℓmt\n",
    "        Prob_kt = 1 - ((1-ϕst)**β)/((1 - ℓst)**β)\n",
    "\n",
    "\n",
    "        #update na informação do lower bound do adversário\n",
    "        ℓst = max(ℓst, ϕst)\n",
    "    \n",
    "    #cortando todos os elementos abaixo do novo lower bound\n",
    "    Pmt_vector = Pmt_vector[-(grid_size - find(ℓst)):]\n",
    "    cutoffs = cutoffs[-(grid_size - find(ℓst)):]\n",
    "    payoff_s = payoff_s[-(grid_size - find(ℓst)):]\n",
    "    θst_vector = θst_vector[-(grid_size - find(ℓst)):]\n",
    "    \n",
    "    #A1 é do tamanho da quantidade de habilidades  possíveis acima do threshold já atualizado\n",
    "    A1 = np.zeros(len(θs_vals[find(ℓst):]))\n",
    "    \n",
    "    #A2 é do tamanho da quantidade de habilidades  possíveis acima do threshold já atualizado\n",
    "    A2 = np.zeros(len(θs_vals[find(ℓst):]))\n",
    "\n",
    "    #populando as matrizes\n",
    "\n",
    "    #tamanho do vetor com os possíveis valores de θj,t+1 são todos os valores maiores que θjt\n",
    "    len_j = len(θj_vals[find(θjt):])\n",
    "\n",
    "    #analogamente, para θs,t\n",
    "    len_s = len(θs_vals[find(ℓst):])\n",
    "\n",
    "\n",
    "    for i, pst in enumerate(Pmt_vector):\n",
    "        \n",
    "        #A1\n",
    "\n",
    "        #função indicadora é igual a 1 se o pagamento é maior que o valor de continuação do jogador\n",
    "        #find(ℓst)+i) porque isso é o θst associado ao pagamento de s\n",
    "        \n",
    "        ind_A1 = np.where(Wj_array[find(θjt):, find(cutoffs[i]), (find(ℓst)+i), t] < pst, 1, 0)\n",
    "\n",
    "\n",
    "        #não precisamos fazer reshape porque o numpy tem broadcast.\n",
    "        #multiplicaremos cada pagamento ótimo, um por vez, pela função indicadora dos valores de continuação\n",
    "\n",
    "        S1 = pst\n",
    "\n",
    "        #ponderando pelas probabilidades\n",
    "        #prob(θs,t |ℓs,t)\n",
    "        #checar se o broadcasting tá ok (se todos os elementos de cada linha são iguais)\n",
    "        Check_S1 = S1\n",
    "\n",
    "        S1 = pmf[find(ℓst), (find(ℓst)+i)]  * S1\n",
    "\n",
    "        #prob(θj,t+1 |ℓj,t)\n",
    "        ind_A1 = pmf[find(θjt), find(θjt):] * ind_A1\n",
    "\n",
    "        #multiplicação matricial\n",
    "        #acho que essa soma no final tá errada\n",
    "        A1[i] = np.sum(np.multiply(S1, ind_A1))\n",
    "        \n",
    "        #A2\n",
    "        \n",
    "        #função indicadora é igual a 0 se o pagamento é maior que o valor de continuação do jogador\n",
    "        #aqui é o contrário da indicadora de A1\n",
    "        ind_A2 = np.where(Wj_array[find(θjt):, find(θjt), (find(ℓst)+i), t] < pst, 0, 1)\n",
    "\n",
    "\n",
    "        #não precisamos fazer reshape porque o numpy tem broadcast.\n",
    "        #multiplicaremos cada pagamento ótimo, um por vez, pela função indicadora dos valores de continuação\n",
    "\n",
    "        S2 = Wj_array[find(θjt):, find(θjt), (find(ℓst)+i), t]\n",
    "\n",
    "        #ponderando pelas probabilidades\n",
    "        #prob(θs,t |ℓs,t)\n",
    "        #checar se o broadcasting tá ok (se todos os elementos de cada linha são iguais)\n",
    "        Check_S2 = S2\n",
    "\n",
    "        S2 = pmf[find(ℓst), (find(ℓst)+i)]  * S2\n",
    "\n",
    "        #prob(θj,t+1 |ℓj,t)\n",
    "        ind_A2 = pmf[find(θjt), find(θjt):] * ind_A2\n",
    "\n",
    "        #multiplicação matricial\n",
    "        #acho que essa soma no final tá errada\n",
    "        A2[i] = np.sum(np.multiply(S2, ind_A2))\n",
    "    \n",
    "    payoff = np.sum(A1) + np.sum(A2)\n",
    "        \n",
    "    #returns the expected payoff given the prob of reorg and the probability of liquidation\n",
    "    return payoff * (1- Prob_kt), Prob_kt\n",
    "\n",
    "    \n",
    "#por que algumas entradas de A1 são zero se o valor de continuação de j é zero para o período T?\n",
    "#algumas entradas de A1 podem ser zero se a chance de um valor θs,t dado ℓst for zero.\n",
    "#significa que s não faria aquele pagamento porque não tem chance de a habilidade dele aumentar tanto\n",
    "\n",
    "θjt, ℓjt, ℓst = 0.3, 0.3, 0.4\n",
    "t = T-1\n",
    "\n",
    "j_reorg(θjt, ℓjt, ℓst, t)"
   ]
  },
  {
   "cell_type": "code",
   "execution_count": null,
   "metadata": {},
   "outputs": [],
   "source": [
    " #a função payoff ficaria mais ou menos assim\n",
    "    def respond(θkt, ℓkt, ℓmt, t):\n",
    "        k = eval(self.creditor)\n",
    "        m = eval(self.creditor)\n",
    "        \n",
    "        expec_payoff_reorg, Prob_kt = k.respond_reorg(θkt, ℓkt, ℓmt, t)\n",
    "        \n",
    "        kt_respond = Prob_kt * k.respond_liq(θkt, ℓkt, ℓmt, t)[0] + expec_payoff_reorg\n",
    "        \n",
    "        return kt_respond"
   ]
  },
  {
   "cell_type": "markdown",
   "metadata": {},
   "source": [
    "Vamos testar se podemos usar f(valor esperado) com Ut.\n",
    "Parece que nem isso.\n",
    "\n"
   ]
  },
  {
   "cell_type": "code",
   "execution_count": 72,
   "metadata": {},
   "outputs": [
    {
     "data": {
      "text/plain": [
       "0.43958"
      ]
     },
     "execution_count": 72,
     "metadata": {},
     "output_type": "execute_result"
    },
    {
     "data": {
      "text/plain": [
       "0.33935396822400005"
      ]
     },
     "execution_count": 72,
     "metadata": {},
     "output_type": "execute_result"
    },
    {
     "data": {
      "text/plain": [
       "array([2.78967142e-02, 5.16400818e-02, 4.40201605e-02, 3.82470011e-02,\n",
       "       2.94389815e-02, 2.54082759e-02, 2.20363466e-02, 1.82017301e-02,\n",
       "       1.61146868e-02, 1.17939719e-02, 1.16979747e-02, 9.25477470e-03,\n",
       "       7.57640922e-03, 5.09651352e-03, 4.90636714e-03, 3.61298315e-03,\n",
       "       2.99550216e-03, 2.00441982e-03, 1.95165520e-03, 1.35411768e-03,\n",
       "       1.10204909e-03, 7.47202688e-04, 9.02150856e-04, 3.37841560e-04,\n",
       "       3.92356288e-04, 1.49477976e-04, 1.51822344e-04, 0.00000000e+00,\n",
       "       1.04340720e-04, 0.00000000e+00, 1.07466544e-04, 5.45147280e-05,\n",
       "       0.00000000e+00, 5.60776400e-05, 0.00000000e+00, 0.00000000e+00,\n",
       "       0.00000000e+00, 0.00000000e+00, 0.00000000e+00, 0.00000000e+00,\n",
       "       0.00000000e+00, 0.00000000e+00, 0.00000000e+00, 0.00000000e+00,\n",
       "       0.00000000e+00, 0.00000000e+00, 0.00000000e+00, 0.00000000e+00,\n",
       "       0.00000000e+00, 0.00000000e+00, 0.00000000e+00])"
      ]
     },
     "execution_count": 72,
     "metadata": {},
     "output_type": "execute_result"
    }
   ],
   "source": [
    "def f1(θkt, t):\n",
    "    return V[t] * expec_beta(θkt) - C_func(t)\n",
    "\n",
    "\n",
    "def f2(θkt, t):\n",
    "    return np.sum(pmf[find(θkt), find(θkt):] * (V[t]  * Ut[find(θkt):,t] - C_func(t)))\n",
    "\n",
    "def f3(θkt, t):\n",
    "    return pmf[find(θkt), find(θkt):] * (V[t]  * Ut[find(θkt):,t] - C_func(t))\n",
    "\n",
    "f1(0.5, 2)\n",
    "\n",
    "f2(0.5, 2)\n",
    "f3(0.5, 2)"
   ]
  },
  {
   "cell_type": "code",
   "execution_count": 73,
   "metadata": {},
   "outputs": [
    {
     "data": {
      "text/plain": [
       "array([3.6414498e-02, 6.7181364e-02, 5.7084892e-02, 4.9446680e-02,\n",
       "       3.7948194e-02, 3.2660794e-02, 2.8250460e-02, 2.3274534e-02,\n",
       "       2.0555010e-02, 1.5008104e-02, 1.4852046e-02, 1.1724356e-02,\n",
       "       9.5778860e-03, 6.4297800e-03, 6.1777660e-03, 4.5406280e-03,\n",
       "       3.7577400e-03, 2.5100360e-03, 2.4398000e-03, 1.6900200e-03,\n",
       "       1.3732320e-03, 9.2963200e-04, 1.1207340e-03, 4.1909000e-04,\n",
       "       4.8603200e-04, 1.8491400e-04, 1.8756600e-04, 0.0000000e+00,\n",
       "       1.2858000e-04, 0.0000000e+00, 1.3211600e-04, 6.6942000e-05,\n",
       "       0.0000000e+00, 6.8710000e-05, 0.0000000e+00, 0.0000000e+00,\n",
       "       0.0000000e+00, 0.0000000e+00, 0.0000000e+00, 0.0000000e+00,\n",
       "       0.0000000e+00, 0.0000000e+00, 0.0000000e+00, 0.0000000e+00,\n",
       "       0.0000000e+00, 0.0000000e+00, 0.0000000e+00, 0.0000000e+00,\n",
       "       0.0000000e+00, 0.0000000e+00, 0.0000000e+00])"
      ]
     },
     "execution_count": 73,
     "metadata": {},
     "output_type": "execute_result"
    }
   ],
   "source": [
    "# vetorização\n",
    "θkt = 0.5\n",
    "t = 2\n",
    "\n",
    "\n",
    "pmf[find(θkt), find(θkt):] * Ut[find(θkt):,t]"
   ]
  },
  {
   "cell_type": "markdown",
   "metadata": {},
   "source": [
    "### Passando o código para o formato Class\n",
    "\n",
    "https://stackoverflow.com/questions/3521715/call-a-python-method-by-name\n"
   ]
  },
  {
   "cell_type": "code",
   "execution_count": 32,
   "metadata": {},
   "outputs": [],
   "source": [
    "def call_method(o, name):\n",
    "    return getattr(o, name)\n"
   ]
  },
  {
   "cell_type": "code",
   "execution_count": 33,
   "metadata": {},
   "outputs": [],
   "source": [
    "#Bellman equations for both players k and his opponent, player m\n",
    "#only works if we call the creditors \"s\" or \"j\" when assigning the Class\n",
    "\n",
    "# Bellman_data = [\n",
    "#     ('creditor', nb.types.string), #creditor is as string\n",
    "#     ('opponent', nb.types.string), #opponent is also a string\n",
    "#     ('k', nb.types.string), #k is as string\n",
    "#     ('m', nb.types.string), #m is also a string\n",
    "#     ('t', int32), #period\n",
    "#     ('θkt', float64), #real hability of player k\n",
    "#     ('θk_previous', float64), #real hability of player k in the previous period\n",
    "#     ('lkt', float64), #lower bound for player k\n",
    "#     ('lmt', float64), #lower bound for player m\n",
    "#     ('lk_next', float64), #lower bound for k in next period\n",
    "#     ('lm_next', float64), #lower bound for m in next period\n",
    "#     ('θk_previous_int', int32), #index \n",
    "#     ('lkt_int', int32), #index\n",
    "#     ('lmt_int', int32), #index\n",
    "#     ('Pkt', float64), #payment proposal made by k\n",
    "#     ('Pmt', float64), #payment proposal made by m\n",
    "#     ('grid_size', int32), #grid size\n",
    "#     ('W', float64[:,:,:,:,:]) #array with expected values\n",
    "# ]\n",
    "\n",
    "\n",
    "# @jitclass(Bellman_data)\n",
    "class Bellman:\n",
    "    #we need to insert 'k = eval(self.creditor)' in every method so it recognizes the creditor correctly\n",
    "    \n",
    "        #COMO DEIXAR k e m como variáveis definidas para todas as funções da class?\n",
    "#     k = eval(self.creditor)\n",
    "\n",
    "\n",
    "    def __init__(self, creditor, opponent, grid_size = 100):\n",
    "        self.creditor = creditor\n",
    "        self.opponent = opponent\n",
    "        \n",
    "        #array with expected values\n",
    "            #θkt\n",
    "            #ℓkt\n",
    "            #ℓmt\n",
    "            #2 slots: responding (0) or proposing (1)\n",
    "            #period t\n",
    "        self.W = np.zeros((grid_size, grid_size, grid_size, 2, T))\n",
    "    \n",
    "    #liquidation values\n",
    "    def L(self, t):\n",
    "        Lst = min(L - C(t), Ds)\n",
    "        Ljt = min(L - C(t) - Lst, Dj)\n",
    "        \n",
    "        if self.creditor == \"s\":\n",
    "            return Lst\n",
    "        if self.creditor == \"j\":\n",
    "            return Ljt\n",
    "    \n",
    "    #expected continuation value for period t\n",
    "    #Ex: Ew(t=2) will use θk1 to infer the probabilites for each possible value θk2\n",
    "    #ℓk2 and ℓm2 will be the lower bounds for t = 2\n",
    "    def Ew(self, θk_previous, ℓkt, ℓmt, t):\n",
    "        k = eval(self.creditor)\n",
    "        \n",
    "        if(t == T):\n",
    "            return k.L(t)\n",
    "        else:\n",
    "            θk_previous_int =  find(θk_previous)\n",
    "            ℓkt_int = find(ℓkt)\n",
    "            ℓmt_int = find(ℓmt)\n",
    "            \n",
    "            Ewk_responding = sum(pmf[θk_previous_int, θk_previous_int:100] * k.W[θk_previous_int:100, ℓkt_int, ℓmt_int, 0, (t-1)])\n",
    "            Ewk_proposing = sum(pmf[θk_previous_int, θk_previous_int:100] * k.W[θk_previous_int:100, ℓkt_int, ℓmt_int, 1, (t-1)])\n",
    "            \n",
    "            if self.creditor == \"s\":\n",
    "                prob_propose = (1-λj)\n",
    "            else:\n",
    "                prob_propose = (λj)\n",
    "        \n",
    "            \n",
    "        return prob_propose * Ewk_proposing + (1-prob_propose) * Ewk_responding\n",
    "    \n",
    "    #expected continuation value given the lower bound of the enemy in period t\n",
    "    def Ew2(self, θk_previous, ℓkt, ℓmt, t):\n",
    "        k = eval(self.creditor)\n",
    "        \n",
    "        if(t == T):\n",
    "            return k.L(t)\n",
    "        else:\n",
    "            θk_previous_int =  find(θk_previous)\n",
    "            ℓkt_int = find(ℓkt)\n",
    "            ℓmt_int = find(ℓmt)\n",
    "            \n",
    "            Ewk_responding = sum(pmf2[θk_previous_int, θk_previous_int:100] * k.W[θk_previous_int:100, ℓkt_int, ℓmt_int, 0, (t-1)])\n",
    "            Ewk_proposing = sum(pmf2[θk_previous_int, θk_previous_int:100] * k.W[θk_previous_int:100, ℓkt_int, ℓmt_int, 1, (t-1)])\n",
    "            \n",
    "            if self.creditor == \"s\":\n",
    "                prob_propose = (1-λj)\n",
    "            else:\n",
    "                prob_propose = (λj)\n",
    "        \n",
    "            \n",
    "        return prob_propose * Ewk_proposing + (1-prob_propose) * Ewk_responding\n",
    "        \n",
    "    #screening cutoff associated with the payment offer\n",
    "    def cutoff(self, Pkt, ℓkt, ℓmt, t):\n",
    "        k = eval(self.creditor)\n",
    "        m = eval(self.opponent)\n",
    "       \n",
    "        #screening cutoff associated with the proposal Pkt\n",
    "        cmt = ℓmt\n",
    "\n",
    "        #flag will stop the loop if it takes too long\n",
    "        flag = 1\n",
    "        tol = 0.01\n",
    "\n",
    "        while (Pkt - m.Ew(cmt, cmt, ℓkt, t+1) > tol and flag < grid_size and cmt < 1):\n",
    "            cmt = cmt + 0.01\n",
    "            flag = flag + 1\n",
    "            \n",
    "        return cmt\n",
    "    \n",
    "    \n",
    "    #payoff when k has the right to offer in t\n",
    "    def propose(self, θkt, ℓkt, ℓmt, t):\n",
    "        k = eval(self.creditor)\n",
    "        m = eval(self.opponent)\n",
    "        \n",
    "        #lower bound update\n",
    "        #it is his ability today, since he reveals it when making an offer\n",
    "        ℓk_next = θkt\n",
    "        \n",
    "        #the optimal offer is the expected continuation value of his opponent next period\n",
    "        Pkt = m.Ew2(ℓmt, ℓmt, ℓk_next, t+1)\n",
    "        \n",
    "        cmt = k.cutoff(Pkt, ℓk_next, ℓmt, t)\n",
    "        ℓm_next = max(ℓmt, cmt)\n",
    "        \n",
    "        #Liquidation payoff, reorganization payoff, waiting payoff\n",
    "        Kt = [k.L(t), V[t] * expec_beta(θkt) - Pkt, k.Ew(θkt, ℓk_next, ℓm_next, t+1)]          \n",
    "\n",
    "        policy_Kt = np.argmax(Kt)\n",
    "\n",
    "        #retorns a vector\n",
    "        return Kt[policy_Kt], policy_Kt, ℓk_next, ℓm_next, Pkt\n",
    "\n",
    "    \n",
    "    #payoff and optimal policy when responding to a liquidation offer\n",
    "    def respond_liq(self, θkt, ℓkt, ℓmt, t):\n",
    "        k = eval(self.creditor)\n",
    "        m = eval(self.opponent)\n",
    "        \n",
    "        #we only need the expected hability for the next period\n",
    "        kt_liq = [k.L(t), V[t] * expec_beta(θkt) - m.L(t) ]\n",
    "\n",
    "        policy_kt_liq = np.argmax(kt_liq)\n",
    "\n",
    "        return kt_liq[policy_kt_liq], policy_kt_liq\n",
    "\n",
    "    #probability of a liquidation proposal by his opponent in period t\n",
    "    #returns a vector with the liquidation probability, ℓk_next, ℓm_next, Pmt\n",
    "    def prob_liq(self,θkt, ℓkt, ℓmt, t):\n",
    "        k = eval(self.creditor)\n",
    "        m = eval(self.opponent)\n",
    "        \n",
    "        #this function will be used in the asymetric and symmetric information cases\n",
    "        \n",
    "        #in the symmetric information case, the lower bounds will be equal the habiities\n",
    "        #I used k because it is simpler to populate the matrices latter. I wanted to use \"θmt == ℓmt\"\n",
    "        #see ahed how I populate the matrices and it will be clearer\n",
    "        if(θkt == ℓkt):\n",
    "            \n",
    "            #lower bound update\n",
    "            #ℓmt == θmt in this case\n",
    "            ℓm_next = ℓmt\n",
    "            \n",
    "            #the optimal offer received will be his expected continuation value next period\n",
    "            Pmt = k.Ew(ℓkt, ℓkt, ℓm_next, t+1)\n",
    "\n",
    "            ckt = m.cutoff(Pmt, ℓmt, ℓkt, t)\n",
    "            ℓk_next = max(ℓkt, ckt)\n",
    "                \n",
    "            #comparing to the reorganization value\n",
    "            #it will be just an indicator function, since we know θmt\n",
    "            if(m.L(t) > V[t] * expec_beta(ℓmt) - Pmt):\n",
    "                Prob_kt = 1\n",
    "            else:\n",
    "                Prob_kt = 0\n",
    "\n",
    "        #in the asymmetric information case, we will calculate the reorganization threshold\n",
    "        else:\n",
    "            \n",
    "            #lower bound update\n",
    "            #we don't know what is θmt today, so we use the expected value based on ℓmt as our proxy\n",
    "            ℓm_next = expec_beta(ℓmt)\n",
    "\n",
    "            #PROBLEM WHEN WE DON'T KNOW θmt: we can't calculate the payment correctly\n",
    "            #the optimal offer received will be his expected continuation value next period\n",
    "            Pmt = k.Ew2(ℓkt, ℓkt, ℓm_next, t+1)\n",
    "\n",
    "            ckt = m.cutoff(Pmt, ℓm_next, ℓkt, t)\n",
    "            ℓk_next = max(ℓkt, ckt)\n",
    "            \n",
    "            if(ℓmt == 1):\n",
    "                if(m.L(t) > V[t] * expec_beta(ℓmt) - Pmt):\n",
    "                    Prob_kt = 1\n",
    "                else:\n",
    "                    Prob_kt = 0\n",
    "            else:\n",
    "                #calculating the threshold\n",
    "                ϕmt = ℓmt\n",
    "\n",
    "                #flag will stop the loop if it takes too long\n",
    "                flag = 1\n",
    "                tol = 0.01\n",
    "\n",
    "                while ( (m.L(t) + Pmt)/V[t] - expec_beta(ϕmt) > tol and flag < grid_size and ϕmt < 1):\n",
    "                    ϕmt = ϕmt + 0.01\n",
    "                    flag = flag + 1\n",
    "\n",
    "                #lower bound update\n",
    "                #it should be higher than lmt\n",
    "                ℓm_next = ϕmt\n",
    "\n",
    "                if(ϕmt == ℓmt):\n",
    "                    #this means that the threshold is lower than ℓmt, so the probability of liquidation is 0\n",
    "                    #because ϕmt < ℓmt < θmt\n",
    "                    Prob_kt = 0\n",
    "                else:\n",
    "                    #the probability of liquidation will be the CDF(ϕmt|ℓmt)\n",
    "                    #this is the probability that θmt < ϕmt, given ℓmt\n",
    "                    Prob_kt = 1 - ((1-ϕmt)**β)/((1 - ℓmt)**β)\n",
    "\n",
    "        #returns a vector       \n",
    "        return Prob_kt, ℓk_next, ℓm_next, Pmt\n",
    "    \n",
    "#     def threshold(self, θkt, ℓkt, ℓmt, t):\n",
    "#         k = eval(self.creditor)\n",
    "#         m = eval(self.opponent)\n",
    "        \n",
    "#         ℓm_next = expec_beta(ℓmt)\n",
    "        \n",
    "#         Pmt = k.Ew(expec_beta(ℓkt), ℓkt, ℓm_next, t+1)\n",
    "\n",
    "#         ckt = m.cutoff(Pmt, ℓm_next, ℓkt, t)\n",
    "#         ℓk_next = max(ℓkt, ckt)\n",
    "\n",
    "\n",
    "#         #calculating the threshold\n",
    "#         ϕmt = ℓmt\n",
    "        \n",
    "\n",
    "#         #flag will stop the loop if it takes too long\n",
    "#         flag = 1\n",
    "#         tol = 0.01\n",
    "\n",
    "#         while ( (m.L(t) + Pmt)/V[t] - expec_beta(ϕmt) > tol and flag < grid_size and ϕmt < 1):\n",
    "#             ϕmt = ϕmt + 0.01\n",
    "#             flag = flag + 1\n",
    "            \n",
    "#         return ϕmt\n",
    "    \n",
    "    #payoff and optimal policy when responding to a reorganization offer\n",
    "    #we will use prob_liq to input respond_reorg\n",
    "    def respond_reorg(self, θkt, ℓk_next, ℓm_next, Pmt, t):\n",
    "        k = eval(self.creditor)\n",
    "        m = eval(self.creditor)\n",
    "        \n",
    "        kt_reorg = [Pmt, k.Ew(θkt, ℓk_next, ℓm_next,t+1)]\n",
    "        \n",
    "        policy_kt_reorg = np.argmax(kt_reorg)\n",
    "        \n",
    "        #returns a vector\n",
    "        return kt_reorg[policy_kt_reorg], policy_kt_reorg\n",
    "    \n",
    "    def respond(self, θkt, ℓkt, ℓmt, t):\n",
    "        k = eval(self.creditor)\n",
    "        m = eval(self.creditor)\n",
    "        \n",
    "        Prob_kt, ℓk_next, ℓm_next, Pmt = k.prob_liq(θkt, ℓkt, ℓmt, t)\n",
    "        \n",
    "        kt_respond = Prob_kt * k.respond_liq(θkt, ℓkt, ℓmt, t)[0] + (1-Prob_kt) * k.respond_reorg(θkt, ℓk_next, ℓm_next, Pmt,t)[0]\n",
    "        \n",
    "        return kt_respond\n",
    "\n",
    "    \n",
    "        \n",
    "        \n",
    "    "
   ]
  },
  {
   "cell_type": "code",
   "execution_count": 104,
   "metadata": {},
   "outputs": [],
   "source": [
    "s = Bellman(\"s\", \"j\")\n",
    "j = Bellman(\"j\", \"s\")"
   ]
  },
  {
   "cell_type": "code",
   "execution_count": 105,
   "metadata": {
    "scrolled": true
   },
   "outputs": [
    {
     "data": {
      "text/plain": [
       "(0.2651942128035727, 1, 0.9, 0.9, 0.0)"
      ]
     },
     "execution_count": 105,
     "metadata": {},
     "output_type": "execute_result"
    },
    {
     "data": {
      "text/plain": [
       "(0, 0.5, 0.5, 0.10888)"
      ]
     },
     "execution_count": 105,
     "metadata": {},
     "output_type": "execute_result"
    },
    {
     "data": {
      "text/plain": [
       "(0.2651942128035727, 1)"
      ]
     },
     "execution_count": 105,
     "metadata": {},
     "output_type": "execute_result"
    },
    {
     "data": {
      "text/plain": [
       "(0.10888, 0)"
      ]
     },
     "execution_count": 105,
     "metadata": {},
     "output_type": "execute_result"
    },
    {
     "data": {
      "text/plain": [
       "0.10888"
      ]
     },
     "execution_count": 105,
     "metadata": {},
     "output_type": "execute_result"
    }
   ],
   "source": [
    "#testando as funções\n",
    "\n",
    "s.propose(0.9, 0.9, 0.9, T-1)\n",
    "\n",
    "#debuguei prob_liq\n",
    "s.prob_liq(0.9,0.5,0.5, T-1)\n",
    "\n",
    "s.respond_liq(0.9,0.9,0.9, T-1)\n",
    "\n",
    "s.respond_reorg(0.9,0.9,1, 0.10888, T-1)\n",
    "\n",
    "s.respond(0.9, 0.9, 0.9, T-1)"
   ]
  },
  {
   "cell_type": "markdown",
   "metadata": {},
   "source": [
    "### Início das tentativas de usar jitclass"
   ]
  },
  {
   "cell_type": "markdown",
   "metadata": {},
   "source": [
    "Criando as equações de Bellman para os credores"
   ]
  },
  {
   "cell_type": "markdown",
   "metadata": {},
   "source": [
    "Versão para teste"
   ]
  },
  {
   "cell_type": "code",
   "execution_count": 119,
   "metadata": {},
   "outputs": [
    {
     "data": {
      "text/plain": [
       "0.21283000000000002"
      ]
     },
     "execution_count": 119,
     "metadata": {},
     "output_type": "execute_result"
    }
   ],
   "source": [
    "# Bellman2_data = [\n",
    "#     ('creditor', nb.types.string), #creditor is as string\n",
    "#     ('opponent', nb.types.string), #opponent is also a string\n",
    "#     ('k', nb.types.string), #k is as string\n",
    "#     ('m', nb.types.string), #m is also a string\n",
    "#     ('t', int32), #period\n",
    "#     ('grid_size', int32), #grid size\n",
    "#     ('W', float64[:,:,:,:,:]) #array with expected values HERE I DON'T KNOW HOW TO ASSIGN DIFFERENT TYPES FOR THE SAME ARRAY\n",
    "    \n",
    "# ]\n",
    "\n",
    "\n",
    "    \n",
    "# @jitclass(Bellman2_data)\n",
    "class Bellman2:\n",
    "    #we need to insert 'k = eval(self.creditor)' in every method so it recognizes the creditor correctly\n",
    "    \n",
    "        #COMO DEIXAR k e m como variáveis definidas para todas as funções da class?\n",
    "#     k = eval(self.creditor)\n",
    "\n",
    "\n",
    "    def __init__(self, creditor, opponent, grid_size = 100):\n",
    "        self.creditor = creditor\n",
    "        self.opponent = opponent\n",
    "        \n",
    "        #matrix with expected values\n",
    "            #θkt\n",
    "            #ℓkt\n",
    "            #ℓmt\n",
    "            #2 slots: responding (0) or proposing (1)\n",
    "            #period t\n",
    "        self.W = np.zeros((grid_size, grid_size, grid_size, 2, T))\n",
    "    \n",
    "    #liquidation values\n",
    "    @jit\n",
    "    def L(self, t):\n",
    "        Lst = min(L - C(t), Ds)\n",
    "        Ljt = min(L - C(t) - Lst, Dj)\n",
    "        \n",
    "        if self.creditor == \"s\":\n",
    "            return Lst\n",
    "        if self.creditor == \"j\":\n",
    "            return Ljt\n",
    "      \n",
    "    def diff(self, t):\n",
    "        k = Bellman(self.creditor, self.opponent)\n",
    "        m = Bellman(self.opponent,self.creditor)\n",
    "        \n",
    "        return k.L(t) - m.L(t)\n",
    "    \n",
    "s = Bellman2('s', 'j')\n",
    "j = Bellman2('j', 's')\n",
    "\n",
    "s.diff(1)"
   ]
  },
  {
   "cell_type": "markdown",
   "metadata": {},
   "source": [
    "### Passo 4: populando os arrays\n",
    "\n",
    "Vamos relembrar a notação de matriz\n",
    "\n",
    "\n",
    "\n"
   ]
  },
  {
   "cell_type": "markdown",
   "metadata": {},
   "source": [
    "Populando o array com os valores de liquidação, que independem das habilidades ou lower bounds\n",
    "\n"
   ]
  },
  {
   "cell_type": "code",
   "execution_count": 39,
   "metadata": {},
   "outputs": [],
   "source": [
    "s.W[:,:,:, :,(T-1)] = s.L(T)\n",
    "\n",
    "j.W[:,:,:, :,(T-1)] = j.L(T)"
   ]
  },
  {
   "cell_type": "markdown",
   "metadata": {},
   "source": [
    "O que a gente sabe até agora? \n",
    "\n",
    "* o valor das funções valor no último período (valor de liquidação)\n",
    "\n",
    "* calcular as funções valor no penúltimo período, usando St, Jt, st e jt.\n",
    "\n",
    "Falta apenas a gente popular as matrizes com um loop começando de trás para frente"
   ]
  },
  {
   "cell_type": "markdown",
   "metadata": {},
   "source": [
    "#### Como é a notação dessa matriz, na prática?\n",
    "\n",
    "\n",
    "$ W_{st} (\\Is{1})   =$ Ws_array[ $\\theta_{st}, l_{st}, l_{jt}, t$] \n",
    "\n",
    "Exemplo: \n",
    "\n",
    "Ws_array[ $0.5, 0.3,  0.2, 1, 14$] = St(0.5, 0.3,0.2,15)\n",
    "\n",
    "Traduzindo para St:\n",
    "\n",
    "* St maiúsculo porque a quarta entrada igual a 1 indica que s propõe\n",
    "\n",
    "* 0.5, 0.3, 0.2 são os mesmos valores dados pelo conjunto de informação de s\n",
    "\n",
    "* t = 15 em Ws_array porque a entrada 14 do array se refere ao período 15\n",
    "\n"
   ]
  },
  {
   "cell_type": "markdown",
   "metadata": {},
   "source": [
    "Loop para popular as matrizes das funções valor no penúltimo período.\n",
    "\n",
    "É um ensaio antes de rodar o jogo inteiro"
   ]
  },
  {
   "cell_type": "code",
   "execution_count": 42,
   "metadata": {
    "scrolled": true
   },
   "outputs": [
    {
     "name": "stdout",
     "output_type": "stream",
     "text": [
      "tempo total para popular o período 11 : 335.734375\n",
      "tempo total para popular o período 10 : 731.375\n",
      "tempo total para popular o período 9 : 751.46875\n",
      "tempo total para popular o período 8 : 748.78125\n",
      "tempo total para popular o período 7 : 778.734375\n",
      "tempo total para popular o período 6 : 821.671875\n",
      "tempo total para popular o período 5 : 850.1875\n",
      "tempo total para popular o período 4 : 899.890625\n",
      "tempo total para popular o período 3 : 958.4375\n",
      "tempo total para popular o período 2 : 988.078125\n",
      "tempo total para popular o período 1 : 1005.921875\n"
     ]
    }
   ],
   "source": [
    "#populating the matrices\n",
    "tempo_total = []\n",
    "\n",
    "#range para ir do t= T até o t = 1\n",
    "#só preciso dos valores das matrizes em t=1 porque elas serão usadas para calcular o valor esperado\n",
    "for t in range(T-1, 0, -1):\n",
    "    start = time.process_time()\n",
    "    \n",
    "    \n",
    "\n",
    "    for θs in θs_vals:\n",
    "        for ℓs in ℓs_vals:\n",
    "            for ℓj in ℓj_vals:\n",
    "                s.W[find(θs), find(ℓs), find(ℓj), 1, (t-1)] = s.propose(θs, ℓs, ℓj, t)[0]\n",
    "                s.W[find(θs), find(ℓs), find(ℓj), 0, (t-1)] = s.respond(θs, ℓs, ℓj, t)\n",
    "\n",
    "\n",
    "    for θj in θj_vals:\n",
    "        for ℓj in ℓj_vals:\n",
    "            for ℓs in ℓs_vals:\n",
    "                j.W[find(θj), find(ℓj), find(ℓs), 1, (t-1)] = j.propose(θj, ℓj, ℓs, t)[0]\n",
    "                j.W[find(θj), find(ℓj), find(ℓs), 0, (t-1)] = j.respond(θj, ℓj, ℓs, t)\n",
    "\n",
    "\n",
    "    duração = time.process_time() - start\n",
    "    tempo_total.append(duração)\n",
    "\n",
    "\n",
    "\n",
    "    print(\"tempo total para popular o período\", t, \":\",time.process_time() - start)"
   ]
  },
  {
   "cell_type": "code",
   "execution_count": 124,
   "metadata": {},
   "outputs": [
    {
     "data": {
      "text/plain": [
       "147.83802083333333"
      ]
     },
     "execution_count": 124,
     "metadata": {},
     "output_type": "execute_result"
    },
    {
     "data": {
      "text/plain": [
       "164.52083333333334"
      ]
     },
     "execution_count": 124,
     "metadata": {},
     "output_type": "execute_result"
    }
   ],
   "source": [
    "#quanto tempo demora para rodar o jogo com todas as casas decimais em todos os turnos?\n",
    "\n",
    "\n",
    "sum(tempo_total)/60\n",
    "\n",
    "#só para comparar: a última vez que rodei o código antigo foi 17/08/20. Vou ver quanto tempo demorei\n",
    "\n",
    "tempo_total_antigo =np.genfromtxt(fname = 'tempo_total_17_08.txt')\n",
    "sum(tempo_total_antigo)/60"
   ]
  },
  {
   "cell_type": "markdown",
   "metadata": {},
   "source": [
    "##### Salvando os arquivos com os arrays\n",
    "\n",
    "Só para não ter que ficar gerando os dados toda vez"
   ]
  },
  {
   "cell_type": "code",
   "execution_count": 44,
   "metadata": {},
   "outputs": [],
   "source": [
    "#salvando os arrays para poder trabalhar só na parte da negociação depois\n",
    "\n",
    "\n",
    "np.savetxt('tempo_total_21_08.txt', tempo_total)\n",
    "np.save('Ws_array_21_08', s.W)\n",
    "np.save('Wj_array_21_08', j.W)\n",
    "# np.savetxt('Wj_array.npy', Wj_array)\n",
    "\n"
   ]
  },
  {
   "cell_type": "code",
   "execution_count": 46,
   "metadata": {},
   "outputs": [],
   "source": [
    "#comando para carregar a base\n",
    "#aqui tem o final .npy\n",
    "s.W = np.load('Ws_array_20_08.npy')\n",
    "\n",
    "j.W = np.load('Wj_array_20_08.npy')"
   ]
  },
  {
   "cell_type": "markdown",
   "metadata": {},
   "source": [
    "### Check-up gráfico das funções\n",
    "\n",
    "Os gráficos das propostas devem ser monótonos.\n",
    "\n",
    "O valor esperado das funções valor deve ser algo contínuo para uma habilidade $\\theta_{t}$ crescente"
   ]
  },
  {
   "cell_type": "code",
   "execution_count": 98,
   "metadata": {},
   "outputs": [],
   "source": [
    "#gráfico das funções\n",
    "\n",
    "def graf_func(θ_vector, t, creditor, function):\n",
    "    #true hability increases while lower bounds stay at 0.5\n",
    "    #t is also endogenous \n",
    "    \n",
    "    fig, ax = plt.subplots()\n",
    "\n",
    "    #size of X axis\n",
    "    X = θ_vector\n",
    "\n",
    "\n",
    "    #storing the function vals in t\n",
    "    graf_vals = []\n",
    "\n",
    "    for θt in θ_vector:\n",
    "        function_val = function(θt, 0.5, 0.5, t)\n",
    "        \n",
    "        #for when we use the propose method, which returns a vector\n",
    "        if(np.isscalar(function_val) == False):\n",
    "            function_val = function_val[0]\n",
    "            \n",
    "\n",
    "        graf_vals.append(function_val)\n",
    "        \n",
    "        \n",
    "    label_val = repr(function)\n",
    "    title_val = repr(function) #+' for creditor ' + creditor + 'at period ' + t \n",
    "\n",
    "    ax.plot(X, graf_vals, '-k', linewidth = 3, alpha = 0.8)\n",
    "\n",
    "\n",
    "    # ax.yaxis.tick_right()\n",
    "    # ax.yaxis.set_ticks_position('both')\n",
    "\n",
    "    #para mostrar ticks dos dois lados do eixo y\n",
    "\n",
    "\n",
    "\n",
    "    plt.xlabel(\"θt\")\n",
    "    plt.ylabel(\"Value of the function\")\n",
    "\n",
    "    ax.set_title(title_val)\n",
    "\n",
    "    #achei melhor no upper right\n",
    "    ax.legend(loc = 'upper center')\n",
    "    plt.show()\n",
    "    "
   ]
  },
  {
   "cell_type": "code",
   "execution_count": 99,
   "metadata": {},
   "outputs": [
    {
     "name": "stderr",
     "output_type": "stream",
     "text": [
      "No handles with labels found to put in legend.\n"
     ]
    },
    {
     "data": {
      "image/png": "[encoded data removed]",
      "text/plain": [
       "<Figure size 432x288 with 1 Axes>"
      ]
     },
     "metadata": {
      "needs_background": "light"
     },
     "output_type": "display_data"
    },
    {
     "name": "stderr",
     "output_type": "stream",
     "text": [
      "No handles with labels found to put in legend.\n"
     ]
    },
    {
     "data": {
      "image/png": "[encoded data removed]",
      "text/plain": [
       "<Figure size 432x288 with 1 Axes>"
      ]
     },
     "metadata": {
      "needs_background": "light"
     },
     "output_type": "display_data"
    },
    {
     "name": "stderr",
     "output_type": "stream",
     "text": [
      "No handles with labels found to put in legend.\n"
     ]
    },
    {
     "data": {
      "image/png": "[encoded data removed]",
      "text/plain": [
       "<Figure size 432x288 with 1 Axes>"
      ]
     },
     "metadata": {
      "needs_background": "light"
     },
     "output_type": "display_data"
    }
   ],
   "source": [
    "graf_func(θs_vals, 1, 's', s.Ew)\n",
    "graf_func(θs_vals, 1, 's', s.propose)\n",
    "graf_func(θs_vals, 1, 's', s.respond)"
   ]
  },
  {
   "cell_type": "code",
   "execution_count": 50,
   "metadata": {},
   "outputs": [],
   "source": [
    "#gráfico das propostas\n",
    "\n",
    "def graf_proposal(function, function_name, t, xlabel, ylabel):\n",
    "    \n",
    "\n",
    "    grid_graf = len(θs_vals)\n",
    "\n",
    "    graf = np.empty((grid_graf, grid_graf))\n",
    "\n",
    "    for i, θs in enumerate(θs_vals):\n",
    "        for j, lj in enumerate(lj_vals):\n",
    "            graf[i,j] = function(θs, θs, lj, t)[1]\n",
    "\n",
    "\n",
    "    fig, ax = plt.subplots()\n",
    "\n",
    "    cs1 = ax.contourf(θs_vals, lj_vals, graf.T, alpha=0.75)\n",
    "    # ctr1 = ax.contour(θs_vals, lj_vals, graf1.T)\n",
    "    # plt.clabel(ctr1, inline=1, fontsize=13)\n",
    "    plt.colorbar(cs1, ax = ax)\n",
    "\n",
    "    ax.set_title('Function ' + function_name +   ' in period ' + str(t) )\n",
    "    ax.set_xlabel(xlabel, fontsize=16)\n",
    "    ax.set_ylabel(ylabel, fontsize=16)\n",
    "\n",
    "    ax.ticklabel_format(useOffset=False)\n",
    "\n",
    "\n",
    "    plt.show()"
   ]
  },
  {
   "cell_type": "code",
   "execution_count": 51,
   "metadata": {},
   "outputs": [
    {
     "data": {
      "image/png": "[encoded data removed]",
      "text/plain": [
       "<Figure size 432x288 with 2 Axes>"
      ]
     },
     "metadata": {
      "needs_background": "light"
     },
     "output_type": "display_data"
    },
    {
     "data": {
      "image/png": "[encoded data removed]",
      "text/plain": [
       "<Figure size 432x288 with 2 Axes>"
      ]
     },
     "metadata": {
      "needs_background": "light"
     },
     "output_type": "display_data"
    },
    {
     "data": {
      "image/png": "[encoded data removed]",
      "text/plain": [
       "<Figure size 432x288 with 2 Axes>"
      ]
     },
     "metadata": {
      "needs_background": "light"
     },
     "output_type": "display_data"
    },
    {
     "data": {
      "image/png": "[encoded data removed]",
      "text/plain": [
       "<Figure size 432x288 with 2 Axes>"
      ]
     },
     "metadata": {
      "needs_background": "light"
     },
     "output_type": "display_data"
    }
   ],
   "source": [
    "graf_proposal(s.propose,'s.propose', 0, 'θs', 'ℓj')\n",
    "\n",
    "graf_proposal(s.propose,'s.propose', 2, 'θs', 'ℓj')\n",
    "\n",
    "graf_proposal(j.propose, 'j.propose', 0, 'θj', 'ℓs')\n",
    "graf_proposal(j.propose, 'j.propose', 2, 'θj', 'ℓs')"
   ]
  },
  {
   "cell_type": "code",
   "execution_count": 94,
   "metadata": {},
   "outputs": [],
   "source": [
    "#gráfico das propostas\n",
    "\n",
    "def graf_proposal2(function, function_name, t, xlabel, ylabel):\n",
    "    #tentei plt.imshow() e não funfou\n",
    "\n",
    "    grid_graf = len(θs_vals)\n",
    "\n",
    "    graf = np.empty((grid_graf, grid_graf))\n",
    "\n",
    "    for i, θs in enumerate(θs_vals):\n",
    "        for j, lj in enumerate(lj_vals):\n",
    "            graf[i,j] = function(θs, θs, lj, t)[1]\n",
    "\n",
    "\n",
    "    fig, ax = plt.subplots()\n",
    "\n",
    "#     cs1 = ax.contourf(θs_vals, lj_vals, graf.T, alpha=0.75)\n",
    "    # ctr1 = ax.contour(θs_vals, lj_vals, graf1.T)\n",
    "    # plt.clabel(ctr1, inline=1, fontsize=13)\n",
    "#     plt.colorbar(cs1, ax = ax)\n",
    "\n",
    "    ax.set_title('Function ' + function_name +   ' in period ' + str(t) )\n",
    "    ax.set_xlabel(xlabel, fontsize=16)\n",
    "    ax.set_ylabel(ylabel, fontsize=16)\n",
    "\n",
    "#     ax.ticklabel_format(useOffset=False)\n",
    "    \n",
    "    \n",
    "#     rgb = plt.get_cmap('jet')(graf)\n",
    "#     ax.scatter(θs_vals, ℓs_vals, color = graf)\n",
    "\n",
    "    # make a color map of fixed colors\n",
    "#     cmap = mpl.colors.ListedColormap(['black', 'blue', 'red'])\n",
    "#     bounds=[0,2]\n",
    "#     norm = mpl.colors.BoundaryNorm(bounds, cmap.N)\n",
    "\n",
    "\n",
    "#     # tell imshow about color map so that only set colors are used\n",
    "#     img = plt.imshow(graf.T,interpolation='nearest',\n",
    "#                     cmap = cmap)\n",
    "    \n",
    "    \n",
    "#     # make a color bar\n",
    "#     plt.colorbar(img,cmap=cmap,boundaries=bounds,ticks=[0,1,2])\n",
    "\n",
    "#     cmap = mpl.colors.ListedColormap(['black','blue', 'red'])\n",
    "    plt.pcolor(θs_vals, θs_vals, graf.T, edgecolors='white', linewidths=0.01)\n",
    "\n",
    "\n",
    "    plt.show()"
   ]
  },
  {
   "cell_type": "code",
   "execution_count": 95,
   "metadata": {},
   "outputs": [
    {
     "data": {
      "image/png": "[encoded data removed]",
      "text/plain": [
       "<Figure size 432x288 with 1 Axes>"
      ]
     },
     "metadata": {
      "needs_background": "light"
     },
     "output_type": "display_data"
    },
    {
     "data": {
      "image/png": "[encoded data removed]",
      "text/plain": [
       "<Figure size 432x288 with 1 Axes>"
      ]
     },
     "metadata": {
      "needs_background": "light"
     },
     "output_type": "display_data"
    },
    {
     "data": {
      "image/png": "[encoded data removed]",
      "text/plain": [
       "<Figure size 432x288 with 1 Axes>"
      ]
     },
     "metadata": {
      "needs_background": "light"
     },
     "output_type": "display_data"
    },
    {
     "data": {
      "image/png": "[encoded data removed]",
      "text/plain": [
       "<Figure size 432x288 with 1 Axes>"
      ]
     },
     "metadata": {
      "needs_background": "light"
     },
     "output_type": "display_data"
    }
   ],
   "source": [
    "graf_proposal2(s.propose,'s.propose', 0, 'θs', 'ℓj')\n",
    "\n",
    "graf_proposal2(s.propose,'s.propose', 2, 'θs', 'ℓj')\n",
    "\n",
    "graf_proposal2(j.propose, 'j.propose', 0, 'θj', 'ℓs')\n",
    "graf_proposal2(j.propose, 'j.propose', 2, 'θj', 'ℓs')"
   ]
  },
  {
   "cell_type": "code",
   "execution_count": null,
   "metadata": {},
   "outputs": [],
   "source": []
  },
  {
   "cell_type": "markdown",
   "metadata": {},
   "source": [
    "# Passo 5: resolvendo a negociação entre os credores\n",
    "\n",
    "Aqui vamos resolver o jogo de fato.\n",
    "\n",
    "Etapas:\n",
    "\n",
    "1. Os dois credores recebem suas habilidades, que são informação privada\n",
    "2. Um credor é sorteado para propor o que fazer com a firma\n",
    "3. Há uma atualização nos lower bounds das habilidades para o próximo período\n",
    "4. Usando os lower bounds do próximo período, o credor propositor faz uma oferta baseado no valor de continuação esperado para o próximo período (o dele próprio e o do adversário)\n",
    "5. Há uma atualização das habilidades verdadeiras para o próximo período, que são informação privada\n",
    "6. O credor respondente olha a sua habilidade para o próximo período, os lower bounds do próximo período, calcula seu valor de continuação do próximo período e dá uma resposta.\n",
    "4. O jogo acaba quando os dois concordam quanto ao que fazer com a firma\n",
    "\n",
    "\n",
    "O resultado final é um vetor contendo 3 coisas:\n",
    "1. A taxa de recuperação de crédito (o quanto cada credor recebeu em relação ao que ele tinha de crédito)\n",
    "2. Em qual turno a negociação acabou\n",
    "3. O que decidiram fazer com a firma (reorganizar ou liquidar)\n",
    "\n"
   ]
  },
  {
   "cell_type": "markdown",
   "metadata": {},
   "source": [
    "#### Barganha completa: com s ou j propondo"
   ]
  },
  {
   "cell_type": "code",
   "execution_count": null,
   "metadata": {},
   "outputs": [],
   "source": [
    "#loop while resultado[3] diferente de t, continua\n",
    "\n",
    "\n",
    "\n",
    "#parâmetros iniciais\n",
    "t = 0\n",
    "\n",
    "θst = θ_s0\n",
    "θjt = θ_j0\n",
    "\n",
    "#assumindo que lower bounds nos períodos iniciais são as próprias habilidades iniciais\n",
    "lst = θ_s0\n",
    "ljt = θ_j0\n",
    "\n",
    "\n",
    "#vetor com payoff de s, payoff de j, destino da firma e período\n",
    "#destino da firma é 0 (liquidou) ou 1 (reorganizou)\n",
    "resultado = np.zeros(4)\n",
    "\n",
    "\n",
    "#loop roda enquanto não encerrarem o jogo\n",
    "#o payoff dos jogadores só é gravado no resultado o jogo acaba. \n",
    "#Então o loop vai rodar até que o payoff seja diferente do valor inicial, que é zero\n",
    "while(resultado[0] == 0):\n",
    "    \n",
    "\n",
    "\n",
    "\n",
    "\n",
    "    #sorteio do jogador proponente\n",
    "\n",
    "    u = uniform(0, 1)\n",
    "\n",
    "    if(u < λj):\n",
    "        propositor = 'j'\n",
    "\n",
    "    else:\n",
    "        propositor = 's'\n",
    "\n",
    "\n",
    "\n",
    "    if(propositor == 's'):\n",
    "        \n",
    "\n",
    "\n",
    "\n",
    "        # se s é chamado a propor ####\n",
    "\n",
    "        #proposta\n",
    "        # 0 é liquidar\n",
    "        # 1 é reorganizar\n",
    "        # 2 é esperar\n",
    "\n",
    "        proposta = St(θst, lst, ljt, t)[1]\n",
    "\n",
    "        payoff_s = St(θst, lst, ljt, t)[0]\n",
    "\n",
    "        #update dos lower bounds\n",
    "        ls_next = St(θst, lst, ljt, t)[2]\n",
    "\n",
    "        #lj_next não pode alterar caso a proposta seja de espera, pois não há cutoff\n",
    "        lj_next = St(θst, lst, ljt, t)[3]\n",
    "\n",
    "\n",
    "        #jeito resumido\n",
    "        # [payoff_s, proposta, ls_next, lj_next] = St(θst, lst, ljt, 0)[1:]\n",
    "\n",
    "        #update das habilidades à tarde\n",
    "        θs_next = round(draw_beta(θst), 2)\n",
    "        θj_next = round(draw_beta(θjt), 2)\n",
    "\n",
    "\n",
    "\n",
    "        if(proposta == 0):\n",
    "\n",
    "            #o que j faz se s propor liquidar?\n",
    "            #j olha sua habilidade e os lower bounds do próximo período e calcula o valor de continuação\n",
    "            #aqui ele olha o valor de continuação dele de fato, sem ser valor esperado. Então a função é diferente de j_liq\n",
    "\n",
    "            jt_liq_valor = [Lj(t), V[t] * θj_next - Ls(t) ]\n",
    "\n",
    "            resposta = np.argmax(jt_liq_valor)\n",
    "\n",
    "            payoff_j = jt_liq_valor[resposta]\n",
    "\n",
    "\n",
    "            if(resposta == 0):\n",
    "                #j concorda em liquidar\n",
    "                #payoffs são os de liquidação\n",
    "\n",
    "                resultado[0] = payoff_s\n",
    "                resultado[1] = payoff_j\n",
    "                resultado[2] = 0 #0 é caso liquide\n",
    "                resultado[3] = t\n",
    "\n",
    "\n",
    "            if(resposta == 1):\n",
    "                #j prefere reorganizar\n",
    "                #payoff de s é liq, payoff de j é de reorganização\n",
    "\n",
    "                resultado[0] = payoff_s\n",
    "                resultado[1] = payoff_j\n",
    "                resultado[2] = 1 #1 é caso reorganize\n",
    "                resultado[3] = t \n",
    "\n",
    "            #em qualquer cenário, quando o oponente propôe liquidar o jogo acaba. Por isso sempre temos resultado[3] = t\n",
    "\n",
    "        if(proposta == 1):\n",
    "            #o que j faz se s propor reorganizar?\n",
    "\n",
    "            #a proposta de pagamento de s é o valor esperado da função valor de j, com base nas informações que s tem hoje\n",
    "            Pst = Ewj(expec_beta(lj_next), ls_next, lj_next, t+1)\n",
    "\n",
    "            jt_reorg_valor = [Pst, Ewj(θj_next, ls_next, lj_next, t+1)]\n",
    "\n",
    "            resposta = np.argmax(jt_reorg_valor)\n",
    "\n",
    "            payoff_j = jt_reorg_valor[resposta]\n",
    "\n",
    "\n",
    "\n",
    "            if(resposta == 0):\n",
    "                #j concorda com a proposta de pagamento\n",
    "\n",
    "                resultado[0] = payoff_s\n",
    "                resultado[1] = payoff_j\n",
    "                resultado[2] = 1 #0 é caso liquide\n",
    "                resultado[3] = t\n",
    "\n",
    "\n",
    "            if(resposta == 1):\n",
    "                #j recusa a proposta de pagamento\n",
    "                #jogo vai para o próximo período\n",
    "                #vai para o próximo período\n",
    "\n",
    "                t += 1\n",
    "\n",
    "                #update das informações\n",
    "                θst = θs_next\n",
    "                θjt = θj_next\n",
    "                lst = ls_next\n",
    "                ljt = lj_next\n",
    "\n",
    "\n",
    "        if(proposta == 2):\n",
    "            #o que acontece se s propor esperar?\n",
    "            #vai para o próximo período\n",
    "\n",
    "            t += 1\n",
    "\n",
    "            #update das informações\n",
    "            θst = θs_next\n",
    "            θjt = θj_next\n",
    "            lst = ls_next\n",
    "            #ljt não sofre alteração na proposta de esperar\n",
    "\n",
    "\n",
    "    #============================================================================\n",
    "    else: #caso quem proponha seja j\n",
    "\n",
    "\n",
    "        # se j é chamado a propor ####\n",
    "\n",
    "        #proposta\n",
    "        # 0 é liquidar\n",
    "        # 1 é reorganizar\n",
    "        # 2 é esperar\n",
    "\n",
    "        proposta = Jt(θst, lst, ljt, t)[1]\n",
    "\n",
    "        payoff_j = Jt(θst, lst, ljt, t)[0]\n",
    "\n",
    "        #update dos lower bounds\n",
    "        ls_next = Jt(θst, lst, ljt, t)[2]\n",
    "\n",
    "        #ls_next não pode alterar caso a proposta seja de espera, pois não há cutoff\n",
    "        lj_next = Jt(θst, lst, ljt, t)[3]\n",
    "\n",
    "\n",
    "        #jeito resumido\n",
    "\n",
    "\n",
    "        #update das habilidades à tarde\n",
    "        θs_next = round(draw_beta(θst), 2)\n",
    "        θj_next = round(draw_beta(θjt), 2)\n",
    "\n",
    "\n",
    "\n",
    "        if(proposta == 0):\n",
    "\n",
    "            #o que j faz se s propor liquidar?\n",
    "            #j olha sua habilidade e os lower bounds do próximo período e calcula o valor de continuação\n",
    "            #aqui ele olha o valor de continuação dele de fato, sem ser valor esperado. Então a função é diferente de j_liq\n",
    "\n",
    "            st_liq_valor = [Ls(t), V[t] * θs_next - Lj(t) ]\n",
    "\n",
    "            resposta = np.argmax(st_liq_valor)\n",
    "\n",
    "            payoff_s = st_liq_valor[resposta]\n",
    "\n",
    "\n",
    "            if(resposta == 0):\n",
    "                #j concorda em liquidar\n",
    "                #payoffs são os de liquidação\n",
    "\n",
    "                resultado[0] = payoff_s\n",
    "                resultado[1] = payoff_j\n",
    "                resultado[2] = 0 #0 é caso liquide\n",
    "                resultado[3] = t\n",
    "\n",
    "\n",
    "            if(resposta == 1):\n",
    "                #j prefere reorganizar\n",
    "                #payoff de s é liq, payoff de j é de reorganização\n",
    "\n",
    "                resultado[0] = payoff_s\n",
    "                resultado[1] = payoff_j\n",
    "                resultado[2] = 1 #1 é caso reorganize\n",
    "                resultado[3] = t \n",
    "\n",
    "            #em qualquer cenário, quando o oponente propôe liquidar o jogo acaba. Por isso sempre temos resultado[3] = t\n",
    "\n",
    "        if(proposta == 1):\n",
    "            #o que s faz se j propor reorganizar?\n",
    "\n",
    "            Pjt = Ews(expec_beta(ls_next), ls_next, lj_next, t+1)\n",
    "\n",
    "            st_reorg_valor = [Pjt, Ews(θs_next, ls_next, lj_next, t+1)]\n",
    "\n",
    "            resposta = np.argmax(st_reorg_valor)\n",
    "\n",
    "            payoff_s = st_reorg_valor[resposta]\n",
    "\n",
    "\n",
    "\n",
    "            if(resposta == 0):\n",
    "                #s concorda com a proposta de pagamento\n",
    "\n",
    "                resultado[0] = payoff_s\n",
    "                resultado[1] = payoff_j\n",
    "                resultado[2] = 1 #0 é caso liquide\n",
    "                resultado[3] = t\n",
    "\n",
    "\n",
    "            if(resposta == 1):\n",
    "                #s recusa a proposta de pagamento\n",
    "                #jogo vai para o próximo período\n",
    "\n",
    "                t += 1\n",
    "\n",
    "                #update das informações\n",
    "                θst = θs_next\n",
    "                θjt = θj_next\n",
    "                lst = ls_next\n",
    "                ljt = lj_next\n",
    "\n",
    "\n",
    "        if(proposta == 2):\n",
    "            #o que acontece se s propor esperar?\n",
    "            #vai para o próximo período\n",
    "\n",
    "            t += 1\n",
    "\n",
    "            #update das informações\n",
    "            θst = θs_next\n",
    "            θjt = θj_next\n",
    "            ljt = lj_next\n",
    "            #lst não sofre alteração na proposta de esperar\n"
   ]
  },
  {
   "cell_type": "code",
   "execution_count": null,
   "metadata": {},
   "outputs": [],
   "source": [
    "θst\n",
    "θjt\n",
    "\n",
    "resultado\n",
    "\n",
    "proposta\n",
    "\n",
    "t\n",
    "propositor\n",
    "\n",
    "#agora falta fazer a média dos valores de negociação para colocar como um momento\n",
    "\n"
   ]
  },
  {
   "cell_type": "markdown",
   "metadata": {},
   "source": [
    "# Próximos passos\n",
    "\n",
    "\n",
    "\n",
    "* HIGIENIZAR O CÓDIGO, DEIXAR ORGANIZADO!\n",
    "\n",
    "\n",
    "* ~debugar o que acontece quando t = 14~\n",
    "    * bug na função pmf, e acho que vem da função bins() também\n",
    "\n",
    "\n",
    "* ~criar função de esperança baseada na função beta~\n",
    "    * expec_beta(info_hoje) retorna o valor esperado de teta amanhã\n",
    "\n",
    "\n",
    "\n",
    "\n",
    "* ~discretizar a beta para obter a esperança das funções valor no período seguinte~\n",
    "\n",
    "\n",
    "\n",
    "* ~fazer Js_val~\n",
    "\n",
    "* ~guardar resultados de Js_val e Ws_val do último período numa  matriz 4D~\n",
    "\n",
    "* ~pensar numa função Js_next para achar o valor de Js no próximo período baseado nos parâmetros deste período~\n",
    "    * regra para atualização de lst\n",
    "    * regra para atualização de ljt\n",
    "    * expectativa da habilidade no período seguinte\n",
    "\n",
    "* ~pensar na forma recursiva do jogo~\n",
    "    * acho que as funções probabilidade também têm que considerar o update do lower bound, pois elas fazem parte do cenário onde o jogador não propõe\n",
    "\n",
    "\n",
    "* checar todas as funções de cálculo do jogo (Passo 3)\n",
    "\n",
    "\n",
    "* considerar a estrutura de negociação do jogo\n",
    "\n",
    "* aumentar a precisão das estimativas do jogo\n",
    "    * algoritmo para cálculo do cutoff pode ter mais casas decimais\n",
    "    \n",
    "    \n",
    " * fazer uma estrutura mais enxuta, com uma função que tome como argumento se é s ou j. Ao invés de criar St, Jt, st, jt...\n",
    "    \n",
    "\n",
    "\n",
    "* passos finais\n",
    "    * replicar os gráficos do artigo de referência\n"
   ]
  },
  {
   "cell_type": "markdown",
   "metadata": {},
   "source": [
    "### Conferir novamente\n",
    "\n",
    "1. ~Se preciso usar ls_next e lj_next nas funções Prob_s e Prob_j~ \n",
    "   * conferi e precisa sim, já arrumei\n",
    "\n",
    "2. Se o valor esperado da função para calcular os thresholds cst e cjt estão corretos\n",
    "\n",
    "3. A função pmf não está somando um, tem que verificar onde está o erro\n",
    "\n"
   ]
  },
  {
   "cell_type": "code",
   "execution_count": null,
   "metadata": {},
   "outputs": [],
   "source": []
  }
 ],
 "metadata": {
  "kernelspec": {
   "display_name": "Python 3",
   "language": "python",
   "name": "python3"
  },
  "language_info": {
   "codemirror_mode": {
    "name": "ipython",
    "version": 3
   },
   "file_extension": ".py",
   "mimetype": "text/x-python",
   "name": "python",
   "nbconvert_exporter": "python",
   "pygments_lexer": "ipython3",
   "version": "3.7.6"
  }
 },
 "nbformat": 4,
 "nbformat_minor": 4
}
