{
 "cells": [
  {
   "cell_type": "code",
   "execution_count": 12,
   "metadata": {},
   "outputs": [],
   "source": [
    "#para mostrar todos os resultados e não apenas o último\n",
    "from IPython.core.interactiveshell import InteractiveShell\n",
    "\n",
    "InteractiveShell.ast_node_interactivity = \"all\"\n"
   ]
  },
  {
   "cell_type": "code",
   "execution_count": 284,
   "metadata": {},
   "outputs": [],
   "source": [
    "import numpy as np\n",
    "from numba import jit, jitclass, float64, njit\n",
    "import matplotlib.pyplot as plt\n",
    "%matplotlib inline\n",
    "import quantecon as qe\n",
    "from quantecon.distributions import BetaBinomial"
   ]
  },
  {
   "cell_type": "markdown",
   "metadata": {},
   "source": [
    "# Modelo de McCall Search 1\n",
    "\n",
    "Primeiro modelo de mercado de trabalho\n",
    "QuantEcon disse que é bom para aprender programação dinâmica\n",
    "\n",
    "Lá vamos nós\n",
    "\n"
   ]
  },
  {
   "cell_type": "markdown",
   "metadata": {},
   "source": [
    "\n",
    "$$\n",
    "v^*(i)\n",
    "= \\max \\left\\{\n",
    "        \\frac{w(i)}{1 - \\beta}, \\, c + \\beta \\sum_{1 \\leq j \\leq n}\n",
    "            v^*(j) q (j)\n",
    "    \\right\\}\n",
    "\\quad\n",
    "\\text{for } i = 1, \\ldots, n \\tag{3}\n",
    "$$"
   ]
  },
  {
   "cell_type": "markdown",
   "metadata": {},
   "source": [
    "## Algoritmo\n",
    "\n",
    "The Algorithm\n",
    "To compute this vector, we use successive approximations:\n",
    "\n",
    "Step 1: pick an arbitrary initial guess v∈Rn.\n",
    "\n",
    "Step 2: compute a new vector$ v′∈Rn$ via\n",
    "\n",
    "$v′(i)=max{w(i)1−β,c+β∑1≤j≤nv(j)q(j)}for i=1,…,n(4) $\n",
    "Step 3: calculate a measure of the deviation between v and v′, such as$ maxi|v(i)−v′(i)|$.\n",
    "\n",
    "Step 4: if the deviation is larger than some fixed tolerance, set v=v′ and go to step 2, else continue.\n",
    "\n",
    "Step 5: return v.\n",
    "\n",
    "Let {vk} denote the sequence genererated by this algorithm.\n",
    "\n",
    "This sequence converges to the solution to (3) as k→∞, which is the value function v∗."
   ]
  },
  {
   "cell_type": "code",
   "execution_count": 14,
   "metadata": {},
   "outputs": [],
   "source": [
    "#parâmetros iniciais\n",
    "\n",
    "n, a, b = 50, 200, 100                        # default parameters\n",
    "q_default = BetaBinomial(n, a, b).pdf()       # distribuição Beta Binomial\n"
   ]
  },
  {
   "cell_type": "code",
   "execution_count": 17,
   "metadata": {},
   "outputs": [],
   "source": [
    "#conjunto padrão de salários\n",
    "w_min, w_max = 10, 60\n",
    "w_default = np.linspace(w_min, w_max, n+1)"
   ]
  },
  {
   "cell_type": "code",
   "execution_count": 18,
   "metadata": {},
   "outputs": [
    {
     "data": {
      "text/plain": [
       "[<matplotlib.lines.Line2D at 0x19501d89dc8>]"
      ]
     },
     "execution_count": 18,
     "metadata": {},
     "output_type": "execute_result"
    },
    {
     "data": {
      "text/plain": [
       "Text(0.5, 0, 'wages')"
      ]
     },
     "execution_count": 18,
     "metadata": {},
     "output_type": "execute_result"
    },
    {
     "data": {
      "text/plain": [
       "Text(0, 0.5, 'probabilities')"
      ]
     },
     "execution_count": 18,
     "metadata": {},
     "output_type": "execute_result"
    },
    {
     "data": {
      "image/png": "[encoded data removed]",
      "text/plain": [
       "<Figure size 432x288 with 1 Axes>"
      ]
     },
     "metadata": {
      "needs_background": "light"
     },
     "output_type": "display_data"
    }
   ],
   "source": [
    "#gráfico\n",
    "fig, ax = plt.subplots()\n",
    "ax.plot(w_default, q_default, '-o', label='$q(w(i))$')\n",
    "ax.set_xlabel('wages')\n",
    "ax.set_ylabel('probabilities')\n",
    "\n",
    "plt.show()"
   ]
  },
  {
   "cell_type": "code",
   "execution_count": null,
   "metadata": {},
   "outputs": [],
   "source": [
    "β"
   ]
  },
  {
   "cell_type": "code",
   "execution_count": 19,
   "metadata": {},
   "outputs": [],
   "source": [
    "#vamos descrever o tipo de dados que usaremos para facilitar a vida do Numba\n",
    "\n",
    "mccall_data = [\n",
    "    ('c', float64),      # unemployment compensation\n",
    "    ('β', float64),      # discount factor\n",
    "    ('w', float64[:]),   # array of wage values, w[i] = wage at state i\n",
    "    ('q', float64[:])    # array of probabilities\n",
    "]"
   ]
  },
  {
   "cell_type": "markdown",
   "metadata": {},
   "source": [
    "$max value = max(w[i] / (1 - β), c + β * np.sum(v * q))$"
   ]
  },
  {
   "cell_type": "code",
   "execution_count": 20,
   "metadata": {},
   "outputs": [],
   "source": [
    "#código\n",
    "\n",
    "@jitclass(mccall_data)\n",
    "class McCallModel:\n",
    "\n",
    "    def __init__(self, c=25, β=0.99, w=w_default, q=q_default):\n",
    "\n",
    "        self.c, self.β = c, β\n",
    "        self.w, self.q = w_default, q_default\n",
    "    def bellman(self, i, v):\n",
    "        \"\"\"\n",
    "        The r.h.s. of the Bellman equation at state i.\n",
    "        \"\"\"\n",
    "        # Simplify names\n",
    "        c, β, w, q = self.c, self.β, self.w, self.q\n",
    "        # Evaluate right hand side of Bellman equation\n",
    "        max_value = max(w[i] / (1 - β), c + β * np.sum(v * q))\n",
    "        return(max_value)"
   ]
  },
  {
   "cell_type": "code",
   "execution_count": 22,
   "metadata": {},
   "outputs": [],
   "source": [
    "#função para plotar função valor\n",
    "\n",
    "def plot_value_function_seq(mcm, ax, num_plots=6):\n",
    "    \"\"\"\n",
    "    Plot a sequence of value functions.\n",
    "\n",
    "        * mcm is an instance of McCallModel\n",
    "        * ax is an axes object that implements a plot method.\n",
    "\n",
    "    \"\"\"\n",
    "\n",
    "    n = len(mcm.w) #n é o tamanho de wages, testa uma vez para cada wage\n",
    "    v = mcm.w / (1 - mcm.β) #v é o valor presente de aceitar a proposta atual\n",
    "    v_next = np.empty_like(v)\n",
    "    for i in range(num_plots):\n",
    "        ax.plot(mcm.w, v, '-', alpha=0.4, label=f\"iterate {i}\")\n",
    "        # Update guess\n",
    "        for i in range(n):\n",
    "            v_next[i] = mcm.bellman(i, v)\n",
    "        v[:] = v_next  # copy contents into v\n",
    "\n",
    "    ax.legend(loc='lower right')"
   ]
  },
  {
   "cell_type": "code",
   "execution_count": 23,
   "metadata": {},
   "outputs": [
    {
     "data": {
      "text/plain": [
       "Text(0.5, 0, 'wage')"
      ]
     },
     "execution_count": 23,
     "metadata": {},
     "output_type": "execute_result"
    },
    {
     "data": {
      "text/plain": [
       "Text(0, 0.5, 'value')"
      ]
     },
     "execution_count": 23,
     "metadata": {},
     "output_type": "execute_result"
    },
    {
     "data": {
      "image/png": "[encoded data removed]",
      "text/plain": [
       "<Figure size 432x288 with 1 Axes>"
      ]
     },
     "metadata": {
      "needs_background": "light"
     },
     "output_type": "display_data"
    }
   ],
   "source": [
    "#rodando o modelo\n",
    "mcm = McCallModel()\n",
    "\n",
    "fig, ax = plt.subplots()\n",
    "ax.set_xlabel('wage')\n",
    "ax.set_ylabel('value')\n",
    "plot_value_function_seq(mcm, ax)\n",
    "plt.show()"
   ]
  },
  {
   "cell_type": "code",
   "execution_count": 24,
   "metadata": {},
   "outputs": [],
   "source": [
    "#código para calcular salário de reserva\n",
    "\n",
    "\n",
    "@jit(nopython=True)\n",
    "def compute_reservation_wage(mcm,\n",
    "                             max_iter=500,\n",
    "                             tol=1e-6):\n",
    "\n",
    "    # Simplify names\n",
    "    c, β, w, q = mcm.c, mcm.β, mcm.w, mcm.q\n",
    "\n",
    "    # == First compute the value function == #\n",
    "\n",
    "    n = len(w)\n",
    "    v = w / (1 - β)          # initial guess\n",
    "    v_next = np.empty_like(v)\n",
    "    i = 0\n",
    "    error = tol + 1\n",
    "    while i < max_iter and error > tol:\n",
    "\n",
    "        for i in range(n):\n",
    "            v_next[i] = mcm.bellman(i, v)\n",
    "\n",
    "        error = np.max(np.abs(v_next - v))\n",
    "        i += 1\n",
    "\n",
    "        v[:] = v_next  # copy contents into v\n",
    "\n",
    "    # == Now compute the reservation wage == #\n",
    "\n",
    "    return (1 - β) * (c + β * np.sum(v * q))\n",
    "\n",
    "#lembra bastante o código do gráfico\n",
    "#principal diferença é que ele faz a norma do máximo entre o v_next e v\n",
    "\n"
   ]
  },
  {
   "cell_type": "code",
   "execution_count": 25,
   "metadata": {},
   "outputs": [
    {
     "data": {
      "text/plain": [
       "47.316499710024964"
      ]
     },
     "execution_count": 25,
     "metadata": {},
     "output_type": "execute_result"
    }
   ],
   "source": [
    "compute_reservation_wage(mcm)"
   ]
  },
  {
   "cell_type": "markdown",
   "metadata": {},
   "source": [
    "## Estática Comparativa\n",
    "\n",
    "Vejamos como o salário de reserva varia com beta e c\n",
    "\n"
   ]
  },
  {
   "cell_type": "code",
   "execution_count": 26,
   "metadata": {},
   "outputs": [],
   "source": [
    "grid_size = 25\n",
    "R = np.empty((grid_size, grid_size))\n",
    "\n",
    "c_vals = np.linspace(10.0, 30.0, grid_size) #c varia de 10 a 30\n",
    "β_vals = np.linspace(0.9, 0.99, grid_size)  #Beta varia de 0.9 a 0.99\n",
    "\n",
    "\n",
    "#tem que fazer um enumerate para cada um\n",
    "#como R é bidimensional, calculamos o salário para cada par [i,j] no grid\n",
    "\n",
    "for i, c in enumerate(c_vals):\n",
    "    for j, β in enumerate(β_vals):\n",
    "        mcm = McCallModel(c=c, β=β)\n",
    "        R[i, j] = compute_reservation_wage(mcm)\n"
   ]
  },
  {
   "cell_type": "code",
   "execution_count": 27,
   "metadata": {},
   "outputs": [
    {
     "data": {
      "text/plain": [
       "<a list of 7 text.Text objects>"
      ]
     },
     "execution_count": 27,
     "metadata": {},
     "output_type": "execute_result"
    },
    {
     "data": {
      "text/plain": [
       "<matplotlib.colorbar.Colorbar at 0x19503a206c8>"
      ]
     },
     "execution_count": 27,
     "metadata": {},
     "output_type": "execute_result"
    },
    {
     "data": {
      "text/plain": [
       "Text(0.5, 1.0, 'reservation wage')"
      ]
     },
     "execution_count": 27,
     "metadata": {},
     "output_type": "execute_result"
    },
    {
     "data": {
      "text/plain": [
       "Text(0.5, 0, '$c$')"
      ]
     },
     "execution_count": 27,
     "metadata": {},
     "output_type": "execute_result"
    },
    {
     "data": {
      "text/plain": [
       "Text(0, 0.5, '$β$')"
      ]
     },
     "execution_count": 27,
     "metadata": {},
     "output_type": "execute_result"
    },
    {
     "data": {
      "image/png": "[encoded data removed]",
      "text/plain": [
       "<Figure size 432x288 with 2 Axes>"
      ]
     },
     "metadata": {
      "needs_background": "light"
     },
     "output_type": "display_data"
    }
   ],
   "source": [
    "#gráfico\n",
    "#esse negócio de contourf é novo para mim\n",
    "fig, ax = plt.subplots()\n",
    "\n",
    "cs1 = ax.contourf(c_vals, β_vals, R.T, alpha=0.75)\n",
    "ctr1 = ax.contour(c_vals, β_vals, R.T)\n",
    "\n",
    "plt.clabel(ctr1, inline=1, fontsize=13)\n",
    "plt.colorbar(cs1, ax=ax)\n",
    "\n",
    "\n",
    "ax.set_title(\"reservation wage\")\n",
    "ax.set_xlabel(\"$c$\", fontsize=16)\n",
    "ax.set_ylabel(\"$β$\", fontsize=16)\n",
    "\n",
    "ax.ticklabel_format(useOffset=False)\n",
    "\n",
    "plt.show()"
   ]
  },
  {
   "cell_type": "markdown",
   "metadata": {},
   "source": [
    "## Exercício 1\n",
    "\n",
    "Compute the average duration of unemployment when β=0.99 and c takes the following values\n",
    "\n",
    "c_vals = np.linspace(10, 40, 25)\n",
    "\n",
    "That is, start the agent off as unemployed, compute their reservation wage given the parameters, and then simulate to see how long it takes to accept.\n",
    "\n",
    "Repeat a large number of times and take the average.\n",
    "\n",
    "Plot mean unemployment duration as a function of c in c_vals."
   ]
  },
  {
   "cell_type": "code",
   "execution_count": 28,
   "metadata": {},
   "outputs": [],
   "source": [
    "@jit(nopython=True)\n",
    "def compute_reservation_wage(mcm,\n",
    "                             max_iter=500,\n",
    "                             tol=1e-6):\n",
    "\n",
    "    # Simplify names\n",
    "    c, β, w, q = mcm.c, mcm.β, mcm.w, mcm.q\n",
    "\n",
    "    # == First compute the value function == #\n",
    "\n",
    "    n = len(w)\n",
    "    v = w / (1 - β)          # initial guess\n",
    "    v_next = np.empty_like(v)\n",
    "    i = 0\n",
    "    error = tol + 1\n",
    "    while i < max_iter and error > tol:\n",
    "\n",
    "        for i in range(n):\n",
    "            v_next[i] = mcm.bellman(i, v)\n",
    "\n",
    "        error = np.max(np.abs(v_next - v))\n",
    "        i += 1\n",
    "\n",
    "        v[:] = v_next  # copy contents into v\n",
    "\n",
    "    # == Now compute the reservation wage == #\n",
    "\n",
    "    return (1 - β) * (c + β * np.sum(v * q))\n",
    "\n",
    "#lembra bastante o código do gráfico\n",
    "#principal diferença é que ele faz a norma do máximo entre o v_next e v\n"
   ]
  },
  {
   "cell_type": "code",
   "execution_count": 216,
   "metadata": {},
   "outputs": [],
   "source": [
    "#vou aproveitar parte do código anterior \n",
    "\n",
    "grid_size = 25\n",
    "R = np.empty((grid_size, 1))\n",
    "\n",
    "c_vals = np.linspace(10.0, 40.0, grid_size) #c varia de 10 a 40\n",
    "β_vals = 0.99  #Beta fixo em 0.99\n",
    "\n",
    "\n",
    "#tem que fazer um enumerate para cada um\n",
    "#agora R voltou a ser unidimensional, logo o loop trabalha só em i\n",
    "\n",
    "for i, c in enumerate(c_vals):\n",
    "        mcm = McCallModel(c=c, β=β)\n",
    "        R[i] = compute_reservation_wage(mcm)\n",
    "        \n",
    "#criei um salário de reserva para cada c. Agora vou calcular o tempo médio de stop para cada salário de reserva\n"
   ]
  },
  {
   "cell_type": "code",
   "execution_count": 217,
   "metadata": {},
   "outputs": [
    {
     "data": {
      "text/plain": [
       "array([[46.45375475],\n",
       "       [46.51657452],\n",
       "       [46.57939429],\n",
       "       [46.64221406],\n",
       "       [46.70503383],\n",
       "       [46.7678536 ],\n",
       "       [46.83067336],\n",
       "       [46.89349313],\n",
       "       [46.95631291],\n",
       "       [47.02917013],\n",
       "       [47.12494666],\n",
       "       [47.22072318],\n",
       "       [47.31649971],\n",
       "       [47.41227624],\n",
       "       [47.50805277],\n",
       "       [47.6038293 ],\n",
       "       [47.69960583],\n",
       "       [47.79538236],\n",
       "       [47.89115889],\n",
       "       [47.98693542],\n",
       "       [48.1333602 ],\n",
       "       [48.28778502],\n",
       "       [48.44220984],\n",
       "       [48.59663467],\n",
       "       [48.75105949]])"
      ]
     },
     "execution_count": 217,
     "metadata": {},
     "output_type": "execute_result"
    },
    {
     "data": {
      "text/plain": [
       "25"
      ]
     },
     "execution_count": 217,
     "metadata": {},
     "output_type": "execute_result"
    }
   ],
   "source": [
    "R\n",
    "\n",
    "len(R)"
   ]
  },
  {
   "cell_type": "code",
   "execution_count": 292,
   "metadata": {},
   "outputs": [],
   "source": [
    "#preciso criar uma função para a decisão ótima de parar\n",
    "\n",
    "#o agente compara o salário atual ao salário de reserva em cada período\n",
    "#aceita se o salário atual for maior ou igual ao salário de reserva\n",
    "\n",
    "#função de distribuição acumulada\n",
    "cdf = np.cumsum(q_default)\n",
    "\n",
    "\n",
    "@jit\n",
    "def stop_time(w_reserva, seed=1234):\n",
    "    \n",
    "    np.random.seed(seed)\n",
    "    t = 1\n",
    "    w_vals = []\n",
    "    while True:\n",
    "        w = w_default[qe.random.draw(np.cumsum(q_default))]\n",
    "        if w >= w_reserva:\n",
    "            stop = t\n",
    "            w_vals.append(w)\n",
    "            break\n",
    "        else:\n",
    "            t = t + 1\n",
    "            w_vals.append(w)\n",
    "    return stop\n",
    "    \n",
    "\n",
    "\n",
    "\n",
    "#função stop time tem agora o tempo ótimo de parada e também o histórico de ofertas de salário\n",
    "\n",
    "\n",
    "#essa é a função para calcular valor de parada para um salário de reserva\n",
    "\n",
    "#tem que deixar todas as funções no mesmo balaio\n",
    "\n",
    "\n",
    "\n",
    "#shift + l mostra o número da linha\n",
    "\n",
    "\n",
    "#quero calcular o tempo ótimo de parada mil vezes e calcular a média deles\n",
    "@jit\n",
    "def stop_time_mean(w_reserva, num_reps = 1_00_000):\n",
    "    \n",
    "    obs = np.empty(num_reps, dtype=np.float64)\n",
    "    for i in range(num_reps):\n",
    "        obs[i] = stop_time(w_reserva)\n",
    "        \n",
    "    return obs.mean()\n",
    "    \n",
    "\n",
    "    \n",
    "\n",
    "\n",
    "\n",
    "#agora queremos calcular a média de tempo para várias retiradas da amostra, digamos 1_00_000\n",
    "\n",
    "\n",
    "#para cada salário reserva, vou calcular a média de tempo de parada\n",
    "\n"
   ]
  },
  {
   "cell_type": "code",
   "execution_count": 312,
   "metadata": {},
   "outputs": [
    {
     "data": {
      "text/plain": [
       "array([ 5.26414,  5.22869,  5.22924,  5.25133,  5.25506,  5.26296,\n",
       "        5.21077,  5.22385,  5.25592,  8.19388,  8.19706,  8.18261,\n",
       "        8.14827,  8.19689,  8.21769,  8.23423,  8.22918,  8.24301,\n",
       "        8.23753,  8.20562, 13.93382, 13.95804, 14.03141, 14.00141,\n",
       "       13.99953])"
      ]
     },
     "execution_count": 312,
     "metadata": {},
     "output_type": "execute_result"
    }
   ],
   "source": [
    "#vou fazer um arranjo para guardar a média de tempo de stop em cada salário\n",
    "    \n",
    "stop_times = np.empty_like(c_vals)\n",
    "\n",
    "for i in range(len(R)):\n",
    "    stop_times[i] = stop_time_mean(R[i])\n",
    "\n",
    "stop_times\n"
   ]
  },
  {
   "cell_type": "code",
   "execution_count": 313,
   "metadata": {},
   "outputs": [
    {
     "data": {
      "text/plain": [
       "array([10.  , 11.25, 12.5 , 13.75, 15.  , 16.25, 17.5 , 18.75, 20.  ,\n",
       "       21.25, 22.5 , 23.75, 25.  , 26.25, 27.5 , 28.75, 30.  , 31.25,\n",
       "       32.5 , 33.75, 35.  , 36.25, 37.5 , 38.75, 40.  ])"
      ]
     },
     "execution_count": 313,
     "metadata": {},
     "output_type": "execute_result"
    },
    {
     "data": {
      "text/plain": [
       "array([ 5.26414,  5.22869,  5.22924,  5.25133,  5.25506,  5.26296,\n",
       "        5.21077,  5.22385,  5.25592,  8.19388,  8.19706,  8.18261,\n",
       "        8.14827,  8.19689,  8.21769,  8.23423,  8.22918,  8.24301,\n",
       "        8.23753,  8.20562, 13.93382, 13.95804, 14.03141, 14.00141,\n",
       "       13.99953])"
      ]
     },
     "execution_count": 313,
     "metadata": {},
     "output_type": "execute_result"
    },
    {
     "data": {
      "text/plain": [
       "[<matplotlib.lines.Line2D at 0x19504c60188>]"
      ]
     },
     "execution_count": 313,
     "metadata": {},
     "output_type": "execute_result"
    },
    {
     "data": {
      "text/plain": [
       "[Text(0, 0.5, 'months'), Text(0.5, 0, 'unemployment compensation')]"
      ]
     },
     "execution_count": 313,
     "metadata": {},
     "output_type": "execute_result"
    },
    {
     "data": {
      "text/plain": [
       "<matplotlib.legend.Legend at 0x19504aeeb88>"
      ]
     },
     "execution_count": 313,
     "metadata": {},
     "output_type": "execute_result"
    },
    {
     "data": {
      "image/png": "[encoded data removed]",
      "text/plain": [
       "<Figure size 432x288 with 1 Axes>"
      ]
     },
     "metadata": {
      "needs_background": "light"
     },
     "output_type": "display_data"
    }
   ],
   "source": [
    "#criando gráfico\n",
    "\n",
    "c_vals\n",
    "stop_times\n",
    "\n",
    "\n",
    "fig, ax = plt.subplots()\n",
    "ax.plot(c_vals, stop_times, label =\"mean unemployment duration\")\n",
    "ax.set(xlabel=\"unemployment compensation\", ylabel = \"months\")\n",
    "ax.legend()\n",
    "\n",
    "plt.show()"
   ]
  },
  {
   "cell_type": "markdown",
   "metadata": {},
   "source": [
    "Rascunhos do exercício 1"
   ]
  },
  {
   "cell_type": "code",
   "execution_count": 269,
   "metadata": {
    "scrolled": true
   },
   "outputs": [
    {
     "data": {
      "text/plain": [
       "dtype('float64')"
      ]
     },
     "execution_count": 269,
     "metadata": {},
     "output_type": "execute_result"
    }
   ],
   "source": [
    "R.dtype"
   ]
  },
  {
   "cell_type": "code",
   "execution_count": 274,
   "metadata": {},
   "outputs": [
    {
     "data": {
      "text/plain": [
       "5.230883"
      ]
     },
     "execution_count": 274,
     "metadata": {},
     "output_type": "execute_result"
    }
   ],
   "source": [
    "#esse bloco funciona\n",
    "n = 1_000_000\n",
    "\n",
    "obs = np.empty(n)\n",
    "for i in range(n):\n",
    "    obs[i] = stop_time(R[0])\n",
    "\n",
    "obs.mean()"
   ]
  },
  {
   "cell_type": "code",
   "execution_count": 33,
   "metadata": {},
   "outputs": [],
   "source": [
    "#gabarito \n",
    "\n",
    "\n",
    "\n",
    "cdf = np.cumsum(q_default)\n",
    "\n",
    "@jit(nopython=True)\n",
    "def compute_stopping_time(w_bar, seed=1234):\n",
    "\n",
    "    np.random.seed(seed)\n",
    "    t = 1\n",
    "    while True:\n",
    "        # Generate a wage draw\n",
    "        w = w_default[qe.random.draw(cdf)]\n",
    "        # Stop when the draw is above the reservation wage\n",
    "        if w >= w_bar:\n",
    "            stopping_time = t\n",
    "            break\n",
    "        else:\n",
    "            t += 1\n",
    "    return stopping_time\n",
    "\n",
    "\n",
    "@jit(nopython=True)\n",
    "def compute_mean_stopping_time(w_bar, num_reps=100000):\n",
    "    obs = np.empty(num_reps)\n",
    "    for i in range(num_reps):\n",
    "        obs[i] = compute_stopping_time(w_bar, seed=i)\n",
    "    return obs.mean()\n",
    "\n",
    "\n",
    "\n",
    "\n"
   ]
  },
  {
   "cell_type": "code",
   "execution_count": 34,
   "metadata": {},
   "outputs": [
    {
     "data": {
      "text/plain": [
       "1.16752"
      ]
     },
     "execution_count": 34,
     "metadata": {},
     "output_type": "execute_result"
    }
   ],
   "source": [
    "compute_mean_stopping_time(40)"
   ]
  },
  {
   "cell_type": "code",
   "execution_count": null,
   "metadata": {},
   "outputs": [],
   "source": [
    "stop_time_mean(46)"
   ]
  },
  {
   "cell_type": "code",
   "execution_count": 35,
   "metadata": {},
   "outputs": [
    {
     "data": {
      "text/plain": [
       "[<matplotlib.lines.Line2D at 0x1950365ce48>]"
      ]
     },
     "execution_count": 35,
     "metadata": {},
     "output_type": "execute_result"
    },
    {
     "data": {
      "text/plain": [
       "[Text(0, 0.5, 'months'), Text(0.5, 0, 'unemployment compensation')]"
      ]
     },
     "execution_count": 35,
     "metadata": {},
     "output_type": "execute_result"
    },
    {
     "data": {
      "text/plain": [
       "<matplotlib.legend.Legend at 0x1950386ad88>"
      ]
     },
     "execution_count": 35,
     "metadata": {},
     "output_type": "execute_result"
    },
    {
     "data": {
      "image/png": "[encoded data removed]",
      "text/plain": [
       "<Figure size 432x288 with 1 Axes>"
      ]
     },
     "metadata": {
      "needs_background": "light"
     },
     "output_type": "display_data"
    }
   ],
   "source": [
    "#agora é um loop para calcular a média de tempo em cada caso\n",
    "\n",
    "#RETOMAR DAQUI\n",
    "\n",
    "c_vals = np.linspace(10, 40, 25)\n",
    "stop_times = np.empty_like(c_vals)\n",
    "for i, c in enumerate(c_vals):\n",
    "    mcm = McCallModel(c=c)\n",
    "    w_bar = compute_reservation_wage(mcm)\n",
    "    stop_times[i] = compute_mean_stopping_time(w_bar)\n",
    "\n",
    "fig, ax = plt.subplots()\n",
    "\n",
    "ax.plot(c_vals, stop_times, label=\"mean unemployment duration\")\n",
    "ax.set(xlabel=\"unemployment compensation\", ylabel=\"months\")\n",
    "ax.legend()\n",
    "\n",
    "plt.show()"
   ]
  },
  {
   "cell_type": "code",
   "execution_count": null,
   "metadata": {},
   "outputs": [],
   "source": [
    "b_valores = np.linspace(0.9, 0.99, 25)\n",
    "b_valores\n",
    "\n",
    "enumerar = enumerate(b_valores)\n",
    "enumerar"
   ]
  },
  {
   "cell_type": "markdown",
   "metadata": {},
   "source": [
    "## Exercício 2\n",
    "\n",
    "The purpose of this exercise is to show how to replace the discrete wage offer distribution used above with a continuous distribution.\n",
    "\n",
    "This is a significant topic because many convenient distributions are continuous (i.e., have a density).\n",
    "\n",
    "Fortunately, the theory changes little in our simple model.\n",
    "\n",
    "Recall that h in (6) denotes the value of not accepting a job in this period but then behaving optimally in all subsequent periods:\n",
    "\n",
    "To shift to a continuous offer distribution, we can replace (6) by\n",
    "\n",
    "$h=c+β∫v∗(s′)q(s′)ds′$.(9)\n",
    "Equation (7) becomes\n",
    "\n",
    "$h=c+β∫max{w(s′)1−β,h}q(s′)ds′$(10)\n",
    "The aim is to solve this nonlinear equation by iteration, and from it obtain the reservation wage.\n",
    "\n",
    "Try to carry this out, setting\n",
    "\n",
    "the state sequence {st} to be IID and standard normal and\n",
    "the wage function to be $w(s)=exp(μ+σs)$.\n",
    "You will need to implement a new version of the McCallModel class that assumes a lognormal wage distribution.\n",
    "\n",
    "Calculate the integral by Monte Carlo, by averaging over a large number of wage draws.\n",
    "\n",
    "For default parameters, use c=25, β=0.99, σ=0.5, μ=2.5.\n",
    "\n",
    "Once your code is working, investigate how the reservation wage changes with c and β."
   ]
  },
  {
   "cell_type": "code",
   "execution_count": 326,
   "metadata": {},
   "outputs": [],
   "source": [
    "#primeiro vou olhar essa fórmula do h\n",
    "\n",
    "@jit(nopython=True)\n",
    "def compute_reservation_wage_two(mcm,\n",
    "                                 max_iter=500,\n",
    "                                 tol=1e-5):\n",
    "\n",
    "    # Simplify names\n",
    "    c, β, w, q = mcm.c, mcm.β, mcm.w, mcm.q\n",
    "\n",
    "    # == First compute h == #\n",
    "\n",
    "    h = np.sum(w * q) / (1 - β)\n",
    "    i = 0\n",
    "    error = tol + 1\n",
    "    while i < max_iter and error > tol:\n",
    "\n",
    "        s = np.maximum(w / (1 - β), h)\n",
    "        h_next = c + β * np.sum(s * q)\n",
    "\n",
    "        error = np.abs(h_next - h)\n",
    "        i += 1\n",
    "\n",
    "        h = h_next\n",
    "\n",
    "    # == Now compute the reservation wage == #\n",
    "\n",
    "    return (1 - β) * h\n",
    "\n"
   ]
  },
  {
   "cell_type": "code",
   "execution_count": 327,
   "metadata": {},
   "outputs": [
    {
     "data": {
      "text/plain": [
       "47.316499166392944"
      ]
     },
     "execution_count": 327,
     "metadata": {},
     "output_type": "execute_result"
    }
   ],
   "source": [
    "#testando a função\n",
    "mcm = McCallModel()\n",
    "compute_reservation_wage_two(mcm)"
   ]
  },
  {
   "cell_type": "markdown",
   "metadata": {},
   "source": [
    "Passo 1: Criando nova classe de McCall Model que funciona com wage lognormal\n",
    "\n",
    "For default parameters, use c=25, β=0.99, σ=0.5, μ=2.5.\n",
    "\n",
    "Repare que o modelo usa como argumentos o tipo de dados. Vamos ajustar isso primeiro"
   ]
  },
  {
   "cell_type": "code",
   "execution_count": 328,
   "metadata": {},
   "outputs": [],
   "source": [
    "mccontinuous_data = [\n",
    "    ('c', float64),      # unemployment compensation\n",
    "    ('β', float64),      # discount factor\n",
    "    ('w', float64[:]),   # array of wage values, w[i] = wage at state i\n",
    "    ('q', float64[:]),    # array of probabilities\n",
    "    ('σ', float64),       #desvio-padrão\n",
    "    ('μ', float64)        #média da distribuição lognormal\n",
    "]"
   ]
  },
  {
   "cell_type": "code",
   "execution_count": 413,
   "metadata": {
    "scrolled": true
   },
   "outputs": [
    {
     "data": {
      "text/plain": [
       "array([ 9.82392305, 10.72589557, 11.31242791,  6.91992137, 19.93292642,\n",
       "       10.60120669,  8.11272905,  5.88854419,  8.07762339, 11.41439545,\n",
       "        3.63113109, 12.62817735, 13.33076272, 13.03598411,  9.01434536,\n",
       "        6.32094457, 16.55188342,  5.19171179, 10.52928696,  6.24056099,\n",
       "       25.45987012, 27.66232073,  8.61809723,  9.61488796, 21.36099597,\n",
       "        9.09781487, 18.49425632,  8.77349688, 22.58546722,  8.00608376,\n",
       "       10.5423989 , 27.10214202, 16.5315558 , 21.82093251, 16.56928125,\n",
       "       15.94155358,  8.3164195 , 13.2415304 , 14.14472308, 28.5812276 ,\n",
       "        8.01950857, 18.37513263,  5.41507497, 18.84859391, 12.52326192,\n",
       "       22.92786166, 10.35472728, 12.60836691, 14.94494861,  6.9095791 ,\n",
       "       18.87344251,  8.9691456 , 15.07992747,  5.26105228, 32.73614607,\n",
       "        8.37897919, 25.58640565, 11.5775579 ,  4.46945109,  4.85654673,\n",
       "       14.29111675, 14.71255005,  6.28711576,  9.65922232, 18.9009413 ,\n",
       "        7.54372973,  4.86529745, 12.74145457, 17.08560365,  5.35497288,\n",
       "        7.41521531, 10.80450719, 14.00494117,  6.72767627, 14.55489451,\n",
       "       15.01225628,  8.76450381, 30.61518917, 11.76903634,  8.07647969,\n",
       "        6.57413992,  7.75821449, 16.29194979, 18.81660902, 19.87519509,\n",
       "       17.88576485, 18.6512838 , 23.24626364, 11.11362552, 10.61591485,\n",
       "       19.6048259 , 12.04424755, 11.09141759,  5.9432726 ,  9.00986846,\n",
       "       13.05925992,  8.82595095, 18.12367711, 10.62431241, 22.62707969,\n",
       "       20.79241944,  9.19043529, 17.93839054,  9.54931015,  5.67997428,\n",
       "       13.79170928, 16.1066761 , 14.02960702,  8.45712376, 19.15665198,\n",
       "       15.67028173,  9.25432465,  7.64339617,  9.61959886, 18.49895965,\n",
       "        6.71651706,  6.37155571,  7.75017948,  2.45414013, 14.34783006,\n",
       "       18.55010912,  4.71862832, 11.33003053, 11.69299005, 16.07851397,\n",
       "       12.29954222, 16.63881294, 14.95042613,  4.82530498,  8.96974967,\n",
       "        6.34159226, 38.86785004, 14.92010419,  9.59775907,  6.61681708,\n",
       "        7.69602105, 19.72647615,  7.91729316, 14.73645809,  9.90099531,\n",
       "       24.43739135, 17.39786356, 12.5621829 ,  6.18980888, 28.01337369,\n",
       "        6.16731185, 12.67368809, 15.47517461, 10.41928689, 19.54151438,\n",
       "        9.5531762 , 11.19507886, 18.96922904,  9.26282084, 10.44763719,\n",
       "       11.19342353, 11.49239209, 11.6308524 ,  8.31655215, 13.50534695,\n",
       "        7.23010629,  7.92894432, 14.48173275,  8.2013616 , 14.96582111,\n",
       "       22.88799625,  7.01771288,  9.43932538, 11.41072208,  9.05250481,\n",
       "       13.04188771,  5.33166609, 20.52441906,  9.76164877, 22.08720779,\n",
       "        3.94563654, 12.84011028,  6.76006933, 16.19313874,  9.01850594,\n",
       "       26.17676993,  6.84351561,  8.85978108,  6.54508249, 16.20564853,\n",
       "        9.8197821 , 10.51376324, 23.83129264,  8.42120214, 17.15776637,\n",
       "        9.63836177, 12.83805091,  7.12883959, 12.98174088,  8.75161618,\n",
       "       10.82738349, 21.18712785,  5.72767004, 13.53210343,  7.90308498,\n",
       "        9.19858116, 19.2878544 , 18.98588246, 11.25948743, 17.98042235,\n",
       "       23.18537664,  3.1056248 ,  9.89997075, 32.74569818, 11.93579417,\n",
       "       32.92496024, 10.30843817,  6.19132374, 13.46762578, 20.57625455,\n",
       "       13.50015406, 14.8878781 , 11.07074312,  6.80172474,  6.15435275,\n",
       "       27.08124991, 13.27087253, 22.72630843,  5.90202335,  5.93027376,\n",
       "        9.1976845 , 22.2770113 ,  8.48318116, 18.02505506, 12.81039135,\n",
       "        9.29230239, 13.37121733,  5.39858317,  9.58817236,  6.54056999,\n",
       "        4.32556452, 14.06580951,  6.04448753, 13.08422754,  8.75288007,\n",
       "       13.55764904, 21.44846991,  6.83012601, 10.96052052,  9.18818856,\n",
       "        8.25847928,  8.49637432,  9.51625959, 11.44599071,  5.27978208,\n",
       "        5.68538303,  5.945565  , 10.45295653, 14.74275522, 13.65126589,\n",
       "       12.98892782, 17.00496808, 18.30285254,  8.56728417, 33.20055649,\n",
       "       12.14221333, 27.87735476,  9.4185803 , 28.48939297, 13.5284995 ,\n",
       "       13.86459329, 41.56332197, 21.46964901, 16.00336241,  8.78671877,\n",
       "       17.45502049, 18.72948226, 13.09377149, 16.51032171,  5.71825417,\n",
       "       19.30855374, 15.85202741, 25.14975752, 17.97296072, 31.52605297,\n",
       "       23.5403552 , 14.86865329,  6.33408859,  8.51148996, 26.15058357,\n",
       "       26.24264406, 16.0169701 , 13.45833586, 18.03039543,  8.71915271,\n",
       "        8.79236302, 16.60404918,  9.13854755,  9.35017054, 16.55826586,\n",
       "       13.18710459, 10.17375767,  6.36547565,  9.21418091,  6.72385156,\n",
       "        6.91091059, 13.92479385, 18.44474152, 11.22300002, 23.57907188,\n",
       "        7.06320983, 10.69754781, 20.97591283, 31.04743819, 14.18969793,\n",
       "        4.7995812 , 14.18251688, 15.07719487, 10.57137479, 29.01623053,\n",
       "       17.74443279, 16.68289877, 10.05433877, 17.87102562, 18.56684598,\n",
       "       18.63480529,  8.99435814,  7.98580936, 13.45408401, 18.15717091,\n",
       "       20.10067235, 18.908629  , 13.56201138,  5.45715083, 11.89825403,\n",
       "       13.23309129,  5.43884257,  5.61081715,  6.0437599 , 13.64711453,\n",
       "       25.09440349,  5.57450609, 15.35751209, 12.62259569, 11.84815992,\n",
       "       11.9553608 , 15.53340202, 43.36542945,  5.94879773, 20.77458851,\n",
       "       17.31096148,  7.6470046 ,  6.50124094,  8.87956569,  6.92506708,\n",
       "        8.71474236, 11.71468144, 14.88488206, 13.17379063, 37.2151009 ,\n",
       "       22.83272648, 17.23966674, 24.0702309 ,  6.20493633, 16.91459995,\n",
       "       17.59980864, 20.72415646,  6.84067452, 19.6699614 , 11.2168462 ,\n",
       "       13.67134312, 16.71986617,  8.14394878, 15.99067773, 11.43903983,\n",
       "       21.01638594, 20.47913089,  7.91960454, 10.13089851,  4.74958007,\n",
       "       13.08876746, 12.58316777,  7.02949722, 16.24381123, 10.65832174,\n",
       "       11.46925476,  9.64113328,  9.47494107,  8.32625486, 24.57425276,\n",
       "       10.21693595, 23.8152279 , 10.69800885,  7.57016119,  7.95958141,\n",
       "       10.55849973, 20.50342119, 13.71526968, 10.30696465, 13.40104219,\n",
       "        8.60485877, 10.56969803,  4.64913093,  9.80538827, 15.46552242,\n",
       "        8.52740836,  9.85756331, 17.57150556, 12.43357487,  8.45567863,\n",
       "       30.46332666,  8.44617158, 16.38308391,  8.20764273, 10.49065672,\n",
       "       18.86916218,  7.16782186, 12.35321961, 17.12854951,  7.87953195,\n",
       "       16.03293187, 21.60493348,  9.15217362,  8.6552927 , 22.92197832,\n",
       "        9.56808422, 10.79988483,  7.01136721, 14.43743847,  8.81146435,\n",
       "        6.25506968,  4.60942384, 15.11635203,  9.16113259, 14.63013947,\n",
       "       10.44057869,  7.22071114,  7.01632575,  5.04131494, 11.76619586,\n",
       "        9.94630903,  6.47434647, 11.94945464, 13.11235629,  5.11473018,\n",
       "       10.06717694, 20.63639251, 28.00489595, 10.84087714, 19.35599419,\n",
       "       12.794005  , 15.05515532, 10.87946882, 17.45290567, 25.17042464,\n",
       "       16.09889623, 13.40914505, 12.05299638,  5.59565243, 12.70121824,\n",
       "       21.32005516, 12.09865477, 22.12061311,  6.20083172, 17.09096574,\n",
       "        8.81682508, 11.46009341, 11.08628016, 13.87814769,  8.69108426,\n",
       "        4.62878429,  6.05628711, 12.61353664,  8.47902835, 26.26023757,\n",
       "       15.23056167, 17.64218845, 17.49022615, 15.07555579,  9.07309191,\n",
       "       31.67220743, 12.07953041,  9.2644122 , 15.33230195, 12.86410747,\n",
       "       12.3148323 , 13.34036121,  6.17251161,  7.70835341,  5.16759151,\n",
       "        9.20457695,  6.41314867,  5.80689501, 12.68871852, 23.0196089 ,\n",
       "       14.51543151, 11.54507645,  7.00097193,  7.55586801,  5.43348864,\n",
       "       11.0772046 , 27.82870557,  8.46475041, 23.01933256, 12.61517872,\n",
       "       17.80656785,  8.62152755, 15.55061753,  9.96765145,  6.74096322,\n",
       "        7.85344418,  8.85123518, 11.34081385, 16.1883528 , 14.39302797,\n",
       "        6.58704863,  3.74921943, 10.22341684, 20.04676098,  8.46495346,\n",
       "        3.68167455, 13.35547964,  6.7950914 , 18.12491712, 11.37440497,\n",
       "       12.46518158,  5.07984899, 13.58544339, 12.19467486, 14.80933002,\n",
       "       16.33303966, 10.02420978,  4.53363207, 17.44582734, 19.49526463,\n",
       "       18.03271158,  6.12133703, 10.32305421,  8.55706582, 25.28448579,\n",
       "       11.90548771, 25.22139699,  6.27990054, 10.7159703 , 20.22432629,\n",
       "       13.56331879, 21.79132923, 19.22332599, 22.70898534, 26.79974538,\n",
       "       24.95155673, 10.95396188, 20.03636563,  7.59961591,  6.77120506,\n",
       "       10.5700167 ,  5.15243343, 10.68937902, 12.63334255, 16.01374084,\n",
       "       26.77306751, 13.91699245, 21.79647595,  6.29674167, 16.90105369,\n",
       "       16.63411837,  6.47757444,  5.63621795, 17.75374625,  4.70948404,\n",
       "       22.21200812,  8.66745745,  6.55118756, 14.30062511,  8.12534939,\n",
       "       18.60403634, 22.17831824, 24.09491757,  5.14063603,  3.7578523 ,\n",
       "       16.22230242, 19.12433147, 27.28050667,  6.40520525, 21.92450144,\n",
       "        9.88732894, 11.82697006, 17.49858643,  5.91370315, 12.821937  ,\n",
       "       18.05545716, 18.86615935, 30.56780547, 11.87933555, 10.98082901,\n",
       "       17.47524186, 10.22021823,  8.01392505, 24.64389089, 39.44138123,\n",
       "       10.1842001 ,  5.15241075, 21.75873663,  7.1060442 ,  5.70341609,\n",
       "       10.01867407, 10.87343477,  6.62151074, 10.10003118, 13.3808404 ,\n",
       "        7.24717036, 22.56701661,  6.852235  , 19.5655131 , 12.65818764,\n",
       "        9.47391014, 12.42636584, 11.50772164,  8.01328086, 14.05642217,\n",
       "       15.62514146,  5.7560351 , 12.65674018, 19.86669867, 16.89419333,\n",
       "       15.31911669,  6.05501403, 11.98991275, 11.06474895,  5.52194658,\n",
       "       25.60601131,  6.93514202, 11.75917338, 11.91232737, 19.50482015,\n",
       "        6.14470073, 14.9895994 , 29.08396668, 24.4118807 , 10.19652632,\n",
       "       19.88857459,  9.84046527, 14.90670491, 15.15403147, 26.98854956,\n",
       "       16.94671555,  6.64087329, 16.13252867, 14.53501782, 12.96190554,\n",
       "       12.80982983,  9.08657231, 10.79245494, 14.5658051 , 18.09442955,\n",
       "       16.2063514 , 21.95445065,  6.37955929,  6.59795086,  9.39043928,\n",
       "        6.92645877,  6.58654518,  8.49564459, 32.05731919,  6.68295041,\n",
       "       12.85233022,  7.65798279, 18.460081  ,  4.14394267, 10.12177111,\n",
       "       11.57367462,  8.69156264,  5.21630442, 17.86049557,  4.87193484,\n",
       "       17.52832334, 14.28234348,  8.26173649, 10.44851468,  6.60068199,\n",
       "       13.22960968, 13.99334001,  7.38525252, 11.02009248, 11.72963442,\n",
       "       20.96206193, 39.39302013, 23.85641354,  6.5085051 ,  8.35500031,\n",
       "       12.58765178, 26.31126527, 11.47908667, 13.76145567, 10.59660291,\n",
       "       12.00792005, 14.97285961,  6.65732208, 14.23405338, 12.10206621,\n",
       "       21.8575222 ,  8.90557104, 39.19424446, 11.1548488 ,  7.17865964,\n",
       "       10.16846546, 10.41925289, 26.78853187, 26.13704909, 12.22126354,\n",
       "       23.53961328,  7.27620525,  5.86169576, 15.69581507,  8.03613036,\n",
       "       15.48332909,  6.57897192,  8.75501872, 14.41491315,  9.83909533,\n",
       "        5.23699455, 24.17368171, 13.56031753,  3.84736194, 18.91184247,\n",
       "        6.38416945,  7.81256869, 13.21428094, 15.10925718,  6.71315892,\n",
       "       16.29886197,  9.63864555,  9.65821167, 11.44826905,  7.83677478,\n",
       "       29.23819313, 11.37709101, 19.94289628, 18.99047121,  7.43649774,\n",
       "       11.85058302, 40.17720256,  6.37415243, 26.47166145, 20.46114458,\n",
       "        9.97837267,  8.3039195 , 22.56759969, 16.663124  , 16.75399165,\n",
       "       10.7583464 , 15.99994256,  6.58369136,  7.91789051,  9.44957238,\n",
       "        9.16196426,  8.8234121 ,  7.35702092, 13.8317834 ,  9.83861053,\n",
       "       17.05685215,  7.95256343, 10.15576824, 17.12363522, 11.46229634,\n",
       "       14.19495577, 10.60745245, 13.63465883, 15.71349381, 10.33056005,\n",
       "        9.59124648, 14.29591921,  5.27772834, 21.24937073, 10.4147206 ,\n",
       "       13.14399001, 25.24962208, 13.76188075,  8.64787598,  4.92387393,\n",
       "        7.42312754, 14.8938238 ,  8.55029774, 10.54269018, 16.45693244,\n",
       "       20.14946054, 14.47742903, 11.89471109, 10.22212988, 21.03178818,\n",
       "        5.48893805, 17.6064177 ,  5.2308965 ,  9.7375906 , 12.13278411,\n",
       "        3.15013036, 18.76028004,  8.93792391, 19.64972752,  6.62035915,\n",
       "        4.80603206, 10.19056998, 14.01619694,  4.6948036 , 28.06494929,\n",
       "       11.43818372, 26.9112742 , 29.22672697, 15.57785559, 17.03366011,\n",
       "        8.05623136, 16.37638976, 14.54929704,  9.73081249, 17.33022657,\n",
       "       18.71739079,  9.87989418, 14.90098561, 12.07765451,  5.27554783,\n",
       "       14.9401828 , 19.62415573, 11.13062798, 24.78448919, 19.09551867,\n",
       "       11.7244072 ,  9.85189219, 14.8157297 ,  9.71306662, 12.42120782,\n",
       "        5.07602081, 15.42141874,  9.65065591,  5.2516292 ,  6.51191443,\n",
       "       22.68772369, 14.24655303, 13.63240544, 12.66531529,  7.65854882,\n",
       "       18.59144441, 27.4214554 , 10.03728275, 12.47217476, 21.05804314,\n",
       "       18.91334941, 29.91627692, 13.02787292,  4.21539973, 11.59120669,\n",
       "       14.74758307, 19.58039393,  6.19884159, 23.44929306,  6.92839404,\n",
       "       14.66389254, 16.85926477, 14.63668796,  7.34505821, 25.03751629,\n",
       "       11.84625732, 15.23252159,  5.05677221,  7.64717567,  9.96308967,\n",
       "        8.63397647, 13.75985343, 12.68994492, 10.4130809 ,  8.6622528 ,\n",
       "       18.91602977, 10.12394556,  8.63132001, 11.91955349, 18.76338908,\n",
       "       21.60338345,  6.16495874,  3.9966081 , 29.85571747,  8.9963017 ,\n",
       "       29.58677941, 17.92943325, 10.38621767,  9.11224516,  9.23544188,\n",
       "       12.35514137,  8.7106831 ,  6.33679833, 27.151805  , 33.73695006,\n",
       "       17.06857826, 15.35976692,  4.10678512, 13.28448652,  8.26847723,\n",
       "        8.25851184, 12.53159823, 19.24450653, 18.01044666, 21.58532016,\n",
       "       14.65713783,  8.62457739, 12.84556078,  9.37383591, 24.67710265,\n",
       "        9.65920074, 11.0385563 ,  9.3952543 ,  8.01160321, 15.98288233,\n",
       "        9.64947142,  8.28717342,  7.20538664,  9.32883065, 20.0238704 ,\n",
       "       14.36339171, 13.22045063,  6.73062677, 13.42164245,  6.23889178,\n",
       "       12.92809975, 11.67906873, 12.63794732, 15.32177238, 19.28272908,\n",
       "        5.63287008, 14.37948427,  7.76232848,  9.07000232,  5.77381221,\n",
       "       10.81491384, 11.59276502,  8.12440472,  9.8961223 ,  9.87462472,\n",
       "       12.57599088,  8.9275724 , 18.5131862 , 12.48395239, 20.45716815,\n",
       "       10.01158908, 21.71546785, 16.89565103, 18.55016552,  8.42960859,\n",
       "       11.24975223, 21.65444896, 14.81964711, 11.59159834, 10.70270008,\n",
       "       19.71890256,  7.66388283, 17.33932149,  8.05515096, 12.83861979,\n",
       "        5.57190321, 17.34395343, 10.20236878, 12.43918215, 17.66289655,\n",
       "        5.83714966,  8.06816032, 15.21252601, 19.43664119, 12.26918399,\n",
       "        8.18853275, 17.49098653,  4.61446135,  3.83612214,  8.60565145,\n",
       "       27.14669252, 20.58959807,  8.85353497, 15.28776678, 15.66370078,\n",
       "       12.03326832,  8.67183468,  7.68327456, 12.5355207 , 17.17485279,\n",
       "       10.17578658,  2.80538043, 19.24567375, 15.53973028, 11.19793069,\n",
       "       18.90658134, 23.20263313,  8.08711614, 12.48073994, 15.84325136,\n",
       "        8.31791818, 17.42071067, 26.84108584,  6.84539878, 20.3964653 ,\n",
       "       36.45178745, 25.28053634, 15.58450639, 14.72101819,  9.94950191,\n",
       "        7.06003072,  3.268171  , 10.49096097,  6.59175627, 10.31655884])"
      ]
     },
     "execution_count": 413,
     "metadata": {},
     "output_type": "execute_result"
    },
    {
     "data": {
      "text/plain": [
       "array([ 6.80540448, 18.89346467, 14.53278475,  9.52683428, 19.09002224,\n",
       "        5.76083027, 16.13577162,  6.60638481,  3.89537835, 15.52917212,\n",
       "       15.18418499,  7.0617002 , 14.41786108,  6.24624377, 12.4568171 ,\n",
       "       12.39798403, 17.01099782,  8.97703659, 13.15221195,  8.54904459,\n",
       "       15.676896  , 13.56170535,  9.62736211,  5.63629398, 12.71036091,\n",
       "       11.96239986, 32.56379242, 10.84605513,  8.21052489,  8.067962  ,\n",
       "        4.84940519,  7.08151332, 19.48491056, 11.09223011, 20.17917191,\n",
       "        9.82713409, 23.87869157,  9.87854683, 11.50865023,  7.01110651,\n",
       "       10.91013256, 17.19721125, 14.63407958,  6.00951273, 13.46327676,\n",
       "       32.74536568, 12.55108219, 10.0432171 , 28.97174602, 11.27821567,\n",
       "       15.42914279,  7.74474686,  8.4120523 , 21.04800243, 10.4279255 ,\n",
       "       11.00229216, 10.21845119, 12.80096804, 15.87340434, 17.26545922,\n",
       "        9.53984107, 16.94436833, 11.74117776,  7.96899693,  8.61154939,\n",
       "       19.77494949, 18.63787921,  6.84951684, 15.00713124,  8.19364017,\n",
       "       13.71015358,  5.823499  ,  6.72952354,  8.02524043,  8.34794731,\n",
       "        9.87175866,  6.40361656, 11.78349517,  8.16010848,  9.51877483,\n",
       "       16.31105758, 13.12787554, 12.87888227, 23.29331728, 10.44909614,\n",
       "       31.02617651,  7.44655617,  8.99071805, 19.64689803, 18.36835143,\n",
       "        9.65932491, 27.39335665,  5.73846503, 17.72138527,  9.26392761,\n",
       "        9.14552919, 12.45533091, 48.56185529, 32.24963443, 10.24953571,\n",
       "       15.29210138, 13.48720357,  5.71379971, 14.50618004, 24.90868418,\n",
       "        7.38022855, 14.73649884,  9.98355607, 28.77847946, 12.53791555,\n",
       "        4.3452064 , 26.93685757,  5.8052282 , 14.15322986, 12.61411428,\n",
       "        5.50726676,  7.49553134, 13.07229475,  8.8997857 , 10.48947922,\n",
       "        5.73226824,  7.83159609, 13.61186487, 24.13556601, 14.61592836,\n",
       "        7.66393516, 18.99678292, 15.46097802,  8.21253479,  7.30868351,\n",
       "        6.70960304,  5.09624862, 11.76382428,  4.8380019 , 26.62340312,\n",
       "       11.23469852, 23.16142224, 13.75816449, 12.58310022, 11.93478959,\n",
       "        8.85009625, 19.3096491 , 14.14096234, 10.18481293, 12.5970235 ,\n",
       "        7.6914509 ,  7.49188089,  3.09479782, 15.20444612,  4.83520225,\n",
       "       11.93829523, 11.87445589,  6.88531335,  6.53619931, 12.33261343,\n",
       "        9.31921464, 17.53865017, 20.98652983, 20.51981877,  8.84995401,\n",
       "       18.86683074, 20.68976851,  6.18683443, 18.93523668,  9.50870141,\n",
       "        4.72772878, 11.56092497, 30.98843262, 16.68344236,  8.08179951,\n",
       "        7.2652514 , 18.27902575,  8.2274963 , 34.54496308, 11.32746716,\n",
       "       10.74909217,  9.02560534, 12.23599248, 11.8394367 ,  5.60161999,\n",
       "        9.29103887, 24.86512591,  3.04718016,  9.92831323, 21.31167793,\n",
       "       16.72064786, 16.82337169, 20.82618848,  9.72001798, 24.35013673,\n",
       "       16.18800054,  7.38851155,  8.64943932, 13.83864885,  9.677625  ,\n",
       "       30.53009667, 11.55969751, 25.40318183, 27.14776536, 12.98486504,\n",
       "       13.6301442 , 11.27586378, 15.4442297 ,  8.48085582, 18.23146219,\n",
       "        7.39392391,  7.46467399,  7.45206768,  9.05847823, 10.35564272,\n",
       "       22.15509194, 31.62241725, 11.21433865,  6.70329018, 16.20924826,\n",
       "        8.50896188, 16.56540557, 25.04770665, 29.85114076, 16.94540151,\n",
       "        9.32340189, 11.55875083,  9.74684176, 18.53353184,  4.63169685,\n",
       "       12.71088603, 11.82242622, 10.95057563,  4.60463406, 26.19397666,\n",
       "       12.93613162,  9.44472155, 17.7774979 , 11.81153342,  6.56768099,\n",
       "       17.73943744,  8.09182288, 14.09389775,  7.91484967,  7.70856338,\n",
       "       32.75129512, 16.81260504,  7.76106691, 11.42504058, 13.11551396,\n",
       "       23.08798887, 15.61137979, 13.64765243, 10.80183268, 10.30801527,\n",
       "       25.68419924, 14.09228315, 12.03755903, 21.57519433, 15.15327716,\n",
       "        9.18011405, 11.36367334,  7.14540374, 22.63454781, 18.33876201,\n",
       "       10.42312881, 12.32882902, 10.78239878,  6.15476554,  4.23674422,\n",
       "        8.7892665 ,  9.45108839, 11.74365943, 14.66928389, 13.04784035,\n",
       "       15.95926686,  8.34861448, 16.19225542, 14.59286359, 11.45959463,\n",
       "       13.50468005,  8.20043511,  8.07015784, 15.70755074, 25.19448437,\n",
       "        9.85289355, 13.50773507, 14.76797271, 12.12434317, 18.44086572,\n",
       "       17.89888024, 16.48943474, 30.51048459, 10.51660721, 11.9232274 ,\n",
       "        5.29540264, 13.46931996, 14.38116488,  5.99936731,  6.44017221,\n",
       "       14.43726045, 20.40592931,  7.56118399, 10.2040591 , 24.88052112,\n",
       "       10.60679542,  9.92013474,  8.47488184, 17.4061551 ,  7.51949782,\n",
       "        8.31435765, 16.73528565, 13.16048569, 18.56360674, 11.78821344,\n",
       "       13.16130147, 14.01933002, 11.47146635, 23.3193775 ,  6.28648823,\n",
       "       11.81204035, 15.95029528, 13.31159601,  9.80238625, 10.28144462,\n",
       "       78.3701055 , 11.96790009, 20.11773606,  6.84612021,  7.4581602 ,\n",
       "       28.69287116,  8.15598706, 16.18603557, 45.73742635, 15.63518944,\n",
       "       11.44078599,  6.31092697, 35.00063531,  6.74135485,  6.66322035,\n",
       "       14.36770678, 17.14304038,  9.00240247,  7.83946983, 11.24801597,\n",
       "        6.63014973, 36.25189286, 11.55066543, 13.47472469, 12.07094549,\n",
       "        6.49615506, 12.34928935,  4.44878813, 26.79307126, 13.18491401,\n",
       "       15.75943573, 20.37386527, 24.1088745 ,  7.06114745, 11.21668105,\n",
       "       13.41373373, 37.15012128,  7.3028315 , 16.24236644,  9.24613877,\n",
       "        8.68393187, 15.20495573,  7.7722472 , 22.08134648, 13.95514156,\n",
       "       11.84749883, 13.61709743,  8.98865161,  3.29632779,  8.34996801,\n",
       "        8.06319198,  8.16776682,  3.75275028, 13.93165307, 23.30616019,\n",
       "       12.81187771,  7.66501469, 11.31255716, 28.89149375, 14.99277008,\n",
       "       13.13923617,  4.68987108, 14.51290641,  6.04450855, 13.16183664,\n",
       "       11.97032391, 15.78474246, 12.46147053,  9.30548673, 21.54794176,\n",
       "        6.68321451,  9.08238892,  6.75958792, 14.19240876,  6.37789166,\n",
       "       10.58215136, 12.94691776,  7.46310321,  4.60958774, 25.15943547,\n",
       "       35.96449727, 13.71629226, 25.60847155, 14.15871932, 13.57594802,\n",
       "        8.27520028, 16.73732197, 15.35979493, 17.11308096, 11.96828937,\n",
       "        7.40637405,  8.706683  ,  7.38611256,  8.72029414,  5.61088883,\n",
       "       15.12076769,  9.19819027, 14.16960698, 10.73377628, 20.47605923,\n",
       "       27.94936328,  8.0623012 , 24.42119855, 18.00005464, 29.90648075,\n",
       "       16.26702395, 21.18591748,  5.86490767,  8.46856357, 10.89254853,\n",
       "        4.90299735, 16.33734807, 17.54153003,  6.90952011, 15.98807531,\n",
       "        8.57675706,  9.22996707, 20.77831192, 12.00969319,  9.7393618 ,\n",
       "       14.96821189,  6.15204154, 14.62229921, 13.71100819,  8.82700065,\n",
       "        7.24998291, 14.25952915,  8.45494858, 17.53107689,  3.95760674,\n",
       "       28.03995645, 10.76527233, 11.37648557, 14.2951582 ,  7.88882293,\n",
       "        7.19461591, 28.22892057,  8.54168342, 11.85530473, 13.99272506,\n",
       "       11.21773902, 10.08865736,  9.03298403, 13.28285024, 21.88174914,\n",
       "       14.95150982, 14.35877932, 10.87028165, 11.48235284, 13.93383681,\n",
       "        8.15894196, 13.54366503, 15.22077773, 19.32841138, 20.0560781 ,\n",
       "       21.55894325, 13.54243739, 11.0522831 ,  7.14139561, 12.75155474,\n",
       "       12.79261354, 12.58402996,  8.83396336, 15.45733032, 10.73876112,\n",
       "       16.50020481, 17.85749532, 10.24509923, 15.83661353, 11.9034928 ,\n",
       "        4.27252131, 17.86195852, 26.21368036, 14.73805648, 18.19103116,\n",
       "       11.37339288, 13.4404058 , 14.24441833,  8.47270212,  6.83233841,\n",
       "       19.07428378, 15.16712531,  5.4588264 , 19.10328537, 14.68320684,\n",
       "       11.5007756 ,  9.89314756,  3.13904719, 15.93073504, 12.85161421,\n",
       "        8.93939353, 11.77513269,  9.88906506,  8.87192703, 10.63789001,\n",
       "       22.74664959,  8.93776827, 11.39079812,  6.25602507,  7.04592193,\n",
       "        9.08868225, 20.60068848, 13.69045908, 20.70026677, 10.63295784,\n",
       "       11.02135354, 15.43510528, 11.41830205,  8.85696111,  9.36077124,\n",
       "       37.42821137,  6.89950355,  8.77119488, 12.48960163, 13.41633457,\n",
       "        7.63717289,  9.70945728, 19.7363995 ,  7.53542659, 11.10631871,\n",
       "       19.35654964, 17.88402053, 35.4191722 , 12.07522468, 14.08288274,\n",
       "       14.05661247, 10.29882799,  6.46871162,  8.81650717,  8.77289861,\n",
       "        7.85606961, 25.1583259 , 19.44997656, 11.05043322, 12.86578582,\n",
       "       17.42230559, 14.00905274, 21.23518973, 12.9546985 , 28.76474418,\n",
       "       17.41895635,  7.07989862,  8.72076498, 17.83196216, 11.73105594,\n",
       "       20.10346147, 13.56879807,  5.18159176, 18.39255123,  8.03743628,\n",
       "       22.10503661,  8.51511656,  4.14895786, 12.31178243, 24.72697575,\n",
       "       44.49200412, 16.78771819, 12.6733099 ,  7.41768923, 10.14579321,\n",
       "       17.18888302, 19.37888251,  3.13243632, 16.41409371,  6.47143396,\n",
       "        9.25551517, 13.39644825, 21.72612335,  7.3012391 , 23.99956757,\n",
       "        4.62526544, 10.90250091, 16.61316116, 11.64456214, 11.78628121,\n",
       "        7.17118692,  6.16231391,  7.10037128, 10.25267464, 16.25216982,\n",
       "        9.33428106,  9.60689444, 21.42153505, 10.11321465, 11.0743255 ,\n",
       "       26.96062104,  3.82101356,  9.00345122, 17.98373954, 35.0754406 ,\n",
       "       17.90681366, 19.44663444, 12.82553683,  9.91553374, 15.89878837,\n",
       "       20.52423026, 14.38788256, 10.6146398 , 24.68495695,  8.300445  ,\n",
       "       12.53614392, 19.10747029,  8.35363825, 16.75360966, 18.54050526,\n",
       "       15.01143553, 10.95163608, 14.72079925, 26.01881091, 18.5556891 ,\n",
       "        5.78391446, 18.86452807,  7.27542882, 26.71609305,  8.1763476 ,\n",
       "        6.65346304, 12.80542009, 11.05865124, 26.67229717, 17.02056224,\n",
       "       13.29089229, 22.23661361, 12.34827538,  7.47701113,  9.51470974,\n",
       "       15.20644465,  9.27806999,  7.70437916, 14.18284827, 15.34688225,\n",
       "        8.49749999,  8.66332193,  5.51765888,  8.91780311,  7.8923827 ,\n",
       "       15.77229529, 13.20458753, 25.8116963 ,  7.48307964, 10.41829465,\n",
       "        9.06259766, 27.87701133, 10.72449654, 10.44285201, 18.30177733,\n",
       "        7.63756185, 21.76522622, 12.42320508, 13.31451671,  5.99891896,\n",
       "       14.74877439, 16.50081197,  9.42122498, 16.3906021 , 14.24960315,\n",
       "        7.04679702,  7.14785697,  4.0704447 , 14.7744667 , 12.20091943,\n",
       "       24.93457817, 17.32264105,  8.86483362,  9.97408639,  8.36263008,\n",
       "       13.70804097, 21.35925391,  5.34871933, 20.07793191, 12.87801143,\n",
       "        6.99881559, 14.70485441, 27.80545087, 23.28776967, 10.89412641,\n",
       "       14.60336744,  4.36025866, 20.40150282,  5.92102918,  9.50421231,\n",
       "        7.29376561, 27.65713185,  4.88945712,  2.0465496 , 24.7196236 ,\n",
       "        9.20487693, 10.91812779, 11.18813362, 17.6858961 , 18.57103953,\n",
       "        4.51883048,  9.67255942, 10.66372316, 15.22829187, 18.14050125,\n",
       "       10.52994641,  6.99704559,  8.29428979,  5.45309287, 10.59228672,\n",
       "        7.88905758,  9.39438253,  7.83975442, 20.67973121, 36.13827947,\n",
       "        6.33910058,  7.15426567, 15.6870917 , 13.2440201 , 19.21131824,\n",
       "        8.6083386 ,  7.88827871,  9.48350413, 11.86050199,  9.08956718,\n",
       "       26.35165136, 10.35947635, 14.59980766,  4.43633329, 17.86225855,\n",
       "        7.45197585, 17.31787373,  6.14854684, 14.25589739, 11.72252641,\n",
       "       12.4033152 , 10.18627608, 10.99303413, 14.64466562, 21.28906549,\n",
       "       16.64573663, 13.89719537, 53.71498023,  7.54539945, 15.45058303,\n",
       "       19.05650907, 10.0780374 , 10.33516928, 13.21975983,  8.93850474,\n",
       "       18.37413876, 18.86159692, 18.24361056, 12.17504093, 16.58798371,\n",
       "       11.36918453,  9.15977532, 14.05094483, 12.04978873, 14.00230654,\n",
       "       16.81277186,  6.77756907,  9.77915964,  6.43171559, 24.93441046,\n",
       "       29.08372348,  9.99929063, 28.74654279, 15.99349109, 12.05586628,\n",
       "        6.13186419,  6.5740636 , 10.40283656,  8.68116799, 10.56785458,\n",
       "       15.45231985,  7.00857017,  5.47203889, 16.34773591, 14.16099584,\n",
       "       23.80013126,  9.63266188, 18.01719638,  8.82096439,  4.64220745,\n",
       "        8.74090908, 24.13932449,  9.051229  ,  6.87964991,  6.76730943,\n",
       "       34.00078553, 10.32557476,  8.27560612, 14.28609215,  5.13198031,\n",
       "       18.30347854,  4.97679306,  7.00116386, 20.76332726, 20.65457252,\n",
       "        6.70643323, 36.75265698, 11.33179113, 15.92965076, 20.83474843,\n",
       "        7.07603217,  7.85115291,  7.37372056,  7.34978314, 29.46954754,\n",
       "       23.08192462,  6.56652599, 16.85018424, 11.31858971, 24.75942154,\n",
       "       23.60722587,  5.19660704,  7.82041671, 29.3655651 ,  7.02427048,\n",
       "       10.76376916,  6.19865873,  7.89266229, 10.05193492, 11.32182753,\n",
       "       15.01243542,  7.69626592, 13.20344031, 12.92795139, 15.11874296,\n",
       "       12.61034114, 15.52096046, 30.26605965, 12.63433581,  8.59634967,\n",
       "        9.65784539, 15.09764907, 27.52579003,  5.98453865, 10.11008613,\n",
       "        5.91665668, 18.93172517,  9.79241149, 17.5632076 ,  9.9539921 ,\n",
       "       17.56515829,  7.05539534,  7.73798229, 22.27936608, 17.97287127,\n",
       "       18.93377081, 14.61102668,  6.95777574,  5.78066846, 27.09825002,\n",
       "       20.97765405, 20.43560141,  8.65719188, 32.82528102, 10.16367042,\n",
       "        6.24746467, 16.36323638, 13.36383033,  7.45660176, 11.87480596,\n",
       "       23.48212824, 14.54753317, 11.08146957, 15.09401122, 29.94956856,\n",
       "       14.9190965 , 19.42534889, 17.09557595, 33.63776481, 21.71096214,\n",
       "        9.89760861,  9.05792028, 22.07498782, 14.35844365, 11.58471666,\n",
       "       10.73803993, 20.34233625,  7.74071587, 23.68828445,  5.94398728,\n",
       "        7.67892567,  9.17251327, 12.27914874, 24.90739181, 21.12104324,\n",
       "       13.13585814,  5.16150506, 17.25058195, 10.35773499,  8.12888413,\n",
       "       20.98495864, 16.22512735,  9.59821801,  9.40369213,  8.49066958,\n",
       "       15.1932681 , 15.70768072, 21.1943362 ,  9.13090508, 30.91810226,\n",
       "       13.42603785,  8.97156454, 13.89351556,  9.70734567, 14.56159276,\n",
       "       17.26849542,  3.89833844, 12.00858066, 16.04294297, 16.89784141,\n",
       "        4.31445869, 12.66534364,  9.68038567, 10.2089854 , 39.25443737,\n",
       "       10.11321699, 15.28494202, 14.65504538, 11.25401915,  7.83839364,\n",
       "        4.92568909, 23.43286619, 15.34473681, 11.85037642, 12.68984542,\n",
       "       12.24291643, 14.51906195,  8.62686677,  3.92629794, 14.28635188,\n",
       "       22.19228373, 11.74639081, 11.09868602, 19.46393279,  7.47634682,\n",
       "       20.03977167, 11.52222481, 17.82391832,  9.31353346, 26.82068491,\n",
       "       16.3535066 , 27.94899686,  7.28504353, 10.87456691,  8.97714739,\n",
       "        6.67843784,  3.48946282, 15.91658131, 15.46514109,  9.15135215,\n",
       "       15.6380469 ,  8.26673555, 13.77801102, 15.9554699 , 11.64092402,\n",
       "       33.17269488,  4.50625512, 16.64865204, 21.62697229, 27.22172645,\n",
       "       27.96205304,  8.15031879, 23.67293609, 19.77577947, 10.68132682,\n",
       "       10.20170076, 36.89825045, 10.61091952, 35.90854745, 14.46732447,\n",
       "       55.16018382, 22.73695814, 18.30398096, 12.3492655 ,  7.02598162,\n",
       "       42.6776087 ,  9.39779647, 15.39744495, 32.21568046, 10.31211104,\n",
       "       19.12511227, 11.91958313, 12.99308485, 13.46935715, 14.3928858 ])"
      ]
     },
     "execution_count": 413,
     "metadata": {},
     "output_type": "execute_result"
    }
   ],
   "source": [
    "#definindo w_lognormal no lugar de w_default\n",
    "\n",
    "\n",
    "n, a, b = 50, 200, 100                        # default parameters\n",
    "q_lognormal = np.random.randn(1000)  \n",
    "\n",
    "\n",
    "\n",
    "\n",
    "w_lognormal = np.random.lognormal(mean = 2.5, sigma = 0.5, size =  1000)\n",
    "\n",
    "\n",
    "w_lognormal\n",
    "\n",
    "draws = np.exp(2.5 + 0.5 * q_lognormal)\n",
    "draws\n",
    "\n",
    "\n",
    "\n",
    "\n",
    "#conjunto padrão de salários\n",
    "# w_min, w_max = 10, 60\n",
    "# w_default = np.linspace(w_min, w_max, n+1)"
   ]
  },
  {
   "cell_type": "code",
   "execution_count": 414,
   "metadata": {},
   "outputs": [
    {
     "data": {
      "text/plain": [
       "13.34021388368905"
      ]
     },
     "execution_count": 414,
     "metadata": {},
     "output_type": "execute_result"
    },
    {
     "data": {
      "text/plain": [
       "13.852286877237084"
      ]
     },
     "execution_count": 414,
     "metadata": {},
     "output_type": "execute_result"
    }
   ],
   "source": [
    "#conferindo se a média dos dois salários fica parecida\n",
    "\n",
    "np.mean(w_lognormal)\n",
    "\n",
    "np.mean(draws)\n",
    "\n",
    "#fica sim"
   ]
  },
  {
   "cell_type": "code",
   "execution_count": 419,
   "metadata": {},
   "outputs": [],
   "source": [
    "@jitclass(mccontinuous_data)\n",
    "class McContinuous:\n",
    "\n",
    "    def __init__(self, c=25, β=0.99, σ = 0.5, μ = 2.5,  w=w_default, q=q_default):\n",
    "\n",
    "        self.c, self.β = c, β\n",
    "        self.σ, self.μ = σ, μ\n",
    "        \n",
    "        \n",
    "        self.w, self.q = w_lognormal, q_default\n",
    "    def w_reserva(self, max_iter=500, tol=1e-5):\n",
    "        \"\"\"\n",
    "        o salário reserva no caso contínuo\n",
    "        \n",
    "        o valor de continuar v(s) é uma média ponderada dos salários possíveis\n",
    "        pelas probabilidades de consegui-los\n",
    "        \"\"\"\n",
    "        # Simplify names - agora com complementos\n",
    "        c, β, w, q = self.c, self.β, self.w, self.q\n",
    "        σ, μ = self.σ, self.μ\n",
    "        \n",
    "        \n",
    "        #chute inicial para h\n",
    "        h = np.mean(w) / (1-β)\n",
    "        i = 0\n",
    "        error = tol + 1\n",
    "        \n",
    "        \n",
    "        while i < max_iter and error > tol:\n",
    "                   \n",
    "            arg_max = np.maximum( w/(1-β), h) #argumento da integral\n",
    "            integral = np.mean(arg_max)\n",
    "        \n",
    "            h_next = c +   β * integral \n",
    "        \n",
    "            error = np.abs(h_next - h) #diferença entre h atual e próximo\n",
    "        \n",
    "            i = i + 1\n",
    "        \n",
    "            h = h_next\n",
    "        \n",
    "        return (1-β) * h\n",
    "    \n",
    "\n"
   ]
  },
  {
   "cell_type": "code",
   "execution_count": 435,
   "metadata": {},
   "outputs": [
    {
     "data": {
      "text/plain": [
       "32.09567084997061"
      ]
     },
     "execution_count": 435,
     "metadata": {},
     "output_type": "execute_result"
    }
   ],
   "source": [
    "mcmc = McContinuous()\n",
    "mcmc.w_reserva()"
   ]
  },
  {
   "cell_type": "code",
   "execution_count": 437,
   "metadata": {},
   "outputs": [],
   "source": [
    "#investiguemos como o salário varia com os parâmetros\n",
    "\n",
    "grid_size = 25\n",
    "R = np.empty((grid_size, grid_size))\n",
    "\n",
    "c_vals = np.linspace(10.0, 30.0, grid_size)\n",
    "β_vals = np.linspace(0.9, 0.99, grid_size)\n",
    "\n",
    "for i, c in enumerate(c_vals):\n",
    "    for j, β in enumerate(β_vals):\n",
    "        mcmc = McContinuous(c=c, β=β)\n",
    "        R[i, j] = mcmc.w_reserva()"
   ]
  },
  {
   "cell_type": "code",
   "execution_count": 439,
   "metadata": {},
   "outputs": [
    {
     "data": {
      "text/plain": [
       "<a list of 7 text.Text objects>"
      ]
     },
     "execution_count": 439,
     "metadata": {},
     "output_type": "execute_result"
    },
    {
     "data": {
      "text/plain": [
       "<matplotlib.colorbar.Colorbar at 0x1950671ea48>"
      ]
     },
     "execution_count": 439,
     "metadata": {},
     "output_type": "execute_result"
    },
    {
     "data": {
      "text/plain": [
       "Text(0.5, 1.0, 'reservation wage')"
      ]
     },
     "execution_count": 439,
     "metadata": {},
     "output_type": "execute_result"
    },
    {
     "data": {
      "text/plain": [
       "Text(0.5, 0, '$c$')"
      ]
     },
     "execution_count": 439,
     "metadata": {},
     "output_type": "execute_result"
    },
    {
     "data": {
      "text/plain": [
       "Text(0, 0.5, '$β$')"
      ]
     },
     "execution_count": 439,
     "metadata": {},
     "output_type": "execute_result"
    },
    {
     "data": {
      "image/png": "[encoded data removed]",
      "text/plain": [
       "<Figure size 432x288 with 2 Axes>"
      ]
     },
     "metadata": {
      "needs_background": "light"
     },
     "output_type": "display_data"
    }
   ],
   "source": [
    "fig, ax = plt.subplots()\n",
    "\n",
    "cs1 = ax.contourf(c_vals, β_vals, R.T, alpha=0.75)\n",
    "ctr1 = ax.contour(c_vals, β_vals, R.T)\n",
    "\n",
    "plt.clabel(ctr1, inline=1, fontsize=13)\n",
    "plt.colorbar(cs1, ax=ax)\n",
    "\n",
    "\n",
    "ax.set_title(\"reservation wage\")\n",
    "ax.set_xlabel(\"$c$\", fontsize=16)\n",
    "ax.set_ylabel(\"$β$\", fontsize=16)\n",
    "\n",
    "ax.ticklabel_format(useOffset=False)\n",
    "\n",
    "plt.show()"
   ]
  },
  {
   "cell_type": "markdown",
   "metadata": {},
   "source": [
    "Meus exercícios estão um pouco diferentes do gabarito\n",
    "\n",
    "\n",
    "Acho que estão corretos\n",
    "\n",
    "A parte que está um pouco duvidosa é a njit no exercício 1, parece que ele não está otimizando"
   ]
  }
 ],
 "metadata": {
  "kernelspec": {
   "display_name": "Python 3",
   "language": "python",
   "name": "python3"
  },
  "language_info": {
   "codemirror_mode": {
    "name": "ipython",
    "version": 3
   },
   "file_extension": ".py",
   "mimetype": "text/x-python",
   "name": "python",
   "nbconvert_exporter": "python",
   "pygments_lexer": "ipython3",
   "version": "3.7.4"
  }
 },
 "nbformat": 4,
 "nbformat_minor": 2
}
