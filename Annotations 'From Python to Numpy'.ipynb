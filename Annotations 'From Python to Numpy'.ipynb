{
 "cells": [
  {
   "cell_type": "markdown",
   "metadata": {},
   "source": [
    "Minhas anotações sobre o livro 'From Python to Numpy': https://www.labri.fr/perso/nrougier/from-python-to-numpy/"
   ]
  },
  {
   "cell_type": "code",
   "execution_count": 2,
   "metadata": {},
   "outputs": [],
   "source": [
    "import numpy as np\n",
    "import scipy as sp\n",
    "\n",
    "import matplotlib.pyplot as plt"
   ]
  },
  {
   "cell_type": "code",
   "execution_count": 3,
   "metadata": {},
   "outputs": [],
   "source": [
    "#para mostrar todos os resultados e não apenas o último\n",
    "from IPython.core.interactiveshell import InteractiveShell\n",
    "\n",
    "InteractiveShell.ast_node_interactivity = \"all\""
   ]
  },
  {
   "cell_type": "code",
   "execution_count": 4,
   "metadata": {},
   "outputs": [
    {
     "data": {
      "text/plain": [
       "True"
      ]
     },
     "execution_count": 4,
     "metadata": {},
     "output_type": "execute_result"
    }
   ],
   "source": [
    "#abre o site\n",
    "import webbrowser\n",
    "\n",
    "webbrowser.open('https://www.labri.fr/perso/nrougier/from-python-to-numpy/')"
   ]
  },
  {
   "cell_type": "markdown",
   "metadata": {},
   "source": [
    "### Introdução"
   ]
  },
  {
   "cell_type": "markdown",
   "metadata": {},
   "source": [
    "Um código otimizado em numpy muitas vezes será difícil de ler.\n",
    "\n",
    "Recomenda-se comentar o código na hora que estiver programando. Depois de alguns dias já é capaz de esquecermos tudo\n",
    "\n",
    "Se possível, colocar até figuras explicando o que se quer fazer"
   ]
  },
  {
   "cell_type": "markdown",
   "metadata": {},
   "source": [
    "### 3 Anatomy of an Array\n",
    "\n",
    "Revisão sobre as coisas básicas de layout de arrays. Fundamental para entender os demais capítulos do livro"
   ]
  },
  {
   "cell_type": "markdown",
   "metadata": {},
   "source": [
    "O primeiro problema é limpar um array do tipo np.float32 da maneira mais rápida possível\n"
   ]
  },
  {
   "cell_type": "code",
   "execution_count": 5,
   "metadata": {},
   "outputs": [],
   "source": [
    "Z = np.ones(4 * 1000000, np.float32)\n",
    "\n",
    "#uma maneira é fazer assim\n",
    "Z[...] = 0"
   ]
  },
  {
   "cell_type": "code",
   "execution_count": 6,
   "metadata": {},
   "outputs": [
    {
     "data": {
      "text/plain": [
       "array([0., 0., 0., ..., 0., 0., 0.], dtype=float32)"
      ]
     },
     "execution_count": 6,
     "metadata": {},
     "output_type": "execute_result"
    }
   ],
   "source": [
    "Z"
   ]
  },
  {
   "cell_type": "code",
   "execution_count": 1,
   "metadata": {},
   "outputs": [
    {
     "ename": "NameError",
     "evalue": "name 'np' is not defined",
     "output_type": "error",
     "traceback": [
      "\u001b[1;31m---------------------------------------------------------------------------\u001b[0m",
      "\u001b[1;31mNameError\u001b[0m                                 Traceback (most recent call last)",
      "\u001b[1;32m<ipython-input-1-41de3738234c>\u001b[0m in \u001b[0;36m<module>\u001b[1;34m\u001b[0m\n\u001b[1;32m----> 1\u001b[1;33m \u001b[0mZ\u001b[0m \u001b[1;33m=\u001b[0m \u001b[0mnp\u001b[0m\u001b[1;33m.\u001b[0m\u001b[0mones\u001b[0m\u001b[1;33m(\u001b[0m\u001b[1;36m4\u001b[0m \u001b[1;33m*\u001b[0m \u001b[1;36m1000000\u001b[0m\u001b[1;33m,\u001b[0m \u001b[0mnp\u001b[0m\u001b[1;33m.\u001b[0m\u001b[0mfloat32\u001b[0m\u001b[1;33m)\u001b[0m\u001b[1;33m\u001b[0m\u001b[1;33m\u001b[0m\u001b[0m\n\u001b[0m\u001b[0;32m      2\u001b[0m \u001b[0mZ\u001b[0m\u001b[1;33m\u001b[0m\u001b[1;33m\u001b[0m\u001b[0m\n",
      "\u001b[1;31mNameError\u001b[0m: name 'np' is not defined"
     ]
    }
   ],
   "source": [
    "Z = np.ones(4 * 1000000, np.float32)\n",
    "Z"
   ]
  },
  {
   "cell_type": "markdown",
   "metadata": {},
   "source": [
    "#como os dados desse array são compatíveis com outros tipos de dados (ex: int8),\n",
    "#podemos tentar limpar o array considerando que ele tem diferentes tipos de dados\n",
    "\n",
    "#benchmark\n",
    "Z = np.ones(4 * 1000000, np.float32)\n",
    "%timeit Z.view(np.float32)[...] = 0\n",
    "\n",
    "Z = np.ones(4 * 1000000, np.float32)\n",
    "%timeit Z.view(np.float16)[...] = 0\n",
    "\n",
    "Z = np.ones(4 * 1000000, np.float32)\n",
    "%timeit Z.view(np.float64)[...] = 0\n",
    "\n",
    "Z = np.ones(4 * 1000000, np.float32)\n",
    "%timeit Z.view(np.int32)[...] = 0\n",
    "\n",
    "Z = np.ones(4 * 1000000, np.float32)\n",
    "%timeit Z.view(np.int16)[...] = 0\n",
    "\n",
    "Z = np.ones(4 * 1000000, np.float32)\n",
    "%timeit Z.view(np.int8)[...] = 0\n",
    "\n",
    "\n",
    "#o autor diz que int8 foi o mais rápido para ele\n",
    "#aqui o mais rápido foi float16"
   ]
  },
  {
   "cell_type": "markdown",
   "metadata": {},
   "source": [
    "**Conclusão**: visualizar o array com o formato de dados (dtype) correto ajuda a acelerar a computação"
   ]
  },
  {
   "cell_type": "markdown",
   "metadata": {},
   "source": [
    "O que é um array? Um array é um bloco de dados onde cada elemento pode ser acessado usando um determinado índice\n",
    "\n",
    "Esse índice é determinado pelo formato do array (shape) e pelo tipo de data (dtype). Estes são os dois ingredientes necessários para fazer um array"
   ]
  },
  {
   "cell_type": "code",
   "execution_count": 9,
   "metadata": {},
   "outputs": [
    {
     "data": {
      "text/plain": [
       "array([[0, 1, 2],\n",
       "       [3, 4, 5],\n",
       "       [6, 7, 8]], dtype=int16)"
      ]
     },
     "execution_count": 9,
     "metadata": {},
     "output_type": "execute_result"
    }
   ],
   "source": [
    "z = np.arange(9).reshape(3,3).astype(np.int16)\n",
    "z"
   ]
  },
  {
   "cell_type": "code",
   "execution_count": 10,
   "metadata": {},
   "outputs": [
    {
     "data": {
      "text/plain": [
       "2"
      ]
     },
     "execution_count": 10,
     "metadata": {},
     "output_type": "execute_result"
    },
    {
     "data": {
      "text/plain": [
       "(3, 3)"
      ]
     },
     "execution_count": 10,
     "metadata": {},
     "output_type": "execute_result"
    },
    {
     "data": {
      "text/plain": [
       "2"
      ]
     },
     "execution_count": 10,
     "metadata": {},
     "output_type": "execute_result"
    }
   ],
   "source": [
    "#tamanho dos elementos do array em bytes\n",
    "z.itemsize\n",
    "\n",
    "#shape\n",
    "z.shape\n",
    "\n",
    "#número de dimensões\n",
    "z.ndim"
   ]
  },
  {
   "cell_type": "markdown",
   "metadata": {},
   "source": [
    "Depois dessa parte, o autor fala em stride e start offset e end offset.\n",
    "\n",
    "Tem a ver com a quantidade de memória necessária para fazer algumas operações no vetor. Não entendi mais que isso."
   ]
  },
  {
   "cell_type": "markdown",
   "metadata": {},
   "source": [
    "Podemos visualizar os arrays usando diferentes layouts"
   ]
  },
  {
   "cell_type": "code",
   "execution_count": 11,
   "metadata": {},
   "outputs": [
    {
     "data": {
      "text/plain": [
       "3"
      ]
     },
     "execution_count": 11,
     "metadata": {},
     "output_type": "execute_result"
    },
    {
     "data": {
      "text/plain": [
       "3"
      ]
     },
     "execution_count": 11,
     "metadata": {},
     "output_type": "execute_result"
    },
    {
     "data": {
      "text/plain": [
       "3"
      ]
     },
     "execution_count": 11,
     "metadata": {},
     "output_type": "execute_result"
    }
   ],
   "source": [
    "#para ver a dimensão x\n",
    "z.shape[0]\n",
    "\n",
    "#para ver a dimensão de y\n",
    "z.shape[1]\n",
    "\n",
    "#para o tamanho de z\n",
    "len(z)"
   ]
  },
  {
   "cell_type": "code",
   "execution_count": 12,
   "metadata": {},
   "outputs": [
    {
     "data": {
      "text/plain": [
       "array([[0, 1],\n",
       "       [2, 3],\n",
       "       [4, 5],\n",
       "       [6, 7]], dtype=int8)"
      ]
     },
     "execution_count": 12,
     "metadata": {},
     "output_type": "execute_result"
    }
   ],
   "source": [
    "#vamos repetir o processo acima para um array de shape diferente\n",
    "y = np.arange(8).reshape(4,2).astype(np.int8)\n",
    "\n",
    "y"
   ]
  },
  {
   "cell_type": "code",
   "execution_count": 13,
   "metadata": {},
   "outputs": [
    {
     "data": {
      "text/plain": [
       "4"
      ]
     },
     "execution_count": 13,
     "metadata": {},
     "output_type": "execute_result"
    },
    {
     "data": {
      "text/plain": [
       "2"
      ]
     },
     "execution_count": 13,
     "metadata": {},
     "output_type": "execute_result"
    },
    {
     "data": {
      "text/plain": [
       "4"
      ]
     },
     "execution_count": 13,
     "metadata": {},
     "output_type": "execute_result"
    }
   ],
   "source": [
    "#dimensão x\n",
    "y.shape[0]\n",
    "\n",
    "#dimensão y\n",
    "y.shape[1]\n",
    "\n",
    "#tamanho de y\n",
    "len(y)\n",
    "\n",
    "#o len(vetor) sempre retorna o número de \"linhas\" de um vetor?"
   ]
  },
  {
   "cell_type": "code",
   "execution_count": 14,
   "metadata": {},
   "outputs": [
    {
     "data": {
      "text/plain": [
       "8"
      ]
     },
     "execution_count": 14,
     "metadata": {},
     "output_type": "execute_result"
    }
   ],
   "source": [
    "#se quisermos saber quantas células tem no array, usemos .size\n",
    "\n",
    "y.size"
   ]
  },
  {
   "cell_type": "code",
   "execution_count": 15,
   "metadata": {},
   "outputs": [
    {
     "data": {
      "text/plain": [
       "array([0, 1, 2, 3, 4, 5, 6, 7])"
      ]
     },
     "execution_count": 15,
     "metadata": {},
     "output_type": "execute_result"
    },
    {
     "data": {
      "text/plain": [
       "array([1, 2, 3, 4, 5, 6])"
      ]
     },
     "execution_count": 15,
     "metadata": {},
     "output_type": "execute_result"
    },
    {
     "data": {
      "text/plain": [
       "array([1, 2, 3, 4, 5, 6])"
      ]
     },
     "execution_count": 15,
     "metadata": {},
     "output_type": "execute_result"
    },
    {
     "data": {
      "text/plain": [
       "array([1, 3, 5])"
      ]
     },
     "execution_count": 15,
     "metadata": {},
     "output_type": "execute_result"
    },
    {
     "data": {
      "text/plain": [
       "array([0, 2, 4, 6])"
      ]
     },
     "execution_count": 15,
     "metadata": {},
     "output_type": "execute_result"
    }
   ],
   "source": [
    "#pausa para double colon\n",
    "#vector[start:end:step]\n",
    "\n",
    "x = np.arange(8)\n",
    "x\n",
    "\n",
    "#começando em 1 e terminando em 7\n",
    "x[1:7]\n",
    "\n",
    "#começando em 1, terminando em 7, pulando de 1 em 1 (deve dar o mesmo resultado acima)\n",
    "x[1:7:1]\n",
    "\n",
    "#começando em 1, terminando em 7, pulando de 2 em 2\n",
    "x[1:7:2]\n",
    "\n",
    "#considera a sequência toda, mas pega pulando de 2 em 2\n",
    "x[::2]\n",
    "\n",
    "#double colon sempre pega o primeiro elemento, cujo índice é zero"
   ]
  },
  {
   "cell_type": "code",
   "execution_count": 16,
   "metadata": {},
   "outputs": [
    {
     "data": {
      "text/plain": [
       "array([[0, 1, 2],\n",
       "       [3, 4, 5],\n",
       "       [6, 7, 8]], dtype=int16)"
      ]
     },
     "execution_count": 16,
     "metadata": {},
     "output_type": "execute_result"
    },
    {
     "data": {
      "text/plain": [
       "array([[0, 2],\n",
       "       [6, 8]], dtype=int16)"
      ]
     },
     "execution_count": 16,
     "metadata": {},
     "output_type": "execute_result"
    }
   ],
   "source": [
    "#podemos também retirar um pedaço de Z\n",
    "z\n",
    "\n",
    "#pulando de dois em dois elementos, tanto nas linhas quanto nas colunas\n",
    "z[::2,::2]\n"
   ]
  },
  {
   "cell_type": "code",
   "execution_count": 17,
   "metadata": {},
   "outputs": [
    {
     "data": {
      "text/plain": [
       "array([ 0,  2,  4,  6,  8, 10, 12, 14])"
      ]
     },
     "execution_count": 17,
     "metadata": {},
     "output_type": "execute_result"
    },
    {
     "data": {
      "text/plain": [
       "array([ 0,  2,  4,  6,  8, 10, 12, 14])"
      ]
     },
     "execution_count": 17,
     "metadata": {},
     "output_type": "execute_result"
    }
   ],
   "source": [
    "#indexação usando ellipsis\n",
    "\n",
    "#vamos buscar todos os primeiros elementos da quarta dimensão de um array\n",
    "a = np.arange(16).reshape(2,2,2,2)\n",
    "\n",
    "#usando ellipsis\n",
    "a[...,0].flatten()\n",
    "\n",
    "#usando notação padrão\n",
    "a[:,:,:,0].flatten()\n",
    "\n",
    "#resumindo: é uma maneira de economizar notação para arrays com várias dimensões"
   ]
  },
  {
   "cell_type": "markdown",
   "metadata": {},
   "source": [
    "#### 3.3 Views and Copies"
   ]
  },
  {
   "cell_type": "markdown",
   "metadata": {},
   "source": [
    "Qual a diferença entre indexing e fancy indexing?\n",
    "\n",
    "1. indexing sempre retorn uma view do array\n",
    "2. fancy indexing sempre retorna uma cópia (deep copy) do array"
   ]
  },
  {
   "cell_type": "code",
   "execution_count": 18,
   "metadata": {},
   "outputs": [
    {
     "data": {
      "text/plain": [
       "array([1., 1., 1., 0., 0., 0., 0., 0., 0.])"
      ]
     },
     "execution_count": 18,
     "metadata": {},
     "output_type": "execute_result"
    }
   ],
   "source": [
    "z = np.zeros(9)\n",
    "z_view = z[:3]\n",
    "z_view[:] = 1\n",
    "z\n",
    "\n",
    "#uma indexação alternativa é usar reticências (ellipsis) como índice. Isso retorna todos os elementos do array"
   ]
  },
  {
   "cell_type": "code",
   "execution_count": 19,
   "metadata": {},
   "outputs": [
    {
     "data": {
      "text/plain": [
       "array([0., 0., 0., 0., 0., 0., 0., 0., 0.])"
      ]
     },
     "execution_count": 19,
     "metadata": {},
     "output_type": "execute_result"
    }
   ],
   "source": [
    "#quando colocamos um par de chaves a mais, fazemos fancy indexing, ie, criamos uma cópia\n",
    "# z_copy = z[[:3]] #repare que ele não aceita essa notação em fancy indexing\n",
    "\n",
    "z = np.zeros(9)\n",
    "z_copy = z[[0,1,2]]\n",
    "z_copy[...] = 1\n",
    "z"
   ]
  },
  {
   "cell_type": "markdown",
   "metadata": {},
   "source": [
    "Como fancy indexing não aceita índices com ':', é uma boa prática criar variáveis para guardar os índices desejados\n",
    "\n",
    "Ex.: index = [0,1,2] >> \n",
    "z[index]"
   ]
  },
  {
   "cell_type": "code",
   "execution_count": 20,
   "metadata": {},
   "outputs": [
    {
     "data": {
      "text/plain": [
       "array([0., 0., 0.])"
      ]
     },
     "execution_count": 20,
     "metadata": {},
     "output_type": "execute_result"
    },
    {
     "data": {
      "text/plain": [
       "array([0., 0., 0.])"
      ]
     },
     "execution_count": 20,
     "metadata": {},
     "output_type": "execute_result"
    }
   ],
   "source": [
    "z = np.zeros(9)\n",
    "\n",
    "z_view = z[:3]\n",
    "z_view\n",
    "\n",
    "\n",
    "index = [0,1,2]\n",
    "z_copy = z[index]\n",
    "z_copy"
   ]
  },
  {
   "cell_type": "markdown",
   "metadata": {},
   "source": [
    "E quando a gente não sabe se o array é uma cópia ou não? \n",
    "\n",
    "Checamos o atributo '.base'"
   ]
  },
  {
   "cell_type": "code",
   "execution_count": 21,
   "metadata": {},
   "outputs": [
    {
     "data": {
      "text/plain": [
       "True"
      ]
     },
     "execution_count": 21,
     "metadata": {},
     "output_type": "execute_result"
    },
    {
     "data": {
      "text/plain": [
       "False"
      ]
     },
     "execution_count": 21,
     "metadata": {},
     "output_type": "execute_result"
    }
   ],
   "source": [
    "z = np.zeros(9)\n",
    "z_view = z[:3]\n",
    "z_copy = z[[0,1,2]]\n",
    "\n",
    "\n",
    "z_view.base is z\n",
    "\n",
    "z_copy.base is z\n",
    "\n",
    "\n"
   ]
  },
  {
   "cell_type": "code",
   "execution_count": 22,
   "metadata": {},
   "outputs": [
    {
     "data": {
      "text/plain": [
       "True"
      ]
     },
     "execution_count": 22,
     "metadata": {},
     "output_type": "execute_result"
    },
    {
     "data": {
      "text/plain": [
       "False"
      ]
     },
     "execution_count": 22,
     "metadata": {},
     "output_type": "execute_result"
    },
    {
     "data": {
      "text/plain": [
       "False"
      ]
     },
     "execution_count": 22,
     "metadata": {},
     "output_type": "execute_result"
    },
    {
     "data": {
      "text/plain": [
       "False"
      ]
     },
     "execution_count": 22,
     "metadata": {},
     "output_type": "execute_result"
    }
   ],
   "source": [
    "#algumas funções do python retornam uma view quando possível (ex: ravel()), enquanto outras retornam copy (ex: flatten())\n",
    "\n",
    "z = np.zeros((5,5))\n",
    "\n",
    "z.ravel().base is z\n",
    "\n",
    "z.flatten().base is z\n",
    "\n",
    "#agora tentando com indexação\n",
    "z[::2,::2].ravel().base is z\n",
    "z[::2,::2].ravel().base is z[::2,::2]\n",
    "\n",
    "#ou seja, ravel() retorna copy quando tem indexação (slicing) e view quando não tem\n",
    "\n"
   ]
  },
  {
   "cell_type": "markdown",
   "metadata": {},
   "source": [
    "Cópias temporárias\n",
    "\n",
    "Operações básicas com arrays geram cópias temporárias deles. Isso pode ser um problema que deixa o código mais lento"
   ]
  },
  {
   "cell_type": "code",
   "execution_count": 23,
   "metadata": {},
   "outputs": [],
   "source": [
    "#exemplo \n",
    "x = np.ones(10, dtype = np.int)\n",
    "y = np.ones(10, dtype = np.int)\n",
    "\n",
    "a = 2 * x + 2 * y\n",
    "\n",
    "#nesse caso, temos 3 arrays temporários: um para guardar 2*x, outro para 2*y e um terceiro para 2*x + 2*y\n"
   ]
  },
  {
   "cell_type": "code",
   "execution_count": 24,
   "metadata": {},
   "outputs": [
    {
     "data": {
      "text/plain": [
       "array([4, 4, 4, 4, 4, 4, 4, 4, 4, 4])"
      ]
     },
     "execution_count": 24,
     "metadata": {},
     "output_type": "execute_result"
    }
   ],
   "source": [
    "#como melhorar o código acima quando só precisamos do resultado final?\n",
    "\n",
    "x = np.ones(10, dtype = np.int)\n",
    "y = np.ones(10, dtype = np.int)\n",
    "\n",
    "#multiplicando cada elemento de x e y por 2\n",
    "x = np.multiply(x, 2, out = x)\n",
    "y = np.multiply(y, 2, out = y)\n",
    "\n",
    "#out é o resultado onde os cálculos são armazenados. Então nem precisava de x = ..., bastava out = x\n",
    "\n",
    "#somando \n",
    "np.add(x, y, out = x)"
   ]
  },
  {
   "cell_type": "markdown",
   "metadata": {},
   "source": [
    "#### 3.4 Conclusão\n",
    "\n",
    "Exercício de conclusão: dados dois vetores z1 e z2, queremos saber se z1 é uma view de z2. Se sim, qual é essa view?"
   ]
  },
  {
   "cell_type": "code",
   "execution_count": 7,
   "metadata": {
    "scrolled": true
   },
   "outputs": [
    {
     "data": {
      "text/plain": [
       "array([0, 1, 2, 3, 4, 5, 6, 7, 8, 9])"
      ]
     },
     "execution_count": 7,
     "metadata": {},
     "output_type": "execute_result"
    },
    {
     "data": {
      "text/plain": [
       "array([1, 3, 5, 7])"
      ]
     },
     "execution_count": 7,
     "metadata": {},
     "output_type": "execute_result"
    }
   ],
   "source": [
    "z1 = np.arange(10)\n",
    "z1\n",
    "\n",
    "\n",
    "#começa em 1, termina no núltimo (-1), e pula de dois em dois\n",
    "z2 = z1[1:8:2] #equivalente a z1[1:-1:2]\n",
    "z2\n",
    "\n",
    "#note que se end = 8 ou end = 9, o resultado em z1 é igual. Acho que o autor do código não está preocupado com isso "
   ]
  },
  {
   "cell_type": "code",
   "execution_count": 8,
   "metadata": {},
   "outputs": [
    {
     "data": {
      "text/plain": [
       "True"
      ]
     },
     "execution_count": 8,
     "metadata": {},
     "output_type": "execute_result"
    }
   ],
   "source": [
    "#a primeira parte é checar se z2 é uma view de z1\n",
    "#fazemos isso usando o atributo .base\n",
    "z2.base is z1\n",
    "\n",
    "#True, então sabemos que z2 é view de z1"
   ]
  },
  {
   "cell_type": "code",
   "execution_count": 10,
   "metadata": {
    "scrolled": true
   },
   "outputs": [
    {
     "data": {
      "text/plain": [
       "array([0, 1, 2, 3, 4, 5, 6, 7, 8, 9])"
      ]
     },
     "execution_count": 10,
     "metadata": {},
     "output_type": "execute_result"
    },
    {
     "data": {
      "text/plain": [
       "array([1, 3, 5, 7])"
      ]
     },
     "execution_count": 10,
     "metadata": {},
     "output_type": "execute_result"
    },
    {
     "data": {
      "text/plain": [
       "(array([[1]], dtype=int64), array([[2]], dtype=int64), array(1))"
      ]
     },
     "execution_count": 10,
     "metadata": {},
     "output_type": "execute_result"
    },
    {
     "name": "stdout",
     "output_type": "stream",
     "text": [
      "z2 is not a view of z1\n"
     ]
    }
   ],
   "source": [
    "#primeira tentativa\n",
    "z1 = np.arange(10)\n",
    "z1\n",
    "\n",
    "#começa em 1, termina no núltimo (-1), e pula de dois em dois\n",
    "z2 = z1[1:8:2] #equivalente a z1[1:-1:2]\n",
    "z2\n",
    "\n",
    "def check_view(z1, z2):\n",
    "    \n",
    "    \n",
    "    #check if z2 is a view of z1\n",
    "    if(z2.base is z1):\n",
    "        \n",
    "        #extracts the index of the first element\n",
    "        start = np.array(np.where(z1 == z2[0]))\n",
    "        \n",
    "        #extracts the index of the last element, them add it with the start to compare with the original array\n",
    "        end = np.array(np.where(z1[::-1] == z2[-1]))\n",
    "#         end = np.subtract(len(z1), end)\n",
    "        \n",
    "        \n",
    "        #calculates the step based on the sizes of the arrays\n",
    "        step = np.divide(len(z1[start.item():end.item()]), len(z2))\n",
    "        step = np.array(np.ceil(step), dtype = np.int)\n",
    "        \n",
    "        \n",
    "        #returns the desired arrays\n",
    "        return start, end, step\n",
    "        \n",
    "    else:\n",
    "        return print('z2 is not a view of z1')\n",
    "        \n",
    "        \n",
    "    \n",
    "#test\n",
    "check_view(z1, z2)\n",
    "\n",
    "#test with a deep copy, should return \"not a view\"\n",
    "y2 = z1[[0,1,2]]\n",
    "check_view(z1, y2)"
   ]
  },
  {
   "cell_type": "code",
   "execution_count": 11,
   "metadata": {},
   "outputs": [
    {
     "data": {
      "text/plain": [
       "array([0, 1, 2, 3, 4, 5, 6, 7, 8, 9])"
      ]
     },
     "execution_count": 11,
     "metadata": {},
     "output_type": "execute_result"
    },
    {
     "data": {
      "text/plain": [
       "array([9, 8, 7, 6, 5, 4, 3, 2, 1, 0])"
      ]
     },
     "execution_count": 11,
     "metadata": {},
     "output_type": "execute_result"
    },
    {
     "data": {
      "text/plain": [
       "(array([[1]], dtype=int64), array([[2]], dtype=int64), array(1))"
      ]
     },
     "execution_count": 11,
     "metadata": {},
     "output_type": "execute_result"
    }
   ],
   "source": [
    "#checando para outros dados\n",
    "z3 = z1[1:8:3]\n",
    "\n",
    "\n",
    "z1[:]\n",
    "z1[::-1]\n",
    "check_view(z1, z3)\n",
    "\n",
    "#o resultado aqui está errado tanto no end quanto no step"
   ]
  },
  {
   "cell_type": "code",
   "execution_count": 33,
   "metadata": {},
   "outputs": [
    {
     "data": {
      "text/plain": [
       "array([0, 1, 2, 3, 4, 5, 6, 7, 8, 9])"
      ]
     },
     "execution_count": 33,
     "metadata": {},
     "output_type": "execute_result"
    },
    {
     "data": {
      "text/plain": [
       "array([2])"
      ]
     },
     "execution_count": 33,
     "metadata": {},
     "output_type": "execute_result"
    },
    {
     "data": {
      "text/plain": [
       "array([2])"
      ]
     },
     "execution_count": 33,
     "metadata": {},
     "output_type": "execute_result"
    },
    {
     "data": {
      "text/plain": [
       "array([2])"
      ]
     },
     "execution_count": 33,
     "metadata": {},
     "output_type": "execute_result"
    },
    {
     "data": {
      "text/plain": [
       "array([2])"
      ]
     },
     "execution_count": 33,
     "metadata": {},
     "output_type": "execute_result"
    }
   ],
   "source": [
    "#com step de tamanho 4\n",
    "z1 = np.arange(10)\n",
    "z1\n",
    "\n",
    "\n",
    "z4 = z1[2:6:4]\n",
    "z4\n",
    "\n",
    "#acho que quando o resultado tem só um elemento, o step fica indefinido. \n",
    "\n",
    "#outras maneiras de achar z4:\n",
    "#colocando mesmo stop = 6 e step > 4\n",
    "z5 = z1[2:6:5]\n",
    "z5\n",
    "\n",
    "z6 = z1[2:6:6]\n",
    "z6\n",
    "\n",
    "#colocando stop < 6 e step < 4\n",
    "y2 = z1[2:3:1]\n",
    "y2\n",
    "\n",
    "\n",
    "\n"
   ]
  },
  {
   "cell_type": "markdown",
   "metadata": {},
   "source": [
    "Cheguei num ponto que não sei se está certo. Vou tentar replicar a função da solução para ver se ela dá conta de z4\n"
   ]
  },
  {
   "cell_type": "code",
   "execution_count": 12,
   "metadata": {
    "scrolled": true
   },
   "outputs": [
    {
     "data": {
      "text/plain": [
       "array([0, 1, 2, 3, 4, 5, 6, 7, 8, 9])"
      ]
     },
     "execution_count": 12,
     "metadata": {},
     "output_type": "execute_result"
    },
    {
     "data": {
      "text/plain": [
       "array([1, 3, 5, 7])"
      ]
     },
     "execution_count": 12,
     "metadata": {},
     "output_type": "execute_result"
    },
    {
     "data": {
      "text/plain": [
       "(1, 8, 2)"
      ]
     },
     "execution_count": 12,
     "metadata": {},
     "output_type": "execute_result"
    },
    {
     "data": {
      "text/plain": [
       "array([2])"
      ]
     },
     "execution_count": 12,
     "metadata": {},
     "output_type": "execute_result"
    },
    {
     "data": {
      "text/plain": [
       "(2, 3, 4)"
      ]
     },
     "execution_count": 12,
     "metadata": {},
     "output_type": "execute_result"
    },
    {
     "name": "stdout",
     "output_type": "stream",
     "text": [
      "onde é 3, deveria ser 6\n"
     ]
    },
    {
     "data": {
      "text/plain": [
       "4"
      ]
     },
     "execution_count": 12,
     "metadata": {},
     "output_type": "execute_result"
    },
    {
     "data": {
      "text/plain": [
       "(16,)"
      ]
     },
     "execution_count": 12,
     "metadata": {},
     "output_type": "execute_result"
    },
    {
     "data": {
      "text/plain": [
       "array([2, 6])"
      ]
     },
     "execution_count": 12,
     "metadata": {},
     "output_type": "execute_result"
    },
    {
     "data": {
      "text/plain": [
       "4"
      ]
     },
     "execution_count": 12,
     "metadata": {},
     "output_type": "execute_result"
    },
    {
     "data": {
      "text/plain": [
       "(16,)"
      ]
     },
     "execution_count": 12,
     "metadata": {},
     "output_type": "execute_result"
    },
    {
     "data": {
      "text/plain": [
       "(4,)"
      ]
     },
     "execution_count": 12,
     "metadata": {},
     "output_type": "execute_result"
    }
   ],
   "source": [
    "def check_sol(z1,z2):\n",
    "    #function based on the solution of the book\n",
    "    if(z2.base is z1):\n",
    "        \n",
    "        step = z2.strides[0] // z1.strides[0]\n",
    "        \n",
    "        \n",
    "        offset_start = np.byte_bounds(z2)[0] - np.byte_bounds(z1)[0]\n",
    "        \n",
    "        \n",
    "        offset_stop = np.byte_bounds(z2)[-1] - np.byte_bounds(z1)[-1]\n",
    "        \n",
    "        \n",
    "        start = offset_start // z1.itemsize\n",
    "        \n",
    "        stop = z1.size + offset_stop // z1.itemsize\n",
    "        \n",
    "        return start, stop, step\n",
    "        \n",
    "        \n",
    "    else:\n",
    "        return print('z2 is not a view of z1')\n",
    "    \n",
    "#test 1\n",
    "z1 = np.arange(10)\n",
    "z1\n",
    "\n",
    "#começa em 1, termina no núltimo (-1), e pula de dois em dois\n",
    "z2 = z1[1:8:2] #equivalente a z1[1:-1:2]\n",
    "z2\n",
    "\n",
    "check_sol(z1, z2)\n",
    "\n",
    "\n",
    "#test 2\n",
    "z4 = z1[2:6:4]\n",
    "z4\n",
    "\n",
    "check_sol(z1, z4)\n",
    "print('onde é 3, deveria ser 6')\n",
    "\n",
    "#dá um resultado estranho no stop. Vamos tentar melhorar isso\n",
    "z4.itemsize\n",
    "z4.strides\n",
    "\n",
    "\n",
    "z1[2::4]\n",
    "z1[2::4].itemsize\n",
    "z1[2::4].strides\n",
    "\n",
    "\n",
    "z1.strides\n",
    "#os strides são iguais\n",
    "\n",
    "\n",
    "\n",
    "    "
   ]
  },
  {
   "cell_type": "code",
   "execution_count": 13,
   "metadata": {},
   "outputs": [
    {
     "data": {
      "text/plain": [
       "4"
      ]
     },
     "execution_count": 13,
     "metadata": {},
     "output_type": "execute_result"
    },
    {
     "data": {
      "text/plain": [
       "4"
      ]
     },
     "execution_count": 13,
     "metadata": {},
     "output_type": "execute_result"
    },
    {
     "data": {
      "text/plain": [
       "4"
      ]
     },
     "execution_count": 13,
     "metadata": {},
     "output_type": "execute_result"
    },
    {
     "data": {
      "text/plain": [
       "(8,)"
      ]
     },
     "execution_count": 13,
     "metadata": {},
     "output_type": "execute_result"
    }
   ],
   "source": [
    "z1.itemsize\n",
    "z2.itemsize\n",
    "z1.strides[0]\n",
    "z2.strides\n",
    "\n",
    "#strides diz pra gente quanto de memória a gente gasta para andar para a coluna ao lado e para a linha abaixo"
   ]
  },
  {
   "cell_type": "code",
   "execution_count": 25,
   "metadata": {},
   "outputs": [
    {
     "data": {
      "text/plain": [
       "2"
      ]
     },
     "execution_count": 25,
     "metadata": {},
     "output_type": "execute_result"
    }
   ],
   "source": [
    "\n",
    "step = np.array(np.divide(z2.strides[0], z1.strides[0]),  dtype = np.int16)\n",
    "step.item()"
   ]
  },
  {
   "cell_type": "code",
   "execution_count": 36,
   "metadata": {},
   "outputs": [
    {
     "data": {
      "text/plain": [
       "array([0, 1, 2, 3, 4, 5, 6, 7, 8, 9])"
      ]
     },
     "execution_count": 36,
     "metadata": {},
     "output_type": "execute_result"
    },
    {
     "data": {
      "text/plain": [
       "array([1, 3, 5, 7])"
      ]
     },
     "execution_count": 36,
     "metadata": {},
     "output_type": "execute_result"
    },
    {
     "data": {
      "text/plain": [
       "(array([[1]], dtype=int64), array([[9]], dtype=int64), array(2, dtype=int16))"
      ]
     },
     "execution_count": 36,
     "metadata": {},
     "output_type": "execute_result"
    },
    {
     "data": {
      "text/plain": [
       "array([1, 3, 5, 7])"
      ]
     },
     "execution_count": 36,
     "metadata": {},
     "output_type": "execute_result"
    },
    {
     "name": "stdout",
     "output_type": "stream",
     "text": [
      "z2 is not a view of z1\n"
     ]
    },
    {
     "data": {
      "text/plain": [
       "array([2])"
      ]
     },
     "execution_count": 36,
     "metadata": {},
     "output_type": "execute_result"
    },
    {
     "data": {
      "text/plain": [
       "(array([[2]], dtype=int64), array([[6]], dtype=int64), array(4, dtype=int16))"
      ]
     },
     "execution_count": 36,
     "metadata": {},
     "output_type": "execute_result"
    },
    {
     "data": {
      "text/plain": [
       "array([2])"
      ]
     },
     "execution_count": 36,
     "metadata": {},
     "output_type": "execute_result"
    },
    {
     "name": "stdout",
     "output_type": "stream",
     "text": [
      "test with negative step\n"
     ]
    },
    {
     "data": {
      "text/plain": [
       "array([0, 1, 2, 3, 4, 5, 6, 7, 8])"
      ]
     },
     "execution_count": 36,
     "metadata": {},
     "output_type": "execute_result"
    },
    {
     "data": {
      "text/plain": [
       "array([8, 7, 6, 5, 4, 3, 2])"
      ]
     },
     "execution_count": 36,
     "metadata": {},
     "output_type": "execute_result"
    },
    {
     "data": {
      "text/plain": [
       "(array([[8]], dtype=int64), array([[1]], dtype=int64), array(-1, dtype=int16))"
      ]
     },
     "execution_count": 36,
     "metadata": {},
     "output_type": "execute_result"
    }
   ],
   "source": [
    "#vou incorporar strides na minha solução\n",
    "\n",
    "#tudo junto\n",
    "z1 = np.arange(10)\n",
    "z1\n",
    "\n",
    "#começa em 1, termina no núltimo (-1), e pula de dois em dois\n",
    "z2 = z1[1:8:2] #equivalente a z1[1:-1:2]\n",
    "z2\n",
    "\n",
    "\n",
    "\n",
    "def check_view2(z1, z2):\n",
    "#     breakpoint()\n",
    "    \n",
    "    #check if z2 is a view of z1\n",
    "    if(z2.base is z1):\n",
    "        \n",
    "        #extracts the index of the first element\n",
    "        start = np.array(np.where(z1 == z2[0]))\n",
    "        \n",
    "        #extracts the index of the last element, them add it with the start to compare with the original array\n",
    "#         end = np.array(np.where(z1[::-1] == z2[-1]))\n",
    "#         end = np.subtract(len(z1), end)\n",
    "        \n",
    "        #calculates the step based on the strides of the arrays\n",
    "        #stride is the number of bytes required to transverse in each dimension of the array\n",
    "        #ie, z1.strides = [4,20] means that it needs 4 bytes to move for the next column \n",
    "        #and 20 to move to the same position in the same row\n",
    "        \n",
    "        step = np.array(np.divide(z2.strides[0], z1.strides[0]),  dtype = np.int16)\n",
    "#         step = np.divide(len(z1[start.item():end.item()]), len(z2))\n",
    "#         step = np.array(np.ceil(step), dtype = np.int)\n",
    "        \n",
    "    \n",
    "        #calculate end using the step\n",
    "        end = np.multiply(len(z2),  step)\n",
    "        end = np.add(end, start)\n",
    "    \n",
    "        \n",
    "        #returns the desired arrays\n",
    "        return start, end, step\n",
    "        \n",
    "    else:\n",
    "        return print('z2 is not a view of z1')\n",
    "        \n",
    "        \n",
    "    \n",
    "#test\n",
    "check_view2(z1, z2)\n",
    "\n",
    "#replicating the view according to the function\n",
    "z1[1:9:2]\n",
    "\n",
    "\n",
    "#test with a deep copy\n",
    "y2 = z1[[0,1,2]]\n",
    "check_view2(z1, y2)\n",
    "\n",
    "#test with z4\n",
    "z4 = z1[2:6:4]\n",
    "z4\n",
    "\n",
    "check_view2(z1,z4)\n",
    "\n",
    "#replicating the view according to the function\n",
    "z1[2:6:4]\n",
    "\n",
    "\n",
    "#test with negative step\n",
    "print('test with negative step')\n",
    "\n",
    "y1 = np.arange(9)\n",
    "y1\n",
    "\n",
    "y2 = y1[8:1:-1]\n",
    "y2\n",
    "\n",
    "check_view2(y1,y2)"
   ]
  },
  {
   "cell_type": "markdown",
   "metadata": {},
   "source": [
    "Exercício adicional: expanda o código para os casos onde\n",
    "1. Temos steps negativas\n",
    "2. Comparamos arrays multi-dimensionais\n"
   ]
  },
  {
   "cell_type": "markdown",
   "metadata": {},
   "source": [
    "A próxima tentativa é usar arrays multidimensionais, já que fizemos com steps negativas acima.\n"
   ]
  },
  {
   "cell_type": "code",
   "execution_count": 249,
   "metadata": {},
   "outputs": [
    {
     "data": {
      "text/plain": [
       "array([[0, 1, 2],\n",
       "       [3, 4, 5],\n",
       "       [6, 7, 8]], dtype=int16)"
      ]
     },
     "execution_count": 249,
     "metadata": {},
     "output_type": "execute_result"
    },
    {
     "data": {
      "text/plain": [
       "array([[0, 2],\n",
       "       [6, 8]], dtype=int16)"
      ]
     },
     "execution_count": 249,
     "metadata": {},
     "output_type": "execute_result"
    },
    {
     "name": "stdout",
     "output_type": "stream",
     "text": [
      "[[0]\n",
      " [0]] [[4 4]] [2 2]\n"
     ]
    },
    {
     "data": {
      "text/plain": [
       "array([[0, 2],\n",
       "       [6, 8]], dtype=int16)"
      ]
     },
     "execution_count": 249,
     "metadata": {},
     "output_type": "execute_result"
    }
   ],
   "source": [
    "#depois do rascunho, estou pronto para fazer a função\n",
    "\n",
    "def check_view3(z1, z2):\n",
    "    \n",
    "    #checa se z2 é view de z1 antes de prosseguir:\n",
    "    if(z2.base is z1):\n",
    "        \n",
    "        \n",
    "        #calculando step\n",
    "        step = np.array(np.divide(z2.strides, z1.strides),  dtype = np.int16)\n",
    "        \n",
    "        #o jeito mais fácil de encontrar o start é comparar os primeiros elementos de a2 com as linhas equivalentes em a1\n",
    "        #para que as dimensões sejam compatíveis, precisamos cortar z1 de acordo com as steps\n",
    "        #criamos uma lista de índices para isso. ex: z1[::x,::y] equivale a z1[slice(None, None, x), slice(None, None,y)]\n",
    "        \n",
    "        ind = [slice(None, None, step[0])]\n",
    "\n",
    "        for i in range(1,len(z2)):\n",
    "            ind.append(slice(None, None, step[i]))\n",
    "        \n",
    "        #transforma em tuple para servir de argumento à z1\n",
    "        ind = tuple(ind)\n",
    "        \n",
    "        start = np.array(np.where(z1[ind] == z2[...,0]), dtype = np.int16)\n",
    "        \n",
    "        #calculando end \n",
    "        \n",
    "        end = np.multiply(np.array(z2.shape), step)\n",
    "        end = np.add(end, start.T)\n",
    "        \n",
    "        #para evitar que o end seja negativo\n",
    "        end = np.where(end < 0, None, end)\n",
    "        \n",
    "        return print(start, end, step)\n",
    "        \n",
    "        \n",
    "    else:\n",
    "        return print(\"z2 is not a view of z1\")\n",
    "    \n",
    "    \n",
    "#testando\n",
    "a1 = np.arange(9).reshape(3,3).astype(np.int16)\n",
    "a1\n",
    "\n",
    "#significa que vai pegar todos os elementos do primeiro eixo, pulando de 2 em 2 (::2)\n",
    "#e vai pegar todos os elementos do segundo eixo, pulando de 2 em 2 (::2)\n",
    "a2 = a1[::2,::2]\n",
    "a2\n",
    "\n",
    "check_view3(a1, a2)\n",
    "\n",
    "#testando se o resultado é igual à a2\n",
    "a1[0:4:2, 0:4:2]"
   ]
  },
  {
   "cell_type": "code",
   "execution_count": 250,
   "metadata": {
    "scrolled": true
   },
   "outputs": [
    {
     "data": {
      "text/plain": [
       "array([[[ 0,  1,  2],\n",
       "        [ 3,  4,  5]],\n",
       "\n",
       "       [[ 6,  7,  8],\n",
       "        [ 9, 10, 11]]], dtype=int16)"
      ]
     },
     "execution_count": 250,
     "metadata": {},
     "output_type": "execute_result"
    },
    {
     "data": {
      "text/plain": [
       "array([[[3]]], dtype=int16)"
      ]
     },
     "execution_count": 250,
     "metadata": {},
     "output_type": "execute_result"
    },
    {
     "name": "stdout",
     "output_type": "stream",
     "text": [
      "[[0]\n",
      " [1]\n",
      " [0]] [[2 2 3]] [2 1 3]\n"
     ]
    },
    {
     "data": {
      "text/plain": [
       "array([[[3]]], dtype=int16)"
      ]
     },
     "execution_count": 250,
     "metadata": {},
     "output_type": "execute_result"
    },
    {
     "data": {
      "text/plain": [
       "array([[[5, 4, 3]]], dtype=int16)"
      ]
     },
     "execution_count": 250,
     "metadata": {},
     "output_type": "execute_result"
    },
    {
     "name": "stdout",
     "output_type": "stream",
     "text": [
      "[[0]\n",
      " [1]\n",
      " [2]] [[2 2 None]] [ 2  1 -1]\n"
     ]
    },
    {
     "data": {
      "text/plain": [
       "array([[[5, 4, 3]]], dtype=int16)"
      ]
     },
     "execution_count": 250,
     "metadata": {},
     "output_type": "execute_result"
    }
   ],
   "source": [
    "#testando check_view3 com arrays maiores e steps diferentes\n",
    "\n",
    "z1 = np.arange(12).reshape(2,2,3).astype(np.int16)\n",
    "z1\n",
    "\n",
    "\n",
    "z2 = z1[:2:2, 1:3, ::3]\n",
    "z2\n",
    "\n",
    "check_view3(z1,z2)\n",
    "\n",
    "#checando se dá no mesmo\n",
    "z1[0:2:2,1:2:2, 0:3:3]\n",
    "\n",
    "#dá sim\n",
    "\n",
    "#testando com step negativo\n",
    "z3 = z1[:2:2, 1:3, ::-1]\n",
    "z3\n",
    "\n",
    "check_view3(z1,z3)\n",
    "\n",
    "#errou apenas porque disse que o end da terceira dimensão era negativo, consertei pedindo para retornar 'None'\n",
    "z1[0:2:2, 1:2:1,2:None:-1]"
   ]
  },
  {
   "cell_type": "markdown",
   "metadata": {},
   "source": [
    "### 4 Code Vectorization"
   ]
  },
  {
   "cell_type": "markdown",
   "metadata": {},
   "source": [
    "### 5 Problem Vectorization"
   ]
  },
  {
   "cell_type": "markdown",
   "metadata": {},
   "source": [
    "### 6 Custom Vectorization"
   ]
  },
  {
   "cell_type": "markdown",
   "metadata": {},
   "source": [
    "### 7 Beyond Numpy"
   ]
  },
  {
   "cell_type": "markdown",
   "metadata": {},
   "source": [
    "### 8 Conclusion"
   ]
  },
  {
   "cell_type": "markdown",
   "metadata": {},
   "source": [
    "### Ideias para o código\n",
    "\n",
    "1. Ao popular o último período do jogo com os valores de liquidação, posso usar ellipsis:\n",
    "    * Ws_array[..., (T-1)] = Ls(T)\n",
    "    \n",
    "    \n",
    "2. Checklist para acelarar código\n",
    "    1. Diminuir ao máximo os arrays temporários"
   ]
  }
 ],
 "metadata": {
  "kernelspec": {
   "display_name": "Python 3",
   "language": "python",
   "name": "python3"
  },
  "language_info": {
   "codemirror_mode": {
    "name": "ipython",
    "version": 3
   },
   "file_extension": ".py",
   "mimetype": "text/x-python",
   "name": "python",
   "nbconvert_exporter": "python",
   "pygments_lexer": "ipython3",
   "version": "3.7.6"
  }
 },
 "nbformat": 4,
 "nbformat_minor": 4
}
