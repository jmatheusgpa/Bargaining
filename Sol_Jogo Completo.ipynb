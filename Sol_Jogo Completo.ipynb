{
 "cells": [
  {
   "cell_type": "markdown",
   "metadata": {},
   "source": [
    "## Sequência de funções valor para os credores\n",
    "\n",
    "Queremos resolver por indução retroativa um jogo com T períodos.\n",
    "\n",
    "Estou trabalhando em como deixar esse jogo em torno do parâmetro T\n",
    "\n",
    "Teremos duas sequências de funções valor: uma para quando apenas o credor sênior propõe e outra para quando apenas o credor júnior propõe. As funções do jogo final serão uma média ponderada destas.\n",
    "\n"
   ]
  },
  {
   "cell_type": "code",
   "execution_count": 15,
   "metadata": {},
   "outputs": [],
   "source": [
    "#para mostrar todos os resultados e não apenas o último\n",
    "from IPython.core.interactiveshell import InteractiveShell\n",
    "\n",
    "InteractiveShell.ast_node_interactivity = \"all\""
   ]
  },
  {
   "cell_type": "code",
   "execution_count": 16,
   "metadata": {},
   "outputs": [],
   "source": [
    "#libraries\n",
    "import numpy as np\n",
    "from numba import jit, jitclass, float64, njit\n",
    "import matplotlib.pyplot as plt\n",
    "%matplotlib inline\n",
    "import quantecon as qe\n",
    "from scipy.stats import beta\n",
    "\n",
    "import math"
   ]
  },
  {
   "cell_type": "markdown",
   "metadata": {},
   "source": [
    "### Passo 0: definindo comandos do latex para facilitar a escrita\n",
    "\n",
    "$%conjunto de informações de s em t$\n",
    "$\\newcommand{\\Is}[1]{\\theta_{s{#1}}, l_{s{#1}}, l_{j{#1}}}$\n",
    "$%macros para facilitar a escrita de funções valor$\n",
    "\n",
    "\n",
    "$%conjunto de informações de j em t$\n",
    "$\\newcommand{\\Ij}[1]{\\theta_{j{#1}}, l_{s{#1}}, l_{j{#1}}}$\n",
    "\n",
    "$%função valor de s em t$\n",
    "$\\newcommand{\\Ws}[1]{ W_{s{#1}} ( \\Is{{#1}}) }$\n",
    "\n",
    "$%função valor de j em t$\n",
    "$\\newcommand{\\Wj}[1]{ W_{j{#1}} ( \\Ij{{#1}}) }$\n",
    "\n",
    "$%operador esperança de s em t. 2 argumentos: o primeiro é o período e o segundo é o termo que ela tira a esperança$\n",
    "\n",
    "$\\newcommand{\\Es}[2]{\\mathbb{E_{#1}^{s} \\big[ {#2}  \\mid ( \\Is{#1} )    \\big] }}$\n",
    "\n",
    "$%minúsculo não mostra o conjunto de informação$\n",
    "$\\newcommand{\\es}[2]{\\mathbb{E_{#1}^{s} \\big[ {#2}  \\big] }}$\n",
    "\n",
    "$%minúsculo não mostra o conjunto de informação$\n",
    "$%final b de big para aumentar os parênteses$\n",
    "$\\newcommand{\\esb}[2]{\\mathbb{E_{#1}^{s} \\bigg[ {#2}  \\bigg] }}$\n",
    "\n",
    "$%operador esperança de j em t. 2 argumentos: o primeiro é o período e o segundo é o termo que ela tira a esperança$\n",
    "\n",
    "$\\newcommand{\\Ej}[2]{\\mathbb{E_{#1}^{j} \\big[ {#2}  \\mid ( \\Ij{#1} )    \\big] }}$\n",
    "\n",
    "$%minúsculo não mostra o conjunto de informação$\n",
    "$\\newcommand{\\ej}[2]{\\mathbb{E_{#1}^{j} \\big[ {#2}  \\big] }}$\n",
    "\n",
    "$%minúsculo não mostra o conjunto de informação$\n",
    "$%final b para aumentar os parênteses$\n",
    "$\\newcommand{\\ejb}[2]{\\mathbb{E_{#1}^{j} \\bigg[ {#2}  \\bigg] }}$\n",
    "\n",
    "\n",
    "$%comando para usar o máximo com chaves grandes$\n",
    "$\\newcommand{\\maximo}[1]{\\max \\bigg\\{ #1 \\bigg\\}}$\n"
   ]
  },
  {
   "cell_type": "code",
   "execution_count": 17,
   "metadata": {},
   "outputs": [],
   "source": [
    "#parâmetros do jogo, apenas para ilustração a princípio\n",
    "\n",
    "\n",
    "\n",
    "μ = 3 #número de meses entre períodos, não entendi onde entra ainda\n",
    "ρ = 0.9 # (1 - ρ) é a taxa de depreciação da empresa a cada período\n",
    "β = 1 #usamos aqui a distribuição Uniforme, depois vamos mudar isto\n",
    "c0 = 0.05 #custo fixo de ir para a corte\n",
    "c1 = 0.015 #custo variável de ir para a corte\n",
    "\n",
    "\n",
    "\n",
    "\n",
    "λj = 0.5 #probabilidade de j propor a cada turno. Não precisaremos estimar, isso virá dos dados\n",
    "\n",
    "\n",
    "θ_s0 = 0.5 #habilidade inicial de s\n",
    "θ_j0 = 0.5 #habilidade inicial de j"
   ]
  },
  {
   "cell_type": "code",
   "execution_count": 18,
   "metadata": {},
   "outputs": [],
   "source": [
    "#informações que virão dos dados\n",
    "\n",
    "Vmax = 100\n",
    "L = 20 \n",
    "L_s = 10\n",
    "L_j = 10\n",
    "\n",
    "#valores da dívida de cada jogador (virá dos dados, aqui é exemplo):\n",
    "Ds = 20\n",
    "Dj = 10"
   ]
  },
  {
   "cell_type": "markdown",
   "metadata": {},
   "source": [
    "### Qual o ganho que o credor s tem em propor a cada período?\n",
    "\n",
    "Suponha que ele vai propor reorganizar a firma no perído t. A reorganização demora 1 período, então o valor da firma aparece no próximo período, $V_{t+1}$. E ele precisa fazer uma estimativa sobre $\\theta_{s,t+1}$ dada a informação que ele tem no período atual, que eu chamei de k: $\\theta_{s,k}$:\n",
    "\n",
    "$$ R_t (\\theta_{s,k}) = V_{t+1} \\bigg( \\mathbb{E}_k^s \\big[ \\theta_{s,t+1} \\mid \\theta_{s,k} \\big] \\bigg) - L_j$$\n",
    "\n",
    "\n",
    "#### Qual a estimativa da habilidade dele nos períodos à frente dada a informação dele hoje?\n",
    "\n",
    "Essa parte depende da hipótese sobre a distribuição da habilidade.\n",
    "\n",
    "Se supormos que a habilidade segue distribuição Uniforme, a forma fechada dela é:\n",
    "\n",
    "Suponha $ t > k$\n",
    "\n",
    "$$ \\mathbb{E}_k^s \\big[ \\theta_{s,t} \\mid \\theta_{s,k} \\big] =  \\frac{\\theta_{s,k}} {2^{t - k}} + \\sum_{n=1}^{t - k} \\frac{1}{2^{n}} $$\n",
    "\n",
    "\n",
    "#### Quais os passos do algoritmo para implementar essa estratégia?\n",
    "\n",
    "1. Calcular todos os valores de reorganização $ R_t $ de $ t \\in  \\{k, k+1, ..., T\\}$ e também o valor de nunca reorganizar, que é $L_s$\n",
    "\n",
    "2. Criar uma condição para checar se $\\max \\{R_{k}, R_{k+1}, ..., R_{T}, L_s \\} = R_{k}$\n",
    "    * em caso positivo, oferecer $P_s = W_{j, t+1} = L_j$ a fim de reorganizar a firma\n",
    "    * em caso negativo, oferecer $P_s < W_{j, t+1} = L_j$ a fim de adiantar o jogo até o próximo período\n",
    "    \n",
    "3. Repetir os passos 1 e 2 até que reorganize a firma ou o jogo termine com ela liquidada"
   ]
  },
  {
   "cell_type": "markdown",
   "metadata": {},
   "source": [
    "### Passo 1: número máximo de turnos\n",
    "\n",
    "Calculado com base nos parãmetros"
   ]
  },
  {
   "cell_type": "code",
   "execution_count": 19,
   "metadata": {},
   "outputs": [],
   "source": [
    "#função para calcular o máximo de turnos do jogo\n",
    "def maximo_de_turnos(ρ, Vmax, L):\n",
    "    \n",
    "    t = 1\n",
    "    \n",
    "    while ρ**t * Vmax > L:\n",
    "        \n",
    "        t = t + 1\n",
    "        \n",
    "    return t\n",
    "    "
   ]
  },
  {
   "cell_type": "code",
   "execution_count": 20,
   "metadata": {},
   "outputs": [
    {
     "data": {
      "text/plain": [
       "16"
      ]
     },
     "execution_count": 20,
     "metadata": {},
     "output_type": "execute_result"
    }
   ],
   "source": [
    "#guardando o número máxim de turnos\n",
    "\n",
    "T = maximo_de_turnos(ρ, Vmax, L)\n",
    "\n",
    "T"
   ]
  },
  {
   "cell_type": "code",
   "execution_count": 21,
   "metadata": {},
   "outputs": [],
   "source": [
    "#valor máximo de reorganização da firma a cada período\n",
    "\n",
    "\n",
    "#sequência de valores da firma para cada período\n",
    "\n",
    "V = np.empty(T, dtype=np.int_)\n",
    "\n",
    "for t in range(T):\n",
    "\n",
    "    V[t] = ρ**t * Vmax"
   ]
  },
  {
   "cell_type": "code",
   "execution_count": 22,
   "metadata": {},
   "outputs": [],
   "source": [
    "#valor de liquidação\n",
    "\n",
    "\n",
    "#a dívida total é sempre a soma das dívidas\n",
    "D = Ds + Dj\n",
    "\n",
    "#o custo total é uma função do tempo\n",
    "\n",
    "def C(t):\n",
    "    Ct = c0 * D + c1 * t * D\n",
    "    \n",
    "    return Ct\n",
    "\n",
    "#e os valores de liquidação também são função do tempo\n",
    "\n",
    "def Ls(t):\n",
    "    \n",
    "    Lst = min(L - C(t), Ds)\n",
    "    \n",
    "    return Lst\n",
    "\n",
    "def Lj(t):\n",
    "    \n",
    "    Ljt = min(L - C(t) - Ls(t), Dj)\n",
    "    \n",
    "    return Ljt\n",
    "    \n",
    "    \n"
   ]
  },
  {
   "cell_type": "code",
   "execution_count": 23,
   "metadata": {},
   "outputs": [
    {
     "data": {
      "text/plain": [
       "100"
      ]
     },
     "execution_count": 23,
     "metadata": {},
     "output_type": "execute_result"
    },
    {
     "data": {
      "text/plain": [
       "20"
      ]
     },
     "execution_count": 23,
     "metadata": {},
     "output_type": "execute_result"
    }
   ],
   "source": [
    "V[0] #é o primeiro valor do negócio\n",
    "\n",
    "V[15]"
   ]
  },
  {
   "cell_type": "code",
   "execution_count": 24,
   "metadata": {},
   "outputs": [
    {
     "data": {
      "text/plain": [
       "17.6"
      ]
     },
     "execution_count": 24,
     "metadata": {},
     "output_type": "execute_result"
    }
   ],
   "source": [
    "Ls(2)"
   ]
  },
  {
   "cell_type": "markdown",
   "metadata": {},
   "source": [
    "### Passo 2: definir as funções valor de liquidação e as matrizes para guardar seus valores\n",
    "\n",
    "\n",
    "$$ W_{s1} (\\Is{1}) = (1 - \\lambda_j) S_1 (\\Is{1}) + (\\lambda_j) s_1 (\\Is{1}) $$"
   ]
  },
  {
   "cell_type": "markdown",
   "metadata": {},
   "source": [
    "A primeira parte da função valor de s é caso ele venha a propor:\n",
    "\n",
    "\n",
    " $$ S_1 (\\Is{1}) = \\max \\bigg\\{ L_{s1}, V \\es{1}{\\theta_s} - \\es{1}{W_j}, \\es{1}{W_s}\n",
    "                    \\bigg\\} $$\n",
    "\n"
   ]
  },
  {
   "cell_type": "code",
   "execution_count": 25,
   "metadata": {},
   "outputs": [],
   "source": [
    "#precisamos dos valores de cada theta e cada l para calcular essa função\n",
    "\n",
    "Ws = np.empty(T, dtype=np.int_)\n",
    "\n",
    "Wj = np.empty(T, dtype=np.int_)\n",
    "\n",
    "ls = np.empty(T, dtype=np.int_)\n",
    "\n",
    "lj = np.empty(T, dtype=np.int_)\n",
    "\n",
    "θs = np.empty(T, dtype=np.int_)\n",
    "\n",
    "θj = np.empty(T, dtype=np.int_)\n",
    "\n",
    "\n",
    "#os valores de continuação no nó final são os valores de liquidação\n",
    "Ws[T-1] = Ls(T-1)\n",
    "Wj[T-1] = Lj(T-1)\n",
    "\n",
    "\n"
   ]
  },
  {
   "cell_type": "markdown",
   "metadata": {},
   "source": [
    "### Função para tirar os valores esperados de t períodos à frente\n",
    "\n",
    "Essa é a base do jogo. Vamos começar com a Uniforme mesmo por ser mais fácil de computar (e verificar), depois eu mudo o código para considerar a Beta."
   ]
  },
  {
   "cell_type": "code",
   "execution_count": 26,
   "metadata": {},
   "outputs": [],
   "source": [
    "#função para calcular a esperança da habilidade nos períodos à frente\n",
    "def expec(h, k, t):\n",
    "    #h é a informação hoje, usada para prever a habilidade\n",
    "    #k é o período de hoje\n",
    "    #t é o período para o qual eu desejo estimar a habilidade\n",
    "    \n",
    "    #somatório de n até t-k\n",
    "    summation = 0\n",
    "    for i in range(1, t-k+1):      \n",
    "        summation += 2**-i\n",
    "    \n",
    "    resultado = h/2**(t-k) + summation\n",
    "    \n",
    "    return resultado\n",
    "    \n",
    "# expec(0.5, 1, 4) #ok com os meus cálculos\n",
    "\n",
    "#como ficaria um gráfico dessa função?\n"
   ]
  },
  {
   "cell_type": "code",
   "execution_count": 27,
   "metadata": {},
   "outputs": [
    {
     "data": {
      "text/plain": [
       "0.999969482421875"
      ]
     },
     "execution_count": 27,
     "metadata": {},
     "output_type": "execute_result"
    }
   ],
   "source": [
    "expec(θ_s0, 1, (T-1))"
   ]
  },
  {
   "cell_type": "code",
   "execution_count": 28,
   "metadata": {},
   "outputs": [],
   "source": [
    "\n",
    "#aqui a notação está em contagem regressiva novamente\n",
    "#aqui é o valor do que ele faz\n",
    "S1 = [Ls((T-1)), V[T-1-1] * expec(θ_s0, 1, (T-1)) - Wj[T-1], Ws[T-1]]\n",
    "\n",
    "\n",
    "#aqui é o que ele faz. Como policy_S1 é igual a 1, significa que ele propõe reorganizar pagando PS1 = Wj[T-1]\n",
    "policy_S1 = np.argmax(S1)\n",
    "\n",
    "\n",
    "S1 = S1[policy_S1]\n",
    "\n",
    "Es_S1 = S1"
   ]
  },
  {
   "cell_type": "markdown",
   "metadata": {},
   "source": [
    "A segunda parte da função valor é se se for chamado a responder:\n",
    "    \n",
    "$s_1 (\\Is{1}) = $\n",
    "    $ \\esb{1}{ Prob ({j liquidar})  \\maximo{L_{s1}, V \\es{1}{\\theta_s} - L_{j1}} } $\n",
    "    $ + \\esb{1}{ Prob ({j reorganizar})   \\maximo{\\ej{1}{W_s}, \\es{1}{W_s}}    }$\n",
    " \n",
    " \n",
    " Sendo que\n",
    " \n",
    " $ \\Es{1}{Prob (j liq em T-1)}$\n",
    " \n",
    "  $$ = Prob \\bigg(L_{j1} > \\max \\{V \\es{1}{ \\ej{1}{\\theta_j} } - \\es{1}{ \\ej{1}{W_s} }, \\es{1}{ \\ej{1}{W_j}  }\\} \\bigg)$$\n",
    "  \n",
    "  \n",
    " Repare que $L_{j1} > L{j}$ e que $\\es{1}{\\theta_{j}}$ cresce em $\\theta_{j}$. Então deve existir um threshold de reorganização em t = T-1, $\\phi_{j1}$, tal que: \n",
    "\n",
    "$$V \\phi_{j1} - L_{s} = L{j1} $$\n",
    "\n",
    "$$ \\phi_{j1} = \\frac{ L_{j1} + L_{s} }{V} $$\n",
    "\n",
    "Então se $\\es{1}{\\theta_{j}} > \\phi_{j1}$, j reorganiza a firma. E j liquida a firma caso contrário.\n",
    "\n",
    "\n",
    "A pergunta é: qual a probabilidade de que $\\theta_{j}$ tome um valor menor ou igual a $\\phi_{j1}$ ? Isso pode ser respondido usando a \\textit{prior} do jogador, a função CDF da distribuição Beta:\n",
    "\n",
    "$$ \\Es{1}{Prob (\\textnormal{j liq em T-1})} = F_{\\beta} \\big( \\phi_{j1} \\mid l_{j1} \\big) $$\n",
    " \n"
   ]
  },
  {
   "cell_type": "code",
   "execution_count": 29,
   "metadata": {
    "scrolled": false
   },
   "outputs": [
    {
     "data": {
      "text/plain": [
       "0.55"
      ]
     },
     "execution_count": 29,
     "metadata": {},
     "output_type": "execute_result"
    },
    {
     "data": {
      "text/plain": [
       "0.10000000000000009"
      ]
     },
     "execution_count": 29,
     "metadata": {},
     "output_type": "execute_result"
    }
   ],
   "source": [
    "#s1\n",
    "#Prob_s1 é a probabilidade de l liquidar em t-1, de acordo com o credor sênior (s)\n",
    "\n",
    "\n",
    "# Prob_s1 \n",
    "\n",
    "ϕj1 = ( Lj((T-1)) + Ws[T-1] ) / V[T-1]\n",
    "\n",
    "ϕj1\n",
    "\n",
    "lj1 = 0.5 #endogeneizar depois\n",
    "\n",
    "\n",
    "Prob_s1 = 1 - ((1 - ϕj1)**β)/((1 - lj1)**β)\n",
    "\n",
    "Prob_s1\n",
    "\n",
    "# a probabilidade de reorganizar será o complementar."
   ]
  },
  {
   "cell_type": "markdown",
   "metadata": {},
   "source": [
    "Agora o valor esperado caso j liquide. No paper isto é \n",
    "\n",
    "$  \\maximo{L_{s1}, V \\es{1}{\\theta_s} - L_{j1}}  $\n",
    "\n",
    "Repare que s quer prever a habilidade dele próprio no período final, então podemos usar a habilidade dele no período T-1 para isso"
   ]
  },
  {
   "cell_type": "code",
   "execution_count": 30,
   "metadata": {},
   "outputs": [
    {
     "data": {
      "text/plain": [
       "array([1., 1., 1., 1., 1., 1., 1., 1., 1., 1., 1., 1., 1., 1., 1., 1.])"
      ]
     },
     "execution_count": 30,
     "metadata": {},
     "output_type": "execute_result"
    },
    {
     "data": {
      "text/plain": [
       "1"
      ]
     },
     "execution_count": 30,
     "metadata": {},
     "output_type": "execute_result"
    },
    {
     "data": {
      "text/plain": [
       "22.0"
      ]
     },
     "execution_count": 30,
     "metadata": {},
     "output_type": "execute_result"
    }
   ],
   "source": [
    "#vamos criar um vetor de expectativas de s para a sua própria habilidade.\n",
    "\n",
    "Es_θs = np.ones(T)\n",
    "\n",
    "#popular esse vetor de expectativas com todos os períodos dali pra frente\n",
    "\n",
    "θ_s_atual = θ_s0\n",
    "\n",
    "for i in range(t, T-1):\n",
    "    \n",
    "    Es_θs[i-1] = expec(θ_s_atual, t, i)\n",
    "    \n",
    "\n",
    "    \n",
    "Es_θs \n",
    "\n",
    "#agora vamos calcular o payoff esperado no caso de j propor liquidação\n",
    "\n",
    "s1_liq = [Ls((T-1)), V[T-1-1] * Es_θs[T-1] - Lj((T-1)) ]\n",
    "\n",
    "\n",
    "#aqui é o que ele faz. Como policy_S1 é igual a 1, significa que ele propõe reorganizar pagando PS1 = Wj[T-1]\n",
    "policy_s1_liq = np.argmax(s1_liq)\n",
    "\n",
    "\n",
    "s1_liq = s1_liq[policy_s1_liq]\n",
    "\n",
    "\n",
    "#caso j liquide em T-1, a política ótima é propor reorganizar, o que lhe dá payoff de 22\n",
    "policy_s1_liq \n",
    "\n",
    "s1_liq\n"
   ]
  },
  {
   "cell_type": "markdown",
   "metadata": {},
   "source": [
    "Agora, o payoff esperado de s caso j decida reorganizar a firma\n",
    "\n",
    "$ \\maximo{\\ej{1}{W_s}, \\es{1}{W_s}}    $"
   ]
  },
  {
   "cell_type": "code",
   "execution_count": 31,
   "metadata": {},
   "outputs": [
    {
     "data": {
      "text/plain": [
       "0"
      ]
     },
     "execution_count": 31,
     "metadata": {},
     "output_type": "execute_result"
    },
    {
     "data": {
      "text/plain": [
       "11"
      ]
     },
     "execution_count": 31,
     "metadata": {},
     "output_type": "execute_result"
    }
   ],
   "source": [
    "#agora vamos calcular o payoff esperado no caso de j propor reorganização\n",
    "\n",
    "s1_reorg = [Ws[T-1], Ws[T-1]]\n",
    "\n",
    "\n",
    "#aqui é o que ele faz. Como policy_S1 é igual a 1, significa que ele propõe reorganizar pagando PS1 = Wj[T-1]\n",
    "policy_s1_reorg = np.argmax(s1_reorg)\n",
    "\n",
    "\n",
    "s1_reorg = s1_reorg[policy_s1_reorg]\n",
    "\n",
    "\n",
    "#caso j proponha liquidar em T-1, a política ótima é propor reorganizar, o que lhe dá payoff de 22\n",
    "policy_s1_reorg \n",
    "\n",
    "s1_reorg"
   ]
  },
  {
   "cell_type": "markdown",
   "metadata": {},
   "source": [
    "A função s1 torna-se então:\n",
    "\n"
   ]
  },
  {
   "cell_type": "code",
   "execution_count": 32,
   "metadata": {},
   "outputs": [],
   "source": [
    "#s1 completa\n",
    "\n",
    "Es_s1 = (Prob_s1) * ( s1_liq) + (1 - Prob_s1) * s1_reorg \n",
    "\n",
    "\n"
   ]
  },
  {
   "cell_type": "markdown",
   "metadata": {},
   "source": [
    "### Como resumir isso?\n",
    "\n",
    "A função valor no período t é função de lst, ljt e theta_t. Vamos construir uma função que calcula a função valor de cada período para valores arbitrários destas três variáveis.\n",
    "\n",
    "\n",
    "Passos:\n",
    "\n",
    "1. Vamos escrever as funções St, st, Jt e jt.\n",
    "\n",
    "2. Vamos colocar essas funções como argumentos das funções valor\n",
    "\n",
    "3. Vamos testar as funções valor e ver o que funciona e o que não.\n",
    "\n",
    "\n",
    "PROBLEMA: as funções ainda estão em função de Wj[t] e Ws[t]\n",
    "\n"
   ]
  },
  {
   "cell_type": "code",
   "execution_count": 33,
   "metadata": {},
   "outputs": [],
   "source": [
    "#payoff de S quanto ele tem o direito de propor em t\n",
    "\n",
    "#aqui eu colo Wj[t] e Ws[t] como argumentos. \n",
    "#Tem que ter preparado o terreno antes calculando as funções valor no período seguinte\n",
    "\n",
    "def St(teta_st, lst, ljt, t):\n",
    "    \n",
    "    St = [Ls(t), V[t] * expec(teta_st, t, (t+1)) - Wj[t], Ws[t]]\n",
    "    \n",
    "    policy_St = np.argmax(St)\n",
    "    \n",
    "    \n",
    "    \n",
    "    return (St[policy_St])\n",
    "\n",
    "\n",
    "    \n",
    "\n",
    "    \n"
   ]
  },
  {
   "cell_type": "code",
   "execution_count": 34,
   "metadata": {},
   "outputs": [
    {
     "data": {
      "text/plain": [
       "15.0"
      ]
     },
     "execution_count": 34,
     "metadata": {},
     "output_type": "execute_result"
    }
   ],
   "source": [
    "#testando para t = 15, que já sabemos Wj e Ws\n",
    "\n",
    "St(0.5, 0.5, 0.5, 15)"
   ]
  },
  {
   "cell_type": "code",
   "execution_count": 35,
   "metadata": {},
   "outputs": [],
   "source": [
    "#vamos criar os componentes da função st\n",
    "\n",
    "#probabilidade de j liquidar em t, dado ljt \n",
    "def Prob_s(ljt,t):\n",
    "\n",
    "    #threshold para j tentar liquidar\n",
    "    ϕjt = ( Lj(t) + Ws[t] ) / V[t]\n",
    "    \n",
    "    Prob_st = 1 - ((1 - ϕjt)**β)/((1 - ljt)**β)\n",
    "    \n",
    "    #aqui tem que ser no mínimo a igual a zero, apenas por segurança\n",
    "    \n",
    "    Prob_st = max(0, Prob_st)\n",
    "    \n",
    "    return Prob_st\n",
    "\n"
   ]
  },
  {
   "cell_type": "code",
   "execution_count": 36,
   "metadata": {},
   "outputs": [],
   "source": [
    "#payoff caso s responda à uma proposta de liquidação de j\n",
    "\n",
    "\n",
    "def s_liq(teta_st, lst, ljt, t):\n",
    "    \n",
    "    st_liq = [Ls(t), V[t] * expec(teta_st, t, (t+1)) - Lj(t) ]\n",
    "\n",
    "    policy_st_liq = np.argmax(st_liq)\n",
    "\n",
    "\n",
    "    st_liq = st_liq[policy_st_liq]\n",
    "\n",
    "    return (st_liq)\n",
    "\n",
    "\n"
   ]
  },
  {
   "cell_type": "code",
   "execution_count": 37,
   "metadata": {},
   "outputs": [
    {
     "data": {
      "text/plain": [
       "0.10000000000000009"
      ]
     },
     "execution_count": 37,
     "metadata": {},
     "output_type": "execute_result"
    },
    {
     "data": {
      "text/plain": [
       "13.0"
      ]
     },
     "execution_count": 37,
     "metadata": {},
     "output_type": "execute_result"
    }
   ],
   "source": [
    "#testando para t = 15\n",
    "\n",
    "Prob_s(0.5, 15)\n",
    "\n",
    "s_liq(0.3, 1, 1, 15)"
   ]
  },
  {
   "cell_type": "code",
   "execution_count": 38,
   "metadata": {},
   "outputs": [],
   "source": [
    "#payoff caso s responda à uma proposta de reorganização de j\n",
    "\n",
    "def s_reorg(teta_st, lst, ljt, t):\n",
    "    \n",
    "    st_reorg = [Ws[t], Ws[t]]\n",
    "\n",
    "    policy_st_reorg = np.argmax(st_reorg)\n",
    "\n",
    "\n",
    "    st_reorg = st_reorg[policy_st_reorg]\n",
    "    \n",
    "    return (st_reorg)\n",
    "\n"
   ]
  },
  {
   "cell_type": "code",
   "execution_count": 39,
   "metadata": {},
   "outputs": [
    {
     "data": {
      "text/plain": [
       "11"
      ]
     },
     "execution_count": 39,
     "metadata": {},
     "output_type": "execute_result"
    }
   ],
   "source": [
    "#testando para t = 15\n",
    "\n",
    "s_reorg(0.6, 0.5, 0.5, 15)\n",
    "\n",
    "#de fato a habilidade não muda s_reorg em t = 15 porque o próximo período é de liquidação\n",
    "#nos outros períodos isso deve mudar"
   ]
  },
  {
   "cell_type": "code",
   "execution_count": 40,
   "metadata": {},
   "outputs": [],
   "source": [
    "def st(teta_st, lst, ljt, t):\n",
    "    \n",
    "    #agregando todas as funções até agora\n",
    "    \n",
    "    st = (Prob_s(ljt,t)) * s_liq(teta_st, lst, ljt, t) + (1 - Prob_s(ljt,t)) * s_reorg(teta_st, lst, ljt, t)\n",
    "    \n",
    "    return (st)"
   ]
  },
  {
   "cell_type": "code",
   "execution_count": 41,
   "metadata": {},
   "outputs": [
    {
     "data": {
      "text/plain": [
       "11.5"
      ]
     },
     "execution_count": 41,
     "metadata": {},
     "output_type": "execute_result"
    }
   ],
   "source": [
    "#testando para t = 15\n",
    "\n",
    "st(0.6, 0.5, 0.5, 15)\n",
    "\n"
   ]
  },
  {
   "cell_type": "code",
   "execution_count": 42,
   "metadata": {},
   "outputs": [],
   "source": [
    "#finalmente, a função valor de s no período t\n",
    "#defini com subscrito _val porque o vetor Ws é argumento das funções serão passadas como argumento aqui\n",
    "\n",
    "#havia uma confusão entre Ws função e Ws vetor\n",
    "\n",
    "#percebi o erro com o link abaixo\n",
    "#https://stackoverflow.com/questions/32446402/typeerror-function-object-is-not-subscriptable-in-python-3-4-3\n",
    "\n",
    "\n",
    "def Ws_val(teta_st, lst, ljt, t):\n",
    "    \n",
    "    \n",
    "    Wst = (1- λj) * St(teta_st, lst, ljt, t) + (λj)  * st(teta_st, lst, ljt, t)\n",
    "    \n",
    "    return Wst"
   ]
  },
  {
   "cell_type": "code",
   "execution_count": 43,
   "metadata": {},
   "outputs": [
    {
     "data": {
      "text/plain": [
       "13.2"
      ]
     },
     "execution_count": 43,
     "metadata": {},
     "output_type": "execute_result"
    }
   ],
   "source": [
    "#testando para t = 15\n",
    "\n",
    "\n",
    "\n",
    "Ws_val(0.5, 0.5, 0.5, 15)\n",
    "\n",
    "#it works!!!!\n",
    "\n",
    "\n"
   ]
  },
  {
   "cell_type": "markdown",
   "metadata": {},
   "source": [
    "### Criando as funções valor para J\n",
    "\n",
    "\n",
    "É análogo ao s, então vou colocar só a descrição geral aqui. Basicamente, é só trocar s por j nos argumentos\n",
    "\n",
    "$$ W_{jt} (\\Ij{t}) = (1 - \\lambda_j) j_t (\\Ij{t}) + (\\lambda_j) J_t (\\Ij{t}) $$\n",
    "\n",
    "\n",
    "A primeira parte da função valor de j é caso ele venha a propor:\n",
    "\n",
    "\n",
    "$$ J_t (\\Ij{t}) = \\max \\bigg\\{ L_{jt}, V_{t+1} \\ej{t}{\\theta_{j, t+1} }  - \\ej{t}{W_{s, t+1}  }, \\ej{t}{W_{j,t+1} } \\bigg\\} $$\n",
    "\n",
    "\n",
    "A segunda parte da função valor é se se for chamado a responder:\n",
    "    \n",
    "$j_t (\\Ij{t}) = $\n",
    "    $ \\ejb{t}{ Prob ({s liquidar})  \\maximo{L_{j,t}, V_{t+1} \\ej{t}{\\theta_{j,t+1}  } - L_{s, t} } } $\n",
    "    $ + \\ejb{t}{ Prob ({j reorganizar})   \\maximo{\\es{t}{W_{j, t+1} }, \\ej{t}{W_{j, t+1} } }  }$\n",
    " \n",
    " \n"
   ]
  },
  {
   "cell_type": "code",
   "execution_count": 44,
   "metadata": {},
   "outputs": [],
   "source": [
    "#payoff de S quanto ele tem o direito de propor em t\n",
    "\n",
    "#aqui eu colo Wj[t] e Ws[t] como argumentos. \n",
    "#Tem que ter preparado o terreno antes calculando as funções valor no período seguinte\n",
    "\n",
    "def Jt(teta_jt, lst, ljt, t):\n",
    "    \n",
    "    Jt = [Lj(t), V[t] * expec(teta_jt, t, (t+1)) - Ws[t], Wj[t]]\n",
    "    \n",
    "    policy_Jt = np.argmax(Jt)\n",
    "    \n",
    "    \n",
    "    \n",
    "    return (Jt[policy_Jt])\n",
    "\n",
    "\n",
    "    \n",
    "\n",
    "    \n"
   ]
  },
  {
   "cell_type": "code",
   "execution_count": 45,
   "metadata": {},
   "outputs": [
    {
     "data": {
      "text/plain": [
       "4.0"
      ]
     },
     "execution_count": 45,
     "metadata": {},
     "output_type": "execute_result"
    }
   ],
   "source": [
    "#testando para t = 15, que já sabemos Wj e Ws\n",
    "\n",
    "Jt(0.5, 0.5, 0.5, 15)"
   ]
  },
  {
   "cell_type": "code",
   "execution_count": 46,
   "metadata": {},
   "outputs": [],
   "source": [
    "#vamos criar os componentes da função st\n",
    "\n",
    "#probabilidade de j liquidar em t, dado ljt \n",
    "def Prob_j(lst,t):\n",
    "\n",
    "    #threshold para s tentar liquidar\n",
    "    ϕst = ( Ls(t) + Wj[t] ) / V[t]\n",
    "    \n",
    "    Prob_jt = 1 - ((1 - ϕst)**β)/((1 - lst)**β)\n",
    "    \n",
    "    #aqui tem que ser no mínimo a igual a zero, apenas por segurança\n",
    "    \n",
    "    Prob_jt = max(0, Prob_jt)\n",
    "    \n",
    "    return Prob_jt\n",
    "\n"
   ]
  },
  {
   "cell_type": "code",
   "execution_count": 47,
   "metadata": {},
   "outputs": [],
   "source": [
    "#payoff caso j responda à uma propojta de liquidação de j\n",
    "\n",
    "\n",
    "def j_liq(teta_jt, lst, ljt, t):\n",
    "    \n",
    "    jt_liq = [Lj(t), V[t] * expec(teta_jt, t, (t+1)) - Ls(t) ]\n",
    "\n",
    "    policy_jt_liq = np.argmax(jt_liq)\n",
    "\n",
    "\n",
    "    return jt_liq[policy_jt_liq]\n",
    "\n",
    "\n"
   ]
  },
  {
   "cell_type": "code",
   "execution_count": 48,
   "metadata": {},
   "outputs": [
    {
     "data": {
      "text/plain": [
       "0.17500000000000004"
      ]
     },
     "execution_count": 48,
     "metadata": {},
     "output_type": "execute_result"
    },
    {
     "data": {
      "text/plain": [
       "1.25"
      ]
     },
     "execution_count": 48,
     "metadata": {},
     "output_type": "execute_result"
    }
   ],
   "source": [
    "#testando para t = 15\n",
    "\n",
    "Prob_j(0.5, 15)\n",
    "\n",
    "j_liq(0.3, 1, 1, 15)"
   ]
  },
  {
   "cell_type": "code",
   "execution_count": 49,
   "metadata": {},
   "outputs": [],
   "source": [
    "#payoff caso s responda à uma proposta de reorganização de j\n",
    "\n",
    "def j_reorg(teta_jt, lst, ljt, t):\n",
    "    \n",
    "    jt_reorg = [Wj[t], Wj[t]]\n",
    "\n",
    "    policy_jt_reorg = np.argmax(jt_reorg)\n",
    "\n",
    "\n",
    "    jt_reorg = jt_reorg[policy_jt_reorg]\n",
    "    \n",
    "    return (jt_reorg)\n",
    "\n"
   ]
  },
  {
   "cell_type": "code",
   "execution_count": 50,
   "metadata": {},
   "outputs": [
    {
     "data": {
      "text/plain": [
       "0"
      ]
     },
     "execution_count": 50,
     "metadata": {},
     "output_type": "execute_result"
    }
   ],
   "source": [
    "#testando para t = 15\n",
    "\n",
    "j_reorg(0.6, 0.5, 0.5, 15)\n",
    "\n",
    "#de fato a habilidade não muda s_reorg em t = 15 porque o próximo período é de liquidação\n",
    "#nos outros períodos isso deve mudar"
   ]
  },
  {
   "cell_type": "code",
   "execution_count": 51,
   "metadata": {},
   "outputs": [],
   "source": [
    "def jt(teta_jt, lst, ljt, t):\n",
    "    \n",
    "    #agregando todas as funções até agora\n",
    "    \n",
    "    jt = (Prob_j(lst,t)) * j_liq(teta_jt, lst, ljt, t) + (1 - Prob_j(lst,t)) * j_reorg(teta_jt, lst, ljt, t)\n",
    "    \n",
    "    return (jt)"
   ]
  },
  {
   "cell_type": "code",
   "execution_count": 52,
   "metadata": {},
   "outputs": [
    {
     "data": {
      "text/plain": [
       "0.7437500000000001"
      ]
     },
     "execution_count": 52,
     "metadata": {},
     "output_type": "execute_result"
    }
   ],
   "source": [
    "#testando para t = 15\n",
    "\n",
    "jt(0.6, 0.5, 0.5, 15)\n",
    "\n"
   ]
  },
  {
   "cell_type": "code",
   "execution_count": 53,
   "metadata": {},
   "outputs": [],
   "source": [
    "#finalmente, a função valor de s no período t\n",
    "#defini com subscrito _val porque o vetor Ws é argumento das funções serão passadas como argumento aqui\n",
    "\n",
    "#havia uma confusão entre Ws função e Ws vetor\n",
    "\n",
    "#percebi o erro com o link abaixo\n",
    "#https://stackoverflow.com/questions/32446402/typeerror-function-object-is-not-subscriptable-in-python-3-4-3\n",
    "\n",
    "\n",
    "def Wj_val(teta_jt, lst, ljt, t):\n",
    "    \n",
    "    \n",
    "    Wjt = (1- λj) * jt(teta_jt, lst, ljt, t) +  (λj) * Jt(teta_jt, lst, ljt, t)\n",
    "    \n",
    "    return Wjt"
   ]
  },
  {
   "cell_type": "code",
   "execution_count": 54,
   "metadata": {},
   "outputs": [
    {
     "data": {
      "text/plain": [
       "2.284375"
      ]
     },
     "execution_count": 54,
     "metadata": {},
     "output_type": "execute_result"
    }
   ],
   "source": [
    "#testando para t = 15\n",
    "\n",
    "\n",
    "\n",
    "Wj_val(0.5, 0.5, 0.5, 15)\n",
    "\n",
    "#it works!!!!\n",
    "\n",
    "\n"
   ]
  },
  {
   "cell_type": "markdown",
   "metadata": {},
   "source": [
    "#### Vamos montar a matriz com os valores das funções valor\n",
    "\n",
    "Isso porque cada função valor é função dela mesma no período seguinte. Vamos resolver de trás pra frente e guardar as funções de cada período para permitir que calculemos o período anterior.\n",
    "\n",
    "As dimensões são:\n",
    "\n",
    "teta, ls, lj, T\n",
    "\n",
    "\n",
    "No artigo, as estimativas são de teta_s0 = 0.281 e teta_j0 = 0.364, então vou trabalhar com três casas decimais"
   ]
  },
  {
   "cell_type": "code",
   "execution_count": 73,
   "metadata": {},
   "outputs": [],
   "source": [
    "#coloquei 1000 de dimensão para ter três casas decimais\n",
    "\n",
    "grid_size = 1000\n",
    "\n",
    "#problema computacional fazer uma matriz gigante com quarta dimensão T. Mesmo se fosse quarta dimensão = 2,\n",
    "#não tem memória suficiente\n",
    "Matriz_Ws =  np.zeros((grid_size,grid_size,grid_size))\n",
    "\n",
    "\n",
    "Matriz_Wj =  np.zeros((grid_size,grid_size,grid_size))"
   ]
  },
  {
   "cell_type": "markdown",
   "metadata": {},
   "source": [
    "No último período, independente de habilidade ou o que seja, o valor das funções valor é o valor de liquidação:\n",
    "\n",
    "\n"
   ]
  },
  {
   "cell_type": "code",
   "execution_count": null,
   "metadata": {},
   "outputs": [],
   "source": [
    "#os valores de continuação no nó final são os valores de liquidação, independente das habilidades\n",
    "Matriz_Ws[:,:,:,T-1] = Ls(T)\n",
    "\n",
    "\n",
    "Matriz_Wj[:,:,:,T-1] = Lj(T)"
   ]
  },
  {
   "cell_type": "code",
   "execution_count": 65,
   "metadata": {},
   "outputs": [],
   "source": [
    "#então para t = 15, precisamos substituir o valor de Wj[15] por Matriz_Wj[i, j, k, 15],\n",
    "#(i,j,k) por enquanto não importam porque não alteram o valor da função no último nó\n",
    "\n",
    "#ideia do código tirada do modelo de McCall\n",
    "\n",
    "\n",
    "# R = np.empty((grid_size, grid_size))\n",
    "\n",
    "ls_vals = np.linspace(0.001, 1.0, grid_size) #c varia de 10 a 30\n",
    "# β_vals = np.linspace(0.9, 0.99, grid_size)  #Beta varia de 0.9 a 0.99\n",
    "\n",
    "\n",
    "# #tem que fazer um enumerate para cada um\n",
    "# #como R é bidimensional, calculamos o salário para cada par [i,j] no grid\n",
    "\n",
    "# for i, c in enumerate(c_vals):\n",
    "#     for j, β in enumerate(β_vals):\n",
    "#         mcm = McCallModel(c=c, β=β)\n",
    "#         R[i, j] = compute_reservation_wage(mcm)\n",
    "\n",
    "\n",
    "\n",
    "\n",
    "# for i, ls in enumerate(ls_vals):\n",
    "#     for j, lj in enumerate(lj_vals):\n",
    "#         for k, θ in enumerate(θ_vals):\n",
    "#             Matriz_Ws[i, j, k, (t-1)] = Ws_vals(k, j, i)\n"
   ]
  },
  {
   "cell_type": "code",
   "execution_count": 68,
   "metadata": {},
   "outputs": [
    {
     "data": {
      "text/plain": [
       "0.364"
      ]
     },
     "execution_count": 68,
     "metadata": {},
     "output_type": "execute_result"
    }
   ],
   "source": [
    "#a vantagem de configurar o ls_vals desse jeito é que vou conseguir achar o valor que eu quiser para as habilidades\n",
    "#se eu quero a habilidade ls = 0.364, por exemplo, basta digitar:\n",
    "ls_vals[363]"
   ]
  },
  {
   "cell_type": "markdown",
   "metadata": {},
   "source": [
    "### Como é o update da habilidade no penúltimo período?\n",
    "\n",
    "Notação de trás pra frente: 1 = T-1... cj sem subscrito é o cj em T\n",
    "\n",
    "Se s quem propõe, ls = \\theta_s1\n",
    "\n",
    "Se s não propõe, ls = max(ls1, cs)\n",
    "\n",
    "Onde cs é tal que\n",
    "\n",
    "Ps1 = Ws_vals(cs, cs, lj = \\theta_j1, T)\n",
    "\n",
    "Como todos os valores de Ws são o mesmo no último período, então cs é indefinido, logo ls = ls1\n",
    "\n",
    "\n",
    "### Como é o update da habilidade no antepenúltimo período?\n",
    "\n",
    "t = T-2, subscrito 2\n",
    "\n",
    "Se s quem propõe, ls1 = \\theta_s2\n",
    "\n",
    "Se s não propõe, ls1 = max(ls2, cs1)\n",
    "\n",
    "Onde cs1 é tal que\n",
    "\n",
    "Pj2 = Ws_vals(cs1, cs1, lj = \\theta_j2, (T-1))\n",
    "\n",
    "É possível calcular os valores de Ws_vals() para quaisquer valores de habilidades e lower bounds em T-1, então é possível encontrá-lo.\n",
    "\n",
    "\n",
    "\n"
   ]
  },
  {
   "cell_type": "markdown",
   "metadata": {},
   "source": [
    "# Próximos passos\n",
    "\n",
    "\n",
    "\n",
    "* criar função de esperança baseada na função beta\n",
    "\n",
    "* criar função de esperança de outras funções, ex: $\\es{1}{\\Ws{1}}$\n",
    "\n",
    "* criar um vetor de W o valor final e ir preenchendo de trás pra frente\n",
    "\n",
    "* pensar em como guardar as três dimensões referentes a teta, ls e lj para cada função valor\n",
    "\n",
    "    * tem como fazer array tridimensional: array(i, j, k)\n",
    "    \n",
    "* pensar em como colocar a função no período seguinte em função dos argumentos atuais\n",
    "\n",
    "\n",
    "* ~fazer Js_val~\n",
    "\n",
    "* ~guardar resultados de Js_val e Ws_val do último período numa  matriz 4D~\n",
    "* guardar resultados de Js_val e Ws_val do penúltimo período numa  matriz 3D\n",
    "\n",
    "* pensar numa função Js_next para achar o valor de Js no próximo período baseado nos parâmetros deste período\n",
    "    * regra para atualização de lst\n",
    "    * regra para atualização de ljt\n",
    "    * expectativa da habilidade no período seguinte\n",
    "\n",
    "\n",
    "\n",
    "\n",
    "\n",
    "\n",
    "\n",
    "* passos finais\n",
    "    * replicar os gráficos do artigo de referência\n"
   ]
  }
 ],
 "metadata": {
  "kernelspec": {
   "display_name": "Python 3",
   "language": "python",
   "name": "python3"
  },
  "language_info": {
   "codemirror_mode": {
    "name": "ipython",
    "version": 3
   },
   "file_extension": ".py",
   "mimetype": "text/x-python",
   "name": "python",
   "nbconvert_exporter": "python",
   "pygments_lexer": "ipython3",
   "version": "3.7.6"
  }
 },
 "nbformat": 4,
 "nbformat_minor": 4
}
