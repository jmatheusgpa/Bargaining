{
 "cells": [
  {
   "cell_type": "markdown",
   "metadata": {},
   "source": [
    "## Sequência de funções valor para os credores\n",
    "\n",
    "Queremos resolver por indução retroativa um jogo com T períodos.\n",
    "\n",
    "Estou trabalhando em como deixar esse jogo em torno do parâmetro T\n",
    "\n",
    "Teremos duas sequências de funções valor: uma para quando apenas o credor sênior propõe e outra para quando apenas o credor júnior propõe. As funções do jogo final serão uma média ponderada destas.\n",
    "\n"
   ]
  },
  {
   "cell_type": "code",
<<<<<<< Updated upstream
   "execution_count": 1,
=======
   "execution_count": 24,
>>>>>>> Stashed changes
   "metadata": {},
   "outputs": [],
   "source": [
    "#para mostrar todos os resultados e não apenas o último\n",
    "from IPython.core.interactiveshell import InteractiveShell\n",
    "\n",
    "InteractiveShell.ast_node_interactivity = \"all\""
   ]
  },
  {
   "cell_type": "code",
<<<<<<< Updated upstream
   "execution_count": 2,
=======
   "execution_count": 25,
>>>>>>> Stashed changes
   "metadata": {},
   "outputs": [],
   "source": [
    "#libraries\n",
    "import numpy as np\n",
    "from numba import jit, jitclass, float64, njit\n",
    "import matplotlib.pyplot as plt\n",
    "%matplotlib inline\n",
    "import quantecon as qe\n",
    "from scipy.stats import beta\n",
    "\n",
    "import math"
   ]
  },
  {
   "cell_type": "markdown",
   "metadata": {},
   "source": [
    "### Passo 0: definindo comandos do latex para facilitar a escrita\n",
    "\n",
    "$%conjunto de informações de s em t$\n",
    "$\\newcommand{\\Is}[1]{\\theta_{s{#1}}, l_{s{#1}}, l_{j{#1}}}$\n",
    "$%macros para facilitar a escrita de funções valor$\n",
    "\n",
    "\n",
    "$%conjunto de informações de j em t$\n",
    "$\\newcommand{\\Ij}[1]{\\theta_{j{#1}}, l_{s{#1}}, l_{j{#1}}}$\n",
    "\n",
    "$%função valor de s em t$\n",
    "$\\newcommand{\\Ws}[1]{ W_{s{#1}} ( \\Is{{#1}}) }$\n",
    "\n",
    "$%função valor de j em t$\n",
    "$\\newcommand{\\Wj}[1]{ W_{j{#1}} ( \\Ij{{#1}}) }$\n",
    "\n",
    "$%operador esperança de s em t. 2 argumentos: o primeiro é o período e o segundo é o termo que ela tira a esperança$\n",
    "\n",
    "$\\newcommand{\\Es}[2]{\\mathbb{E_{#1}^{s} \\big[ {#2}  \\mid ( \\Is{#1} )    \\big] }}$\n",
    "\n",
    "$%minúsculo não mostra o conjunto de informação$\n",
    "$\\newcommand{\\es}[2]{\\mathbb{E_{#1}^{s} \\big[ {#2}  \\big] }}$\n",
    "\n",
    "$%minúsculo não mostra o conjunto de informação$\n",
    "$%final b de big para aumentar os parênteses$\n",
    "$\\newcommand{\\esb}[2]{\\mathbb{E_{#1}^{s} \\bigg[ {#2}  \\bigg] }}$\n",
    "\n",
    "$%operador esperança de j em t. 2 argumentos: o primeiro é o período e o segundo é o termo que ela tira a esperança$\n",
    "\n",
    "$\\newcommand{\\Ej}[2]{\\mathbb{E_{#1}^{j} \\big[ {#2}  \\mid ( \\Ij{#1} )    \\big] }}$\n",
    "\n",
    "$%minúsculo não mostra o conjunto de informação$\n",
    "$\\newcommand{\\ej}[2]{\\mathbb{E_{#1}^{j} \\big[ {#2}  \\big] }}$\n",
    "\n",
    "$%minúsculo não mostra o conjunto de informação$\n",
    "$%final b para aumentar os parênteses$\n",
    "$\\newcommand{\\ejb}[2]{\\mathbb{E_{#1}^{j} \\bigg[ {#2}  \\bigg] }}$\n",
    "\n",
    "\n",
    "$%comando para usar o máximo com chaves grandes$\n",
    "$\\newcommand{\\maximo}[1]{\\max \\bigg\\{ #1 \\bigg\\}}$\n"
   ]
  },
  {
   "cell_type": "code",
<<<<<<< Updated upstream
   "execution_count": 3,
=======
   "execution_count": 26,
>>>>>>> Stashed changes
   "metadata": {},
   "outputs": [],
   "source": [
    "#parâmetros do jogo, apenas para ilustração a princípio\n",
    "\n",
    "\n",
    "\n",
    "μ = 3 #número de meses entre períodos, não entendi onde entra ainda\n",
    "ρ = 0.9 # (1 - ρ) é a taxa de depreciação da empresa a cada período\n",
    "β = 1 #usamos aqui a distribuição Uniforme, depois vamos mudar isto\n",
    "c0 = 0.05 #custo fixo de ir para a corte\n",
    "c1 = 0.015 #custo variável de ir para a corte\n",
    "\n",
    "\n",
    "\n",
    "\n",
    "λj = 0.5 #probabilidade de j propor a cada turno. Não precisaremos estimar, isso virá dos dados\n",
    "\n",
    "\n",
    "θ_s0 = 0.5 #habilidade inicial de s\n",
    "θ_j0 = 0.5 #habilidade inicial de j"
   ]
  },
  {
   "cell_type": "code",
<<<<<<< Updated upstream
   "execution_count": 4,
=======
   "execution_count": 27,
>>>>>>> Stashed changes
   "metadata": {},
   "outputs": [],
   "source": [
    "#informações que virão dos dados\n",
    "\n",
    "Vmax = 100\n",
    "L = 20 \n",
    "L_s = 10\n",
    "L_j = 10\n",
    "\n",
    "#valores da dívida de cada jogador (virá dos dados, aqui é exemplo):\n",
    "Ds = 20\n",
    "Dj = 10"
   ]
  },
  {
   "cell_type": "markdown",
   "metadata": {},
   "source": [
    "### Qual o ganho que o credor s tem em propor a cada período?\n",
    "\n",
    "Suponha que ele vai propor reorganizar a firma no perído t. A reorganização demora 1 período, então o valor da firma aparece no próximo período, $V_{t+1}$. E ele precisa fazer uma estimativa sobre $\\theta_{s,t+1}$ dada a informação que ele tem no período atual, que eu chamei de k: $\\theta_{s,k}$:\n",
    "\n",
    "$$ R_t (\\theta_{s,k}) = V_{t+1} \\bigg( \\mathbb{E}_k^s \\big[ \\theta_{s,t+1} \\mid \\theta_{s,k} \\big] \\bigg) - L_j$$\n",
    "\n",
    "\n",
    "#### Qual a estimativa da habilidade dele nos períodos à frente dada a informação dele hoje?\n",
    "\n",
    "Essa parte depende da hipótese sobre a distribuição da habilidade.\n",
    "\n",
    "Se supormos que a habilidade segue distribuição Uniforme, a forma fechada dela é:\n",
    "\n",
    "Suponha $ t > k$\n",
    "\n",
    "$$ \\mathbb{E}_k^s \\big[ \\theta_{s,t} \\mid \\theta_{s,k} \\big] =  \\frac{\\theta_{s,k}} {2^{t - k}} + \\sum_{n=1}^{t - k} \\frac{1}{2^{n}} $$\n",
    "\n",
    "\n",
    "#### Quais os passos do algoritmo para implementar essa estratégia?\n",
    "\n",
    "1. Calcular todos os valores de reorganização $ R_t $ de $ t \\in  \\{k, k+1, ..., T\\}$ e também o valor de nunca reorganizar, que é $L_s$\n",
    "\n",
    "2. Criar uma condição para checar se $\\max \\{R_{k}, R_{k+1}, ..., R_{T}, L_s \\} = R_{k}$\n",
    "    * em caso positivo, oferecer $P_s = W_{j, t+1} = L_j$ a fim de reorganizar a firma\n",
    "    * em caso negativo, oferecer $P_s < W_{j, t+1} = L_j$ a fim de adiantar o jogo até o próximo período\n",
    "    \n",
    "3. Repetir os passos 1 e 2 até que reorganize a firma ou o jogo termine com ela liquidada"
   ]
  },
  {
   "cell_type": "markdown",
   "metadata": {},
   "source": [
    "### Passo 1: número máximo de turnos\n",
    "\n",
    "Calculado com base nos parãmetros"
   ]
  },
  {
   "cell_type": "code",
<<<<<<< Updated upstream
   "execution_count": 5,
=======
   "execution_count": 28,
>>>>>>> Stashed changes
   "metadata": {},
   "outputs": [],
   "source": [
    "#função para calcular o máximo de turnos do jogo\n",
    "def maximo_de_turnos(ρ, Vmax, L):\n",
    "    \n",
    "    t = 1\n",
    "    \n",
    "    while ρ**t * Vmax > L:\n",
    "        \n",
    "        t = t + 1\n",
    "        \n",
    "    return t\n",
    "    "
   ]
  },
  {
   "cell_type": "code",
<<<<<<< Updated upstream
   "execution_count": 6,
=======
   "execution_count": 29,
>>>>>>> Stashed changes
   "metadata": {},
   "outputs": [
    {
     "data": {
      "text/plain": [
       "16"
      ]
     },
<<<<<<< Updated upstream
     "execution_count": 6,
=======
     "execution_count": 29,
>>>>>>> Stashed changes
     "metadata": {},
     "output_type": "execute_result"
    }
   ],
   "source": [
    "#guardando o número máxim de turnos\n",
    "\n",
    "T = maximo_de_turnos(ρ, Vmax, L)\n",
    "\n",
    "T"
   ]
  },
  {
   "cell_type": "code",
<<<<<<< Updated upstream
   "execution_count": 7,
=======
   "execution_count": 30,
>>>>>>> Stashed changes
   "metadata": {},
   "outputs": [],
   "source": [
    "#valor máximo de reorganização da firma a cada período\n",
    "\n",
    "\n",
    "#sequência de valores da firma para cada período\n",
    "\n",
    "V = np.empty(T, dtype=np.int_)\n",
    "\n",
    "for t in range(T):\n",
    "\n",
    "    V[t] = ρ**t * Vmax"
   ]
  },
  {
   "cell_type": "code",
<<<<<<< Updated upstream
   "execution_count": 9,
=======
   "execution_count": 31,
>>>>>>> Stashed changes
   "metadata": {},
   "outputs": [],
   "source": [
    "#valor de liquidação\n",
    "\n",
    "\n",
    "#a dívida total é sempre a soma das dívidas\n",
    "D = Ds + Dj\n",
    "\n",
    "#o custo total é uma função do tempo\n",
    "\n",
    "def C(t):\n",
    "    Ct = c0 * D + c1 * t * D\n",
    "    \n",
    "    return Ct\n",
    "\n",
    "#e os valores de liquidação também são função do tempo\n",
    "\n",
    "def Ls(t):\n",
    "    \n",
    "    Lst = min(L - C(t), Ds)\n",
    "    \n",
    "    return Lst\n",
    "\n",
    "def Lj(t):\n",
    "    \n",
    "    Ljt = min(L - C(t) - Ls(t), Dj)\n",
    "    \n",
    "    return Ljt\n",
    "    \n",
    "    \n"
   ]
  },
  {
   "cell_type": "code",
<<<<<<< Updated upstream
   "execution_count": 28,
=======
   "execution_count": 32,
>>>>>>> Stashed changes
   "metadata": {},
   "outputs": [
    {
     "data": {
      "text/plain": [
       "100"
      ]
     },
<<<<<<< Updated upstream
     "execution_count": 28,
=======
     "execution_count": 32,
>>>>>>> Stashed changes
     "metadata": {},
     "output_type": "execute_result"
    },
    {
     "data": {
      "text/plain": [
       "20"
      ]
     },
<<<<<<< Updated upstream
     "execution_count": 28,
=======
     "execution_count": 32,
>>>>>>> Stashed changes
     "metadata": {},
     "output_type": "execute_result"
    }
   ],
   "source": [
    "V[0] #é o primeiro valor do negócio\n",
    "\n",
    "V[15]"
   ]
  },
  {
   "cell_type": "code",
<<<<<<< Updated upstream
   "execution_count": 19,
=======
   "execution_count": 33,
>>>>>>> Stashed changes
   "metadata": {},
   "outputs": [
    {
     "data": {
      "text/plain": [
       "17.6"
      ]
     },
<<<<<<< Updated upstream
     "execution_count": 19,
=======
     "execution_count": 33,
>>>>>>> Stashed changes
     "metadata": {},
     "output_type": "execute_result"
    }
   ],
   "source": [
    "Ls(2)"
   ]
  },
  {
   "cell_type": "markdown",
   "metadata": {},
   "source": [
    "### Passo 2: definir as funções valor de liquidação e as matrizes para guardar seus valores\n",
    "\n",
    "\n",
    "$$ W_{s1} (\\Is{1}) = (1 - \\lambda_j) S_1 (\\Is{1}) + (\\lambda_j) s_1 (\\Is{1}) $$"
   ]
  },
  {
   "cell_type": "markdown",
   "metadata": {},
   "source": [
    "A primeira parte da função valor de s é caso ele venha a propor:\n",
    "\n",
    "\n",
    " $$ S_1 (\\Is{1}) = \\max \\bigg\\{ L_{s1}, V \\es{1}{\\theta_s} - \\es{1}{W_j}, \\es{1}{W_s}\n",
    "                    \\bigg\\} $$\n",
    "\n"
   ]
  },
  {
   "cell_type": "code",
<<<<<<< Updated upstream
   "execution_count": 10,
=======
   "execution_count": 34,
>>>>>>> Stashed changes
   "metadata": {},
   "outputs": [],
   "source": [
    "#precisamos dos valores de cada theta e cada l para calcular essa função\n",
    "\n",
    "Ws = np.empty(T, dtype=np.int_)\n",
    "\n",
    "Wj = np.empty(T, dtype=np.int_)\n",
    "\n",
    "ls = np.empty(T, dtype=np.int_)\n",
    "\n",
    "lj = np.empty(T, dtype=np.int_)\n",
    "\n",
    "θs = np.empty(T, dtype=np.int_)\n",
    "\n",
    "θj = np.empty(T, dtype=np.int_)\n",
    "\n",
    "\n",
    "#os valores de continuação no nó final são os valores de liquidação\n",
    "Ws[T-1] = Ls(T-1)\n",
    "Wj[T-1] = Lj(T-1)\n",
    "\n",
    "\n"
   ]
  },
  {
   "cell_type": "markdown",
   "metadata": {},
   "source": [
    "### Função para tirar os valores esperados de t períodos à frente\n",
    "\n",
    "Essa é a base do jogo. Vamos começar com a Uniforme mesmo por ser mais fácil de computar (e verificar), depois eu mudo o código para considerar a Beta."
   ]
  },
  {
   "cell_type": "code",
<<<<<<< Updated upstream
   "execution_count": 11,
=======
   "execution_count": 35,
>>>>>>> Stashed changes
   "metadata": {},
   "outputs": [],
   "source": [
    "#função para calcular a esperança da habilidade nos períodos à frente\n",
    "def expec(h, k, t):\n",
    "    #h é a informação hoje, usada para prever a habilidade\n",
    "    #k é o período de hoje\n",
    "    #t é o período para o qual eu desejo estimar a habilidade\n",
    "    \n",
    "    #somatório de n até t-k\n",
    "    summation = 0\n",
    "    for i in range(1, t-k+1):      \n",
    "        summation += 2**-i\n",
    "    \n",
    "    resultado = h/2**(t-k) + summation\n",
    "    \n",
    "    return resultado\n",
    "    \n",
    "# expec(0.5, 1, 4) #ok com os meus cálculos\n",
    "\n",
    "#como ficaria um gráfico dessa função?\n"
   ]
  },
  {
   "cell_type": "code",
<<<<<<< Updated upstream
   "execution_count": 12,
=======
   "execution_count": 36,
>>>>>>> Stashed changes
   "metadata": {},
   "outputs": [
    {
     "data": {
      "text/plain": [
       "0.999969482421875"
      ]
     },
<<<<<<< Updated upstream
     "execution_count": 12,
=======
     "execution_count": 36,
>>>>>>> Stashed changes
     "metadata": {},
     "output_type": "execute_result"
    }
   ],
   "source": [
    "expec(θ_s0, 1, (T-1))"
   ]
  },
  {
   "cell_type": "code",
   "execution_count": 13,
   "metadata": {},
   "outputs": [],
   "source": [
    "\n",
    "#aqui a notação está em contagem regressiva novamente\n",
    "#aqui é o valor do que ele faz\n",
    "S1 = [Ls((T-1)), V[T-1-1] * expec(θ_s0, 1, (T-1)) - Wj[T-1], Ws[T-1]]\n",
    "\n",
    "\n",
    "#aqui é o que ele faz. Como policy_S1 é igual a 1, significa que ele propõe reorganizar pagando PS1 = Wj[T-1]\n",
    "policy_S1 = np.argmax(S1)\n",
    "\n",
    "\n",
    "S1 = S1[policy_S1]\n",
    "\n",
    "Es_S1 = S1"
   ]
  },
  {
   "cell_type": "markdown",
   "metadata": {},
   "source": [
    "A segunda parte da função valor é se se for chamado a responder:\n",
    "    \n",
    "$s_1 (\\Is{1}) = $\n",
    "    $ \\esb{1}{ Prob ({j liquidar})  \\maximo{L_{s1}, V \\es{1}{\\theta_s} - L_{j1}} } $\n",
    "    $ + \\esb{1}{ Prob ({j reorganizar})   \\maximo{\\ej{1}{W_s}, \\es{1}{W_s}}    }$\n",
    " \n",
    " \n",
    " Sendo que\n",
    " \n",
    " $ \\Es{1}{Prob (j liq em T-1)}$\n",
    " \n",
    "  $$ = Prob \\bigg(L_{j1} > \\max \\{V \\es{1}{ \\ej{1}{\\theta_j} } - \\es{1}{ \\ej{1}{W_s} }, \\es{1}{ \\ej{1}{W_j}  }\\} \\bigg)$$\n",
    "  \n",
    "  \n",
    " Repare que $L_{j1} > L{j}$ e que $\\es{1}{\\theta_{j}}$ cresce em $\\theta_{j}$. Então deve existir um threshold de reorganização em t = T-1, $\\phi_{j1}$, tal que: \n",
    "\n",
    "$$V \\phi_{j1} - L_{s} = L{j1} $$\n",
    "\n",
    "$$ \\phi_{j1} = \\frac{ L_{j1} + L_{s} }{V} $$\n",
    "\n",
    "Então se $\\es{1}{\\theta_{j}} > \\phi_{j1}$, j reorganiza a firma. E j liquida a firma caso contrário.\n",
    "\n",
    "\n",
    "A pergunta é: qual a probabilidade de que $\\theta_{j}$ tome um valor menor ou igual a $\\phi_{j1}$ ? Isso pode ser respondido usando a \\textit{prior} do jogador, a função CDF da distribuição Beta:\n",
    "\n",
    "$$ \\Es{1}{Prob (\\textnormal{j liq em T-1})} = F_{\\beta} \\big( \\phi_{j1} \\mid l_{j1} \\big) $$\n",
    " \n"
   ]
  },
  {
   "cell_type": "code",
   "execution_count": 14,
   "metadata": {
    "scrolled": false
   },
   "outputs": [
    {
     "data": {
      "text/plain": [
       "0.55"
      ]
     },
     "execution_count": 14,
     "metadata": {},
     "output_type": "execute_result"
    },
    {
     "data": {
      "text/plain": [
       "0.10000000000000009"
      ]
     },
     "execution_count": 14,
     "metadata": {},
     "output_type": "execute_result"
    }
   ],
   "source": [
    "#s1\n",
    "#Prob_s1 é a probabilidade de l liquidar em t-1, de acordo com o credor sênior (s)\n",
    "\n",
    "\n",
    "# Prob_s1 \n",
    "\n",
    "ϕj1 = ( Lj((T-1)) + Ws[T-1] ) / V[T-1]\n",
    "\n",
    "ϕj1\n",
    "\n",
    "lj1 = 0.5 #endogeneizar depois\n",
    "\n",
    "\n",
    "Prob_s1 = 1 - ((1 - ϕj1)**β)/((1 - lj1)**β)\n",
    "\n",
    "Prob_s1\n",
    "\n",
    "# a probabilidade de reorganizar será o complementar."
   ]
  },
  {
   "cell_type": "markdown",
   "metadata": {},
   "source": [
    "Agora o valor esperado caso j liquide. No paper isto é \n",
    "\n",
    "$  \\maximo{L_{s1}, V \\es{1}{\\theta_s} - L_{j1}}  $\n",
    "\n",
<<<<<<< Updated upstream
    "Repare que s quer prever a habilidade dele próprio no período final, então podemos usar a habilidade dele no período T-1 para isso"
=======
    "O objetivo é criar uma função f() capaz de calcular todos os valores entre 1 e T usando apenas um conjunto de informações do período atual e o valor dela no último período."
   ]
  },
  {
   "cell_type": "code",
   "execution_count": 37,
   "metadata": {},
   "outputs": [],
   "source": [
    "#função básica f\n",
    "    \n",
    "def f(θt, t):\n",
    "   \n",
    "    #condição para calcular o valor dela no último período\n",
    "    if(t == T):\n",
    "        \n",
    "        return Ls(T-1)\n",
    "    \n",
    "    else:\n",
    "        \n",
    "        #regra simples de update da habilidade\n",
    "        θ_next = θt + 0.1\n",
    "        \n",
    "        \n",
    "        #retorna o máximo entre a função hoje ou ela amanhã\n",
    "        return max(V[t] * θt, f(θ_next, t+1))\n",
    "        \n",
    "    "
>>>>>>> Stashed changes
   ]
  },
  {
   "cell_type": "code",
<<<<<<< Updated upstream
   "execution_count": 15,
=======
   "execution_count": 38,
>>>>>>> Stashed changes
   "metadata": {},
   "outputs": [
    {
     "data": {
      "text/plain": [
       "array([1., 1., 1., 1., 1., 1., 1., 1., 1., 1., 1., 1., 1., 1., 1., 1.])"
      ]
     },
<<<<<<< Updated upstream
     "execution_count": 15,
     "metadata": {},
     "output_type": "execute_result"
    },
=======
     "execution_count": 38,
     "metadata": {},
     "output_type": "execute_result"
    }
   ],
   "source": [
    "f(0.5, 15)\n"
   ]
  },
  {
   "cell_type": "code",
   "execution_count": 39,
   "metadata": {},
   "outputs": [
>>>>>>> Stashed changes
    {
     "data": {
      "text/plain": [
       "1"
      ]
     },
<<<<<<< Updated upstream
     "execution_count": 15,
=======
     "execution_count": 39,
>>>>>>> Stashed changes
     "metadata": {},
     "output_type": "execute_result"
    },
    {
     "data": {
      "text/plain": [
<<<<<<< Updated upstream
       "22.0"
      ]
     },
     "execution_count": 15,
=======
       "[<matplotlib.lines.Line2D at 0x150a0c68a48>]"
      ]
     },
     "execution_count": 39,
>>>>>>> Stashed changes
     "metadata": {},
     "output_type": "execute_result"
    }
   ],
   "source": [
    "#vamos criar um vetor de expectativas de s para a sua própria habilidade.\n",
    "\n",
    "Es_θs = np.ones(T)\n",
    "\n",
    "#popular esse vetor de expectativas com todos os períodos dali pra frente\n",
    "\n",
    "θ_s_atual = θ_s0\n",
    "\n",
    "for i in range(t, T-1):\n",
    "    \n",
    "    Es_θs[i-1] = expec(θ_s_atual, t, i)\n",
    "    \n",
    "\n",
    "    \n",
    "Es_θs \n",
    "\n",
    "#agora vamos calcular o payoff esperado no caso de j propor liquidação\n",
    "\n",
<<<<<<< Updated upstream
    "s1_liq = [Ls((T-1)), V[T-1-1] * Es_θs[T-1] - Lj((T-1)) ]\n",
=======
    "\n"
   ]
  },
  {
   "cell_type": "code",
   "execution_count": 40,
   "metadata": {},
   "outputs": [],
   "source": [
    "#ok, agora que a função básica está ok, vou tentar criar a regra de update da habilidade. \n",
>>>>>>> Stashed changes
    "\n",
    "\n",
    "#aqui é o que ele faz. Como policy_S1 é igual a 1, significa que ele propõe reorganizar pagando PS1 = Wj[T-1]\n",
    "policy_s1_liq = np.argmax(s1_liq)\n",
    "\n",
    "\n",
    "s1_liq = s1_liq[policy_s1_liq]\n",
    "\n",
    "\n",
    "#caso j liquide em T-1, a política ótima é propor reorganizar, o que lhe dá payoff de 22\n",
    "policy_s1_liq \n",
    "\n",
    "s1_liq\n"
   ]
  },
  {
   "cell_type": "markdown",
   "metadata": {},
   "source": [
    "Agora, o payoff esperado de s caso j decida reorganizar a firma\n",
    "\n",
    "$ \\maximo{\\ej{1}{W_s}, \\es{1}{W_s}}    $"
   ]
  },
  {
   "cell_type": "code",
<<<<<<< Updated upstream
   "execution_count": 17,
=======
   "execution_count": 41,
>>>>>>> Stashed changes
   "metadata": {},
   "outputs": [
    {
     "data": {
      "text/plain": [
<<<<<<< Updated upstream
       "0"
      ]
     },
     "execution_count": 17,
=======
       "13.2"
      ]
     },
     "execution_count": 41,
     "metadata": {},
     "output_type": "execute_result"
    },
    {
     "data": {
      "text/plain": [
       "0.6"
      ]
     },
     "execution_count": 41,
>>>>>>> Stashed changes
     "metadata": {},
     "output_type": "execute_result"
    },
    {
     "data": {
      "text/plain": [
       "11"
      ]
     },
<<<<<<< Updated upstream
     "execution_count": 17,
=======
     "execution_count": 41,
>>>>>>> Stashed changes
     "metadata": {},
     "output_type": "execute_result"
    }
   ],
   "source": [
    "#agora vamos calcular o payoff esperado no caso de j propor reorganização\n",
    "\n",
    "s1_reorg = [Ws[T-1], Ws[T-1]]\n",
    "\n",
<<<<<<< Updated upstream
=======
    "Vou colar de novo todas as funções abaixo e trabalhar nelas."
   ]
  },
  {
   "cell_type": "code",
   "execution_count": 46,
   "metadata": {},
   "outputs": [],
   "source": [
    "#payoff de S quanto ele tem o direito de propor em t\n",
>>>>>>> Stashed changes
    "\n",
    "#aqui é o que ele faz. Como policy_S1 é igual a 1, significa que ele propõe reorganizar pagando PS1 = Wj[T-1]\n",
    "policy_s1_reorg = np.argmax(s1_reorg)\n",
    "\n",
    "\n",
    "s1_reorg = s1_reorg[policy_s1_reorg]\n",
    "\n",
    "\n",
<<<<<<< Updated upstream
    "#caso j proponha liquidar em T-1, a política ótima é propor reorganizar, o que lhe dá payoff de 22\n",
    "policy_s1_reorg \n",
=======
    "    \n"
   ]
  },
  {
   "cell_type": "code",
   "execution_count": 45,
   "metadata": {},
   "outputs": [
    {
     "ename": "NameError",
     "evalue": "name 'Ws_val' is not defined",
     "output_type": "error",
     "traceback": [
      "\u001b[1;31m---------------------------------------------------------------------------\u001b[0m",
      "\u001b[1;31mNameError\u001b[0m                                 Traceback (most recent call last)",
      "\u001b[1;32m<ipython-input-45-30fdf8e4cf4b>\u001b[0m in \u001b[0;36m<module>\u001b[1;34m\u001b[0m\n\u001b[0;32m      1\u001b[0m \u001b[1;31m#testando para t = 15, que já sabemos Wj e Ws\u001b[0m\u001b[1;33m\u001b[0m\u001b[1;33m\u001b[0m\u001b[1;33m\u001b[0m\u001b[0m\n\u001b[0;32m      2\u001b[0m \u001b[1;33m\u001b[0m\u001b[0m\n\u001b[1;32m----> 3\u001b[1;33m \u001b[0mSt\u001b[0m\u001b[1;33m(\u001b[0m\u001b[1;36m0.5\u001b[0m\u001b[1;33m,\u001b[0m \u001b[1;36m0.5\u001b[0m\u001b[1;33m,\u001b[0m \u001b[1;36m0.5\u001b[0m\u001b[1;33m,\u001b[0m \u001b[1;36m15\u001b[0m\u001b[1;33m)\u001b[0m\u001b[1;33m\u001b[0m\u001b[1;33m\u001b[0m\u001b[0m\n\u001b[0m",
      "\u001b[1;32m<ipython-input-44-467fd371de1b>\u001b[0m in \u001b[0;36mSt\u001b[1;34m(teta_st, lst, ljt, t)\u001b[0m\n\u001b[0;32m     37\u001b[0m \u001b[1;33m\u001b[0m\u001b[0m\n\u001b[0;32m     38\u001b[0m     \u001b[1;31m#OLHAR ESSA PARTE COM CUIDADO, CONFERIR OS ARGUMENTOS DAS FUNÇÕES NO PERÍODO SEGUINTE\u001b[0m\u001b[1;33m\u001b[0m\u001b[1;33m\u001b[0m\u001b[1;33m\u001b[0m\u001b[0m\n\u001b[1;32m---> 39\u001b[1;33m     \u001b[0mSt\u001b[0m \u001b[1;33m=\u001b[0m \u001b[1;33m[\u001b[0m\u001b[0mLs\u001b[0m\u001b[1;33m(\u001b[0m\u001b[0mt\u001b[0m\u001b[1;33m)\u001b[0m\u001b[1;33m,\u001b[0m \u001b[0mV\u001b[0m\u001b[1;33m[\u001b[0m\u001b[0mt\u001b[0m\u001b[1;33m]\u001b[0m \u001b[1;33m*\u001b[0m \u001b[0mθs_next\u001b[0m \u001b[1;33m-\u001b[0m \u001b[0mWj_val\u001b[0m\u001b[1;33m(\u001b[0m\u001b[0mlst\u001b[0m\u001b[1;33m,\u001b[0m \u001b[0mlst\u001b[0m\u001b[1;33m,\u001b[0m \u001b[0mljt\u001b[0m\u001b[1;33m,\u001b[0m \u001b[0mt\u001b[0m\u001b[1;33m+\u001b[0m\u001b[1;36m1\u001b[0m\u001b[1;33m)\u001b[0m\u001b[1;33m,\u001b[0m \u001b[0mWs_val\u001b[0m\u001b[1;33m(\u001b[0m\u001b[0mθs_next\u001b[0m\u001b[1;33m,\u001b[0m \u001b[0mls_next\u001b[0m\u001b[1;33m,\u001b[0m \u001b[0mlj_next\u001b[0m\u001b[1;33m,\u001b[0m \u001b[0mt\u001b[0m\u001b[1;33m+\u001b[0m\u001b[1;36m1\u001b[0m\u001b[1;33m)\u001b[0m\u001b[1;33m]\u001b[0m\u001b[1;33m\u001b[0m\u001b[1;33m\u001b[0m\u001b[0m\n\u001b[0m\u001b[0;32m     40\u001b[0m \u001b[1;33m\u001b[0m\u001b[0m\n\u001b[0;32m     41\u001b[0m     \u001b[0mpolicy_St\u001b[0m \u001b[1;33m=\u001b[0m \u001b[0mnp\u001b[0m\u001b[1;33m.\u001b[0m\u001b[0margmax\u001b[0m\u001b[1;33m(\u001b[0m\u001b[0mSt\u001b[0m\u001b[1;33m)\u001b[0m\u001b[1;33m\u001b[0m\u001b[1;33m\u001b[0m\u001b[0m\n",
      "\u001b[1;31mNameError\u001b[0m: name 'Ws_val' is not defined"
     ]
    }
   ],
   "source": [
    "#testando para t = 15, que já sabemos Wj e Ws\n",
>>>>>>> Stashed changes
    "\n",
    "s1_reorg"
   ]
  },
  {
   "cell_type": "markdown",
   "metadata": {},
   "source": [
    "A função s1 torna-se então:\n",
    "\n"
   ]
  },
  {
   "cell_type": "code",
<<<<<<< Updated upstream
   "execution_count": 18,
=======
   "execution_count": 47,
>>>>>>> Stashed changes
   "metadata": {},
   "outputs": [],
   "source": [
    "#s1 completa\n",
    "\n",
    "Es_s1 = (Prob_s1) * ( s1_liq) + (1 - Prob_s1) * s1_reorg \n",
    "\n",
    "\n"
   ]
  },
  {
<<<<<<< Updated upstream
   "cell_type": "markdown",
=======
   "cell_type": "code",
   "execution_count": 48,
>>>>>>> Stashed changes
   "metadata": {},
   "source": [
    "Agora vamos calcular a função completa\n",
    "\n"
   ]
  },
  {
   "cell_type": "code",
<<<<<<< Updated upstream
   "execution_count": 19,
=======
   "execution_count": 49,
>>>>>>> Stashed changes
   "metadata": {},
   "outputs": [
    {
     "data": {
      "text/plain": [
       "17.049664306640626"
      ]
     },
<<<<<<< Updated upstream
     "execution_count": 19,
=======
     "execution_count": 49,
>>>>>>> Stashed changes
     "metadata": {},
     "output_type": "execute_result"
    }
   ],
   "source": [
    "Es_Ws1 = λj * Es_S1 + (1 - λj) * Es_s1\n",
    "\n",
    "Es_Ws1\n",
    "\n",
    "#pronto! agora temos um número. Quando formos calcular Es_Ws2, poderemos usar Es_Ws1 como insumo\n",
    "\n",
    "#por exemplo:\n",
    "# S2 = [Ls((T-2)), V[T-1-2] * Es_θs[T-2] - Es_Wj1, Es_Ws1]"
   ]
  },
  {
<<<<<<< Updated upstream
   "cell_type": "markdown",
=======
   "cell_type": "code",
   "execution_count": 50,
>>>>>>> Stashed changes
   "metadata": {},
   "source": [
    "### Como resumir isso?\n",
    "\n",
<<<<<<< Updated upstream
    "A função valor no período t é função de lst, ljt e theta_t. Vamos construir uma função que calcula a função valor de cada período para valores arbitrários destas três variáveis.\n",
=======
    "def s_reorg(teta_st, lst, ljt, t):\n",
    "    \n",
    "    #update dos lower bounds\n",
    "    \n",
    "    \n",
    "    #neste caso quem revela a informação é j,\n",
    "    #vamos ter que colocar o update do lower bound na estrutura da barganha do jogo depois\n",
    "    lj_next = expec(ljt, t, (t+1))\n",
    "    \n",
    "    #algoritmo para calcular cutoff\n",
    "    \n",
    "    cst = lst\n",
    "    \n",
    "    #flag é vai parar o loop se demorar muito\n",
    "    flag = 1\n",
    "    tol = 0.01\n",
    "    #vou usar f() porque a habilidade em f() cresce 0.1 por período\n",
    "    #se cst crescer 0.1, significa que a função funcionou bem\n",
    "        \n",
    "    while (Ws_val(lst, lst, ljt, t+1) - Ws_val(cst, cst, lj_next, t+1) > tol and flag < 10000):\n",
    "        cst = cst + 0.1\n",
    "        flag = flag + 1\n",
    "        \n",
    "    \n",
    "    #ls_next é o máximo entre o lower bound de j hoje e o cutoff de j\n",
    "    ls_next = max(lst, cst)\n",
    "    \n",
    "    \n",
    "    \n",
    "    st_reorg = [Ws_val(ls_next, ls_next, lj_next, t+1), Ws_val(teta_st, ls_next, lj_next, t+1)]\n",
>>>>>>> Stashed changes
    "\n",
    "\n",
    "Passos:\n",
    "\n",
<<<<<<< Updated upstream
    "1. Vamos escrever as funções St, st, Jt e jt.\n",
=======
    "    st_reorg = st_reorg[policy_st_reorg]\n",
    "    \n",
    "    return (st_reorg)\n",
    "\n"
   ]
  },
  {
   "cell_type": "code",
   "execution_count": 51,
   "metadata": {},
   "outputs": [
    {
     "ename": "NameError",
     "evalue": "name 'Ws_val' is not defined",
     "output_type": "error",
     "traceback": [
      "\u001b[1;31m---------------------------------------------------------------------------\u001b[0m",
      "\u001b[1;31mNameError\u001b[0m                                 Traceback (most recent call last)",
      "\u001b[1;32m<ipython-input-51-dc5e70765416>\u001b[0m in \u001b[0;36m<module>\u001b[1;34m\u001b[0m\n\u001b[0;32m      1\u001b[0m \u001b[1;31m#testando para t = 15\u001b[0m\u001b[1;33m\u001b[0m\u001b[1;33m\u001b[0m\u001b[1;33m\u001b[0m\u001b[0m\n\u001b[0;32m      2\u001b[0m \u001b[1;33m\u001b[0m\u001b[0m\n\u001b[1;32m----> 3\u001b[1;33m \u001b[0ms_reorg\u001b[0m\u001b[1;33m(\u001b[0m\u001b[1;36m0.6\u001b[0m\u001b[1;33m,\u001b[0m \u001b[1;36m0.5\u001b[0m\u001b[1;33m,\u001b[0m \u001b[1;36m0.5\u001b[0m\u001b[1;33m,\u001b[0m \u001b[1;36m15\u001b[0m\u001b[1;33m)\u001b[0m\u001b[1;33m\u001b[0m\u001b[1;33m\u001b[0m\u001b[0m\n\u001b[0m\u001b[0;32m      4\u001b[0m \u001b[1;33m\u001b[0m\u001b[0m\n\u001b[0;32m      5\u001b[0m \u001b[1;31m#de fato a habilidade não muda s_reorg em t = 15 porque o próximo período é de liquidação\u001b[0m\u001b[1;33m\u001b[0m\u001b[1;33m\u001b[0m\u001b[1;33m\u001b[0m\u001b[0m\n",
      "\u001b[1;32m<ipython-input-50-c89ccc01c31e>\u001b[0m in \u001b[0;36ms_reorg\u001b[1;34m(teta_st, lst, ljt, t)\u001b[0m\n\u001b[0;32m     20\u001b[0m     \u001b[1;31m#se cst crescer 0.1, significa que a função funcionou bem\u001b[0m\u001b[1;33m\u001b[0m\u001b[1;33m\u001b[0m\u001b[1;33m\u001b[0m\u001b[0m\n\u001b[0;32m     21\u001b[0m \u001b[1;33m\u001b[0m\u001b[0m\n\u001b[1;32m---> 22\u001b[1;33m     \u001b[1;32mwhile\u001b[0m \u001b[1;33m(\u001b[0m\u001b[0mWs_val\u001b[0m\u001b[1;33m(\u001b[0m\u001b[0mlst\u001b[0m\u001b[1;33m,\u001b[0m \u001b[0mlst\u001b[0m\u001b[1;33m,\u001b[0m \u001b[0mljt\u001b[0m\u001b[1;33m,\u001b[0m \u001b[0mt\u001b[0m\u001b[1;33m+\u001b[0m\u001b[1;36m1\u001b[0m\u001b[1;33m)\u001b[0m \u001b[1;33m-\u001b[0m \u001b[0mWs_val\u001b[0m\u001b[1;33m(\u001b[0m\u001b[0mcst\u001b[0m\u001b[1;33m,\u001b[0m \u001b[0mcst\u001b[0m\u001b[1;33m,\u001b[0m \u001b[0mlj_next\u001b[0m\u001b[1;33m,\u001b[0m \u001b[0mt\u001b[0m\u001b[1;33m+\u001b[0m\u001b[1;36m1\u001b[0m\u001b[1;33m)\u001b[0m \u001b[1;33m>\u001b[0m \u001b[0mtol\u001b[0m \u001b[1;32mand\u001b[0m \u001b[0mflag\u001b[0m \u001b[1;33m<\u001b[0m \u001b[1;36m10000\u001b[0m\u001b[1;33m)\u001b[0m\u001b[1;33m:\u001b[0m\u001b[1;33m\u001b[0m\u001b[1;33m\u001b[0m\u001b[0m\n\u001b[0m\u001b[0;32m     23\u001b[0m         \u001b[0mcst\u001b[0m \u001b[1;33m=\u001b[0m \u001b[0mcst\u001b[0m \u001b[1;33m+\u001b[0m \u001b[1;36m0.1\u001b[0m\u001b[1;33m\u001b[0m\u001b[1;33m\u001b[0m\u001b[0m\n\u001b[0;32m     24\u001b[0m         \u001b[0mflag\u001b[0m \u001b[1;33m=\u001b[0m \u001b[0mflag\u001b[0m \u001b[1;33m+\u001b[0m \u001b[1;36m1\u001b[0m\u001b[1;33m\u001b[0m\u001b[1;33m\u001b[0m\u001b[0m\n",
      "\u001b[1;31mNameError\u001b[0m: name 'Ws_val' is not defined"
     ]
    }
   ],
   "source": [
    "#testando para t = 15\n",
>>>>>>> Stashed changes
    "\n",
    "2. Vamos colocar essas funções como argumentos das funções valor\n",
    "\n",
    "3. Vamos testar as funções valor e ver o que funciona e o que não.\n",
    "\n"
   ]
  },
  {
   "cell_type": "code",
<<<<<<< Updated upstream
   "execution_count": 24,
=======
   "execution_count": 52,
>>>>>>> Stashed changes
   "metadata": {},
   "outputs": [],
   "source": [
    "#payoff de S quanto ele tem o direito de propor em t\n",
    "\n",
    "#aqui eu colo Wj[t] e Ws[t] como argumentos. \n",
    "#Tem que ter preparado o terreno antes calculando as funções valor no período seguinte\n",
    "\n",
    "def S(teta_s, l_s, l_j, t):\n",
    "    \n",
    "    St = [Ls(t), V[t] * expec(teta_s, t, (t+1)) - Wj[t], Ws[t]]\n",
    "    \n",
    "    #aqui é o que ele faz. Como policy_S1 é igual a 1, significa que ele propõe reorganizar pagando PS1 = Wj[T-1]\n",
    "    policy_St = np.argmax(St)\n",
    "    \n",
    "    St = St[policy_St]\n",
    "    \n",
    "    return St\n",
    "\n",
    "\n",
    "    \n",
    "\n",
    "    \n"
   ]
  },
  {
   "cell_type": "code",
<<<<<<< Updated upstream
   "execution_count": 29,
   "metadata": {},
   "outputs": [
    {
     "data": {
      "text/plain": [
       "11.75"
      ]
     },
     "execution_count": 29,
     "metadata": {},
     "output_type": "execute_result"
    },
    {
     "data": {
      "text/plain": [
       "15"
      ]
     },
     "execution_count": 29,
     "metadata": {},
     "output_type": "execute_result"
    }
   ],
=======
   "execution_count": null,
   "metadata": {},
   "outputs": [],
>>>>>>> Stashed changes
   "source": [
    "Ls((T-1))\n",
    "\n",
    "(T-1)"
   ]
  },
  {
   "cell_type": "code",
<<<<<<< Updated upstream
   "execution_count": 247,
=======
   "execution_count": 53,
>>>>>>> Stashed changes
   "metadata": {},
   "outputs": [],
   "source": [
    "#função para calcular o valor de reorganizar a empresa t períodos à frente\n",
    "\n",
    "#vetor com as valores máximos de reorganização da firma a cada turno. Usada como input da função reorg()\n",
    "\n",
    "V = np.empty(maximo_de_turnos(ρ, Vmax, L), dtype=np.int_)\n",
    "\n",
    "for t in range(maximo_de_turnos(ρ, Vmax, L)):\n",
    "\n",
    "    V[t] = ρ**t * Vmax\n",
    "\n",
    "\n",
    "#coloquei V[t] porque ele já pega t+1, considerando que o python conta a partir do zero\n",
    "\n",
    "\n",
    "def reorg(h, k, t):\n",
    "    return V[t] * expec(h,k,t+1) - C(t) - L_j \n",
    "\n"
   ]
  },
  {
   "cell_type": "code",
<<<<<<< Updated upstream
   "execution_count": 22,
=======
   "execution_count": 54,
>>>>>>> Stashed changes
   "metadata": {},
   "outputs": [
    {
     "data": {
      "text/plain": [
       "array([[[0., 0., 0., 0.],\n",
       "        [0., 0., 0., 0.],\n",
       "        [0., 0., 0., 0.]],\n",
       "\n",
       "       [[0., 0., 0., 0.],\n",
       "        [0., 0., 0., 0.],\n",
       "        [0., 0., 0., 0.]],\n",
       "\n",
       "       [[0., 0., 0., 0.],\n",
       "        [0., 0., 0., 0.],\n",
       "        [0., 0., 0., 0.]]])"
      ]
     },
<<<<<<< Updated upstream
     "execution_count": 22,
=======
     "execution_count": 54,
>>>>>>> Stashed changes
     "metadata": {},
     "output_type": "execute_result"
    }
   ],
   "source": [
    "#usaremos uma matriz tridimensional para gravar as funções valor de cada período para as combinações das três variáveis\n",
    "\n",
    "\n",
    "np.zeros((3,3,4))\n",
    "\n",
    "\n",
    "\n"
   ]
  },
  {
   "cell_type": "code",
   "execution_count": 9,
   "metadata": {},
   "outputs": [],
   "source": [
    "#retirada da habilidade de s\n",
    "#é uma função da habilidade dele no período passado\n",
    "\n",
    "#vetor com as habilidade realizadas em cada período\n",
    "H_s = []\n",
    "h_s0 = 0.1\n",
    "H_s.append(h_s0)\n",
    "\n",
    "#habilidade hoje é h_s, habilidade ontem é h_s1\n",
    "\n",
    "h_s1 = H_s[len(H_s) -1]\n",
    "def draw(x):\n",
    "    h_s = np.random.uniform(x, 1)\n",
    "    \n",
    "    H_s.append(h_s) #atualiza com a habilidade realizada\n",
    "    return h_s\n",
    "\n"
   ]
  },
  {
   "cell_type": "markdown",
   "metadata": {},
   "source": [
    "### Solução do modelo simples\n",
    "\n",
    "Como R[0] significa hoje, se o argmax de R for hoje, então a estratégia ótima é jogar Ps = L_j. Do contrário, vou supor que a oferta é menor que isso (será que tem diferença colocar Ps = 0 ou só Ps = L_j - 1?"
   ]
  },
  {
   "cell_type": "code",
<<<<<<< Updated upstream
   "execution_count": 10,
=======
   "execution_count": 55,
>>>>>>> Stashed changes
   "metadata": {},
   "outputs": [],
   "source": [
    "#código para computar em qual período s reorganiza a firma\n",
    "\n",
    "def pbe(max_turnos, h_s0):\n",
    "    \n",
    "    #max_turnos vai ser calculada a partir de V, ρ e L. Por enquanto fica assim\n",
    "    #max_turnos = 4 é o que estou testando\n",
    "    #h_s0 é o nível de habilidade inicial do credor s\n",
    "    t = 1\n",
    "    \n",
    "    \n",
    "    \n",
    "    #vetor que conterá as habilidades\n",
    "    H_s = []\n",
    "#     h_s0 = 0.1 #agora h_s0 é argumento da função\n",
    "    H_s.append(h_s0)\n",
    "    \n",
    "    #vetor com as valores máximos de reorganização da firma a cada turno\n",
    "    \n",
    "    \n",
    "\n",
    "\n",
    "    \n",
    "    #vetor com os valores estimados de reorganização\n",
    "    R = np.ones(max_turnos)\n",
    "    R[0] = 0\n",
    "    \n",
    "    \n",
    "    #faz um loop até que o valor máximo de reorganizar seja o de propor reorganizar em t\n",
    "    while t < max_turnos and np.argmax(R) > 0:\n",
    "        \n",
    "        h_s = draw(h_s1)\n",
    "    \n",
    "        #matriz dos payoffs de reorganizar a firma\n",
    "        R = np.empty(max_turnos-t + 1)\n",
    "\n",
    "\n",
    "        # a última entrada de R é sempre o valor de liquidação\n",
    "        R[len(R) -1] = L_s\n",
    "\n",
    "        for i in range(t, max_turnos-t+1):\n",
    "            R[i-t] = reorg(h_s, t, i)\n",
    "        \n",
    "        t = t + 1\n",
    "    #retorna um vetor com três elementos: o período, a habilidade e o valor de Reorganização da firma\n",
    "    return t, h_s, R[0]\n",
    "    \n",
    "    \n",
    "    "
   ]
  },
  {
   "cell_type": "markdown",
   "metadata": {},
   "source": [
    "### Estática Comparativa\n",
    "\n",
    "Gráfico para mostrar como o valor de reorganização muda de acordo com a habilidade inicial do jogador s"
   ]
  },
  {
   "cell_type": "code",
<<<<<<< Updated upstream
   "execution_count": 11,
=======
   "execution_count": 56,
>>>>>>> Stashed changes
   "metadata": {},
   "outputs": [
    {
     "data": {
      "text/plain": [
       "[<matplotlib.lines.Line2D at 0x22f6ddabb48>]"
      ]
     },
<<<<<<< Updated upstream
     "execution_count": 11,
=======
     "execution_count": 56,
>>>>>>> Stashed changes
     "metadata": {},
     "output_type": "execute_result"
    },
    {
     "data": {
      "text/plain": [
       "Text(0.5, 1.0, 'Valor de Reorganização em relação à habilidade inicial')"
      ]
     },
     "execution_count": 11,
     "metadata": {},
     "output_type": "execute_result"
    },
    {
     "data": {
      "text/plain": [
       "Text(0.5, 0, 'Valor de Reorganização')"
      ]
     },
<<<<<<< Updated upstream
     "execution_count": 11,
=======
     "execution_count": 56,
>>>>>>> Stashed changes
     "metadata": {},
     "output_type": "execute_result"
    },
    {
     "data": {
      "text/plain": [
       "Text(0, 0.5, 'Habilidade Inicial')"
      ]
     },
<<<<<<< Updated upstream
     "execution_count": 11,
=======
     "execution_count": 56,
>>>>>>> Stashed changes
     "metadata": {},
     "output_type": "execute_result"
    },
    {
     "data": {
      "image/png": "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\n",
      "text/plain": [
       "<Figure size 432x288 with 1 Axes>"
      ]
     },
     "metadata": {
      "needs_background": "light"
     },
     "output_type": "display_data"
    }
   ],
   "source": [
    "#gráfico para estática comparativa\n",
    "grid_size = 25\n",
    "H = np.empty(grid_size)\n",
    "\n",
    "h_s0_vals = np.linspace(0.01, 0.99, grid_size)\n",
    "\n",
    "\n",
<<<<<<< Updated upstream
    "R_vals = np.empty(grid_size)\n",
=======
    "Wj_val(0.5,0.5,0.5, 16)"
   ]
  },
  {
   "cell_type": "code",
   "execution_count": 57,
   "metadata": {},
   "outputs": [],
   "source": [
    "#vamos fazer algo similar ao Prob_s\n",
>>>>>>> Stashed changes
    "\n",
    "for i in range(grid_size):\n",
    "    R_vals[i] = pbe(4, h_s0_vals[i])[2]\n",
    "\n",
    "\n",
    "\n",
    "fig, ax = plt.subplots()\n",
    "ax.plot(R_vals, h_s0_vals, '-o', label='$q(w(i))$')\n",
    "ax.set_title(\"Valor de Reorganização em relação à habilidade inicial\")\n",
    "ax.set_xlabel('Valor de Reorganização')\n",
    "ax.set_ylabel('Habilidade Inicial')\n",
    "\n",
    "plt.show()\n",
    "\n",
    "#o valor de reorganização não é crescente na habilidade inicial.\n",
    "#Acho que é por causa da aleatoriedade, então vou calcular a MÈDIA do valor de reorganização para vários draws com a mesma h_s0"
   ]
  },
  {
<<<<<<< Updated upstream
   "cell_type": "markdown",
=======
   "cell_type": "code",
   "execution_count": 58,
>>>>>>> Stashed changes
   "metadata": {},
   "source": [
    "### Estática Comparativa da média do Valor de Reorganização"
   ]
  },
  {
   "cell_type": "code",
<<<<<<< Updated upstream
   "execution_count": 12,
=======
   "execution_count": 59,
>>>>>>> Stashed changes
   "metadata": {},
   "outputs": [
    {
     "data": {
      "text/plain": [
       "[<matplotlib.lines.Line2D at 0x22f6ddf0dc8>]"
      ]
     },
     "execution_count": 12,
     "metadata": {},
     "output_type": "execute_result"
    },
    {
     "data": {
      "text/plain": [
       "Text(0.5, 1.0, 'Valor de Reorganização MÈDIO em relação à habilidade inicial')"
      ]
     },
     "execution_count": 12,
     "metadata": {},
     "output_type": "execute_result"
    },
    {
     "data": {
      "text/plain": [
       "Text(0.5, 0, 'Valor de Reorganização')"
      ]
     },
<<<<<<< Updated upstream
     "execution_count": 12,
=======
     "execution_count": 59,
>>>>>>> Stashed changes
     "metadata": {},
     "output_type": "execute_result"
    },
    {
     "data": {
      "text/plain": [
       "Text(0, 0.5, 'Habilidade Inicial')"
      ]
     },
<<<<<<< Updated upstream
     "execution_count": 12,
=======
     "execution_count": 59,
>>>>>>> Stashed changes
     "metadata": {},
     "output_type": "execute_result"
    },
    {
     "data": {
      "image/png": "iVBORw0KGgoAAAANSUhEUgAAAZYAAAEYCAYAAAB/QtA+AAAABHNCSVQICAgIfAhkiAAAAAlwSFlzAAALEgAACxIB0t1+/AAAADh0RVh0U29mdHdhcmUAbWF0cGxvdGxpYiB2ZXJzaW9uMy4xLjMsIGh0dHA6Ly9tYXRwbG90bGliLm9yZy+AADFEAAAgAElEQVR4nOydeZxkVXn3v0/tS6/TPT1LzwwDDJvsOmIEjbgCbqAxKsZEjIaYxNdEDYqJIWhMRNE3r1GzEGJQY1Q0bBJ00KBGEITBYR0YHYZhpnu27pneu2vt5/3j3qq6tXb1Ur0+38+nPnXrnnPvPafq1vnd5znnOUdUFcMwDMOYK3wLXQDDMAxjeWHCYhiGYcwpJiyGYRjGnGLCYhiGYcwpJiyGYRjGnGLCYhiGYcwpJizGskVEVonIn4uI3eeGMY/YH85YtqjqMXfz2oUsh2GsNBa9sIjIZhFREQk06PxXiMi9jTj3UkFENonIqIj4G3iNG0Vkp4hsFJH/adR1SlHVz6nqNfN1vcWMiPxERN47B+e5RkT2iciZIvLjWZxnlYj8WkTOqSPvjP+nInKhiPTUSP9nEfmrSnlF5EkRuXAm552iTDNu10TkL0TkxrnM6/0O6sg75X3UcGERkW0i8skK+y8VkUONEoz5wP2CE26j3C8it4jIuoUu13RR1X2q2qSq2QZephP4HeDbwM0zPYmI7BWRlIh0lux/xP2jbnY/3+TmG/W8HnXTcn/q3P7DInKniLy6wrVe5fm8QUS+ISJHRWRMRB4UkdfPtC5LmLOAVwD/F/jZTE/iWpSXA/+0kO2Aqr5PVf+mStrpqvqTeS5STVT171S1rgeEevPW+g5mwnxYLDcBvysiUrL/d4FvqGqmUReep5v1/araBGwBmoDPzfUFlrL45lDVy1R1h6qer6r/MsvTPYvTIAEgImcC0Qr5PusKZu51dkl6m/vbnQ38ELhVRK6odEERWQXcC6SA03GE8u+B/xSRt8yyPrNmPu8RVX2Lqu5W1VfP1hpU1e3A3+L8f4xlwnwIy23AKuCluR0i0g68Hvia+/l1IrJDRIZFZL+IXFvtZCKyXkTuEJFjIrJbRP7Ak3atiHxXRP5DRIaBKyoc3+EePywiDwInlqSfKiI/dM+/S0TeWk8lVXXQrWverBcRn4hcLSLPuE+5N7sNVC79ja6pPehaP6d50vaKyEdF5DFgTEQCIvJ893saEZHviMi3ReRTue/UferuE5EBd3uD53w/EZG/EZH73OPvzj31e81yEXlxyVN+QkT2uvnOE5H73fIeFJEviUjIc43TPd/dYRH5izqPO19EHhKRIff9/Cm+7q8Dv+f5/C7ce2kmqOohVf0CTl/MZ6RyZ/8HgVHgPW7+CVX9Jk6j+PkKD04AiMhviMjP3bo/Kh63ivubfMpNHxWR77n35zfc+/MhcS2wCufN/WbvEZF9wD1TXa/k+BNF5B73vux3r9nmSd8ojgXe5+b5Up3HnebWa9C9t99Y7XsXkXeLyFPAN4G7ROQPq+X1HPM59/5+VkQuKT2Xe2/vqXQucdxC/e5/63c8+2/K/Y8qHJO3WkUk6uYdEJGdwAtL8ub+6yPiuH3f5Enzu2XvF5E9wOtKjm0VkX9z/x+97n1R0TUtTjv3H+527j54lzjuyX4R+ctKed3PL/HcH/vFfZDyfgcyRVtSF6ra8Bfwr8CNns9/CDzi+XwhcCaO0J0FHAYuc9M2AwoE3M8/Bf4RiOA04n3AK920a4E0cJl7rmiFsnwLxxUTB84AeoF73bQ4sB94NxAAng/0A6dXqddPgPe62x3Aj4DbPel/BjwAbADCwL8A33TTTgbGgFcDQeAjwG4g5KbvBR4BNuI8jYeA54A/dfO/Gefp+VOe6/8WEAOage8At5WU9Rn3ulH383WVvmPPMUE336fdzy8AfsP9bjYDTwF/5qY1AweBD7u/TTPwojqOWwUM4FiwARxLZADoqPKd7wVeBewCTgP87m92nFuHzW6+m3LfTYVzVKvvCe7+07zXcrcfAD5R4VzHu8ecUiGtGzgKvBbnfny1+3m15zfZjfNw0wrsBH7l1i+AI5b/PkUdvoZz30brvF7uft3ipoeB1cD/Av/PTfMDj+JYZHH393xJHccF3fr8Bc79+gpgpNJ34+Z/nVt3AV4GjAPPr5L3Cpz/9h+45fsj4AAgU50Lp33J4Ljuwm76WK5c3nvFzdtTer+529fhuP5W4fwvnyjJ+9vAeve7f5t7jXVu2vuAp93jVgE/prhduw2nfYgDXcCDwB9W+S6uBf6j5D74V/ceOBtIUriHvXk3ub/H5e5v1QGcU+E7qKcteW/NNn8uBaTqReAlwBBuQw/cB3ywRv7/B/x9aSPg/ihZoNmT99PATZ4v8X9rnNePc3Oe6tn3dxSE5W3Az0qO+Rfgr6uc7yc4N/CQW8ZHgE2e9KdwRc/9vM69fgD4K+BmT5oPR+Qu9NzQv+9J/003XTz77qV643kOMFBS1o97Pv8x8IPS77jkHP8E/Dfgq3KNPwNudbcvB3bUeT94j/td4MGS9PuBK6ocuxen4f24+9tfjOPGClAuLAlg0PP66hT1jbj7L/Bey93eDbyvQnmKjilJ+yjw9ZJ924B3eX6Tv/SkfR74vufzG/A8gJWcJ1eHE6Z5vYoNAs7D2A53+8U4D2yBSnlrHPdS4JD3fsGxRq6t8764DfjTKmlXALs9n2Nu/ddOdS4KwhL3pN8M/JXnXqlHWPYAF3vSrvTmrVCGR4BL3e17vPcP8BoK7doaHDGIetIvB35c5bzXUi4sGzzpDwJvr5D3Y7j/uwrnzH8HFdIqtSU1hWVe/LKqeq+I9AGXiuN+eiHOEzcAIvIinKeBM3CedMI4KlnKeuCYqo549j0HbPV83l+jKKtxfkhvnuc828cBLxKRQc++AI7rpRofUNUbxfHz34ljnezznO9WEZn05M/i3EjrvddW1UkR2Y/z1FmpLuuBXnV/2dJ0EYnhPGFeDLS7u5tFxK+FTvlDnmPHcfqEKuK6Ei4EfkNVJ919J+M89W3F+WMHgIfdQzbiWESVzlXruKLvweU5ir+HSnwd52n5eKq7wT6nqh+f4jxectc8ViGtH+fBoJR1nvRSjgN+W0Te4NkXxHlazXHYsz1R4XPV38jFe4/Ucz0ARKQL+AccMWjGebAZcJM3As9phf7PKY5bD+zP3S8uVX9L15X11zhWtA/n3ni8Rl3z96+qjrvex6Y6zzWgqmMl5Vpf41qVWE/1tgMR+T3gQziNfa5suUEmtY49Dud3OigFj6qP2m1ZKfX8t6v+R73U2ZbUZD6HG38Nxy/+u8Ddqur9A/0ncAewUVVbgX/GMWlLOQCsEpFmz75NOE/yOZTq9OE8uWwsOT7HfuCnqtrmeTWp6h9NUTdU9XHgU8CXpXB37AcuKTlfRFV73boclzvePWZjjbocBLo956akHh8GTsFxP7XgWDhQ+XusiYi8FPgbnKetIU/SP+GY8ye51/gLz/n3U9JfVedxRd+DS+lvWoaqPofTif9a4JY6qlUPbwKO4LjZSvkR8FtS3v/yVpy6/6rCMftxLAjv7x9X1evmqLxQfI9M53qfdo89y/1N3knxb7lJKg8IqHXcAWBjyXdU8bcUkTDwXziDXdaoahtwFzO7X+s5V7uIxEvKdWCalzpIlbZDRI7DcUe9H8eN24bjKpOpjsX5vpNAp+d3a1HV06dZvqmo9R/1Muu2ZL6F5VU4PtKvlqQ141giCRE5D3hHpROo6n7g58CnRSQiImcB7wG+UU8BXLW9BbhWRGIi8jycjt8cdwIni8jvikjQfb1QPJ3qU/BVHP9orsPyn4G/dW86RGS1iFzqpt0MvE5EXikiQZwfM+nWrxL341g77xenk/1S4DxPejPOE+6gOAME/rrOMhchIhtxhgT/nqqWNpbNwDAwKiKn4vi5c9wJrBWRPxORsIg0u5boVMfdhfOdv8Ot19uA57nnm4r3AK8oeRKdNiKyRkTej/OdfazkiTvH3wMtwL+JyFr3/rsc+EvgqhJLMsd/AG8QkYvcztuIOLEP0+sIrZ/pXK8ZZzDCoIh0A1d50h7EaQivE5G4e54L6jjuFzj9Ch9x/zsX4rjzvlXh+jnPRB+QcS2O18yw3vWe6xMiEnIfnF5PZa9ILW4GPuZ2bm8A/o8nLY4juH3gDCbA8cB4j/2AOEPW24GrcwmqehC4G2cQSIs4g35OFJGXTbN8U/EN4FUi8lb3v9YhlWOIZt2WzJuwqOpenEYzjmOdePlj4JMiMgJcQ+04h8txTM0DwK04/R8/nEZR3o9jJh7C8Sv+u6eMIzg35Nvd8x8CPoNz006JqqZw3AS5QKMv4NT1brduDwAvcvPuwnna+yKOG+UNwBvcc1Q795txGtNB99g7ccQInH6pqHuuB4Af1FPmCrwSWAt8Vwojw5500/4cR/RHcJ7Ovu0p3whOp+4bcPo2eoGX13HcUZw/+YdxOpo/ArxeVSu5lopQ1WfUGa5ajY9I8Qi30nMOisgYjsvktcBvq+pXqlzrKE5fYQSnk/0ojtvjd1X121WO2Q9cimOh9eE8MV5Fg/5307zeJ3AGpwzh9KPlrT73AewNOB31wzi/29vqOC6F81B1Cc59+I84DyhPVyjrCPABnP/6AM79Udou1Fvves51yE07gNPAvq9SuabgEzgurGdxhCDvIlfVnTh9ZPfjuDPPxOlLzvGvOP1djwK/pNzK/j0cgdzplvO7VHa9zhhV3Ydzn38Yx937CE5nfymzbkuk8oOWsRQQkV8A/6yq/z5l5nnEfSJ8jarWFclrLF5EZBNOp+7vTZnZMFwW/ZQuRgEReZnrhgmIyLtwhmbP1DJpCCLShDN44eVT5TUWN+5v2Y9rZRtGvZiwLC1OwTGlh3DM2be4/tnFxCdwzPl6+kiMxc3v4wjLjxa6IMbSwlxhhmEYxpxiFothGIYxpyy5yQ07Ozt18+bNC10MwzCMJcXDDz/cr6qr5+NaS05YNm/ezPbttUaYGoZhGKWISOkMFw3DXGGGYRjGnGLCYhiGYcwpJiyGYRjGnNIwYRGRr4jIERF5okq6iMg/iLNY12Mi8vxGlcUwDMOYPxppsdyEM+1yNS4BTnJfV+LMgGsYhmEscRo2KkxV/1eqLKvqcinwNXdW2AdEpE1E1i3CSHLDMJYxt+3o5fptuzgwOMH6tihXXXQKl5071XJARi0Wso+lm+KFbHqoviDQlSKyXUS29/X1zUvhDMNY/ty2o5eP3fI4vYMTKNA7OMHHbnmc23bUXA7ImIKFjGOptGhMxfllVPUG4AaArVu32hw0hmFMi0x2kpFEhuFEmuGJDCOJNMOJNNfe8SQT6eJFESfSWa7ftsusllmwkMLSQ/GKahuY/opuhmEsc1SVZGYyLwrDibQjEhPpGtuueLj5x1N1raib58DgRINqszJYSGG5A2c1xG/hTMs9ZP0rhrH8mJxUxlKZihbD8IQjBCPJ2uKQylZa1LNAwCe0RIO0RAI0R4K0RAN0NTfRHAnQEgnSEg1W3H73TQ9yeDhZdr71bdFGfR0rgoYJi4h8E7gQ6BSRHpzlLYMAqvrPOEvSvhbYDYwD725UWQzDmDleN5LXOhiuYh2MlFgWI4k0k1M4sCNBX1Gj3xYLsakj7hEDVzAiAVdAircjQR8idS/Jnudjl5zGx255vMgdFg36ueqiU6Z9LqNAI0eFXT5FugJ/0qjrG4bhkEhnSywF10rIWxDF2zNxIzWHAwVLIBpkfVuEUyPNJZZCThyKhaI5EiQUWJhxRLl+FBsVNrcsuUkoDWMloaqMpbIV+xPqE4r63UheAVjd1ERL1Pmccy052wUrIbfdFA7g903fWlgsXHZutwnJHGPCYqwIFipWIedGKrUIKgmAt99hJFnYV68bKdfQt8VCbFwVKxOAFu+7x+0UDfpn5EYyjGqYsBjLnlysQs6PnotVAKYUl5wbqdpoI+92JaEYm64bKeK4kVoizRWtg1KhWEg3kmFUw4TFWPZcv21XxViFa25/gp0Hh4vFIZFhxNM5ncpM7UYqbfRP6Gyq2p9QOjppqbuRDKMSJizGsqdaTMJwIsMN/7uH1c3hfKPfGg2ysT1aJgAtnv4Hb7+DuZEMoxwTFmPZs74tSm+NgDefwNkb2rhgSycXbOlkbWtkHktnGMsPExZj2XPVRadUiFXw8eHXnEIsFOC+Z/r5ya/6uMWdH+qE1XEuONERmRef0EFrLLhQRTeMJYkJi7HsmSpW4R0v2sTkpPLUoWF+vvso9z3Tz3/9soevP/AcPoEzuls5/8ROXrKlk62b24kE/QtZHcNY9IgTp7h02Lp1q27fvn2hi2Esc1KZSR7ZP8h9u/v5+TP97Ng3SGZSCQV8vGBTOxds6eD8LZ2c1d1KwG+jsozFj4g8rKpb5+VaJiyGMTVjyQwP7j3Gfb/u575njvLUwWHAGSr8ohM6uGBLBy/Z0smWribrzDcWJfMpLOYKM4w6iIcDvPyULl5+ShcAR0eT3L/nKPftPsrPn+nnR08dBqCrOcz5JzrWzAVbOul2JzO0xaSMlYRZLIYxB+w/Ns7Pn+nPC03/aAqA4zvjrGsNs33vAKls4b8WDfr59JvPNHEx5g1zhdXAhMVY7Kgquw6POCKzu597nj5ScQW77rYo9139inkvn7EymU9hsV5Hw5hjRIRT17bwnpccz79d8cKq+WwxKWO5YsJiGA2m2qJRtpiUsVwxYTGMBnPVRacQLYl9scWkjOWMjQozjAbjDdDsHZwg4BP+7k1nWMe9sWwxi8Uw5oHLzu3mvqtfwXVvPpPMpLKpI7bQRTKMhmHCYhjzyBvOXk/IL7zzxgc5/ur/5oLr7uE2d44yw1gumCvMMOaRH+48TFYhNYNFxwxjqWDCYhgzQFVJZiYZS2YYT2UZTWYYS2bc96xnO8NoynkfT2a56/GDZEvWGp5IZ7l+2y4TFmPZYMJirBhSrhCMloiBVwTGSkRiPJllLOVJTxbSM1MtRu8S8vuIh/3EwwESVVaktJgWYzlhwmIsWjLZSachTxUEwNuwV2vwx1LZcsFIZkllay8znCPgE+LhAE3hQF4QmsIB1jRH3G0/sVx6yO/JGyg+LuR89q5Jf8F191RcdMxiWozlhAmLMWdkJ5WxlNcKyDKea9xTzudKDX7umNL05BTrzefwCRUadz8d8Vh+XyzspykUKMnnz2/n84X8hAO+hs1QXHnRMYtpMZYXJiwrmMlJZTxd0h9Qwf1TURCKrAJn29tY1kIE92ne87QfCtDdFqLJsy8Wqtz4e/fFQwEiwcYJwVwz1aJjhrEcMGFZQqgqE+lsxQ7iSu6fUkEYT5UfUy+xIpeP4+ZZ2xIpshByDX01ayC3Lxr0LxkhaASXndttQmIsa1aEsCzUWhi5kUOVRgxVc/8U7Ut53EXu5zr7i4kEfUVP9U3hAJ1NIY7riBW5jMr7CCq4h4J+fL6VKwSGYUyPZS8st+3oLfJpTxU3kMxky4eLlvQFVBQETx9CoV8hWza0tBrhgC/fsOeEoD0WYmN7rNhl5BED7768xeAKid+EwDCMBWLZC8v123aV+f4n0lk++l+P8dX795Z1IKez9Q8hjXlEIB720xIJsL41Uuwy8riHvI1/XhBCTsdy0NZNNwxjmbDshaVafEAyM8mOfYN1n6c54vQprGmJ0NUSpj0WoskViKaIIxLNHtEo7PcTDvinvoBhGMYyYdkLy/q2aMW4gbUtEf7jvecxmswymnBcV17X12gyw2jC+TziCaQ7MDTBr4+MOGl1dn4H/VLUb1FLjOJuWlPYT1M4SDzsp9l9b4oETKQMw1j0NFRYRORi4AuAH7hRVa8rSd8EfBVoc/Ncrap3zWUZqsUNXH3JqWzpap7VuSfzcRtZRpPpmiI15gpV7vPAWIp9x8bz+2cjUnkxClUQLFek4qHcduGYRsZrGIaxcmmYsIiIH/gy8GqgB3hIRO5Q1Z2ebB8HblbVfxKR5wF3AZvnshyNjBvw+YTmSJDmSBCIzOpcuZiSUmEaSZRYUSUiNZbKMDieomdgPD/IYDSZqeuaQb8UW1H1WE+RgImUYRg1aaTFch6wW1X3AIjIt4BLAa+wKNDibrcCBxpRkKUQN+DzSb6hni1TidRYqoJgJWYnUgGfONZSKOCITyXByllPFdK8x5hIGcbSppHC0g3s93zuAV5Ukuda4G4R+T9AHHhVA8uzYmiESFW0nhKVRSq3PTiRpmdgvDCPVyqD1jHozitS5f1RjvXU5PY5lVlYnj6shRSphYqdMozFQCOFpdK/ubRZuRy4SVU/LyIvBr4uImeoatEkUSJyJXAlwKZNmxpSWKMyXpFa0zJ1/lrUEqlagyZGkxmGJtL0zlCkKg2aaPIEghb3R81epKYbO2UYy41GCksPsNHzeQPlrq73ABcDqOr9IhIBOoEj3kyqegNwA8DWrVvrjD03FhtzLVK56W2qiZF3/6g7wGIsmWVoIs2BwYlCWp0i5feUPxen1BQJlonUTT/fWzF2ytZcMVYKjRSWh4CTROR4oBd4O/COkjz7gFcCN4nIaTg94H0NLJOxTPC5lkg8HGDNLM9VTaSK+qeKBk2Ui1QubaRGn5StuWKsFBomLKqaEZH3A9twhhJ/RVWfFJFPAttV9Q7gw8C/isgHcdxkV6jW8+xoGHPHbEXqyEiCOx89yG2P9PJYz1DVfLbmirFSaGgcixuTclfJvms82zuBCxpZBsNoBKPJDHc/eYhbd/Ry3+5+JhVOX9/Cx193GkG/cN33d9maK8aKZdlH3hvGXJHOTvKzX/dx244D3L3zEIn0JBvao/zxhVu47Nz1RQG3rdGQjQozViwmLIZRA1Xll/sGuf2RXu587CDHxlK0xYK85QUbuOycbl5wXHvFkWJLIXbKMBqFCYthVOCZvlFu39HLbY8cYN+xccIBH6963hredE43v3ny6qJ17A3DKMaExVixlAYx/uHLjiedhdvdTnifwPkndvKBV57ERaevcafuMQxjKkxYjBVJpSDGa253Zhs6o9vphH/j2evpapndHHCGsRIxYTFWJJUWgAPoag5z5/956QKUyDCWD+YoNlYk1YIV+0aS81wSw1h+mLAYK5JqwYoWxGgYs8eExViRXHXRKUSDxatxWhCjYcwN1sdirEhyMSZ/edvjjCWzdFsQo2HMGSYsxorlsnO7OTA0wWd/sIsffug3iYXs72AYc4G5wowVzb5j4wCcfs02LrjuHm7b0bvAJTKMpY8Ji7FiuW1HL7c87AiJUliQy8TFMGZHVdtfRJ5f60BV/eXcF8cw5o/rt+0ilS1arJSJdJarb3mM+3b3Ew8HiIX8zpT6uXd3X1M4QMxdOjkW9hMPBYgEF2YZZMNYbNRyKn++RpoCr5jjshjGvFItliWRnuTe3f2MJTOMpbJkJ+tbIsgnEA+54uOKTTz/7mzHctt5ofIXBConWJ70oN+cCsbSo6qwqOrL57MghjHfrG+L0ltBXLrbotx3tfPcpKokM5OMJTOMp7KMpZyVJMeS2bzwjKeclSbHk84qlOMpZ/+Yu+/gUKJ4X6o84r8aIb+vWHwqCFbMK15TCFYs6MfnM6vKaCx1DYMRkTOA5+EsHQyAqn6tUYUyjPngqotOKZovDMpjWUSESNBPJOinY46um1sKOSdMY+6yx+OpgjCNJrOMe9NThTxjyQx9I8mCyKWypDKTU1/YJRbKiU7Ogsq5+7xWlXefI1ixcOGYJo+bMBwwF6BRzJTCIiJ/DVyIIyx3AZcA9wImLMaSJhezMt8LcnmXQp4r0tlJxpPZIrEZT7qWlEewvJbWmGffsbEU+4+NO+nuOer0AOL3iaffqVik4m5flNeSyqV7Lam8yLnHBcwFuKSp585+C3A2sENV3y0ia4AbG1ssw5gflsuCXEG/j9aYj9bY3Ezt73UB5sTGa0mNVnENevcdGEy72467cFouwICvIFQlFlQ9rr+ccOfSo+YCnFfqEZYJVZ0UkYyItABHgBMaXC7DMBaQIhdg09ycM+t1AU5hSY2lnP6pghvQyXtkOFl0TOmovur1gVjQXzQwIu/6K9vnFSrPgAtvv1bIP68uwNK1gxb7LBH1CMt2EWkD/hV4GBgFHmxoqQzDWHb4fUJT2LEq5opUZpKJVJbRVKbYkvIIktc1WLwvw9GxFM8dGy8SsXpdgAHXBVhqHRX3UVUWrIqjBUOVXYCV1g762C2PAyxacRHVOr9FQEQ2Ay2q+lijCjQVW7du1e3bty/U5Q3DWMbkXIDVRvnlX+5owLESqyrvLvS4CCut+1ONcM4F6BGeJ3qHSFYYnOEdvVgPIvKwqm6t+4BZUCtA8lRVfbpSoKSIPN8CJA3DWA6oKqnsJInUJBPpLIm0IwYT6SyJVGF7IuWkpbKTZLKat2z8PiHo9xEOKJPqd/c5Fk044GcslWFoIk09z/DJzCTJTIqjY1PnrRaHtRioZZN+CLiSyoGSFiBpGEbDSWcnKzbweQFITeaFIOFJK//s5EuUHe9s1+v+8hLy+4gEfURDfqJuf1RuuyUSJBLyEwn4iYZ8RINuHjc96uaNBD3HBp28EW96wM9LP/vjivFWi3ntoFoBkle67xYoaRhGERm3wXca/fqe9CdyQpCpke4Ri0Q6S2YGLX7QL2WNs9Og++iIh4i2expyTwPvbdyLG/ti4YgE/UQCvnkbEl1PvNVio544lj8BvqGqg+7nduByVf3HRhfOMIzpkZ1UTyOeLdouavyn8aSfrHCOdHb6Db5PIBYKuA205yk+6Kc9HmJ9sEYD73nSL1gC3n2FvMttGpyFireaDVN23ovII6p6Tsm+Hap6bkNLVgXrvDeWIpOTSiJT7sbxNvZlDXyq5Cm+1pN+KksiPVn38FsvuaG40ZCfcFmD7Tzpl7puco14sWvHV/aUHw36CbvvQb9YhP4Csig67z34RETUVSAR8QOhxhbLWMospTH3k5POKKDip/kqT/qpEl99RUugcp5Ko3rqodgVU/DnN4UDdDaFK/rrKz3pF1sCxU/6Ib9NyWLMLfUIyzbgZhH5Z5xO+/cBP2hoqYwly1yNuc8N+6zcwNf7pD/pNurVLYFEemYNfiRY7MrJNeKxUIBV8Qig/goAACAASURBVFzj7SvqsC162q/xpJ9z89gcXMZSpR5h+Sjwh8AfAQLcjU3pYlTh+m27ysbtT6SzfPy2J3hk/2DNJ/1EulgwphFilScU8FV4inee9Ntiwbxbpty14ysfpVNhtE806DT4Nj2IYVRnSmFR1Ungn9yXYdSk2tj60WSGm36+t2KaCKxribCpI8amVTFao8Ei33y1Bj73pO8VA781+Iax4NQKkLxZVd8qIo/juMCKUNWzpjq5iFwMfAHwAzeq6nUV8rwVuNa9xqOq+o76i28sNqqtcdIcCfD6s9bTN5Lg8HCSIyMJ+kdTZCcVVTgwlODAUIIH9hyjLRZkTXOErpYwq5vDrGmJ0NUcpqs5Qizkz6dFgv4FqKFhGFNRy2L5U/f99TM5sdvJ/2Xg1UAP8JCI3KGqOz15TgI+BlygqgMi0jWTaxmLh2pj7v/m0jPK+liyk8rRsSRHhpP0jThikxOdI8NJjowkeebIKH2jyYrDW5sjAbq8wlP67m7P5dxUhmFMTa0AyYPu+3MzPPd5wG5V3QMgIt8CLgV2evL8AfBlVR1wr3VkhtcyFgnTGXPv9wldzRG6miNlaV4mJ5XBiTSHhxMcGUlypPR9JMnD+wY4PJysuOBVPOSnqyVSYv2E6WoJeyyjCC2RgHWWG8YcUE+A5JuBzwBdOJ33AqiqtkxxaDew3/O5B3hRSZ6T3Wvch+Muu1ZVbcTZEmeu1zjx+YRV8RCr4iFOW1c9n6oyPJEptnxGHIvo8EiCvuEkj/cMcng4WXFiwHDA57F+HNdb/t0jRG2xoAmQYdSgHh/BZ4E3qOpT0zx3pX9eqT8jAJyEs0LlBuBnInJGLso/fyKRK3HmLWPTpk3TLIaxUhARWmNBWmNBTlrTXDWfqjpre7iiU3C9FQTp6UMj/OxX/YwkM2XHh/w+Vjfn+n8KwrOmJcLqlnC+P6gjHrLRY8aKpB5hOTwDUQHHQtno+bwBOFAhzwOqmgaeFZFdOELzkDeTqt4A3ABO5P0MymIYeUSE5kiQ5kiQE1fXXsVqPJXJ9/d4hafPtYL29I3xwJ5jDE2ky44N+ITOppz14+37KQhRV0uYjnio6rxTSynY1DBy1LvQ17eB24Bkbqeq3jLFcQ8BJ4nI8UAv8HagdMTXbcDlwE0i0onjGttTZ9kNo+HEQgE2dwbY3BmvmS+RzuYHIBwZThb6g9xXz8AEv9w3yLGxVNmxPoFV8Zz14wjPmpYwB4YS3PFILyl34MJSWODJMKA+YWkBxoHXePYpUFNYVDUjIu/Hidz3A19R1SdF5JPAdlW9w017jYjsBLLAVap6dAb1MIwFJRL0s3FVjI2rYjXzpTKT9I+WCM9wwRV3ZCTJ473DHB1LVgwQnUhnueb2J1jbGuGM7lYb8WYsSqa1guRiwCahNFYCmewkJ/3l98sDyDyIwEldTZy1oY2zN7Zx9oZWTl3bQiiwvGb3NeaGRTEJpYh8kQqBkTlU9QMNKZFhGAT8vqrBpmtbI3z6TWfyaM8gj+4f5MdPH+G7D/cAzsCC09a3cM6G1rzgnNAZt0EExrxSy442s8AwFpBqwaZXX3wqLz+1i5ef6sQTqyo9AxM81jOUF5vvPNzDV+93QtCawwHOdIXmnI3O+7rWiA2ZNhqGucIMYxEz01Fh2Unlmb5RHtk/yGM9gzy6f4inDw3nZzBY3Rzm7A2tnL2hjbNcN1pbzFbDWM7MpyvMhMUwVgiJdJanDg47ls3+QR7tGeSZvrF8+nEdMUdoNrRyzsY2Tl/fSjRk87EtFxZFH4thGMuLSNDPuZvaOXdTe37fcCLNEz1DPOqKzfa9x7jjUSfczO8TTupq4pyNbW5/TSsnr2kuWvrX4myMSpjFYhhGEUdGEjy23+2vcQUnFwAaDvg4o7uVsza0kslOcvP2nqLVMaNBP59+85kmLouQRWWxiMjJOGuxrFHVM0TkLOCNqvqphpfOMIx5p6s5wqueF+FVz1sDOIMD9h0bd/trHKH55oP7Kq6+mYuzEXGWUFjXGmFNS6TIyjGWP1NaLCLyU+Aq4F9U9Vx33xOqesY8lK8Ms1gMY+GpJ84mhwh0NYdZ1xql2xWbdW1R1nveO5vCNiS6wSwqiwWIqeqDJUMTy2fmMwxjxVArzmZda4Sv/f55HBhKcHBwggODE8720ARPHRzmf54+XGbtBP3C2tYI61o9gpMTn9Yo69sitEZtVumlQj3C0i8iJ+IGS4rIW4CDDS2VYRiLnmpxNh+9+FROWtNcdYZpVWVgPM2BwQkOuoJzYDD3PsFDewc4PHyQzGSxPRQN+lnfFsm72HKC43x2tmMhG4+0GKjnV/gTnJmFTxWRXuBZ4J0NLZVhGIue6Szq5kWksL7OGd2tFfNkJ5X+0WRefA4MesRnKMGuQ330jZbPp9YaDbKu1RGb9W0F8XEsoShrWyM25c08UPeoMBGJAz5VHWlskWpjfSyGYYAzoefh4URBfIYmOOiKT6/7PjhevJyBCHQ2hfMutnVtEbffx9le3xpldXMY/zLs71kUfSwi8qEq+wFQ1f/boDIZhmFMSSjgm3JG6fFUxnG3DTrCc2BwIr+9u2+Un/26j7FU8WqiAZ+wpiWSt3RyglOwhKK017mK6EqN86nlCss5SE8BXgjc4X5+A/C/jSyUYRjGXBALBThxdVPVBd1UleFExrV6Cu62g4MJegcneGT/ID94IkEqWzzYIBL0OaKTExt3wEHu87rWCP/z1JGiPqiVtJ5OPcON7wZ+K+cCE5Fm4DuqevE8lK8Mc4UZhtEoVJVUdpJkZpJEOksy7bwfGEqwt3+MZz2vnoFxJms0n0Ll6eG726Lcd/UrGlWFqiwKV5iHTYB32bsUsLkhpTEMY8WTnVSSGadRT2Ymne3MpNPI5/dnC2lpjxCU7EtmsiTSxecoHOs5Jl3YN1vCAR/hgI/hROWojAMVhmgvN+oRlq8DD4rIrTgC/Cbgaw0tlWEYC4aqks5qUQOcTJc00J7GOOFplKfTqCcrNOrJTDY/A/NM8fuESMBHOOjPN/LhgJ9w0NmOhwOsirv7Aj53v7/wnjvGc3wkv104TzjgJxIs3hfy+/J9Lxdcd0/FOJ/1bdFZ1W8pMKWwqOrfisgPgJe4u96tqjsaWyzDWNlMTroumXSFBrraU3pJ4114Gi9p0L3nK7EKcsfMdgrBkLdBdxvviKcBbosGCTeH8413pKhRr9J4e0XA29iXCEJgkUwfUy3O56qLTlnAUs0PdUUTqerDIrIfiACIyCZV3dfQkhnGApPJTpKo8EQ9leulVqNeyfWS9Lp33POUdhZPFxGKGvKiJ263IW+NBkvS6ntK9+arJAghv8+mZ2HmcT7LgXomoXwj8HlgPXAEp8/laeD0xhbNWOmo6py6WKo9pVf23U+SrdUzWwdBv5Q9cYc8jXKL27BP5ym9+Em9WBC87p+AT2z6k0XAZed2rwghKaUei+VvgN8AfqSq54rIy4HLG1uspc1yGrteqSO1WqNe62k8UaVBL3fzzG1H6lRulKZwYJauF3+Zmycc8BMK+JZlkJ1h1EM9wpJW1aMi4hMRn6r+WEQ+0/CSLVFu29E7p2PXSztSZ+JiqdWoV3vaz52vdL6m6RLwSU0XS1FH6nSf0qs06pU6Ug3DmD/qEZZBEWnCCYr8hogcwWY3rsr123YVddaBs0bFx297nF/uG6j+lF6jQ3YuO1IjFRrgtliohuvFc0yJnz4cLPfd546NuL72xdKRahjG/FGPsFwKJIAPAr8DtAKfbGShljLVxqiPJrN87f7nyvY3RwJs6WpiTXOk4nDH6sMmyztUi4c++vNP7daRahjGfFLPcOMxz8evNrAsy4Jqa1Q0hQP85smd7Ds2znNHxxlxg6dGEhl27BuksynMplVRNq2K0dUSYdOqGJtWxTiuI8ZqWwTJMIwlRK1JKEeoPCMBAKra0pASLXGqjV3/1GVn5PtYVJWhiXReZPYdG2e/u/3Q3gHuePRA0VQRYXeyvePcCfe8orNxVYxI0D/f1TQMw6hKVWFR1WYAEfkkcAgnAl9w3GGVV/Ax6hq7LiK0xUK0xUKctaGt7BypzCS9gxPsO+aIzr6jY+72BA/sOVo2G2tXczgvMjnB2eSK0OqmsHVgG4Yxr9QzCeUvVPVFU+2bL1b6JJSqyrGxlEd0nPfnXKvn0HCiqLM/GvTnRSYnOLnPG1dFCQfM2jGMlcBim4QyKyK/A3wLxzV2OZCtfYjRKESEjqYwHU1hzt3UXpaeSGfpGZhgvys8Xlfbfbv7i1x0IrC2JZJ3s21aFWOTR3xWxUNm7RiGMW3qEZZ3AF9wXwrc5+4zFiGRoJ8tXU1s6Spff0JV6RtN5vtzvFbPT3/Vx5GRZFH+pnDAda9FXdGJ50Wnuy1atMTrcgoKNQxjdtQzKmwvzpBjY4kjInQ1R+hqjvCC41aVpU+ksuwfKLjXcq9n+sb48a4+Up5IeJ/AulZHcFSV7c8N5IMpV9KCRoZhlFNrVNhHVPWzIvJFKowOU9UPNLRkxrwTDfk5eU0zJ68pH5sxOakcGUm67rWxgqvt2DiP7h8sW/BoIp3lqu8+yk9/1cfmjjibO2Pue5zWaHCeamQYxkJQy2J5yn2fcU+5iFyM40LzAzeq6nVV8r0F+A7wQlVduT3zixifT1jbGmFta4Tzji+2do6/+r8rHpPOKr/Yc5Rbd/QW7W+PBdncGXeExis6HXFaYyY6hrHUqTXc+Hvu+4yCIkXED3wZeDXQAzwkIneo6s6SfM3AB4BfzOQ6xsJTLSg0twRrIp1l37Fxnu0f47mjYzzbP87e/rGqonNcR5zjO010DGOpUssV9j1qB0i+cYpznwfsVtU97vm+hdNXs7Mk398AnwX+vJ4CG4uPqRY0igSru9gqic5zR6cWneM6Yu57nONNdAxjUVHLFfa5WZ67G9jv+dwDlMbDnAtsVNU7RaSqsIjIlcCVAJs2bZplsYy5ZjYLGtUjOnv7x9h7dIy9R6tbOm2xIJtNdAxjUVDLFfbTWZ67UgBE3gISER/w98AVU51IVW8AbgAnQHKW5TIaQCMWNJqJ6Dz47DFue6S3KEg0JzqbO2Js7oyb6BhGg6nlCrtZVd8qIo9T7BITQFX1rCnO3QNs9HzeABzwfG4GzgB+4gbhrQXuEJE3Wge+MRVTic7+vHttnGePOm62h/YOcPujB2qKTm7kWjXRsXgdw5iaqlO6iMg6VT0oIsdVSlfV8jngi48PAL8CXgn0Ag8B71DVJ6vk/wnw51OJykqf0sWYHdVEZ2//OAeGJmqKTv9oku9s7yla2TIa9PPpN59p4mIsehbFlC6qetB9f05E1uJ0xivwkKoemurEqpoRkfcD23CGG39FVZ90J7Xcrqp3zEkNDGMaRIJ+TlrTzEk1LJ2cW81xsVW2dHJMpLNcv22XCYtheJgy8l5E3gtcA9yD4wb7ooh8UlW/MtWxqnoXcFfJvmuq5L2wngIbRqOoJTrP9I3yys9X7nastribYaxU6pkr7CrgXFU9CiAiHcDPgSmFxTCWOkdHk3zpx7v5xgP7quZZ3xadxxIZxuKnHmHpAUY8n0coHkZsGMuO0WSGG3+2h3/93z1MpLO8detGTl3XzGe+v6tqvI5hGA61RoV9yN3sBX4hIrfj9LFcCjw4D2UzjHknmcnyn7/Yx5fu2c3RsRSXnLGWD7/mlPxs0W3RkI0KM4wpqGWx5BzNz7ivHLc3rjiGsTBkJ5XbH+nl//7wV/QMTPDiEzr46CWncs7G4hU+GxGvYxjLjVqjwj4xnwUxjPmiOBYlwiVnruPeX/fz9KERTl/fwt+96UxeelKnLXJmGDOknlFhq4GPAKcDkdx+VX1FA8tlGA3hth29RfOa9Q4muPFnz9IZD/LFy8/ldWeuw+czQTGM2VBP5/03gG8DrwfeB7wL6GtkoQxjrlBVBsbT9AyM0zMwwTW3P1HU+Z4jFPTzhrPXL0AJDWP5UY+wdKjqv4nIn7rzh/1URGY7j5hhzAmqyuB4mp6Bibx4FN6d7bFUuZCUcnAwMQ+lNYyVQT3CknbfD4rI63Dm+9rQuCIZRgFVZWiiWDj2H6stHM3hABtWxdjUEeP8LR1saI+xoT3KhvYo7/3qdg4OlYuIxaIYxtxRj7B8SkRagQ8DXwRagA82tFTGikFVGZ7IsH9gvMzSyG2PJjNFxzSFA2xoj7JxVYwXn9iR33bEI1Zz6eOPXnxqzbVjDMOYPVMKi6re6W4OAS9vbHGM5UaxcJS7qXoHJhipIhwb2mP8xgkd+e0N7VE2tsdoiQZmPGJrNmvHGIZRH7UCJL9I7RUkP9CQEhlLDsdVVSwY+49VF454yJ+3MArC4YjHbIWjHiwWxTAaSy2LxTs3/SeAv25wWYwGM9O1RIYT6bJ+De/2SKJcODa0x9i4qlw4NrRHaY0GLUbEMJYxtQIkv5rbFpE/8342lh7l8RsTfOyWxwF4xWld9BwrF4zc+3CJcMRCfja6InHe5nZP57jz3hYz4TCMlUw9nfdQwyVmLA2u37arLH5jIp3lg99+pOzHjYX8eaHYurk937dhwmEYRj3UKyzGEqfamiGlohIP+Tl+dZxV8TCt0SBBv4901hny6/dNkMxkWRUP0REPN7wvxDCMpUmtzvsRCu1OTESGc0k4a963NLpwxtyxvi1KbwVx6YiH+Oglp3JsLMWxsRRHR1McG0tybCzFnr5Rjo2lGK8SYBjwCe3xEB3xEKvcl7MdZlU86L6H6Ghy0tpjIfw2XYphLHtq9bGUL6NnLFmuuuiUivEbf/X6503ZgZ9IZwvCM+YIjyNA3n0pnjwwzLGxFEMT6YrnEYG2aDBv8bS74pMTppwAedPDAf+cfg+GYTQec4WtEGYTvxEJ+lnfFq07Oj2dnWRg3BWe0YLw5EQpZxk92z/Gw88NcGwsxWSVXrymcKDEGgqxqqlgGXXEQ0VWUyzkN/ecYSwworq0+uW3bt2q27dvnzqjsWSYnHT6cHICdGws6Wx7RGlgPFVkJaWykxXPFQ74HJFpChVZQ6vK3HXWT2SsLETkYVXdOh/XMovFWHB8bl9NezxUV35VZTSZKVhBo6UWUXrG/UTtRcITang/0UxjiwxjMWPCYiw5RITmSJDmSJDjOuJ1HZNIZz1WUDJv+ZT2E+08MMzR0WRZ7E7h2tCa7yfKWUHl/UTtscJ2tX6iWrFFJi7GUsaExVgRRIJ+utuidE+nn2isuH9ooEI/0Z6+MbbvHWBgfPr9RN/8xb6KsUXXb9tlwmIsaUxYDKMCQb+PrpYIXS2RqTMDWbefKDdibmA8VdZPdGwsxYGhBE8cGOLYWIp0trIS9Q5O8N6vPsSG9hjdbYXpcLrbo7RbcKqxBDBhMYw5wO+TvFWypWvq/KrK+dfdU3FtmEjAx/5jE9z/zNGytWZiIX9ebLo90+g4+2J0NoVMeIwFx4TFMBYAEam6Nsyn33wml53bXbLImTtb9KCz3TswwcPPDZT1BYUDPro9QlOYADRKd1uMruYwPgtSNRqMCYthLBBTxRaJCG2xEG2xEGd0t1Y8x3AiTa8rNF7h6RmY4MkDhzg2lirKH/L7WNcWccSmLeZaPa4QrYqxpjlMwO9rbMWNZY/FsRjGMmYsmeFATmwGC2vk5MSnfzRZlN/vE9a1RvIWTsHl5gjRurYIQROeJYnFsRiGMSfEwwFOWtPMSWsqz9CUSGfpHZzIi03v4Hje1Xbf7n4OjyTwPnv6BNa0RAoDCkr6e9a3RWwaHsOExTBWMpGgnxNXN3Hi6qaK6anMJAeHCv06PQPjruUzwYPPHuPg0ETZMOuu5rArNt6BBYV+nmioelyPBYsuD0xYDMOoSijg47iOeNVA1HR2kkNDiaJBBbm+nkf3D/KDJw6WDavubArlBxfk3Gz7jo3z9fufI5lxpuqxYNGlTUOFRUQuBr4A+IEbVfW6kvQPAe8FMkAf8Puq+lwjy2QYxtwR9PvYuCrGxlWxiunZSeXISKJMdHoGJnjq4DA/fOowqUzled8sWHTp0jBhERE/8GXg1UAP8JCI3KGqOz3ZdgBbVXVcRP4I+CzwtkaVyTCM+cUZDBBlXWuUF24u7B9OpPmfpw7z348d5J6nj1SdtaDaAnXG4qaRFst5wG5V3QMgIt8CLgXywqKqP/bkfwB4ZwPLYxjGAjI4nuLunYf5wROH+Nmv+0hnlbUtEd51/ma+9+gB+kdTZcfUu1SDsbhopLB0A/s9n3uAF9XI/x7g+w0sj2EY88zR0SR37zzMXY8f5P5njpKZVLrbolxx/mYuOXMd52xow+cTzt7QVjFY9KqLTlnA0hszpZHCUim8t6LBKyLvBLYCL6uSfiVwJcCmTZvmqnyGYTSAIyMJtj15mO8/fpAH9hxlUuG4jhjvfekJvPbMtZzZ3Vo27cxsFqIzFh+NFJYeYKPn8wbgQGkmEXkV8JfAy1Q1WZoOoKo3ADeAEyA590U1DGM2HBpK8IMnDnLXE4d4aO8xVOGE1XH+5OVbuOSMdZy2rnnKOcwuO7fbhGSZ0EhheQg4SUSOB3qBtwPv8GYQkXOBfwEuVtUjDSyLYRizoFKMydbN7fzgiUPc9fhBfrlvEIBT1jTzp688ideeuY6TuppsQswVSsOERVUzIvJ+YBvOcOOvqOqTIvJJYLuq3gFcDzQB33FvwH2q+sZGlckwjOlTaUGyD978SD4i/3nrWvjz15zMxWesY0tX5UBLY2XR0DgWVb0LuKtk3zWe7Vc18vqGYcye67ftKluQTBUiQR83/+GLOWtD2wKVzFisWOS9YRg1qRZLkkhP8sYv3ceqeIjNHTGO72zi+E7nfXNnjOM748RC1sSsROxXNwyjJuvbovRWEJdV8RDve9kJPNs/xrP9Y9y7u4//+mXx+Js1LWGO74znX5s74pywOs7GVTGbrHIZY8JiGEZNrrrolIoxJte8/nllo7jGkhn2Hh1jb/84z/aP8mz/OHuPjrHtycNFa8P4xBGsItHpjHNCZ5zutqitCbPEMWExDKMm04kxiYcDnL6+ldPXly9MNjSe5tmjY+ztH2NPv/P+bP8Yt/6yl5FkYSXMoF/YuCrG8R3FgrO5M87aloitgLkEsIW+DMNYUFSV/tEUe4+O5d1qOdHZe3SMRLowSWUk6GNzh+NSO3513BGf1c7nzqaQDW+ugS30ZRjGikFEWN0cZnVzmBduXlWUNjmpHBpOlFk5vzoywo+eOkzGM3tlczjA5s5yK+f4jjitsWDNMthaMHOLCYthGIsWn09Y3xZlfVuU87d0FqVlspP0Dk4UWTl7+sfYsX+A7z12oGjly1oj1+5+8nBZnI6tBTM7zBVmGMayI5nJsv/YOHv6xopcbL8+PMrRseJZlH1CxWn7u9ui3Hf1K+apxI3HXGGGYRg1yGQnGZpIMzCeZmgixcBYmsGJNIPjKQbH0wyMpxicSDOU2x530sZS2bJz2Vowc48Ji2EYC0Z2UhmeKAjBYF4E3G1XPPL7J1IMjqWLRpGV4hNoi4VoiwZpjQVZ0xLhlDXNzr5YkPZYkNZYiPZYkLZoiPd+7SEOD5fPf2trwcwcExbDMGbN5KQyksgwOJEqFoLxlGtVFLa9AjKcSFPNGy8CLZGCEHQ0hThxdTwvEG3RIO3xEK3RIO25fbEQzeHAtIYkf+yS02wtmDnGhMUwjDyqykgyU+RCGhhPucLgbo97LQxHJIYm0lVdSgDNkUBR43/cqlh+2xEIx3rw7muJBvHPQ8yKrQUz95iwGMYyRFUZS2WLXUuuNTGUsxw87qaCqylNtoZCNIUDjoXgCkF3W9R1L5VaDgWBaI0GF30kva0FM7eYsBjGLGh0/IOqkkhPFnVAD04UrImhiTQDY6mSjmunQzudrS4QsZCftmgw71Y6dW0LrTn3UixEa6wgEu2xIK2uNRFc5AJhLA5MWAxjhlRap6RW/EMinS10QI8XC0GuU7pgVRS2U5nJsnPliAR9HhdSkBNXN9Eed4SgvcRyaHM7rFtjQZsA0mgoJiyGMQMS6Syf/v5TZeuUTKSz/MWtj7PtyUNF/RMD46miqUlKCfl9RS6k4zpinBNro80VgnaPOLR5rIlI0ATCWHyYsBiGi6oyOJ6mbzTJkeEkfaMJ530k6dnnfB6aSFc9z3gqy6+PjNIeC7KhPcYZ3UHXesiNZipYDjmBiAb9Ns+VsWwwYTGWPYl0lv7RJEdGXJEY8W4n8vv6RpMV+yUiQR9dzRFWN4c5qauJ80/sYHVTmH+791kGKwhMd1uUH33oZfNRNcNYlJiwGEuSnHWRFwiPdXFkxGtlJBhOlAfTiUBHPERnU5iulghbuppZ3Rymy50M0bvdFA5UtCY2ropZ/INhVMCExVhUJNLZvCgUWxYF6+LISJL+KayLLo91USwWjuXREQ/NegisxT8YRmVMWIyGo6oMjKc9bqhEmUsqt6+WdbHaFYUtXc10tYRZ3VRsWXS1RIiH5revwuIfDKMcExZjxnitC2/Hdl+JcFSzLqJBf14gTl7TzEu2dJZZFl3NYVbNgXVhGMb8YcKyAphOEJ/XuqhkWdRnXRRcTyetcfouVjeF8yLS1eKIxnxbF4ZhzA8mLMucSkF8H/nuo9y7u5/1rZGyvox6rItT1hasi5xlYdaFYRg5TFiWOddv21UWxJfKKt99uKfqMbGQv3hN8c44a1oixMN+miMB4mH3FQrMyySBhmEsLUxYljm1Fit67ZlrGU1mGUtmGE1kGE1mGEs52zsPDrPz4PCU54+F/MTDAZpzYhP20xQO0hR29jdFAjSFAoVtN19TOLftpzkcJB72m6VjGMsEE5Zlzvq2KL0VxKW7Lco//s4LKh6jqiQzk47guK+xZJbRZLpciIryOO+9gxNF+2vNdeUlHPAVLKJQJSHyl4iSJ08o4LGm/DYXlmEsICYsy5yrLjpl2kF8IkIk6CcS9NPRFJ51GVIekcpZRBXFyitQbp4jYaIdJQAADEFJREFUIwlG+zL5PKVuvWqE/D7Heoq4IuWKUDzsWFD5bdfCciytEiFzRSsc8NkgA8OYBiYsy5zFEMQXCvgIBUK0x0OzPlcmO8lYqroQFfaX5zk2lmLfsfF8/krrn1fC75Mi1125O69EuCqIVS5fzEbCGSsAE5YVwHIK4gv4fbRGfbRGg7M+1+SkMp7O1nTrFQtXQaxGEhkODSWK8tRaQTGHTyDu6XMqCFEVsSqzoAruwHhoekvwGsZ8YcJirFh8HktktqgqE+lswcVXj1h5LKv+kfEiV2GmHpXCGTxRKkB5saro+ivkafakN2LwRKMXQTMWLw0VFhG5GPgC4AduVNXrStLDwNeAFwBHgbep6t5GlskwGoGIEAsFiIUC0Dy7cy3U4IlI0FckPMWj/VwhckXIO+y8uYKFddfjB6e1CJqxvGiYsIiIH/gy8GqgB3hIRO5Q1Z2ebO8BBlR1i4i8HfgM8LZGlckwlgKLafDE4RkOnqjERDrL9dt2mbCsABppsZwH7FbVPQAi8i3gUsArLJcC17rb3wW+JCKiqvX5AQzDmJKFGDzxubt/VfH4WnFVxvKhkcLSDez3fO4BXlQtj6pmRGQI6AD6G1guwzBmSL2DJ7754P6K8VPr26KNKpqxiGhkqHOl4Sqllkg9eRCRK0Vku4hs7+vrm5PCGYbROK666BSiweIgVVsEbeXQSGHpATZ6Pm8ADlTLIyIBoBU4VnoiVb1BVbeq6tbVq1c3qLiGYcwVl53bzafffCbdbVEEZ6aHT7/5TOtfWSE00hX2EHCSiBwP9AJvB95RkucO4F3A/cBbgHusf8UwlgfLKX7KmB4NExa3z+T9wDac4cZfUdUnReSTwHZVvQP4N+DrIrIbx1J5e6PKYxiGYcwPDY1jUdW7gLtK9l3j2U4Av93IMhiGYRjzi81TbhiGYcwpJiyGYRjGnGLCYhiGYcwpstQGYYlIH/DcHJyqk5URiGn1XH6slLpaPeeW41R1XuI1lpywzBUisl1Vty50ORqN1XP5sVLqavVcupgrzDAMw5hTTFgMwzCMOWUlC8sNC12AecLqufxYKXW1ei5RVmwfi2EYhtEYVrLFYhiGYTSAZScsItImIt8VkadF5CkRebGIrBKRH4rIr9339grHnSMi94vIkyLymIgs+pUsZ1HX40TkYRF5xK3v+xai/PUy03p6jm8RkV4R+dJ8lnu6zKaeIpJ1f89HROSO+S77dJllXTeJyN3ucTtFZPP8lr5+ZvEffbnn93xERBIictlC1GEmLDtXmIh8FfiZqt4oIiEgBvwFcExVrxORq4F2Vf1oyXEnA6qqvxaR9cDDwGmqOjjfdaiXWdQ1hPPbJ0WkCXgCOF9VS5c1WBTMtJ6e478ArHbzv3/eCj5NZlNPERlV1aZ5LvKMmWVdfwL8rar+0L1/J1V1fD7LXy+zvXfdc6wCdgMbFms9y1DVZfMCWoBncQXTs38XsM7dXgfsquNcjwInLXSdGl1XnBU79wHrF7pOjagn8ALgW8AVwJcWuj4NrOfoQtdhPuoKPA+4d6HrMB+/qSf/lcA3Fro+03ktN1fYCUAf8O8iskNEbhSROLBGVQ8CuO9dtU4iIucBIeCZRhd4FsyqriKyUUQew1ka+jO6SK0VZlFPEfEBnweums8Cz5DZ3rsRcVZZfWAJuExmU9eTgUERucU99noR8VfItxiYk/YIZzmRbza2qHPLchOWAPB84J9U9VxgDLh6OicQkXXA14F3q+rk3BdxzphVXVV1v6qeBWwB3iUiaxpTzFkzm3r+MXCXqu5vVOHmkNneu5vUid5+B/D/ROTEBpRxrphNXQPAS4E/B16I03hf0YAyzgVz1R6dibOu1ZJhuQlLD9Cjqr9wP38X54c97P5AuR/qSKWDRaQF+G/g46r6wDyUdzbMqq45XEvlSZw/62JkNvV8MfB+EdkLfA74PRG5rvFFnhGz+j1zFqeq7gF+Apzb6ALPgtnUtQfYoap7VDUD3OYeuxiZi//oW4FbVTXd0JLOMctKWFT1ELBfRE5xd70S2ElhCWTc99tLj3U71m4Fvqaq35mH4s6KWdZ1g4hE3e124AIcv++iYzb1VNXfUdVNqroZ5wn3a6o6rSfG+WKWv2e7iITd7U6c33Nnwws9Q2ZTV5wlz9tFJDeZ4itYpHWdZT1zXM4Sc4MBy6vzXp2OrnOA7cBjOE8z7Tgd1P8D/Np9X+Xm3Qrc6G6/E0gDj3he5yx0fRpU11e7xzzqvl+50HVpRD1LznEFi7jzfpa/5/nA4+7v+TjwnoWuSyN/U8/9+zhwExBa6Po0qJ6bgV7At9D1mO5r2Q03NgzDMBaWZeUKMwzDMBYeExbDMAxjTjFhMQzDMOYUExbDMAxjTjFhMQzDMOYUExajoYjIT0TkopJ9fyYi/zjFcaNzWIYrZBozG4vIhSIy5E7D8bSIfG6uyjKXiMhWEfmHOTzf6SLyMxH5nizyGa+NxU1goQtgLHu+iTPXkXdKirczh/N3iYhfVbNzdT6Xn6nq691A0h0icquq3jebE4pIQJ1o8TlBVbfjxEjM1fkW8wwMxhLCLBaj0XwXeL0nMnwzsB64V0SaROR/ROSXIvK4iFxaerA4XC8iT7h53ubuv1BEfiwi/4kTKFd63LtF5Fci8lOcSPTc/tUi8l8i8pD7uqD0WC+qOoETLNvtHh8Xka+4x+7IlVlEIiLy724Zd4jIy939V4jId0Tke8DdIuITkX8UZx2cO0XkLhF5i5v3Gve8T4jIDSIi7v6fiMhnRORBt04v9XwHd7rbd0lh7Y4hEXmXiGx2LZBfuq/zPd/DR93rPCoin5ji+ueIM7nlYyJyq9RY+8YwgOUXeW+vxffCmX/tUnf7auB6dzsAtLjbnThrTuSCdkfd998Cfgj4gTU4U/yvAy7EmdTv+ArXW+fmW40zS/V9uFH3wH8CL3G3NwFPVTj+QuBOd7sdZ22ete7nvwPe6W63Ab8C4sCHgX9395/qXj+CE/HfQyG6+i3w/9s7nxCr6iiOf76JMIE6ootcKS1y0yJJIcKaFERI0I2KoMi0aWkQRLQUhRRCaRGRCaEMoiKpC4lKsVGEmsHEpiGkTYSL/EcqKPgH+7o4v9vcGe/MG+H5FDkfeLw79/d+v3Pu5c3v/M45950f3xGLujnAdWBNaZtV06EPWFmO+4Ed5XgFcGKsnrV+C4lfeXcTe390lfOvAGfL8bvAGeDFutwJ5A8B75TjLcDnT/s7la9n+5UeS9IJqnAYjC4BLuBTRfn+E4RXMLbK8lvAftsPbF8GThFVbQEGbf/VIO8NoN/2Vdv3gIO1tmXAF5LOEzWbZkia3jDG20WvS8TkfamcXw58Uvr3E8ZjbtGzD8D2BeBvosQ7wHHb/9au55Dt/8qYP9VkLpU0IOl3ogbWq7W2w+X9V6LUxyOUOmF9wHrbN4GpwO4y3iFiL5PqHuxxeGPUdHtEvqRuYKbtU+Uze4GeJvlJUpE5lqQTHAV2SnqdWCWfK+c3EF7FQtv3FVWIu8b01QTj3p6gbbxaRS8Ab1aT6gRUOZb5RNjuiO3zRZ/VtkcV7azCRpPQs/FzkrqAL4FFti9K2szoe3G3vD+g4f9WsSfJAWCL7eFy+kPgMvAacd13xtNhEvKTZNKkx5I8cWzfIlb33zC6Ums3cKUYlaXAvIbup4F1kqYoKtr2AIMtRA4ASyTNljQVWFtr+xH4f3tiSQta6P4nsA2oto79AdhUyz9U5elPE4ay2uZ6Ls0Vo88Aq0uu5SUinAUjk/g1xXa7a1pc41i2A0O2D9TOdQP/OPYV2kiEEyHuQa9GKlzPGk9+8XyuV3mdMk7lvSRJI2lYkk6xn1g51ye+fcAiSWeJSflCQ78jjFRiPgl8XAtLNeLYlW8z8DMRYjtXa/6gyByS9AcwmcdqvwJ6JL0MbCVCTEOShsvfEKv9KSWMdBB4z/bdhrG+JXIuw8AuwgjetH0D2E08iHCUKA//OHwELK8l8FcVnXol/UKE5W4D2P6eyHv9VrzETS3k9wKfldDgAiLPkiTjktWNk6TDSJpm+5ak2YT3tbiVsXxCegj42vb7nZadPN9kjiVJOs8xSTOJJ9a2PiWjMo0Iy3VcdvL8kx5LkiRJ0lYyx5IkSZK0lTQsSZIkSVtJw5IkSZK0lTQsSZIkSVtJw5IkSZK0lTQsSZIkSVt5CG1BZOhWOBV+AAAAAElFTkSuQmCC\n",
      "text/plain": [
       "<Figure size 432x288 with 1 Axes>"
      ]
     },
     "metadata": {
      "needs_background": "light"
     },
     "output_type": "display_data"
    }
   ],
   "source": [
    "#gráfico para estática comparativa na MÉDIA\n",
    "\n",
    "grid_size = 25\n",
    "H = np.empty(grid_size)\n",
    "\n",
    "h_s0_vals = np.linspace(0.01, 0.99, grid_size)\n",
    "\n",
    "\n",
    "R_vals = np.empty(grid_size)\n",
    "\n",
    "for i in range(grid_size):\n",
    "       \n",
    "    #calculando a média para os valores de retorno\n",
    "    num_reps = 10000\n",
    "    obs = np.empty(num_reps, dtype=np.float64)\n",
    "\n",
    "    for rep in range(num_reps):\n",
    "        obs[rep] = pbe(4,h_s0_vals[i])[2]\n",
    "    \n",
    "\n",
    "\n",
    "    R_vals[i] = obs.mean()\n",
    "\n",
    "\n",
    "\n",
    "fig, ax = plt.subplots()\n",
    "ax.plot(R_vals, h_s0_vals, '-o', label='$q(w(i))$')\n",
    "ax.set_title(\"Valor de Reorganização MÈDIO em relação à habilidade inicial\")\n",
    "ax.set_xlabel('Valor de Reorganização')\n",
    "ax.set_ylabel('Habilidade Inicial')\n",
    "\n",
    "plt.show()"
   ]
  },
  {
<<<<<<< Updated upstream
   "cell_type": "markdown",
=======
   "cell_type": "code",
   "execution_count": 60,
>>>>>>> Stashed changes
   "metadata": {},
   "source": [
    "### Adicionando o valor de liquidação\n",
    "\n",
    "O valor de liquidação dos jogadores no período t é\n",
    "\n",
    "$L_s = min \\{L - C_t, D_s \\} $\n",
    "\n",
    "e\n",
    "\n",
    "$L_j = \\min \\big\\{ L - C_t -  min \\{L - C_t, D_s \\} , D_j \\big\\}$\n",
    "\n",
    "\n",
    "O custo de ir para a corte é $C_t = c_0D + c_1tD$, onde $c_o$ é o custo fixo e $c_1$ é variável\n",
    "\n",
    "No artigo original, os autores usam $c_1 = 1,5\\%$, que foi calibrado de acordo com a literatura. O parâmetro $c_0$ é estimado, aqui vamos supor inicialmente que é de 5%"
   ]
  },
  {
<<<<<<< Updated upstream
   "cell_type": "markdown",
=======
   "cell_type": "code",
   "execution_count": 61,
>>>>>>> Stashed changes
   "metadata": {},
   "source": [
    "### Calculando qual vai ser o período máximo de duração do jogo\n",
    "\n",
    "O jogo termina quando o valor de reorganização cai e fica igual ao de liquidação:\n",
    "\n",
    "$ \\rho^T * V = L$\n",
    "\n",
    "Vamos calcular esse T $\\rho$, V e L. Ele será a expressão \"max_turnos\" no código de cada jogo.\n",
    "\n",
    "Repare que o custo da corte $C_t$ é pago tanto na reorganização quanto na liquidação, então não precisamos considerá-lo:\n",
    "\n",
    "O valor \"excedente\" da firma disponível para ser repartido entre os credores depende da habilidade de quem reorganizá-la\n",
    "        $$ U_t (\\theta_{k,t}) \\equiv \\theta_{k,t} V_{h,t} - C_t =\\theta_{k,t} \\rho^{t-1} V_{h,0} - C_t,     com   k \\in \\{s,j\\} $$"
   ]
  },
  {
   "cell_type": "code",
<<<<<<< Updated upstream
   "execution_count": 68,
=======
   "execution_count": 62,
>>>>>>> Stashed changes
   "metadata": {},
   "outputs": [
    {
     "data": {
      "text/plain": [
       "16"
      ]
     },
<<<<<<< Updated upstream
     "execution_count": 68,
=======
     "execution_count": 62,
>>>>>>> Stashed changes
     "metadata": {},
     "output_type": "execute_result"
    }
   ],
   "source": [
    "\n",
    "\n",
    "maximo_de_turnos(0.9, 100, 20)"
   ]
  },
  {
   "cell_type": "code",
<<<<<<< Updated upstream
   "execution_count": 74,
=======
   "execution_count": 63,
   "metadata": {},
   "outputs": [],
   "source": [
    "def jt(teta_jt, lst, ljt, t):\n",
    "    \n",
    "    #agregando todas as funções até agora\n",
    "    \n",
    "    jt = (Prob_j(teta_jt, lst, ljt, t)) * j_liq(teta_jt, lst, ljt, t) + (1 - Prob_j(teta_jt, lst, ljt, t)) * j_reorg(teta_jt, lst, ljt, t)\n",
    "    \n",
    "    return (jt)"
   ]
  },
  {
   "cell_type": "code",
   "execution_count": 64,
>>>>>>> Stashed changes
   "metadata": {},
   "outputs": [
    {
     "data": {
      "text/plain": [
       "18.530201888518416"
      ]
     },
     "execution_count": 74,
     "metadata": {},
     "output_type": "execute_result"
    },
    {
     "data": {
      "text/plain": [
       "20"
      ]
     },
     "execution_count": 74,
     "metadata": {},
     "output_type": "execute_result"
    },
    {
     "data": {
      "text/plain": [
       "20.58911320946491"
      ]
     },
<<<<<<< Updated upstream
     "execution_count": 74,
=======
     "execution_count": 64,
>>>>>>> Stashed changes
     "metadata": {},
     "output_type": "execute_result"
    }
   ],
   "source": [
    "#checando os cálculos:\n",
    "\n",
    "0.9 ** 16 * 100\n",
    "\n",
    "L\n",
    "\n",
    "0.9 ** 15 * 100\n",
    "\n",
    "#o último turno é sempre de liquidação.\n",
    "\n"
   ]
  },
  {
   "cell_type": "code",
<<<<<<< Updated upstream
   "execution_count": 248,
=======
   "execution_count": 65,
>>>>>>> Stashed changes
   "metadata": {},
   "outputs": [],
   "source": [
    "#código atualizado para computar em qual período s reorganiza a firma \n",
    "#pbe2\n",
    "\n",
    "def pbe2(ρ, Vmax, L, h_s0):\n",
    "    \n",
    "    #turnos do jogo\n",
    "    t = 1\n",
    "    max_turnos = maximo_de_turnos(ρ, Vmax, L)\n",
    "    \n",
<<<<<<< Updated upstream
    "    #vetor que conterá as habilidades\n",
    "    #h_s0 é o nível de habilidade inicial do credor s\n",
    "    H_s = []\n",
    "#     h_s0 = 0.1 #agora h_s0 é argumento da função\n",
    "    H_s.append(h_s0)\n",
=======
    "    else:\n",
    "        \n",
    "        #loop para as habilidades\n",
    "        \n",
    "        Array_Wj[i, j, k]\n",
    "        Wjt = (1- λj) * jt(teta_jt, lst, ljt, t) +  (λj) * Jt(teta_jt, lst, ljt, t)\n",
>>>>>>> Stashed changes
    "    \n",
    "    #vetor com os valores estimados de reorganização\n",
    "    R = np.ones(max_turnos)\n",
    "    R[0] = 0\n",
    "    \n",
    "    \n",
    "    #faz um loop até que o valor máximo de reorganizar seja o de propor reorganizar em t\n",
    "    while t < max_turnos and np.argmax(R) > 0:\n",
    "        \n",
    "        h_s = draw(h_s1)\n",
    "    \n",
    "        #matriz dos payoffs de reorganizar a firma\n",
    "        R = np.empty(max_turnos-t + 1)\n",
    "\n",
    "\n",
    "        # a última entrada de R é sempre o valor de liquidação\n",
    "        R[len(R) -1] = L_s\n",
    "\n",
    "        for i in range(t, max_turnos-t+1):\n",
    "            R[i-t] = reorg(h_s, t, i)\n",
    "        \n",
    "        t = t + 1\n",
    "    #retorna um vetor com três elementos: o período, a habilidade e o valor de Reorganização da firma\n",
    "    return t, h_s, R[0]"
   ]
  },
  {
   "cell_type": "code",
<<<<<<< Updated upstream
   "execution_count": 277,
=======
   "execution_count": 66,
>>>>>>> Stashed changes
   "metadata": {},
   "outputs": [
    {
     "data": {
      "text/plain": [
       "7"
      ]
     },
<<<<<<< Updated upstream
     "execution_count": 277,
=======
     "execution_count": 66,
>>>>>>> Stashed changes
     "metadata": {},
     "output_type": "execute_result"
    },
    {
     "data": {
      "text/plain": [
       "(7, 0.6863878688991967, 6.0)"
      ]
     },
     "execution_count": 277,
     "metadata": {},
     "output_type": "execute_result"
    }
   ],
   "source": [
    "maximo_de_turnos(0.9, 100, 50)\n",
    "\n",
    "pbe2(0.9, 100, 50, 0.5)"
   ]
  },
  {
   "cell_type": "code",
   "execution_count": 83,
   "metadata": {},
   "outputs": [],
   "source": [
    "Array_ws = np.zeros((1000, 1000, 2, 16))\n",
    "Array_ws3 = np.zeros((1000, 1000, 2, 16))\n",
    "\n"
   ]
  },
  {
   "cell_type": "code",
   "execution_count": 81,
   "metadata": {},
   "outputs": [
    {
     "data": {
      "text/plain": [
       "array([[[11.75, 11.75],\n",
       "        [11.75, 11.75],\n",
       "        [11.75, 11.75],\n",
       "        ...,\n",
       "        [11.75, 11.75],\n",
       "        [11.75, 11.75],\n",
       "        [11.75, 11.75]],\n",
       "\n",
       "       [[11.75, 11.75],\n",
       "        [11.75, 11.75],\n",
       "        [11.75, 11.75],\n",
       "        ...,\n",
       "        [11.75, 11.75],\n",
       "        [11.75, 11.75],\n",
       "        [11.75, 11.75]],\n",
       "\n",
       "       [[11.75, 11.75],\n",
       "        [11.75, 11.75],\n",
       "        [11.75, 11.75],\n",
       "        ...,\n",
       "        [11.75, 11.75],\n",
       "        [11.75, 11.75],\n",
       "        [11.75, 11.75]],\n",
       "\n",
       "       ...,\n",
       "\n",
       "       [[11.75, 11.75],\n",
       "        [11.75, 11.75],\n",
       "        [11.75, 11.75],\n",
       "        ...,\n",
       "        [11.75, 11.75],\n",
       "        [11.75, 11.75],\n",
       "        [11.75, 11.75]],\n",
       "\n",
       "       [[11.75, 11.75],\n",
       "        [11.75, 11.75],\n",
       "        [11.75, 11.75],\n",
       "        ...,\n",
       "        [11.75, 11.75],\n",
       "        [11.75, 11.75],\n",
       "        [11.75, 11.75]],\n",
       "\n",
       "       [[11.75, 11.75],\n",
       "        [11.75, 11.75],\n",
       "        [11.75, 11.75],\n",
       "        ...,\n",
       "        [11.75, 11.75],\n",
       "        [11.75, 11.75],\n",
       "        [11.75, 11.75]]])"
      ]
     },
     "execution_count": 81,
     "metadata": {},
     "output_type": "execute_result"
    }
   ],
   "source": [
    "Array_ws[:,:,:,15] = Ls(T-1)\n",
    "\n",
    "Array_ws[:,:,:,15]"
   ]
  },
  {
   "cell_type": "markdown",
   "metadata": {},
   "source": [
    "# Próximos passos\n",
    "\n",
    "\n",
    "\n",
    "* criar função de esperança baseada na função beta\n",
    "\n",
    "* criar função de esperança de outras funções, ex: $\\es{1}{\\Ws{1}}$\n",
    "\n",
    "* criar um vetor de W o valor final e ir preenchendo de trás pra frente\n",
    "\n",
    "* pensar em como guardar as três dimensões referentes a teta, ls e lj para cada função valor\n",
    "\n",
    "\n",
    "\n",
    "\n",
    "\n",
    "\n",
    "* passos finais\n",
    "    * replicar os gráficos do artigo de referência\n"
   ]
  }
 ],
 "metadata": {
  "kernelspec": {
   "display_name": "Python 3",
   "language": "python",
   "name": "python3"
  },
  "language_info": {
   "codemirror_mode": {
    "name": "ipython",
    "version": 3
   },
   "file_extension": ".py",
   "mimetype": "text/x-python",
   "name": "python",
   "nbconvert_exporter": "python",
   "pygments_lexer": "ipython3",
   "version": "3.7.6"
  }
 },
 "nbformat": 4,
 "nbformat_minor": 4
}
