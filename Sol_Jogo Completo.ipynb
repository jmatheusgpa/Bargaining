{
 "cells": [
  {
   "cell_type": "markdown",
   "metadata": {},
   "source": [
    "## Sequência de funções valor para os credores\n",
    "\n",
    "Queremos resolver por indução retroativa um jogo com T períodos.\n",
    "\n",
    "Estou trabalhando em como deixar esse jogo em torno do parâmetro T\n",
    "\n",
    "Teremos duas sequências de funções valor: uma para quando apenas o credor sênior propõe e outra para quando apenas o credor júnior propõe. As funções do jogo final serão uma média ponderada destas.\n",
    "\n"
   ]
  },
  {
   "cell_type": "code",
   "execution_count": 1,
   "metadata": {},
   "outputs": [],
   "source": [
    "#para mostrar todos os resultados e não apenas o último\n",
    "from IPython.core.interactiveshell import InteractiveShell\n",
    "\n",
    "InteractiveShell.ast_node_interactivity = \"all\""
   ]
  },
  {
   "cell_type": "code",
   "execution_count": 2,
   "metadata": {},
   "outputs": [],
   "source": [
    "#libraries\n",
    "import numpy as np\n",
    "from numba import jit, jitclass, float64, njit\n",
    "import matplotlib.pyplot as plt\n",
    "%matplotlib inline\n",
    "import quantecon as qe\n",
    "from scipy.stats import beta\n",
    "\n",
    "import math"
   ]
  },
  {
   "cell_type": "markdown",
   "metadata": {},
   "source": [
    "### Passo 0: definindo comandos do latex para facilitar a escrita\n",
    "\n",
    "$%conjunto de informações de s em t$\n",
    "$\\newcommand{\\Is}[1]{\\theta_{s{#1}}, l_{s{#1}}, l_{j{#1}}}$\n",
    "$%macros para facilitar a escrita de funções valor$\n",
    "\n",
    "\n",
    "$%conjunto de informações de j em t$\n",
    "$\\newcommand{\\Ij}[1]{\\theta_{j{#1}}, l_{s{#1}}, l_{j{#1}}}$\n",
    "\n",
    "$%função valor de s em t$\n",
    "$\\newcommand{\\Ws}[1]{ W_{s{#1}} ( \\Is{{#1}}) }$\n",
    "\n",
    "$%função valor de j em t$\n",
    "$\\newcommand{\\Wj}[1]{ W_{j{#1}} ( \\Ij{{#1}}) }$\n",
    "\n",
    "$%operador esperança de s em t. 2 argumentos: o primeiro é o período e o segundo é o termo que ela tira a esperança$\n",
    "\n",
    "$\\newcommand{\\Es}[2]{\\mathbb{E_{#1}^{s} \\big[ {#2}  \\mid ( \\Is{#1} )    \\big] }}$\n",
    "\n",
    "$%minúsculo não mostra o conjunto de informação$\n",
    "$\\newcommand{\\es}[2]{\\mathbb{E_{#1}^{s} \\big[ {#2}  \\big] }}$\n",
    "\n",
    "$%minúsculo não mostra o conjunto de informação$\n",
    "$%final b de big para aumentar os parênteses$\n",
    "$\\newcommand{\\esb}[2]{\\mathbb{E_{#1}^{s} \\bigg[ {#2}  \\bigg] }}$\n",
    "\n",
    "$%operador esperança de j em t. 2 argumentos: o primeiro é o período e o segundo é o termo que ela tira a esperança$\n",
    "\n",
    "$\\newcommand{\\Ej}[2]{\\mathbb{E_{#1}^{j} \\big[ {#2}  \\mid ( \\Ij{#1} )    \\big] }}$\n",
    "\n",
    "$%minúsculo não mostra o conjunto de informação$\n",
    "$\\newcommand{\\ej}[2]{\\mathbb{E_{#1}^{j} \\big[ {#2}  \\big] }}$\n",
    "\n",
    "$%minúsculo não mostra o conjunto de informação$\n",
    "$%final b para aumentar os parênteses$\n",
    "$\\newcommand{\\ejb}[2]{\\mathbb{E_{#1}^{j} \\bigg[ {#2}  \\bigg] }}$\n",
    "\n",
    "\n",
    "$%comando para usar o máximo com chaves grandes$\n",
    "$\\newcommand{\\maximo}[1]{\\max \\bigg\\{ #1 \\bigg\\}}$\n"
   ]
  },
  {
   "cell_type": "code",
   "execution_count": 3,
   "metadata": {},
   "outputs": [],
   "source": [
    "#parâmetros do jogo, apenas para ilustração a princípio\n",
    "\n",
    "\n",
    "\n",
    "μ = 3 #número de meses entre períodos, não entendi onde entra ainda\n",
    "ρ = 0.9 # (1 - ρ) é a taxa de depreciação da empresa a cada período\n",
    "β = 1 #usamos aqui a distribuição Uniforme, depois vamos mudar isto\n",
    "c0 = 0.05 #custo fixo de ir para a corte\n",
    "c1 = 0.015 #custo variável de ir para a corte\n",
    "\n",
    "\n",
    "\n",
    "\n",
    "λj = 0.5 #probabilidade de j propor a cada turno. Não precisaremos estimar, isso virá dos dados\n",
    "\n",
    "\n",
    "θ_s0 = 0.5 #habilidade inicial de s\n",
    "θ_j0 = 0.5 #habilidade inicial de j"
   ]
  },
  {
   "cell_type": "code",
   "execution_count": 4,
   "metadata": {},
   "outputs": [],
   "source": [
    "#informações que virão dos dados\n",
    "\n",
    "Vmax = 100\n",
    "L = 20 \n",
    "L_s = 10\n",
    "L_j = 10\n",
    "\n",
    "#valores da dívida de cada jogador (virá dos dados, aqui é exemplo):\n",
    "Ds = 20\n",
    "Dj = 10"
   ]
  },
  {
   "cell_type": "markdown",
   "metadata": {},
   "source": [
    "### Qual o ganho que o credor s tem em propor a cada período?\n",
    "\n",
    "Suponha que ele vai propor reorganizar a firma no perído t. A reorganização demora 1 período, então o valor da firma aparece no próximo período, $V_{t+1}$. E ele precisa fazer uma estimativa sobre $\\theta_{s,t+1}$ dada a informação que ele tem no período atual, que eu chamei de k: $\\theta_{s,k}$:\n",
    "\n",
    "$$ R_t (\\theta_{s,k}) = V_{t+1} \\bigg( \\mathbb{E}_k^s \\big[ \\theta_{s,t+1} \\mid \\theta_{s,k} \\big] \\bigg) - L_j$$\n",
    "\n",
    "\n",
    "#### Qual a estimativa da habilidade dele nos períodos à frente dada a informação dele hoje?\n",
    "\n",
    "Essa parte depende da hipótese sobre a distribuição da habilidade.\n",
    "\n",
    "Se supormos que a habilidade segue distribuição Uniforme, a forma fechada dela é:\n",
    "\n",
    "Suponha $ t > k$\n",
    "\n",
    "$$ \\mathbb{E}_k^s \\big[ \\theta_{s,t} \\mid \\theta_{s,k} \\big] =  \\frac{\\theta_{s,k}} {2^{t - k}} + \\sum_{n=1}^{t - k} \\frac{1}{2^{n}} $$\n",
    "\n",
    "\n",
    "#### Quais os passos do algoritmo para implementar essa estratégia?\n",
    "\n",
    "1. Calcular todos os valores de reorganização $ R_t $ de $ t \\in  \\{k, k+1, ..., T\\}$ e também o valor de nunca reorganizar, que é $L_s$\n",
    "\n",
    "2. Criar uma condição para checar se $\\max \\{R_{k}, R_{k+1}, ..., R_{T}, L_s \\} = R_{k}$\n",
    "    * em caso positivo, oferecer $P_s = W_{j, t+1} = L_j$ a fim de reorganizar a firma\n",
    "    * em caso negativo, oferecer $P_s < W_{j, t+1} = L_j$ a fim de adiantar o jogo até o próximo período\n",
    "    \n",
    "3. Repetir os passos 1 e 2 até que reorganize a firma ou o jogo termine com ela liquidada"
   ]
  },
  {
   "cell_type": "markdown",
   "metadata": {},
   "source": [
    "### Passo 1: número máximo de turnos\n",
    "\n",
    "Calculado com base nos parãmetros"
   ]
  },
  {
   "cell_type": "code",
   "execution_count": 5,
   "metadata": {},
   "outputs": [],
   "source": [
    "#função para calcular o máximo de turnos do jogo\n",
    "def maximo_de_turnos(ρ, Vmax, L):\n",
    "    \n",
    "    t = 1\n",
    "    \n",
    "    while ρ**t * Vmax > L:\n",
    "        \n",
    "        t = t + 1\n",
    "        \n",
    "    return t\n",
    "    "
   ]
  },
  {
   "cell_type": "code",
   "execution_count": 6,
   "metadata": {},
   "outputs": [
    {
     "data": {
      "text/plain": [
       "16"
      ]
     },
     "execution_count": 6,
     "metadata": {},
     "output_type": "execute_result"
    }
   ],
   "source": [
    "#guardando o número máxim de turnos\n",
    "\n",
    "T = maximo_de_turnos(ρ, Vmax, L)\n",
    "\n",
    "T"
   ]
  },
  {
   "cell_type": "code",
   "execution_count": 7,
   "metadata": {},
   "outputs": [],
   "source": [
    "#valor máximo de reorganização da firma a cada período\n",
    "\n",
    "\n",
    "#sequência de valores da firma para cada período\n",
    "\n",
    "V = np.empty(T, dtype=np.int_)\n",
    "\n",
    "for t in range(T):\n",
    "\n",
    "    V[t] = ρ**t * Vmax"
   ]
  },
  {
   "cell_type": "code",
   "execution_count": 8,
   "metadata": {},
   "outputs": [],
   "source": [
    "#valor de liquidação\n",
    "\n",
    "\n",
    "#a dívida total é sempre a soma das dívidas\n",
    "D = Ds + Dj\n",
    "\n",
    "#o custo total é uma função do tempo\n",
    "\n",
    "def C(t):\n",
    "    Ct = c0 * D + c1 * t * D\n",
    "    \n",
    "    return Ct\n",
    "\n",
    "#e os valores de liquidação também são função do tempo\n",
    "\n",
    "def Ls(t):\n",
    "    \n",
    "    Lst = min(L - C(t), Ds)\n",
    "    \n",
    "    return Lst\n",
    "\n",
    "def Lj(t):\n",
    "    \n",
    "    Ljt = min(L - C(t) - Ls(t), Dj)\n",
    "    \n",
    "    return Ljt\n",
    "    \n",
    "    \n"
   ]
  },
  {
   "cell_type": "code",
   "execution_count": 9,
   "metadata": {},
   "outputs": [
    {
     "data": {
      "text/plain": [
       "100"
      ]
     },
     "execution_count": 9,
     "metadata": {},
     "output_type": "execute_result"
    },
    {
     "data": {
      "text/plain": [
       "20"
      ]
     },
     "execution_count": 9,
     "metadata": {},
     "output_type": "execute_result"
    }
   ],
   "source": [
    "V[0] #é o primeiro valor do negócio\n",
    "\n",
    "V[15]"
   ]
  },
  {
   "cell_type": "code",
   "execution_count": 10,
   "metadata": {},
   "outputs": [
    {
     "data": {
      "text/plain": [
       "17.6"
      ]
     },
     "execution_count": 10,
     "metadata": {},
     "output_type": "execute_result"
    }
   ],
   "source": [
    "Ls(2)"
   ]
  },
  {
   "cell_type": "markdown",
   "metadata": {},
   "source": [
    "### Passo 2: definir as funções valor de liquidação e as matrizes para guardar seus valores\n",
    "\n",
    "\n",
    "$$ W_{s1} (\\Is{1}) = (1 - \\lambda_j) S_1 (\\Is{1}) + (\\lambda_j) s_1 (\\Is{1}) $$"
   ]
  },
  {
   "cell_type": "markdown",
   "metadata": {},
   "source": [
    "A primeira parte da função valor de s é caso ele venha a propor:\n",
    "\n",
    "\n",
    " $$ S_1 (\\Is{1}) = \\max \\bigg\\{ L_{s1}, V \\es{1}{\\theta_s} - \\es{1}{W_j}, \\es{1}{W_s}\n",
    "                    \\bigg\\} $$\n",
    "\n"
   ]
  },
  {
   "cell_type": "code",
   "execution_count": 11,
   "metadata": {},
   "outputs": [],
   "source": [
    "#precisamos dos valores de cada theta e cada l para calcular essa função\n",
    "\n",
    "Ws = np.empty(T, dtype=np.int_)\n",
    "\n",
    "Wj = np.empty(T, dtype=np.int_)\n",
    "\n",
    "ls = np.empty(T, dtype=np.int_)\n",
    "\n",
    "lj = np.empty(T, dtype=np.int_)\n",
    "\n",
    "θs = np.empty(T, dtype=np.int_)\n",
    "\n",
    "θj = np.empty(T, dtype=np.int_)\n",
    "\n",
    "\n",
    "#os valores de continuação no nó final são os valores de liquidação\n",
    "Ws[T-1] = Ls(T-1)\n",
    "Wj[T-1] = Lj(T-1)\n",
    "\n",
    "\n"
   ]
  },
  {
   "cell_type": "markdown",
   "metadata": {},
   "source": [
    "### Função para tirar os valores esperados de t períodos à frente\n",
    "\n",
    "Essa é a base do jogo. Vamos começar com a Uniforme mesmo por ser mais fácil de computar (e verificar), depois eu mudo o código para considerar a Beta."
   ]
  },
  {
   "cell_type": "code",
   "execution_count": 12,
   "metadata": {},
   "outputs": [],
   "source": [
    "#função para calcular a esperança da habilidade nos períodos à frente\n",
    "def expec(h, k, t):\n",
    "    #h é a informação hoje, usada para prever a habilidade\n",
    "    #k é o período de hoje\n",
    "    #t é o período para o qual eu desejo estimar a habilidade\n",
    "    \n",
    "    #somatório de n até t-k\n",
    "    summation = 0\n",
    "    for i in range(1, t-k+1):      \n",
    "        summation += 2**-i\n",
    "    \n",
    "    resultado = h/2**(t-k) + summation\n",
    "    \n",
    "    return resultado\n",
    "    \n",
    "# expec(0.5, 1, 4) #ok com os meus cálculos\n",
    "\n",
    "#como ficaria um gráfico dessa função?\n"
   ]
  },
  {
   "cell_type": "code",
   "execution_count": 13,
   "metadata": {},
   "outputs": [
    {
     "data": {
      "text/plain": [
       "0.999969482421875"
      ]
     },
     "execution_count": 13,
     "metadata": {},
     "output_type": "execute_result"
    }
   ],
   "source": [
    "expec(θ_s0, 1, (T-1))"
   ]
  },
  {
   "cell_type": "code",
   "execution_count": 14,
   "metadata": {},
   "outputs": [],
   "source": [
    "\n",
    "#aqui a notação está em contagem regressiva novamente\n",
    "#aqui é o valor do que ele faz\n",
    "S1 = [Ls((T-1)), V[T-1-1] * expec(θ_s0, 1, (T-1)) - Wj[T-1], Ws[T-1]]\n",
    "\n",
    "\n",
    "#aqui é o que ele faz. Como policy_S1 é igual a 1, significa que ele propõe reorganizar pagando PS1 = Wj[T-1]\n",
    "policy_S1 = np.argmax(S1)\n",
    "\n",
    "\n",
    "S1 = S1[policy_S1]\n",
    "\n",
    "Es_S1 = S1"
   ]
  },
  {
   "cell_type": "markdown",
   "metadata": {},
   "source": [
    "A segunda parte da função valor é se se for chamado a responder:\n",
    "    \n",
    "$s_1 (\\Is{1}) = $\n",
    "    $ \\esb{1}{ Prob ({j liquidar})  \\maximo{L_{s1}, V \\es{1}{\\theta_s} - L_{j1}} } $\n",
    "    $ + \\esb{1}{ Prob ({j reorganizar})   \\maximo{\\ej{1}{W_s}, \\es{1}{W_s}}    }$\n",
    " \n",
    " \n",
    " Sendo que\n",
    " \n",
    " $ \\Es{1}{Prob (j liq em T-1)}$\n",
    " \n",
    "  $$ = Prob \\bigg(L_{j1} > \\max \\{V \\es{1}{ \\ej{1}{\\theta_j} } - \\es{1}{ \\ej{1}{W_s} }, \\es{1}{ \\ej{1}{W_j}  }\\} \\bigg)$$\n",
    "  \n",
    "  \n",
    " Repare que $L_{j1} > L{j}$ e que $\\es{1}{\\theta_{j}}$ cresce em $\\theta_{j}$. Então deve existir um threshold de reorganização em t = T-1, $\\phi_{j1}$, tal que: \n",
    "\n",
    "$$V \\phi_{j1} - L_{s} = L{j1} $$\n",
    "\n",
    "$$ \\phi_{j1} = \\frac{ L_{j1} + L_{s} }{V} $$\n",
    "\n",
    "Então se $\\es{1}{\\theta_{j}} > \\phi_{j1}$, j reorganiza a firma. E j liquida a firma caso contrário.\n",
    "\n",
    "\n",
    "A pergunta é: qual a probabilidade de que $\\theta_{j}$ tome um valor menor ou igual a $\\phi_{j1}$ ? Isso pode ser respondido usando a \\textit{prior} do jogador, a função CDF da distribuição Beta:\n",
    "\n",
    "$$ \\Es{1}{Prob (\\textnormal{j liq em T-1})} = F_{\\beta} \\big( \\phi_{j1} \\mid l_{j1} \\big) $$\n",
    " \n"
   ]
  },
  {
   "cell_type": "code",
   "execution_count": 15,
   "metadata": {
    "scrolled": false
   },
   "outputs": [
    {
     "data": {
      "text/plain": [
       "0.55"
      ]
     },
     "execution_count": 15,
     "metadata": {},
     "output_type": "execute_result"
    },
    {
     "data": {
      "text/plain": [
       "0.10000000000000009"
      ]
     },
     "execution_count": 15,
     "metadata": {},
     "output_type": "execute_result"
    }
   ],
   "source": [
    "#s1\n",
    "#Prob_s1 é a probabilidade de l liquidar em t-1, de acordo com o credor sênior (s)\n",
    "\n",
    "\n",
    "# Prob_s1 \n",
    "\n",
    "ϕj1 = ( Lj((T-1)) + Ws[T-1] ) / V[T-1]\n",
    "\n",
    "ϕj1\n",
    "\n",
    "lj1 = 0.5 #endogeneizar depois\n",
    "\n",
    "\n",
    "Prob_s1 = 1 - ((1 - ϕj1)**β)/((1 - lj1)**β)\n",
    "\n",
    "Prob_s1\n",
    "\n",
    "# a probabilidade de reorganizar será o complementar."
   ]
  },
  {
   "cell_type": "markdown",
   "metadata": {},
   "source": [
    "Agora o valor esperado caso j liquide. No paper isto é \n",
    "\n",
    "$  \\maximo{L_{s1}, V \\es{1}{\\theta_s} - L_{j1}}  $\n",
    "\n",
    "Repare que s quer prever a habilidade dele próprio no período final, então podemos usar a habilidade dele no período T-1 para isso"
   ]
  },
  {
   "cell_type": "code",
   "execution_count": 16,
   "metadata": {},
   "outputs": [
    {
     "data": {
      "text/plain": [
       "array([1., 1., 1., 1., 1., 1., 1., 1., 1., 1., 1., 1., 1., 1., 1., 1.])"
      ]
     },
     "execution_count": 16,
     "metadata": {},
     "output_type": "execute_result"
    },
    {
     "data": {
      "text/plain": [
       "1"
      ]
     },
     "execution_count": 16,
     "metadata": {},
     "output_type": "execute_result"
    },
    {
     "data": {
      "text/plain": [
       "22.0"
      ]
     },
     "execution_count": 16,
     "metadata": {},
     "output_type": "execute_result"
    }
   ],
   "source": [
    "#vamos criar um vetor de expectativas de s para a sua própria habilidade.\n",
    "\n",
    "Es_θs = np.ones(T)\n",
    "\n",
    "#popular esse vetor de expectativas com todos os períodos dali pra frente\n",
    "\n",
    "θ_s_atual = θ_s0\n",
    "\n",
    "for i in range(t, T-1):\n",
    "    \n",
    "    Es_θs[i-1] = expec(θ_s_atual, t, i)\n",
    "    \n",
    "\n",
    "    \n",
    "Es_θs \n",
    "\n",
    "#agora vamos calcular o payoff esperado no caso de j propor liquidação\n",
    "\n",
    "s1_liq = [Ls((T-1)), V[T-1-1] * Es_θs[T-1] - Lj((T-1)) ]\n",
    "\n",
    "\n",
    "#aqui é o que ele faz. Como policy_S1 é igual a 1, significa que ele propõe reorganizar pagando PS1 = Wj[T-1]\n",
    "policy_s1_liq = np.argmax(s1_liq)\n",
    "\n",
    "\n",
    "s1_liq = s1_liq[policy_s1_liq]\n",
    "\n",
    "\n",
    "#caso j liquide em T-1, a política ótima é propor reorganizar, o que lhe dá payoff de 22\n",
    "policy_s1_liq \n",
    "\n",
    "s1_liq\n"
   ]
  },
  {
   "cell_type": "markdown",
   "metadata": {},
   "source": [
    "Agora, o payoff esperado de s caso j decida reorganizar a firma\n",
    "\n",
    "$ \\maximo{\\ej{1}{W_s}, \\es{1}{W_s}}    $"
   ]
  },
  {
   "cell_type": "code",
   "execution_count": 17,
   "metadata": {},
   "outputs": [
    {
     "data": {
      "text/plain": [
       "0"
      ]
     },
     "execution_count": 17,
     "metadata": {},
     "output_type": "execute_result"
    },
    {
     "data": {
      "text/plain": [
       "11"
      ]
     },
     "execution_count": 17,
     "metadata": {},
     "output_type": "execute_result"
    }
   ],
   "source": [
    "#agora vamos calcular o payoff esperado no caso de j propor reorganização\n",
    "\n",
    "s1_reorg = [Ws[T-1], Ws[T-1]]\n",
    "\n",
    "\n",
    "#aqui é o que ele faz. Como policy_S1 é igual a 1, significa que ele propõe reorganizar pagando PS1 = Wj[T-1]\n",
    "policy_s1_reorg = np.argmax(s1_reorg)\n",
    "\n",
    "\n",
    "s1_reorg = s1_reorg[policy_s1_reorg]\n",
    "\n",
    "\n",
    "#caso j proponha liquidar em T-1, a política ótima é propor reorganizar, o que lhe dá payoff de 22\n",
    "policy_s1_reorg \n",
    "\n",
    "s1_reorg"
   ]
  },
  {
   "cell_type": "markdown",
   "metadata": {},
   "source": [
    "A função s1 torna-se então:\n",
    "\n"
   ]
  },
  {
   "cell_type": "code",
   "execution_count": 18,
   "metadata": {},
   "outputs": [],
   "source": [
    "#s1 completa\n",
    "\n",
    "Es_s1 = (Prob_s1) * ( s1_liq) + (1 - Prob_s1) * s1_reorg \n",
    "\n",
    "\n"
   ]
  },
  {
   "cell_type": "markdown",
   "metadata": {},
   "source": [
    "### Como resumir isso?\n",
    "\n",
    "A função valor no período t é função de lst, ljt e theta_t. Vamos construir uma função que calcula a função valor de cada período para valores arbitrários destas três variáveis.\n",
    "\n",
    "\n",
    "Passos:\n",
    "\n",
    "1. Vamos escrever as funções St, st, Jt e jt.\n",
    "\n",
    "2. Vamos colocar essas funções como argumentos das funções valor\n",
    "\n",
    "3. Vamos testar as funções valor e ver o que funciona e o que não.\n",
    "\n",
    "\n",
    "PROBLEMA: as funções ainda estão em função de Wj[t] e Ws[t]\n",
    "\n"
   ]
  },
  {
   "cell_type": "code",
   "execution_count": 19,
   "metadata": {},
   "outputs": [],
   "source": [
    "#payoff de S quanto ele tem o direito de propor em t\n",
    "\n",
    "#aqui eu colo Wj[t] e Ws[t] como argumentos. \n",
    "#Tem que ter preparado o terreno antes calculando as funções valor no período seguinte\n",
    "\n",
    "def St(teta_st, lst, ljt, t):\n",
    "    \n",
    "    St = [Ls(t), V[t] * expec(teta_st, t, (t+1)) - Wj[t], Ws[t]]\n",
    "    \n",
    "    policy_St = np.argmax(St)\n",
    "    \n",
    "    \n",
    "    \n",
    "    return (St[policy_St])\n",
    "\n",
    "\n",
    "    \n",
    "\n",
    "    \n"
   ]
  },
  {
   "cell_type": "code",
   "execution_count": 20,
   "metadata": {},
   "outputs": [
    {
     "data": {
      "text/plain": [
       "15.0"
      ]
     },
     "execution_count": 20,
     "metadata": {},
     "output_type": "execute_result"
    }
   ],
   "source": [
    "#testando para t = 15, que já sabemos Wj e Ws\n",
    "\n",
    "St(0.5, 0.5, 0.5, 15)"
   ]
  },
  {
   "cell_type": "code",
   "execution_count": 21,
   "metadata": {},
   "outputs": [],
   "source": [
    "#vamos criar os componentes da função st\n",
    "\n",
    "#probabilidade de j liquidar em t, dado ljt \n",
    "def Prob_s(ljt,t):\n",
    "\n",
    "    #threshold para j tentar liquidar\n",
    "    ϕjt = ( Lj(t) + Ws[t] ) / V[t]\n",
    "    \n",
    "    Prob_st = 1 - ((1 - ϕjt)**β)/((1 - ljt)**β)\n",
    "    \n",
    "    #aqui tem que ser no mínimo a igual a zero, apenas por segurança\n",
    "    \n",
    "    Prob_st = max(0, Prob_st)\n",
    "    \n",
    "    return Prob_st\n",
    "\n"
   ]
  },
  {
   "cell_type": "code",
   "execution_count": 22,
   "metadata": {},
   "outputs": [],
   "source": [
    "#payoff caso s responda à uma proposta de liquidação de j\n",
    "\n",
    "\n",
    "def s_liq(teta_st, lst, ljt, t):\n",
    "    \n",
    "    st_liq = [Ls(t), V[t] * expec(teta_st, t, (t+1)) - Lj(t) ]\n",
    "\n",
    "    policy_st_liq = np.argmax(st_liq)\n",
    "\n",
    "\n",
    "    st_liq = st_liq[policy_st_liq]\n",
    "\n",
    "    return (st_liq)\n",
    "\n",
    "\n"
   ]
  },
  {
   "cell_type": "code",
   "execution_count": 23,
   "metadata": {},
   "outputs": [
    {
     "data": {
      "text/plain": [
       "0.10000000000000009"
      ]
     },
     "execution_count": 23,
     "metadata": {},
     "output_type": "execute_result"
    },
    {
     "data": {
      "text/plain": [
       "13.0"
      ]
     },
     "execution_count": 23,
     "metadata": {},
     "output_type": "execute_result"
    }
   ],
   "source": [
    "#testando para t = 15\n",
    "\n",
    "Prob_s(0.5, 15)\n",
    "\n",
    "s_liq(0.3, 1, 1, 15)"
   ]
  },
  {
   "cell_type": "code",
   "execution_count": 24,
   "metadata": {},
   "outputs": [],
   "source": [
    "#payoff caso s responda à uma proposta de reorganização de j\n",
    "\n",
    "def s_reorg(teta_st, lst, ljt, t):\n",
    "    \n",
    "    st_reorg = [Ws[t], Ws[t]]\n",
    "\n",
    "    policy_st_reorg = np.argmax(st_reorg)\n",
    "\n",
    "\n",
    "    st_reorg = st_reorg[policy_st_reorg]\n",
    "    \n",
    "    return (st_reorg)\n",
    "\n"
   ]
  },
  {
   "cell_type": "code",
   "execution_count": 25,
   "metadata": {},
   "outputs": [
    {
     "data": {
      "text/plain": [
       "11"
      ]
     },
     "execution_count": 25,
     "metadata": {},
     "output_type": "execute_result"
    }
   ],
   "source": [
    "#testando para t = 15\n",
    "\n",
    "s_reorg(0.6, 0.5, 0.5, 15)\n",
    "\n",
    "#de fato a habilidade não muda s_reorg em t = 15 porque o próximo período é de liquidação\n",
    "#nos outros períodos isso deve mudar"
   ]
  },
  {
   "cell_type": "code",
   "execution_count": 26,
   "metadata": {},
   "outputs": [],
   "source": [
    "def st(teta_st, lst, ljt, t):\n",
    "    \n",
    "    #agregando todas as funções até agora\n",
    "    \n",
    "    st = (Prob_s(ljt,t)) * s_liq(teta_st, lst, ljt, t) + (1 - Prob_s(ljt,t)) * s_reorg(teta_st, lst, ljt, t)\n",
    "    \n",
    "    return (st)"
   ]
  },
  {
   "cell_type": "code",
   "execution_count": 27,
   "metadata": {},
   "outputs": [
    {
     "data": {
      "text/plain": [
       "11.5"
      ]
     },
     "execution_count": 27,
     "metadata": {},
     "output_type": "execute_result"
    },
    {
     "ename": "ValueError",
     "evalue": "source code string cannot contain null bytes",
     "output_type": "error",
     "traceback": [
      "\u001b[1;31m---------------------------------------------------------------------------\u001b[0m",
      "\u001b[1;31mValueError\u001b[0m                                Traceback (most recent call last)",
      "\u001b[1;32m<ipython-input-27-24f3a6f76c86>\u001b[0m in \u001b[0;36m<module>\u001b[1;34m\u001b[0m\n\u001b[0;32m      3\u001b[0m \u001b[0mst\u001b[0m\u001b[1;33m(\u001b[0m\u001b[1;36m0.6\u001b[0m\u001b[1;33m,\u001b[0m \u001b[1;36m0.5\u001b[0m\u001b[1;33m,\u001b[0m \u001b[1;36m0.5\u001b[0m\u001b[1;33m,\u001b[0m \u001b[1;36m15\u001b[0m\u001b[1;33m)\u001b[0m\u001b[1;33m\u001b[0m\u001b[1;33m\u001b[0m\u001b[0m\n\u001b[0;32m      4\u001b[0m \u001b[1;33m\u001b[0m\u001b[0m\n\u001b[1;32m----> 5\u001b[1;33m \u001b[0meval\u001b[0m\u001b[1;33m(\u001b[0m\u001b[0mst\u001b[0m\u001b[1;33m(\u001b[0m\u001b[1;36m0.6\u001b[0m\u001b[1;33m,\u001b[0m \u001b[1;36m0.5\u001b[0m\u001b[1;33m,\u001b[0m \u001b[1;36m0.5\u001b[0m\u001b[1;33m,\u001b[0m \u001b[1;36m15\u001b[0m\u001b[1;33m)\u001b[0m\u001b[1;33m)\u001b[0m\u001b[1;33m\u001b[0m\u001b[1;33m\u001b[0m\u001b[0m\n\u001b[0m",
      "\u001b[1;31mValueError\u001b[0m: source code string cannot contain null bytes"
     ]
    }
   ],
   "source": [
    "#testando para t = 15\n",
    "\n",
    "st(0.6, 0.5, 0.5, 15)\n",
    "\n",
    "eval(st(0.6, 0.5, 0.5, 15))"
   ]
  },
  {
   "cell_type": "code",
   "execution_count": 34,
   "metadata": {},
   "outputs": [],
   "source": [
    "#finalmente, a função valor de s no período t\n",
    "#defini com subscrito _val porque o vetor Ws é argumento das funções serão passadas como argumento aqui\n",
    "\n",
    "#havia uma confusão entre Ws função e Ws vetor\n",
    "\n",
    "#percebi o erro com o link abaixo\n",
    "#https://stackoverflow.com/questions/32446402/typeerror-function-object-is-not-subscriptable-in-python-3-4-3\n",
    "\n",
    "\n",
    "def Ws_val(teta_st, lst, ljt, t):\n",
    "    \n",
    "    \n",
    "    Wst = (λj) * St(teta_st, lst, ljt, t) + (1- λj) * st(teta_st, lst, ljt, t)\n",
    "    \n",
    "    return Wst"
   ]
  },
  {
   "cell_type": "code",
   "execution_count": 35,
   "metadata": {},
   "outputs": [
    {
     "data": {
      "text/plain": [
       "13.2"
      ]
     },
     "execution_count": 35,
     "metadata": {},
     "output_type": "execute_result"
    }
   ],
   "source": [
    "#testando para t = 15\n",
    "\n",
    "\n",
    "\n",
    "Ws_val(0.5, 0.5, 0.5, 15)\n",
    "\n",
    "#it works!!!!\n",
    "\n",
    "\n"
   ]
  },
  {
   "cell_type": "markdown",
   "metadata": {},
   "source": [
    "Matriz tridimensional"
   ]
  },
  {
   "cell_type": "code",
   "execution_count": null,
   "metadata": {},
   "outputs": [],
   "source": [
    "#usaremos uma matriz tridimensional para gravar as funções valor de cada período para as combinações das três variáveis\n",
    "\n",
    "\n",
    "np.zeros((3,3,4))\n",
    "\n",
    "\n",
    "\n"
   ]
  },
  {
   "cell_type": "code",
   "execution_count": null,
   "metadata": {},
   "outputs": [],
   "source": [
    "#retirada da habilidade de s\n",
    "#é uma função da habilidade dele no período passado\n",
    "\n",
    "#vetor com as habilidade realizadas em cada período\n",
    "H_s = []\n",
    "h_s0 = 0.1\n",
    "H_s.append(h_s0)\n",
    "\n",
    "#habilidade hoje é h_s, habilidade ontem é h_s1\n",
    "\n",
    "h_s1 = H_s[len(H_s) -1]\n",
    "def draw(x):\n",
    "    h_s = np.random.uniform(x, 1)\n",
    "    \n",
    "    H_s.append(h_s) #atualiza com a habilidade realizada\n",
    "    return h_s\n",
    "\n"
   ]
  },
  {
   "cell_type": "markdown",
   "metadata": {},
   "source": [
    "### Solução do modelo simples\n",
    "\n",
    "Como R[0] significa hoje, se o argmax de R for hoje, então a estratégia ótima é jogar Ps = L_j. Do contrário, vou supor que a oferta é menor que isso (será que tem diferença colocar Ps = 0 ou só Ps = L_j - 1?"
   ]
  },
  {
   "cell_type": "code",
   "execution_count": null,
   "metadata": {},
   "outputs": [],
   "source": [
    "#código para computar em qual período s reorganiza a firma\n",
    "\n",
    "def pbe(max_turnos, h_s0):\n",
    "    \n",
    "    #max_turnos vai ser calculada a partir de V, ρ e L. Por enquanto fica assim\n",
    "    #max_turnos = 4 é o que estou testando\n",
    "    #h_s0 é o nível de habilidade inicial do credor s\n",
    "    t = 1\n",
    "    \n",
    "    \n",
    "    \n",
    "    #vetor que conterá as habilidades\n",
    "    H_s = []\n",
    "#     h_s0 = 0.1 #agora h_s0 é argumento da função\n",
    "    H_s.append(h_s0)\n",
    "    \n",
    "    #vetor com as valores máximos de reorganização da firma a cada turno\n",
    "    \n",
    "    \n",
    "\n",
    "\n",
    "    \n",
    "    #vetor com os valores estimados de reorganização\n",
    "    R = np.ones(max_turnos)\n",
    "    R[0] = 0\n",
    "    \n",
    "    \n",
    "    #faz um loop até que o valor máximo de reorganizar seja o de propor reorganizar em t\n",
    "    while t < max_turnos and np.argmax(R) > 0:\n",
    "        \n",
    "        h_s = draw(h_s1)\n",
    "    \n",
    "        #matriz dos payoffs de reorganizar a firma\n",
    "        R = np.empty(max_turnos-t + 1)\n",
    "\n",
    "\n",
    "        # a última entrada de R é sempre o valor de liquidação\n",
    "        R[len(R) -1] = L_s\n",
    "\n",
    "        for i in range(t, max_turnos-t+1):\n",
    "            R[i-t] = reorg(h_s, t, i)\n",
    "        \n",
    "        t = t + 1\n",
    "    #retorna um vetor com três elementos: o período, a habilidade e o valor de Reorganização da firma\n",
    "    return t, h_s, R[0]\n",
    "    \n",
    "    \n",
    "    "
   ]
  },
  {
   "cell_type": "markdown",
   "metadata": {},
   "source": [
    "### Estática Comparativa\n",
    "\n",
    "Gráfico para mostrar como o valor de reorganização muda de acordo com a habilidade inicial do jogador s"
   ]
  },
  {
   "cell_type": "code",
   "execution_count": null,
   "metadata": {},
   "outputs": [],
   "source": [
    "#gráfico para estática comparativa\n",
    "grid_size = 25\n",
    "H = np.empty(grid_size)\n",
    "\n",
    "h_s0_vals = np.linspace(0.01, 0.99, grid_size)\n",
    "\n",
    "\n",
    "R_vals = np.empty(grid_size)\n",
    "\n",
    "for i in range(grid_size):\n",
    "    R_vals[i] = pbe(4, h_s0_vals[i])[2]\n",
    "\n",
    "\n",
    "\n",
    "fig, ax = plt.subplots()\n",
    "ax.plot(R_vals, h_s0_vals, '-o', label='$q(w(i))$')\n",
    "ax.set_title(\"Valor de Reorganização em relação à habilidade inicial\")\n",
    "ax.set_xlabel('Valor de Reorganização')\n",
    "ax.set_ylabel('Habilidade Inicial')\n",
    "\n",
    "plt.show()\n",
    "\n",
    "#o valor de reorganização não é crescente na habilidade inicial.\n",
    "#Acho que é por causa da aleatoriedade, então vou calcular a MÈDIA do valor de reorganização para vários draws com a mesma h_s0"
   ]
  },
  {
   "cell_type": "markdown",
   "metadata": {},
   "source": [
    "### Estática Comparativa da média do Valor de Reorganização"
   ]
  },
  {
   "cell_type": "code",
   "execution_count": null,
   "metadata": {},
   "outputs": [],
   "source": [
    "#gráfico para estática comparativa na MÉDIA\n",
    "\n",
    "grid_size = 25\n",
    "H = np.empty(grid_size)\n",
    "\n",
    "h_s0_vals = np.linspace(0.01, 0.99, grid_size)\n",
    "\n",
    "\n",
    "R_vals = np.empty(grid_size)\n",
    "\n",
    "for i in range(grid_size):\n",
    "       \n",
    "    #calculando a média para os valores de retorno\n",
    "    num_reps = 10000\n",
    "    obs = np.empty(num_reps, dtype=np.float64)\n",
    "\n",
    "    for rep in range(num_reps):\n",
    "        obs[rep] = pbe(4,h_s0_vals[i])[2]\n",
    "    \n",
    "\n",
    "\n",
    "    R_vals[i] = obs.mean()\n",
    "\n",
    "\n",
    "\n",
    "fig, ax = plt.subplots()\n",
    "ax.plot(R_vals, h_s0_vals, '-o', label='$q(w(i))$')\n",
    "ax.set_title(\"Valor de Reorganização MÈDIO em relação à habilidade inicial\")\n",
    "ax.set_xlabel('Valor de Reorganização')\n",
    "ax.set_ylabel('Habilidade Inicial')\n",
    "\n",
    "plt.show()"
   ]
  },
  {
   "cell_type": "markdown",
   "metadata": {},
   "source": [
    "### Adicionando o valor de liquidação\n",
    "\n",
    "O valor de liquidação dos jogadores no período t é\n",
    "\n",
    "$L_s = min \\{L - C_t, D_s \\} $\n",
    "\n",
    "e\n",
    "\n",
    "$L_j = \\min \\big\\{ L - C_t -  min \\{L - C_t, D_s \\} , D_j \\big\\}$\n",
    "\n",
    "\n",
    "O custo de ir para a corte é $C_t = c_0D + c_1tD$, onde $c_o$ é o custo fixo e $c_1$ é variável\n",
    "\n",
    "No artigo original, os autores usam $c_1 = 1,5\\%$, que foi calibrado de acordo com a literatura. O parâmetro $c_0$ é estimado, aqui vamos supor inicialmente que é de 5%"
   ]
  },
  {
   "cell_type": "markdown",
   "metadata": {},
   "source": [
    "### Calculando qual vai ser o período máximo de duração do jogo\n",
    "\n",
    "O jogo termina quando o valor de reorganização cai e fica igual ao de liquidação:\n",
    "\n",
    "$ \\rho^T * V = L$\n",
    "\n",
    "Vamos calcular esse T $\\rho$, V e L. Ele será a expressão \"max_turnos\" no código de cada jogo.\n",
    "\n",
    "Repare que o custo da corte $C_t$ é pago tanto na reorganização quanto na liquidação, então não precisamos considerá-lo:\n",
    "\n",
    "O valor \"excedente\" da firma disponível para ser repartido entre os credores depende da habilidade de quem reorganizá-la\n",
    "        $$ U_t (\\theta_{k,t}) \\equiv \\theta_{k,t} V_{h,t} - C_t =\\theta_{k,t} \\rho^{t-1} V_{h,0} - C_t,     com   k \\in \\{s,j\\} $$"
   ]
  },
  {
   "cell_type": "code",
   "execution_count": null,
   "metadata": {},
   "outputs": [],
   "source": [
    "\n",
    "\n",
    "maximo_de_turnos(0.9, 100, 20)"
   ]
  },
  {
   "cell_type": "code",
   "execution_count": null,
   "metadata": {},
   "outputs": [],
   "source": [
    "#checando os cálculos:\n",
    "\n",
    "0.9 ** 16 * 100\n",
    "\n",
    "L\n",
    "\n",
    "0.9 ** 15 * 100\n",
    "\n",
    "#o último turno é sempre de liquidação.\n",
    "\n"
   ]
  },
  {
   "cell_type": "code",
   "execution_count": null,
   "metadata": {},
   "outputs": [],
   "source": [
    "#código atualizado para computar em qual período s reorganiza a firma \n",
    "#pbe2\n",
    "\n",
    "def pbe2(ρ, Vmax, L, h_s0):\n",
    "    \n",
    "    #turnos do jogo\n",
    "    t = 1\n",
    "    max_turnos = maximo_de_turnos(ρ, Vmax, L)\n",
    "    \n",
    "    #vetor que conterá as habilidades\n",
    "    #h_s0 é o nível de habilidade inicial do credor s\n",
    "    H_s = []\n",
    "#     h_s0 = 0.1 #agora h_s0 é argumento da função\n",
    "    H_s.append(h_s0)\n",
    "    \n",
    "    #vetor com os valores estimados de reorganização\n",
    "    R = np.ones(max_turnos)\n",
    "    R[0] = 0\n",
    "    \n",
    "    \n",
    "    #faz um loop até que o valor máximo de reorganizar seja o de propor reorganizar em t\n",
    "    while t < max_turnos and np.argmax(R) > 0:\n",
    "        \n",
    "        h_s = draw(h_s1)\n",
    "    \n",
    "        #matriz dos payoffs de reorganizar a firma\n",
    "        R = np.empty(max_turnos-t + 1)\n",
    "\n",
    "\n",
    "        # a última entrada de R é sempre o valor de liquidação\n",
    "        R[len(R) -1] = L_s\n",
    "\n",
    "        for i in range(t, max_turnos-t+1):\n",
    "            R[i-t] = reorg(h_s, t, i)\n",
    "        \n",
    "        t = t + 1\n",
    "    #retorna um vetor com três elementos: o período, a habilidade e o valor de Reorganização da firma\n",
    "    return t, h_s, R[0]"
   ]
  },
  {
   "cell_type": "code",
   "execution_count": null,
   "metadata": {},
   "outputs": [],
   "source": [
    "maximo_de_turnos(0.9, 100, 50)\n",
    "\n",
    "pbe2(0.9, 100, 50, 0.5)"
   ]
  },
  {
   "cell_type": "markdown",
   "metadata": {},
   "source": [
    "# Próximos passos\n",
    "\n",
    "\n",
    "\n",
    "* criar função de esperança baseada na função beta\n",
    "\n",
    "* criar função de esperança de outras funções, ex: $\\es{1}{\\Ws{1}}$\n",
    "\n",
    "* criar um vetor de W o valor final e ir preenchendo de trás pra frente\n",
    "\n",
    "* pensar em como guardar as três dimensões referentes a teta, ls e lj para cada função valor\n",
    "\n",
    "    * tem como fazer array tridimensional\n",
    "    \n",
    "* pensar em como colocar a função no período seguinte em função dos argumentos atuais\n",
    "\n",
    "\n",
    "\n",
    "\n",
    "\n",
    "\n",
    "\n",
    "\n",
    "* passos finais\n",
    "    * replicar os gráficos do artigo de referência\n"
   ]
  }
 ],
 "metadata": {
  "kernelspec": {
   "display_name": "Python 3",
   "language": "python",
   "name": "python3"
  },
  "language_info": {
   "codemirror_mode": {
    "name": "ipython",
    "version": 3
   },
   "file_extension": ".py",
   "mimetype": "text/x-python",
   "name": "python",
   "nbconvert_exporter": "python",
   "pygments_lexer": "ipython3",
   "version": "3.7.6"
  }
 },
 "nbformat": 4,
 "nbformat_minor": 4
}
