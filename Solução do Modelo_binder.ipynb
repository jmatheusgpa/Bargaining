{
 "cells": [
  {
   "cell_type": "markdown",
   "metadata": {},
   "source": [
    "# Solução do modelo de barganha de Dou et al. (2019)\n",
    "\n",
    "\n"
   ]
  },
  {
   "cell_type": "code",
   "execution_count": 1,
   "metadata": {},
   "outputs": [],
   "source": [
    "#para mostrar todos os resultados e não apenas o último\n",
    "from IPython.core.interactiveshell import InteractiveShell\n",
    "\n",
    "InteractiveShell.ast_node_interactivity = \"all\"\n"
   ]
  },
  {
   "cell_type": "code",
   "execution_count": 38,
   "metadata": {},
   "outputs": [],
   "source": [
    "#libraries\n",
    "import numpy as np\n",
    "from numba import jit, jitclass, float64, njit\n",
    "import matplotlib.pyplot as plt\n",
    "%matplotlib inline\n",
    "import quantecon as qe\n",
    "from scipy.stats import beta"
   ]
  },
  {
   "cell_type": "markdown",
   "metadata": {},
   "source": [
    "## Algoritmo\n",
    "\n",
    "1. Sortear o credor que proporá neste turno, com chance $\\lambda_j$\n",
    "\n",
    "2. Fazer o credor sorteado escolher entre Liquidar ou Reorganizar a firma, de acordo com a sua equação de Bellman\n",
    "\n",
    "4. Verificar se o credor adversário aceita ou rejeita:\n",
    "    1. Se aceitar, os payoffs são realizados e o jogo acaba\n",
    "    2. Se rejeitar, passamos para o próximo turno\n",
    "    \n",
    "\n",
    "\n",
    "\n",
    "\n"
   ]
  },
  {
   "cell_type": "code",
   "execution_count": 58,
   "metadata": {},
   "outputs": [],
   "source": [
    "#parâmetros iniciais\n",
    "\n",
    "\n",
    "#número máximo de rodadas (em McCall era 'n')\n",
    "T = 500\n",
    "\n",
    "\n",
    "#parâmetros iniciais da distribuição beta\n",
    "\n",
    "a, b =  1, 9                        # default parameters\n",
    "\n",
    "#grid onde ela irá variar \n",
    "x = np.linspace(beta.ppf(0.01, a, b),\n",
    "               beta.ppf(0.99, a, b), T)\n",
    "\n",
    "F_default = beta.cdf(x, a, b)     # cdf distribuição Beta \n"
   ]
  },
  {
   "cell_type": "code",
   "execution_count": 61,
   "metadata": {
    "scrolled": true
   },
   "outputs": [
    {
     "data": {
      "text/plain": [
       "array([0.01      , 0.01711669, 0.02418787, 0.0312138 , 0.03819472,\n",
       "       0.0451309 , 0.05202257, 0.05887   , 0.06567342, 0.0724331 ,\n",
       "       0.07914926, 0.08582217, 0.09245206, 0.09903917, 0.10558376,\n",
       "       0.11208605, 0.11854629, 0.12496471, 0.13134156, 0.13767706,\n",
       "       0.14397146, 0.15022499, 0.15643787, 0.16261035, 0.16874264,\n",
       "       0.17483499, 0.18088761, 0.18690074, 0.1928746 , 0.19880941,\n",
       "       0.2047054 , 0.21056279, 0.21638181, 0.22216266, 0.22790558,\n",
       "       0.23361078, 0.23927847, 0.24490887, 0.2505022 , 0.25605868,\n",
       "       0.2615785 , 0.26706189, 0.27250906, 0.27792021, 0.28329555,\n",
       "       0.2886353 , 0.29393965, 0.29920882, 0.30444301, 0.30964241,\n",
       "       0.31480724, 0.31993769, 0.32503397, 0.33009628, 0.3351248 ,\n",
       "       0.34011975, 0.34508131, 0.35000968, 0.35490507, 0.35976765,\n",
       "       0.36459762, 0.36939517, 0.37416051, 0.3788938 , 0.38359525,\n",
       "       0.38826503, 0.39290335, 0.39751037, 0.4020863 , 0.4066313 ,\n",
       "       0.41114557, 0.41562928, 0.42008263, 0.42450578, 0.42889891,\n",
       "       0.43326221, 0.43759586, 0.44190002, 0.44617488, 0.45042061,\n",
       "       0.45463738, 0.45882536, 0.46298474, 0.46711567, 0.47121834,\n",
       "       0.4752929 , 0.47933953, 0.4833584 , 0.48734967, 0.49131351,\n",
       "       0.49525008, 0.49915955, 0.50304207, 0.50689783, 0.51072697,\n",
       "       0.51452965, 0.51830604, 0.5220563 , 0.52578058, 0.52947904,\n",
       "       0.53315184, 0.53679913, 0.54042108, 0.54401782, 0.54758953,\n",
       "       0.55113634, 0.55465842, 0.5581559 , 0.56162896, 0.56507772,\n",
       "       0.56850234, 0.57190298, 0.57527977, 0.57863286, 0.58196241,\n",
       "       0.58526854, 0.58855142, 0.59181117, 0.59504795, 0.59826189,\n",
       "       0.60145314, 0.60462184, 0.60776812, 0.61089213, 0.613994  ,\n",
       "       0.61707387, 0.62013188, 0.62316816, 0.62618285, 0.62917609,\n",
       "       0.632148  , 0.63509871, 0.63802838, 0.64093711, 0.64382505,\n",
       "       0.64669233, 0.64953906, 0.6523654 , 0.65517145, 0.65795735,\n",
       "       0.66072323, 0.6634692 , 0.66619541, 0.66890197, 0.671589  ,\n",
       "       0.67425663, 0.67690498, 0.67953417, 0.68214433, 0.68473558,\n",
       "       0.68730803, 0.68986181, 0.69239703, 0.69491381, 0.69741227,\n",
       "       0.69989253, 0.7023547 , 0.70479889, 0.70722523, 0.70963383,\n",
       "       0.7120248 , 0.71439825, 0.71675429, 0.71909305, 0.72141462,\n",
       "       0.72371912, 0.72600667, 0.72827736, 0.7305313 , 0.73276862,\n",
       "       0.7349894 , 0.73719377, 0.73938182, 0.74155367, 0.74370941,\n",
       "       0.74584915, 0.747973  , 0.75008106, 0.75217343, 0.75425021,\n",
       "       0.75631151, 0.75835743, 0.76038807, 0.76240352, 0.76440389,\n",
       "       0.76638927, 0.76835977, 0.77031548, 0.7722565 , 0.77418293,\n",
       "       0.77609485, 0.77799238, 0.77987559, 0.7817446 , 0.78359948,\n",
       "       0.78544034, 0.78726727, 0.78908035, 0.79087969, 0.79266537,\n",
       "       0.79443748, 0.79619612, 0.79794137, 0.79967332, 0.80139206,\n",
       "       0.80309769, 0.80479028, 0.80646992, 0.80813671, 0.80979072,\n",
       "       0.81143205, 0.81306078, 0.81467699, 0.81628076, 0.81787219,\n",
       "       0.81945135, 0.82101833, 0.82257321, 0.82411607, 0.825647  ,\n",
       "       0.82716607, 0.82867336, 0.83016895, 0.83165293, 0.83312537,\n",
       "       0.83458636, 0.83603596, 0.83747426, 0.83890133, 0.84031725,\n",
       "       0.8417221 , 0.84311596, 0.84449889, 0.84587098, 0.84723229,\n",
       "       0.84858291, 0.8499229 , 0.85125234, 0.8525713 , 0.85387985,\n",
       "       0.85517807, 0.85646603, 0.8577438 , 0.85901144, 0.86026904,\n",
       "       0.86151665, 0.86275435, 0.86398221, 0.8652003 , 0.86640868,\n",
       "       0.86760742, 0.86879659, 0.86997625, 0.87114648, 0.87230734,\n",
       "       0.87345889, 0.8746012 , 0.87573434, 0.87685836, 0.87797334,\n",
       "       0.87907934, 0.88017641, 0.88126463, 0.88234406, 0.88341476,\n",
       "       0.88447678, 0.8855302 , 0.88657507, 0.88761145, 0.88863941,\n",
       "       0.889659  , 0.89067028, 0.89167332, 0.89266817, 0.89365489,\n",
       "       0.89463354, 0.89560417, 0.89656685, 0.89752163, 0.89846857,\n",
       "       0.89940772, 0.90033914, 0.90126289, 0.90217902, 0.90308758,\n",
       "       0.90398864, 0.90488224, 0.90576845, 0.9066473 , 0.90751886,\n",
       "       0.90838318, 0.90924032, 0.91009031, 0.91093323, 0.91176911,\n",
       "       0.91259801, 0.91341998, 0.91423508, 0.91504334, 0.91584483,\n",
       "       0.91663959, 0.91742767, 0.91820913, 0.918984  , 0.91975234,\n",
       "       0.92051419, 0.92126961, 0.92201864, 0.92276133, 0.92349772,\n",
       "       0.92422787, 0.92495182, 0.92566961, 0.92638129, 0.92708691,\n",
       "       0.92778651, 0.92848014, 0.92916784, 0.92984966, 0.93052563,\n",
       "       0.93119581, 0.93186024, 0.93251896, 0.93317201, 0.93381944,\n",
       "       0.93446128, 0.93509759, 0.9357284 , 0.93635375, 0.93697369,\n",
       "       0.93758826, 0.93819749, 0.93880143, 0.93940012, 0.9399936 ,\n",
       "       0.9405819 , 0.94116508, 0.94174316, 0.94231618, 0.94288419,\n",
       "       0.94344722, 0.94400532, 0.94455851, 0.94510684, 0.94565035,\n",
       "       0.94618906, 0.94672302, 0.94725227, 0.94777684, 0.94829677,\n",
       "       0.94881209, 0.94932284, 0.94982906, 0.95033077, 0.95082803,\n",
       "       0.95132085, 0.95180927, 0.95229334, 0.95277308, 0.95324852,\n",
       "       0.95371971, 0.95418667, 0.95464943, 0.95510804, 0.95556252,\n",
       "       0.95601291, 0.95645923, 0.95690152, 0.95733982, 0.95777415,\n",
       "       0.95820454, 0.95863103, 0.95905365, 0.95947242, 0.95988739,\n",
       "       0.96029857, 0.960706  , 0.96110971, 0.96150973, 0.96190609,\n",
       "       0.96229882, 0.96268794, 0.96307349, 0.96345549, 0.96383398,\n",
       "       0.96420898, 0.96458052, 0.96494862, 0.96531332, 0.96567465,\n",
       "       0.96603262, 0.96638727, 0.96673863, 0.96708672, 0.96743157,\n",
       "       0.9677732 , 0.96811164, 0.96844692, 0.96877906, 0.96910809,\n",
       "       0.96943404, 0.96975692, 0.97007677, 0.97039361, 0.97070746,\n",
       "       0.97101835, 0.97132631, 0.97163135, 0.97193351, 0.9722328 ,\n",
       "       0.97252925, 0.97282288, 0.97311373, 0.9734018 , 0.97368712,\n",
       "       0.97396972, 0.97424962, 0.97452684, 0.97480141, 0.97507334,\n",
       "       0.97534266, 0.97560939, 0.97587355, 0.97613516, 0.97639425,\n",
       "       0.97665084, 0.97690495, 0.97715659, 0.9774058 , 0.97765258,\n",
       "       0.97789697, 0.97813897, 0.97837862, 0.97861593, 0.97885093,\n",
       "       0.97908362, 0.97931404, 0.9795422 , 0.97976811, 0.97999181,\n",
       "       0.98021331, 0.98043262, 0.98064977, 0.98086478, 0.98107765,\n",
       "       0.98128843, 0.98149711, 0.98170372, 0.98190828, 0.9821108 ,\n",
       "       0.9823113 , 0.98250981, 0.98270633, 0.98290089, 0.98309349,\n",
       "       0.98328417, 0.98347293, 0.9836598 , 0.98384479, 0.98402791,\n",
       "       0.98420918, 0.98438863, 0.98456626, 0.98474209, 0.98491613,\n",
       "       0.98508841, 0.98525894, 0.98542773, 0.98559481, 0.98576018,\n",
       "       0.98592385, 0.98608586, 0.9862462 , 0.9864049 , 0.98656197,\n",
       "       0.98671743, 0.98687128, 0.98702355, 0.98717425, 0.98732338,\n",
       "       0.98747098, 0.98761705, 0.9877616 , 0.98790464, 0.9880462 ,\n",
       "       0.98818629, 0.98832491, 0.98846209, 0.98859783, 0.98873215,\n",
       "       0.98886506, 0.98899658, 0.98912672, 0.98925548, 0.98938289,\n",
       "       0.98950895, 0.98963368, 0.98975709, 0.98987919, 0.99      ])"
      ]
     },
     "execution_count": 61,
     "metadata": {},
     "output_type": "execute_result"
    }
   ],
   "source": [
    "F_default"
   ]
  },
  {
   "cell_type": "markdown",
   "metadata": {},
   "source": [
    "## Gráfico da distribuição beta\n"
   ]
  },
  {
   "cell_type": "code",
   "execution_count": 39,
   "metadata": {},
   "outputs": [
    {
     "data": {
      "text/plain": [
       "[<matplotlib.lines.Line2D at 0x262c4d2e888>]"
      ]
     },
     "execution_count": 39,
     "metadata": {},
     "output_type": "execute_result"
    },
    {
     "data": {
      "text/plain": [
       "[<matplotlib.lines.Line2D at 0x262c4d38908>]"
      ]
     },
     "execution_count": 39,
     "metadata": {},
     "output_type": "execute_result"
    },
    {
     "data": {
      "text/plain": [
       "[<matplotlib.lines.Line2D at 0x262c4d3b408>]"
      ]
     },
     "execution_count": 39,
     "metadata": {},
     "output_type": "execute_result"
    },
    {
     "data": {
      "text/plain": [
       "<matplotlib.legend.Legend at 0x262c4d59a08>"
      ]
     },
     "execution_count": 39,
     "metadata": {},
     "output_type": "execute_result"
    },
    {
     "data": {
      "text/plain": [
       "<function matplotlib.pyplot.show(*args, **kw)>"
      ]
     },
     "execution_count": 39,
     "metadata": {},
     "output_type": "execute_result"
    },
    {
     "data": {
      "image/png": "[encoded data removed]",
      "text/plain": [
       "<Figure size 432x288 with 1 Axes>"
      ]
     },
     "metadata": {
      "needs_background": "light"
     },
     "output_type": "display_data"
    }
   ],
   "source": [
    "plt.plot(beta.cdf(x, a, b = 2), label = \"b = \" + str(2) )\n",
    "\n",
    "plt.plot(beta.cdf(x, a, b = 3), label = \"b = \" + str(3))\n",
    "\n",
    "plt.plot(beta.cdf(x, a, b = 9), label = \"b = \" + str(9))\n",
    "\n",
    "plt.legend()\n",
    "plt.show"
   ]
  },
  {
   "cell_type": "code",
   "execution_count": 133,
   "metadata": {},
   "outputs": [
    {
     "data": {
      "text/plain": [
       "array([100.  ,  99.82,  99.64,  99.46,  99.28,  99.1 ,  98.92,  98.74,\n",
       "        98.56,  98.38,  98.2 ,  98.02,  97.84,  97.66,  97.48,  97.3 ,\n",
       "        97.12,  96.94,  96.76,  96.58,  96.4 ,  96.22,  96.04,  95.86,\n",
       "        95.68,  95.5 ,  95.32,  95.14,  94.96,  94.78,  94.6 ,  94.42,\n",
       "        94.24,  94.06,  93.88,  93.7 ,  93.52,  93.34,  93.16,  92.98,\n",
       "        92.8 ,  92.62,  92.44,  92.26,  92.08,  91.9 ,  91.72,  91.54,\n",
       "        91.36,  91.18,  91.  ,  90.82,  90.64,  90.46,  90.28,  90.1 ,\n",
       "        89.92,  89.74,  89.56,  89.38,  89.2 ,  89.02,  88.84,  88.66,\n",
       "        88.48,  88.3 ,  88.12,  87.94,  87.76,  87.58,  87.4 ,  87.22,\n",
       "        87.04,  86.86,  86.68,  86.5 ,  86.32,  86.14,  85.96,  85.78,\n",
       "        85.6 ,  85.42,  85.24,  85.06,  84.88,  84.7 ,  84.52,  84.34,\n",
       "        84.16,  83.98,  83.8 ,  83.62,  83.44,  83.26,  83.08,  82.9 ,\n",
       "        82.72,  82.54,  82.36,  82.18,  82.  ,  81.82,  81.64,  81.46,\n",
       "        81.28,  81.1 ,  80.92,  80.74,  80.56,  80.38,  80.2 ,  80.02,\n",
       "        79.84,  79.66,  79.48,  79.3 ,  79.12,  78.94,  78.76,  78.58,\n",
       "        78.4 ,  78.22,  78.04,  77.86,  77.68,  77.5 ,  77.32,  77.14,\n",
       "        76.96,  76.78,  76.6 ,  76.42,  76.24,  76.06,  75.88,  75.7 ,\n",
       "        75.52,  75.34,  75.16,  74.98,  74.8 ,  74.62,  74.44,  74.26,\n",
       "        74.08,  73.9 ,  73.72,  73.54,  73.36,  73.18,  73.  ,  72.82,\n",
       "        72.64,  72.46,  72.28,  72.1 ,  71.92,  71.74,  71.56,  71.38,\n",
       "        71.2 ,  71.02,  70.84,  70.66,  70.48,  70.3 ,  70.12,  69.94,\n",
       "        69.76,  69.58,  69.4 ,  69.22,  69.04,  68.86,  68.68,  68.5 ,\n",
       "        68.32,  68.14,  67.96,  67.78,  67.6 ,  67.42,  67.24,  67.06,\n",
       "        66.88,  66.7 ,  66.52,  66.34,  66.16,  65.98,  65.8 ,  65.62,\n",
       "        65.44,  65.26,  65.08,  64.9 ,  64.72,  64.54,  64.36,  64.18,\n",
       "        64.  ,  63.82,  63.64,  63.46,  63.28,  63.1 ,  62.92,  62.74,\n",
       "        62.56,  62.38,  62.2 ,  62.02,  61.84,  61.66,  61.48,  61.3 ,\n",
       "        61.12,  60.94,  60.76,  60.58,  60.4 ,  60.22,  60.04,  59.86,\n",
       "        59.68,  59.5 ,  59.32,  59.14,  58.96,  58.78,  58.6 ,  58.42,\n",
       "        58.24,  58.06,  57.88,  57.7 ,  57.52,  57.34,  57.16,  56.98,\n",
       "        56.8 ,  56.62,  56.44,  56.26,  56.08,  55.9 ,  55.72,  55.54,\n",
       "        55.36,  55.18,  55.  ,  54.82,  54.64,  54.46,  54.28,  54.1 ,\n",
       "        53.92,  53.74,  53.56,  53.38,  53.2 ,  53.02,  52.84,  52.66,\n",
       "        52.48,  52.3 ,  52.12,  51.94,  51.76,  51.58,  51.4 ,  51.22,\n",
       "        51.04,  50.86,  50.68,  50.5 ,  50.32,  50.14,  49.96,  49.78,\n",
       "        49.6 ,  49.42,  49.24,  49.06,  48.88,  48.7 ,  48.52,  48.34,\n",
       "        48.16,  47.98,  47.8 ,  47.62,  47.44,  47.26,  47.08,  46.9 ,\n",
       "        46.72,  46.54,  46.36,  46.18,  46.  ,  45.82,  45.64,  45.46,\n",
       "        45.28,  45.1 ,  44.92,  44.74,  44.56,  44.38,  44.2 ,  44.02,\n",
       "        43.84,  43.66,  43.48,  43.3 ,  43.12,  42.94,  42.76,  42.58,\n",
       "        42.4 ,  42.22,  42.04,  41.86,  41.68,  41.5 ,  41.32,  41.14,\n",
       "        40.96,  40.78,  40.6 ,  40.42,  40.24,  40.06,  39.88,  39.7 ,\n",
       "        39.52,  39.34,  39.16,  38.98,  38.8 ,  38.62,  38.44,  38.26,\n",
       "        38.08,  37.9 ,  37.72,  37.54,  37.36,  37.18,  37.  ,  36.82,\n",
       "        36.64,  36.46,  36.28,  36.1 ,  35.92,  35.74,  35.56,  35.38,\n",
       "        35.2 ,  35.02,  34.84,  34.66,  34.48,  34.3 ,  34.12,  33.94,\n",
       "        33.76,  33.58,  33.4 ,  33.22,  33.04,  32.86,  32.68,  32.5 ,\n",
       "        32.32,  32.14,  31.96,  31.78,  31.6 ,  31.42,  31.24,  31.06,\n",
       "        30.88,  30.7 ,  30.52,  30.34,  30.16,  29.98,  29.8 ,  29.62,\n",
       "        29.44,  29.26,  29.08,  28.9 ,  28.72,  28.54,  28.36,  28.18,\n",
       "        28.  ,  27.82,  27.64,  27.46,  27.28,  27.1 ,  26.92,  26.74,\n",
       "        26.56,  26.38,  26.2 ,  26.02,  25.84,  25.66,  25.48,  25.3 ,\n",
       "        25.12,  24.94,  24.76,  24.58,  24.4 ,  24.22,  24.04,  23.86,\n",
       "        23.68,  23.5 ,  23.32,  23.14,  22.96,  22.78,  22.6 ,  22.42,\n",
       "        22.24,  22.06,  21.88,  21.7 ,  21.52,  21.34,  21.16,  20.98,\n",
       "        20.8 ,  20.62,  20.44,  20.26,  20.08,  19.9 ,  19.72,  19.54,\n",
       "        19.36,  19.18,  19.  ,  18.82,  18.64,  18.46,  18.28,  18.1 ,\n",
       "        17.92,  17.74,  17.56,  17.38,  17.2 ,  17.02,  16.84,  16.66,\n",
       "        16.48,  16.3 ,  16.12,  15.94,  15.76,  15.58,  15.4 ,  15.22,\n",
       "        15.04,  14.86,  14.68,  14.5 ,  14.32,  14.14,  13.96,  13.78,\n",
       "        13.6 ,  13.42,  13.24,  13.06,  12.88,  12.7 ,  12.52,  12.34,\n",
       "        12.16,  11.98,  11.8 ,  11.62,  11.44,  11.26,  11.08,  10.9 ,\n",
       "        10.72,  10.54,  10.36,  10.18,  10.  ])"
      ]
     },
     "execution_count": 133,
     "metadata": {},
     "output_type": "execute_result"
    }
   ],
   "source": [
    "#conjunto dos valores da firma\n",
    "ρ = 0.9\n",
    "v_min, v_max = 10, 100\n",
    "v_default = np.linspace(v_max, v_min, T+1)\n",
    "\n",
    "v_default"
   ]
  },
  {
   "cell_type": "code",
   "execution_count": 4,
   "metadata": {},
   "outputs": [
    {
     "ename": "SyntaxError",
     "evalue": "invalid syntax (<ipython-input-4-412b4b79c109>, line 7)",
     "output_type": "error",
     "traceback": [
      "\u001b[1;36m  File \u001b[1;32m\"<ipython-input-4-412b4b79c109>\"\u001b[1;36m, line \u001b[1;32m7\u001b[0m\n\u001b[1;33m    def __init__(self, Ls=25, Lj=25,, β=9, w=w_default, q=q_default):\u001b[0m\n\u001b[1;37m                                    ^\u001b[0m\n\u001b[1;31mSyntaxError\u001b[0m\u001b[1;31m:\u001b[0m invalid syntax\n"
     ]
    }
   ],
   "source": [
    "#código do modelo de McCall\n",
    "\n",
    "\n",
    "@jitclass(dou_data)\n",
    "class DouModel:\n",
    "\n",
    "    def __init__(self, Ls=25, Lj=25,, β=9, w=w_default, q=q_default):\n",
    "\n",
    "        self.c, self.β = c, β\n",
    "        self.w, self.q = w_default, q_default\n",
    "    def bellman(self, i, v):\n",
    "        \"\"\"\n",
    "        The r.h.s. of the Bellman equation at state i.\n",
    "        \"\"\"\n",
    "        # Simplify names\n",
    "        c, β, w, q = self.c, self.β, self.w, self.q\n",
    "        # Evaluate right hand side of Bellman equation\n",
    "        max_value = max(w[i] / (1 - β), c + β * np.sum(v * q))\n",
    "        return(max_value)"
   ]
  },
  {
   "cell_type": "markdown",
   "metadata": {},
   "source": [
    "## Sorteio do jogador no período t"
   ]
  },
  {
   "cell_type": "code",
   "execution_count": 132,
   "metadata": {},
   "outputs": [
    {
     "data": {
      "text/plain": [
       "341"
      ]
     },
     "execution_count": 132,
     "metadata": {},
     "output_type": "execute_result"
    },
    {
     "data": {
      "text/plain": [
       "350.0"
      ]
     },
     "execution_count": 132,
     "metadata": {},
     "output_type": "execute_result"
    }
   ],
   "source": [
    "#sorteio do jogador\n",
    "λj = 0.3\n",
    "\n",
    "\n",
    "\n",
    "\n",
    "\n",
    "#vamos criar uma variável para dizer se é a vez do jogador s ou j\n",
    "#s[t] = 1 nos turnos em que s é chamado a jogar\n",
    "U = np.random.uniform(0,1, size = T)\n",
    "s = np.empty(T, dtype=np.int_)\n",
    "\n",
    "for t in range(T):\n",
    "\n",
    "    s[t] = λj < U[t]\n",
    "\n",
    "\n",
    "#checando\n",
    "sum(s)\n",
    "\n",
    "500 * 0.7"
   ]
  },
  {
   "cell_type": "markdown",
   "metadata": {},
   "source": [
    "## Bellman do jogador s\n",
    "\n",
    "Vou chamar de Rs o valor de reorganização liderado por s.\n",
    "\n",
    "Rs = Us - Ps, onde Ps é a proposta de pagamento feita por s"
   ]
  },
  {
   "cell_type": "code",
   "execution_count": null,
   "metadata": {},
   "outputs": [],
   "source": [
    "## Bellman do jogador s\n",
    "\n",
    "\n",
    "#Valor de reorganização da firma\n",
    "\n",
    "\n",
    "\n",
    "\n",
    "\n",
    "\n",
    "Ws = (1-λj) * max(Ls, Rs)\n",
    "    + λj * \n",
    "    + λj *"
   ]
  }
 ],
 "metadata": {
  "kernelspec": {
   "display_name": "Python 3",
   "language": "python",
   "name": "python3"
  },
  "language_info": {
   "codemirror_mode": {
    "name": "ipython",
    "version": 3
   },
   "file_extension": ".py",
   "mimetype": "text/x-python",
   "name": "python",
   "nbconvert_exporter": "python",
   "pygments_lexer": "ipython3",
   "version": "3.7.4"
  }
 },
 "nbformat": 4,
 "nbformat_minor": 2
}
