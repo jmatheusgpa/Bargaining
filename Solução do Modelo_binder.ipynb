{
 "cells": [
  {
   "cell_type": "markdown",
   "metadata": {},
   "source": [
    "# Solução do modelo de barganha de Dou et al. (2019)\n",
    "\n",
    "\n"
   ]
  },
  {
   "cell_type": "code",
   "execution_count": 1,
   "metadata": {},
   "outputs": [],
   "source": [
    "#para mostrar todos os resultados e não apenas o último\n",
    "from IPython.core.interactiveshell import InteractiveShell\n",
    "\n",
    "InteractiveShell.ast_node_interactivity = \"all\"\n"
   ]
  },
  {
   "cell_type": "code",
   "execution_count": 3,
   "metadata": {},
   "outputs": [],
   "source": [
    "#libraries\n",
    "import numpy as np\n",
    "import scipy\n",
    "\n",
    "import quantecon as qe\n",
    "\n",
    "\n",
    "\n"
   ]
  },
  {
   "cell_type": "code",
   "execution_count": 5,
   "metadata": {},
   "outputs": [],
   "source": [
    "#libraries\n",
    "import numpy as np\n",
    "from numba import jit, jitclass, float64, njit\n",
    "import matplotlib.pyplot as plt\n",
    "%matplotlib inline\n",
    "import quantecon as qe\n",
    "from quantecon.distributions import BetaBinomial"
   ]
  },
  {
   "cell_type": "code",
   "execution_count": 1,
   "metadata": {},
   "outputs": [
    {
     "name": "stdout",
     "output_type": "stream",
     "text": [
      "Olá, mundo\n"
     ]
    }
   ],
   "source": [
    "print(\"Olá, mundo\")"
   ]
  },
  {
   "cell_type": "markdown",
   "metadata": {},
   "source": [
    "## Algoritmo\n",
    "\n",
    "1. Sortear o credor que proporá neste turno, com chance $\\lambda_j$\n",
    "\n",
    "2. Fazer o credor sorteado escolher entre Liquidar ou Reorganizar a firma, de acordo com a sua equação de Bellman\n",
    "\n",
    "4. Verificar se o credor adversário aceita ou rejeita:\n",
    "    1. Se aceitar, os payoffs são realizados e o jogo acaba\n",
    "    2. Se rejeitar, passamos para o próximo turno\n",
    "    \n",
    "\n",
    "\n",
    "\n",
    "\n"
   ]
  },
  {
   "cell_type": "code",
   "execution_count": null,
   "metadata": {},
   "outputs": [],
   "source": [
    "#parâmetros iniciais\n",
    "\n",
    "#parâmetros iniciais\n",
    "\n",
    "n, a, b = 50, 200, 100                        # default parameters\n",
    "q_default = BetaBinomial(n, a, b).pdf()       # distribuição Beta Binomial\n"
   ]
  },
  {
   "cell_type": "code",
   "execution_count": null,
   "metadata": {},
   "outputs": [],
   "source": [
    "#vamos descrever o tipo de dados que usaremos para facilitar a vida do Numba\n",
    "\n",
    "dou_data = [\n",
    "    ('Ls', float64),     # valor de liquidação para s\n",
    "    ('Lj', float64),     # valor de liquidação para j\n",
    "    ('ρ', float64),      #fração do valor da firma que sobrevive a cada período\n",
    "    ('β', float64),      # parâmetro Beta\n",
    "    ('v', float64[:]),   # array com os valores da firma, v[t] = valor no estágio t\n",
    "    ('q', float64[:])    # array of probabilities\n",
    "]\n"
   ]
  },
  {
   "cell_type": "code",
   "execution_count": null,
   "metadata": {},
   "outputs": [],
   "source": [
    "#código do modelo de McCall\n",
    "\n",
    "\n",
    "@jitclass(dou_data)\n",
    "class DouModel:\n",
    "\n",
    "    def __init__(self, c=25, β=9, w=w_default, q=q_default):\n",
    "\n",
    "        self.c, self.β = c, β\n",
    "        self.w, self.q = w_default, q_default\n",
    "    def bellman(self, i, v):\n",
    "        \"\"\"\n",
    "        The r.h.s. of the Bellman equation at state i.\n",
    "        \"\"\"\n",
    "        # Simplify names\n",
    "        c, β, w, q = self.c, self.β, self.w, self.q\n",
    "        # Evaluate right hand side of Bellman equation\n",
    "        max_value = max(w[i] / (1 - β), c + β * np.sum(v * q))\n",
    "        return(max_value)"
   ]
  }
 ],
 "metadata": {
  "kernelspec": {
   "display_name": "Python 3",
   "language": "python",
   "name": "python3"
  },
  "language_info": {
   "codemirror_mode": {
    "name": "ipython",
    "version": 3
   },
   "file_extension": ".py",
   "mimetype": "text/x-python",
   "name": "python",
   "nbconvert_exporter": "python",
   "pygments_lexer": "ipython3",
   "version": "3.7.4"
  }
 },
 "nbformat": 4,
 "nbformat_minor": 2
}
