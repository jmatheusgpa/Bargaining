{
 "cells": [
  {
   "cell_type": "markdown",
   "metadata": {},
   "source": [
    "## Sequência de funções valor para os credores\n",
    "\n",
    "Queremos resolver por indução retroativa um jogo com T períodos.\n",
    "\n",
    "Estou trabalhando em como deixar esse jogo em torno do parâmetro T\n",
    "\n",
    "Teremos duas sequências de funções valor: uma para quando apenas o credor sênior propõe e outra para quando apenas o credor júnior propõe. As funções do jogo final serão uma média ponderada destas.\n",
    "\n"
   ]
  },
  {
   "cell_type": "code",
   "execution_count": 2,
   "metadata": {},
   "outputs": [],
   "source": [
    "#para mostrar todos os resultados e não apenas o último\n",
    "from IPython.core.interactiveshell import InteractiveShell\n",
    "\n",
    "InteractiveShell.ast_node_interactivity = \"all\""
   ]
  },
  {
   "cell_type": "code",
   "execution_count": 3,
   "metadata": {},
   "outputs": [],
   "source": [
    "#libraries\n",
    "import numpy as np\n",
    "from numba import jit, jitclass, float64, njit\n",
    "import matplotlib.pyplot as plt\n",
    "%matplotlib inline\n",
    "import quantecon as qe\n",
    "from scipy.stats import beta\n",
    "\n",
    "from random import uniform #para a draw da uniforme(0,1)\n",
    "import math\n",
    "\n",
    "import time #tempo de computação\n"
   ]
  },
  {
   "cell_type": "markdown",
   "metadata": {},
   "source": [
    "### Passo 0: definindo comandos do latex para facilitar a escrita\n",
    "\n",
    "$%conjunto de informações de s em t$\n",
    "$\\newcommand{\\Is}[1]{\\theta_{s{#1}}, l_{s{#1}}, l_{j{#1}}}$\n",
    "$%macros para facilitar a escrita de funções valor$\n",
    "\n",
    "\n",
    "$%conjunto de informações de j em t$\n",
    "$\\newcommand{\\Ij}[1]{\\theta_{j{#1}}, l_{s{#1}}, l_{j{#1}}}$\n",
    "\n",
    "$%função valor de s em t$\n",
    "$\\newcommand{\\Ws}[1]{ W_{s{#1}} ( \\Is{{#1}}) }$\n",
    "\n",
    "$%função valor de j em t$\n",
    "$\\newcommand{\\Wj}[1]{ W_{j{#1}} ( \\Ij{{#1}}) }$\n",
    "\n",
    "$%operador esperança de s em t. 2 argumentos: o primeiro é o período e o segundo é o termo que ela tira a esperança$\n",
    "\n",
    "$\\newcommand{\\Es}[2]{\\mathbb{E_{#1}^{s} \\big[ {#2}  \\mid ( \\Is{#1} )    \\big] }}$\n",
    "\n",
    "$%minúsculo não mostra o conjunto de informação$\n",
    "$\\newcommand{\\es}[2]{\\mathbb{E_{#1}^{s} \\big[ {#2}  \\big] }}$\n",
    "\n",
    "$%minúsculo não mostra o conjunto de informação$\n",
    "$%final b de big para aumentar os parênteses$\n",
    "$\\newcommand{\\esb}[2]{\\mathbb{E_{#1}^{s} \\bigg[ {#2}  \\bigg] }}$\n",
    "\n",
    "$%operador esperança de j em t. 2 argumentos: o primeiro é o período e o segundo é o termo que ela tira a esperança$\n",
    "\n",
    "$\\newcommand{\\Ej}[2]{\\mathbb{E_{#1}^{j} \\big[ {#2}  \\mid ( \\Ij{#1} )    \\big] }}$\n",
    "\n",
    "$%minúsculo não mostra o conjunto de informação$\n",
    "$\\newcommand{\\ej}[2]{\\mathbb{E_{#1}^{j} \\big[ {#2}  \\big] }}$\n",
    "\n",
    "$%minúsculo não mostra o conjunto de informação$\n",
    "$%final b para aumentar os parênteses$\n",
    "$\\newcommand{\\ejb}[2]{\\mathbb{E_{#1}^{j} \\bigg[ {#2}  \\bigg] }}$\n",
    "\n",
    "\n",
    "$%comando para usar o máximo com chaves grandes$\n",
    "$\\newcommand{\\maximo}[1]{\\max \\bigg\\{ #1 \\bigg\\}}$\n"
   ]
  },
  {
   "cell_type": "code",
   "execution_count": 4,
   "metadata": {},
   "outputs": [],
   "source": [
    "#parâmetros do jogo, apenas para ilustração a princípio\n",
    "#coloquei os mesmos parãmetros dos autores (Tabela 4). No caso dos dados, usei as medianas (Panel B)\n",
    "\n",
    "\n",
    "μ = 4.566 #número de meses entre períodos, não entendi onde entra ainda\n",
    "ρ = 0.884 # (1 - ρ) é a taxa de depreciação da empresa a cada período\n",
    "β = 9.84 #usamos aqui a distribuição Uniforme, depois vamos mudar isto\n",
    "c0 = 0.044 #custo fixo de ir para a corte\n",
    "c1 = 0.015 #custo variável de ir para a corte\n",
    "\n",
    "\n",
    "θ_s0 = 0.28 #habilidade inicial de s\n",
    "θ_j0 = 0.36 #habilidade inicial de j"
   ]
  },
  {
   "cell_type": "code",
   "execution_count": 5,
   "metadata": {},
   "outputs": [],
   "source": [
    "#informações que virão dos dados\n",
    "\n",
    "\n",
    "λj = 0.346 #probabilidade de j propor a cada turno. Não precisaremos estimar, isso virá dos dados\n",
    "\n",
    "Vmax = 1\n",
    "L = 0.235 * 2.7 #ajustei para obtermos T = 4\n",
    "# L_s = 10\n",
    "# L_j = 10\n",
    "\n",
    "#valores da dívida de cada jogador (virá dos dados, aqui é exemplo):\n",
    "Ds = 0.361\n",
    "Dj = 0.433"
   ]
  },
  {
   "cell_type": "markdown",
   "metadata": {},
   "source": [
    "### Passo 1: número máximo de turnos\n",
    "\n",
    "Calculado com base nos parâmetros\n",
    "\n",
    "\n",
    "t é tal que\n",
    "\n",
    "$$ \\rho^{t-1} V_{max} = L$$\n",
    "\n",
    "\n",
    "$$ t = \\frac{log(L) - log(V_{max})} {log(\\rho)} +1 $$"
   ]
  },
  {
   "cell_type": "code",
   "execution_count": 6,
   "metadata": {},
   "outputs": [],
   "source": [
    "#função para calcular o máximo de turnos do jogo\n",
    "def maximo_de_turnos(ρ, Vmax, L):\n",
    "    \n",
    "    T = (math.log(L) - math.log(Vmax))/math.log(ρ) + 1\n",
    "    \n",
    "    #arredonda para baixo porque queremos o último período no qual o valor de continuação é maior ou igual ao de liquidação\n",
    "    T = math.floor(T)\n",
    "        \n",
    "    return T\n",
    "    "
   ]
  },
  {
   "cell_type": "code",
   "execution_count": 7,
   "metadata": {},
   "outputs": [
    {
     "data": {
      "text/plain": [
       "4"
      ]
     },
     "execution_count": 7,
     "metadata": {},
     "output_type": "execute_result"
    }
   ],
   "source": [
    "T = maximo_de_turnos(ρ, Vmax, L)\n",
    "\n",
    "T"
   ]
  },
  {
   "cell_type": "code",
   "execution_count": 71,
   "metadata": {},
   "outputs": [],
   "source": [
    "#valor máximo de reorganização da firma a cada período\n",
    "\n",
    "\n",
    "#sequência de valores da firma para cada período\n",
    "#tem que deixar como dtype = np.float para pegar valores decimais\n",
    "V = np.empty(T, dtype=np.float)\n",
    "\n",
    "for t in range(T):\n",
    "    \n",
    "    if(t == 0):\n",
    "        V[t] = Vmax\n",
    "        \n",
    "    else:\n",
    "        V[t] = ρ**(t-1) * Vmax"
   ]
  },
  {
   "cell_type": "code",
   "execution_count": 9,
   "metadata": {},
   "outputs": [],
   "source": [
    "#valor de liquidação\n",
    "\n",
    "\n",
    "#a dívida total é sempre a soma das dívidas\n",
    "D = Ds + Dj\n",
    "\n",
    "#o custo total é uma função do tempo\n",
    "\n",
    "def C(t):\n",
    "    if(t == 0):\n",
    "        return 0\n",
    "    else:\n",
    "        Ct = c0 * D + c1 * t * D\n",
    "\n",
    "        return Ct\n",
    "\n",
    "#e os valores de liquidação também são função do tempo\n",
    "\n",
    "def Ls(t):\n",
    "    \n",
    "    Lst = min(L - C(t), Ds)\n",
    "    \n",
    "    return Lst\n",
    "\n",
    "\n",
    "def Lj(t):\n",
    "    \n",
    "    Ljt = min(L - C(t) - Ls(t), Dj)\n",
    "    \n",
    "    return Ljt\n",
    "    \n",
    "    \n"
   ]
  },
  {
   "cell_type": "markdown",
   "metadata": {},
   "source": [
    "### Passo 2: Definir os arrays para guardar as funções valor de cada período\n",
    "\n",
    "São:\n",
    "\n",
    "* 100 slots para habilidade do jogador\n",
    "\n",
    "* 100 slots para o lower bound do adversário\n",
    "\n",
    "* 100 slots para o lower bound do próprio jogador no próximo período\n",
    "\n",
    "* 2 slots para dizer se o jogador está propondo ou não\n",
    "    \n",
    "* T slots para marcar o período da função valor\n",
    "\n"
   ]
  },
  {
   "cell_type": "code",
   "execution_count": 10,
   "metadata": {},
   "outputs": [],
   "source": [
    "#slots para cada habilidade\n",
    "grid_size = 100\n",
    "\n",
    "\n",
    "#a vantagem de colocar os dados assim é que se eu quiser teta_s = 0.115, basta procurar θs_vals[114]\n",
    "θs_vals = np.linspace(0.01, 1, grid_size) \n",
    "θj_vals  = np.linspace(0.01, 1, grid_size)  \n",
    "\n",
    "\n",
    "#vetores dos lower bounds são similares aos das habilidades\n",
    "ls_vals = θs_vals\n",
    "lj_vals = θj_vals\n",
    "\n",
    "#teste\n",
    "# θs_vals[99 - 1]\n",
    "\n",
    "#como deixar todos os valores com apenas duas casas decimais? Alguns valores ficam esquisitos\n",
    "\n"
   ]
  },
  {
   "cell_type": "code",
   "execution_count": 11,
   "metadata": {},
   "outputs": [],
   "source": [
    "#arrays para o credor sênior\n",
    "\n",
    "\n",
    "\n",
    "# primeira entrada é a habilidade verdadeira do jogador\n",
    "# segunda entrada é lst\n",
    "# terceira entrada é ljt\n",
    "\n",
    "# quarta entrada indica se jogador está propondo (1) ou respondendo (0)\n",
    "# última entrada é o período do jogo\n",
    "\n",
    "Ws_array = np.zeros((100, 100, 100, 2, T))\n",
    "\n",
    "Wj_array = np.zeros((100, 100, 100, 2, T))\n",
    "\n",
    "#vou deixar a função policy separada porque ela vai ser um resultado da barganha entre os agentes\n",
    "\n"
   ]
  },
  {
   "cell_type": "code",
   "execution_count": 12,
   "metadata": {},
   "outputs": [],
   "source": [
    "#uma das sugestões que encontrei no stack overflow foi de dividir a matriz grandona em várias matrizes pequenas\n",
    "#vou tentar com 100x100x100 primeiro, depois eu adapto o código\n",
    "\n",
    "# Ws_array1 = np.empty((100, 100, 100,T))\n",
    "# Ws_array2 = np.empty((100, 100, 100,T))\n",
    "# Ws_array3 = np.empty((100, 100, 100,T))\n",
    "# Ws_array4 = np.empty((100, 100, 100,T))\n",
    "# Ws_array5 = np.empty((100, 100, 100,T))\n",
    "# Ws_array6 = np.empty((100, 100, 100,T))\n",
    "# Ws_array7 = np.empty((100, 100, 100,T))\n",
    "# Ws_array8 = np.empty((100, 100, 100,T))\n",
    "# Ws_array9 = np.empty((100, 100, 100,T))\n"
   ]
  },
  {
   "cell_type": "markdown",
   "metadata": {},
   "source": [
    "Populando o array com os valores de liquidação, que independem das habilidades ou lower bounds\n",
    "\n"
   ]
  },
  {
   "cell_type": "code",
   "execution_count": 13,
   "metadata": {},
   "outputs": [],
   "source": [
    "Ws_array[:,:,:, :,(T-1)] = Ls(T)\n",
    "\n",
    "Wj_array[:,:,:, :,(T-1)] = Lj(T)"
   ]
  },
  {
   "cell_type": "code",
   "execution_count": 14,
   "metadata": {},
   "outputs": [],
   "source": [
    "#funções para achar os valores nas matrizes\n",
    "\n",
    "def Ws_find(teta_st, lst, ljt, policy, t):\n",
    "    \n",
    "    \n",
    "    #para achar teta_st = 0.99, buscamos: θs_vals[99 - 1]\n",
    "    #como os valores serão em casas decimais, temos que multiplicar por 100\n",
    "    vteta_st = int(100 * teta_st - 1)\n",
    "    \n",
    "    vlst = int(100 * lst - 1)\n",
    "    \n",
    "    vljt = int(100 * ljt - 1)\n",
    "    \n",
    "    return Ws_array[vteta_st, vlst, vljt,policy, t]\n",
    "    \n",
    "    \n",
    "\n",
    "    \n",
    "def Wj_find(teta_jt, lst, ljt, policy, t):\n",
    "    \n",
    "    \n",
    "    vteta_jt = int(100 * teta_jt - 1)\n",
    "    \n",
    "    vlst = int(100 * lst - 1)\n",
    "    \n",
    "    vljt = int(100 * ljt - 1)\n",
    "    \n",
    "    return Ws_array[vteta_jt, vlst, vljt, policy, t]\n",
    "\n",
    "\n",
    "\n",
    "def find(y):\n",
    "    \n",
    "    x = 100*y - 1\n",
    "    \n",
    "    #transformando em int para usar como índice nas matrizes\n",
    "    \n",
    "    x = int(x)\n",
    "    \n",
    "    return x\n"
   ]
  },
  {
   "cell_type": "markdown",
   "metadata": {},
   "source": [
    "### Passo 3: fazer o cálculo das funções valor em T-1, T-2, ..., 1."
   ]
  },
  {
   "cell_type": "markdown",
   "metadata": {},
   "source": [
    "### Função para tirar um draw da distribuição Beta\n",
    "\n",
    "\n",
    "Vamos usar o método da amostragem da inversa da CDF (https://en.wikipedia.org/wiki/Inverse_transform_sampling_method). Outra referência que usei foi: https://blogs.sas.com/content/iml/2013/07/22/the-inverse-cdf-method.html#:~:text=The%20exponential%20distribution%20has%20probability,log(1%E2%80%93u).\n",
    "\n",
    "A CDF da Beta é \n",
    "\n",
    "$$ F_{\\beta} ( \\theta_{t+1} \\mid \\theta_{t} ) = 1 - \\frac{ (1 - \\theta_{t+1})^\\beta}{ (1 - \\theta_{t})^\\beta }, \\, \\, \\theta_{t} \\leq \\theta_{t+1} \\leq 1, \\, \\beta \\geq 1$$\n",
    "\n",
    "Para invertê-la, basta procurarmos o valor de x tal que $F(x) = u$, onde u é uma retirada da distribuição Uniforme(0,1).\n",
    "\n",
    "Fazendo os cálculos, esse valor de x é (ou $\\theta_{t+1}$, no caso)\n",
    "\n",
    "\n",
    "$$ \\theta_{t+1} =  1 - exp \\bigg\\{ \\frac{1}{\\beta} \\big[  log (1 - u) + \\beta * log(1 - \\theta_{t}) \\big] \\bigg\\} $$\n"
   ]
  },
  {
   "cell_type": "code",
   "execution_count": 15,
   "metadata": {
    "scrolled": true
   },
   "outputs": [],
   "source": [
    "#código para tirar draw da distribuição beta\n",
    "\n",
    "def draw_beta(info_hoje):\n",
    "    \n",
    "    \n",
    "    #se for igual a 1, retorna 1. Não usei a fórmula da inversa CDF porque teríamos log (0)\n",
    "    if(info_hoje == 1):\n",
    "        return 1\n",
    "    else:\n",
    "    \n",
    "        u = uniform(0, 1)\n",
    "        x = 1 - math.exp( (1/β) * (math.log(1-u) + β*math.log(1-info_hoje)) )\n",
    "\n",
    "        return x\n",
    "\n",
    "\n",
    "\n",
    "\n",
    "# testando\n",
    "\n",
    "# draw_beta(0.5)\n",
    "\n",
    "\n",
    "\n",
    "# #teste com draw da função UNIFORME\n",
    "# def draw_beta(info_hoje):\n",
    "#     u = uniform(info_hoje, 1)\n",
    "#     return u\n",
    "\n",
    "\n",
    "# # testando\n",
    "# draw_beta(0.99)"
   ]
  },
  {
   "cell_type": "markdown",
   "metadata": {},
   "source": [
    "### Função para tirar o valor esperado do teta amanhã, dada a informação hoje.\n",
    "\n",
    "Usamos a forma fechada, baseada na esperança de uma variável aleatória truncada: https://en.wikipedia.org/wiki/Truncated_distribution\n",
    "\n",
    "\n",
    "\n",
    "$$ \\mathbb{E} \\big[ X \\mid X > y \\big] =  \\frac{\\int_{y}^{\\infty}  x g(x) dx} {1 - F(y)} $$\n",
    "\n",
    "\n",
    "Onde:\n",
    "\n",
    "* $f(x)$ é a pdf da Beta, sem truncar. No caso, usamos a = 1 e b = $\\beta$\n",
    "* $ g(x) = f(x)$ sempre que $x > y$ e 0 caso contrário\n",
    "* $F(y)$ é a CDF da Beta, sem truncar, avaliada em y\n",
    "\n",
    "\n",
    "Em nosso caso, y será a informação que temos hoje para formar a expectativa sobre a habilidade amanhã. Na prática, y será ou a habilidade do credor no período atual $\\theta_{k,t}, k \\in \\{s,j\\}$ ou o lower bound da habilidade do credor adversário no período atual $l_{k,t}$.\n",
    "\n",
    "Ilustraremos a fórmula usando $l_{t}$:\n",
    "\n",
    "<!-- \n",
    "$$ \\mathbb{E} \\big[ \\theta_{t+1} \\mid \\theta_{t+1} > l_t \\big] =  \\frac{ l_t (1 - l_t)^\\beta + \\frac{(1-l_t)^{\\beta+1} }{(\\beta+1)} } {1 - (1 - l_t)^\\beta} $$ -->\n",
    "\n",
    "\n",
    "\n",
    "$$ \\mathbb{E} \\big[ \\theta_{t+1} \\mid \\theta_{t+1} > l_t \\big] =  \\frac{ l_t (1 - l_t)^\\beta + (1-l_t)^{\\beta+1}(\\beta+1)^{-1} } {(1 - l_t)^{\\beta} } $$\n",
    "\n"
   ]
  },
  {
   "cell_type": "code",
   "execution_count": 16,
   "metadata": {},
   "outputs": [],
   "source": [
    "def expec_beta(info_hoje):\n",
    "    \n",
    "    #retorna 1 se a info_hoje for 1. A CDF não suporta 1\n",
    "    if info_hoje == 1:\n",
    "        return 1\n",
    "    else:\n",
    "        num = info_hoje * (1 - info_hoje)**β + ((1-info_hoje)**(β+1))/(β+1)\n",
    "\n",
    "        denom = (1-info_hoje)**(β)\n",
    "\n",
    "        return round(num/denom,2)\n",
    "    \n",
    "\n",
    "# testando, com beta = 1 e lt = 0.5, deve achar 0.75\n",
    "\n",
    "\n",
    "# expec_beta(0.5)\n",
    "\n",
    "\n",
    "# #para os outros valores, não pode ser superior a 1. E tem que ser crescente\n",
    "# expec_beta(0.3)\n",
    "\n",
    "# expec_beta(0.99)\n",
    "# expec_beta(1)"
   ]
  },
  {
   "cell_type": "code",
   "execution_count": 17,
   "metadata": {},
   "outputs": [],
   "source": [
    "# def expec_beta(info_hoje):\n",
    "    \n",
    "\n",
    "#     #para calcular o valor esperado UM PERÍODO À FRENTE, vamos tirar 1000 draws disso e fazer a média\n",
    "#     #se estiver correto, expec_beta(0.5, 1) deve ser próximo de 0.75, pois Beta = 1 é Uniforme\n",
    "#     beta_vals = []\n",
    "\n",
    "#     for t in range(100):\n",
    "#         beta_amanha = draw_beta(info_hoje)\n",
    "\n",
    "#         beta_vals.append(beta_amanha)\n",
    "        \n",
    "#     return round(np.mean(beta_vals),2)\n",
    "\n",
    "# #testando\n",
    "# # expec_beta(0.5)\n",
    "\n",
    "\n",
    "\n",
    "#teste com draw da função UNIFORME\n",
    "# def expec_beta(info_hoje):\n",
    "    \n",
    "#     summation = 1/2\n",
    "    \n",
    "#     resultado = info_hoje/2 + summation\n",
    "    \n",
    "#     return round(resultado,2)\n",
    "\n",
    "#testando\n",
    "# expec_beta(0.5)"
   ]
  },
  {
   "cell_type": "markdown",
   "metadata": {},
   "source": [
    "### Como obter o valor esperado da função valor no período seguinte?\n",
    "\n",
    "Multiplicando a coluna correta de pmf pela coluna correta de Ws_array\n",
    "\n",
    "\n",
    "Agora que temos a pdf, podemos fazer assim:\n",
    "\n",
    "\n",
    "$$ \\es{t}{ \\Ws{t+1} } = \\sum_{\\theta_{t+1}=0.01}^{1.00} prob(\\Is{t+1}) * \\Ws{t+1}$$\n",
    "\n",
    "\n",
    "Na prática, já saberemos $l_{s,t+1}$ e $l_{j,t+1}$, então poderemos fixar esses valores\n",
    "\n",
    "\n",
    "$$ \\es{t}{ \\Ws{t+1} } = \\sum_{\\theta_{t+1}=0.01}^{1.00} prob(\\theta_{t+1}) * [ \\Ws{t+1} \\mid l_{s,t+1}, l_{j,t+1} ]$$\n",
    "\n",
    "\n",
    "Vamos fazer essa soma usando multiplicação de vetores:\n",
    "\n",
    "* aproveitaremos que dá pra saber os lower bounds do período seguinte a cada situação, então a única incerteza é sobre teta\n",
    "* multiplicaremos pmf (vetor linha)\n",
    "* pelo vetor coluna W correspondente\n",
    "\n",
    "\n",
    "Como achar a entrada correspondente na matriz?\n",
    "Por exemplo, achar qual entrada corresponde a lst =  0.58. Basta escrever 57 na entrada correspondente. Ou usar a função find(0.58).\n",
    "\n",
    "\n"
   ]
  },
  {
   "cell_type": "code",
   "execution_count": 18,
   "metadata": {},
   "outputs": [],
   "source": [
    "#binning da pdf beta\n",
    "\n",
    "#gerando 1000 draws\n",
    "\n",
    "def bin(info_hoje, ndraws):\n",
    "    \n",
    "    beta_vals = []\n",
    "\n",
    "    for k in range(ndraws):\n",
    "        beta_amanha = draw_beta(info_hoje)\n",
    "\n",
    "        beta_vals.append(beta_amanha)\n",
    "    \n",
    "    #cria os bins e conta quantos valores estão dentro deles\n",
    "    teta_bins = np.zeros(len(θj_vals))  \n",
    "    \n",
    "    for t in range(len(teta_bins)):\n",
    "        \n",
    "        #ajustando os bins iniciais e final\n",
    "        if(t==0):\n",
    "            pre = 0\n",
    "        else:\n",
    "            pre = (θj_vals[t-1]+θj_vals[t])/2\n",
    "               \n",
    "        \n",
    "        if(t==len(teta_bins)-1):\n",
    "            pos = 1\n",
    "        else: \n",
    "            pos = (θj_vals[t]+θj_vals[t+1])/2\n",
    "        \n",
    "        \n",
    "        for b in beta_vals:\n",
    "            \n",
    "            if(b >= pre and b <= pos):\n",
    "                \n",
    "                teta_bins[t] += 1\n",
    "    \n",
    "    return teta_bins/ndraws\n",
    "        \n",
    "        \n",
    "        \n",
    "        \n",
    "#às vezes soma um pouco a mais que um (tipo a sétima casa decimal fica maior que zero, mas ok)\n",
    "# sum(bin(0.9,1000))\n",
    "\n",
    "\n"
   ]
  },
  {
   "cell_type": "code",
   "execution_count": 19,
   "metadata": {},
   "outputs": [],
   "source": [
    "#vamos gerar uma matriz com 100 linhas e 100 colunas\n",
    "#cada coluna vai representar as probabilidades de teta_amanhã dado teta hoje\n",
    "#a linha 1 significa que teta_hoje é 0.01\n",
    "#assim, a linha 1 tem as probabilidades de teta_amanhã dado que teta_hoje é 0.01\n",
    "\n",
    "\n",
    "\n",
    "\n",
    "#probability mass function\n",
    "pmf = np.zeros((100,100))\n",
    "\n",
    "#exemplo para ilustrar\n",
    "# pmf[0,] = bin(θj_vals[0], β, 1000)\n",
    "\n",
    "\n",
    "#populando a pmf:\n",
    "\n",
    "for t in range(len(θj_vals)-1):\n",
    "    \n",
    "    pmf[t,:] = bin(θj_vals[t], 1000)\n",
    "\n",
    "#quais as probabilidades de teta_amanhã se eu sei que teta_hoje = 0.5?\n",
    "\n",
    "# sum(pmf[53,:])"
   ]
  },
  {
   "cell_type": "code",
   "execution_count": 20,
   "metadata": {},
   "outputs": [
    {
     "data": {
      "text/plain": [
       "array([0.   , 0.   , 0.   , 0.   , 0.   , 0.   , 0.   , 0.   , 0.   ,\n",
       "       0.   , 0.   , 0.   , 0.   , 0.   , 0.   , 0.   , 0.   , 0.   ,\n",
       "       0.   , 0.   , 0.   , 0.   , 0.   , 0.   , 0.   , 0.   , 0.   ,\n",
       "       0.   , 0.   , 0.   , 0.   , 0.   , 0.   , 0.   , 0.   , 0.   ,\n",
       "       0.   , 0.   , 0.   , 0.   , 0.   , 0.   , 0.   , 0.   , 0.   ,\n",
       "       0.   , 0.   , 0.   , 0.   , 0.   , 0.   , 0.   , 0.   , 0.   ,\n",
       "       0.118, 0.192, 0.159, 0.112, 0.076, 0.076, 0.074, 0.033, 0.034,\n",
       "       0.035, 0.023, 0.012, 0.015, 0.012, 0.006, 0.009, 0.003, 0.003,\n",
       "       0.001, 0.003, 0.001, 0.002, 0.   , 0.001, 0.   , 0.   , 0.   ,\n",
       "       0.   , 0.   , 0.   , 0.   , 0.   , 0.   , 0.   , 0.   , 0.   ,\n",
       "       0.   , 0.   , 0.   , 0.   , 0.   , 0.   , 0.   , 0.   , 0.   ,\n",
       "       0.   ])"
      ]
     },
     "execution_count": 20,
     "metadata": {},
     "output_type": "execute_result"
    },
    {
     "data": {
      "text/plain": [
       "array([0.118, 0.192, 0.159, 0.112, 0.076, 0.076, 0.074, 0.033, 0.034,\n",
       "       0.035, 0.023, 0.012, 0.015, 0.012, 0.006, 0.009, 0.003, 0.003,\n",
       "       0.001, 0.003, 0.001, 0.002, 0.   , 0.001, 0.   , 0.   , 0.   ,\n",
       "       0.   , 0.   , 0.   , 0.   , 0.   , 0.   , 0.   , 0.   , 0.   ,\n",
       "       0.   , 0.   , 0.   , 0.   , 0.   , 0.   , 0.   , 0.   , 0.   ,\n",
       "       0.   ])"
      ]
     },
     "execution_count": 20,
     "metadata": {},
     "output_type": "execute_result"
    },
    {
     "data": {
      "text/plain": [
       "1.0"
      ]
     },
     "execution_count": 20,
     "metadata": {},
     "output_type": "execute_result"
    }
   ],
   "source": [
    "#teste eliminando valores abaixo de teta_hoje\n",
    "\n",
    "\n",
    "pmf[54,:]\n",
    "\n",
    "pmf[54, 54:100]\n",
    "\n",
    "sum(pmf[54, 54:100])"
   ]
  },
  {
   "cell_type": "code",
   "execution_count": 21,
   "metadata": {},
   "outputs": [],
   "source": [
    "#valor esperado das funções valor, já organizado\n",
    "\n",
    "def Ews(teta_hoje, ls_amanha, lj_amanha, t):\n",
    "    #t é o período para o qual queremos o valor esperado\n",
    "    #t igual a \"t_amanhã\"\n",
    "    \n",
    "    if t == T:\n",
    "        return Ls(T)\n",
    "    else:\n",
    "    \n",
    "        teta_hoje = find(teta_hoje)\n",
    "\n",
    "        ls_amanha = find(ls_amanha)\n",
    "        lj_amanha = find(lj_amanha)\n",
    "    \n",
    "    \n",
    "        \n",
    "        Esp_respondendo = sum(pmf[teta_hoje, teta_hoje:100] * Ws_array[teta_hoje:100,ls_amanha, lj_amanha, 0, (t-1) ])\n",
    "        Esp_propondo = sum(pmf[teta_hoje, teta_hoje:100] * Ws_array[teta_hoje:100,ls_amanha, lj_amanha, 1, (t-1) ])\n",
    "\n",
    "\n",
    "        Esp = λj * Esp_respondendo + (1 - λj) * Esp_propondo\n",
    "\n",
    "        return Esp\n",
    "\n",
    "\n",
    "def Ewj(teta_hoje, ls_amanha, lj_amanha, t):\n",
    "    \n",
    "#     breakpoint()\n",
    "    if t == T:\n",
    "        return Lj(T)\n",
    "    else:\n",
    "        teta_hoje = find(teta_hoje)\n",
    "\n",
    "        ls_amanha = find(ls_amanha)\n",
    "        lj_amanha = find(lj_amanha)\n",
    "    \n",
    "    \n",
    "    \n",
    "        Esp_respondendo = sum(pmf[teta_hoje, teta_hoje:100] * Wj_array[teta_hoje:100,ls_amanha, lj_amanha, 0, (t-1) ])\n",
    "        Esp_propondo = sum(pmf[teta_hoje, teta_hoje:100] * Wj_array[teta_hoje:100,ls_amanha, lj_amanha, 1, (t-1) ])\n",
    "\n",
    "        #aqui invertemos a ordem porque j propõe com chance lambda_j\n",
    "        Esp = λj * Esp_propondo  + (1 - λj) * Esp_respondendo\n",
    "\n",
    "        return Esp\n",
    "\n",
    "\n",
    "#teste\n",
    "\n",
    "\n",
    "# start = time.process_time()\n",
    "\n",
    "\n",
    "# Ews(0.5, 0.3, 0.2, 16)\n",
    "# print(time.process_time() - start)\n",
    "\n",
    "# sum(pmf[49, :] * Ws_array[49,29, 19, 1, 15])\n"
   ]
  },
  {
   "cell_type": "markdown",
   "metadata": {},
   "source": [
    "#### Primeiro vamos explicar os cálculos, depois a gente explica a notação de matriz mais adiante\n"
   ]
  },
  {
   "cell_type": "markdown",
   "metadata": {},
   "source": [
    "A primeira parte da função valor de s é caso ele venha a propor:\n",
    "\n",
    "\n",
    " $$ S_1 (\\Is{1}) = \\max \\bigg\\{ L_{s1}, V \\es{1}{\\theta_s} - \\es{1}{W_j}, \\es{1}{W_s}\n",
    "                    \\bigg\\} $$\n",
    "\n"
   ]
  },
  {
   "cell_type": "markdown",
   "metadata": {},
   "source": [
    "Lógica para calcular o lj_next:\n",
    "\n",
    "lj_next = max{ljt, cjt}\n",
    "\n",
    "Pensei no caso de cada um ser o máximo:\n",
    "1. Se ljt > cjt, ou seja, se o lower bound de j não muda, podemos calcular o valor esperado de j usando ljt.\n",
    "    * Daí que Pst = Ewj(expec_beta(ljt), ls_next, ljt, t+1)\n",
    "\n",
    "2. Se existe cjt > ljt, então devemos achá-lo no loop:\n",
    "    * Pst - Ewj(cjt, ls_next, cjt, t+1) > tol ...)\n",
    "    * cjt inicial é ljt, daí que se ljt não faz screening, então Pst - Ewj(cjt, ls_next, cjt, t+1) < 0 e o loop para\n",
    "3. Caso exista cjt > ljt, então lj_next = cjt, então calculamos novamente:\n",
    "    * Pst = Ewj(expec_beta(ljt), ls_next, lj_next, t+1)\n",
    "    * Se não existir esse cjt, lj_next = ljt, então Pst não mudará\n"
   ]
  },
  {
   "cell_type": "code",
   "execution_count": 22,
   "metadata": {},
   "outputs": [],
   "source": [
    "#payoff de S quanto ele tem o direito de propor em t\n",
    "\n",
    " \n",
    "#Tem que ter preparado o terreno antes calculando as funções valor no período seguinte\n",
    "\n",
    "def St(teta_st, lst, ljt, t):\n",
    "    \n",
    "    #update do lower bound:\n",
    "    \n",
    "    #ls_next é a habilidade dele hoje, pois s revela esta quando propõe\n",
    "    \n",
    "    ls_next = teta_st\n",
    "    \n",
    "      \n",
    "    \n",
    "    #quanto s pagará para j neste período? A esperança da função valor de j amanhã,\n",
    "    #calculadas de acordo com os lower bounds de amanhã\n",
    "    \n",
    "    \n",
    "    #tem expec_beta porque eu não sei o valor de θjt+1, então estimo usando a informação de hoje\n",
    "    Pst = Ewj(expec_beta(ljt), ls_next, ljt, t+1)\n",
    "    \n",
    "    \n",
    "    #lj_next depende do cutoff de j\n",
    "    \n",
    "    #algoritmo para calcular cutoff\n",
    "    \n",
    "    cjt = ljt\n",
    "    \n",
    "    \n",
    "    #flag vai parar o loop se demorar muito\n",
    "    flag = 1\n",
    "    tol = 0.01\n",
    "    \n",
    "    #condição cjt < 0.99 é pra ele não passar de 1\n",
    "    #veja o que acontece com st(0.28, 0.51, 0.28, 14) se não tiver essa condição\n",
    "    while (Pst - Ewj(cjt, ls_next, cjt, t+1) > tol and flag < 10000 and cjt < 0.99):\n",
    "        cjt = cjt + 0.01\n",
    "        flag = flag + 1\n",
    "        \n",
    "    \n",
    "    #lj_next é o máximo entre o lower bound de j hoje e o cutoff de j\n",
    "    lj_next = max(ljt, cjt)\n",
    "    \n",
    "    #aqui calculamos a oferta ótima de novo, pois pode ser que o cutoff seja maior que o lower bound anterior\n",
    "    #vou deixar sem recalcular. Assim, é como se o pagamento fosse função de ljt\n",
    "    \n",
    "#     Pst = Ewj(expec_beta(lj_next), ls_next, lj_next, t+1)\n",
    "    \n",
    "    #esperança da própria habilidade no próximo período\n",
    "    θs_next = expec_beta(teta_st)\n",
    "    \n",
    "    #OLHAR ESSA PARTE COM CUIDADO, CONFERIR OS ARGUMENTOS DAS FUNÇÕES NO PERÍODO SEGUINTE\n",
    "    #conferi em 05/08 e parece OK\n",
    "    St = [Ls(t), V[t] * θs_next - Pst, Ews(θs_next, ls_next, lj_next, t+1)]\n",
    "          \n",
    "    \n",
    "    policy_St = np.argmax(St)\n",
    "    \n",
    "    \n",
    "    #retorna um vetor: a função valor, a política ótima, o ls_next, e o lj_next\n",
    "    return St[policy_St],policy_St, ls_next, lj_next\n",
    "\n"
   ]
  },
  {
   "cell_type": "markdown",
   "metadata": {},
   "source": [
    "Quando j propõe é análogo"
   ]
  },
  {
   "cell_type": "code",
   "execution_count": 23,
   "metadata": {},
   "outputs": [],
   "source": [
    "#payoff de S quanto ele tem o direito de propor em t\n",
    "\n",
    " \n",
    "#Tem que ter preparado o terreno antes calculando as funções valor no período seguinte\n",
    "\n",
    "def Jt(teta_jt, lst, ljt, t):\n",
    "    \n",
    "    #update do lower bound:\n",
    "    \n",
    "    #ls_next é a habilidade dele hoje pois s revela esta quando propõe\n",
    "    \n",
    "    lj_next = teta_jt\n",
    "    \n",
    "      \n",
    "    \n",
    "    #quanto s pagará para j neste período? A esperança da função valor de j amanhã, conforme as informações de j hoje.\n",
    "    \n",
    "    Pjt = Ews(expec_beta(lst), lst, lj_next, t+1)\n",
    "    \n",
    "    \n",
    "    #lj_next depende do cutoff de j\n",
    "    \n",
    "    #algoritmo para calcular cutoff\n",
    "    \n",
    "    cst = lst\n",
    "    \n",
    "    \n",
    "    #flag é vai parar o loop se demorar muito\n",
    "    flag = 1\n",
    "    tol = 0.01\n",
    "    \n",
    "    while (Pjt - Ews(cst, cst, lj_next, t+1) > tol and flag < 10000 and cst < 0.99):\n",
    "        cst = cst + 0.01\n",
    "        flag = flag + 1\n",
    "        \n",
    "    \n",
    "    #lj_next é o máximo entre o lower bound de j hoje e o cutoff de j\n",
    "    ls_next = max(lst, cst)\n",
    "    \n",
    "    \n",
    "    #aqui calculamos a oferta ótima de novo, pois pode ser que o cutoff seja maior que o lower bound anterior\n",
    "    \n",
    "#     Pjt = Ews(expec_beta(ls_next), ls_next, lj_next, t+1)\n",
    "    \n",
    "    #esperança da própria habilidade no próximo período\n",
    "    θj_next = expec_beta(teta_jt)\n",
    "    \n",
    "    Jt = [Lj(t), V[t] * θj_next - Pjt, Ewj(θj_next, ls_next, lj_next, t+1)]\n",
    "          \n",
    "    \n",
    "    policy_Jt = np.argmax(Jt)\n",
    "    \n",
    "    \n",
    "    #retorna um vetor: a função valor, a política ótima, o ls_next, e o lj_next\n",
    "    return Jt[policy_Jt],policy_Jt, ls_next, lj_next\n",
    "\n",
    "\n",
    "    \n",
    "\n",
    "    \n"
   ]
  },
  {
   "cell_type": "markdown",
   "metadata": {},
   "source": [
    "A segunda parte da função valor é se se for chamado a responder:\n",
    "    \n",
    "$s_1 (\\Is{1}) = $\n",
    "    $ \\esb{1}{ Prob ({j liquidar})  \\maximo{L_{s1}, V \\es{1}{\\theta_s} - L_{j1}} } $\n",
    "    $ + \\esb{1}{ Prob ({j reorganizar})   \\maximo{\\ej{1}{W_s}, \\es{1}{W_s}}    }$\n",
    " \n",
    " \n",
    " Sendo que\n",
    " \n",
    " $ \\Es{1}{Prob (j liq em T-1)}$\n",
    " \n",
    "  $$ = Prob \\bigg(L_{j1} > \\max \\{V \\es{1}{ \\ej{1}{\\theta_j} } - \\es{1}{ \\ej{1}{W_s} }, \\es{1}{ \\ej{1}{W_j}  }\\} \\bigg)$$\n",
    "  \n",
    "  \n",
    " Repare que $L_{j1} > L{j}$ e que $\\es{1}{\\theta_{j}}$ cresce em $\\theta_{j}$. Então deve existir um threshold de reorganização em t = T-1, $\\phi_{j1}$, tal que: \n",
    "\n",
    "$$V \\phi_{j1} - L_{s} = L{j1} $$\n",
    "\n",
    "$$ \\phi_{j1} = \\frac{ L_{j1} + L_{s} }{V} $$\n",
    "\n",
    "Então se $\\es{1}{\\theta_{j}} > \\phi_{j1}$, j reorganiza a firma. E j liquida a firma caso contrário.\n",
    "\n",
    "\n",
    "A pergunta é: qual a probabilidade de que $\\theta_{j}$ tome um valor menor ou igual a $\\phi_{j1}$ ? Isso pode ser respondido usando a \\textit{prior} do jogador, a função CDF da distribuição Beta:\n",
    "\n",
    "$$ \\Es{1}{Prob (\\textnormal{j liq em T-1})} = F_{\\beta} \\big( \\phi_{j1} \\mid l_{j1} \\big) $$\n",
    " \n"
   ]
  },
  {
   "cell_type": "markdown",
   "metadata": {},
   "source": [
    "Na probabilidade de liquidar no período seguinte, temos a seguinte expressão:\n",
    "\n",
    "$ Prob \\bigg( L_{j,t} > \\maximo{V_{t+1} \\es{t}{\\theta_{j,t+1} }  - \\es{t}{ \\ej{t}{ W_{s,t+1}  } }  ,  \\es{t}{ \\ej{t}{ W_{j,t+1}  } } } \\bigg)$\n",
    "\n",
    "Onde os termos dentro das expectativas iteradas são calculados com base apenas nos lower bounds de hoje.\n",
    "\n",
    "1. Vamos considerar o caso em que a esperança de j sobre a sua própria função valor  é o máximo dos argumentos\n",
    "\n",
    "2. Vamos calcular o threshold para o caso onde ainda pode compensar reorganizar a firma"
   ]
  },
  {
   "cell_type": "code",
   "execution_count": 24,
   "metadata": {},
   "outputs": [],
   "source": [
    "#vamos criar os componentes da função st\n",
    "\n",
    "#não preciso me preocupar com if t == T, pois esta condição estará nas funções valor Ws e Wj\n",
    "\n",
    "\n",
    "#DÚVIDA SE AQUI EU PRECISO USAR LJ_NEXT E LS_NEXT.\n",
    "            #ACHO QUE SIM, VOU CONFERIR DEPOIS\n",
    "    \n",
    "#05/08: acho que precisa usar lj_next e ls_next sim, então inputei esses valores nela lá na função st() mais à frente\n",
    "#mudei os argumentos para ls_next, lj_next\n",
    "\n",
    "def Prob_s(teta_st, ls_next, lj_next, t):\n",
    "    \n",
    "    #probabilidade de j liquidar em t, dado lj_next \n",
    "    #sob a ótica de s, daí o subscrito _s\n",
    "    \n",
    "    #caso onde a esperança de j sobre a própria função é o máximo dos argumentos\n",
    "    if (Ewj(expec_beta(lj_next), ls_next, lj_next, t+1) > V[t] * 1 - Ews(expec_beta(ls_next), ls_next, lj_next, t+1) ):\n",
    "        \n",
    "        #se a esperança da função valor amanhã for maior ou igual ao valor de liquidar,\n",
    "        #a chance de liquidar é zero\n",
    "        \n",
    "        if(Ewj(expec_beta(lj_next), ls_next, lj_next, t+1) >= Lj(t)):\n",
    "            return 0\n",
    "        else: \n",
    "            return 1\n",
    "        \n",
    "    #caso onde ainda compensa para j reorganizar a firma\n",
    "    else:\n",
    "        \n",
    "        if(lj_next == 1):\n",
    "            #se o lowerbound de j for igual a um e ainda compensar reorganizar a firma\n",
    "            #a chance de j liquidar será zero\n",
    "            return 0\n",
    "        \n",
    "        else:\n",
    "\n",
    "            #threshold para j tentar liquidar\n",
    "\n",
    "            #DÚVIDA SE AQUI EU PRECISO USAR LJ_NEXT E LS_NEXT.\n",
    "            #ACHO QUE SIM, VOU CONFERIR DEPOIS\n",
    "            ϕjt = ( Lj(t) + Ews(expec_beta(ls_next), ls_next, lj_next, t+1) ) / V[t]\n",
    "\n",
    "            Prob_st = 1 - ((1 - ϕjt)**β)/((1 - lj_next)**β)\n",
    "\n",
    "            #aqui tem que ser no mínimo a igual a zero, apenas por segurança\n",
    "            Prob_st = max(0, Prob_st)\n",
    "\n",
    "            return Prob_st\n",
    "    \n",
    "#testando\n",
    "# Prob_s(0.5, 0.5, 1, 3)\n",
    "\n"
   ]
  },
  {
   "cell_type": "markdown",
   "metadata": {},
   "source": [
    "A probabilidade para j é análoga"
   ]
  },
  {
   "cell_type": "code",
   "execution_count": 25,
   "metadata": {},
   "outputs": [],
   "source": [
    "#vamos criar os componentes da função st\n",
    "\n",
    "#não preciso me preocupar com if t == T, pois esta condição estará nas funções valor Ws e Wj\n",
    "\n",
    "def Prob_j(teta_jt, ls_next, lj_next, t):\n",
    "    \n",
    "    #probabilidade de s liquidar em t, dado ls_next \n",
    "    #sob a ótica de j, daí o subscrito _j\n",
    "    \n",
    "    #caso onde a esperança de s sobre a própria função é o máximo dos argumentos\n",
    "    if (Ews(expec_beta(ls_next), ls_next, lj_next, t+1) > V[t] * 1 - Ewj(expec_beta(lj_next), ls_next, lj_next, t+1) ):\n",
    "        \n",
    "        #se a esperança da função valor amanhã for maior ou igual ao valor de liquidar,\n",
    "        #a chance de liquidar é zero\n",
    "        \n",
    "        if(Ews(expec_beta(ls_next), ls_next, lj_next, t+1) >= Ls(t)):\n",
    "            return 0\n",
    "        else: \n",
    "            return 1\n",
    "        \n",
    "    #caso onde ainda compensa para j reorganizar a firma\n",
    "    else:\n",
    "        \n",
    "        if(ls_next == 1):\n",
    "            #se o lowerbound de j for igual a um e ainda compensar reorganizar a firma\n",
    "            #a chance de j liquidar será zero\n",
    "            return 0\n",
    "        else:\n",
    "\n",
    "            #threshold para j tentar liquidar\n",
    "\n",
    "            #DÚVIDA SE AQUI EU PRECISO USAR LJ_NEXT E LS_NEXT.\n",
    "            #ACHO QUE SIM, VOU CONFERIR DEPOIS\n",
    "            ϕst = ( Ls(t) + Ewj(expec_beta(lj_next), ls_next, lj_next, t+1) ) / V[t]\n",
    "\n",
    "            Prob_jt = 1 - ((1 - ϕst)**β)/((1 - ls_next)**β)\n",
    "\n",
    "            #aqui tem que ser no mínimo a igual a zero, apenas por segurança\n",
    "            Prob_jt = max(0, Prob_jt)\n",
    "\n",
    "            return Prob_jt\n",
    "\n",
    "#teste\n",
    "# Prob_j(0.5,0.5, 1, 3)"
   ]
  },
  {
   "cell_type": "markdown",
   "metadata": {},
   "source": [
    "Payoff de s caso ele responda à uma proposta de liquidação de j"
   ]
  },
  {
   "cell_type": "code",
   "execution_count": 26,
   "metadata": {},
   "outputs": [],
   "source": [
    "#Payoff de s caso ele responda à uma proposta de liquidação de j\n",
    "\n",
    "def s_liq(teta_st, lst, ljt, t):\n",
    "    \n",
    "    #update dos lower bounds não é necessário aqui\n",
    "    #é a unica parte da função que independe das funções valor no período seguinte\n",
    "    \n",
    "    st_liq = [Ls(t), V[t] * expec_beta(teta_st) - Lj(t) ]\n",
    "\n",
    "    policy_st_liq = np.argmax(st_liq)\n",
    "\n",
    "\n",
    "    st_liq = st_liq[policy_st_liq]\n",
    "\n",
    "    return (st_liq),policy_st_liq\n",
    "\n",
    "\n"
   ]
  },
  {
   "cell_type": "markdown",
   "metadata": {},
   "source": [
    "Payoff de j caso ele responda à uma proposta de liquidação de s"
   ]
  },
  {
   "cell_type": "code",
   "execution_count": 27,
   "metadata": {},
   "outputs": [],
   "source": [
    "#Payoff de j caso ele responda à uma proposta de liquidação de s\n",
    "#DÚVIDA se não seria\n",
    "#jt_liq = [Lj(t-1), V[t] * teta_jt - Ls(t-0) ]\n",
    "#ver página 56 Dou et al julho\n",
    "\n",
    "def j_liq(teta_jt, lst, ljt, t):\n",
    "    \n",
    "    #update dos lower bounds não é necessário aqui\n",
    "    #é a unica parte da função que independe das funções valor no período seguinte\n",
    "    \n",
    "    jt_liq = [Lj(t), V[t] * expec_beta(teta_jt) - Ls(t) ]\n",
    "\n",
    "    policy_jt_liq = np.argmax(jt_liq)\n",
    "\n",
    "\n",
    "    jt_liq = jt_liq[policy_jt_liq]\n",
    "\n",
    "    return (jt_liq), policy_jt_liq\n",
    "\n",
    "\n"
   ]
  },
  {
   "cell_type": "markdown",
   "metadata": {},
   "source": [
    "payoff caso s responda à uma proposta de reorganização de j\n"
   ]
  },
  {
   "cell_type": "code",
   "execution_count": 28,
   "metadata": {},
   "outputs": [],
   "source": [
    "#payoff caso s responda à uma proposta de reorganização de j\n",
    "\n",
    "def s_reorg(teta_st, lst, ljt, t):\n",
    "    #update dos lower bounds\n",
    "    \n",
    "    \n",
    "    #neste caso quem revela a informação é j,\n",
    "    #vamos ter que colocar o update do lower bound na estrutura da barganha do jogo depois\n",
    "    lj_next = expec_beta(ljt)\n",
    "    \n",
    "    #algoritmo para calcular cutoff\n",
    "    \n",
    "    cst = lst\n",
    "    \n",
    "    #flag vai parar o loop se demorar muito\n",
    "    flag = 1\n",
    "    tol = 0.01\n",
    "    \n",
    "    Pjt = Ews(expec_beta(lst), lst, lj_next, t+1)\n",
    "    \n",
    "    \n",
    "    while (Pjt - Ews(cst, cst, lj_next, t+1) > tol and flag < 10000 and cst < 0.99):\n",
    "        cst = cst + 0.01\n",
    "        flag = flag + 1\n",
    "        \n",
    "    \n",
    "    #lj_next é o máximo entre o lower bound de j hoje e o cutoff de j\n",
    "    ls_next = max(lst, cst)\n",
    "    \n",
    "    \n",
    "    #aqui calculamos a oferta ótima de novo, pois pode ser que o cutoff seja maior que o lower bound anterior\n",
    "    \n",
    "    Pjt = Ews(expec_beta(ls_next), ls_next, lj_next, t+1)\n",
    "    \n",
    "    #esperança da própria habilidade no próximo período\n",
    "    θs_next = expec_beta(teta_st)\n",
    "    \n",
    "    st_reorg = [Pjt, Ews(θs_next, ls_next, lj_next, t+1)]\n",
    "\n",
    "    policy_st_reorg = np.argmax(st_reorg)\n",
    "\n",
    "\n",
    "    st_reorg = st_reorg[policy_st_reorg]\n",
    "    \n",
    "    \n",
    "    #retorna um vetor: a função valor, a política ótima, o ls_next, e o lj_next\n",
    "    return (st_reorg), policy_st_reorg, ls_next, lj_next\n",
    "\n",
    "\n",
    "#como fazer a parte do loop do cst em forma de vetor? Calcular uma vez só no início do jogo?\n",
    "#não dá para calcular tudo de uma vez no início do jogo porque depende do valor esperado, tem que ser uma vez por turno"
   ]
  },
  {
   "cell_type": "markdown",
   "metadata": {},
   "source": [
    "payoff caso j responda à uma proposta de reorganização de s\n"
   ]
  },
  {
   "cell_type": "code",
   "execution_count": 29,
   "metadata": {},
   "outputs": [],
   "source": [
    "#payoff caso j responda à uma proposta de reorganização de s\n",
    "\n",
    "def j_reorg(teta_jt, lst, ljt, t):\n",
    "    \n",
    "    #update dos lower bounds\n",
    "    \n",
    "    \n",
    "    #neste caso quem revela a informação é s,\n",
    "    #vamos ter que colocar o update do lower bound na estrutura da barganha do jogo depois\n",
    "    ls_next = expec_beta(lst)\n",
    "    \n",
    "    #algoritmo para calcular cutoff\n",
    "    \n",
    "    cjt = ljt\n",
    "    \n",
    "    #flag é vai parar o loop se demorar muito\n",
    "    flag = 1\n",
    "    tol = 0.01\n",
    "    \n",
    "    \n",
    "    Pst = Ewj(expec_beta(ljt), ls_next, ljt, t+1)\n",
    "    \n",
    "    \n",
    "    while (Pst - Ewj(cjt, ls_next, cjt, t+1) > tol and flag < 10000 and cjt < 0.99):\n",
    "        cjt = cjt + 0.01\n",
    "        flag = flag + 1\n",
    "        \n",
    "    \n",
    "    #lj_next é o máximo entre o lower bound de j hoje e o cutoff de j\n",
    "    lj_next = max(ljt, cjt)\n",
    "    \n",
    "    #aqui calculamos a oferta ótima de novo, pois pode ser que o cutoff seja maior que o lower bound anterior\n",
    "    \n",
    "    Pst = Ewj(expec_beta(lj_next), ls_next, lj_next, t+1)\n",
    "    \n",
    "    #esperança da própria habilidade no próximo período\n",
    "    θj_next = expec_beta(teta_jt)\n",
    "    \n",
    "    jt_reorg = [Pst, Ewj(θj_next, ls_next, lj_next, t+1)]\n",
    "\n",
    "    policy_jt_reorg = np.argmax(jt_reorg)\n",
    "\n",
    "    jt_reorg = jt_reorg[policy_jt_reorg]\n",
    "\n",
    "    \n",
    "    #retorna um vetor: a função valor, a política ótima, o ls_next, e o lj_next\n",
    "    return (jt_reorg), policy_jt_reorg, ls_next, lj_next\n",
    "\n"
   ]
  },
  {
   "cell_type": "markdown",
   "metadata": {},
   "source": [
    "Finalmente, calculando o valor da função inteira quando os credores estão respondendo a uma proposta"
   ]
  },
  {
   "cell_type": "code",
   "execution_count": 30,
   "metadata": {},
   "outputs": [],
   "source": [
    "def st(teta_st, lst, ljt, t):\n",
    "    \n",
    "    #agregando todas as funções até agora\n",
    "    \n",
    "    #a função prob_s precisa dos lower bounds do período em questão, então usaremos s_reorg\n",
    "    [s_reorg_valor, s_reorg_policy, ls_next, lj_next] = s_reorg(teta_st, lst, ljt, t)\n",
    "    \n",
    "    Probs = Prob_s(teta_st, ls_next, lj_next, t)\n",
    "    \n",
    "    st = (Probs) * s_liq(teta_st, lst, ljt, t)[0] + (1 - Probs) * s_reorg_valor\n",
    "    \n",
    "    return (st)"
   ]
  },
  {
   "cell_type": "code",
   "execution_count": 31,
   "metadata": {},
   "outputs": [],
   "source": [
    "def jt(teta_jt, lst, ljt, t):\n",
    "    \n",
    "    #agregando todas as funções até agora\n",
    "    \n",
    "    #a função prob_j precisa dos lower bounds do período em questão, então usaremos s_reorg\n",
    "    [j_reorg_valor, j_reorg_policy, ls_next, lj_next] = j_reorg(teta_jt, lst, ljt, t)\n",
    "    \n",
    "    Probj = Prob_j(teta_jt, ls_next, lj_next, t)\n",
    "    \n",
    "    jt = (Probj) * j_liq(teta_jt, lst, ljt, t)[0] + (1 - Probj) * j_reorg_valor\n",
    "    \n",
    "    return (jt)"
   ]
  },
  {
   "cell_type": "code",
   "execution_count": 31,
   "metadata": {},
   "outputs": [],
   "source": [
    "#testando rapidamente os cálculos\n",
    "#tem que ser período igual a 15 porque é o penúltimo período\n",
    "\n",
    "\n",
    "# St(0.5,0.4, 0.3, 15)\n",
    "# Jt(0.5,0.4, 0.3, 15)\n",
    "# st(0.5,0.4, 0.3, 15)\n",
    "# jt(0.5,0.4, 0.3, 15)\n",
    "\n",
    "#todos eles retornam números, então passam no primeiro teste\n",
    "#depois vamos olhar o código de cada um com cuidado para ver se não tem erro\n"
   ]
  },
  {
   "cell_type": "markdown",
   "metadata": {},
   "source": [
    "O que a gente sabe até agora? \n",
    "\n",
    "* o valor das funções valor no último período (valor de liquidação)\n",
    "\n",
    "* calcular as funções valor no penúltimo período, usando St, Jt, st e jt.\n",
    "\n",
    "Falta apenas a gente popular as matrizes com um loop começando de trás para frente"
   ]
  },
  {
   "cell_type": "markdown",
   "metadata": {},
   "source": [
    "### Passo 4: populando os arrays usando loops\n",
    "\n",
    "Vamos relembrar a notação de matriz\n",
    "\n",
    "\n",
    "\n"
   ]
  },
  {
   "cell_type": "markdown",
   "metadata": {},
   "source": [
    "#### Como é a notação dessa matriz, na prática?\n",
    "\n",
    "\n",
    "$ W_{st} (\\Is{1})   =$ Ws_array[ $\\theta_{st}, l_{st}, l_{jt}, t$] \n",
    "\n",
    "Exemplo: \n",
    "\n",
    "Ws_array[ $0.5, 0.3,  0.2, 1, 14$] = St(0.5, 0.3,0.2,15)\n",
    "\n",
    "Traduzindo para St:\n",
    "\n",
    "* St maiúsculo porque a quarta entrada igual a 1 indica que s propõe\n",
    "\n",
    "* 0.5, 0.3, 0.2 são os mesmos valores dados pelo conjunto de informação de s\n",
    "\n",
    "* t = 15 em Ws_array porque a entrada 14 do array se refere ao período 15\n",
    "\n"
   ]
  },
  {
   "cell_type": "markdown",
   "metadata": {},
   "source": [
    "Loop para popular as matrizes das funções valor no penúltimo período.\n",
    "\n",
    "É um ensaio antes de rodar o jogo inteiro"
   ]
  },
  {
   "cell_type": "code",
   "execution_count": 52,
   "metadata": {},
   "outputs": [
    {
     "name": "stdout",
     "output_type": "stream",
     "text": [
      "tempo total para popular o período 3 : 287.234375\n",
      "tempo total para popular o período 2 : 860.28125\n",
      "tempo total para popular o período 1 : 853.53125\n"
     ]
    }
   ],
   "source": [
    "#populando as matrizes em todos os períodos do jogo\n",
    "#vou popular todas as habilidades, mesmo as abaixo do valor inicial. Para replicar Figura 3\n",
    "\n",
    "tempo_total = []\n",
    "#calculando apenas para valores acima das habilidades iniciais\n",
    "\n",
    "#range para ir do t= T até o t = 1\n",
    "\n",
    "for t in range(T-1, 0, -1):\n",
    "    start = time.process_time()\n",
    "\n",
    "    for i in θs_vals:\n",
    "#         print(time.process_time() - start)\n",
    "        for j in ls_vals:\n",
    "            for k in lj_vals:\n",
    "                Ws_array[find(i), find(j), find(k),1,(t-1)] = St(i, j, k, t)[0]\n",
    "                Ws_array[find(i), find(j), find(k),0,(t-1)] = st(i, j, k, t)\n",
    "\n",
    "    for i in θj_vals:\n",
    "#         print(time.process_time() - start)\n",
    "        for j in ls_vals:\n",
    "            for k in lj_vals:\n",
    "                Wj_array[find(i), find(j), find(k),1,(t-1)] = Jt(i, j, k, t)[0]\n",
    "                Wj_array[find(i), find(j), find(k),0,(t-1)] = jt(i, j, k, t)\n",
    "                \n",
    "    duração = time.process_time() - start\n",
    "    tempo_total.append(duração)\n",
    "\n",
    "\n",
    "\n",
    "    print(\"tempo total para popular o período\", t, \":\",time.process_time() - start)\n",
    "\n"
   ]
  },
  {
   "cell_type": "code",
   "execution_count": 54,
   "metadata": {},
   "outputs": [
    {
     "data": {
      "text/plain": [
       "33.35078125"
      ]
     },
     "execution_count": 54,
     "metadata": {},
     "output_type": "execute_result"
    }
   ],
   "source": [
    "#Qual foi o tempo total para rodar esse exemplo?b\n",
    "\n",
    "sum(tempo_total)/60\n",
    "\n",
    "#quase 95 minutos quando tínhamos 16 períodos\n",
    "\n",
    "#16.3 minutos com 4 períodos\n",
    "\n",
    "#05/08: demorou 44 minutos calculando 4 períodos, depois que consertei algumas coisas no update das informações\n",
    "\n",
    "#06/08: demorou 41,7 minutos \n",
    "\n",
    "#10/08: demorou 43,66 minutos para o jogo com 12 períodos (parãmetros dos autores)"
   ]
  },
  {
   "cell_type": "code",
   "execution_count": null,
   "metadata": {},
   "outputs": [],
   "source": [
    "#quanto tempo demora para rodar o jogo com todas as casas decimais em todos os turnos?\n",
    "\n",
    "\n",
    "sum(tempo_total)/60\n",
    "\n",
    "#33 minutos para um jogo com 4 turnos"
   ]
  },
  {
   "cell_type": "markdown",
   "metadata": {},
   "source": [
    "##### Salvando os arquivos com os arrays\n",
    "\n",
    "Só para não ter que ficar gerando os dados toda vez"
   ]
  },
  {
   "cell_type": "code",
   "execution_count": 55,
   "metadata": {},
   "outputs": [],
   "source": [
    "#salvando os arrays para poder trabalhar só na parte da negociação depois\n",
    "\n",
    "\n",
    "np.savetxt('tempo_total_11_08.txt', tempo_total)\n",
    "np.save('Ws_array_11_08', Ws_array)\n",
    "np.save('Wj_array_11_08', Wj_array)\n",
    "# np.savetxt('Wj_array.npy', Wj_array)\n",
    "\n"
   ]
  },
  {
   "cell_type": "code",
   "execution_count": 32,
   "metadata": {},
   "outputs": [],
   "source": [
    "#comando para carregar a base\n",
    "#aqui tem o final .npy\n",
    "Ws_array = np.load('Ws_array_11_08.npy')\n",
    "\n",
    "Wj_array = np.load('Wj_array_11_08.npy')"
   ]
  },
  {
   "cell_type": "code",
   "execution_count": 33,
   "metadata": {},
   "outputs": [
    {
     "data": {
      "text/plain": [
       "array([0.36100046, 0.36110055])"
      ]
     },
     "execution_count": 33,
     "metadata": {},
     "output_type": "execute_result"
    },
    {
     "data": {
      "text/plain": [
       "array([0.22657447, 0.226654  ])"
      ]
     },
     "execution_count": 33,
     "metadata": {},
     "output_type": "execute_result"
    }
   ],
   "source": [
    "#teste\n",
    "# Ws_array[:,:,:,:,0] == Ws_array_load[:,:,:,:,0]\n",
    "\n",
    "Ws_array[find(0.36),find(0.36),find(0.36),:,0]\n",
    "\n",
    "Wj_array[find(0.36),find(0.36),find(0.36),:,0]"
   ]
  },
  {
   "cell_type": "markdown",
   "metadata": {},
   "source": [
    "# Passo 5: resolvendo a negociação entre os credores\n",
    "\n",
    "Aqui vamos resolver o jogo de fato.\n",
    "\n",
    "Etapas:\n",
    "\n",
    "1. Os dois credores recebem suas habilidades, que são informação privada\n",
    "2. Um credor é sorteado para propor o que fazer com a firma\n",
    "3. Há uma atualização nos lower bounds das habilidades para o próximo período\n",
    "4. Usando os lower bounds do próximo período, o credor propositor faz uma oferta baseado no valor de continuação esperado para o próximo período (o dele próprio e o do adversário)\n",
    "5. Há uma atualização das habilidades verdadeiras para o próximo período, que são informação privada\n",
    "6. O credor respondente olha a sua habilidade para o próximo período, os lower bounds do próximo período, calcula seu valor de continuação do próximo período e dá uma resposta.\n",
    "4. O jogo acaba quando os dois concordam quanto ao que fazer com a firma\n",
    "\n",
    "\n",
    "O resultado final é um vetor contendo 3 coisas:\n",
    "1. A taxa de recuperação de crédito (o quanto cada credor recebeu em relação ao que ele tinha de crédito)\n",
    "2. Em qual turno a negociação acabou\n",
    "3. O que decidiram fazer com a firma (reorganizar ou liquidar)\n",
    "\n"
   ]
  },
  {
   "cell_type": "code",
   "execution_count": 56,
   "metadata": {},
   "outputs": [
    {
     "ename": "NameError",
     "evalue": "name 'θst' is not defined",
     "output_type": "error",
     "traceback": [
      "\u001b[1;31m---------------------------------------------------------------------------\u001b[0m",
      "\u001b[1;31mNameError\u001b[0m                                 Traceback (most recent call last)",
      "\u001b[1;32m<ipython-input-56-287d11ca74d3>\u001b[0m in \u001b[0;36m<module>\u001b[1;34m\u001b[0m\n\u001b[0;32m     16\u001b[0m \u001b[1;31m# 2 é esperar\u001b[0m\u001b[1;33m\u001b[0m\u001b[1;33m\u001b[0m\u001b[1;33m\u001b[0m\u001b[0m\n\u001b[0;32m     17\u001b[0m \u001b[1;33m\u001b[0m\u001b[0m\n\u001b[1;32m---> 18\u001b[1;33m \u001b[0mproposta\u001b[0m \u001b[1;33m=\u001b[0m \u001b[0mSt\u001b[0m\u001b[1;33m(\u001b[0m\u001b[0mθst\u001b[0m\u001b[1;33m,\u001b[0m \u001b[0mlst\u001b[0m\u001b[1;33m,\u001b[0m \u001b[0mljt\u001b[0m\u001b[1;33m,\u001b[0m \u001b[0mt\u001b[0m\u001b[1;33m)\u001b[0m\u001b[1;33m[\u001b[0m\u001b[1;36m1\u001b[0m\u001b[1;33m]\u001b[0m\u001b[1;33m\u001b[0m\u001b[1;33m\u001b[0m\u001b[0m\n\u001b[0m\u001b[0;32m     19\u001b[0m \u001b[1;33m\u001b[0m\u001b[0m\n\u001b[0;32m     20\u001b[0m \u001b[0mpayoff_s\u001b[0m \u001b[1;33m=\u001b[0m \u001b[0mSt\u001b[0m\u001b[1;33m(\u001b[0m\u001b[0mθst\u001b[0m\u001b[1;33m,\u001b[0m \u001b[0mlst\u001b[0m\u001b[1;33m,\u001b[0m \u001b[0mljt\u001b[0m\u001b[1;33m,\u001b[0m \u001b[0mt\u001b[0m\u001b[1;33m)\u001b[0m\u001b[1;33m[\u001b[0m\u001b[1;36m0\u001b[0m\u001b[1;33m]\u001b[0m\u001b[1;33m\u001b[0m\u001b[1;33m\u001b[0m\u001b[0m\n",
      "\u001b[1;31mNameError\u001b[0m: name 'θst' is not defined"
     ]
    }
   ],
   "source": [
    "#bloco para dizer o que acontece se s é chamado a propor\n",
    "\n",
    "#fazer uma randomização para ver quem propõe e quem responde\n",
    "\n",
    "\n",
    "\n",
    "\n",
    "\n",
    "\n",
    "\n",
    "# se s é chamado a propor\n",
    "\n",
    "#proposta\n",
    "# 0 é liquidar\n",
    "# 1 é reorganizar\n",
    "# 2 é esperar\n",
    "\n",
    "proposta = St(θst, lst, ljt, t)[1]\n",
    "\n",
    "payoff_s = St(θst, lst, ljt, t)[0]\n",
    "\n",
    "#update dos lower bounds\n",
    "ls_next = St(θst, lst, ljt, t)[2]\n",
    "\n",
    "#lj_next não pode alterar caso a proposta seja de espera, pois não há cutoff\n",
    "lj_next = St(θst, lst, ljt, t)[3]\n",
    "\n",
    "\n",
    "#jeito resumido\n",
    "# [payoff_s, proposta, ls_next, lj_next] = St(θst, lst, ljt, 0)[1:]\n",
    "\n",
    "#update das habilidades à tarde\n",
    "θs_next = round(draw_beta(θst), 2)\n",
    "θj_next = round(draw_beta(θjt), 2)\n",
    "\n",
    "\n",
    "\n",
    "if(proposta == 0):\n",
    "    \n",
    "    #o que j faz se s propor liquidar?\n",
    "    #j olha sua habilidade e os lower bounds do próximo período e calcula o valor de continuação\n",
    "    #aqui ele olha o valor de continuação dele de fato, sem ser valor esperado. Então a função é diferente de j_liq\n",
    "    \n",
    "    jt_liq_valor = [Lj(t), V[t] * θj_next - Ls(t) ]\n",
    "\n",
    "    resposta = np.argmax(jt_liq_valor)\n",
    "\n",
    "    payoff_j = jt_liq_valor[resposta]\n",
    "\n",
    "    \n",
    "    if(resposta == 0):\n",
    "        #j concorda em liquidar\n",
    "        #payoffs são os de liquidação\n",
    "        \n",
    "        resultado[0] = payoff_s\n",
    "        resultado[1] = payoff_j\n",
    "        resultado[2] = 0 #0 é caso liquide\n",
    "        resultado[3] = t\n",
    "        \n",
    "        \n",
    "    if(resposta == 1):\n",
    "        #j prefere reorganizar\n",
    "        #payoff de s é liq, payoff de j é de reorganização\n",
    "        \n",
    "        resultado[0] = payoff_s\n",
    "        resultado[1] = payoff_j\n",
    "        resultado[2] = 1 #1 é caso reorganize\n",
    "        resultado[3] = t \n",
    "\n",
    "    #em qualquer cenário, quando o oponente propôe liquidar o jogo acaba. Por isso sempre temos resultado[3] = t\n",
    "    \n",
    "if(proposta == 1):\n",
    "    #o que j faz se s propor reorganizar?\n",
    "    \n",
    "    #a proposta de pagamento de s é o valor esperado da função valor de j, com base nas informações que s tem hoje\n",
    "    Pst = Ewj(expec_beta(lj_next), ls_next, lj_next, t+1)\n",
    "    \n",
    "    jt_reorg_valor = [Pst, Ewj(θj_next, ls_next, lj_next, t+1)]\n",
    "\n",
    "    resposta = np.argmax(jt_reorg_valor)\n",
    "\n",
    "    payoff_j = jt_reorg_valor[resposta]\n",
    "    \n",
    "    \n",
    "    \n",
    "    if(resposta == 0):\n",
    "        #j concorda com a proposta de pagamento\n",
    "        \n",
    "        resultado[0] = payoff_s\n",
    "        resultado[1] = payoff_j\n",
    "        resultado[2] = 1 #1 é caso reorganize\n",
    "        resultado[3] = t\n",
    "        \n",
    "        \n",
    "    if(resposta == 1):\n",
    "        #j recusa a proposta de pagamento\n",
    "        #jogo vai para o próximo período\n",
    "        #vai para o próximo período\n",
    "    \n",
    "        t += 1\n",
    "\n",
    "        #update das informações\n",
    "        θst = θs_next\n",
    "        θjt = θj_next\n",
    "        lst = ls_next\n",
    "        ljt = lj_next\n",
    "        \n",
    "        \n",
    "if(proposta == 2):\n",
    "    #o que acontece se s propor esperar?\n",
    "    #vai para o próximo período\n",
    "    \n",
    "    t += 1\n",
    "    \n",
    "    #update das informações\n",
    "    θst = θs_next\n",
    "    θjt = θj_next\n",
    "    lst = ls_next\n",
    "    #ljt não sofre alteração na proposta de esperar\n",
    "\n",
    "\n"
   ]
  },
  {
   "cell_type": "markdown",
   "metadata": {},
   "source": [
    "#### Barganha completa: com s ou j propondo"
   ]
  },
  {
   "cell_type": "code",
   "execution_count": 33,
   "metadata": {},
   "outputs": [],
   "source": [
    "#loop while resultado[3] diferente de t, continua\n",
    "\n",
    "\n",
    "\n",
    "#parâmetros iniciais\n",
    "t = 0\n",
    "\n",
    "θst = θ_s0\n",
    "θjt = θ_j0\n",
    "\n",
    "#assumindo que lower bounds nos períodos iniciais são as próprias habilidades iniciais\n",
    "lst = θ_s0\n",
    "ljt = θ_j0\n",
    "\n",
    "\n",
    "#vetor com payoff de s, payoff de j, destino da firma e período\n",
    "#destino da firma é 0 (liquidou) ou 1 (reorganizou)\n",
    "resultado = np.zeros(4)\n",
    "\n",
    "\n",
    "#loop roda enquanto não encerrarem o jogo\n",
    "#o payoff dos jogadores só é gravado no resultado o jogo acaba. \n",
    "#Então o loop vai rodar até que o payoff seja diferente do valor inicial, que é zero\n",
    "while(resultado[0] == 0):\n",
    "    \n",
    "\n",
    "\n",
    "\n",
    "\n",
    "    #sorteio do jogador proponente\n",
    "\n",
    "    u = uniform(0, 1)\n",
    "\n",
    "    if(u < λj):\n",
    "        propositor = 'j'\n",
    "\n",
    "    else:\n",
    "        propositor = 's'\n",
    "\n",
    "\n",
    "\n",
    "    if(propositor == 's'):\n",
    "        \n",
    "\n",
    "\n",
    "\n",
    "        # se s é chamado a propor ####\n",
    "\n",
    "        #proposta\n",
    "        # 0 é liquidar\n",
    "        # 1 é reorganizar\n",
    "        # 2 é esperar\n",
    "\n",
    "        proposta = St(θst, lst, ljt, t)[1]\n",
    "\n",
    "        payoff_s = St(θst, lst, ljt, t)[0]\n",
    "\n",
    "        #update dos lower bounds\n",
    "        ls_next = St(θst, lst, ljt, t)[2]\n",
    "\n",
    "        #lj_next não pode alterar caso a proposta seja de espera, pois não há cutoff\n",
    "        lj_next = St(θst, lst, ljt, t)[3]\n",
    "\n",
    "\n",
    "        #jeito resumido\n",
    "        # [payoff_s, proposta, ls_next, lj_next] = St(θst, lst, ljt, 0)[1:]\n",
    "\n",
    "        #update das habilidades à tarde\n",
    "        θs_next = round(draw_beta(θst), 2)\n",
    "        θj_next = round(draw_beta(θjt), 2)\n",
    "\n",
    "\n",
    "\n",
    "        if(proposta == 0):\n",
    "\n",
    "            #o que j faz se s propor liquidar?\n",
    "            #j olha sua habilidade e os lower bounds do próximo período e calcula o valor de continuação\n",
    "            #aqui ele olha o valor de continuação dele de fato, sem ser valor esperado. Então a função é diferente de j_liq\n",
    "\n",
    "            jt_liq_valor = [Lj(t), V[t] * θj_next - Ls(t) ]\n",
    "\n",
    "            resposta = np.argmax(jt_liq_valor)\n",
    "\n",
    "            payoff_j = jt_liq_valor[resposta]\n",
    "\n",
    "\n",
    "            if(resposta == 0):\n",
    "                #j concorda em liquidar\n",
    "                #payoffs são os de liquidação\n",
    "\n",
    "                resultado[0] = payoff_s\n",
    "                resultado[1] = payoff_j\n",
    "                resultado[2] = 0 #0 é caso liquide\n",
    "                resultado[3] = t\n",
    "\n",
    "\n",
    "            if(resposta == 1):\n",
    "                #j prefere reorganizar\n",
    "                #payoff de s é liq, payoff de j é de reorganização\n",
    "\n",
    "                resultado[0] = payoff_s\n",
    "                resultado[1] = payoff_j\n",
    "                resultado[2] = 1 #1 é caso reorganize\n",
    "                resultado[3] = t \n",
    "\n",
    "            #em qualquer cenário, quando o oponente propôe liquidar o jogo acaba. Por isso sempre temos resultado[3] = t\n",
    "\n",
    "        if(proposta == 1):\n",
    "            #o que j faz se s propor reorganizar?\n",
    "\n",
    "            #a proposta de pagamento de s é o valor esperado da função valor de j, com base nas informações que s tem hoje\n",
    "            Pst = Ewj(expec_beta(lj_next), ls_next, lj_next, t+1)\n",
    "\n",
    "            jt_reorg_valor = [Pst, Ewj(θj_next, ls_next, lj_next, t+1)]\n",
    "\n",
    "            resposta = np.argmax(jt_reorg_valor)\n",
    "\n",
    "            payoff_j = jt_reorg_valor[resposta]\n",
    "\n",
    "\n",
    "\n",
    "            if(resposta == 0):\n",
    "                #j concorda com a proposta de pagamento\n",
    "\n",
    "                resultado[0] = payoff_s\n",
    "                resultado[1] = payoff_j\n",
    "                resultado[2] = 1 #0 é caso liquide\n",
    "                resultado[3] = t\n",
    "\n",
    "\n",
    "            if(resposta == 1):\n",
    "                #j recusa a proposta de pagamento\n",
    "                #jogo vai para o próximo período\n",
    "                #vai para o próximo período\n",
    "\n",
    "                t += 1\n",
    "\n",
    "                #update das informações\n",
    "                θst = θs_next\n",
    "                θjt = θj_next\n",
    "                lst = ls_next\n",
    "                ljt = lj_next\n",
    "\n",
    "\n",
    "        if(proposta == 2):\n",
    "            #o que acontece se s propor esperar?\n",
    "            #vai para o próximo período\n",
    "\n",
    "            t += 1\n",
    "\n",
    "            #update das informações\n",
    "            θst = θs_next\n",
    "            θjt = θj_next\n",
    "            lst = ls_next\n",
    "            #ljt não sofre alteração na proposta de esperar\n",
    "\n",
    "\n",
    "    #============================================================================\n",
    "    else: #caso quem proponha seja j\n",
    "\n",
    "\n",
    "        # se j é chamado a propor ####\n",
    "\n",
    "        #proposta\n",
    "        # 0 é liquidar\n",
    "        # 1 é reorganizar\n",
    "        # 2 é esperar\n",
    "\n",
    "        proposta = Jt(θst, lst, ljt, t)[1]\n",
    "\n",
    "        payoff_j = Jt(θst, lst, ljt, t)[0]\n",
    "\n",
    "        #update dos lower bounds\n",
    "        ls_next = Jt(θst, lst, ljt, t)[2]\n",
    "\n",
    "        #ls_next não pode alterar caso a proposta seja de espera, pois não há cutoff\n",
    "        lj_next = Jt(θst, lst, ljt, t)[3]\n",
    "\n",
    "\n",
    "        #jeito resumido\n",
    "\n",
    "\n",
    "        #update das habilidades à tarde\n",
    "        θs_next = round(draw_beta(θst), 2)\n",
    "        θj_next = round(draw_beta(θjt), 2)\n",
    "\n",
    "\n",
    "\n",
    "        if(proposta == 0):\n",
    "\n",
    "            #o que j faz se s propor liquidar?\n",
    "            #j olha sua habilidade e os lower bounds do próximo período e calcula o valor de continuação\n",
    "            #aqui ele olha o valor de continuação dele de fato, sem ser valor esperado. Então a função é diferente de j_liq\n",
    "\n",
    "            st_liq_valor = [Ls(t), V[t] * θs_next - Lj(t) ]\n",
    "\n",
    "            resposta = np.argmax(st_liq_valor)\n",
    "\n",
    "            payoff_s = st_liq_valor[resposta]\n",
    "\n",
    "\n",
    "            if(resposta == 0):\n",
    "                #j concorda em liquidar\n",
    "                #payoffs são os de liquidação\n",
    "\n",
    "                resultado[0] = payoff_s\n",
    "                resultado[1] = payoff_j\n",
    "                resultado[2] = 0 #0 é caso liquide\n",
    "                resultado[3] = t\n",
    "\n",
    "\n",
    "            if(resposta == 1):\n",
    "                #j prefere reorganizar\n",
    "                #payoff de s é liq, payoff de j é de reorganização\n",
    "\n",
    "                resultado[0] = payoff_s\n",
    "                resultado[1] = payoff_j\n",
    "                resultado[2] = 1 #1 é caso reorganize\n",
    "                resultado[3] = t \n",
    "\n",
    "            #em qualquer cenário, quando o oponente propôe liquidar o jogo acaba. Por isso sempre temos resultado[3] = t\n",
    "\n",
    "        if(proposta == 1):\n",
    "            #o que s faz se j propor reorganizar?\n",
    "\n",
    "            Pjt = Ews(expec_beta(ls_next), ls_next, lj_next, t+1)\n",
    "\n",
    "            st_reorg_valor = [Pjt, Ews(θs_next, ls_next, lj_next, t+1)]\n",
    "\n",
    "            resposta = np.argmax(st_reorg_valor)\n",
    "\n",
    "            payoff_s = st_reorg_valor[resposta]\n",
    "\n",
    "\n",
    "\n",
    "            if(resposta == 0):\n",
    "                #s concorda com a proposta de pagamento\n",
    "\n",
    "                resultado[0] = payoff_s\n",
    "                resultado[1] = payoff_j\n",
    "                resultado[2] = 1 #0 é caso liquide\n",
    "                resultado[3] = t\n",
    "\n",
    "\n",
    "            if(resposta == 1):\n",
    "                #s recusa a proposta de pagamento\n",
    "                #jogo vai para o próximo período\n",
    "\n",
    "                t += 1\n",
    "\n",
    "                #update das informações\n",
    "                θst = θs_next\n",
    "                θjt = θj_next\n",
    "                lst = ls_next\n",
    "                ljt = lj_next\n",
    "\n",
    "\n",
    "        if(proposta == 2):\n",
    "            #o que acontece se s propor esperar?\n",
    "            #vai para o próximo período\n",
    "\n",
    "            t += 1\n",
    "\n",
    "            #update das informações\n",
    "            θst = θs_next\n",
    "            θjt = θj_next\n",
    "            ljt = lj_next\n",
    "            #lst não sofre alteração na proposta de esperar\n"
   ]
  },
  {
   "cell_type": "code",
   "execution_count": 34,
   "metadata": {},
   "outputs": [
    {
     "data": {
      "text/plain": [
       "0.46"
      ]
     },
     "execution_count": 34,
     "metadata": {},
     "output_type": "execute_result"
    },
    {
     "data": {
      "text/plain": [
       "0.39"
      ]
     },
     "execution_count": 34,
     "metadata": {},
     "output_type": "execute_result"
    },
    {
     "data": {
      "text/plain": [
       "array([0.361   , 0.226654, 0.      , 1.      ])"
      ]
     },
     "execution_count": 34,
     "metadata": {},
     "output_type": "execute_result"
    },
    {
     "data": {
      "text/plain": [
       "0"
      ]
     },
     "execution_count": 34,
     "metadata": {},
     "output_type": "execute_result"
    },
    {
     "data": {
      "text/plain": [
       "1"
      ]
     },
     "execution_count": 34,
     "metadata": {},
     "output_type": "execute_result"
    },
    {
     "data": {
      "text/plain": [
       "'j'"
      ]
     },
     "execution_count": 34,
     "metadata": {},
     "output_type": "execute_result"
    }
   ],
   "source": [
    "θst\n",
    "θjt\n",
    "\n",
    "resultado\n",
    "\n",
    "proposta\n",
    "\n",
    "t\n",
    "propositor\n",
    "\n",
    "#agora falta fazer a média dos valores de negociação para colocar como um momento\n",
    "\n"
   ]
  },
  {
   "cell_type": "markdown",
   "metadata": {},
   "source": [
    "### Replicado os gráficos de Dou et. al \n",
    "Versão julho de 2020\n",
    "\n",
    "\n",
    "\n",
    "\n",
    "\n"
   ]
  },
  {
   "cell_type": "markdown",
   "metadata": {},
   "source": [
    "Página 39, Figure 1: Dynamics of Skill and Reorganization Value"
   ]
  },
  {
   "cell_type": "code",
   "execution_count": 35,
   "metadata": {
    "scrolled": true
   },
   "outputs": [],
   "source": [
    "#Panel A:\n",
    "#período no eixo x, mediana da habilidade de reorganização no eixo y\n",
    "\n",
    "def median_calc(teta_0, T, ndraws):\n",
    "    \n",
    "    #calcula a mediana das habilidades de todos os períodos do jogo\n",
    "    \n",
    "    \n",
    "    \n",
    "    #matriz onde aparecerão os valores das medianas\n",
    "    teta_median = np.empty(T, dtype = np.float)\n",
    "    \n",
    "    \n",
    "    \n",
    "    for t in range(T):\n",
    "        teta_vals = []\n",
    "        \n",
    "        for n in range(ndraws):\n",
    "            teta = teta_0\n",
    "            flag = 0\n",
    "            \n",
    "            #para garantir que ele tira várias vezes o draw da beta\n",
    "            while(flag < t):\n",
    "                teta = draw_beta(teta)\n",
    "                flag += 1\n",
    "                \n",
    "                \n",
    "            teta_vals.append(teta)\n",
    "            teta_median[t] = np.median(teta_vals)\n",
    "    \n",
    "    return teta_median\n",
    "\n",
    "\n",
    "#testando\n",
    "# median_calc(0.28, T, 200)\n",
    "\n",
    "Median_s = median_calc(θ_s0, 9, 500)\n",
    "Median_j = median_calc(θ_j0, 9, 500)\n"
   ]
  },
  {
   "cell_type": "code",
   "execution_count": 70,
   "metadata": {},
   "outputs": [
    {
     "data": {
      "text/plain": [
       "[<matplotlib.lines.Line2D at 0x1de63db5f48>]"
      ]
     },
     "execution_count": 70,
     "metadata": {},
     "output_type": "execute_result"
    },
    {
     "data": {
      "text/plain": [
       "[<matplotlib.lines.Line2D at 0x1de63da9d48>]"
      ]
     },
     "execution_count": 70,
     "metadata": {},
     "output_type": "execute_result"
    },
    {
     "data": {
      "text/plain": [
       "(0, 1)"
      ]
     },
     "execution_count": 70,
     "metadata": {},
     "output_type": "execute_result"
    },
    {
     "data": {
      "text/plain": [
       "(0, 8)"
      ]
     },
     "execution_count": 70,
     "metadata": {},
     "output_type": "execute_result"
    },
    {
     "data": {
      "text/plain": [
       "Text(0.5, 1.0, 'Réplica de Panel A: Median Reorganization Skill')"
      ]
     },
     "execution_count": 70,
     "metadata": {},
     "output_type": "execute_result"
    },
    {
     "data": {
      "text/plain": [
       "<matplotlib.legend.Legend at 0x1de63da9408>"
      ]
     },
     "execution_count": 70,
     "metadata": {},
     "output_type": "execute_result"
    },
    {
     "data": {
      "image/png": "[encoded data removed]",
      "text/plain": [
       "<Figure size 432x288 with 1 Axes>"
      ]
     },
     "metadata": {
      "needs_background": "light"
     },
     "output_type": "display_data"
    }
   ],
   "source": [
    "fig, ax = plt.subplots()\n",
    "\n",
    "#fiz com 9 para ficar igual ao dos autores\n",
    "X = range(9)\n",
    "\n",
    "\n",
    "\n",
    "ax.plot(X, Median_j, '-b', linewidth = 3, alpha = 0.8, label = 'Mediana de $θ_{j,t}$')\n",
    "ax.plot(X, Median_s, '--r', linewidth=3, alpha=1, label = \"Mediana de $ θ_{s,t}$\")\n",
    "\n",
    "\n",
    "plt.ylim(0, 1)\n",
    "plt.xlim(0, 8)\n",
    "\n",
    "# ax.yaxis.tick_right()\n",
    "# ax.yaxis.set_ticks_position('both')\n",
    "\n",
    "#para mostrar ticks dos dois lados do eixo y\n",
    "plt.tick_params(axis='y', which='both', labelleft='on', labelright='on')\n",
    "\n",
    "ax.set_title(\"Réplica de Panel A: Median Reorganization Skill\")\n",
    "ax.legend()\n",
    "plt.show()\n"
   ]
  },
  {
   "cell_type": "code",
   "execution_count": null,
   "metadata": {},
   "outputs": [],
   "source": [
    "#Panel B:\n",
    "#Valor de reorganização no eixo y, período no eixo x\n",
    "#aqui precisamos adicionar o valor de reorganização no eixo y. Ele tem o mesmo valor em t = 0 e t = 1\n",
    "\n",
    "\n",
    "\n",
    "\n",
    "\n",
    "fig, ax = plt.subplots()\n",
    "\n",
    "#fiz com 9 para ficar igual ao dos autores\n",
    "X = range(9)\n",
    "\n",
    "\n",
    "\n",
    "ax.plot(X, Median_j, '-b', linewidth = 3, alpha = 0.8, label = 'Mediana de $θ_{j,t}$')\n",
    "ax.plot(X, Median_s, '--r', linewidth=3, alpha=1, label = \"Mediana de $ θ_{s,t}$\")\n",
    "\n",
    "\n",
    "plt.ylim(0, 1)\n",
    "plt.xlim(0, 8)\n",
    "\n",
    "# ax.yaxis.tick_right()\n",
    "# ax.yaxis.set_ticks_position('both')\n",
    "\n",
    "#para mostrar ticks dos dois lados do eixo y\n",
    "plt.tick_params(axis='y', which='both', labelleft='on', labelright='on')\n",
    "\n",
    "ax.set_title(\"Réplica de Panel A: Median Reorganization Skill\")\n",
    "ax.legend()\n",
    "plt.show()\n",
    "\n"
   ]
  },
  {
   "cell_type": "markdown",
   "metadata": {},
   "source": [
    "Gráficos da página 41, que mostram o tipo de oferta (liquidar, reorganizar ou esperar) do credor sênior em t = 0. Eixo x é a habilidade verdadeira do credor s e eixo y é o lower bound da habilidade de j."
   ]
  },
  {
   "cell_type": "code",
   "execution_count": 71,
   "metadata": {},
   "outputs": [],
   "source": [
    "#a proposta de s vem da função St\n",
    "\n",
    "#o tamanho do grid depende da habilidade inicial\n",
    "\n",
    "grid_graf = len(θs_vals)\n",
    "\n",
    "\n",
    "graf1 = np.empty((grid_graf, grid_graf))\n",
    "\n",
    "for i, θs in enumerate(θs_vals):\n",
    "    for j, lj in enumerate(lj_vals):\n",
    "        graf1[i,j] = St(θs, θs, lj, 0)[1]\n",
    "            \n",
    "                \n",
    "\n"
   ]
  },
  {
   "cell_type": "code",
   "execution_count": 62,
   "metadata": {
    "scrolled": true
   },
   "outputs": [
    {
     "data": {
      "text/plain": [
       "<a list of 7 text.Text objects>"
      ]
     },
     "execution_count": 62,
     "metadata": {},
     "output_type": "execute_result"
    },
    {
     "data": {
      "text/plain": [
       "<matplotlib.colorbar.Colorbar at 0x19370d4b4c8>"
      ]
     },
     "execution_count": 62,
     "metadata": {},
     "output_type": "execute_result"
    },
    {
     "data": {
      "text/plain": [
       "Text(0.5, 1.0, 'Proposta')"
      ]
     },
     "execution_count": 62,
     "metadata": {},
     "output_type": "execute_result"
    },
    {
     "data": {
      "text/plain": [
       "Text(0.5, 0, '$θ_s$')"
      ]
     },
     "execution_count": 62,
     "metadata": {},
     "output_type": "execute_result"
    },
    {
     "data": {
      "text/plain": [
       "Text(0, 0.5, '$l_j$')"
      ]
     },
     "execution_count": 62,
     "metadata": {},
     "output_type": "execute_result"
    },
    {
     "data": {
      "image/png": "[encoded data removed]",
      "text/plain": [
       "<Figure size 432x288 with 2 Axes>"
      ]
     },
     "metadata": {
      "needs_background": "light"
     },
     "output_type": "display_data"
    }
   ],
   "source": [
    "fig, ax = plt.subplots()\n",
    "\n",
    "cs1 = ax.contourf(θs_vals, lj_vals, graf1.T, alpha=0.75)\n",
    "ctr1 = ax.contour(θs_vals, lj_vals, graf1.T)\n",
    "plt.clabel(ctr1, inline=1, fontsize=13)\n",
    "plt.colorbar(cs1, ax=ax)\n",
    "\n",
    "ax.set_title(\"Proposta\")\n",
    "ax.set_xlabel(\"$θ_s$\", fontsize=16)\n",
    "ax.set_ylabel(\"$l_j$\", fontsize=16)\n",
    "\n",
    "ax.ticklabel_format(useOffset=False)\n",
    "\n",
    "\n",
    "plt.show()\n",
    "\n",
    "#tá descontínuo! Não era para ser assim"
   ]
  },
  {
   "cell_type": "code",
   "execution_count": 69,
   "metadata": {
    "scrolled": false
   },
   "outputs": [
    {
     "data": {
      "text/plain": [
       "1"
      ]
     },
     "execution_count": 69,
     "metadata": {},
     "output_type": "execute_result"
    }
   ],
   "source": [
    "θs = 0.6\n",
    "lj = 0.5\n",
    "\n",
    "St(θs, θs, lj, 0)[1]"
   ]
  },
  {
   "cell_type": "code",
   "execution_count": 85,
   "metadata": {},
   "outputs": [
    {
     "data": {
      "text/plain": [
       "([<matplotlib.axis.XTick at 0x19372556108>,\n",
       "  <matplotlib.axis.XTick at 0x193725537c8>],\n",
       " <a list of 2 Text xticklabel objects>)"
      ]
     },
     "execution_count": 85,
     "metadata": {},
     "output_type": "execute_result"
    },
    {
     "data": {
      "text/plain": [
       "([<matplotlib.axis.YTick at 0x19372502748>,\n",
       "  <matplotlib.axis.YTick at 0x193725569c8>],\n",
       " <a list of 2 Text yticklabel objects>)"
      ]
     },
     "execution_count": 85,
     "metadata": {},
     "output_type": "execute_result"
    },
    {
     "data": {
      "text/plain": [
       "<matplotlib.collections.QuadMesh at 0x19372573e08>"
      ]
     },
     "execution_count": 85,
     "metadata": {},
     "output_type": "execute_result"
    },
    {
     "data": {
      "image/png": "[encoded data removed]",
      "text/plain": [
       "<Figure size 432x288 with 1 Axes>"
      ]
     },
     "metadata": {
      "needs_background": "light"
     },
     "output_type": "display_data"
    }
   ],
   "source": [
    "fig, ax = plt.subplots()\n",
    "\n",
    "plt.xticks([0,1])\n",
    "plt.yticks([0,1])\n",
    "ax.pcolormesh(graf1.T)"
   ]
  },
  {
   "cell_type": "code",
   "execution_count": 96,
   "metadata": {},
   "outputs": [
    {
     "data": {
      "text/plain": [
       "[Text(0, 0, '0.01'),\n",
       " Text(0, 0, '0.02'),\n",
       " Text(0, 0, '0.03'),\n",
       " Text(0, 0, '0.04'),\n",
       " Text(0, 0, '0.05'),\n",
       " Text(0, 0, '0.060000000000000005'),\n",
       " Text(0, 0, '0.06999999999999999')]"
      ]
     },
     "execution_count": 96,
     "metadata": {},
     "output_type": "execute_result"
    },
    {
     "data": {
      "image/png": "[encoded data removed]",
      "text/plain": [
       "<Figure size 432x288 with 1 Axes>"
      ]
     },
     "metadata": {
      "needs_background": "light"
     },
     "output_type": "display_data"
    }
   ],
   "source": [
    "#vou tentar com heatmap\n",
    "fig, ax = plt.subplots()\n",
    "\n",
    "im = ax.imshow(graf1)\n",
    "\n",
    "#ajustando os ticks\n",
    "# ax.set_xticks(np.linspace(0.01, 1, 100))\n",
    "\n",
    "# ... and label them with the respective list entries\n",
    "ax.set_xticklabels(θs_vals)"
   ]
  },
  {
   "cell_type": "code",
   "execution_count": 98,
   "metadata": {},
   "outputs": [
    {
     "data": {
      "text/plain": [
       "array([0.01, 0.02, 0.03, 0.04, 0.05, 0.06, 0.07, 0.08, 0.09, 0.1 , 0.11,\n",
       "       0.12, 0.13, 0.14, 0.15, 0.16, 0.17, 0.18, 0.19, 0.2 , 0.21, 0.22,\n",
       "       0.23, 0.24, 0.25, 0.26, 0.27, 0.28, 0.29, 0.3 , 0.31, 0.32, 0.33,\n",
       "       0.34, 0.35, 0.36, 0.37, 0.38, 0.39, 0.4 , 0.41, 0.42, 0.43, 0.44,\n",
       "       0.45, 0.46, 0.47, 0.48, 0.49, 0.5 , 0.51, 0.52, 0.53, 0.54, 0.55,\n",
       "       0.56, 0.57, 0.58, 0.59, 0.6 , 0.61, 0.62, 0.63, 0.64, 0.65, 0.66,\n",
       "       0.67, 0.68, 0.69, 0.7 , 0.71, 0.72, 0.73, 0.74, 0.75, 0.76, 0.77,\n",
       "       0.78, 0.79, 0.8 , 0.81, 0.82, 0.83, 0.84, 0.85, 0.86, 0.87, 0.88,\n",
       "       0.89, 0.9 , 0.91, 0.92, 0.93, 0.94, 0.95, 0.96, 0.97, 0.98, 0.99,\n",
       "       1.  ])"
      ]
     },
     "execution_count": 98,
     "metadata": {},
     "output_type": "execute_result"
    }
   ],
   "source": [
    "np.linspace(0.01, 1, 100)"
   ]
  },
  {
   "cell_type": "markdown",
   "metadata": {},
   "source": [
    "#### Panel B: Median reorganization value\n",
    "página 39"
   ]
  },
  {
   "cell_type": "code",
   "execution_count": 116,
   "metadata": {},
   "outputs": [
    {
     "data": {
      "text/plain": [
       "[<matplotlib.axis.XTick at 0x193740421c8>,\n",
       " <matplotlib.axis.XTick at 0x1937403f888>,\n",
       " <matplotlib.axis.XTick at 0x1937403f448>,\n",
       " <matplotlib.axis.XTick at 0x193740684c8>]"
      ]
     },
     "execution_count": 116,
     "metadata": {},
     "output_type": "execute_result"
    },
    {
     "data": {
      "text/plain": [
       "[<matplotlib.axis.YTick at 0x19374042fc8>,\n",
       " <matplotlib.axis.YTick at 0x1937400ea08>,\n",
       " <matplotlib.axis.YTick at 0x1937403f348>,\n",
       " <matplotlib.axis.YTick at 0x1937406bd88>,\n",
       " <matplotlib.axis.YTick at 0x1937406e548>,\n",
       " <matplotlib.axis.YTick at 0x1937406f1c8>]"
      ]
     },
     "execution_count": 116,
     "metadata": {},
     "output_type": "execute_result"
    },
    {
     "data": {
      "text/plain": [
       "[<matplotlib.lines.Line2D at 0x1937406fc08>]"
      ]
     },
     "execution_count": 116,
     "metadata": {},
     "output_type": "execute_result"
    },
    {
     "data": {
      "image/png": "[encoded data removed]",
      "text/plain": [
       "<Figure size 432x288 with 1 Axes>"
      ]
     },
     "metadata": {
      "needs_background": "light"
     },
     "output_type": "display_data"
    }
   ],
   "source": [
    "fig, ax = plt.subplots()\n",
    "\n",
    "x = range(0, T)\n",
    "y = V\n",
    "\n",
    "\n",
    "ax.set_xticks(range(0,T))\n",
    "ax.set_yticks([0, 0.2, 0.4, 0.6, 0.8, 1])\n",
    "plt.plot(x, y)"
   ]
  },
  {
   "cell_type": "code",
   "execution_count": 103,
   "metadata": {},
   "outputs": [
    {
     "data": {
      "text/plain": [
       "array([1.       , 0.884    , 0.781456 , 0.6908071])"
      ]
     },
     "execution_count": 103,
     "metadata": {},
     "output_type": "execute_result"
    }
   ],
   "source": [
    "V"
   ]
  },
  {
   "cell_type": "markdown",
   "metadata": {},
   "source": [
    "# Próximos passos\n",
    "\n",
    "\n",
    "\n",
    "* HIGIENIZAR O CÓDIGO, DEIXAR ORGANIZADO!\n",
    "\n",
    "\n",
    "* ~debugar o que acontece quando t = 14~\n",
    "    * bug na função pmf, e acho que vem da função bins() também\n",
    "\n",
    "\n",
    "* ~criar função de esperança baseada na função beta~\n",
    "    * expec_beta(info_hoje) retorna o valor esperado de teta amanhã\n",
    "\n",
    "\n",
    "\n",
    "\n",
    "* ~discretizar a beta para obter a esperança das funções valor no período seguinte~\n",
    "\n",
    "\n",
    "\n",
    "* ~fazer Js_val~\n",
    "\n",
    "* ~guardar resultados de Js_val e Ws_val do último período numa  matriz 4D~\n",
    "\n",
    "* ~pensar numa função Js_next para achar o valor de Js no próximo período baseado nos parâmetros deste período~\n",
    "    * regra para atualização de lst\n",
    "    * regra para atualização de ljt\n",
    "    * expectativa da habilidade no período seguinte\n",
    "\n",
    "* ~pensar na forma recursiva do jogo~\n",
    "    * acho que as funções probabilidade também têm que considerar o update do lower bound, pois elas fazem parte do cenário onde o jogador não propõe\n",
    "\n",
    "\n",
    "* checar todas as funções de cálculo do jogo (Passo 3)\n",
    "\n",
    "\n",
    "* considerar a estrutura de negociação do jogo\n",
    "\n",
    "* aumentar a precisão das estimativas do jogo\n",
    "    * algoritmo para cálculo do cutoff pode ter mais casas decimais\n",
    "    \n",
    "    \n",
    " * fazer uma estrutura mais enxuta, com uma função que tome como argumento se é s ou j. Ao invés de criar St, Jt, st, jt...\n",
    "    \n",
    "\n",
    "\n",
    "* passos finais\n",
    "    * replicar os gráficos do artigo de referência\n"
   ]
  },
  {
   "cell_type": "markdown",
   "metadata": {},
   "source": [
    "### Conferir novamente\n",
    "\n",
    "1. ~Se preciso usar ls_next e lj_next nas funções Prob_s e Prob_j~ \n",
    "   * conferi e precisa sim, já arrumei\n",
    "\n",
    "2. Se o valor esperado da função para calcular os thresholds cst e cjt estão corretos\n",
    "\n",
    "3. A função pmf não está somando um, tem que verificar onde está o erro\n",
    "\n"
   ]
  },
  {
   "cell_type": "code",
   "execution_count": null,
   "metadata": {},
   "outputs": [],
   "source": []
  }
 ],
 "metadata": {
  "kernelspec": {
   "display_name": "Python 3",
   "language": "python",
   "name": "python3"
  },
  "language_info": {
   "codemirror_mode": {
    "name": "ipython",
    "version": 3
   },
   "file_extension": ".py",
   "mimetype": "text/x-python",
   "name": "python",
   "nbconvert_exporter": "python",
   "pygments_lexer": "ipython3",
   "version": "3.7.6"
  }
 },
 "nbformat": 4,
 "nbformat_minor": 4
}
