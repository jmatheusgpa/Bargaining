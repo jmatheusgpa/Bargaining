{
 "cells": [
  {
   "cell_type": "markdown",
   "metadata": {},
   "source": [
    "## Sequência de funções valor para os credores\n",
    "\n",
    "Queremos resolver por indução retroativa um jogo com T períodos.\n",
    "\n",
    "Estou trabalhando em como deixar esse jogo em torno do parâmetro T\n",
    "\n",
    "Teremos duas sequências de funções valor: uma para quando apenas o credor sênior propõe e outra para quando apenas o credor júnior propõe. As funções do jogo final serão uma média ponderada destas.\n",
    "\n"
   ]
  },
  {
   "cell_type": "code",
   "execution_count": 327,
   "metadata": {},
   "outputs": [],
   "source": [
    "#para mostrar todos os resultados e não apenas o último\n",
    "from IPython.core.interactiveshell import InteractiveShell\n",
    "\n",
    "InteractiveShell.ast_node_interactivity = \"all\""
   ]
  },
  {
   "cell_type": "code",
   "execution_count": 328,
   "metadata": {},
   "outputs": [],
   "source": [
    "#libraries\n",
    "import numpy as np\n",
    "from numba import jit, jitclass, float64, njit\n",
    "import matplotlib.pyplot as plt\n",
    "%matplotlib inline\n",
    "import quantecon as qe\n",
    "from scipy.stats import beta\n",
    "\n",
    "from random import uniform #para a draw da uniforme(0,1)\n",
    "import math\n",
    "\n",
    "import bisect\n",
    "from bisect import bisect_left #para discretizar beta"
   ]
  },
  {
   "cell_type": "markdown",
   "metadata": {},
   "source": [
    "### Passo 0: definindo comandos do latex para facilitar a escrita\n",
    "\n",
    "$%conjunto de informações de s em t$\n",
    "$\\newcommand{\\Is}[1]{\\theta_{s{#1}}, l_{s{#1}}, l_{j{#1}}}$\n",
    "$%macros para facilitar a escrita de funções valor$\n",
    "\n",
    "\n",
    "$%conjunto de informações de j em t$\n",
    "$\\newcommand{\\Ij}[1]{\\theta_{j{#1}}, l_{s{#1}}, l_{j{#1}}}$\n",
    "\n",
    "$%função valor de s em t$\n",
    "$\\newcommand{\\Ws}[1]{ W_{s{#1}} ( \\Is{{#1}}) }$\n",
    "\n",
    "$%função valor de j em t$\n",
    "$\\newcommand{\\Wj}[1]{ W_{j{#1}} ( \\Ij{{#1}}) }$\n",
    "\n",
    "$%operador esperança de s em t. 2 argumentos: o primeiro é o período e o segundo é o termo que ela tira a esperança$\n",
    "\n",
    "$\\newcommand{\\Es}[2]{\\mathbb{E_{#1}^{s} \\big[ {#2}  \\mid ( \\Is{#1} )    \\big] }}$\n",
    "\n",
    "$%minúsculo não mostra o conjunto de informação$\n",
    "$\\newcommand{\\es}[2]{\\mathbb{E_{#1}^{s} \\big[ {#2}  \\big] }}$\n",
    "\n",
    "$%minúsculo não mostra o conjunto de informação$\n",
    "$%final b de big para aumentar os parênteses$\n",
    "$\\newcommand{\\esb}[2]{\\mathbb{E_{#1}^{s} \\bigg[ {#2}  \\bigg] }}$\n",
    "\n",
    "$%operador esperança de j em t. 2 argumentos: o primeiro é o período e o segundo é o termo que ela tira a esperança$\n",
    "\n",
    "$\\newcommand{\\Ej}[2]{\\mathbb{E_{#1}^{j} \\big[ {#2}  \\mid ( \\Ij{#1} )    \\big] }}$\n",
    "\n",
    "$%minúsculo não mostra o conjunto de informação$\n",
    "$\\newcommand{\\ej}[2]{\\mathbb{E_{#1}^{j} \\big[ {#2}  \\big] }}$\n",
    "\n",
    "$%minúsculo não mostra o conjunto de informação$\n",
    "$%final b para aumentar os parênteses$\n",
    "$\\newcommand{\\ejb}[2]{\\mathbb{E_{#1}^{j} \\bigg[ {#2}  \\bigg] }}$\n",
    "\n",
    "\n",
    "$%comando para usar o máximo com chaves grandes$\n",
    "$\\newcommand{\\maximo}[1]{\\max \\bigg\\{ #1 \\bigg\\}}$\n"
   ]
  },
  {
   "cell_type": "code",
   "execution_count": 329,
   "metadata": {},
   "outputs": [],
   "source": [
    "#parâmetros do jogo, apenas para ilustração a princípio\n",
    "\n",
    "\n",
    "\n",
    "μ = 3 #número de meses entre períodos, não entendi onde entra ainda\n",
    "ρ = 0.9 # (1 - ρ) é a taxa de depreciação da empresa a cada período\n",
    "β = 1 #usamos aqui a distribuição Uniforme, depois vamos mudar isto\n",
    "c0 = 0.05 #custo fixo de ir para a corte\n",
    "c1 = 0.015 #custo variável de ir para a corte\n",
    "\n",
    "\n",
    "\n",
    "\n",
    "λj = 0.5 #probabilidade de j propor a cada turno. Não precisaremos estimar, isso virá dos dados\n",
    "\n",
    "\n",
    "θ_s0 = 0.5 #habilidade inicial de s\n",
    "θ_j0 = 0.5 #habilidade inicial de j"
   ]
  },
  {
   "cell_type": "code",
   "execution_count": 330,
   "metadata": {},
   "outputs": [],
   "source": [
    "#informações que virão dos dados\n",
    "\n",
    "Vmax = 100\n",
    "L = 20 \n",
    "L_s = 10\n",
    "L_j = 10\n",
    "\n",
    "#valores da dívida de cada jogador (virá dos dados, aqui é exemplo):\n",
    "Ds = 20\n",
    "Dj = 10"
   ]
  },
  {
   "cell_type": "markdown",
   "metadata": {},
   "source": [
    "### Qual o ganho que o credor s tem em propor a cada período?\n",
    "\n",
    "Suponha que ele vai propor reorganizar a firma no perído t. A reorganização demora 1 período, então o valor da firma aparece no próximo período, $V_{t+1}$. E ele precisa fazer uma estimativa sobre $\\theta_{s,t+1}$ dada a informação que ele tem no período atual, que eu chamei de k: $\\theta_{s,k}$:\n",
    "\n",
    "$$ R_t (\\theta_{s,k}) = V_{t+1} \\bigg( \\mathbb{E}_k^s \\big[ \\theta_{s,t+1} \\mid \\theta_{s,k} \\big] \\bigg) - L_j$$\n",
    "\n",
    "\n",
    "#### Qual a estimativa da habilidade dele nos períodos à frente dada a informação dele hoje?\n",
    "\n",
    "Essa parte depende da hipótese sobre a distribuição da habilidade.\n",
    "\n",
    "Se supormos que a habilidade segue distribuição Uniforme, a forma fechada dela é:\n",
    "\n",
    "Suponha $ t > k$\n",
    "\n",
    "$$ \\mathbb{E}_k^s \\big[ \\theta_{s,t} \\mid \\theta_{s,k} \\big] =  \\frac{\\theta_{s,k}} {2^{t - k}} + \\sum_{n=1}^{t - k} \\frac{1}{2^{n}} $$\n",
    "\n",
    "\n",
    "#### Quais os passos do algoritmo para implementar essa estratégia?\n",
    "\n",
    "1. Calcular todos os valores de reorganização $ R_t $ de $ t \\in  \\{k, k+1, ..., T\\}$ e também o valor de nunca reorganizar, que é $L_s$\n",
    "\n",
    "2. Criar uma condição para checar se $\\max \\{R_{k}, R_{k+1}, ..., R_{T}, L_s \\} = R_{k}$\n",
    "    * em caso positivo, oferecer $P_s = W_{j, t+1} = L_j$ a fim de reorganizar a firma\n",
    "    * em caso negativo, oferecer $P_s < W_{j, t+1} = L_j$ a fim de adiantar o jogo até o próximo período\n",
    "    \n",
    "3. Repetir os passos 1 e 2 até que reorganize a firma ou o jogo termine com ela liquidada"
   ]
  },
  {
   "cell_type": "markdown",
   "metadata": {},
   "source": [
    "### Passo 1: número máximo de turnos\n",
    "\n",
    "Calculado com base nos parãmetros"
   ]
  },
  {
   "cell_type": "code",
   "execution_count": 331,
   "metadata": {},
   "outputs": [],
   "source": [
    "#função para calcular o máximo de turnos do jogo\n",
    "def maximo_de_turnos(ρ, Vmax, L):\n",
    "    \n",
    "    t = 1\n",
    "    \n",
    "    while ρ**t * Vmax > L:\n",
    "        \n",
    "        t = t + 1\n",
    "        \n",
    "    return t\n",
    "    "
   ]
  },
  {
   "cell_type": "code",
   "execution_count": 332,
   "metadata": {},
   "outputs": [
    {
     "data": {
      "text/plain": [
       "16"
      ]
     },
     "execution_count": 332,
     "metadata": {},
     "output_type": "execute_result"
    }
   ],
   "source": [
    "#guardando o número máxim de turnos\n",
    "\n",
    "T = maximo_de_turnos(ρ, Vmax, L)\n",
    "\n",
    "T"
   ]
  },
  {
   "cell_type": "code",
   "execution_count": 333,
   "metadata": {},
   "outputs": [],
   "source": [
    "#valor máximo de reorganização da firma a cada período\n",
    "\n",
    "\n",
    "#sequência de valores da firma para cada período\n",
    "\n",
    "V = np.empty(T, dtype=np.int_)\n",
    "\n",
    "for t in range(T):\n",
    "\n",
    "    V[t] = ρ**t * Vmax"
   ]
  },
  {
   "cell_type": "code",
   "execution_count": 334,
   "metadata": {},
   "outputs": [],
   "source": [
    "#valor de liquidação\n",
    "\n",
    "\n",
    "#a dívida total é sempre a soma das dívidas\n",
    "D = Ds + Dj\n",
    "\n",
    "#o custo total é uma função do tempo\n",
    "\n",
    "def C(t):\n",
    "    Ct = c0 * D + c1 * t * D\n",
    "    \n",
    "    return Ct\n",
    "\n",
    "#e os valores de liquidação também são função do tempo\n",
    "\n",
    "def Ls(t):\n",
    "    \n",
    "    Lst = min(L - C(t), Ds)\n",
    "    \n",
    "    return Lst\n",
    "\n",
    "def Lj(t):\n",
    "    \n",
    "    Ljt = min(L - C(t) - Ls(t), Dj)\n",
    "    \n",
    "    return Ljt\n",
    "    \n",
    "    \n"
   ]
  },
  {
   "cell_type": "code",
   "execution_count": 335,
   "metadata": {},
   "outputs": [
    {
     "data": {
      "text/plain": [
       "100"
      ]
     },
     "execution_count": 335,
     "metadata": {},
     "output_type": "execute_result"
    },
    {
     "data": {
      "text/plain": [
       "20"
      ]
     },
     "execution_count": 335,
     "metadata": {},
     "output_type": "execute_result"
    }
   ],
   "source": [
    "V[0] #é o primeiro valor do negócio\n",
    "\n",
    "V[15]"
   ]
  },
  {
   "cell_type": "code",
   "execution_count": 336,
   "metadata": {},
   "outputs": [
    {
     "data": {
      "text/plain": [
       "17.6"
      ]
     },
     "execution_count": 336,
     "metadata": {},
     "output_type": "execute_result"
    }
   ],
   "source": [
    "Ls(2)"
   ]
  },
  {
   "cell_type": "markdown",
   "metadata": {},
   "source": [
    "### Definir os arrays para guardar as funções valor de cada período\n",
    "\n",
    "São:\n",
    "\n",
    "* 1000 slots para habilidade do jogador\n",
    "\n",
    "* 1000 slots para o lower bound do adversário\n",
    "\n",
    "* 2 slots para o lower bound do próprio jogador no próximo período\n",
    "    * um para quando ele propôs no período anterior\n",
    "    * outro para quando ele respondeu no período anterior\n",
    "    \n",
    "* T slots para marcar o período da função valor\n",
    "\n"
   ]
  },
  {
   "cell_type": "code",
   "execution_count": 337,
   "metadata": {},
   "outputs": [],
   "source": [
    "#slots para cada habilidade\n",
    "grid_size = 100\n",
    "\n",
    "\n",
    "#a vantagem de colocar os dados assim é que se eu quiser teta_s = 0.115, basta procurar θs_vals[114]\n",
    "θs_vals = np.linspace(0.01, 1, grid_size) \n",
    "θj_vals  = np.linspace(0.01, 1, grid_size)  "
   ]
  },
  {
   "cell_type": "code",
   "execution_count": 338,
   "metadata": {},
   "outputs": [
    {
     "data": {
      "text/plain": [
       "0.99"
      ]
     },
     "execution_count": 338,
     "metadata": {},
     "output_type": "execute_result"
    }
   ],
   "source": [
    "θs_vals[99 - 1]"
   ]
  },
  {
   "cell_type": "code",
   "execution_count": 339,
   "metadata": {},
   "outputs": [],
   "source": [
    "#arrays para o credor sênior\n",
    "\n",
    "\n",
    "\n",
    "# primeira entrada é a habilidade verdadeira do jogador\n",
    "# segunda entrada é lst\n",
    "# terceira entrada é ljt\n",
    "\n",
    "# quarta entrada indica se jogador está propondo (1) ou respondendo (0)\n",
    "# quinta entrada indica se é a função valor (0) ou se é a policy (1)\n",
    "# última entrada é o período do jogo\n",
    "\n",
    "Ws_array = np.zeros((100, 100, 100, 2,2, T))\n",
    "\n",
    "Wj_array = np.zeros((100, 100, 100, 2,2, T))\n",
    "\n"
   ]
  },
  {
   "cell_type": "code",
   "execution_count": 340,
   "metadata": {},
   "outputs": [],
   "source": [
    "#uma das sugestões que encontrei no stack overflow foi de dividir a matriz grandona em várias matrizes pequenas\n",
    "#vou tentar com 100x100x100 primeiro, depois eu adapto o código\n",
    "\n",
    "# Ws_array1 = np.empty((100, 100, 100,T))\n",
    "# Ws_array2 = np.empty((100, 100, 100,T))\n",
    "# Ws_array3 = np.empty((100, 100, 100,T))\n",
    "# Ws_array4 = np.empty((100, 100, 100,T))\n",
    "# Ws_array5 = np.empty((100, 100, 100,T))\n",
    "# Ws_array6 = np.empty((100, 100, 100,T))\n",
    "# Ws_array7 = np.empty((100, 100, 100,T))\n",
    "# Ws_array8 = np.empty((100, 100, 100,T))\n",
    "# Ws_array9 = np.empty((100, 100, 100,T))\n"
   ]
  },
  {
   "cell_type": "markdown",
   "metadata": {},
   "source": [
    "Populando o array com os valores de liquidação, que independem das habilidades ou lower bounds\n",
    "\n"
   ]
  },
  {
   "cell_type": "code",
   "execution_count": 341,
   "metadata": {},
   "outputs": [],
   "source": [
    "Ws_array[:,:,:, :, : (T-1)] = Ls(T)\n",
    "\n",
    "Wj_array[:,:,:, :, : (T-1)] = Lj(T)"
   ]
  },
  {
   "cell_type": "markdown",
   "metadata": {},
   "source": [
    "### Função para tirar os valores esperados de t períodos à frente\n",
    "\n",
    "Essa é a base do jogo. Vamos começar com a Uniforme mesmo por ser mais fácil de computar (e verificar), depois eu mudo o código para considerar a Beta."
   ]
  },
  {
   "cell_type": "code",
   "execution_count": 342,
   "metadata": {},
   "outputs": [],
   "source": [
    "#função para calcular a esperança da habilidade nos períodos à frente\n",
    "def expec(h, k, t):\n",
    "    #h é a informação hoje, usada para prever a habilidade\n",
    "    #k é o período de hoje\n",
    "    #t é o período para o qual eu desejo estimar a habilidade\n",
    "    \n",
    "    #somatório de n até t-k\n",
    "    summation = 0\n",
    "    for i in range(1, t-k+1):      \n",
    "        summation += 2**-i\n",
    "    \n",
    "    resultado = h/2**(t-k) + summation\n",
    "    \n",
    "    return round(resultado,2) #arredonda para duas casas decimais para ficar de acordo com o tamanho da matriz\n",
    "    \n",
    "# expec(0.5, 1, 4) #ok com os meus cálculos\n",
    "\n",
    "#como ficaria um gráfico dessa função?\n"
   ]
  },
  {
   "cell_type": "markdown",
   "metadata": {},
   "source": [
    "Como é a notação dessa matriz, na prática?\n",
    "\n",
    "\n",
    "$ W_{st} (\\Is{1})   =$ Ws_array[ $\\theta_{st}, l_{st}, l_{jt}, t$] \n",
    "\n",
    "Só temos duas entradas para $l_{st}$ porque:\n",
    "\n",
    "* ou $l_{st} = \\theta_{s,t-1}$, caso s tenha proposto no período anterior\n",
    "\n",
    "Neste caso, $l_{st}$ será igual à habilidade da entrada de $\\theta_{st}$ correspondente\n",
    "\n",
    "* ou $l_{st} = \\maximo{l_{s,t-1}, c_{st}} $ caso s não tenha proposto no período anterior\n",
    "\n",
    "Neste caso, precisamos calcular cst para ver qual é maior. "
   ]
  },
  {
   "cell_type": "markdown",
   "metadata": {},
   "source": [
    "### Populando os arrays nos períodos T-1, T-2, ..., 1, 0.\n",
    "\n",
    "\n",
    "\n",
    "\n",
    "\n",
    "\n"
   ]
  },
  {
   "cell_type": "code",
   "execution_count": 343,
   "metadata": {},
   "outputs": [],
   "source": [
    "#funções para achar os valores nas matrizes\n",
    "\n",
    "def Ws_find(teta_st, lst, ljt, proposer, policy, t):\n",
    "    \n",
    "    \n",
    "    #para achar teta_st = 0.99, buscamos: θs_vals[99 - 1]\n",
    "    #como os valores serão em casas decimais, temos que multiplicar por 100\n",
    "    vteta_st = int(100 * teta_st - 1)\n",
    "    \n",
    "    vlst = int(100 * lst - 1)\n",
    "    \n",
    "    vljt = int(100 * ljt - 1)\n",
    "    \n",
    "    return Ws_array[vteta_st, vlst, vljt, proposer, policy, t]\n",
    "    \n",
    "    \n",
    "\n",
    "    \n",
    "def Wj_find(teta_jt, lst, ljt, proposer, policy, t):\n",
    "    \n",
    "    \n",
    "    vteta_jt = int(100 * teta_jt - 1)\n",
    "    \n",
    "    vlst = int(100 * lst - 1)\n",
    "    \n",
    "    vljt = int(100 * ljt - 1)\n",
    "    \n",
    "    return Ws_array[vteta_jt, vlst, vljt, proposer, policy, t]"
   ]
  },
  {
   "cell_type": "markdown",
   "metadata": {},
   "source": [
    "Quando S propõe\n",
    "\n"
   ]
  },
  {
   "cell_type": "code",
   "execution_count": 344,
   "metadata": {},
   "outputs": [],
   "source": [
    "#payoff de S quanto ele tem o direito de propor em t\n",
    "\n",
    "#aqui eu colo Wj[t] e Ws[t] como argumentos. \n",
    "#Tem que ter preparado o terreno antes calculando as funções valor no período seguinte\n",
    "\n",
    "def St(teta_st, lst, ljt, t):\n",
    "    \n",
    "    #update do lower bound:\n",
    "    \n",
    "    #ls_next é a habilidade dele hoje pois s revela esta quando propõe\n",
    "    \n",
    "    ls_next = teta_st\n",
    "    \n",
    "    #lj_next depende do cutoff de j\n",
    "    \n",
    "    #algoritmo para calcular cutoff\n",
    "    \n",
    "    cjt = ljt\n",
    "    \n",
    "    \n",
    "    #flag é vai parar o loop se demorar muito\n",
    "    flag = 1\n",
    "    tol = 0.01\n",
    "    \n",
    "    \n",
    "    #quanto s pagará para j neste período? A estimtativa da função valor de j amanhã, conforme as informações de j hoje.\n",
    "    \n",
    "    Pst = λj  * Wj_find(ljt, lst, ljt, 1, 0, t) + (1 - λj) * Wj_find(ljt, lst, ljt, 0, 0, t)\n",
    "    \n",
    "    \n",
    "    while (Pst - Wj_find(cjt, ls_next, cjt, 0, 0, t) > tol and flag < 10000):\n",
    "        cjt = cjt + 0.01\n",
    "        flag = flag + 1\n",
    "        \n",
    "    \n",
    "    #lj_next é o máximo entre o lower bound de j hoje e o cutoff de j\n",
    "    lj_next = max(ljt, cjt)\n",
    "    \n",
    "    #esperança da própria habilidade no próximo período\n",
    "    θs_next = expec(teta_st, t, (t+1))\n",
    "    \n",
    "    #OLHAR ESSA PARTE COM CUIDADO, CONFERIR OS ARGUMENTOS DAS FUNÇÕES NO PERÍODO SEGUINTE\n",
    "    St = [Ls(t), V[t] * θs_next - Pst, Ws_find(θs_next, ls_next, lj_next, 1,0, t)]\n",
    "          \n",
    "    \n",
    "    policy_St = np.argmax(St)\n",
    "    \n",
    "    \n",
    "    #retorna um vetor com dois elementos: a função valor e a política ótima\n",
    "    return St[policy_St], policy_St\n",
    "\n",
    "\n",
    "    \n",
    "\n",
    "    \n"
   ]
  },
  {
   "cell_type": "code",
   "execution_count": 345,
   "metadata": {},
   "outputs": [
    {
     "data": {
      "text/plain": [
       "11.3"
      ]
     },
     "execution_count": 345,
     "metadata": {},
     "output_type": "execute_result"
    }
   ],
   "source": [
    "\n",
    "\n",
    "Ws_find(0.5, 0.4, 0.5, 0, 0, 15)"
   ]
  },
  {
   "cell_type": "code",
   "execution_count": 346,
   "metadata": {},
   "outputs": [
    {
     "data": {
      "text/plain": [
       "11.75"
      ]
     },
     "execution_count": 346,
     "metadata": {},
     "output_type": "execute_result"
    }
   ],
   "source": [
    "St(0.5, 0.4, 0.5, T-1)[0]"
   ]
  },
  {
   "cell_type": "code",
   "execution_count": null,
   "metadata": {},
   "outputs": [],
   "source": []
  },
  {
   "cell_type": "code",
   "execution_count": 347,
   "metadata": {},
   "outputs": [
    {
     "data": {
      "text/plain": [
       "11.3"
      ]
     },
     "execution_count": 347,
     "metadata": {},
     "output_type": "execute_result"
    }
   ],
   "source": [
    "Ws_array[50, 40, 50, 0, 0, T-1]"
   ]
  },
  {
   "cell_type": "markdown",
   "metadata": {},
   "source": [
    "### Passo 2: definir as funções valor de liquidação e as matrizes para guardar seus valores\n",
    "\n",
    "\n",
    "$$ W_{s1} (\\Is{1}) = (1 - \\lambda_j) S_1 (\\Is{1}) + (\\lambda_j) s_1 (\\Is{1}) $$"
   ]
  },
  {
   "cell_type": "markdown",
   "metadata": {},
   "source": [
    "A primeira parte da função valor de s é caso ele venha a propor:\n",
    "\n",
    "\n",
    " $$ S_1 (\\Is{1}) = \\max \\bigg\\{ L_{s1}, V \\es{1}{\\theta_s} - \\es{1}{W_j}, \\es{1}{W_s}\n",
    "                    \\bigg\\} $$\n",
    "\n"
   ]
  },
  {
   "cell_type": "markdown",
   "metadata": {},
   "source": [
    "A segunda parte da função valor é se se for chamado a responder:\n",
    "    \n",
    "$s_1 (\\Is{1}) = $\n",
    "    $ \\esb{1}{ Prob ({j liquidar})  \\maximo{L_{s1}, V \\es{1}{\\theta_s} - L_{j1}} } $\n",
    "    $ + \\esb{1}{ Prob ({j reorganizar})   \\maximo{\\ej{1}{W_s}, \\es{1}{W_s}}    }$\n",
    " \n",
    " \n",
    " Sendo que\n",
    " \n",
    " $ \\Es{1}{Prob (j liq em T-1)}$\n",
    " \n",
    "  $$ = Prob \\bigg(L_{j1} > \\max \\{V \\es{1}{ \\ej{1}{\\theta_j} } - \\es{1}{ \\ej{1}{W_s} }, \\es{1}{ \\ej{1}{W_j}  }\\} \\bigg)$$\n",
    "  \n",
    "  \n",
    " Repare que $L_{j1} > L{j}$ e que $\\es{1}{\\theta_{j}}$ cresce em $\\theta_{j}$. Então deve existir um threshold de reorganização em t = T-1, $\\phi_{j1}$, tal que: \n",
    "\n",
    "$$V \\phi_{j1} - L_{s} = L{j1} $$\n",
    "\n",
    "$$ \\phi_{j1} = \\frac{ L_{j1} + L_{s} }{V} $$\n",
    "\n",
    "Então se $\\es{1}{\\theta_{j}} > \\phi_{j1}$, j reorganiza a firma. E j liquida a firma caso contrário.\n",
    "\n",
    "\n",
    "A pergunta é: qual a probabilidade de que $\\theta_{j}$ tome um valor menor ou igual a $\\phi_{j1}$ ? Isso pode ser respondido usando a \\textit{prior} do jogador, a função CDF da distribuição Beta:\n",
    "\n",
    "$$ \\Es{1}{Prob (\\textnormal{j liq em T-1})} = F_{\\beta} \\big( \\phi_{j1} \\mid l_{j1} \\big) $$\n",
    " \n"
   ]
  },
  {
   "cell_type": "markdown",
   "metadata": {},
   "source": [
    "Agora o valor esperado caso j liquide. No paper isto é \n",
    "\n",
    "$  \\maximo{L_{s1}, V \\es{1}{\\theta_s} - L_{j1}}  $\n",
    "\n",
    "Repare que s quer prever a habilidade dele próprio no período final, então podemos usar a habilidade dele no período T-1 para isso"
   ]
  },
  {
   "cell_type": "markdown",
   "metadata": {},
   "source": [
    "Agora, o payoff esperado de s caso j decida reorganizar a firma\n",
    "\n",
    "$ \\maximo{\\ej{1}{W_s}, \\es{1}{W_s}}    $"
   ]
  },
  {
   "cell_type": "markdown",
   "metadata": {},
   "source": [
    "### Criando as funções valor para J\n",
    "\n",
    "\n",
    "É análogo ao s, então vou colocar só a descrição geral aqui. Basicamente, é só trocar s por j nos argumentos\n",
    "\n",
    "$$ W_{jt} (\\Ij{t}) = (1 - \\lambda_j) j_t (\\Ij{t}) + (\\lambda_j) J_t (\\Ij{t}) $$\n",
    "\n",
    "\n",
    "A primeira parte da função valor de j é caso ele venha a propor:\n",
    "\n",
    "\n",
    "$$ J_t (\\Ij{t}) = \\max \\bigg\\{ L_{jt}, V_{t+1} \\ej{t}{\\theta_{j, t+1} }  - \\ej{t}{W_{s, t+1}  }, \\ej{t}{W_{j,t+1} } \\bigg\\} $$\n",
    "\n",
    "\n",
    "A segunda parte da função valor é se se for chamado a responder:\n",
    "    \n",
    "$j_t (\\Ij{t}) = $\n",
    "    $ \\ejb{t}{ Prob ({s liquidar})  \\maximo{L_{j,t}, V_{t+1} \\ej{t}{\\theta_{j,t+1}  } - L_{s, t} } } $\n",
    "    $ + \\ejb{t}{ Prob ({j reorganizar})   \\maximo{\\es{t}{W_{j, t+1} }, \\ej{t}{W_{j, t+1} } }  }$\n",
    " \n",
    " \n"
   ]
  },
  {
   "cell_type": "markdown",
   "metadata": {},
   "source": [
    "### Como montar matrizes não funcionou, vou tentar resolver usando a forma recursiva\n",
    "\n",
    "Sabemos que a função valor hoje é função dos parâmetros hoje e dela própria no período seguinte.\n",
    "\n",
    "E sabemos que o update do lower bound das habilidades requer que calculemos uma função valor de acordo com um cutoff estipulado. \n",
    "\n",
    "Assim, vou implementar os passos a seguir:\n",
    "\n",
    "1. Pensar a estrutura recursiva para a função valor\n",
    "\n",
    "2. Criar uma regra de update do lower bound\n",
    "\n",
    "3. Escrever a função valor na forma recursiva\n"
   ]
  },
  {
   "cell_type": "markdown",
   "metadata": {},
   "source": [
    "### Escrever a função valor na forma recursiva\n",
    "\n",
    "Agora que temos as estruturas para a forma recursiva, vamos escrever as funções na forma recursiva\n",
    "\n",
    "Vou colar de novo todas as funções abaixo e trabalhar nelas."
   ]
  },
  {
   "cell_type": "code",
   "execution_count": 348,
   "metadata": {},
   "outputs": [],
   "source": [
    "#payoff de S quanto ele tem o direito de propor em t\n",
    "\n",
    "#aqui eu colo Wj[t] e Ws[t] como argumentos. \n",
    "#Tem que ter preparado o terreno antes calculando as funções valor no período seguinte\n",
    "\n",
    "def St(teta_st, lst, ljt, t):\n",
    "    \n",
    "    #update do lower bound:\n",
    "    \n",
    "    #ls_next é a habilidade dele hoje pois s revela esta quando propõe\n",
    "    \n",
    "    ls_next = teta_st\n",
    "    \n",
    "    #lj_next depende do cutoff de j\n",
    "    \n",
    "    #algoritmo para calcular cutoff\n",
    "    \n",
    "    cjt = ljt\n",
    "    \n",
    "    \n",
    "    #flag é vai parar o loop se demorar muito\n",
    "    flag = 1\n",
    "    tol = 0.01\n",
    "    #vou usar f() porque a habilidade em f() cresce 0.1 por período\n",
    "    #se cst crescer 0.1, significa que a função funcionou bem\n",
    "        \n",
    "    while (Wj_val(ljt, lst, ljt, t+1) - Wj_val(cjt, ls_next, cjt, t+1) > tol and flag < 10000):\n",
    "        cjt = cjt + 0.1\n",
    "        flag = flag + 1\n",
    "        \n",
    "    \n",
    "    #lj_next é o máximo entre o lower bound de j hoje e o cutoff de j\n",
    "    lj_next = max(ljt, cjt)\n",
    "    \n",
    "    #esperança da própria habilidade no próximo período\n",
    "    θs_next = expec(teta_st, t, (t+1))\n",
    "    \n",
    "    #OLHAR ESSA PARTE COM CUIDADO, CONFERIR OS ARGUMENTOS DAS FUNÇÕES NO PERÍODO SEGUINTE\n",
    "    St = [Ls(t), V[t] * θs_next - Wj_val(lst, lst, ljt, t+1), Ws_val(θs_next, ls_next, lj_next, t+1)]\n",
    "    \n",
    "    policy_St = np.argmax(St)\n",
    "    \n",
    "    \n",
    "    \n",
    "    return (St[policy_St])\n",
    "\n",
    "\n",
    "    \n",
    "\n",
    "    \n"
   ]
  },
  {
   "cell_type": "markdown",
   "metadata": {},
   "source": [
    "Na probabilidade de liquidar no período seguinte, temos a seguinte expressão:\n",
    "\n",
    "$ Prob \\bigg( L_{j,t} > \\maximo{V_{t+1} \\es{t}{\\theta_{j,t+1} }  - \\es{t}{ \\ej{t}{ W_{s,t+1}  } }  ,  \\es{t}{ \\ej{t}{ W_{j,t+1}  } } } \\bigg)$\n",
    "\n",
    "Onde os termos dentro das expectativas iteradas são calculados com base apenas nos lower bounds de hoje.\n",
    "\n",
    "1. Vamos considerar o caso em que a esperança de j sobre a sua própria função valor  é o máximo dos argumentos\n",
    "\n",
    "2. Vamos calcular o threshold para o caso onde ainda pode compensar reorganizar a firma"
   ]
  },
  {
   "cell_type": "code",
   "execution_count": 349,
   "metadata": {},
   "outputs": [],
   "source": [
    "#vamos criar os componentes da função st\n",
    "\n",
    "#probabilidade de j liquidar em t, dado ljt \n",
    "\n",
    "#não preciso me preocupar com if t == T, pois esta condição estará nas funções valor Ws e Wj\n",
    "\n",
    "def Prob_s(teta_st, lst, ljt, t):\n",
    "    \n",
    "    #caso onde a esperança de j sobre a própria função é o máximo dos argumentos\n",
    "    if (Wj_val(ljt, lst, ljt, t+1) > V[t] * 1 - Ws_val(lst, lst, ljt, t+1) ):\n",
    "        \n",
    "        #se a esperança da função valor amanhã for maior ou igual ao valor de liquidar,\n",
    "        #a chance de liquidar é zero\n",
    "        \n",
    "        if(Wj_val(ljt, lst, ljt, t+1) >= Lj(t)):\n",
    "            return 0\n",
    "        else: \n",
    "            return 1\n",
    "        \n",
    "    #caso onde ainda compensa reorganizar a firma\n",
    "    else:\n",
    "\n",
    "        #threshold para j tentar liquidar\n",
    "        \n",
    "        #DÚVIDA SE AQUI EU PRECISO USAR LJ_NEXT E LS_NEXT.\n",
    "        #ACHO QUE SIM, VOU CONFERIR DEPOIS\n",
    "        ϕjt = ( Lj(t) + Ws_val(lst, ljt, ljt, t+1) ) / V[t]\n",
    "\n",
    "        Prob_st = 1 - ((1 - ϕjt)**β)/((1 - ljt)**β)\n",
    "\n",
    "        #aqui tem que ser no mínimo a igual a zero, apenas por segurança\n",
    "\n",
    "        Prob_st = max(0, Prob_st)\n",
    "\n",
    "        return Prob_st\n",
    "\n"
   ]
  },
  {
   "cell_type": "code",
   "execution_count": 350,
   "metadata": {},
   "outputs": [],
   "source": [
    "#payoff caso s responda à uma proposta de liquidação de j\n",
    "\n",
    "\n",
    "def s_liq(teta_st, lst, ljt, t):\n",
    "    \n",
    "    #update dos lower bounds não é necessário aqui\n",
    "    #é a unica parte da função que independe das funções valor no período seguinte\n",
    "    \n",
    "    \n",
    "    \n",
    "    st_liq = [Ls(t), V[t] * expec(teta_st, t, (t+1)) - Lj(t) ]\n",
    "\n",
    "    policy_st_liq = np.argmax(st_liq)\n",
    "\n",
    "\n",
    "    st_liq = st_liq[policy_st_liq]\n",
    "\n",
    "    return (st_liq)\n",
    "\n",
    "\n"
   ]
  },
  {
   "cell_type": "code",
   "execution_count": 351,
   "metadata": {},
   "outputs": [],
   "source": [
    "#payoff caso s responda à uma proposta de reorganização de j\n",
    "\n",
    "def s_reorg(teta_st, lst, ljt, t):\n",
    "    \n",
    "    #update dos lower bounds\n",
    "    \n",
    "    \n",
    "    #neste caso quem revela a informação é j,\n",
    "    #vamos ter que colocar o update do lower bound na estrutura da barganha do jogo depois\n",
    "    lj_next = expec(ljt, t, (t+1))\n",
    "    \n",
    "    #algoritmo para calcular cutoff\n",
    "    \n",
    "    cst = lst\n",
    "    \n",
    "    #flag é vai parar o loop se demorar muito\n",
    "    flag = 1\n",
    "    tol = 0.01\n",
    "    #vou usar f() porque a habilidade em f() cresce 0.1 por período\n",
    "    #se cst crescer 0.1, significa que a função funcionou bem\n",
    "        \n",
    "    while (Ws_val(lst, lst, ljt, t+1) - Ws_val(cst, cst, lj_next, t+1) > tol and flag < 10000):\n",
    "        cst = cst + 0.1\n",
    "        flag = flag + 1\n",
    "        \n",
    "    \n",
    "    #lj_next é o máximo entre o lower bound de j hoje e o cutoff de j\n",
    "    ls_next = max(lst, cst)\n",
    "    \n",
    "    \n",
    "    \n",
    "    st_reorg = [Ws_val(ls_next, ls_next, lj_next, t+1), Ws_val(teta_st, ls_next, lj_next, t+1)]\n",
    "\n",
    "    policy_st_reorg = np.argmax(st_reorg)\n",
    "\n",
    "\n",
    "    st_reorg = st_reorg[policy_st_reorg]\n",
    "    \n",
    "    return (st_reorg)\n",
    "\n"
   ]
  },
  {
   "cell_type": "code",
   "execution_count": 352,
   "metadata": {},
   "outputs": [],
   "source": [
    "def st(teta_st, lst, ljt, t):\n",
    "    \n",
    "    #agregando todas as funções até agora\n",
    "    \n",
    "    st = (Prob_s(teta_st, lst, ljt, t)) * s_liq(teta_st, lst, ljt, t) + (1 - Prob_s(teta_st, lst, ljt, t)) * s_reorg(teta_st, lst, ljt, t)\n",
    "    \n",
    "    return (st)"
   ]
  },
  {
   "cell_type": "code",
   "execution_count": 355,
   "metadata": {},
   "outputs": [],
   "source": [
    "#finalmente, a função valor de s no período t\n",
    "#defini com subscrito _val porque o vetor Ws é argumento das funções serão passadas como argumento aqui\n",
    "\n",
    "#havia uma confusão entre Ws função e Ws vetor\n",
    "\n",
    "#percebi o erro com o link abaixo\n",
    "#https://stackoverflow.com/questions/32446402/typeerror-function-object-is-not-subscriptable-in-python-3-4-3\n",
    "\n",
    "\n",
    "def Ws_val(teta_st, lst, ljt, t):\n",
    "    \n",
    "    #condição para calcular o valor dela no último período\n",
    "    if(t == T):\n",
    "        \n",
    "        return Ls(T-1)\n",
    "    \n",
    "    else:\n",
    "        \n",
    "        Wst = (1- λj) * St(teta_st, lst, ljt, t) + (λj)  * st(teta_st, lst, ljt, t)\n",
    "    \n",
    "        return Wst\n",
    "        \n",
    "    "
   ]
  },
  {
   "cell_type": "code",
   "execution_count": 354,
   "metadata": {},
   "outputs": [
    {
     "ename": "NameError",
     "evalue": "name 'Wj_val' is not defined",
     "output_type": "error",
     "traceback": [
      "\u001b[1;31m---------------------------------------------------------------------------\u001b[0m",
      "\u001b[1;31mNameError\u001b[0m                                 Traceback (most recent call last)",
      "\u001b[1;32m<ipython-input-354-2ea241c30829>\u001b[0m in \u001b[0;36m<module>\u001b[1;34m\u001b[0m\n\u001b[0;32m      3\u001b[0m \u001b[1;33m\u001b[0m\u001b[0m\n\u001b[0;32m      4\u001b[0m \u001b[1;33m\u001b[0m\u001b[0m\n\u001b[1;32m----> 5\u001b[1;33m \u001b[0mWs_val\u001b[0m\u001b[1;33m(\u001b[0m\u001b[1;36m0.5\u001b[0m\u001b[1;33m,\u001b[0m \u001b[1;36m0.5\u001b[0m\u001b[1;33m,\u001b[0m \u001b[1;36m0.5\u001b[0m\u001b[1;33m,\u001b[0m \u001b[1;36m15\u001b[0m\u001b[1;33m)\u001b[0m\u001b[1;33m\u001b[0m\u001b[1;33m\u001b[0m\u001b[0m\n\u001b[0m\u001b[0;32m      6\u001b[0m \u001b[1;33m\u001b[0m\u001b[0m\n\u001b[0;32m      7\u001b[0m \u001b[1;31m#it works!!!!\u001b[0m\u001b[1;33m\u001b[0m\u001b[1;33m\u001b[0m\u001b[1;33m\u001b[0m\u001b[0m\n",
      "\u001b[1;32m<ipython-input-353-9d5ab1c310d0>\u001b[0m in \u001b[0;36mWs_val\u001b[1;34m(teta_st, lst, ljt, t)\u001b[0m\n\u001b[0;32m     17\u001b[0m     \u001b[1;32melse\u001b[0m\u001b[1;33m:\u001b[0m\u001b[1;33m\u001b[0m\u001b[1;33m\u001b[0m\u001b[0m\n\u001b[0;32m     18\u001b[0m \u001b[1;33m\u001b[0m\u001b[0m\n\u001b[1;32m---> 19\u001b[1;33m         \u001b[0mWst\u001b[0m \u001b[1;33m=\u001b[0m \u001b[1;33m(\u001b[0m\u001b[1;36m1\u001b[0m\u001b[1;33m-\u001b[0m \u001b[0mλj\u001b[0m\u001b[1;33m)\u001b[0m \u001b[1;33m*\u001b[0m \u001b[0mSt\u001b[0m\u001b[1;33m(\u001b[0m\u001b[0mteta_st\u001b[0m\u001b[1;33m,\u001b[0m \u001b[0mlst\u001b[0m\u001b[1;33m,\u001b[0m \u001b[0mljt\u001b[0m\u001b[1;33m,\u001b[0m \u001b[0mt\u001b[0m\u001b[1;33m)\u001b[0m \u001b[1;33m+\u001b[0m \u001b[1;33m(\u001b[0m\u001b[0mλj\u001b[0m\u001b[1;33m)\u001b[0m  \u001b[1;33m*\u001b[0m \u001b[0mst\u001b[0m\u001b[1;33m(\u001b[0m\u001b[0mteta_st\u001b[0m\u001b[1;33m,\u001b[0m \u001b[0mlst\u001b[0m\u001b[1;33m,\u001b[0m \u001b[0mljt\u001b[0m\u001b[1;33m,\u001b[0m \u001b[0mt\u001b[0m\u001b[1;33m)\u001b[0m\u001b[1;33m\u001b[0m\u001b[1;33m\u001b[0m\u001b[0m\n\u001b[0m\u001b[0;32m     20\u001b[0m \u001b[1;33m\u001b[0m\u001b[0m\n\u001b[0;32m     21\u001b[0m         \u001b[1;32mreturn\u001b[0m \u001b[0mWst\u001b[0m\u001b[1;33m\u001b[0m\u001b[1;33m\u001b[0m\u001b[0m\n",
      "\u001b[1;32m<ipython-input-348-467fd371de1b>\u001b[0m in \u001b[0;36mSt\u001b[1;34m(teta_st, lst, ljt, t)\u001b[0m\n\u001b[0;32m     25\u001b[0m     \u001b[1;31m#se cst crescer 0.1, significa que a função funcionou bem\u001b[0m\u001b[1;33m\u001b[0m\u001b[1;33m\u001b[0m\u001b[1;33m\u001b[0m\u001b[0m\n\u001b[0;32m     26\u001b[0m \u001b[1;33m\u001b[0m\u001b[0m\n\u001b[1;32m---> 27\u001b[1;33m     \u001b[1;32mwhile\u001b[0m \u001b[1;33m(\u001b[0m\u001b[0mWj_val\u001b[0m\u001b[1;33m(\u001b[0m\u001b[0mljt\u001b[0m\u001b[1;33m,\u001b[0m \u001b[0mlst\u001b[0m\u001b[1;33m,\u001b[0m \u001b[0mljt\u001b[0m\u001b[1;33m,\u001b[0m \u001b[0mt\u001b[0m\u001b[1;33m+\u001b[0m\u001b[1;36m1\u001b[0m\u001b[1;33m)\u001b[0m \u001b[1;33m-\u001b[0m \u001b[0mWj_val\u001b[0m\u001b[1;33m(\u001b[0m\u001b[0mcjt\u001b[0m\u001b[1;33m,\u001b[0m \u001b[0mls_next\u001b[0m\u001b[1;33m,\u001b[0m \u001b[0mcjt\u001b[0m\u001b[1;33m,\u001b[0m \u001b[0mt\u001b[0m\u001b[1;33m+\u001b[0m\u001b[1;36m1\u001b[0m\u001b[1;33m)\u001b[0m \u001b[1;33m>\u001b[0m \u001b[0mtol\u001b[0m \u001b[1;32mand\u001b[0m \u001b[0mflag\u001b[0m \u001b[1;33m<\u001b[0m \u001b[1;36m10000\u001b[0m\u001b[1;33m)\u001b[0m\u001b[1;33m:\u001b[0m\u001b[1;33m\u001b[0m\u001b[1;33m\u001b[0m\u001b[0m\n\u001b[0m\u001b[0;32m     28\u001b[0m         \u001b[0mcjt\u001b[0m \u001b[1;33m=\u001b[0m \u001b[0mcjt\u001b[0m \u001b[1;33m+\u001b[0m \u001b[1;36m0.1\u001b[0m\u001b[1;33m\u001b[0m\u001b[1;33m\u001b[0m\u001b[0m\n\u001b[0;32m     29\u001b[0m         \u001b[0mflag\u001b[0m \u001b[1;33m=\u001b[0m \u001b[0mflag\u001b[0m \u001b[1;33m+\u001b[0m \u001b[1;36m1\u001b[0m\u001b[1;33m\u001b[0m\u001b[1;33m\u001b[0m\u001b[0m\n",
      "\u001b[1;31mNameError\u001b[0m: name 'Wj_val' is not defined"
     ]
    }
   ],
   "source": [
    "#testando para t = 15\n",
    "\n",
    "\n",
    "\n",
    "Ws_val(0.5, 0.5, 0.5, 15)\n",
    "\n",
    "#it works!!!!\n",
    "\n",
    "\n"
   ]
  },
  {
   "cell_type": "markdown",
   "metadata": {},
   "source": [
    "Fazendo o mesmo trabalho para a função de j"
   ]
  },
  {
   "cell_type": "code",
   "execution_count": null,
   "metadata": {},
   "outputs": [],
   "source": [
    "#payoff de S quanto ele tem o direito de propor em t\n",
    "\n",
    "#aqui eu colo Wj[t] e Ws[t] como argumentos. \n",
    "#Tem que ter preparado o terreno antes calculando as funções valor no período seguinte\n",
    "\n",
    "def Jt(teta_jt, lst, ljt, t):\n",
    "    \n",
    "    #update do lower bound:\n",
    "    \n",
    "    #lj_next é a habilidade dele hoje pois j revela esta quando propõe\n",
    "    lj_next = teta_jt\n",
    "    \n",
    "    #algoritmo para calcular cutoff\n",
    "    \n",
    "    cst = lst\n",
    "    \n",
    "    #flag é vai parar o loop se demorar muito\n",
    "    flag = 1\n",
    "    tol = 0.01\n",
    "    #vou usar f() porque a habilidade em f() cresce 0.1 por período\n",
    "    #se cst crescer 0.1, significa que a função funcionou bem\n",
    "        \n",
    "    while (Ws_val(lst, lst, ljt, t+1) - Ws_val(cst, cst, lj_next, t+1) > tol and flag < 10000):\n",
    "        cst = cst + 0.1\n",
    "        flag = flag + 1\n",
    "        \n",
    "    \n",
    "    #lj_next é o máximo entre o lower bound de j hoje e o cutoff de j\n",
    "    ls_next = max(lst, cst)\n",
    "    \n",
    "    #esperança da própria habilidade no próximo período\n",
    "    θj_next = expec(teta_jt, t, (t+1))\n",
    "    \n",
    "    \n",
    "    Jt = [Lj(t), V[t] * θj_next - Ws_val(ls_next, ls_next, lj_next, t+1), Wj_val(θj_next, ls_next, lj_next, t+1)]\n",
    "    \n",
    "    policy_Jt = np.argmax(Jt)\n",
    "    \n",
    "    \n",
    "    \n",
    "    return (Jt[policy_Jt])\n",
    "\n",
    "\n",
    "\n",
    "\n",
    "    \n"
   ]
  },
  {
   "cell_type": "code",
   "execution_count": null,
   "metadata": {},
   "outputs": [],
   "source": [
    "#testando para t = 15, que já sabemos Wj e Ws\n",
    "\n",
    "Jt(0.5, 0.5, 0.5, 15)\n",
    "\n",
    "V[15]\n",
    "\n",
    "Wj_val(0.5,0.5,0.5, 16)"
   ]
  },
  {
   "cell_type": "code",
   "execution_count": null,
   "metadata": {},
   "outputs": [],
   "source": [
    "#vamos fazer algo similar ao Prob_s\n",
    "\n",
    "#probabilidade de j liquidar em t, dado ljt \n",
    "def Prob_j(teta_jt, lst, ljt, t):\n",
    "    \n",
    "    #caso onde a esperança de s sobre a própria função é o máximo dos argumentos\n",
    "    if (Ws_val(lst, lst, ljt, t+1) > V[t] * 1 - Wj_val(ljt, lst, ljt, t+1) ):\n",
    "        \n",
    "        #se a esperança da função valor amanhã for maior ou igual ao valor de liquidar,\n",
    "        #a chance de liquidar é zero\n",
    "        \n",
    "        if(Ws_val(lst, lst, ljt, t+1) >= Ls(t)):\n",
    "            return 0\n",
    "        else: \n",
    "            return 1\n",
    "        \n",
    "    #caso onde ainda compensa reorganizar a firma\n",
    "    else:\n",
    "\n",
    "        #threshold para s tentar liquidar\n",
    "        \n",
    "        #DÚVIDA SE AQUI EU PRECISO USAR LJ_NEXT E LS_NEXT.\n",
    "        #ACHO QUE SIM, VOU CONFERIR DEPOIS\n",
    "        ϕst = ( Ls(t) + Wj_val(ljt, lst, ljt, t+1) ) / V[t]\n",
    "\n",
    "        Prob_jt = 1 - ((1 - ϕst)**β)/((1 - lst)**β)\n",
    "\n",
    "        #aqui tem que ser no mínimo a igual a zero, apenas por segurança\n",
    "\n",
    "        Prob_jt = max(0, Prob_jt)\n",
    "\n",
    "        return Prob_jt"
   ]
  },
  {
   "cell_type": "code",
   "execution_count": null,
   "metadata": {},
   "outputs": [],
   "source": [
    "#payoff caso j responda à uma propojta de liquidação de j\n",
    "\n",
    "\n",
    "def j_liq(teta_jt, lst, ljt, t):\n",
    "    \n",
    "    jt_liq = [Lj(t), V[t] * expec(teta_jt, t, (t+1)) - Ls(t) ]\n",
    "\n",
    "    policy_jt_liq = np.argmax(jt_liq)\n",
    "\n",
    "\n",
    "    return jt_liq[policy_jt_liq]\n",
    "\n",
    "\n"
   ]
  },
  {
   "cell_type": "code",
   "execution_count": null,
   "metadata": {},
   "outputs": [],
   "source": [
    "#testando para t = 15\n",
    "\n",
    "Prob_j(0.3, 1, 1, 15)\n",
    "\n",
    "j_liq(0.3, 1, 1, 15)"
   ]
  },
  {
   "cell_type": "code",
   "execution_count": null,
   "metadata": {},
   "outputs": [],
   "source": [
    "#payoff caso s responda à uma proposta de reorganização de j\n",
    "\n",
    "def j_reorg(teta_jt, lst, ljt, t):\n",
    "    \n",
    "    jt_reorg = [Wj[t], Wj[t]]\n",
    "\n",
    "    policy_jt_reorg = np.argmax(jt_reorg)\n",
    "\n",
    "\n",
    "    jt_reorg = jt_reorg[policy_jt_reorg]\n",
    "    \n",
    "    return (jt_reorg)\n",
    "\n"
   ]
  },
  {
   "cell_type": "code",
   "execution_count": null,
   "metadata": {},
   "outputs": [],
   "source": [
    "#payoff caso j responda à uma proposta de reorganização de s\n",
    "\n",
    "def j_reorg(teta_jt, lst, ljt, t):\n",
    "    \n",
    "    #update dos lower bounds\n",
    "    \n",
    "    \n",
    "    #neste caso quem revela a informação é j,\n",
    "    #vamos ter que colocar o update do lower bound na estrutura da barganha do jogo depois\n",
    "    ls_next = expec(lst, t, (t+1))\n",
    "    \n",
    "    #algoritmo para calcular cutoff\n",
    "    \n",
    "    cjt = ljt\n",
    "    \n",
    "    \n",
    "    #flag é vai parar o loop se demorar muito\n",
    "    flag = 1\n",
    "    tol = 0.01\n",
    "    #vou usar f() porque a habilidade em f() cresce 0.1 por período\n",
    "    #se cst crescer 0.1, significa que a função funcionou bem\n",
    "        \n",
    "    while (Wj_val(ljt, lst, ljt, t+1) - Wj_val(cjt, ls_next, cjt, t+1) > tol and flag < 10000):\n",
    "        cjt = cjt + 0.1\n",
    "        flag = flag + 1\n",
    "        \n",
    "    \n",
    "    #lj_next é o máximo entre o lower bound de j hoje e o cutoff de j\n",
    "    lj_next = max(ljt, cjt)\n",
    "    \n",
    "    #esperança da própria habilidade no próximo período\n",
    "    θj_next = expec(teta_jt, t, (t+1))\n",
    "    \n",
    "    \n",
    "    \n",
    "    jt_reorg = [Wj_val(lj_next, ls_next, lj_next, t+1), Wj_val(θj_next, ls_next, lj_next, t+1)]\n",
    "\n",
    "    policy_jt_reorg = np.argmax(jt_reorg)\n",
    "\n",
    "\n",
    "    jt_reorg = jt_reorg[policy_jt_reorg]\n",
    "    \n",
    "    return (jt_reorg)\n"
   ]
  },
  {
   "cell_type": "code",
   "execution_count": null,
   "metadata": {},
   "outputs": [],
   "source": [
    "#testando para t = 15\n",
    "\n",
    "j_reorg(0.6, 0.5, 0.5, 15)\n",
    "\n",
    "#de fato a habilidade não muda s_reorg em t = 15 porque o próximo período é de liquidação\n",
    "#nos outros períodos isso deve mudar"
   ]
  },
  {
   "cell_type": "code",
   "execution_count": null,
   "metadata": {},
   "outputs": [],
   "source": [
    "def jt(teta_jt, lst, ljt, t):\n",
    "    \n",
    "    #agregando todas as funções até agora\n",
    "    \n",
    "    jt = (Prob_j(teta_jt, lst, ljt, t)) * j_liq(teta_jt, lst, ljt, t) + (1 - Prob_j(teta_jt, lst, ljt, t)) * j_reorg(teta_jt, lst, ljt, t)\n",
    "    \n",
    "    return (jt)"
   ]
  },
  {
   "cell_type": "code",
   "execution_count": null,
   "metadata": {},
   "outputs": [],
   "source": [
    "#testando para t = 15\n",
    "\n",
    "jt(0.6, 0.5, 0.5, 15)\n",
    "\n"
   ]
  },
  {
   "cell_type": "code",
   "execution_count": null,
   "metadata": {},
   "outputs": [],
   "source": [
    "#finalmente, a função valor de s no período t\n",
    "#defini com subscrito _val porque o vetor Ws é argumento das funções serão passadas como argumento aqui\n",
    "\n",
    "#havia uma confusão entre Ws função e Ws vetor\n",
    "\n",
    "#percebi o erro com o link abaixo\n",
    "#https://stackoverflow.com/questions/32446402/typeerror-function-object-is-not-subscriptable-in-python-3-4-3\n",
    "\n",
    "\n",
    "def Wj_val(teta_jt, lst, ljt, t):\n",
    "    \n",
    "    #condição para calcular o valor dela no último período\n",
    "    if(t == T):\n",
    "        \n",
    "        return Lj(T-1)\n",
    "    \n",
    "    else:\n",
    "        \n",
    "        \n",
    "        Wjt = (1- λj) * jt(teta_jt, lst, ljt, t) +  (λj) * Jt(teta_jt, lst, ljt, t)\n",
    "    \n",
    "        return Wjt\n",
    "        \n",
    "        \n",
    "        \n",
    "    \n",
    "    \n",
    "  "
   ]
  },
  {
   "cell_type": "code",
   "execution_count": null,
   "metadata": {},
   "outputs": [],
   "source": [
    "#testando para t = 15\n",
    "\n",
    "\n",
    "\n",
    "Wj_val(0.5, 0.5, 0.5, 15)\n",
    "\n",
    "#it works!!!!\n",
    "\n",
    "\n"
   ]
  },
  {
   "cell_type": "code",
   "execution_count": null,
   "metadata": {},
   "outputs": [],
   "source": [
    "#loop e gráfico\n",
    "\n",
    "#não funfou, ficou rodando mais de uma hora e não convergiu mesmo sendo 4 períodos\n",
    "\n",
    "\n",
    "# #criando um vetor para guardar os resultados\n",
    "# Ws_valores = []\n",
    "\n",
    "# #range em contagem regressiva. Coloquei 4 para não demorar tanto\n",
    "# for t in range(4, 0, -1):\n",
    "#     Ws_hoje = Ws_val(0.5, 0.5, 0.5, t)\n",
    "    \n",
    "#     Ws_valores.append(Ws_hoje)\n",
    "    \n",
    "\n",
    "# #truque para reverter a ordem no eixo x\n",
    "# df = Ws_valores[::-1]\n",
    "\n",
    "# plt.plot(df)\n",
    "# plt.show()\n",
    "\n"
   ]
  },
  {
   "cell_type": "markdown",
   "metadata": {},
   "source": [
    "# Próximos passos\n",
    "\n",
    "\n",
    "\n",
    "* HIGIENIZAR O CÓDIGO, DEIXAR ORGANIZADO!\n",
    "\n",
    "* criar função de esperança baseada na função beta\n",
    "\n",
    "\n",
    "\n",
    "\n",
    "* discretizar a beta para obter a esperança das funções valor no período seguinte\n",
    "\n",
    "\n",
    "\n",
    "* ~fazer Js_val~\n",
    "\n",
    "* ~guardar resultados de Js_val e Ws_val do último período numa  matriz 4D~\n",
    "\n",
    "* ~pensar numa função Js_next para achar o valor de Js no próximo período baseado nos parâmetros deste período~\n",
    "    * regra para atualização de lst\n",
    "    * regra para atualização de ljt\n",
    "    * expectativa da habilidade no período seguinte\n",
    "\n",
    "* ~pensar na forma recursiva do jogo~\n",
    "    * acho que as funções probabilidade também têm que considerar o update do lower bound, pois elas fazem parte do cenário onde o jogador não propõe\n",
    "\n",
    "\n",
    "* checar todas as funções da forma recursiva\n",
    "    * ver se fazem sentido\n",
    "    * ver se o cálculo está correto\n",
    "\n",
    "* considerar a estrutura de negociação do jogo\n",
    "\n",
    "* aumentar a precisão das estimativas do jogo\n",
    "    * algoritmo para cálculo do cutoff pode ter mais casas decimais\n",
    "    \n",
    "\n",
    "\n",
    "* passos finais\n",
    "    * replicar os gráficos do artigo de referência\n"
   ]
  },
  {
   "cell_type": "markdown",
   "metadata": {},
   "source": [
    "### Função para tirar um draw da distribuição Beta\n",
    "\n",
    "\n",
    "Vamos usar o método da amostragem da inversa da CDF (https://en.wikipedia.org/wiki/Inverse_transform_sampling_method). Outra referência que usei foi: https://blogs.sas.com/content/iml/2013/07/22/the-inverse-cdf-method.html#:~:text=The%20exponential%20distribution%20has%20probability,log(1%E2%80%93u).\n",
    "\n",
    "A CDF da Beta é \n",
    "\n",
    "$$ F_{\\beta} ( \\theta_{t+1} \\mid \\theta_{t} ) = 1 - \\frac{ (1 - \\theta_{t+1})^\\beta}{ (1 - \\theta_{t})^\\beta }, \\, \\, \\theta_{t} \\leq \\theta_{t+1} \\leq 1, \\, \\beta \\geq 1$$\n",
    "\n",
    "Para invertê-la, basta procurarmos o valor de x tal que $F(x) = u$, onde u é uma retirada da distribuição Uniforme(0,1).\n",
    "\n",
    "Fazendo os cálculos, esse valor de x é (ou $\\theta_{t+1}$, no caso)\n",
    "\n",
    "\n",
    "$$ \\theta_{t+1} =  1 - exp \\bigg\\{ \\frac{1}{\\beta} \\big[  log (1 - u) + \\beta * log(1 - \\theta_{t}) \\big] \\bigg\\} $$\n"
   ]
  },
  {
   "cell_type": "code",
   "execution_count": 398,
   "metadata": {},
   "outputs": [
    {
     "data": {
      "text/plain": [
       "0.7521263237007758"
      ]
     },
     "execution_count": 398,
     "metadata": {},
     "output_type": "execute_result"
    }
   ],
   "source": [
    "#código para tirar draw da distribuição beta\n",
    "\n",
    "def draw_beta(info_hoje, β):\n",
    "    \n",
    "    \n",
    "    \n",
    "    u = uniform(0, 1)\n",
    "    x = 1 - math.exp( (1/β) * (math.log(1-u) + β*math.log(1-info_hoje)) )\n",
    "          \n",
    "    return x\n",
    "\n",
    "\n",
    "\n",
    "\n",
    "#testando\n",
    "\n",
    "draw_beta(0.5, 1)"
   ]
  },
  {
   "cell_type": "markdown",
   "metadata": {},
   "source": [
    "Função para tirar o valor esperado do teta amanhã, dada a informação hoje.\n",
    "\n",
    "É apenas a média de vários draws da função beta"
   ]
  },
  {
   "cell_type": "code",
   "execution_count": 367,
   "metadata": {},
   "outputs": [],
   "source": [
    "def expec_beta(info_hoje, β):\n",
    "    \n",
    "\n",
    "    #para calcular o valor esperado UM PERÍODO À FRENTE, vamos tirar 1000 draws disso e fazer a média\n",
    "    #se estiver correto, expec_beta(0.5, 1) deve ser próximo de 0.75, pois Beta = 1 é Uniforme\n",
    "    beta_vals = []\n",
    "\n",
    "    for t in range(1000):\n",
    "        beta_amanha = draw_beta(info_hoje, β)\n",
    "\n",
    "        beta_vals.append(beta_amanha)\n",
    "        \n",
    "    return round(np.mean(beta_vals),2)\n",
    "\n"
   ]
  },
  {
   "cell_type": "code",
   "execution_count": 365,
   "metadata": {},
   "outputs": [
    {
     "data": {
      "text/plain": [
       "0.75"
      ]
     },
     "execution_count": 365,
     "metadata": {},
     "output_type": "execute_result"
    }
   ],
   "source": [
    "expec_beta(0.5,1)"
   ]
  },
  {
   "cell_type": "markdown",
   "metadata": {},
   "source": [
    "Como calcular a probabilidade de cada valor de teta amanhã dado teta hoje?\n",
    "\n",
    "Fazer um binning das variáveis\n",
    "\n",
    "RD!"
   ]
  },
  {
   "cell_type": "code",
   "execution_count": 366,
   "metadata": {},
   "outputs": [
    {
     "data": {
      "text/plain": [
       "0.9920000000000007"
      ]
     },
     "execution_count": 366,
     "metadata": {},
     "output_type": "execute_result"
    }
   ],
   "source": [
    "#binning da pdf beta\n",
    "\n",
    "#gerando 1000 draws\n",
    "\n",
    "def bin(info_hoje, β, ndraws):\n",
    "    \n",
    "    beta_vals = []\n",
    "\n",
    "    for k in range(ndraws):\n",
    "        beta_amanha = draw_beta(info_hoje, β)\n",
    "\n",
    "        beta_vals.append(beta_amanha)\n",
    "    \n",
    "    #conta cria os bins e conta quantos valores estão dentro deles\n",
    "    teta_bins = np.zeros(len(θj_vals))  \n",
    "    \n",
    "    for t in range(len(teta_bins)-1):\n",
    "        \n",
    "        pre = (θj_vals[t-1]+θj_vals[t])/2\n",
    "               \n",
    "        pos = (θj_vals[t]+θj_vals[t+1])/2\n",
    "        \n",
    "        if(t==0):\n",
    "            pre = 0\n",
    "        else:\n",
    "            if(t==len(teta_bins)-1):\n",
    "                pos = 1\n",
    "                \n",
    "       \n",
    "        \n",
    "        \n",
    "        for b in beta_vals:\n",
    "            \n",
    "            if(b > pre and b < pos):\n",
    "                \n",
    "                teta_bins[t] += 1\n",
    "    \n",
    "    return teta_bins/ndraws\n",
    "        \n",
    "        \n",
    "        \n",
    "        \n",
    "#dá algum erro porque a soma não retorna 1 quando Beta = 1\n",
    "sum(bin(0.5, 1, 1000))\n",
    "\n"
   ]
  },
  {
   "cell_type": "code",
   "execution_count": 361,
   "metadata": {},
   "outputs": [],
   "source": [
    "#vamos gerar uma matriz com 100 colunas\n",
    "#cada coluna vai representar as probabilidades de teta_amanhã dado teta hoje\n",
    "#assim, a coluna 1 tem as probabilidades de teta_amanhã dado que teta_hoje é 0.01\n",
    "\n",
    "\n",
    "#probability mass function\n",
    "pmf = np.zeros((100,100))\n",
    "\n",
    "#exemplo para ilustrar\n",
    "# pmf[0,] = bin(θj_vals[0], β, 1000)\n",
    "\n",
    "\n",
    "#populando a pmf:\n",
    "\n",
    "for t in range(len(θj_vals)-1):\n",
    "    \n",
    "    pmf[:,t] = bin(θj_vals[t], β, 1000)\n",
    "\n"
   ]
  },
  {
   "cell_type": "markdown",
   "metadata": {},
   "source": [
    "Como obter o valor esperado da função valor no período seguinte?\n",
    "\n",
    "Multiplicando a coluna correta de pmf pela coluna correta de Ws_array\n",
    "\n",
    "\n"
   ]
  },
  {
   "cell_type": "code",
   "execution_count": 363,
   "metadata": {},
   "outputs": [
    {
     "data": {
      "text/plain": [
       "0.0"
      ]
     },
     "execution_count": 363,
     "metadata": {},
     "output_type": "execute_result"
    }
   ],
   "source": [
    "\n",
    "\n",
    "sum(pmf[:,99])"
   ]
  },
  {
   "cell_type": "code",
   "execution_count": 125,
   "metadata": {},
   "outputs": [],
   "source": [
    "beta_vals = []\n",
    "\n",
    "info_hoje = 0.5\n",
    "β = 1\n",
    "\n",
    "for t in range(1000):\n",
    "    beta_amanha = draw_beta(info_hoje, β)\n",
    "\n",
    "    beta_vals.append(beta_amanha)"
   ]
  },
  {
   "cell_type": "markdown",
   "metadata": {},
   "source": [
    "### RASCUNHO: Pensar a estrutura recursiva para a função valor\n",
    "\n",
    "\n",
    "Vai ser um loop feito de trás para frente.\n",
    "\n",
    "Se estivermos no último período, ele vai considerar a função valor como o valor de liquidação\n",
    "\n",
    "Se estivermos no penúltimo período, ele vai calcular a função valor com base nas informações de hoje e no valor de continuação amanhã\n",
    "\n",
    "De maneira geral, em qualquer período exceto o último, ele vai calcular a função valor com base nas informações de hoje e no valor de continuação amanhã\n",
    "\n",
    "\n",
    "Vou começar a ensaiar a estrutura básica pensando numa função f() qualquer. Ela precisa ser avaliada entre $t \\in \\{1, ..., T\\}$. O valor dela em T já é definido, enquanto o valor dela nos demais períodos anteriores dependem do valor dela mesma um período adiante.\n",
    "\n",
    "$f(\\theta_t, t) = f(\\theta_{t+1}, t+1)$\n",
    "\n",
    "\n",
    "O objetivo é criar uma função f() capaz de calcular todos os valores entre 1 e T usando apenas um conjunto de informações do período atual e o valor dela no último período."
   ]
  },
  {
   "cell_type": "code",
   "execution_count": null,
   "metadata": {},
   "outputs": [],
   "source": [
    "#função básica f\n",
    "    \n",
    "def f(θt, t):\n",
    "   \n",
    "    #condição para calcular o valor dela no último período\n",
    "    if(t == T):\n",
    "        \n",
    "        return Ls(T-1)\n",
    "    \n",
    "    else:\n",
    "        \n",
    "        #regra simples de update da habilidade\n",
    "        θ_next = θt + 0.1\n",
    "        \n",
    "        \n",
    "        #retorna o máximo entre a função hoje ou ela amanhã\n",
    "        return max(V[t] * θt, f(θ_next, t+1))\n",
    "        \n",
    "    "
   ]
  },
  {
   "cell_type": "code",
   "execution_count": null,
   "metadata": {},
   "outputs": [],
   "source": [
    "f(0.5, 15)\n"
   ]
  },
  {
   "cell_type": "code",
   "execution_count": null,
   "metadata": {},
   "outputs": [],
   "source": [
    "#criando um vetor para guardar os resultados\n",
    "f_vals = []\n",
    "\n",
    "#range em contagem regressiva\n",
    "for t in range(T, 0, -1):\n",
    "    f_hoje = f(0.5, t)\n",
    "    \n",
    "    f_vals.append(f_hoje)\n",
    "    \n",
    "f_vals\n",
    "\n",
    "#truque para reverter a ordem no eixo x\n",
    "df = f_vals[::-1]\n",
    "\n",
    "plt.plot(df)\n",
    "plt.show()"
   ]
  },
  {
   "cell_type": "markdown",
   "metadata": {},
   "source": [
    "### Update do lower bound\n",
    "\n",
    "\n"
   ]
  },
  {
   "cell_type": "code",
   "execution_count": null,
   "metadata": {},
   "outputs": [],
   "source": [
    "#ok, agora que a função básica está ok, vou tentar criar a regra de update da habilidade. \n",
    "\n",
    "#vou começar com uma versão levemente alterada da função f, chamada g, onde o update também contém f(t+1)\n",
    "\n",
    "#isso porque o cutoff é função da função valor nos períodos seguintes\n",
    "\n",
    "\n",
    "def g(θt, t):\n",
    "   \n",
    "    #condição para calcular o valor dela no último período\n",
    "    if(t == T):\n",
    "        \n",
    "        return Ls(T-1)\n",
    "    \n",
    "    else:\n",
    "        \n",
    "        #regra mais elaborada de update da habilidade\n",
    "        \n",
    "        #cst é cutoff, começando com habilidade hoje\n",
    "        cst = θt\n",
    "        #flag é parar parar o loop se demorar muito\n",
    "        flag = 1\n",
    "        tol = 0.01\n",
    "        #vou usar f() porque a habilidade em f() cresce 0.1 por período\n",
    "        #se cst crescer 0.1, significa que a função funcionou bem\n",
    "        \n",
    "        while (f(θt, t+1) - g(cst, t+1) > tol and flag < 200):\n",
    "            cst = cst + 0.1\n",
    "            flag = flag + 1\n",
    "        \n",
    "        \n",
    "        \n",
    "        \n",
    "        θ_next = cst\n",
    "        \n",
    "        \n",
    "        #retorna o máximo entre a função hoje ou ela amanhã\n",
    "        return max(V[t] * θt, g(θ_next, t+1))\n",
    "        \n",
    "\n",
    "# a função g2 retorna o valor da habilidade amanhã        \n",
    "def g2(θt, t):\n",
    "   \n",
    "    #condição para calcular o valor dela no último período\n",
    "    if(t == T):\n",
    "        \n",
    "        return Ls(T-1)\n",
    "    \n",
    "    else:\n",
    "        \n",
    "        #regra mais elaborada de update da habilidade\n",
    "        \n",
    "        #cst é cutoff, começando com habilidade hoje\n",
    "        cst = θt\n",
    "        #flag é parar parar o loop se demorar muito\n",
    "        flag = 1\n",
    "        tol = 0.01\n",
    "        #vou usar f() porque a habilidade em f() cresce 0.1 por período\n",
    "        #se cst crescer 0.1, significa que a função funcionou bem\n",
    "        \n",
    "        while (f(θt, t+1) - g(cst, t+1) > tol and flag < 1000):\n",
    "            cst = cst + 0.1\n",
    "            flag = flag + 1\n",
    "        \n",
    "        \n",
    "        \n",
    "        \n",
    "        θ_next = cst\n",
    "        \n",
    "        \n",
    "        #retorna o máximo entre a função hoje ou ela amanhã\n",
    "        return cst\n",
    "    \n",
    "#f2 também retorna o valor da habilidade amanhã\n",
    "\n",
    "def f2(θt, t):\n",
    "   \n",
    "    #condição para calcular o valor dela no último período\n",
    "    if(t == T):\n",
    "        \n",
    "        return Ls(T-1)\n",
    "    \n",
    "    else:\n",
    "        \n",
    "        #regra simples de update da habilidade\n",
    "        θ_next = θt + 0.1\n",
    "        \n",
    "        \n",
    "        #retorna o máximo entre a função hoje ou ela amanhã\n",
    "        return θ_next\n",
    "        \n",
    "\n"
   ]
  },
  {
   "cell_type": "code",
   "execution_count": null,
   "metadata": {},
   "outputs": [],
   "source": [
    "#testando\n",
    "\n",
    "g(0.5, 13)\n",
    "\n",
    "\n",
    "#ótimo, a habilidade cst realmente acertou a regra de aumento da habilidade de f().\n",
    "g2(0.5, 13)\n",
    "f2(0.5, 13)"
   ]
  }
 ],
 "metadata": {
  "kernelspec": {
   "display_name": "Python 3",
   "language": "python",
   "name": "python3"
  },
  "language_info": {
   "codemirror_mode": {
    "name": "ipython",
    "version": 3
   },
   "file_extension": ".py",
   "mimetype": "text/x-python",
   "name": "python",
   "nbconvert_exporter": "python",
   "pygments_lexer": "ipython3",
   "version": "3.7.6"
  }
 },
 "nbformat": 4,
 "nbformat_minor": 4
}
