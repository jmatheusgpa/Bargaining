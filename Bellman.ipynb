{
 "cells": [
  {
   "cell_type": "markdown",
   "metadata": {},
   "source": [
    "## Equações de Bellman dos jogadores para o modelo de Dou et al (2020)\n",
    "\n",
    "Parâmetros iguais aos de Dou et. al (2020)\n",
    "\n",
    "T = 13\n",
    "\n",
    "Arrays com valores de continuação são preenchidos desde t = 0 até t = T\n",
    "\n",
    "\n",
    "**Experimento**:\n",
    "Valor de reorganização da firma avaliado na habilidade HOJE: $U_{t}(\\theta_{1})$\n",
    "E com valor de reorganização em resposta à liquidação também avaliado HOJE. \n"
   ]
  },
  {
   "cell_type": "code",
   "execution_count": 1,
   "metadata": {},
   "outputs": [],
   "source": [
    "#para mostrar todos os resultados e não apenas o último\n",
    "from IPython.core.interactiveshell import InteractiveShell\n",
    "\n",
    "InteractiveShell.ast_node_interactivity = \"all\""
   ]
  },
  {
   "cell_type": "code",
   "execution_count": 2,
   "metadata": {},
   "outputs": [],
   "source": [
    "import numpy as np\n",
    "import matplotlib as mpl\n",
    "import matplotlib.pyplot as plt\n",
    "import numba as nb\n",
    "from numba import jit, njit, jitclass, prange, float64, int32\n",
    "%matplotlib inline\n",
    "\n",
    "\n",
    "import time"
   ]
  },
  {
   "cell_type": "markdown",
   "metadata": {},
   "source": [
    "### Parâmetros do jogo"
   ]
  },
  {
   "cell_type": "code",
   "execution_count": 3,
   "metadata": {},
   "outputs": [],
   "source": [
    "μ = float64(4.566) #número de meses entre períodos, traduz a quantidade de períodos t em quantidade de meses\n",
    "ρ = float64(0.884) # (1 - ρ) é a taxa de depreciação da empresa a cada período\n",
    "# ρ = float64(0.5) #testando nova taxa de depreciação\n",
    "β = float64(9.84) #inverso da velocidade de aprendizado\n",
    "c0 = float64(0.044) #custo fixo de ir para a corte\n",
    "c1 = float64(0.015) #custo variável de ir para a corte\n",
    "\n",
    "\n",
    "hs0 = float64(0.28) #habilidade inicial de s\n",
    "hj0 = float64(0.36) #habilidade inicial de j\n",
    "\n",
    "λj = float64(0.346)\n",
    "\n"
   ]
  },
  {
   "cell_type": "markdown",
   "metadata": {},
   "source": [
    "Valores que virão dos dados"
   ]
  },
  {
   "cell_type": "code",
   "execution_count": 4,
   "metadata": {},
   "outputs": [],
   "source": [
    "Vmax = float64(1.0) #valor máximo de reorganização da firma\n",
    "L = float64(0.25) #valor inicial de liquidação da firma\n",
    "Ds = float64(0.32) #valor da dívida com credor sênior\n",
    "Dj = float64(0.68) #valor da dívida com credor júnior\n",
    "\n",
    "D = Ds + Dj #valor total da dívida, usada para escalar custos\n"
   ]
  },
  {
   "cell_type": "markdown",
   "metadata": {},
   "source": [
    "Definições iniciais: custo, valores de liquidação, valor máximo de reorganização da firma a cada período, número de rounds"
   ]
  },
  {
   "cell_type": "code",
   "execution_count": 5,
   "metadata": {},
   "outputs": [
    {
     "data": {
      "text/plain": [
       "0"
      ]
     },
     "execution_count": 5,
     "metadata": {},
     "output_type": "execute_result"
    },
    {
     "data": {
      "text/plain": [
       "0.059"
      ]
     },
     "execution_count": 5,
     "metadata": {},
     "output_type": "execute_result"
    },
    {
     "data": {
      "text/plain": [
       "0.074"
      ]
     },
     "execution_count": 5,
     "metadata": {},
     "output_type": "execute_result"
    },
    {
     "data": {
      "text/plain": [
       "True"
      ]
     },
     "execution_count": 5,
     "metadata": {},
     "output_type": "execute_result"
    }
   ],
   "source": [
    "#função custo\n",
    "def Ct(t):\n",
    "    #cost at period 0 is 0\n",
    "    if(t == 0):\n",
    "        return 0\n",
    "    else:\n",
    "        return c0 * D + c1 * t * D\n",
    "    \n",
    "#test\n",
    "Ct(0)    \n",
    "Ct(1)\n",
    "Ct(2)\n",
    "Ct(2) == c0 * D + c1 * (2) * D\n",
    "\n",
    "#o fato de o custo ser função de D implica que duas empresas com mesmo valor de V e L podem ter destinos diferentes, pois\n",
    "#a empresa com maior D terá maiores custos dentro da corte\n"
   ]
  },
  {
   "cell_type": "markdown",
   "metadata": {},
   "source": [
    "#### Hipótese: a notação do paper está errada.\n",
    "\n",
    "Vou tentar resolver supondo que quem propõe reorganização recebe o valor Ut(.) avaliado na sua habilidade do período seguinte.\n",
    "\n",
    "A ideia é que: o credor irá reorganizar a firma usando o plano do período t, mas à tarde ele vai ter um update na habilidade. Então ele conseguirá extrair um pouco mais do valor total da firma.\n",
    "\n",
    "###### Implicação para o período final\n",
    "\n",
    "Seguindo isso, payoff de uma reorganização proposta na manhã de t e efetivada na tarde de t é:\n",
    "\n",
    "$U_{t}(\\theta_{K,t+1}) = \\theta_{K,t+1} * V_0 * \\rho^{(t-1)} - C_{t}$\n",
    "\n",
    "Então o período final é o que não compensa mais reorganizar nem se a habilidade for igual a 1. T é definido por:\n",
    "\n",
    "$U_{t}(\\theta_{K,t+1}) = 1 * V_0 * \\rho^{(t-1)} - C_{t} <= L - C_{t}$\n",
    "\n",
    "O que implica\n",
    "\n",
    "$V_0 * \\rho^{(t-1)} <= L$\n",
    "\n",
    "\n",
    "Exatamente como os autores definiram\n",
    "\n",
    "\n",
    "\n"
   ]
  },
  {
   "cell_type": "code",
   "execution_count": 6,
   "metadata": {},
   "outputs": [
    {
     "data": {
      "text/plain": [
       "13"
      ]
     },
     "execution_count": 6,
     "metadata": {},
     "output_type": "execute_result"
    }
   ],
   "source": [
    "#number of periods\n",
    "def max_turns(Vmax, L, ρ):\n",
    "    t = 0\n",
    "    \n",
    "    while(ρ**(t-1) * Vmax > L):\n",
    "        t += 1\n",
    "    return t\n",
    "\n",
    "\n",
    "T = max_turns(Vmax, L, ρ)\n",
    "T"
   ]
  },
  {
   "cell_type": "code",
   "execution_count": 7,
   "metadata": {},
   "outputs": [
    {
     "data": {
      "text/plain": [
       "False"
      ]
     },
     "execution_count": 7,
     "metadata": {},
     "output_type": "execute_result"
    },
    {
     "data": {
      "text/plain": [
       "True"
      ]
     },
     "execution_count": 7,
     "metadata": {},
     "output_type": "execute_result"
    },
    {
     "data": {
      "text/plain": [
       "0.03361723529489924"
      ]
     },
     "execution_count": 7,
     "metadata": {},
     "output_type": "execute_result"
    },
    {
     "data": {
      "text/plain": [
       "0.026000000000000023"
      ]
     },
     "execution_count": 7,
     "metadata": {},
     "output_type": "execute_result"
    }
   ],
   "source": [
    "#testando se T é o período final mesmo\n",
    "t = T\n",
    "ρ**(t-1) * Vmax - Ct(t) > L - Ct(t)\n",
    "\n",
    "\n",
    "t = T-1\n",
    "ρ**(t-1) * Vmax - Ct(t) > L - Ct(t)\n",
    "\n",
    "\n",
    "#to see the values\n",
    "t = T-1\n",
    "ρ**(t-1) * Vmax - Ct(t)\n",
    "\n",
    "L - Ct(t)"
   ]
  },
  {
   "cell_type": "code",
   "execution_count": 8,
   "metadata": {},
   "outputs": [
    {
     "data": {
      "text/plain": [
       "array([ 0.761     ,  0.761     ,  0.645     ,  0.542456  ,  0.4518071 ,\n",
       "        0.37167348,  0.30083536,  0.23821445,  0.18285758,  0.1339221 ,\n",
       "        0.09066314,  0.05242221,  0.01861724, -0.01126636])"
      ]
     },
     "execution_count": 8,
     "metadata": {},
     "output_type": "execute_result"
    },
    {
     "data": {
      "text/plain": [
       "0.01100000000000001"
      ]
     },
     "execution_count": 8,
     "metadata": {},
     "output_type": "execute_result"
    },
    {
     "data": {
      "text/plain": [
       "14"
      ]
     },
     "execution_count": 8,
     "metadata": {},
     "output_type": "execute_result"
    }
   ],
   "source": [
    "#value of the firm in each period\n",
    "\n",
    "def Vt(Vmax, Tmax, ρ):\n",
    "    \n",
    "    V = np.empty(Tmax+1)\n",
    "    \n",
    "    V[0] = Vmax\n",
    "    \n",
    "    #range exclui o valor máximo, daí que eu adicionei 1\n",
    "    for t in range(1, Tmax+1):\n",
    "        V[t] = Vmax * ρ**(t-1)\n",
    "        \n",
    "    return V\n",
    "\n",
    "V = Vt(Vmax, T, ρ)\n",
    "\n",
    "V - Ct(T)\n",
    "L - Ct(T)\n",
    "\n",
    "V.size\n"
   ]
  },
  {
   "cell_type": "code",
   "execution_count": 9,
   "metadata": {},
   "outputs": [
    {
     "data": {
      "text/plain": [
       "array([0.   , 0.059, 0.074, 0.089, 0.104, 0.119, 0.134, 0.149, 0.164,\n",
       "       0.179, 0.194, 0.209, 0.224, 0.239])"
      ]
     },
     "execution_count": 9,
     "metadata": {},
     "output_type": "execute_result"
    },
    {
     "data": {
      "text/plain": [
       "14"
      ]
     },
     "execution_count": 9,
     "metadata": {},
     "output_type": "execute_result"
    }
   ],
   "source": [
    "#array with cost of reorganization each period\n",
    "\n",
    "C = np.empty(T+1)\n",
    "\n",
    "for t in range(T+1):\n",
    "    C[t] = Ct(t)\n",
    "    \n",
    "C\n",
    "C.size"
   ]
  },
  {
   "cell_type": "code",
   "execution_count": 10,
   "metadata": {},
   "outputs": [
    {
     "data": {
      "text/plain": [
       "0.25"
      ]
     },
     "execution_count": 10,
     "metadata": {},
     "output_type": "execute_result"
    },
    {
     "data": {
      "text/plain": [
       "0.191"
      ]
     },
     "execution_count": 10,
     "metadata": {},
     "output_type": "execute_result"
    },
    {
     "data": {
      "text/plain": [
       "0.0"
      ]
     },
     "execution_count": 10,
     "metadata": {},
     "output_type": "execute_result"
    }
   ],
   "source": [
    "#valores de liquidação\n",
    "\n",
    "def s_L(t):\n",
    "    \n",
    "    return np.minimum(L - Ct(t), Ds)\n",
    "\n",
    "s_L(0)\n",
    "s_L(1)\n",
    "\n",
    "\n",
    "def j_L(t):\n",
    "    \n",
    "    return np.minimum(L - Ct(t) - s_L(t), Dj)\n",
    "    \n",
    "j_L(0)"
   ]
  },
  {
   "cell_type": "markdown",
   "metadata": {},
   "source": [
    "Habilidades possíveis dos jogadores e funções de massa de probabilidade"
   ]
  },
  {
   "cell_type": "code",
   "execution_count": 11,
   "metadata": {},
   "outputs": [
    {
     "data": {
      "text/plain": [
       "array([0.01, 0.02, 0.03, 0.04, 0.05, 0.06, 0.07, 0.08, 0.09, 0.1 , 0.11,\n",
       "       0.12, 0.13, 0.14, 0.15, 0.16, 0.17, 0.18, 0.19, 0.2 , 0.21, 0.22,\n",
       "       0.23, 0.24, 0.25, 0.26, 0.27, 0.28, 0.29, 0.3 , 0.31, 0.32, 0.33,\n",
       "       0.34, 0.35, 0.36, 0.37, 0.38, 0.39, 0.4 , 0.41, 0.42, 0.43, 0.44,\n",
       "       0.45, 0.46, 0.47, 0.48, 0.49, 0.5 , 0.51, 0.52, 0.53, 0.54, 0.55,\n",
       "       0.56, 0.57, 0.58, 0.59, 0.6 , 0.61, 0.62, 0.63, 0.64, 0.65, 0.66,\n",
       "       0.67, 0.68, 0.69, 0.7 , 0.71, 0.72, 0.73, 0.74, 0.75, 0.76, 0.77,\n",
       "       0.78, 0.79, 0.8 , 0.81, 0.82, 0.83, 0.84, 0.85, 0.86, 0.87, 0.88,\n",
       "       0.89, 0.9 , 0.91, 0.92, 0.93, 0.94, 0.95, 0.96, 0.97, 0.98, 0.99,\n",
       "       1.  ])"
      ]
     },
     "execution_count": 11,
     "metadata": {},
     "output_type": "execute_result"
    },
    {
     "data": {
      "text/plain": [
       "0.06999999999999999"
      ]
     },
     "execution_count": 11,
     "metadata": {},
     "output_type": "execute_result"
    }
   ],
   "source": [
    "#grid size\n",
    "grid = 100\n",
    "\n",
    "hlow = 0.01\n",
    "hhigh = 1.0\n",
    "\n",
    "#começa no menor valor possível, vai até o maior valor possível num intervalo do tamanho do grid\n",
    "hvals = np.linspace(hlow, hhigh, grid)\n",
    "\n",
    "hvals\n",
    "hvals[6]\n"
   ]
  },
  {
   "cell_type": "code",
   "execution_count": 12,
   "metadata": {},
   "outputs": [
    {
     "data": {
      "text/plain": [
       "(14, 100)"
      ]
     },
     "execution_count": 12,
     "metadata": {},
     "output_type": "execute_result"
    },
    {
     "data": {
      "text/plain": [
       "True"
      ]
     },
     "execution_count": 12,
     "metadata": {},
     "output_type": "execute_result"
    },
    {
     "data": {
      "text/plain": [
       "True"
      ]
     },
     "execution_count": 12,
     "metadata": {},
     "output_type": "execute_result"
    },
    {
     "data": {
      "text/plain": [
       "True"
      ]
     },
     "execution_count": 12,
     "metadata": {},
     "output_type": "execute_result"
    },
    {
     "data": {
      "text/plain": [
       "True"
      ]
     },
     "execution_count": 12,
     "metadata": {},
     "output_type": "execute_result"
    },
    {
     "data": {
      "text/plain": [
       "True"
      ]
     },
     "execution_count": 12,
     "metadata": {},
     "output_type": "execute_result"
    }
   ],
   "source": [
    "#array to tell us the size of the pie at period t\n",
    "#arguments: (period, θk,t)\n",
    "U = np.zeros((T+1, grid))\n",
    "\n",
    "\n",
    "U = (hvals[:,None] * V[None,:] - C).T\n",
    "\n",
    "U.shape\n",
    "\n",
    "#value of proposing reorganization at t ####\n",
    "\n",
    "#if t==0, then there are no costs\n",
    "U[0,7] == hvals[7] * V[0]\n",
    "\n",
    "U[0, 7] == hvals[7] * Vmax\n",
    "\n",
    "#if t>0, there are costs\n",
    "U[1,0] == hvals[0] * V[1] - Ct(1)\n",
    "\n",
    "\n",
    "U[2,5] == hvals[5] * V[2] - Ct(2)\n",
    "\n",
    "#checking the last period\n",
    "#t = T\n",
    "U[T,7] ==  hvals[7] * V[T] - Ct(T)\n"
   ]
  },
  {
   "cell_type": "markdown",
   "metadata": {},
   "source": [
    "Testando se o python consegue criar 2 x 10 arrays para os valores de continuação:\n",
    "* 2 porque temos s e j\n",
    "* 10 porque seria a quantidade de clusters\n",
    "\n",
    "Se não conseguir, precisaremos pensar numa maneira de economizar memória no futuro"
   ]
  },
  {
   "cell_type": "markdown",
   "metadata": {},
   "source": [
    "#test\n",
    "test_W = np.zeros((2, 10, T, grid, grid, grid))"
   ]
  },
  {
   "cell_type": "markdown",
   "metadata": {},
   "source": [
    "test_W.shape"
   ]
  },
  {
   "cell_type": "code",
   "execution_count": 13,
   "metadata": {},
   "outputs": [
    {
     "data": {
      "text/plain": [
       "0"
      ]
     },
     "execution_count": 13,
     "metadata": {},
     "output_type": "execute_result"
    },
    {
     "data": {
      "text/plain": [
       "0.8337136736331454"
      ]
     },
     "execution_count": 13,
     "metadata": {},
     "output_type": "execute_result"
    },
    {
     "data": {
      "text/plain": [
       "1.0"
      ]
     },
     "execution_count": 13,
     "metadata": {},
     "output_type": "execute_result"
    },
    {
     "data": {
      "text/plain": [
       "1"
      ]
     },
     "execution_count": 13,
     "metadata": {},
     "output_type": "execute_result"
    },
    {
     "data": {
      "text/plain": [
       "1"
      ]
     },
     "execution_count": 13,
     "metadata": {},
     "output_type": "execute_result"
    }
   ],
   "source": [
    "def cdf(x, lt):\n",
    "    \n",
    "    #return the cdf of x given the lower bound lt\n",
    "    #geq than 1 because of our discretization method \n",
    "    if(x >= 1):\n",
    "        \n",
    "        return 1\n",
    "    \n",
    "    else:\n",
    "        \n",
    "        if(x >= lt):\n",
    "            return 1 - ((1-x)**β)/((1-lt)**β)\n",
    "        else:\n",
    "            return 0\n",
    "        \n",
    "#test      \n",
    "cdf(0.5, 1)\n",
    "cdf(0.5, 0.4)\n",
    "            \n",
    "cdf(0.99, 0.01)\n",
    "\n",
    "cdf(1, 0.01)\n",
    "\n",
    "cdf(1, 0.9)"
   ]
  },
  {
   "cell_type": "code",
   "execution_count": 14,
   "metadata": {},
   "outputs": [
    {
     "data": {
      "text/plain": [
       "array([4.86020895e-02, 9.08895313e-02, 8.30118688e-02, 7.57457990e-02,\n",
       "       6.90494782e-02, 6.28835322e-02, 5.72109337e-02, 5.19968857e-02,\n",
       "       4.72087086e-02, 4.28157326e-02, 3.87891938e-02, 3.51021351e-02,\n",
       "       3.17293115e-02, 2.86470984e-02, 2.58334046e-02, 2.32675892e-02,\n",
       "       2.09303814e-02, 1.88038045e-02, 1.68711028e-02, 1.51166722e-02,\n",
       "       1.35259940e-02, 1.20855710e-02, 1.07828679e-02, 9.60625323e-03,\n",
       "       8.54494497e-03, 7.58895834e-03, 6.72905635e-03, 5.95670278e-03,\n",
       "       5.26401751e-03, 4.64373419e-03, 4.08916006e-03, 3.59413791e-03,\n",
       "       3.15301007e-03, 2.76058433e-03, 2.41210176e-03, 2.10320626e-03,\n",
       "       1.82991596e-03, 1.58859611e-03, 1.37593361e-03, 1.18891310e-03,\n",
       "       1.02479441e-03, 8.81091376e-04, 7.55552069e-04, 6.46140160e-04,\n",
       "       5.51017531e-04, 4.68528017e-04, 3.97182210e-04, 3.35643301e-04,\n",
       "       2.82713883e-04, 2.37323685e-04, 1.98518169e-04, 1.65447963e-04,\n",
       "       1.37359070e-04, 1.13583812e-04, 9.35324776e-05, 7.66856178e-05,\n",
       "       6.25869600e-05, 5.08369031e-05, 4.10865540e-05, 3.30322741e-05,\n",
       "       2.64107016e-05, 2.09942188e-05, 1.65868334e-05, 1.30204465e-05,\n",
       "       1.01514781e-05, 7.85782603e-06, 6.03613085e-06, 4.59932604e-06,\n",
       "       3.47444866e-06, 2.60069061e-06, 1.92766981e-06, 1.41390265e-06,\n",
       "       1.02545964e-06, 7.34787585e-07, 5.19682434e-07, 3.62398092e-07,\n",
       "       2.48877355e-07, 1.68092142e-07, 1.11481063e-07, 7.24732747e-08,\n",
       "       4.60883964e-08, 2.86031101e-08, 1.72758202e-08, 1.01215352e-08,\n",
       "       5.72983561e-09, 3.11949744e-09, 1.62399150e-09, 8.02711897e-10,\n",
       "       3.73371223e-10, 1.61573199e-10, 6.40846265e-11, 2.28335129e-11,\n",
       "       7.10775883e-12, 1.85673699e-12, 3.83026943e-13, 5.65103520e-14,\n",
       "       4.99600361e-15, 2.22044605e-16, 0.00000000e+00, 0.00000000e+00])"
      ]
     },
     "execution_count": 14,
     "metadata": {},
     "output_type": "execute_result"
    },
    {
     "data": {
      "text/plain": [
       "[<matplotlib.lines.Line2D at 0x1e90d197048>]"
      ]
     },
     "execution_count": 14,
     "metadata": {},
     "output_type": "execute_result"
    },
    {
     "data": {
      "image/png": "[encoded data removed]",
      "text/plain": [
       "<Figure size 432x288 with 1 Axes>"
      ]
     },
     "metadata": {
      "needs_background": "light"
     },
     "output_type": "display_data"
    }
   ],
   "source": [
    "#nova versão da função pmf: agora cada ponto do grid é o centro da cdf\n",
    "def pmf_cdf(lt, δ = hlow/2):\n",
    "    \n",
    "    pmf = np.empty(grid)\n",
    "    \n",
    "    for i, h in enumerate(hvals):\n",
    "        pmf[i] = cdf(h+δ, lt) - cdf(h-δ, lt)\n",
    "    \n",
    "    return pmf\n",
    "\n",
    "\n",
    "lt = 0.01\n",
    "pmf_cdf(lt)\n",
    "plt.plot(pmf_cdf(lt))"
   ]
  },
  {
   "cell_type": "code",
   "execution_count": 15,
   "metadata": {},
   "outputs": [],
   "source": [
    "#gerando as pmfs\n",
    "\n",
    "#probability mass function\n",
    "pmf = np.empty((grid,grid))\n",
    "\n",
    "\n",
    "for t, θt in enumerate(hvals):\n",
    "    pmf[t,:] = pmf_cdf(θt)\n",
    "    \n",
    "#precisamos de uma pmf para quando temos lkt e queremos saber θk,t+1\n",
    "#chamaremos de pmf2\n",
    "pmf2 = np.empty((grid, grid))\n",
    "\n",
    "for i in range(len(hvals)):\n",
    "    for j in range(len(hvals)):\n",
    "        pmf2[i, j] = np.sum(np.multiply(pmf[i, :], pmf[:, j]))\n"
   ]
  },
  {
   "cell_type": "markdown",
   "metadata": {},
   "source": [
    "Arrays dos valores de continuação dos jogadores"
   ]
  },
  {
   "cell_type": "code",
   "execution_count": 16,
   "metadata": {},
   "outputs": [],
   "source": [
    "#continuation values\n",
    "#period t (not t+1), θkt, ℓkt, ℓmt\n",
    "s_W = np.zeros((T+1, grid, grid, grid))\n",
    "j_W = np.copy(s_W)\n",
    "\n",
    "\n",
    "#optimal payments\n",
    "#period, θkt, ℓmt, outputs\n",
    "Pst_array = np.zeros((T, grid, grid, 6))\n",
    "Pjt_array = np.copy(Pst_array)"
   ]
  },
  {
   "cell_type": "code",
   "execution_count": 17,
   "metadata": {},
   "outputs": [],
   "source": [
    "#populating the last period with the liquidation values\n",
    "s_W[T, ...] = s_L(T)\n",
    "j_W[T, ...] = j_L(T)"
   ]
  },
  {
   "cell_type": "markdown",
   "metadata": {},
   "source": [
    "Funções para calcular os valores de continuação dos jogadores"
   ]
  },
  {
   "cell_type": "code",
   "execution_count": 18,
   "metadata": {},
   "outputs": [
    {
     "data": {
      "text/plain": [
       "7"
      ]
     },
     "execution_count": 18,
     "metadata": {},
     "output_type": "execute_result"
    },
    {
     "data": {
      "text/plain": [
       "int"
      ]
     },
     "execution_count": 18,
     "metadata": {},
     "output_type": "execute_result"
    },
    {
     "data": {
      "text/plain": [
       "array([ 0,  1,  2,  3,  4,  5,  6,  7,  8,  9, 10, 11, 12, 13, 14, 15, 16,\n",
       "       17, 18, 19, 20, 21, 22, 23, 24, 25, 26, 27, 28, 29, 30, 31, 32, 33,\n",
       "       34, 35, 36, 37, 38, 39, 40, 41, 42, 43, 44, 45, 46, 47, 48, 49, 50,\n",
       "       51, 52, 53, 54, 55, 56, 57, 58, 59, 60, 61, 62, 63, 64, 65, 66, 67,\n",
       "       68, 69, 70, 71, 72, 73, 74, 75, 76, 77, 78, 79, 80, 81, 82, 83, 84,\n",
       "       85, 86, 87, 88, 89, 90, 91, 92, 93, 94, 95, 96, 97, 98, 99],\n",
       "      dtype=int64)"
      ]
     },
     "execution_count": 18,
     "metadata": {},
     "output_type": "execute_result"
    },
    {
     "data": {
      "text/plain": [
       "(array([], dtype=int64),)"
      ]
     },
     "execution_count": 18,
     "metadata": {},
     "output_type": "execute_result"
    }
   ],
   "source": [
    "#função para mapear os valores das habilidades aos arrays\n",
    "@njit\n",
    "def find(h):\n",
    "    \n",
    "    return np.searchsorted(hvals, h)\n",
    "\n",
    "find(hvals[7])\n",
    "type(find(hvals[7]))\n",
    "\n",
    "find(hvals)\n",
    "\n",
    "#checando se temos valores repetidos\n",
    "count = np.bincount(find(hvals))\n",
    "np.where(count > 1)"
   ]
  },
  {
   "cell_type": "code",
   "execution_count": 19,
   "metadata": {},
   "outputs": [
    {
     "data": {
      "text/plain": [
       "99"
      ]
     },
     "execution_count": 19,
     "metadata": {},
     "output_type": "execute_result"
    }
   ],
   "source": [
    "#função cutoff\n",
    "\n",
    "@njit\n",
    "def cutoff_m(t, Pkt, hkt, lmt, m_W):\n",
    "    \n",
    "    cmt = find(lmt)\n",
    "    \n",
    "    while(Pkt > m_W[t+1, cmt, cmt, find(hkt)] and hvals[cmt] < hhigh):\n",
    "        cmt += 1\n",
    "            \n",
    "    #returns the index of the cutoff\n",
    "    return max(int32(cmt), find(lmt))\n",
    "\n",
    "#deve retornar 99, pois o valor de continuação de j no final é zero\n",
    "cutoff_m(T-1, 0.01, 0.5, 0.4, j_W)"
   ]
  },
  {
   "cell_type": "markdown",
   "metadata": {},
   "source": [
    "#function to select the pmf function with a update\n",
    "\n",
    "\n",
    "def h_m(t, cutoff_m, lmt):\n",
    "    #takes the indexes of cutoff and lmt\n",
    "    #if cutoff > lmt, pmf[cutoff]\n",
    "    #otherwise, pmf2[lmt]\n",
    "    \n",
    "    if(cutoff_m > lmt):\n",
    "        return pmf[cutoff_m, lmt:] #'lmt:' is to make sure the dimensions are ok\n",
    "\n",
    "    else:\n",
    "        \n",
    "    #at t=0, all information is symmetric, so we use pmf instead of pmf2\n",
    "        if(t == 0):\n",
    "            return pmf[lmt, lmt:]\n",
    "        else:\n",
    "            return pmf2[lmt, lmt:]\n",
    "\n",
    "#test\n",
    "#t != 0\n",
    "h_m(1, 49,50) == pmf2[50, 50:]\n",
    "h_m(1, 99, 50) == pmf[99, 50:]\n",
    "\n",
    "\n",
    "#t == 0\n",
    "h_m(0, 49, 50) == pmf[50, 50:]\n",
    "h_m(0, 99, 50) == pmf[99, 50:]"
   ]
  },
  {
   "cell_type": "code",
   "execution_count": 20,
   "metadata": {},
   "outputs": [
    {
     "data": {
      "text/plain": [
       "array([ True,  True,  True,  True,  True,  True,  True,  True,  True,\n",
       "        True,  True,  True,  True,  True,  True,  True,  True,  True,\n",
       "        True,  True,  True,  True,  True,  True,  True,  True,  True,\n",
       "        True,  True,  True,  True,  True,  True,  True,  True,  True,\n",
       "        True,  True,  True,  True,  True,  True,  True,  True,  True,\n",
       "        True,  True,  True,  True,  True])"
      ]
     },
     "execution_count": 20,
     "metadata": {},
     "output_type": "execute_result"
    },
    {
     "data": {
      "text/plain": [
       "array([ True,  True,  True,  True,  True,  True,  True,  True,  True,\n",
       "        True,  True,  True,  True,  True,  True,  True,  True,  True,\n",
       "        True,  True,  True,  True,  True,  True,  True,  True,  True,\n",
       "        True,  True,  True,  True,  True,  True,  True,  True,  True,\n",
       "        True,  True,  True,  True,  True,  True,  True,  True,  True,\n",
       "        True,  True,  True,  True,  True])"
      ]
     },
     "execution_count": 20,
     "metadata": {},
     "output_type": "execute_result"
    }
   ],
   "source": [
    "#function to select the pmf function as it is writen in the paper\n",
    "\n",
    "def h_m(t, cutoff_m, lmt):\n",
    "    #takes the indexes of cutoff and lmt\n",
    "        \n",
    "    #at t=0, all information is symmetric, so we use pmf instead of pmf2\n",
    "    if(t == 0):\n",
    "        return pmf[lmt, lmt:]\n",
    "    else:\n",
    "        return pmf2[lmt, lmt:]\n",
    "    \n",
    "#test\n",
    "h_m(0, 49,50) == pmf[50, 50:]\n",
    "h_m(1, 99, 50) == pmf2[50, 50:]"
   ]
  },
  {
   "cell_type": "code",
   "execution_count": 21,
   "metadata": {},
   "outputs": [
    {
     "data": {
      "text/plain": [
       "(-1.0, 59, 0.01100000000000002, 0.01100000000000002, 0.026000000000000023, 0)"
      ]
     },
     "execution_count": 21,
     "metadata": {},
     "output_type": "execute_result"
    },
    {
     "data": {
      "text/plain": [
       "(-0.0, 59, 0.03361723529489926, 0.011000000000000017, 0.03361723529489926, 2)"
      ]
     },
     "execution_count": 21,
     "metadata": {},
     "output_type": "execute_result"
    },
    {
     "data": {
      "text/plain": [
       "(0.0, 59, 0.5, 0.0, 0.5, 2)"
      ]
     },
     "execution_count": 21,
     "metadata": {},
     "output_type": "execute_result"
    }
   ],
   "source": [
    "#função payoff ótimo\n",
    "\n",
    "#retorna a política ótima também\n",
    "\n",
    "step_size = 1\n",
    "share = np.arange(0, hhigh, hlow/step_size)\n",
    "#Pkt versão 6: propostas são share da habilidade de hoje\n",
    "#Pkt versão 7: valor de continuação do adversário dividido entre ANTES e DEPOIS do cutoff de screening\n",
    "#Pkt versão 8: considerando que o valor da torta em t é θkt * Vt\n",
    "#Pkt versão 9: valor da torta considerado: U\n",
    "def Pkt(t, hkt, lmt, k_W, m_W, k_L):\n",
    "    \n",
    "    #new grid of payments is the share of the pie tomorrow based on the hability today\n",
    "    Pkt_grid = np.empty(share.size + 1)\n",
    "\n",
    "    #the first possible value is -Vmax, which is an offer so low that will be rejected for sure (waiting offer)\n",
    "    Pkt_grid[0] = -Vmax\n",
    "\n",
    "    #the other values are the possible shares of the pie today\n",
    "    Pkt_grid[1:] = U[t+1, find(hkt)] * share\n",
    "\n",
    "\n",
    "    #descartando os valores que são menores que o menor valor de continuação possível do adversário\n",
    "    #assim não confundiremos uma proposta de reorganização com uma de espera\n",
    "    lowest = m_W[t+1, find(lmt), find(lmt), find(hkt)]\n",
    "    Pkt_grid[1:] = np.where(Pkt_grid[1:] < lowest, lowest, Pkt_grid[1:])\n",
    "\n",
    "    cutoffs = int32(np.empty(Pkt_grid.shape))\n",
    "\n",
    "    #loop for calculating the cutoffs\n",
    "    for i, Pkt in enumerate(Pkt_grid):\n",
    "        cutoffs[i] = cutoff_m(t, Pkt, hkt, lmt, m_W)\n",
    "\n",
    "    #     breakpoint()\n",
    "\n",
    "\n",
    "    #cálculo de E1####\n",
    "\n",
    "\n",
    "\n",
    "\n",
    "    #array com as probabilidades\n",
    "\n",
    "    #probabilidade de m amanhã, dado o lower bound hoje ou o cutoff hoje\n",
    "\n",
    "    #shape is Pkt x M\n",
    "    probm = np.empty((Pkt_grid.size, hvals[find(lmt):].size))\n",
    "\n",
    "    for i in range(Pkt_grid.size):\n",
    "        probm[i] = h_m(t, cutoffs[i], find(lmt))\n",
    "\n",
    "\n",
    "    #probabiilidades de k amanhã dado a habilidade verdadeira hoje. \n",
    "    probk = pmf[find(hkt),find(hkt):]\n",
    "\n",
    "\n",
    "\n",
    "    #payoff if the proposal is accepted\n",
    "    pE1 = np.array(U[t, find(hkt)] - Pkt_grid[:, None])\n",
    "    pE1 = np.multiply(pE1, probm)\n",
    "    \n",
    "\n",
    "\n",
    "    #indicator array\n",
    "    cont_vals = np.empty((len(Pkt_grid), hvals[find(lmt):].size))\n",
    "\n",
    "    #continuation values separated before and after screening cutoff\n",
    "    for i in range(len(Pkt_grid)):\n",
    "        cont_vals[i, :(cutoffs[i]-find(lmt))] = m_W[t+1, find(lmt):cutoffs[i], find(lmt), find(hkt)]\n",
    "        cont_vals[i, (cutoffs[i]-find(lmt)):] = m_W[t+1, cutoffs[i]:, cutoffs[i], find(hkt)]\n",
    "\n",
    "    IE1 = np.where(cont_vals <= Pkt_grid[:,None] , 1, 0)\n",
    "\n",
    "\n",
    "    #     breakpoint()\n",
    "\n",
    "    #payoff de E1\n",
    "    E1 = np.multiply(pE1, IE1)\n",
    "\n",
    "    #soma ao longo das colunas (axis = 1) para que cada linha tenha o payoff esperado de propor um pagamento aceitável\n",
    "    E1 = np.sum(E1, axis = 1)\n",
    "\n",
    "\n",
    "    # #cálculo de E2####\n",
    "\n",
    "    #E2 payoff can use the cutoffs directly, i.e., doesn't need to separate before and after cutoff\n",
    "    #this is because pE2 will only happen if M declines the offer, which only happens if his ability is above the cutoff\n",
    "\n",
    "    pE2 = k_W[t+1, find(hkt):, find(hkt), cutoffs]\n",
    "\n",
    "    #multiplicando pE2 pelo array de probabilidades\n",
    "    pE2 = np.multiply(pE2, probk[None, :])\n",
    "    pE2 = np.sum(pE2, axis = 1)\n",
    "\n",
    "    pE2 = np.multiply(pE2[:,None], probm)\n",
    "\n",
    "\n",
    "    #indicator array\n",
    "    IE2 = np.where(IE1 == 1, 0, 1)\n",
    "\n",
    "\n",
    "    #payoff\n",
    "    E2 = np.multiply(pE2, IE2)\n",
    "    E2 = np.sum(E2, axis = 1)\n",
    "\n",
    "\n",
    "    #matriz dos payoffs####\n",
    "    matrix_payoff = E1 + E2\n",
    "\n",
    "    payoff_reorg = np.max(matrix_payoff)\n",
    "    index = np.argmax(matrix_payoff)\n",
    "\n",
    "    pagamento = Pkt_grid[index]\n",
    "\n",
    "\n",
    "    #calculating the optimal policy between liquidating, reorganizing or waiting ####\n",
    "    payoff_liq = k_L(t)\n",
    "\n",
    "    #waiting payoff is associated with the first possible payment, the waiting offer(-Vmax)\n",
    "    payoff_wait = matrix_payoff[0]\n",
    "\n",
    "\n",
    "    payoff_max = np.max((payoff_liq, payoff_wait, payoff_reorg))\n",
    "    policy = np.argmax((payoff_liq, payoff_wait, payoff_reorg))\n",
    "                         \n",
    "    #retorna o payoff de esperar também para facilitar a verificação do código\n",
    "    return pagamento, cutoffs[index], payoff_reorg, payoff_wait, payoff_max, policy\n",
    "        \n",
    "#testing hk = 0.5\n",
    "t, hkt, lmt, k_W, m_W, k_L = T-1, 0.5, 0.6, s_W, j_W, s_L\n",
    "Pkt(t, hkt, lmt, k_W, m_W, k_L)\n",
    "\n",
    "\n",
    "#testing hk = 1\n",
    "t, hkt, lmt, k_W, m_W, k_L = T-1, 1, 0.6, s_W, j_W, s_L\n",
    "Pkt(t, hkt, lmt, k_W, m_W, k_L)\n",
    "\n",
    "\n",
    "#testing t==0\n",
    "t, hkt, lmt, k_W, m_W, k_L = 0, 0.5, 0.6, s_W, j_W, s_L\n",
    "Pkt(t, hkt, lmt, k_W, m_W, k_L)\n",
    "\n"
   ]
  },
  {
   "cell_type": "code",
   "execution_count": 22,
   "metadata": {},
   "outputs": [],
   "source": [
    "def Pst(t, θst, ℓjt):\n",
    "    return Pkt(t, θst, ℓjt, s_W, j_W, s_L)\n",
    "\n",
    "\n",
    "def Pjt(t, θjt, ℓst):\n",
    "    return Pkt(t, θjt, ℓst, j_W, s_W, j_L)"
   ]
  },
  {
   "cell_type": "code",
   "execution_count": 23,
   "metadata": {},
   "outputs": [],
   "source": [
    "#populando as matrizes para continuar os testes\n",
    "t = T-1\n",
    "for h in hvals:\n",
    "    for l in hvals:\n",
    "            Pst_array[t, find(h), find(l), :] = Pst(t, h, l)\n",
    "            Pjt_array[t, find(h), find(l), :] = Pjt(t, h, l)"
   ]
  },
  {
   "cell_type": "code",
   "execution_count": 24,
   "metadata": {},
   "outputs": [
    {
     "data": {
      "text/plain": [
       "array([ True,  True,  True,  True,  True,  True])"
      ]
     },
     "execution_count": 24,
     "metadata": {},
     "output_type": "execute_result"
    }
   ],
   "source": [
    "#checando se populou ok\n",
    "t, h, l = T-1, 0.5, 0.5\n",
    "Pst_array[t, find(h), find(l),:] == Pst(t, h, l)"
   ]
  },
  {
   "cell_type": "code",
   "execution_count": 25,
   "metadata": {},
   "outputs": [
    {
     "data": {
      "text/plain": [
       "(0.026000000000000023, 0.0)"
      ]
     },
     "execution_count": 25,
     "metadata": {},
     "output_type": "execute_result"
    },
    {
     "data": {
      "text/plain": [
       "(0.03361723529489928, 2.0)"
      ]
     },
     "execution_count": 25,
     "metadata": {},
     "output_type": "execute_result"
    }
   ],
   "source": [
    "#função da proposta ótima\n",
    "\n",
    "\n",
    "def propose(t, hkt, lkt, lmt, Pkt_array):\n",
    "    #apenas busca o valor de Pkt\n",
    "    \n",
    "    payoff_max, policy = Pkt_array[t, find(hkt), find(lmt)][-2:]\n",
    "    \n",
    "    return payoff_max, policy\n",
    "\n",
    "#test with hk = 0.5\n",
    "t, hkt, lkt, lmt, Pkt_array = T-1, 0.5, 0.01, 0.5, Pst_array\n",
    "\n",
    "Pst_array[t, find(hkt), find(lmt), :] = Pkt(t, hkt, lmt, k_W, m_W, k_L)\n",
    "\n",
    "propose(t, hkt, lkt, lmt, Pkt_array)\n",
    "\n",
    "\n",
    "#test with hk = 1\n",
    "t, hkt, lkt, lmt, Pkt_array = T-1, 1, 0.01, 0.5, Pst_array\n",
    "\n",
    "propose(t, hkt, lkt, lmt, Pkt_array)"
   ]
  },
  {
   "cell_type": "code",
   "execution_count": 26,
   "metadata": {},
   "outputs": [
    {
     "data": {
      "text/plain": [
       "0.998795478578984"
      ]
     },
     "execution_count": 26,
     "metadata": {},
     "output_type": "execute_result"
    },
    {
     "data": {
      "text/plain": [
       "0.998671575594218"
      ]
     },
     "execution_count": 26,
     "metadata": {},
     "output_type": "execute_result"
    }
   ],
   "source": [
    "#\"cdf\" for the discretized distribution\n",
    "\n",
    "def cdf_discrete(x, lt):\n",
    "    #returns the probability that θt takes a value less than x, given lt\n",
    "    #we use strictly less than x because of the payment offer threshold\n",
    "    return np.sum(pmf[find(lt), :find(x)])\n",
    "\n",
    "\n",
    "#test\n",
    "cdf(0.5, 0.01)\n",
    "cdf_discrete(0.5, 0.01)"
   ]
  },
  {
   "cell_type": "code",
   "execution_count": 27,
   "metadata": {},
   "outputs": [
    {
     "data": {
      "text/plain": [
       "array([0., 0., 0., 0., 0., 0., 0., 0., 0., 0., 0., 0., 0., 0., 0., 0., 0.,\n",
       "       0., 0., 0., 0., 0., 0., 0., 0., 0., 0., 0., 0., 0., 0., 0., 0., 0.,\n",
       "       0., 0., 0., 0., 0., 0., 0., 0., 0., 0., 0., 0., 0., 0., 0., 0., 0.,\n",
       "       0., 0., 0., 0., 0., 0., 0., 0., 0., 0., 0., 0., 0., 0., 0., 0., 0.,\n",
       "       0., 0., 0., 0., 0., 0., 0., 0., 0., 0., 0., 0., 0., 0., 0., 0., 0.,\n",
       "       0., 0., 0., 0., 0., 0., 0., 0., 0., 0., 0., 0., 2., 2., 2.])"
      ]
     },
     "execution_count": 27,
     "metadata": {},
     "output_type": "execute_result"
    },
    {
     "data": {
      "text/plain": [
       "(0.98, 0.9999999999998082)"
      ]
     },
     "execution_count": 27,
     "metadata": {},
     "output_type": "execute_result"
    }
   ],
   "source": [
    "#função de threshold\n",
    "\n",
    "def threshold_m(t, lkt, lmt, Pmt_array):\n",
    "    \n",
    "    #procura onde a última entrada é diferente de 0 (policy de liquidar a firma)\n",
    "    threshold_vector = np.array(np.where(Pmt_array[t, :, find(lkt), -1] != 0.0))\n",
    "#     breakpoint()\n",
    "    if(threshold_vector.size == 0):\n",
    "        #threshold does not exist\n",
    "        print(\"error in threshold, no payment offer found\")\n",
    "        \n",
    "    else:\n",
    "        ts = hvals[np.min(threshold_vector)]\n",
    "    \n",
    "        #probability that m will propose liquidation next period\n",
    "        #at t==0, the info is symmetric, so lmt == θmt, thus it becomes an indicator function\n",
    "        if(t==0):\n",
    "            if(lmt >=ts):\n",
    "                probm_liq = 0.0\n",
    "            else:\n",
    "                probm_liq = 1.0\n",
    "            \n",
    "            \n",
    "        else:#if t>0\n",
    "\n",
    "            if(lmt >= ts):\n",
    "                probm_liq = 0.0\n",
    "            else:\n",
    "                probm_liq = cdf_discrete(ts,lmt)\n",
    "\n",
    "    #returns the reorganization threshold and the probability that m will propose liquidation in t\n",
    "    return ts, probm_liq\n",
    "    \n",
    "\n",
    "    \n",
    "\n",
    " \n",
    "t, lkt,lmt, Pmt_array = T-1, 0.5,0.51, Pst_array\n",
    "\n",
    "Pmt_array[t, :, find(lkt), -1]\n",
    "\n",
    "threshold_m(t, lkt,lmt,  Pmt_array)"
   ]
  },
  {
   "cell_type": "code",
   "execution_count": 28,
   "metadata": {},
   "outputs": [
    {
     "data": {
      "text/plain": [
       "(2.944489859713077e-10, 0.9999999732319104)"
      ]
     },
     "execution_count": 28,
     "metadata": {},
     "output_type": "execute_result"
    },
    {
     "data": {
      "text/plain": [
       "(0.01100000000000001, 49, 0.0020078564713073037, 0.0, 0.0020078564713073037, 2)"
      ]
     },
     "execution_count": 28,
     "metadata": {},
     "output_type": "execute_result"
    },
    {
     "data": {
      "text/plain": [
       "(0.0, 0.9999999999998428)"
      ]
     },
     "execution_count": 28,
     "metadata": {},
     "output_type": "execute_result"
    },
    {
     "data": {
      "text/plain": [
       "(-1.0, 49, 0.011000000000000032, 0.011000000000000032, 0.026000000000000023, 0)"
      ]
     },
     "execution_count": 28,
     "metadata": {},
     "output_type": "execute_result"
    }
   ],
   "source": [
    "#payoff esperado de responder a uma proposta de reorganização\n",
    "\n",
    "def respond_reorg(t, hkt, lkt, lmt, Pmt_array, k_W):\n",
    "    ts, probm_liq = threshold_m(t, lkt, lmt, Pmt_array)\n",
    "    \n",
    "    lmt = max(ts, lmt)\n",
    "    \n",
    "    \n",
    "    #the possible values of payment given by the opponent\n",
    "    Pmt_grid = Pmt_array[t, find(lmt):, find(lkt), 0]\n",
    "    cutoffs = Pmt_array[t, find(lmt):, find(lkt), 1]\n",
    "    cutoffs = int32(cutoffs)\n",
    "\n",
    "\n",
    "    #A1### \n",
    "    \n",
    "    #payoff quando receber pagamento é melhor respota\n",
    "    pA1 = Pmt_grid\n",
    "\n",
    "    #ponderação pelas probabilidades\n",
    "    probk = pmf[find(hkt), find(hkt):]\n",
    "    probm = pmf[find(lmt), find(lmt):]\n",
    "\n",
    "\n",
    "    #primeiro vamos ver a função indicadora\n",
    "    IA1 = np.where(k_W[t+1, find(hkt):, cutoffs, np.arange(find(lmt), grid, step = 1)].T <= Pmt_grid, 1, 0)\n",
    "\n",
    "    #IA1 tem S linhas e J colunas\n",
    "\n",
    "    #queremos uma matriz de probabiidades com a mesma dimensão\n",
    "    prob = np.outer(probk, probm)\n",
    "\n",
    "    pA1 = np.multiply(pA1.T, prob)\n",
    "\n",
    "    A1 = np.multiply(pA1, IA1)\n",
    "\n",
    "    #A2####\n",
    "\n",
    "    IA2 = np.where(IA1 == 1, 0, 1)\n",
    "\n",
    "    pA2 = k_W[t+1, find(hkt):, cutoffs, np.arange(find(lmt), grid, step = 1)].T\n",
    "\n",
    "    pA2 = np.multiply(pA2, prob)\n",
    "\n",
    "    A2 = np.multiply(pA2, IA2)\n",
    "\n",
    "    payoff = A1 + A2\n",
    "    payoff = np.sum(payoff)\n",
    "\n",
    "    #returns the expected value of answering a reorganization proposal and the probability of liquidation\n",
    "    return payoff * (1.0 -probm_liq), probm_liq\n",
    "\n",
    "#test1\n",
    "t, hkt, lkt, lmt, Pmt_array, k_W = T-1, 0.5, 0.5, 0.5, Pjt_array, s_W\n",
    "respond_reorg(t, hkt, lkt, lmt, Pmt_array, k_W)\n",
    "\n",
    "\n",
    "lmt, probm_liq = threshold_m(t, lkt, lmt, Pmt_array)\n",
    "Pjt(t, lmt, lkt)\n",
    "\n",
    "\n",
    "#test2\n",
    "t, hkt, lkt, lmt, Pmt_array, k_W = T-1, 0.5, 0.5, 0.5, Pst_array, j_W\n",
    "respond_reorg(t, hkt, lkt, lmt, Pmt_array, k_W)\n",
    "\n",
    "Pst(t, lmt, lkt)\n"
   ]
  },
  {
   "cell_type": "code",
   "execution_count": 32,
   "metadata": {},
   "outputs": [
    {
     "data": {
      "text/plain": [
       "0.026000000000000023"
      ]
     },
     "execution_count": 32,
     "metadata": {},
     "output_type": "execute_result"
    },
    {
     "data": {
      "text/plain": [
       "-0.09519138235255037"
      ]
     },
     "execution_count": 32,
     "metadata": {},
     "output_type": "execute_result"
    },
    {
     "data": {
      "text/plain": [
       "0.026000000000000023"
      ]
     },
     "execution_count": 32,
     "metadata": {},
     "output_type": "execute_result"
    },
    {
     "data": {
      "text/plain": [
       "0.03361723529489924"
      ]
     },
     "execution_count": 32,
     "metadata": {},
     "output_type": "execute_result"
    },
    {
     "data": {
      "text/plain": [
       "0.03361723529489924"
      ]
     },
     "execution_count": 32,
     "metadata": {},
     "output_type": "execute_result"
    },
    {
     "data": {
      "text/plain": [
       "0.0"
      ]
     },
     "execution_count": 32,
     "metadata": {},
     "output_type": "execute_result"
    }
   ],
   "source": [
    "#payoff esperado de responder a uma proposta de liquidação\n",
    "\n",
    "def respond_liq(t, hkt, lkt, lmt, k_L, m_L):\n",
    "    \n",
    "    #reorganiza hoje pagando o valor de liquidação do oponente\n",
    "    #U_{t} (\\theta_{t})\n",
    "    \n",
    "    payoff_reorg = U[t, find(hkt)] - m_L(t)\n",
    "\n",
    "\n",
    "    \n",
    "    \n",
    "    payoff_liq = k_L(t)\n",
    "    \n",
    "    return max(payoff_liq, payoff_reorg)\n",
    "\n",
    "#o que acontece se J propor liquidar no penúltimo período e S responder?\n",
    "#hkt = 0.5\n",
    "t, hkt, lkt, lmt, k_L, m_L = T-1, 0.5, 0.5, 0.5, s_L, j_L\n",
    "\n",
    "respond_liq(t, hkt, lkt, lmt, k_L, m_L)\n",
    "U[t, find(hkt)] - m_L(t) #leading reorg and paying m_L(t)\n",
    "k_L(t)\n",
    "\n",
    "#hkt = 1. Como a reorg demorará um período dado que ele está respondendo, então não compensará reorganizar. OK\n",
    "hkt = 1.0\n",
    "respond_liq(t, hkt, lkt, lmt, k_L, m_L)\n",
    "U[t, find(hkt)] - m_L(t)\n",
    "m_L(T-1)\n"
   ]
  },
  {
   "cell_type": "code",
   "execution_count": 33,
   "metadata": {},
   "outputs": [
    {
     "data": {
      "text/plain": [
       "0.025999999999995936"
      ]
     },
     "execution_count": 33,
     "metadata": {},
     "output_type": "execute_result"
    }
   ],
   "source": [
    "#payoff esperado de responder\n",
    "def respond(t, hkt, lkt, lmt, Pmt_array, k_W, k_L, m_L):\n",
    "    \n",
    "    payoff_rreorg, probm_liq = respond_reorg(t, hkt, lkt, lmt, Pmt_array, k_W)\n",
    "    \n",
    "    return payoff_rreorg + probm_liq * respond_liq(t, hkt, lkt, lmt, k_L, m_L)\n",
    "    \n",
    "t, hkt, lkt, lmt, k_L, m_L, Pmt_array, k_W = T-1, 0.5, 0.5, 0.5, s_L, j_L, Pst_array, j_W\n",
    "\n",
    "respond(t, hkt, lkt, lmt, Pmt_array, k_W, k_L, m_L)\n"
   ]
  },
  {
   "cell_type": "code",
   "execution_count": 34,
   "metadata": {},
   "outputs": [],
   "source": [
    "#funções de s baseado nas funções genéricas\n",
    "\n",
    "\n",
    "#Pkt(t, hkt, lmt, k_W, m_W, k_L)\n",
    "def Pst(t, θst, ℓjt):\n",
    "    return Pkt(t, θst, ℓjt, s_W, j_W, s_L)\n",
    "\n",
    "#propose(t, hkt, lkt, lmt, Pkt_array)\n",
    "def s_propose(t, θst, ℓst, ℓjt):\n",
    "    return propose(t, θst, ℓst, ℓjt, Pst_array)\n",
    "\n",
    "#threshold_m(t, lkt, lmt, Pmt_array)\n",
    "def threshold_j(t, ℓst, ℓjt):\n",
    "    return threshold_m(t, ℓst, ℓjt, Pjt_array)\n",
    "\n",
    "#respond_reorg(t, hkt, lkt, lmt, Pmt_array, k_W)\n",
    "def s_respond_reorg(t, θst, ℓst, ℓjt):\n",
    "    return respond_reorg(t, θst, ℓst, ℓjt, Pjt_array, s_W)\n",
    "\n",
    "#respond_liq(t, hkt, lkt, lmt, k_L, m_L)\n",
    "def s_respond_liq(t, θst, ℓst, ℓjt):\n",
    "    return respond_liq(t, θst, ℓst, ℓjt, s_L, j_L)\n",
    "    \n",
    "#respond(t, hkt, lkt, lmt, Pmt_array, k_W, k_L, m_L) \n",
    "def s_respond(t, θst, ℓst, ℓjt):\n",
    "    return respond(t, θst, ℓst, ℓjt, Pjt_array, s_W, s_L, j_L)"
   ]
  },
  {
   "cell_type": "code",
   "execution_count": 35,
   "metadata": {},
   "outputs": [],
   "source": [
    "#funções de j baseado nas funções genéricas\n",
    "def Pjt(t, θjt, ℓst):\n",
    "    return Pkt(t, θjt, ℓst, j_W, s_W, j_L)\n",
    "\n",
    "def j_propose(t, θjt, ℓjt, ℓst):\n",
    "    return propose(t, θjt, ℓjt, ℓst, Pjt_array)\n",
    "\n",
    "def threshold_s(t, ℓjt, ℓst):\n",
    "    return threshold_m(t, ℓjt, ℓst, Pst_array)\n",
    "\n",
    "def j_respond_reorg(t, θjt, ℓjt, ℓst):\n",
    "    return respond_reorg(t, θjt, ℓjt, ℓst, Pst_array, j_W)\n",
    "\n",
    "def j_respond_liq(t, θjt, ℓjt, ℓst):\n",
    "    return respond_liq(t, θjt, ℓjt, ℓst, j_L, s_L)\n",
    "    \n",
    "def j_respond(t, θjt, ℓjt, ℓst):\n",
    "    return respond(t, θjt, ℓjt, ℓst, Pst_array, j_W, j_L, s_L)"
   ]
  },
  {
   "cell_type": "markdown",
   "metadata": {},
   "source": [
    "### Populando as matrizes do jogo"
   ]
  },
  {
   "cell_type": "markdown",
   "metadata": {},
   "source": [
    "##### 1,2,3 Testando"
   ]
  },
  {
   "cell_type": "code",
   "execution_count": 36,
   "metadata": {},
   "outputs": [
    {
     "name": "stdout",
     "output_type": "stream",
     "text": [
      "tempo total para popular o período 12 : 17.78125\n"
     ]
    }
   ],
   "source": [
    "t = (T-1)\n",
    "\n",
    "\n",
    "start = time.process_time()\n",
    "\n",
    "#populando as matrizes para continuar os testes\n",
    "\n",
    "for h in hvals:\n",
    "    for l in hvals:\n",
    "            Pst_array[t, find(h), find(l), :] = Pst(t, h, l)\n",
    "            Pjt_array[t, find(h), find(l), :] = Pjt(t, h, l)\n",
    "            \n",
    "\n",
    "duração = time.process_time() - start\n",
    "\n",
    "\n",
    "\n",
    "print(\"tempo total para popular o período\", t, \":\",time.process_time() - start)"
   ]
  },
  {
   "cell_type": "code",
   "execution_count": 37,
   "metadata": {},
   "outputs": [],
   "source": [
    "#testando funções\n",
    "t, hkt, lkt, lmt = T-1, 0.6, 0.4, 0.5\n",
    "\n"
   ]
  },
  {
   "cell_type": "code",
   "execution_count": 38,
   "metadata": {},
   "outputs": [
    {
     "data": {
      "text/plain": [
       "(0.026000000000000023, 0.0)"
      ]
     },
     "execution_count": 38,
     "metadata": {},
     "output_type": "execute_result"
    },
    {
     "data": {
      "text/plain": [
       "(0.92, 0.9999999732319104)"
      ]
     },
     "execution_count": 38,
     "metadata": {},
     "output_type": "execute_result"
    },
    {
     "data": {
      "text/plain": [
       "(array([91, 92, 93, 94, 95, 96, 97, 98, 99], dtype=int64),)"
      ]
     },
     "execution_count": 38,
     "metadata": {},
     "output_type": "execute_result"
    },
    {
     "name": "stdout",
     "output_type": "stream",
     "text": [
      "respond_reorg\n"
     ]
    },
    {
     "data": {
      "text/plain": [
       "(2.944489859713076e-10, 0.9999999732319104)"
      ]
     },
     "execution_count": 38,
     "metadata": {},
     "output_type": "execute_result"
    },
    {
     "data": {
      "text/plain": [
       "0.026000000000000023"
      ]
     },
     "execution_count": 38,
     "metadata": {},
     "output_type": "execute_result"
    },
    {
     "data": {
      "text/plain": [
       "0.026000000000000023"
      ]
     },
     "execution_count": 38,
     "metadata": {},
     "output_type": "execute_result"
    },
    {
     "data": {
      "text/plain": [
       "0.02599999959847868"
      ]
     },
     "execution_count": 38,
     "metadata": {},
     "output_type": "execute_result"
    },
    {
     "data": {
      "text/plain": [
       "True"
      ]
     },
     "execution_count": 38,
     "metadata": {},
     "output_type": "execute_result"
    }
   ],
   "source": [
    "s_propose(t, hkt, lkt, lmt)\n",
    "\n",
    "\n",
    "threshold_j(t, ℓkt, ℓmt)\n",
    "np.where(Pjt_array[t, :, find(lkt), -1] != 0)\n",
    "#ok\n",
    "print('respond_reorg')\n",
    "s_respond_reorg(t, hkt, lkt, lmt)\n",
    "\n",
    "#ok, e nesse caso s prefere liquidar a firma mesmo\n",
    "s_respond_liq(t, hkt, lkt, lmt)\n",
    "s_L(t)\n",
    "\n",
    "\n",
    "#ok\n",
    "s_respond(t, hkt, lkt, lmt)\n",
    "\n",
    "\n",
    "#teste\n",
    "\n",
    "s_respond(t, hkt, lkt, lmt) == s_respond_reorg(t, hkt, lkt, lmt)[0] + s_respond_reorg(t, hkt, lkt, lmt)[1] * s_respond_liq(t, hkt, lkt, lmt)"
   ]
  },
  {
   "cell_type": "code",
   "execution_count": 39,
   "metadata": {},
   "outputs": [
    {
     "data": {
      "text/plain": [
       "(0.0, 0.0)"
      ]
     },
     "execution_count": 39,
     "metadata": {},
     "output_type": "execute_result"
    },
    {
     "data": {
      "text/plain": [
       "(0.98, 0.9999999999998428)"
      ]
     },
     "execution_count": 39,
     "metadata": {},
     "output_type": "execute_result"
    },
    {
     "data": {
      "text/plain": [
       "(array([97, 98, 99], dtype=int64),)"
      ]
     },
     "execution_count": 39,
     "metadata": {},
     "output_type": "execute_result"
    },
    {
     "name": "stdout",
     "output_type": "stream",
     "text": [
      "respond_reorg\n"
     ]
    },
    {
     "data": {
      "text/plain": [
       "(0.0, 0.9999999999998428)"
      ]
     },
     "execution_count": 39,
     "metadata": {},
     "output_type": "execute_result"
    },
    {
     "data": {
      "text/plain": [
       "0.0"
      ]
     },
     "execution_count": 39,
     "metadata": {},
     "output_type": "execute_result"
    },
    {
     "data": {
      "text/plain": [
       "0.0"
      ]
     },
     "execution_count": 39,
     "metadata": {},
     "output_type": "execute_result"
    },
    {
     "data": {
      "text/plain": [
       "0.0"
      ]
     },
     "execution_count": 39,
     "metadata": {},
     "output_type": "execute_result"
    },
    {
     "data": {
      "text/plain": [
       "True"
      ]
     },
     "execution_count": 39,
     "metadata": {},
     "output_type": "execute_result"
    }
   ],
   "source": [
    "j_propose(t, hkt, lkt, lmt)\n",
    "\n",
    "\n",
    "#o threshold de ambos é para dar igual mesmo?\n",
    "threshold_s(t, ℓkt, ℓmt)\n",
    "np.where(Pst_array[t, :, find(lkt), -1] != 0)\n",
    "#ok\n",
    "print('respond_reorg')\n",
    "j_respond_reorg(t, hkt, lkt, lmt)\n",
    "\n",
    "#ok, e nesse caso s prefere liquidar a firma mesmo\n",
    "j_respond_liq(t, hkt, lkt, lmt)\n",
    "j_L(t)\n",
    "\n",
    "\n",
    "#ok\n",
    "j_respond(t, hkt, lkt, lmt)\n",
    "\n",
    "#teste\n",
    "\n",
    "j_respond(t, hkt, lkt, lmt) == j_respond_reorg(t, hkt, lkt, lmt)[0] + j_respond_reorg(t, hkt, lkt, lmt)[1] * j_respond_liq(t, hkt, lkt, lmt)"
   ]
  },
  {
   "cell_type": "markdown",
   "metadata": {},
   "source": [
    "#### Populando todos os períodos"
   ]
  },
  {
   "cell_type": "code",
   "execution_count": 40,
   "metadata": {
    "scrolled": true
   },
   "outputs": [
    {
     "name": "stdout",
     "output_type": "stream",
     "text": [
      "tempo total para preparar o terreno do período 12 : 18.140625\n",
      "tempo total para popular o período 12 : 230.375\n",
      "tempo total para preparar o terreno do período 11 : 19.46875\n",
      "tempo total para popular o período 11 : 319.53125\n",
      "tempo total para preparar o terreno do período 10 : 21.359375\n",
      "tempo total para popular o período 10 : 319.0\n",
      "tempo total para preparar o terreno do período 9 : 26.78125\n",
      "tempo total para popular o período 9 : 306.609375\n",
      "tempo total para preparar o terreno do período 8 : 19.734375\n",
      "tempo total para popular o período 8 : 275.796875\n",
      "tempo total para preparar o terreno do período 7 : 20.671875\n",
      "tempo total para popular o período 7 : 284.796875\n",
      "tempo total para preparar o terreno do período 6 : 19.578125\n",
      "tempo total para popular o período 6 : 285.703125\n",
      "tempo total para preparar o terreno do período 5 : 18.203125\n",
      "tempo total para popular o período 5 : 296.390625\n",
      "tempo total para preparar o terreno do período 4 : 22.65625\n",
      "tempo total para popular o período 4 : 299.609375\n",
      "tempo total para preparar o terreno do período 3 : 19.640625\n",
      "tempo total para popular o período 3 : 293.15625\n",
      "tempo total para preparar o terreno do período 2 : 19.875\n",
      "tempo total para popular o período 2 : 275.875\n",
      "tempo total para preparar o terreno do período 1 : 18.71875\n",
      "tempo total para popular o período 1 : 271.71875\n",
      "tempo total para preparar o terreno do período 0 : 18.53125\n",
      "tempo total para popular o período 0 : 265.84375\n"
     ]
    }
   ],
   "source": [
    "tempo_total = []\n",
    "\n",
    "#range de t= T-1 até t = 0\n",
    "for t in range(T-1, -1, -1):\n",
    "\n",
    "    start = time.process_time()\n",
    "\n",
    "    #populando as matrizes para continuar os testes\n",
    "\n",
    "    for h in hvals:\n",
    "        for l in hvals:\n",
    "                Pst_array[t, find(h), find(l), :] = Pst(t, h, l)\n",
    "                Pjt_array[t, find(h), find(l), :] = Pjt(t, h, l)\n",
    "    print(\"tempo total para preparar o terreno do período\", t, \":\", time.process_time() - start)\n",
    "    \n",
    "    \n",
    "    for hk in hvals:\n",
    "        for lk in hvals: \n",
    "            for lm in hvals:\n",
    "                s_W[t, find(hk), find(lk), find(lm)] = λj * s_respond(t, hk, lk, lm) + (1-λj) * s_propose(t, hk, lk, lm)[0]\n",
    "                j_W[t, find(hk), find(lk), find(lm)] = λj * j_propose(t, hk, lk, lm)[0] + (1-λj) * j_respond(t, hk, lk, lm)\n",
    "                \n",
    "\n",
    "    duração = time.process_time() - start\n",
    "    tempo_total.append(duração)\n",
    "\n",
    "\n",
    "\n",
    "    print(\"tempo total para popular o período\", t, \":\",time.process_time() - start)"
   ]
  },
  {
   "cell_type": "code",
   "execution_count": 41,
   "metadata": {},
   "outputs": [
    {
     "data": {
      "text/plain": [
       "62.0734375"
      ]
     },
     "execution_count": 41,
     "metadata": {},
     "output_type": "execute_result"
    }
   ],
   "source": [
    "#duração em minutos, fora o período 0\n",
    "sum(tempo_total)/60"
   ]
  },
  {
   "cell_type": "markdown",
   "metadata": {},
   "source": [
    "Salvando os dados"
   ]
  },
  {
   "cell_type": "code",
   "execution_count": 51,
   "metadata": {},
   "outputs": [],
   "source": [
    "import os.path\n",
    "# salvei como dia 02_12 essa versão\n",
    "#salvei como 01_12_3 a versão com valor e habilidade amanha\n",
    "date = '02_12_today' \n",
    "\n",
    "np.save(os.path.join('Ws_array_'+date), s_W)\n",
    "np.save(os.path.join('Wj_array_'+date), j_W)\n",
    "np.save(os.path.join('Pst_array_'+date), Pst_array)\n",
    "np.save(os.path.join('Pjt_array_'+date), Pjt_array)\n"
   ]
  },
  {
   "cell_type": "markdown",
   "metadata": {},
   "source": [
    "Carregando os dados"
   ]
  },
  {
   "cell_type": "markdown",
   "metadata": {},
   "source": [
    "\n",
    "import os.path\n",
    "date = '16_11'\n",
    "\n",
    "s_W = np.load(os.path.join('Ws_array_'+date+'.npy'))\n",
    "j_W = np.load(os.path.join('Wj_array_'+date+'.npy'))\n",
    "Pst_array = np.load(os.path.join('Pst_array_'+date+'.npy'))\n",
    "Pjt_array = np.load(os.path.join('Pjt_array_'+date+'.npy'))\n"
   ]
  },
  {
   "cell_type": "markdown",
   "metadata": {},
   "source": [
    "### Gráfico das funções"
   ]
  },
  {
   "cell_type": "markdown",
   "metadata": {},
   "source": [
    "Gráfico das funções propose e respond"
   ]
  },
  {
   "cell_type": "code",
   "execution_count": 43,
   "metadata": {},
   "outputs": [],
   "source": [
    "from itertools import product\n",
    "\n",
    "def graf_multi_func(θ_vector, t, creditor,  function, ℓkt, ℓmt, cut):\n",
    "    \n",
    "    \n",
    "    \"\"\"\n",
    "    Add series plot to the axes ax for all given parameters.\n",
    "    \"\"\"\n",
    "    \n",
    "    #cut is to cut the axis\n",
    "    \n",
    "    \n",
    "#     graf_vals = np.empty(len(θ_vector))\n",
    "\n",
    "    graf_vals = []\n",
    "    for θt in θ_vector[find(cut):]:\n",
    "        function_val = function(t, θt, ℓkt, ℓmt)\n",
    "        \n",
    "        #for when we use the propose method, which returns a vector\n",
    "        if(np.isscalar(function_val) == False):\n",
    "            function_val = function_val[0]\n",
    "            \n",
    "\n",
    "        graf_vals.append(function_val)\n",
    "    \n",
    "#     ax.plot(θ_vector, graf_vals, '-k', linewidth = 3, alpha = 0.8)\n",
    "    ax.plot(θ_vector[find(cut):], graf_vals, linewidth = 2, linestyle = '-', label = rf'$ℓkt = {ℓkt}; \\;ℓmt = {ℓmt}$')\n",
    "    \n",
    "    \n",
    "\n",
    "    plt.xlabel(\"θt\")\n",
    "    plt.ylabel(\"Value of the function\")\n",
    "\n",
    "\n",
    "    #achei melhor no upper right\n",
    "    ax.legend(loc = 'upper center')\n",
    "\n",
    "# fig, ax = plt.subplots()\n",
    "\n",
    "\n",
    "# #uso cut = ao maior lkt, assim não temos θkt acima de ℓkt\n",
    "# lkt1 = 0.5\n",
    "# lkt2 = 0.5\n",
    "# cut = max(lkt1, lkt2)\n",
    "# t = 0\n",
    "\n",
    "# graf_multi_func(hvals, t, 's', s_respond, ℓkt = lkt1, ℓmt = 0.5, cut = cut)\n",
    "# graf_multi_func(hvals, t, 's', s_respond, ℓkt = lkt2, ℓmt = 0.9, cut = cut)\n",
    "\n",
    "# plt.show()\n",
    "\n",
    "# fig.savefig('teste', dpi=400, bbox_inches=\"tight\")"
   ]
  },
  {
   "cell_type": "markdown",
   "metadata": {},
   "source": [
    "Gráfico da função k_propose"
   ]
  },
  {
   "cell_type": "code",
   "execution_count": 44,
   "metadata": {},
   "outputs": [
    {
     "data": {
      "image/png": "[encoded data removed]",
      "text/plain": [
       "<Figure size 432x288 with 1 Axes>"
      ]
     },
     "metadata": {
      "needs_background": "light"
     },
     "output_type": "display_data"
    }
   ],
   "source": [
    "#s_propose\n",
    "#variando lkt\n",
    "fig, ax = plt.subplots()\n",
    "\n",
    "\n",
    "#uso cut = ao maior lkt, assim não temos θkt acima de ℓkt\n",
    "lkt1 = 0.5\n",
    "lkt2 = 0.9\n",
    "cut = max(lkt1, lkt2)\n",
    "t = 0\n",
    "\n",
    "graf_multi_func(hvals, t, 's', s_propose, ℓkt = lkt1, ℓmt = 0.5, cut = cut)\n",
    "graf_multi_func(hvals, t, 's', s_propose, ℓkt = lkt2, ℓmt = 0.5, cut = cut)\n",
    "\n",
    "plt.show()\n",
    "\n",
    "fig.savefig('fig1', dpi=400, bbox_inches=\"tight\")\n"
   ]
  },
  {
   "cell_type": "code",
   "execution_count": 45,
   "metadata": {
    "scrolled": true
   },
   "outputs": [
    {
     "data": {
      "image/png": "[encoded data removed]",
      "text/plain": [
       "<Figure size 432x288 with 1 Axes>"
      ]
     },
     "metadata": {
      "needs_background": "light"
     },
     "output_type": "display_data"
    }
   ],
   "source": [
    "#s_propose\n",
    "#variando lmt\n",
    "fig, ax = plt.subplots()\n",
    "\n",
    "\n",
    "#uso cut = ao maior lkt, assim não temos θkt acima de ℓkt\n",
    "lkt1 = 0.5\n",
    "lkt2 = 0.5\n",
    "cut = max(lkt1, lkt2)\n",
    "t = 0\n",
    "\n",
    "graf_multi_func(hvals, t, 's', s_propose, ℓkt = lkt1, ℓmt = 0.5, cut = cut)\n",
    "graf_multi_func(hvals, t, 's', s_propose, ℓkt = lkt2, ℓmt = 0.9, cut = cut)\n",
    "\n",
    "plt.show()\n",
    "\n",
    "fig.savefig('fig2', dpi=400, bbox_inches=\"tight\")"
   ]
  },
  {
   "cell_type": "markdown",
   "metadata": {},
   "source": [
    "Gráficos da função s_respond"
   ]
  },
  {
   "cell_type": "code",
   "execution_count": 46,
   "metadata": {},
   "outputs": [
    {
     "data": {
      "image/png": "[encoded data removed]",
      "text/plain": [
       "<Figure size 432x288 with 1 Axes>"
      ]
     },
     "metadata": {
      "needs_background": "light"
     },
     "output_type": "display_data"
    }
   ],
   "source": [
    "#s_respond\n",
    "#variando lkt\n",
    "fig, ax = plt.subplots()\n",
    "\n",
    "\n",
    "#uso cut = ao maior lkt, assim não temos θkt acima de ℓkt\n",
    "lkt1 = 0.3\n",
    "lkt2 = 0.7\n",
    "cut = max(lkt1, lkt2)\n",
    "t = 0\n",
    "\n",
    "graf_multi_func(hvals, t, 's', s_respond, ℓkt = lkt1, ℓmt = 0.8, cut = cut)\n",
    "graf_multi_func(hvals, t, 's', s_respond, ℓkt = lkt2, ℓmt = 0.8, cut = cut)\n",
    "\n",
    "plt.show()\n",
    "\n",
    "fig.savefig('fig3', dpi=400, bbox_inches=\"tight\")"
   ]
  },
  {
   "cell_type": "code",
   "execution_count": 47,
   "metadata": {},
   "outputs": [
    {
     "data": {
      "image/png": "[encoded data removed]",
      "text/plain": [
       "<Figure size 432x288 with 1 Axes>"
      ]
     },
     "metadata": {
      "needs_background": "light"
     },
     "output_type": "display_data"
    }
   ],
   "source": [
    "#s_respond\n",
    "#variando lmt\n",
    "fig, ax = plt.subplots()\n",
    "\n",
    "\n",
    "#uso cut = ao maior lkt, assim não temos θkt acima de ℓkt\n",
    "lkt1 = 0.5\n",
    "lkt2 = 0.5\n",
    "cut = max(lkt1, lkt2)\n",
    "t = 0\n",
    "\n",
    "graf_multi_func(hvals, t, 's', s_respond, ℓkt = lkt1, ℓmt = 0.5, cut = cut)\n",
    "graf_multi_func(hvals, t, 's', s_respond, ℓkt = lkt2, ℓmt = 0.9, cut = cut)\n",
    "\n",
    "plt.show()\n",
    "\n",
    "fig.savefig('fig4', dpi=400, bbox_inches=\"tight\")"
   ]
  },
  {
   "cell_type": "markdown",
   "metadata": {},
   "source": [
    "Gráfico do valor de continuação"
   ]
  },
  {
   "cell_type": "code",
   "execution_count": 48,
   "metadata": {},
   "outputs": [
    {
     "data": {
      "image/png": "[encoded data removed]",
      "text/plain": [
       "<Figure size 432x288 with 1 Axes>"
      ]
     },
     "metadata": {
      "needs_background": "light"
     },
     "output_type": "display_data"
    }
   ],
   "source": [
    "def graf_func_value(creditor, k_array, ℓkt, ℓmt, t):\n",
    "    #t starts at t=1\n",
    "    \n",
    "    #size of X axis\n",
    "    X = hvals\n",
    "\n",
    "\n",
    "    #storing the function vals in t\n",
    "    graf_vals = k_array[t, :, find(ℓkt), find(ℓmt)]\n",
    "\n",
    "    ax.plot(X, graf_vals, linewidth = 2, linestyle = '-', alpha = 0.8, label = rf'$ℓkt = {ℓkt}; \\;ℓmt = {ℓmt}; \\; {creditor}$')\n",
    "    \n",
    "#     name = str(k_array)\n",
    "#     title_val = print(name, 'ℓkt = ', ℓkt, 'ℓmt = ', ℓmt, 'period = ', t)\n",
    "\n",
    "\n",
    "    # ax.yaxis.tick_right()\n",
    "    # ax.yaxis.set_ticks_position('both')\n",
    "\n",
    "    #para mostrar ticks dos dois lados do eixo y\n",
    "\n",
    "\n",
    "\n",
    "    plt.xlabel(\"θt\")\n",
    "    plt.ylabel(\"Value of the function\")\n",
    "\n",
    "\n",
    "    #achei melhor no upper right\n",
    "    ax.legend(loc = 'upper left')\n",
    "\n",
    "    \n",
    "fig, ax = plt.subplots()\n",
    "\n",
    "t = 0\n",
    "graf_func_value('S',s_W, ℓkt = 0.01, ℓmt = 0.01, t = t)\n",
    "\n",
    "graf_func_value('J',j_W, ℓkt = 0.01, ℓmt = 0.01, t = t)\n",
    "\n",
    "plt.show()\n",
    "fig.savefig('fig5', dpi=400, bbox_inches=\"tight\")"
   ]
  },
  {
   "cell_type": "markdown",
   "metadata": {},
   "source": [
    "Gráfico das propostas ótimas"
   ]
  },
  {
   "cell_type": "code",
   "execution_count": 49,
   "metadata": {},
   "outputs": [],
   "source": [
    "\n",
    "def graf_proposal(function, function_name, t, xlabel, ylabel):\n",
    "    \n",
    "\n",
    "    grid_graf = len(hvals)\n",
    "\n",
    "    graf = np.empty((grid_graf, grid_graf))\n",
    "\n",
    "    for i, θs in enumerate(hvals):\n",
    "        for j, lj in enumerate(hvals):\n",
    "            graf[i,j] = function(t, θs, θs, lj)[1]\n",
    "\n",
    "\n",
    "    fig, ax = plt.subplots()\n",
    "\n",
    "    cs1 = ax.contourf(hvals, hvals, graf.T, alpha=0.75)\n",
    "    # ctr1 = ax.contour(hvals, lj_vals, graf1.T)\n",
    "    # plt.clabel(ctr1, inline=1, fontsize=13)\n",
    "    plt.colorbar(cs1, ax = ax)\n",
    "\n",
    "    ax.set_title('Function ' + function_name +   ' in period ' + str(t) )\n",
    "    ax.set_xlabel(xlabel, fontsize=16)\n",
    "    ax.set_ylabel(ylabel, fontsize=16)\n",
    "\n",
    "    ax.ticklabel_format(useOffset=False)\n",
    "\n",
    "\n",
    "    plt.show()"
   ]
  },
  {
   "cell_type": "code",
   "execution_count": 50,
   "metadata": {},
   "outputs": [
    {
     "data": {
      "image/png": "[encoded data removed]",
      "text/plain": [
       "<Figure size 432x288 with 2 Axes>"
      ]
     },
     "metadata": {
      "needs_background": "light"
     },
     "output_type": "display_data"
    },
    {
     "data": {
      "image/png": "[encoded data removed]",
      "text/plain": [
       "<Figure size 432x288 with 2 Axes>"
      ]
     },
     "metadata": {
      "needs_background": "light"
     },
     "output_type": "display_data"
    },
    {
     "data": {
      "image/png": "[encoded data removed]",
      "text/plain": [
       "<Figure size 432x288 with 2 Axes>"
      ]
     },
     "metadata": {
      "needs_background": "light"
     },
     "output_type": "display_data"
    },
    {
     "data": {
      "image/png": "[encoded data removed]",
      "text/plain": [
       "<Figure size 432x288 with 2 Axes>"
      ]
     },
     "metadata": {
      "needs_background": "light"
     },
     "output_type": "display_data"
    }
   ],
   "source": [
    "graf_proposal(s_propose,'s.propose', 0, 'θs', 'ℓj')\n",
    "graf_proposal(s_propose,'s.propose', 2, 'θs', 'ℓj')\n",
    "\n",
    "graf_proposal(j_propose, 'j.propose', 0, 'θj', 'ℓs')\n",
    "graf_proposal(j_propose, 'j.propose', 2, 'θj', 'ℓs')"
   ]
  },
  {
   "cell_type": "markdown",
   "metadata": {},
   "source": [
    "#### Checando função propose nos locais onde ela está estranha"
   ]
  },
  {
   "cell_type": "code",
   "execution_count": null,
   "metadata": {},
   "outputs": [],
   "source": [
    "def check_proposal(t, fixed_param, fixed_val, low, high, Pkt):\n",
    "    #fixed parameter = lm or hk\n",
    "    \n",
    "    if(fixed_param == 'hk'):\n",
    "        for i in range(find(low), find(high)):\n",
    "            print(Pkt(t, fixed_val, hvals[i]), i)\n",
    "        \n",
    "        \n",
    "    else:\n",
    "        for i in range(find(low), find(high)):\n",
    "            print(Pkt(t, hvals[i], fixed_val ), i)\n",
    "    \n",
    "    \n",
    "#test\n",
    "check_proposal(2, 'lm', 0.8, 0.4, 0.5, Pjt)"
   ]
  },
  {
   "cell_type": "markdown",
   "metadata": {},
   "source": [
    "1) Valores de J em t = 2\n",
    "\n",
    "lmt varia de 0.01 a 0.4, enquanto hk = 0.2\n",
    "\n",
    "Conclusão: diferença na quarta casa decimal faz a proposta ficar estranha."
   ]
  },
  {
   "cell_type": "code",
   "execution_count": null,
   "metadata": {},
   "outputs": [],
   "source": [
    "s_W[2, 9, 8, find(0.1)]"
   ]
  },
  {
   "cell_type": "code",
   "execution_count": null,
   "metadata": {},
   "outputs": [],
   "source": [
    "check_proposal(2, 'hk', 0.1, 0.01, 0.4, Pjt)"
   ]
  }
 ],
 "metadata": {
  "kernelspec": {
   "display_name": "Python 3",
   "language": "python",
   "name": "python3"
  },
  "language_info": {
   "codemirror_mode": {
    "name": "ipython",
    "version": 3
   },
   "file_extension": ".py",
   "mimetype": "text/x-python",
   "name": "python",
   "nbconvert_exporter": "python",
   "pygments_lexer": "ipython3",
   "version": "3.7.6"
  }
 },
 "nbformat": 4,
 "nbformat_minor": 4
}
