{
 "cells": [
  {
   "cell_type": "markdown",
   "metadata": {},
   "source": [
    "## Equações de Bellman dos jogadores para o modelo de Dou et al (2019)"
   ]
  },
  {
   "cell_type": "code",
   "execution_count": 1,
   "metadata": {},
   "outputs": [],
   "source": [
    "#para mostrar todos os resultados e não apenas o último\n",
    "from IPython.core.interactiveshell import InteractiveShell\n",
    "\n",
    "InteractiveShell.ast_node_interactivity = \"all\""
   ]
  },
  {
   "cell_type": "code",
   "execution_count": 2,
   "metadata": {},
   "outputs": [],
   "source": [
    "import numpy as np\n",
    "import matplotlib as mpl\n",
    "import matplotlib.pyplot as plt\n",
    "import numba as nb\n",
    "from numba import jit, njit, jitclass, prange, float64, int32\n",
    "%matplotlib inline\n",
    "\n",
    "\n",
    "import time"
   ]
  },
  {
   "cell_type": "markdown",
   "metadata": {},
   "source": [
    "### Parâmetros do jogo"
   ]
  },
  {
   "cell_type": "code",
   "execution_count": 43,
   "metadata": {},
   "outputs": [],
   "source": [
    "μ = 4.566 #número de meses entre períodos, traduz a quantidade de períodos t em quantidade de meses\n",
    "# ρ = 0.884 # (1 - ρ) é a taxa de depreciação da empresa a cada período\n",
    "ρ = 0.5 #testando nova taxa de depreciação\n",
    "β = 9.84 #usamos aqui a distribuição Uniforme, depois vamos mudar isto\n",
    "c0 = 0.044 #custo fixo de ir para a corte\n",
    "c1 = 0.015 #custo variável de ir para a corte\n",
    "\n",
    "\n",
    "hs0 = 0.28 #habilidade inicial de s\n",
    "hj0 = 0.36 #habilidade inicial de j\n",
    "\n",
    "λj = 0.346\n",
    "\n"
   ]
  },
  {
   "cell_type": "markdown",
   "metadata": {},
   "source": [
    "Valores que virão dos dados"
   ]
  },
  {
   "cell_type": "code",
   "execution_count": 44,
   "metadata": {},
   "outputs": [],
   "source": [
    "Vmax = float64(1.0) #valor máximo de reorganização da firma\n",
    "L = float64(0.25) #valor inicial de liquidação da firma\n",
    "Ds = float64(0.28) #valor da dívida com credor sênior\n",
    "Dj = float64(0.35) #valor da dívida com credor júnior\n",
    "\n",
    "D = Ds + Dj #valor total da dívida, usada para escalar custos, por exemplo\n"
   ]
  },
  {
   "cell_type": "markdown",
   "metadata": {},
   "source": [
    "Definições iniciais: custo, valores de liquidação, valor máximo de reorganização da firma a cada período, número de rounds"
   ]
  },
  {
   "cell_type": "code",
   "execution_count": 45,
   "metadata": {},
   "outputs": [
    {
     "data": {
      "text/plain": [
       "0"
      ]
     },
     "execution_count": 45,
     "metadata": {},
     "output_type": "execute_result"
    },
    {
     "data": {
      "text/plain": [
       "0.037169999999999995"
      ]
     },
     "execution_count": 45,
     "metadata": {},
     "output_type": "execute_result"
    }
   ],
   "source": [
    "#função custo\n",
    "def Ct(t):\n",
    "    if(t == 0):\n",
    "        return 0\n",
    "    else:\n",
    "        return c0 * D + c1 * t * D\n",
    "    \n",
    "#test\n",
    "Ct(0)    \n",
    "Ct(1)\n"
   ]
  },
  {
   "cell_type": "code",
   "execution_count": 46,
   "metadata": {},
   "outputs": [
    {
     "data": {
      "text/plain": [
       "3"
      ]
     },
     "execution_count": 46,
     "metadata": {},
     "output_type": "execute_result"
    }
   ],
   "source": [
    "#number of periods\n",
    "def max_turns(Vmax, L, ρ):\n",
    "    t = 0\n",
    "    \n",
    "    while(ρ**(t-1) * Vmax - Ct(t) > L - Ct(t)):\n",
    "        t += 1\n",
    "    return t\n",
    "#     T = (np.log(L) - np.log(Vmax))/np.log(ρ) + 1\n",
    "    \n",
    "#     return int32(T)\n",
    "\n",
    "T = max_turns(Vmax, L, ρ)\n",
    "T\n",
    "\n",
    "\n",
    "#array com custos em cada período\n",
    "C = np.empty(T)\n",
    "\n",
    "for t in range(T):\n",
    "    C[t] = Ct(t)"
   ]
  },
  {
   "cell_type": "code",
   "execution_count": 47,
   "metadata": {},
   "outputs": [
    {
     "data": {
      "text/plain": [
       "array([1.     , 0.96283, 0.45338])"
      ]
     },
     "execution_count": 47,
     "metadata": {},
     "output_type": "execute_result"
    }
   ],
   "source": [
    "#value of the firm in each period\n",
    "\n",
    "def Vt(Vmax, Tmax, ρ):\n",
    "    \n",
    "    V = np.empty(Tmax)\n",
    "    \n",
    "    V[0] = Vmax\n",
    "    \n",
    "    for t in range(1, Tmax):\n",
    "        V[t] = Vmax * ρ**(t-1) - Ct(t)\n",
    "        \n",
    "    return V\n",
    "\n",
    "V = Vt(Vmax, T, ρ)\n",
    "V\n",
    "    \n",
    "        \n",
    "        \n",
    "    "
   ]
  },
  {
   "cell_type": "code",
   "execution_count": 48,
   "metadata": {},
   "outputs": [
    {
     "data": {
      "text/plain": [
       "0.21283000000000002"
      ]
     },
     "execution_count": 48,
     "metadata": {},
     "output_type": "execute_result"
    },
    {
     "data": {
      "text/plain": [
       "0.0"
      ]
     },
     "execution_count": 48,
     "metadata": {},
     "output_type": "execute_result"
    }
   ],
   "source": [
    "#valores de liquidação\n",
    "\n",
    "def s_L(t):\n",
    "    \n",
    "    return np.minimum(L - Ct(t), Ds)\n",
    "\n",
    "s_L(1)\n",
    "\n",
    "def j_L(t):\n",
    "    \n",
    "    return np.minimum(L - Ct(t) - s_L(t), Dj)\n",
    "    \n",
    "j_L(0)"
   ]
  },
  {
   "cell_type": "markdown",
   "metadata": {},
   "source": [
    "Habilidades possíveis dos jogadores e funções de massa de probabilidade"
   ]
  },
  {
   "cell_type": "code",
   "execution_count": 49,
   "metadata": {},
   "outputs": [
    {
     "data": {
      "text/plain": [
       "array([0.01, 0.02, 0.03, 0.04, 0.05, 0.06, 0.07, 0.08, 0.09, 0.1 , 0.11,\n",
       "       0.12, 0.13, 0.14, 0.15, 0.16, 0.17, 0.18, 0.19, 0.2 , 0.21, 0.22,\n",
       "       0.23, 0.24, 0.25, 0.26, 0.27, 0.28, 0.29, 0.3 , 0.31, 0.32, 0.33,\n",
       "       0.34, 0.35, 0.36, 0.37, 0.38, 0.39, 0.4 , 0.41, 0.42, 0.43, 0.44,\n",
       "       0.45, 0.46, 0.47, 0.48, 0.49, 0.5 , 0.51, 0.52, 0.53, 0.54, 0.55,\n",
       "       0.56, 0.57, 0.58, 0.59, 0.6 , 0.61, 0.62, 0.63, 0.64, 0.65, 0.66,\n",
       "       0.67, 0.68, 0.69, 0.7 , 0.71, 0.72, 0.73, 0.74, 0.75, 0.76, 0.77,\n",
       "       0.78, 0.79, 0.8 , 0.81, 0.82, 0.83, 0.84, 0.85, 0.86, 0.87, 0.88,\n",
       "       0.89, 0.9 , 0.91, 0.92, 0.93, 0.94, 0.95, 0.96, 0.97, 0.98, 0.99,\n",
       "       1.  ])"
      ]
     },
     "execution_count": 49,
     "metadata": {},
     "output_type": "execute_result"
    },
    {
     "data": {
      "text/plain": [
       "0.06999999999999999"
      ]
     },
     "execution_count": 49,
     "metadata": {},
     "output_type": "execute_result"
    }
   ],
   "source": [
    "#grid terá 100 espaços porque queremos duas casas decimais\n",
    "grid = 100\n",
    "\n",
    "hlow = 0.01\n",
    "hhigh = 1.0\n",
    "\n",
    "#começa no menor valor possível, vai até o maior valor possível num intervalo do tamanho do grid\n",
    "hvals = np.linspace(hlow, hhigh, grid)\n",
    "\n",
    "hvals\n",
    "hvals[6]\n"
   ]
  },
  {
   "cell_type": "code",
   "execution_count": 50,
   "metadata": {},
   "outputs": [
    {
     "data": {
      "text/plain": [
       "0"
      ]
     },
     "execution_count": 50,
     "metadata": {},
     "output_type": "execute_result"
    },
    {
     "data": {
      "text/plain": [
       "0"
      ]
     },
     "execution_count": 50,
     "metadata": {},
     "output_type": "execute_result"
    }
   ],
   "source": [
    "def cdf(x, lt):\n",
    "    \n",
    "    #return the cdf of x given the lower bound lt\n",
    "    #geq than 1 because of our discretization method \n",
    "    if(x >=1):\n",
    "        \n",
    "        return 1\n",
    "    \n",
    "    else:\n",
    "        \n",
    "        if(x >= lt):\n",
    "            return 1 - ((1-x)**β)/((1-lt)**β)\n",
    "        else:\n",
    "            return 0\n",
    "        \n",
    "#test      \n",
    "cdf(0.5, 1)\n",
    "cdf(0.5, 0.6)\n",
    "            \n",
    "            "
   ]
  },
  {
   "cell_type": "code",
   "execution_count": 51,
   "metadata": {},
   "outputs": [
    {
     "data": {
      "text/plain": [
       "1.0"
      ]
     },
     "execution_count": 51,
     "metadata": {},
     "output_type": "execute_result"
    },
    {
     "data": {
      "text/plain": [
       "array([0.00000000e+00, 9.50714921e-02, 8.68715359e-02, 7.93050594e-02,\n",
       "       7.23289373e-02, 6.59025762e-02, 5.99877902e-02, 5.45486817e-02,\n",
       "       4.95515260e-02, 4.49646617e-02, 4.07583846e-02, 3.69048463e-02,\n",
       "       3.33779574e-02, 3.01532943e-02, 2.72080096e-02, 2.45207477e-02,\n",
       "       2.20715624e-02, 1.98418391e-02, 1.78142207e-02, 1.59725357e-02,\n",
       "       1.43017309e-02, 1.27878059e-02, 1.14177520e-02, 1.01794927e-02,\n",
       "       9.06182795e-03, 8.05438073e-03, 7.14754617e-03, 6.33244339e-03,\n",
       "       5.60086965e-03, 4.94525689e-03, 4.35863042e-03, 3.83456989e-03,\n",
       "       3.36717224e-03, 2.95101667e-03, 2.58113150e-03, 2.25296294e-03,\n",
       "       1.96234547e-03, 1.70547405e-03, 1.47887786e-03, 1.27939557e-03,\n",
       "       1.10415213e-03, 9.50536945e-04, 8.16183371e-04, 6.98949522e-04,\n",
       "       5.96900277e-04, 5.08290460e-04, 4.31549118e-04, 3.65264850e-04,\n",
       "       3.08172140e-04, 2.59138625e-04, 2.17153274e-04, 1.81315403e-04,\n",
       "       1.50824504e-04, 1.24970827e-04, 1.03126681e-04, 8.47384071e-05,\n",
       "       6.93189945e-05, 5.64412845e-05, 4.57317426e-05, 3.68647543e-05,\n",
       "       2.95574131e-05, 2.35647692e-05, 1.86755076e-05, 1.47080263e-05,\n",
       "       1.15068863e-05, 8.93960677e-06, 6.89378047e-06, 5.27448393e-06,\n",
       "       4.00196052e-06, 3.00955412e-06, 2.24187273e-06, 1.65316259e-06,\n",
       "       1.20587441e-06, 8.69404295e-07, 6.18993184e-07, 4.34769460e-07,\n",
       "       3.00920484e-07, 2.04979733e-07, 1.37217131e-07, 9.01210974e-08,\n",
       "       5.79616514e-08, 3.64247980e-08, 2.23091833e-08, 1.32768020e-08,\n",
       "       7.65026875e-09, 4.24987578e-09, 2.26433816e-09, 1.14976118e-09,\n",
       "       5.51988011e-10, 2.48048915e-10, 1.02985176e-10, 3.88278298e-11,\n",
       "       1.29842803e-11, 3.72513131e-12, 8.72968364e-13, 1.54654067e-13,\n",
       "       1.83186799e-14, 1.11022302e-15, 0.00000000e+00, 0.00000000e+00])"
      ]
     },
     "execution_count": 51,
     "metadata": {},
     "output_type": "execute_result"
    },
    {
     "data": {
      "text/plain": [
       "[<matplotlib.lines.Line2D at 0x16b68bc3748>]"
      ]
     },
     "execution_count": 51,
     "metadata": {},
     "output_type": "execute_result"
    },
    {
     "data": {
      "text/plain": [
       "1.0"
      ]
     },
     "execution_count": 51,
     "metadata": {},
     "output_type": "execute_result"
    },
    {
     "data": {
      "image/png": "[encoded data removed]",
      "text/plain": [
       "<Figure size 432x288 with 1 Axes>"
      ]
     },
     "metadata": {
      "needs_background": "light"
     },
     "output_type": "display_data"
    }
   ],
   "source": [
    "def pmf_cdf(lt):\n",
    "    \n",
    "    pmf = np.empty(grid)\n",
    "    \n",
    "    for i, h in enumerate(hvals):\n",
    "        if(i == 0):\n",
    "            pmf[i] = cdf(hvals[i], lt)\n",
    "        else:\n",
    "            pmf[i] = cdf(hvals[i], lt) - cdf(hvals[i-1], lt)\n",
    "        \n",
    "    return pmf\n",
    "\n",
    "\n",
    "#test\n",
    "np.sum(pmf_cdf(0.01))\n",
    "\n",
    "pmf_cdf(0.01)\n",
    "plt.plot(pmf_cdf(0.01))\n",
    "    \n",
    "np.sum(np.round(pmf_cdf(0.01), 19))\n",
    "    "
   ]
  },
  {
   "cell_type": "code",
   "execution_count": 52,
   "metadata": {},
   "outputs": [],
   "source": [
    "#gerando as pmfs\n",
    "\n",
    "#probability mass function\n",
    "pmf = np.empty((grid,grid))\n",
    "\n",
    "\n",
    "for t, θt in enumerate(hvals):\n",
    "    pmf[t,:] = pmf_cdf(θt)\n",
    "    \n",
    "#precisamos de uma pmf para quando temos lkt e queremos saber θk,t+1\n",
    "#chamaremos de pmf2\n",
    "pmf2 = np.empty((grid, grid))\n",
    "\n",
    "for i in range(len(hvals)):\n",
    "    for j in range(len(hvals)):\n",
    "        pmf2[i, j] = np.sum(pmf[i, :] * pmf[:, j])\n"
   ]
  },
  {
   "cell_type": "markdown",
   "metadata": {},
   "source": [
    "Arrays dos valores de continuação dos jogadores"
   ]
  },
  {
   "cell_type": "code",
   "execution_count": 53,
   "metadata": {},
   "outputs": [],
   "source": [
    "#continuation values\n",
    "#period, θkt, ℓkt, ℓmt\n",
    "s_W = np.zeros((T, grid, grid, grid))\n",
    "j_W = np.copy(s_W)\n",
    "\n",
    "\n",
    "#optimal payments\n",
    "#period, θkt, ℓmt, outputs\n",
    "Pst_array = np.zeros((T, grid, grid, 6))\n",
    "Pjt_array = np.copy(Pst_array)"
   ]
  },
  {
   "cell_type": "code",
   "execution_count": 54,
   "metadata": {},
   "outputs": [],
   "source": [
    "#populating the last period with the liquidation values\n",
    "s_W[(T-1), ...] = s_L(T)\n",
    "j_W[(T-1), ...] = j_L(T)"
   ]
  },
  {
   "cell_type": "markdown",
   "metadata": {},
   "source": [
    "Funções para calcular os valores de continuação dos jogadores"
   ]
  },
  {
   "cell_type": "code",
   "execution_count": 55,
   "metadata": {},
   "outputs": [
    {
     "data": {
      "text/plain": [
       "7"
      ]
     },
     "execution_count": 55,
     "metadata": {},
     "output_type": "execute_result"
    },
    {
     "data": {
      "text/plain": [
       "int"
      ]
     },
     "execution_count": 55,
     "metadata": {},
     "output_type": "execute_result"
    },
    {
     "data": {
      "text/plain": [
       "array([ 0,  1,  2,  3,  4,  5,  6,  7,  8,  9, 10, 11, 12, 13, 14, 15, 16,\n",
       "       17, 18, 19, 20, 21, 22, 23, 24, 25, 26, 27, 28, 29, 30, 31, 32, 33,\n",
       "       34, 35, 36, 37, 38, 39, 40, 41, 42, 43, 44, 45, 46, 47, 48, 49, 50,\n",
       "       51, 52, 53, 54, 55, 56, 57, 58, 59, 60, 61, 62, 63, 64, 65, 66, 67,\n",
       "       68, 69, 70, 71, 72, 73, 74, 75, 76, 77, 78, 79, 80, 81, 82, 83, 84,\n",
       "       85, 86, 87, 88, 89, 90, 91, 92, 93, 94, 95, 96, 97, 98, 99],\n",
       "      dtype=int64)"
      ]
     },
     "execution_count": 55,
     "metadata": {},
     "output_type": "execute_result"
    },
    {
     "data": {
      "text/plain": [
       "(array([], dtype=int64),)"
      ]
     },
     "execution_count": 55,
     "metadata": {},
     "output_type": "execute_result"
    }
   ],
   "source": [
    "#função para mapear os valores das habilidades aos arrays\n",
    "@njit\n",
    "def find(h):\n",
    "    \n",
    "    return np.searchsorted(hvals, h)\n",
    "\n",
    "find(hvals[7])\n",
    "type(find(hvals[7]))\n",
    "\n",
    "find(hvals)\n",
    "\n",
    "#checando se temos valores repetidos\n",
    "count = np.bincount(find(hvals))\n",
    "np.where(count > 1)"
   ]
  },
  {
   "cell_type": "code",
   "execution_count": 56,
   "metadata": {},
   "outputs": [
    {
     "data": {
      "text/plain": [
       "True"
      ]
     },
     "execution_count": 56,
     "metadata": {},
     "output_type": "execute_result"
    },
    {
     "data": {
      "text/plain": [
       "True"
      ]
     },
     "execution_count": 56,
     "metadata": {},
     "output_type": "execute_result"
    }
   ],
   "source": [
    "#array to tell us the size of the pie on next period\n",
    "#period, θk,t+1\n",
    "U = np.zeros((T, grid))\n",
    "\n",
    "U = (hvals[:,None] * V[None,:] - C).T\n",
    "\n",
    "\n",
    "#test\n",
    "U[1,0] == hvals[0] * V[1] - Ct(1)\n",
    "\n",
    "\n",
    "U[2,5] == hvals[5] * V[2] - Ct(2)"
   ]
  },
  {
   "cell_type": "code",
   "execution_count": 57,
   "metadata": {},
   "outputs": [
    {
     "data": {
      "text/plain": [
       "99"
      ]
     },
     "execution_count": 57,
     "metadata": {},
     "output_type": "execute_result"
    }
   ],
   "source": [
    "#função cutoff\n",
    "\n",
    "@njit\n",
    "def cutoff_m(t, Pkt, hkt, lmt, m_W):\n",
    "    \n",
    "    cmt = find(lmt)\n",
    "    \n",
    "    while(Pkt > m_W[t, cmt, cmt, find(hkt)] and hvals[cmt] < hhigh):\n",
    "        cmt += 1\n",
    "            \n",
    "    #returns the index of the cutoff\n",
    "    return max(int32(cmt), find(lmt))\n",
    "\n",
    "\n",
    "cutoff_m(T-1, 0.05, 0.5, 0.4, j_W)"
   ]
  },
  {
   "cell_type": "code",
   "execution_count": 139,
   "metadata": {},
   "outputs": [
    {
     "data": {
      "text/plain": [
       "(0.0, 59, 0.20332358160221173, 0.19392999999999996, 0.20338, 0)"
      ]
     },
     "execution_count": 139,
     "metadata": {},
     "output_type": "execute_result"
    }
   ],
   "source": [
    "#função payoff ótimo\n",
    "\n",
    "#retorna a política ótima também\n",
    "#possible shares of the pie\n",
    "share = np.arange(0, 1.0, step = 0.01)\n",
    "\n",
    "#falta checar de novo as dimensões\n",
    "def Pkt(t, hkt, lmt, k_W, m_W, k_L):\n",
    "    \n",
    "    #grid of payments is the possible continuation values of the opponent\n",
    "#     Pkt_grid = m_W[t, find(lmt):, find(lmt), find(hkt)]\n",
    "\n",
    "    #new grid of payments is the share of the pie tomorrow based on the hability today\n",
    "    Pkt_grid = share * U[t, find(hkt)]\n",
    "    \n",
    "    \n",
    "    cutoffs = int32(np.empty(Pkt_grid.shape))\n",
    "    \n",
    "    #loop for calculating the cutoffs\n",
    "    for i, Pkt in enumerate(Pkt_grid):\n",
    "        cutoffs[i] = cutoff_m(t, Pkt, hkt, lmt, m_W)\n",
    "    \n",
    "#     breakpoint()\n",
    "\n",
    "    #cálculo de E1####\n",
    "    \n",
    "    #pE1[3,6] is the third possible payment combined with the sixth hability above hkt\n",
    "\n",
    "    pE1 = np.array(U[t, None, find(hkt):] - Pkt_grid[:, None])\n",
    "    \n",
    "    \n",
    "    #array com as probabilidades\n",
    "    #probabiilidades de k amanhã dado a habilidade verdadeira hoje\n",
    "    probk = pmf[find(hkt),find(hkt):]\n",
    "\n",
    "    #probabilidade de m amanhã, dado o lower bound hoje\n",
    "    probm = pmf2[find(lmt), find(lmt):]\n",
    "\n",
    "    #tipo de produto de kronecker do wikipedia\n",
    "    #exemplo didático\n",
    "    # c = np.array([[1], [2]])\n",
    "    # d = np.array([[1,2], [3,4]])\n",
    "\n",
    "    # c\n",
    "    # d\n",
    "\n",
    "    # np.outer(c,d)\n",
    "\n",
    "    prob = np.outer(probk,probm)\n",
    "    \n",
    "    #multiplicando pE1 pelo array de probabilidades\n",
    "    pE1 = np.dot(pE1, prob)\n",
    "\n",
    "    #array indicador\n",
    "    IE1 = np.where(m_W[t, find(lmt):, cutoffs, find(hkt)] <= Pkt_grid[:,None] , 1, 0)\n",
    "\n",
    "    #payoff de E1\n",
    "    E1 = np.multiply(pE1, IE1)\n",
    "    \n",
    "    #soma ao longo das colunas (axis = 1) para que cada linha tenha o payoff esperado de propor um pagamento aceitável\n",
    "    E1 = np.sum(E1, axis = 1)\n",
    "    \n",
    "    \n",
    "    # #cálculo de E2####\n",
    "\n",
    "    pE2 = k_W[t, find(hkt):, find(hkt), cutoffs]\n",
    "    \n",
    "    #multiplicando pE2 pelo array de probabilidades\n",
    "    pE2 = np.dot(pE2, prob)\n",
    "    \n",
    "    #array indicador de \n",
    "    IE2 = np.where(IE1 == 1, 0, 1)\n",
    "\n",
    "    \n",
    "    #payoff\n",
    "    E2 = np.multiply(pE2, IE2)\n",
    "    E2 = np.sum(E2, axis = 1)\n",
    "\n",
    "    #matriz dos payoffs####\n",
    "    matrix_payoff = E1 + E2\n",
    "\n",
    "    payoff_reorg = np.max(matrix_payoff)\n",
    "    index = np.argmax(matrix_payoff)\n",
    "\n",
    "    pagamento = Pkt_grid[index]\n",
    "    \n",
    "    \n",
    "    #calculating the optimal policy between liquidating, reorganizing or waiting ####\n",
    "    payoff_liq = k_L(t)\n",
    "    \n",
    "    \n",
    "    \n",
    "    \n",
    "    payoff_wait = np.sum(np.multiply(pmf[find(hkt), find(hkt):], k_W[t, find(hkt):, find(hkt), find(lmt)]))\n",
    "    \n",
    "    \n",
    "    \n",
    "    #tolerance is to avoid problems in the optimal proposal\n",
    "#     tol = float64(1e-10)\n",
    "#     #max(payoff_wait - tol, 0) é para garantir que o payoff de esperar seja pelo menos zero\n",
    "#     payoff_wait = np.max((payoff_wait - tol, 0))\n",
    "    \n",
    "    #0 is liquidating, 1 is wait, 2 is reorg\n",
    "    \n",
    "    \n",
    "    payoff_max = np.max((payoff_liq, payoff_wait, payoff_reorg))\n",
    "    policy = np.argmax((payoff_liq, payoff_wait, payoff_reorg))\n",
    "    \n",
    "                        \n",
    "                         \n",
    "    #retorna o payoff de esperar também para facilitar a verificação do código\n",
    "    return pagamento, cutoffs[index], payoff_reorg, payoff_wait, payoff_max, policy\n",
    "        \n",
    "\n",
    "t, hkt, lmt, k_W, m_W, k_L = T-1, 0.5, 0.6, s_W, j_W, s_L\n",
    "# share * U[t, find(hkt)]\n",
    "\n",
    "Pkt(t, hkt, lmt, k_W, m_W, k_L)\n"
   ]
  },
  {
   "cell_type": "code",
   "execution_count": 147,
   "metadata": {},
   "outputs": [],
   "source": [
    "def Pst(t, θst, ℓjt):\n",
    "    return Pkt(t, θst, ℓjt, s_W, j_W, s_L)\n",
    "\n",
    "\n",
    "def Pjt(t, θjt, ℓst):\n",
    "    return Pkt(t, θjt, ℓst, j_W, s_W, j_L)"
   ]
  },
  {
   "cell_type": "code",
   "execution_count": 148,
   "metadata": {},
   "outputs": [],
   "source": [
    "#populando as matrizes para continuar os testes\n",
    "\n",
    "for h in hvals:\n",
    "    for l in hvals:\n",
    "            Pst_array[t, find(h), find(l), :] = Pst(t, h, l)\n",
    "            Pjt_array[t, find(h), find(l), :] = Pjt(t, h, l)"
   ]
  },
  {
   "cell_type": "code",
   "execution_count": 149,
   "metadata": {},
   "outputs": [
    {
     "data": {
      "text/plain": [
       "array([ True,  True,  True,  True,  True,  True])"
      ]
     },
     "execution_count": 149,
     "metadata": {},
     "output_type": "execute_result"
    }
   ],
   "source": [
    "#checando se populou ok\n",
    "t, h, l = T-1, 0.5, 0.5\n",
    "Pst_array[t, find(h), find(l),:] == Pst(t, h, l)"
   ]
  },
  {
   "cell_type": "code",
   "execution_count": 150,
   "metadata": {},
   "outputs": [
    {
     "data": {
      "text/plain": [
       "(0.20338, 0.0)"
      ]
     },
     "execution_count": 150,
     "metadata": {},
     "output_type": "execute_result"
    }
   ],
   "source": [
    "#função da proposta ótima\n",
    "\n",
    "\n",
    "def propose(t, hkt, lkt, lmt, Pkt_array):\n",
    "    #apenas busca o valor de Pkt\n",
    "    \n",
    "    payoff_max, policy = Pkt_array[t, find(hkt), find(lmt)][-2:]\n",
    "    \n",
    "    return payoff_max, policy\n",
    "\n",
    "#test\n",
    "\n",
    "\n",
    "t, hkt, lkt, lmt, Pkt_array = T-1, 0.5, 0.01, 0.5, Pst_array\n",
    "\n",
    "Pst_array[t, find(hkt), find(lmt), :] = Pkt(t, hkt, lmt, k_W, m_W, k_L)\n",
    "\n",
    "propose(t, hkt, lkt, lmt, Pkt_array)\n"
   ]
  },
  {
   "cell_type": "code",
   "execution_count": 146,
   "metadata": {},
   "outputs": [
    {
     "data": {
      "text/plain": [
       "array([[50, 51, 52, 53, 54, 55, 56, 57, 58, 59, 60, 61, 62, 63, 64, 65,\n",
       "        66, 67, 68, 69, 70, 71, 72, 73, 74, 75, 76, 77, 78, 79, 80, 81,\n",
       "        82, 83, 84, 85, 86, 87, 88, 89, 90, 91, 92, 93, 94, 95, 96, 97,\n",
       "        98, 99]], dtype=int64)"
      ]
     },
     "execution_count": 146,
     "metadata": {},
     "output_type": "execute_result"
    },
    {
     "data": {
      "text/plain": [
       "0.0"
      ]
     },
     "execution_count": 146,
     "metadata": {},
     "output_type": "execute_result"
    },
    {
     "data": {
      "text/plain": [
       "2.0"
      ]
     },
     "execution_count": 146,
     "metadata": {},
     "output_type": "execute_result"
    }
   ],
   "source": [
    "#tentando um negócio com np.where\n",
    "#procura a primeira entrada do vetor de pagamentos do adversário onde a policy (última entrada) é igual a 1\n",
    "\n",
    "np.array(np.where(Pst_array[T-1, :, find(0.5), -1] == 2.0))\n",
    "#então ele diz que a menor habilidade é a de índice 50. Certeiro\n",
    "\n",
    "\n",
    "\n",
    "Pst_array[T-1, 49, find(0.5), -1]\n",
    "\n",
    "Pst_array[T-1, 50, find(0.5), -1]\n"
   ]
  },
  {
   "cell_type": "code",
   "execution_count": 151,
   "metadata": {},
   "outputs": [
    {
     "data": {
      "text/plain": [
       "array([0., 0., 0., 0., 0., 0., 0., 0., 0., 0., 0., 0., 0., 0., 0., 0., 0.,\n",
       "       0., 0., 0., 0., 0., 0., 0., 0., 0., 0., 0., 0., 0., 0., 0., 0., 0.,\n",
       "       0., 0., 0., 0., 0., 0., 0., 0., 0., 0., 0., 0., 0., 0., 0., 0., 2.,\n",
       "       2., 2., 2., 2., 2., 2., 2., 2., 2., 2., 2., 2., 2., 2., 2., 2., 2.,\n",
       "       2., 2., 2., 2., 2., 2., 2., 2., 2., 2., 2., 2., 2., 2., 2., 2., 2.,\n",
       "       2., 2., 2., 2., 2., 2., 2., 2., 2., 2., 2., 2., 2., 2., 2.])"
      ]
     },
     "execution_count": 151,
     "metadata": {},
     "output_type": "execute_result"
    },
    {
     "data": {
      "text/plain": [
       "(0.51, 0.0)"
      ]
     },
     "execution_count": 151,
     "metadata": {},
     "output_type": "execute_result"
    }
   ],
   "source": [
    "#função de threshold\n",
    "\n",
    "def threshold_m(t, lkt, lmt, Pmt_array):\n",
    "    \n",
    "    #procura onde a última entrada é igual a 1, que é a policy de reorganizar a firma\n",
    "    threshold_vector = np.array(np.where(Pmt_array[t, :, find(lkt), -1] == 2.0))\n",
    "    \n",
    "    if(threshold_vector.size == 0):\n",
    "        #threshold does not exist\n",
    "        ts = hhigh #will update lower bound to 1 just to accelerate the calculations\n",
    "        probm_liq = 1.0\n",
    "        \n",
    "    else:\n",
    "        ts = hvals[np.min(threshold_vector)]\n",
    "    \n",
    "        #probability that m will propose liquidation next period\n",
    "        if(lmt >= ts):\n",
    "            probm_liq = 0.0\n",
    "        else:\n",
    "            probm_liq = cdf(ts,lmt)\n",
    "        \n",
    "    #returns the reorganization threshold and the probability that m will propose liquidation in t\n",
    "    return ts, probm_liq\n",
    "    \n",
    "    \n",
    " \n",
    "t, lkt,lmt, Pmt_array = T-1, 0.5,0.51, Pst_array\n",
    "\n",
    "Pmt_array[t, :, find(lkt), -1]\n",
    "\n",
    "threshold_m(t, lkt,lmt,  Pmt_array)"
   ]
  },
  {
   "cell_type": "code",
   "execution_count": 152,
   "metadata": {},
   "outputs": [
    {
     "data": {
      "text/plain": [
       "(0.15896795312038225, 0.18028178662206829)"
      ]
     },
     "execution_count": 152,
     "metadata": {},
     "output_type": "execute_result"
    },
    {
     "data": {
      "text/plain": [
       "(0.0, 49, 0.0, 0.0, 0.0, 0)"
      ]
     },
     "execution_count": 152,
     "metadata": {},
     "output_type": "execute_result"
    }
   ],
   "source": [
    "#payoff esperado de responder a uma proposta de reorganização\n",
    "\n",
    "def respond_reorg(t, hkt, lkt, lmt, Pmt_array, k_W):\n",
    "    ts, probm_liq = threshold_m(t, lkt, lmt, Pmt_array)\n",
    "    \n",
    "    lmt = max(ts, lmt)\n",
    "    \n",
    "    \n",
    "    #the possible values of payment given by the opponent\n",
    "    Pmt_grid = Pmt_array[t, find(lmt):, find(lkt), 0]\n",
    "    cutoffs = Pmt_array[t, find(lmt):, find(lkt), 1]\n",
    "    cutoffs = int32(cutoffs)\n",
    "\n",
    "\n",
    "    #A1### \n",
    "    \n",
    "    #payoff quando receber pagamento é melhor respota\n",
    "    pA1 = Pmt_grid\n",
    "\n",
    "    #ponderação pelas probabilidades\n",
    "    probk = pmf[find(hkt), find(hkt): ]\n",
    "    probm = pmf[find(lmt), find(lmt):]\n",
    "\n",
    "\n",
    "    #primeiro vamos ver a função indicadora\n",
    "    IA1 = np.where(k_W[t, find(hkt):, cutoffs, np.arange(find(lmt), grid, step = 1)].T <= Pmt_grid, 1, 0)\n",
    "\n",
    "    #IA1 tem S linhas e J colunas\n",
    "\n",
    "    #queremos uma matriz de probabiidades com a mesma dimensão\n",
    "    prob = np.outer(probk, probm)\n",
    "\n",
    "    np.multiply(pA1, prob) == np.multiply(pA1[None, :], prob)\n",
    "\n",
    "    pA1 = np.multiply(pA1.T, prob)\n",
    "\n",
    "    A1 = np.multiply(pA1, IA1)\n",
    "\n",
    "    #A2####\n",
    "\n",
    "    IA2 = np.where(IA1 == 1, 0, 1)\n",
    "\n",
    "    pA2 = k_W[t, find(hkt):, cutoffs, np.arange(find(lmt), grid, step = 1)].T\n",
    "\n",
    "    pA2 = np.multiply(pA2, prob)\n",
    "\n",
    "    A2 = np.multiply(pA2, IA2)\n",
    "\n",
    "    payoff = A1 + A2\n",
    "    payoff = np.sum(payoff)\n",
    "\n",
    "    #returns the expected value of answering a reorganization proposal and the probability of liquidation\n",
    "    return payoff * (1-probm_liq), probm_liq\n",
    "\n",
    "\n",
    "t, hkt, lkt, lmt, Pmt_array, k_W = T-1, 0.5, 0.5, 0.5, Pst_array, s_W\n",
    "\n",
    "\n",
    "respond_reorg(t, hkt, lkt, lmt, Pmt_array, k_W)\n",
    "\n",
    "Pjt(t, 0.48, lkt)\n"
   ]
  },
  {
   "cell_type": "code",
   "execution_count": 153,
   "metadata": {},
   "outputs": [
    {
     "data": {
      "text/plain": [
       "0.20338"
      ]
     },
     "execution_count": 153,
     "metadata": {},
     "output_type": "execute_result"
    },
    {
     "data": {
      "text/plain": [
       "0.2033235816022117"
      ]
     },
     "execution_count": 153,
     "metadata": {},
     "output_type": "execute_result"
    }
   ],
   "source": [
    "#payoff esperado de responder a uma proposta de liquidação\n",
    "\n",
    "def respond_liq(t, hkt, lkt, lmt, k_L, m_L):\n",
    "    \n",
    "    #reorganiza pagando o valor de liquidação do oponente\n",
    "    payoff_reorg = np.dot(pmf[find(hkt), find(hkt):], U[t, find(hkt):] - m_L(t))\n",
    "    \n",
    "    payoff_liq = k_L(t)\n",
    "    \n",
    "    return max(payoff_liq, payoff_reorg)\n",
    "\n",
    "t, hkt, lkt, lmt, k_L, m_L = T-1, 0.5, 0.5, 0.5, s_L, j_L\n",
    "\n",
    "respond_liq(t, hkt, lkt, lmt, k_L, m_L)\n",
    "np.dot(pmf[find(hkt), find(hkt):], U[t, find(hkt):] - m_L(t))"
   ]
  },
  {
   "cell_type": "code",
   "execution_count": 154,
   "metadata": {},
   "outputs": [
    {
     "data": {
      "text/plain": [
       "0.03666570976319625"
      ]
     },
     "execution_count": 154,
     "metadata": {},
     "output_type": "execute_result"
    }
   ],
   "source": [
    "#payoff esperado de responder\n",
    "def respond(t, hkt, lkt, lmt, Pmt_array, k_W, k_L, m_L):\n",
    "    \n",
    "    payoff_rreorg, probm_liq = respond_reorg(t, hkt, lkt, lmt, Pmt_array, k_W)\n",
    "    \n",
    "    return payoff_rreorg + probm_liq * respond_liq(t, hkt, lkt, lmt, k_L, m_L)\n",
    "    \n",
    "t, hkt, lkt, lmt, k_L, m_L, Pmt_array, k_W = T-1, 0.5, 0.5, 0.5, s_L, j_L, Pst_array, j_W\n",
    "\n",
    "respond(t, hkt, lkt, lmt, Pmt_array, k_W, k_L, m_L)\n"
   ]
  },
  {
   "cell_type": "code",
   "execution_count": 155,
   "metadata": {},
   "outputs": [],
   "source": [
    "#funções de s baseado nas funções genéricas\n",
    "def Pst(t, θst, ℓjt):\n",
    "    return Pkt(t, θst, ℓjt, s_W, j_W, s_L)\n",
    "\n",
    "def s_propose(t, θst, ℓst, ℓjt):\n",
    "    return propose(t, θst, ℓst, ℓjt, Pst_array)\n",
    "\n",
    "def threshold_j(t, ℓst, ℓjt):\n",
    "    return threshold_m(t, ℓst, ℓjt, Pjt_array)\n",
    "\n",
    "def s_respond_reorg(t, θst, ℓst, ℓjt):\n",
    "    return respond_reorg(t, θst, ℓst, ℓjt, Pjt_array, s_W)\n",
    "\n",
    "def s_respond_liq(t, θst, ℓst, ℓjt):\n",
    "    return respond_liq(t, θst, ℓst, ℓjt, s_L, j_L)\n",
    "    \n",
    "def s_respond(t, θst, ℓst, ℓjt):\n",
    "    return respond(t, θst, ℓst, ℓjt, Pjt_array, s_W, s_L, j_L)\n"
   ]
  },
  {
   "cell_type": "code",
   "execution_count": 156,
   "metadata": {},
   "outputs": [],
   "source": [
    "#funções de j baseado nas funções genéricas\n",
    "def Pjt(t, θjt, ℓst):\n",
    "    return Pkt(t, θjt, ℓst, j_W, s_W, j_L)\n",
    "\n",
    "def j_propose(t, θjt, ℓjt, ℓst):\n",
    "    return propose(t, θjt, ℓjt, ℓst, Pjt_array)\n",
    "\n",
    "def threshold_s(t, ℓjt, ℓst):\n",
    "    return threshold_m(t, ℓjt, ℓst, Pst_array)\n",
    "\n",
    "def j_respond_reorg(t, θjt, ℓjt, ℓst):\n",
    "    return respond_reorg(t, θjt, ℓjt, ℓst, Pst_array, j_W)\n",
    "\n",
    "def j_respond_liq(t, θjt, ℓjt, ℓst):\n",
    "    return respond_liq(t, θjt, ℓjt, ℓst, j_L, s_L)\n",
    "    \n",
    "def j_respond(t, θjt, ℓjt, ℓst):\n",
    "    return respond(t, θjt, ℓjt, ℓst, Pjt_array, s_W, s_L, j_L)"
   ]
  },
  {
   "cell_type": "markdown",
   "metadata": {},
   "source": [
    "### Populando as matrizes do jogo"
   ]
  },
  {
   "cell_type": "markdown",
   "metadata": {},
   "source": [
    "##### 1,2,3 Testando"
   ]
  },
  {
   "cell_type": "code",
   "execution_count": 157,
   "metadata": {},
   "outputs": [
    {
     "name": "stdout",
     "output_type": "stream",
     "text": [
      "tempo total para popular o período 2 : 15.15625\n"
     ]
    }
   ],
   "source": [
    "t = (T-1)\n",
    "\n",
    "\n",
    "start = time.process_time()\n",
    "\n",
    "#populando as matrizes para continuar os testes\n",
    "\n",
    "for h in hvals:\n",
    "    for l in hvals:\n",
    "            Pst_array[t, find(h), find(l), :] = Pst(t, h, l)\n",
    "            Pjt_array[t, find(h), find(l), :] = Pjt(t, h, l)\n",
    "            \n",
    "\n",
    "duração = time.process_time() - start\n",
    "\n",
    "\n",
    "\n",
    "print(\"tempo total para popular o período\", t, \":\",time.process_time() - start)"
   ]
  },
  {
   "cell_type": "code",
   "execution_count": 158,
   "metadata": {},
   "outputs": [],
   "source": [
    "#testando funções\n",
    "t, hkt, lkt, lmt = T-1, 0.6, 0.4, 0.5\n",
    "\n"
   ]
  },
  {
   "cell_type": "code",
   "execution_count": 161,
   "metadata": {},
   "outputs": [
    {
     "data": {
      "text/plain": [
       "(0.24449766514018909, 2.0)"
      ]
     },
     "execution_count": 161,
     "metadata": {},
     "output_type": "execute_result"
    },
    {
     "data": {
      "text/plain": [
       "(0.54, 0.5597775149211878)"
      ]
     },
     "execution_count": 161,
     "metadata": {},
     "output_type": "execute_result"
    },
    {
     "data": {
      "text/plain": [
       "(array([53, 54, 55, 56, 57, 58, 59, 60, 61, 62, 63, 64, 65, 66, 67, 68, 69,\n",
       "        70, 71, 72, 73, 74, 75, 76, 77, 78, 79, 80, 81, 82, 83, 84, 85, 86,\n",
       "        87, 88, 89, 90, 91, 92, 93, 94, 95, 96, 97, 98, 99], dtype=int64),)"
      ]
     },
     "execution_count": 161,
     "metadata": {},
     "output_type": "execute_result"
    },
    {
     "name": "stdout",
     "output_type": "stream",
     "text": [
      "respond_reorg\n"
     ]
    },
    {
     "data": {
      "text/plain": [
       "(0.08582309345891999, 0.5597775149211878)"
      ]
     },
     "execution_count": 161,
     "metadata": {},
     "output_type": "execute_result"
    },
    {
     "data": {
      "text/plain": [
       "0.2444976651401891"
      ]
     },
     "execution_count": 161,
     "metadata": {},
     "output_type": "execute_result"
    },
    {
     "data": {
      "text/plain": [
       "0.20338"
      ]
     },
     "execution_count": 161,
     "metadata": {},
     "output_type": "execute_result"
    },
    {
     "data": {
      "text/plain": [
       "0.2226873888551278"
      ]
     },
     "execution_count": 161,
     "metadata": {},
     "output_type": "execute_result"
    }
   ],
   "source": [
    "s_propose(t, hkt, lkt, lmt)\n",
    "\n",
    "\n",
    "threshold_j(t, ℓkt, ℓmt)\n",
    "np.where(Pjt_array[t, :, find(lkt), -1] == 2)\n",
    "#ok\n",
    "print('respond_reorg')\n",
    "s_respond_reorg(t, hkt, lkt, lmt)\n",
    "\n",
    "#ok, e nesse caso s prefere liquidar a firma mesmo\n",
    "s_respond_liq(t, hkt, lkt, lmt)\n",
    "s_L(t)\n",
    "\n",
    "\n",
    "#ok\n",
    "s_respond(t, hkt, lkt, lmt)\n"
   ]
  },
  {
   "cell_type": "code",
   "execution_count": 162,
   "metadata": {},
   "outputs": [
    {
     "data": {
      "text/plain": [
       "(0.04839270514018911, 2.0)"
      ]
     },
     "execution_count": 162,
     "metadata": {},
     "output_type": "execute_result"
    },
    {
     "data": {
      "text/plain": [
       "(0.51, 0.18028178662206829)"
      ]
     },
     "execution_count": 162,
     "metadata": {},
     "output_type": "execute_result"
    },
    {
     "data": {
      "text/plain": [
       "(array([50, 51, 52, 53, 54, 55, 56, 57, 58, 59, 60, 61, 62, 63, 64, 65, 66,\n",
       "        67, 68, 69, 70, 71, 72, 73, 74, 75, 76, 77, 78, 79, 80, 81, 82, 83,\n",
       "        84, 85, 86, 87, 88, 89, 90, 91, 92, 93, 94, 95, 96, 97, 98, 99],\n",
       "       dtype=int64),)"
      ]
     },
     "execution_count": 162,
     "metadata": {},
     "output_type": "execute_result"
    },
    {
     "name": "stdout",
     "output_type": "stream",
     "text": [
      "respond_reorg\n"
     ]
    },
    {
     "data": {
      "text/plain": [
       "(0.0, 0.18028178662206829)"
      ]
     },
     "execution_count": 162,
     "metadata": {},
     "output_type": "execute_result"
    },
    {
     "data": {
      "text/plain": [
       "0.04111766514018911"
      ]
     },
     "execution_count": 162,
     "metadata": {},
     "output_type": "execute_result"
    },
    {
     "data": {
      "text/plain": [
       "0.0"
      ]
     },
     "execution_count": 162,
     "metadata": {},
     "output_type": "execute_result"
    },
    {
     "data": {
      "text/plain": [
       "0.2226873888551278"
      ]
     },
     "execution_count": 162,
     "metadata": {},
     "output_type": "execute_result"
    }
   ],
   "source": [
    "j_propose(t, hkt, lkt, lmt)\n",
    "\n",
    "\n",
    "#o threshold de ambos é para dar igual mesmo?\n",
    "threshold_s(t, ℓkt, ℓmt)\n",
    "np.where(Pst_array[t, :, find(lkt), -1] == 2)\n",
    "#ok\n",
    "print('respond_reorg')\n",
    "j_respond_reorg(t, hkt, lkt, lmt)\n",
    "\n",
    "#ok, e nesse caso s prefere liquidar a firma mesmo\n",
    "j_respond_liq(t, hkt, lkt, lmt)\n",
    "j_L(t)\n",
    "\n",
    "\n",
    "#ok\n",
    "j_respond(t, hkt, lkt, lmt)"
   ]
  },
  {
   "cell_type": "markdown",
   "metadata": {},
   "source": [
    "#### Populando todos os períodos"
   ]
  },
  {
   "cell_type": "code",
   "execution_count": 163,
   "metadata": {},
   "outputs": [
    {
     "name": "stdout",
     "output_type": "stream",
     "text": [
      "tempo total para preparar o terreno do período 2 : 15.46875\n",
      "tempo total para popular o período 2 : 273.40625\n",
      "tempo total para preparar o terreno do período 1 : 14.53125\n",
      "tempo total para popular o período 1 : 317.53125\n"
     ]
    }
   ],
   "source": [
    "\n",
    "\n",
    "for t in range(T-1, 0, -1):\n",
    "\n",
    "    start = time.process_time()\n",
    "\n",
    "    #populando as matrizes para continuar os testes\n",
    "\n",
    "    for h in hvals:\n",
    "        for l in hvals:\n",
    "                Pst_array[t, find(h), find(l), :] = Pst(t, h, l)\n",
    "                Pjt_array[t, find(h), find(l), :] = Pjt(t, h, l)\n",
    "    print(\"tempo total para preparar o terreno do período\", t, \":\", time.process_time() - start)\n",
    "    \n",
    "    \n",
    "    \n",
    "    for i, hk in enumerate(hvals):\n",
    "        for j, lk in enumerate(hvals):\n",
    "            for k, lm in enumerate(hvals):\n",
    "                s_W[(t-1), i, j, k] = λj * s_respond(t, hk, lk, lm) + (1-λj) * s_propose(t, hk, lk, lm)[0]\n",
    "                j_W[(t-1), i, j, k] = λj * j_propose(t, hk, lk, lm)[0] + (1-λj) * j_respond(t, hk, lk, lm)\n",
    "\n",
    "\n",
    "    duração = time.process_time() - start\n",
    "\n",
    "\n",
    "\n",
    "    print(\"tempo total para popular o período\", t, \":\",time.process_time() - start)"
   ]
  },
  {
   "cell_type": "code",
   "execution_count": 164,
   "metadata": {},
   "outputs": [],
   "source": [
    "#preparando o terreno no período 0 \n",
    "t = 0\n",
    "\n",
    "for h in hvals:\n",
    "        for l in hvals:\n",
    "                Pst_array[t, find(h), find(l), :] = Pst(t, h, l)\n",
    "                Pjt_array[t, find(h), find(l), :] = Pjt(t, h, l)"
   ]
  },
  {
   "cell_type": "code",
   "execution_count": 165,
   "metadata": {},
   "outputs": [
    {
     "data": {
      "text/plain": [
       "(0.0, 49, 0.3889195367017988, 0.3889195367017988, 0.3889195367017988, 1)"
      ]
     },
     "execution_count": 165,
     "metadata": {},
     "output_type": "execute_result"
    },
    {
     "data": {
      "text/plain": [
       "(0.0, 49, 0.30101900322886105, 0.30101900322886105, 0.30101900322886105, 1)"
      ]
     },
     "execution_count": 165,
     "metadata": {},
     "output_type": "execute_result"
    }
   ],
   "source": [
    "#testando funções\n",
    "t, hkt, lkt, lmt = 0, 0.6, 0.4, 0.5\n",
    "\n",
    "Pst(t, hkt, lmt)\n",
    "Pjt(t, hkt, lmt)"
   ]
  },
  {
   "cell_type": "markdown",
   "metadata": {},
   "source": [
    "Salvando os dados"
   ]
  },
  {
   "cell_type": "code",
   "execution_count": 166,
   "metadata": {},
   "outputs": [],
   "source": [
    "import os.path\n",
    "date = '19_10'\n",
    "\n",
    "np.save(os.path.join('Ws_array_'+date), s_W)\n",
    "np.save(os.path.join('Wj_array_'+date), j_W)\n",
    "np.save(os.path.join('Pst_array_'+date), Pst_array)\n",
    "np.save(os.path.join('Pjt_array_'+date), Pjt_array)\n"
   ]
  },
  {
   "cell_type": "markdown",
   "metadata": {},
   "source": [
    "Carregando os dados"
   ]
  },
  {
   "cell_type": "code",
   "execution_count": null,
   "metadata": {},
   "outputs": [],
   "source": [
    "#dia 17_10 foi o último dia com dados errados, ρ = 0.9xxx. Antes de corrigir o threshold\n",
    "#dia 19_10 foi quando consertei o threshold, ρ = 0.5\n",
    "\n",
    "# import os.path\n",
    "# date = '17_10'\n",
    "\n",
    "# s_W = np.load(os.path.join('Ws_array_'+date+'.npy'))\n",
    "# j_W = np.load(os.path.join('Wj_array_'+date+'.npy'))\n",
    "# Pst_array = np.load(os.path.join('Pst_array_'+date+'.npy'))\n",
    "# Pjt_array = np.load(os.path.join('Pjt_array_'+date+'.npy'))\n"
   ]
  },
  {
   "cell_type": "markdown",
   "metadata": {},
   "source": [
    "### Gráfico das funções"
   ]
  },
  {
   "cell_type": "markdown",
   "metadata": {},
   "source": [
    "Gráfico das funções propose e respond"
   ]
  },
  {
   "cell_type": "code",
   "execution_count": 167,
   "metadata": {},
   "outputs": [],
   "source": [
    "def graf_func(θ_vector, t, creditor,  function, ℓkt, ℓmt):\n",
    "    #true hability increases while lower bounds stay at 0.5\n",
    "    #t is also endogenous \n",
    "    \n",
    "    fig, ax = plt.subplots()\n",
    "\n",
    "    #size of X axis\n",
    "    X = θ_vector\n",
    "\n",
    "\n",
    "    #storing the function vals in t\n",
    "    graf_vals = []\n",
    "\n",
    "    for θt in θ_vector:\n",
    "        function_val = function(t, θt, ℓkt, ℓmt)\n",
    "        \n",
    "        #for when we use the propose method, which returns a vector\n",
    "        if(np.isscalar(function_val) == False):\n",
    "            function_val = function_val[0]\n",
    "            \n",
    "\n",
    "        graf_vals.append(function_val)\n",
    "        \n",
    "        \n",
    "#     label_val = repr(function)\n",
    "    title_val = print(function, 'ℓkt = ', ℓkt, 'ℓmt = ', ℓmt)\n",
    "\n",
    "    ax.plot(X, graf_vals, '-k', linewidth = 3, alpha = 0.8)\n",
    "\n",
    "\n",
    "    # ax.yaxis.tick_right()\n",
    "    # ax.yaxis.set_ticks_position('both')\n",
    "\n",
    "    #para mostrar ticks dos dois lados do eixo y\n",
    "\n",
    "\n",
    "\n",
    "    plt.xlabel(\"θt\")\n",
    "    plt.ylabel(\"Value of the function\")\n",
    "\n",
    "    ax.set_title(title_val)\n",
    "\n",
    "    #achei melhor no upper right\n",
    "    ax.legend(loc = 'upper center')\n",
    "    plt.show()"
   ]
  },
  {
   "cell_type": "code",
   "execution_count": 168,
   "metadata": {},
   "outputs": [
    {
     "name": "stderr",
     "output_type": "stream",
     "text": [
      "No handles with labels found to put in legend.\n"
     ]
    },
    {
     "name": "stdout",
     "output_type": "stream",
     "text": [
      "<function s_propose at 0x0000016B6A065D38> ℓkt =  0.5 ℓmt =  0.5\n"
     ]
    },
    {
     "data": {
      "image/png": "[encoded data removed]",
      "text/plain": [
       "<Figure size 432x288 with 1 Axes>"
      ]
     },
     "metadata": {
      "needs_background": "light"
     },
     "output_type": "display_data"
    },
    {
     "name": "stderr",
     "output_type": "stream",
     "text": [
      "No handles with labels found to put in legend.\n"
     ]
    },
    {
     "name": "stdout",
     "output_type": "stream",
     "text": [
      "<function s_propose at 0x0000016B6A065D38> ℓkt =  0.3 ℓmt =  0.9\n"
     ]
    },
    {
     "data": {
      "image/png": "[encoded data removed]",
      "text/plain": [
       "<Figure size 432x288 with 1 Axes>"
      ]
     },
     "metadata": {
      "needs_background": "light"
     },
     "output_type": "display_data"
    }
   ],
   "source": [
    "graf_func(hvals, 0, 's', s_propose, ℓkt = 0.5, ℓmt = 0.5)\n",
    "graf_func(hvals, 0 , 's', s_propose, ℓkt = 0.3, ℓmt = 0.9)"
   ]
  },
  {
   "cell_type": "code",
   "execution_count": 169,
   "metadata": {},
   "outputs": [
    {
     "name": "stderr",
     "output_type": "stream",
     "text": [
      "No handles with labels found to put in legend.\n"
     ]
    },
    {
     "name": "stdout",
     "output_type": "stream",
     "text": [
      "<function s_respond at 0x0000016B6A05FAF8> ℓkt =  0.5 ℓmt =  0.5\n"
     ]
    },
    {
     "data": {
      "image/png": "[encoded data removed]",
      "text/plain": [
       "<Figure size 432x288 with 1 Axes>"
      ]
     },
     "metadata": {
      "needs_background": "light"
     },
     "output_type": "display_data"
    },
    {
     "name": "stderr",
     "output_type": "stream",
     "text": [
      "No handles with labels found to put in legend.\n"
     ]
    },
    {
     "name": "stdout",
     "output_type": "stream",
     "text": [
      "<function s_respond at 0x0000016B6A05FAF8> ℓkt =  0.3 ℓmt =  0.9\n"
     ]
    },
    {
     "data": {
      "image/png": "[encoded data removed]",
      "text/plain": [
       "<Figure size 432x288 with 1 Axes>"
      ]
     },
     "metadata": {
      "needs_background": "light"
     },
     "output_type": "display_data"
    }
   ],
   "source": [
    "graf_func(hvals, 0, 's', s_respond, ℓkt = 0.5, ℓmt = 0.5)\n",
    "graf_func(hvals, 0 , 's', s_respond, ℓkt = 0.3, ℓmt = 0.9)"
   ]
  },
  {
   "cell_type": "markdown",
   "metadata": {},
   "source": [
    "Gráfico do valor de continuação"
   ]
  },
  {
   "cell_type": "code",
   "execution_count": 170,
   "metadata": {},
   "outputs": [
    {
     "name": "stderr",
     "output_type": "stream",
     "text": [
      "No handles with labels found to put in legend.\n"
     ]
    },
    {
     "data": {
      "image/png": "[encoded data removed]",
      "text/plain": [
       "<Figure size 432x288 with 1 Axes>"
      ]
     },
     "metadata": {
      "needs_background": "light"
     },
     "output_type": "display_data"
    },
    {
     "name": "stderr",
     "output_type": "stream",
     "text": [
      "No handles with labels found to put in legend.\n"
     ]
    },
    {
     "data": {
      "image/png": "[encoded data removed]",
      "text/plain": [
       "<Figure size 432x288 with 1 Axes>"
      ]
     },
     "metadata": {
      "needs_background": "light"
     },
     "output_type": "display_data"
    }
   ],
   "source": [
    "def graf_func_value(k_array, ℓkt, ℓmt, t):\n",
    "    #t starts at t=1\n",
    "    \n",
    "    fig, ax = plt.subplots()\n",
    "\n",
    "    #size of X axis\n",
    "    X = hvals\n",
    "\n",
    "\n",
    "    #storing the function vals in t\n",
    "    graf_vals = k_array[(t-1), :, find(ℓkt), find(ℓmt)]\n",
    "\n",
    "\n",
    "    ax.plot(X, graf_vals, '-k', linewidth = 3, alpha = 0.8)\n",
    "    \n",
    "#     name = str(k_array)\n",
    "#     title_val = print(name, 'ℓkt = ', ℓkt, 'ℓmt = ', ℓmt, 'period = ', t)\n",
    "\n",
    "\n",
    "    # ax.yaxis.tick_right()\n",
    "    # ax.yaxis.set_ticks_position('both')\n",
    "\n",
    "    #para mostrar ticks dos dois lados do eixo y\n",
    "\n",
    "\n",
    "\n",
    "    plt.xlabel(\"θt\")\n",
    "    plt.ylabel(\"Value of the function\")\n",
    "\n",
    "\n",
    "    #achei melhor no upper right\n",
    "    ax.legend(loc = 'upper center')\n",
    "    plt.show()\n",
    "    \n",
    "graf_func_value(s_W, ℓkt = 0.01, ℓmt = 0.02, t = 1)\n",
    "\n",
    "graf_func_value(j_W, ℓkt = 0.01, ℓmt = 0.02, t = 1)"
   ]
  },
  {
   "cell_type": "markdown",
   "metadata": {},
   "source": [
    "Gráfico das propostas ótimas"
   ]
  },
  {
   "cell_type": "code",
   "execution_count": 171,
   "metadata": {},
   "outputs": [],
   "source": [
    "\n",
    "def graf_proposal(function, function_name, t, xlabel, ylabel):\n",
    "    \n",
    "\n",
    "    grid_graf = len(hvals)\n",
    "\n",
    "    graf = np.empty((grid_graf, grid_graf))\n",
    "\n",
    "    for i, θs in enumerate(hvals):\n",
    "        for j, lj in enumerate(hvals):\n",
    "            graf[i,j] = function(t, θs, θs, lj)[1]\n",
    "\n",
    "\n",
    "    fig, ax = plt.subplots()\n",
    "\n",
    "    cs1 = ax.contourf(hvals, hvals, graf.T, alpha=0.75)\n",
    "    # ctr1 = ax.contour(hvals, lj_vals, graf1.T)\n",
    "    # plt.clabel(ctr1, inline=1, fontsize=13)\n",
    "    plt.colorbar(cs1, ax = ax)\n",
    "\n",
    "    ax.set_title('Function ' + function_name +   ' in period ' + str(t) )\n",
    "    ax.set_xlabel(xlabel, fontsize=16)\n",
    "    ax.set_ylabel(ylabel, fontsize=16)\n",
    "\n",
    "    ax.ticklabel_format(useOffset=False)\n",
    "\n",
    "\n",
    "    plt.show()"
   ]
  },
  {
   "cell_type": "code",
   "execution_count": 172,
   "metadata": {},
   "outputs": [
    {
     "data": {
      "image/png": "[encoded data removed]",
      "text/plain": [
       "<Figure size 432x288 with 2 Axes>"
      ]
     },
     "metadata": {
      "needs_background": "light"
     },
     "output_type": "display_data"
    },
    {
     "data": {
      "image/png": "[encoded data removed]",
      "text/plain": [
       "<Figure size 432x288 with 2 Axes>"
      ]
     },
     "metadata": {
      "needs_background": "light"
     },
     "output_type": "display_data"
    },
    {
     "data": {
      "image/png": "[encoded data removed]",
      "text/plain": [
       "<Figure size 432x288 with 2 Axes>"
      ]
     },
     "metadata": {
      "needs_background": "light"
     },
     "output_type": "display_data"
    },
    {
     "data": {
      "image/png": "[encoded data removed]",
      "text/plain": [
       "<Figure size 432x288 with 2 Axes>"
      ]
     },
     "metadata": {
      "needs_background": "light"
     },
     "output_type": "display_data"
    }
   ],
   "source": [
    "graf_proposal(s_propose,'s.propose', 0, 'θs', 'ℓj')\n",
    "\n",
    "graf_proposal(s_propose,'s.propose', 1, 'θs', 'ℓj')\n",
    "\n",
    "graf_proposal(j_propose, 'j.propose', 0, 'θj', 'ℓs')\n",
    "graf_proposal(j_propose, 'j.propose', 1, 'θj', 'ℓs')"
   ]
  },
  {
   "cell_type": "markdown",
   "metadata": {},
   "source": [
    "#### Checando função propose nos locais onde ela está estranha"
   ]
  },
  {
   "cell_type": "markdown",
   "metadata": {},
   "source": [
    "Analisando s_propose em t = 0\n",
    "\n"
   ]
  },
  {
   "cell_type": "code",
   "execution_count": 138,
   "metadata": {},
   "outputs": [
    {
     "data": {
      "text/plain": [
       "(-2.7755575615628914e-17, 0, 29)"
      ]
     },
     "execution_count": 138,
     "metadata": {},
     "output_type": "execute_result"
    },
    {
     "data": {
      "text/plain": [
       "(0.0, 0, 30)"
      ]
     },
     "execution_count": 138,
     "metadata": {},
     "output_type": "execute_result"
    },
    {
     "data": {
      "text/plain": [
       "(-2.7755575615628914e-17, 0, 31)"
      ]
     },
     "execution_count": 138,
     "metadata": {},
     "output_type": "execute_result"
    },
    {
     "data": {
      "text/plain": [
       "(2.7755575615628914e-17, 0, 32)"
      ]
     },
     "execution_count": 138,
     "metadata": {},
     "output_type": "execute_result"
    },
    {
     "data": {
      "text/plain": [
       "(0.0, 1, 33)"
      ]
     },
     "execution_count": 138,
     "metadata": {},
     "output_type": "execute_result"
    },
    {
     "data": {
      "text/plain": [
       "(0.0, 1, 34)"
      ]
     },
     "execution_count": 138,
     "metadata": {},
     "output_type": "execute_result"
    },
    {
     "data": {
      "text/plain": [
       "(-5.551115123125783e-17, 2, 35)"
      ]
     },
     "execution_count": 138,
     "metadata": {},
     "output_type": "execute_result"
    },
    {
     "data": {
      "text/plain": [
       "(0.0, 1, 36)"
      ]
     },
     "execution_count": 138,
     "metadata": {},
     "output_type": "execute_result"
    },
    {
     "data": {
      "text/plain": [
       "(-5.551115123125783e-17, 2, 37)"
      ]
     },
     "execution_count": 138,
     "metadata": {},
     "output_type": "execute_result"
    },
    {
     "data": {
      "text/plain": [
       "(-5.551115123125783e-17, 2, 38)"
      ]
     },
     "execution_count": 138,
     "metadata": {},
     "output_type": "execute_result"
    }
   ],
   "source": [
    "t = 0\n",
    "lm = 0.2\n",
    "hk = 0.4\n",
    "\n",
    "for i in range(find(0.3), find(0.4)):\n",
    "    Pst(0, hvals[i], lm )[2] - Pst(0, hvals[i], lm )[3], Pst(0, hvals[i], lm )[-1], i"
   ]
  },
  {
   "cell_type": "code",
   "execution_count": 91,
   "metadata": {},
   "outputs": [
    {
     "data": {
      "text/plain": [
       "(0.20400000000000001,\n",
       " 41,\n",
       " 0.4278979836872835,\n",
       " 0.4087461462512831,\n",
       " 0.4278979836872835,\n",
       " 1)"
      ]
     },
     "execution_count": 91,
     "metadata": {},
     "output_type": "execute_result"
    },
    {
     "data": {
      "text/plain": [
       "(0.222, 46, 0.3985322632488, 0.39625062059876776, 0.3985322632488, 1)"
      ]
     },
     "execution_count": 91,
     "metadata": {},
     "output_type": "execute_result"
    },
    {
     "data": {
      "text/plain": [
       "0.39625062059876776"
      ]
     },
     "execution_count": 91,
     "metadata": {},
     "output_type": "execute_result"
    }
   ],
   "source": [
    "Pst(0, 0.6, 0.2)\n",
    "Pst(0, 0.6, 0.4)\n",
    "\n",
    "t = 0\n",
    "hk = 0.6\n",
    "lm = 0.4\n",
    "np.dot(pmf[find(hk),find(hk):], s_W[t, find(hk):, find(hk), find(lm)])"
   ]
  },
  {
   "cell_type": "code",
   "execution_count": 137,
   "metadata": {},
   "outputs": [
    {
     "data": {
      "text/plain": [
       "(-2.7755575615628914e-17, 29)"
      ]
     },
     "execution_count": 137,
     "metadata": {},
     "output_type": "execute_result"
    },
    {
     "data": {
      "text/plain": [
       "(0.0, 30)"
      ]
     },
     "execution_count": 137,
     "metadata": {},
     "output_type": "execute_result"
    },
    {
     "data": {
      "text/plain": [
       "(-2.7755575615628914e-17, 31)"
      ]
     },
     "execution_count": 137,
     "metadata": {},
     "output_type": "execute_result"
    },
    {
     "data": {
      "text/plain": [
       "(2.7755575615628914e-17, 32)"
      ]
     },
     "execution_count": 137,
     "metadata": {},
     "output_type": "execute_result"
    },
    {
     "data": {
      "text/plain": [
       "(0.0, 33)"
      ]
     },
     "execution_count": 137,
     "metadata": {},
     "output_type": "execute_result"
    },
    {
     "data": {
      "text/plain": [
       "(0.0, 34)"
      ]
     },
     "execution_count": 137,
     "metadata": {},
     "output_type": "execute_result"
    },
    {
     "data": {
      "text/plain": [
       "(-5.551115123125783e-17, 35)"
      ]
     },
     "execution_count": 137,
     "metadata": {},
     "output_type": "execute_result"
    },
    {
     "data": {
      "text/plain": [
       "(0.0, 36)"
      ]
     },
     "execution_count": 137,
     "metadata": {},
     "output_type": "execute_result"
    },
    {
     "data": {
      "text/plain": [
       "(-5.551115123125783e-17, 37)"
      ]
     },
     "execution_count": 137,
     "metadata": {},
     "output_type": "execute_result"
    },
    {
     "data": {
      "text/plain": [
       "(-5.551115123125783e-17, 38)"
      ]
     },
     "execution_count": 137,
     "metadata": {},
     "output_type": "execute_result"
    },
    {
     "data": {
      "text/plain": [
       "(0.0, 39)"
      ]
     },
     "execution_count": 137,
     "metadata": {},
     "output_type": "execute_result"
    },
    {
     "data": {
      "text/plain": [
       "(-5.551115123125783e-17, 40)"
      ]
     },
     "execution_count": 137,
     "metadata": {},
     "output_type": "execute_result"
    },
    {
     "data": {
      "text/plain": [
       "(-5.551115123125783e-17, 41)"
      ]
     },
     "execution_count": 137,
     "metadata": {},
     "output_type": "execute_result"
    },
    {
     "data": {
      "text/plain": [
       "(0.0, 42)"
      ]
     },
     "execution_count": 137,
     "metadata": {},
     "output_type": "execute_result"
    },
    {
     "data": {
      "text/plain": [
       "(-5.551115123125783e-17, 43)"
      ]
     },
     "execution_count": 137,
     "metadata": {},
     "output_type": "execute_result"
    },
    {
     "data": {
      "text/plain": [
       "(0.0, 44)"
      ]
     },
     "execution_count": 137,
     "metadata": {},
     "output_type": "execute_result"
    },
    {
     "data": {
      "text/plain": [
       "(0.0, 45)"
      ]
     },
     "execution_count": 137,
     "metadata": {},
     "output_type": "execute_result"
    },
    {
     "data": {
      "text/plain": [
       "(1.1102230246251565e-16, 46)"
      ]
     },
     "execution_count": 137,
     "metadata": {},
     "output_type": "execute_result"
    },
    {
     "data": {
      "text/plain": [
       "(0.0, 47)"
      ]
     },
     "execution_count": 137,
     "metadata": {},
     "output_type": "execute_result"
    },
    {
     "data": {
      "text/plain": [
       "(-5.551115123125783e-17, 48)"
      ]
     },
     "execution_count": 137,
     "metadata": {},
     "output_type": "execute_result"
    },
    {
     "data": {
      "text/plain": [
       "(0.0016974013949982991, 49)"
      ]
     },
     "execution_count": 137,
     "metadata": {},
     "output_type": "execute_result"
    },
    {
     "data": {
      "text/plain": [
       "(0.0016227680763908903, 50)"
      ]
     },
     "execution_count": 137,
     "metadata": {},
     "output_type": "execute_result"
    },
    {
     "data": {
      "text/plain": [
       "(0.004544825826677312, 51)"
      ]
     },
     "execution_count": 137,
     "metadata": {},
     "output_type": "execute_result"
    },
    {
     "data": {
      "text/plain": [
       "(0.006367291804297015, 52)"
      ]
     },
     "execution_count": 137,
     "metadata": {},
     "output_type": "execute_result"
    },
    {
     "data": {
      "text/plain": [
       "(0.007632204986557201, 53)"
      ]
     },
     "execution_count": 137,
     "metadata": {},
     "output_type": "execute_result"
    },
    {
     "data": {
      "text/plain": [
       "(0.010028998287041568, 54)"
      ]
     },
     "execution_count": 137,
     "metadata": {},
     "output_type": "execute_result"
    },
    {
     "data": {
      "text/plain": [
       "(0.01129597856717951, 55)"
      ]
     },
     "execution_count": 137,
     "metadata": {},
     "output_type": "execute_result"
    },
    {
     "data": {
      "text/plain": [
       "(0.014276310092618871, 56)"
      ]
     },
     "execution_count": 137,
     "metadata": {},
     "output_type": "execute_result"
    },
    {
     "data": {
      "text/plain": [
       "(0.014794958427041649, 57)"
      ]
     },
     "execution_count": 137,
     "metadata": {},
     "output_type": "execute_result"
    },
    {
     "data": {
      "text/plain": [
       "(0.018394817196953017, 58)"
      ]
     },
     "execution_count": 137,
     "metadata": {},
     "output_type": "execute_result"
    }
   ],
   "source": [
    "#diferença na 13ª casa decimal\n",
    "\n",
    "for i in range(find(0.3), find(0.6)):\n",
    "    Pst(0, hvals[i], lm )[2] - Pst(0, hvals[i], lm )[3] , i"
   ]
  },
  {
   "cell_type": "code",
   "execution_count": null,
   "metadata": {},
   "outputs": [],
   "source": []
  }
 ],
 "metadata": {
  "kernelspec": {
   "display_name": "Python 3",
   "language": "python",
   "name": "python3"
  },
  "language_info": {
   "codemirror_mode": {
    "name": "ipython",
    "version": 3
   },
   "file_extension": ".py",
   "mimetype": "text/x-python",
   "name": "python",
   "nbconvert_exporter": "python",
   "pygments_lexer": "ipython3",
   "version": "3.7.6"
  }
 },
 "nbformat": 4,
 "nbformat_minor": 4
}
